{
 "cells": [
  {
   "cell_type": "code",
   "execution_count": 1,
   "metadata": {
    "ExecuteTime": {
     "end_time": "2017-01-31T14:15:52.801526",
     "start_time": "2017-01-31T14:15:51.639950"
    },
    "collapsed": false
   },
   "outputs": [],
   "source": [
    "import numpy as np\n",
    "import pandas as pd\n",
    "import matplotlib.pyplot as plt\n",
    "import seaborn as sns"
   ]
  },
  {
   "cell_type": "markdown",
   "metadata": {},
   "source": [
    "# Generate data"
   ]
  },
  {
   "cell_type": "code",
   "execution_count": 2,
   "metadata": {
    "ExecuteTime": {
     "end_time": "2017-01-31T14:15:52.816711",
     "start_time": "2017-01-31T14:15:52.803883"
    },
    "collapsed": false
   },
   "outputs": [],
   "source": [
    "class Deck():\n",
    "    \"\"\" Create a deck class \"\"\"\n",
    "    \n",
    "    suits = [\"C\", \"D\", \"H\", \"S\"]\n",
    "    values = [2, 3, 4, 5, 6, 7, 8, 9, 10, \"J\", \"Q\", \"K\", \"A\"] \n",
    "    def __init__(self, number=1, suits=suits, values=values):\n",
    "        self.num_decks = number\n",
    "        # We don't need the suits for Black Jack\n",
    "        self.deck = [i for i in values for j in suits for k in range(number)]\n",
    "        \n",
    "    def shuffle_deck(self):\n",
    "        np.random.shuffle(self.deck)\n",
    "        \n",
    "    def deal(self):\n",
    "        return self.deck.pop(0)"
   ]
  },
  {
   "cell_type": "code",
   "execution_count": 3,
   "metadata": {
    "ExecuteTime": {
     "end_time": "2017-01-31T14:15:52.829095",
     "start_time": "2017-01-31T14:15:52.821176"
    },
    "collapsed": false
   },
   "outputs": [
    {
     "data": {
      "text/plain": [
       "[2, 2, 2, 2, 2]"
      ]
     },
     "execution_count": 3,
     "metadata": {},
     "output_type": "execute_result"
    }
   ],
   "source": [
    "test_deck = Deck(2)\n",
    "test_deck.deck[:5]"
   ]
  },
  {
   "cell_type": "code",
   "execution_count": 4,
   "metadata": {
    "ExecuteTime": {
     "end_time": "2017-01-31T14:15:52.869812",
     "start_time": "2017-01-31T14:15:52.832144"
    },
    "collapsed": false
   },
   "outputs": [
    {
     "data": {
      "text/plain": [
       "[4, 8, 8, 4, 6]"
      ]
     },
     "execution_count": 4,
     "metadata": {},
     "output_type": "execute_result"
    }
   ],
   "source": [
    "test_deck.shuffle_deck()\n",
    "test_deck.deck[:5]"
   ]
  },
  {
   "cell_type": "code",
   "execution_count": 5,
   "metadata": {
    "ExecuteTime": {
     "end_time": "2017-01-31T14:15:52.880644",
     "start_time": "2017-01-31T14:15:52.872542"
    },
    "collapsed": false
   },
   "outputs": [
    {
     "data": {
      "text/plain": [
       "4"
      ]
     },
     "execution_count": 5,
     "metadata": {},
     "output_type": "execute_result"
    }
   ],
   "source": [
    "test_deck.deal()"
   ]
  },
  {
   "cell_type": "code",
   "execution_count": 6,
   "metadata": {
    "ExecuteTime": {
     "end_time": "2017-01-31T14:15:52.892276",
     "start_time": "2017-01-31T14:15:52.884339"
    },
    "collapsed": false
   },
   "outputs": [
    {
     "data": {
      "text/plain": [
       "[8, 8, 4, 6, 8]"
      ]
     },
     "execution_count": 6,
     "metadata": {},
     "output_type": "execute_result"
    }
   ],
   "source": [
    "test_deck.deck[:5]"
   ]
  },
  {
   "cell_type": "code",
   "execution_count": 7,
   "metadata": {
    "ExecuteTime": {
     "end_time": "2017-01-31T14:15:52.909581",
     "start_time": "2017-01-31T14:15:52.894906"
    },
    "collapsed": false
   },
   "outputs": [],
   "source": [
    "class play_blackjack():\n",
    "    \"\"\" Play a game of blackjack with just the dealer and one player \"\"\"\n",
    "    def __init__(self):\n",
    "        self.deck = Deck(8)\n",
    "        \n",
    "    def play(self):\n",
    "        self.deck.shuffle_deck()\n",
    "        self.dealer_hand = []\n",
    "        self.player_hand = []\n",
    "        self.dealer_hand.append(self.deck.deck.pop(0))\n",
    "        self.player_hand.append(self.deck.deck.pop(0))\n",
    "        self.dealer_hand.append(self.deck.deck.pop(0))\n",
    "        self.player_hand.append(self.deck.deck.pop(0))\n",
    "        \n",
    "    def hit(self, hand):\n",
    "        hand.append(self.deck.deck.pop(0))"
   ]
  },
  {
   "cell_type": "code",
   "execution_count": 8,
   "metadata": {
    "ExecuteTime": {
     "end_time": "2017-01-31T14:15:52.918728",
     "start_time": "2017-01-31T14:15:52.913505"
    },
    "collapsed": false
   },
   "outputs": [],
   "source": [
    "game = play_blackjack()\n",
    "game.play()"
   ]
  },
  {
   "cell_type": "code",
   "execution_count": 9,
   "metadata": {
    "ExecuteTime": {
     "end_time": "2017-01-31T14:15:52.930730",
     "start_time": "2017-01-31T14:15:52.922128"
    },
    "collapsed": false
   },
   "outputs": [
    {
     "data": {
      "text/plain": [
       "[8, 3]"
      ]
     },
     "execution_count": 9,
     "metadata": {},
     "output_type": "execute_result"
    }
   ],
   "source": [
    "game.dealer_hand"
   ]
  },
  {
   "cell_type": "code",
   "execution_count": 10,
   "metadata": {
    "ExecuteTime": {
     "end_time": "2017-01-31T14:15:52.939441",
     "start_time": "2017-01-31T14:15:52.933271"
    },
    "collapsed": false
   },
   "outputs": [
    {
     "data": {
      "text/plain": [
       "['K', 8]"
      ]
     },
     "execution_count": 10,
     "metadata": {},
     "output_type": "execute_result"
    }
   ],
   "source": [
    "game.player_hand"
   ]
  },
  {
   "cell_type": "code",
   "execution_count": 11,
   "metadata": {
    "ExecuteTime": {
     "end_time": "2017-01-31T14:15:52.948350",
     "start_time": "2017-01-31T14:15:52.942176"
    },
    "collapsed": false
   },
   "outputs": [
    {
     "data": {
      "text/plain": [
       "['K', 8, 3]"
      ]
     },
     "execution_count": 11,
     "metadata": {},
     "output_type": "execute_result"
    }
   ],
   "source": [
    "game.hit(game.player_hand)\n",
    "game.player_hand"
   ]
  },
  {
   "cell_type": "code",
   "execution_count": 12,
   "metadata": {
    "ExecuteTime": {
     "end_time": "2017-01-31T14:15:53.023924",
     "start_time": "2017-01-31T14:15:52.951257"
    },
    "collapsed": false
   },
   "outputs": [],
   "source": [
    "def get_points(hand):\n",
    "    \n",
    "    # We want to track how the Ace was counted, if any\n",
    "    # Whether it was a 1 or 11\n",
    "    # So we want a tuple of (points, Ace_value)\n",
    "    points = (0, 0)\n",
    "    \n",
    "    # replicate the original list\n",
    "    cards = [i for i in hand]\n",
    "    \n",
    "    # If there's an Ace in the hand, take it out first\n",
    "    # And count how many Aces there are\n",
    "    has_A = 0\n",
    "    while \"A\" in cards:\n",
    "        has_A += 1\n",
    "        cards.remove(\"A\")\n",
    "        \n",
    "    # Get total points for all other cards\n",
    "    try:\n",
    "        if len(cards) > 0:\n",
    "            for i in cards:\n",
    "                try:\n",
    "                    points = (points[0] + int(i), 0)\n",
    "                except:\n",
    "                    points = (points[0] + 10, 0)\n",
    "    except:\n",
    "        print (cards)\n",
    "        print (type(cards))\n",
    "    # Deal with the Ace if there was at least one\n",
    "    \n",
    "    for i in range(has_A):\n",
    "        if type(points) == tuple:\n",
    "            if points[0] + 11 <= 21:\n",
    "                points = [(points[0] + 11, 11), (points[0] + 1, 1)]\n",
    "            else:\n",
    "                points = [(points[0] + 1, 1)]\n",
    "        else:\n",
    "            new_points = []\n",
    "            for j in points:\n",
    "                if j[0] + 11 <= 21:\n",
    "                    new_points.extend([(j[0] + 11, 11), (j[0] + 1, 1)])\n",
    "                else:\n",
    "                    new_points.extend([(j[0] + 1, 1)])\n",
    "            points = new_points\n",
    "    \n",
    "    # Now, points could be a list of tuples or a tuple\n",
    "    if type(points) == list:\n",
    "        # Sort the list by number of points in descending order\n",
    "        points.sort(reverse=True)\n",
    "        new_points = [i for i in points if i[0] <= 21]\n",
    "        \n",
    "        try:\n",
    "            if len(new_points) == 0:\n",
    "                # if there are no items in new_points\n",
    "                # return the smallest item\n",
    "                return points[-1]\n",
    "            else:\n",
    "                return new_points[0]\n",
    "        except:\n",
    "            print (new_points)\n",
    "            print (type(new_points))\n",
    "    else:\n",
    "        return points"
   ]
  },
  {
   "cell_type": "code",
   "execution_count": 13,
   "metadata": {
    "ExecuteTime": {
     "end_time": "2017-01-31T14:15:53.032787",
     "start_time": "2017-01-31T14:15:53.026487"
    },
    "collapsed": false
   },
   "outputs": [
    {
     "data": {
      "text/plain": [
       "(29, 1)"
      ]
     },
     "execution_count": 13,
     "metadata": {},
     "output_type": "execute_result"
    }
   ],
   "source": [
    "get_points([\"A\", \"K\", 9, 9])"
   ]
  },
  {
   "cell_type": "code",
   "execution_count": 14,
   "metadata": {
    "ExecuteTime": {
     "end_time": "2017-01-31T14:15:53.119689",
     "start_time": "2017-01-31T14:15:53.035756"
    },
    "collapsed": false
   },
   "outputs": [],
   "source": [
    "def simulate_game(strategy=\"random\"):\n",
    "    game = play_blackjack()\n",
    "    game.play()\n",
    "    dealer_open, dealer_closed = game.dealer_hand\n",
    "    player_card_one, player_card_two = game.player_hand\n",
    "    dealer_original = get_points(game.dealer_hand)[0]\n",
    "    player_original = get_points(game.player_hand)[0]\n",
    "    \n",
    "    dealer_hit = 0\n",
    "    # Check if the dealer needs to hit\n",
    "    dealer = game.dealer_hand\n",
    "    # Dealer hits below 17\n",
    "    while get_points(dealer)[0] < 17:\n",
    "        game.hit(dealer)\n",
    "        dealer_hit += 1\n",
    "    \n",
    "    # If dealer is at 17, check if it's a soft 17\n",
    "    # if yes, hit\n",
    "\n",
    "    if \"A\" in dealer and get_points(dealer)[0] <= 17:\n",
    "        game.hit(dealer)\n",
    "        dealer_hit += 1\n",
    "    \n",
    "    player_hit = 0\n",
    "    player = game.player_hand\n",
    "    \n",
    "    # Change dealer_open to numerical\n",
    "    if dealer_open in [\"J\", \"Q\", \"K\"]:\n",
    "        dealer_open = 10\n",
    "    elif dealer_open == \"A\":\n",
    "        dealer_open = 1\n",
    "        \n",
    "    if strategy == \"random\":\n",
    "        # Randomize it for the player\n",
    "        while get_points(player)[0] < 21:\n",
    "            if np.random.random() <= 0.5:\n",
    "                game.hit(player)\n",
    "                player_hit += 1\n",
    "            else:\n",
    "                break\n",
    "    elif strategy == \"recommended\":\n",
    "        # From lasvegas-how-to.com\n",
    "        # Stand on a hand of 17 or more \n",
    "        # Never hit on 12, 13, 14, 15 or 16 when the dealer is showing 16 or less\n",
    "        # Always split 8's\n",
    "        # Double down on 11 if dealer is showing 17 or less\n",
    "        if dealer_open < 7:\n",
    "#             print (get_points(player)[0])\n",
    "            while get_points(player)[0] < 12:\n",
    "                game.hit(player)\n",
    "#                 print (player)\n",
    "                player_hit += 1\n",
    "        else:\n",
    "            while get_points(player)[0] < 17:\n",
    "                game.hit(player)\n",
    "                player_hit += 1\n",
    "        \n",
    "    dealer_final = get_points(dealer)[0]\n",
    "    player_final = get_points(player)[0]\n",
    "    \n",
    "    dealer_busts = dealer_final > 21\n",
    "    player_busts = player_final > 21\n",
    "    \n",
    "    \n",
    "    player_wins = dealer_busts or (player_final > dealer_final and not player_busts)\n",
    "    \n",
    "    \n",
    "    \n",
    "    return [dealer_open, dealer_closed, dealer_original, dealer_hit, dealer_final, int(dealer_busts), \n",
    "            player_card_one, player_card_two, player_original, player_hit, player_final, int(player_busts), \n",
    "            int(player_wins), strategy]"
   ]
  },
  {
   "cell_type": "code",
   "execution_count": 15,
   "metadata": {
    "ExecuteTime": {
     "end_time": "2017-01-31T14:16:05.346542",
     "start_time": "2017-01-31T14:15:53.122103"
    },
    "collapsed": false
   },
   "outputs": [],
   "source": [
    "ran_strat = [simulate_game() for _ in range(100000)]"
   ]
  },
  {
   "cell_type": "code",
   "execution_count": 16,
   "metadata": {
    "ExecuteTime": {
     "end_time": "2017-01-31T14:16:17.628694",
     "start_time": "2017-01-31T14:16:05.348781"
    },
    "collapsed": false
   },
   "outputs": [],
   "source": [
    "rec_strat = [simulate_game(strategy=\"recommended\") for _ in range(100000)]"
   ]
  },
  {
   "cell_type": "code",
   "execution_count": 17,
   "metadata": {
    "ExecuteTime": {
     "end_time": "2017-01-31T14:16:17.646668",
     "start_time": "2017-01-31T14:16:17.630857"
    },
    "collapsed": false
   },
   "outputs": [
    {
     "data": {
      "text/plain": [
       "[[10, 'J', 20, 0, 20, 0, 9, 6, 15, 0, 15, 0, 0, 'random'],\n",
       " [2, 6, 8, 1, 18, 0, 6, 4, 10, 1, 13, 0, 0, 'random'],\n",
       " [6, 6, 12, 2, 25, 1, 'A', 9, 20, 1, 20, 0, 1, 'random'],\n",
       " [10, 4, 14, 1, 19, 0, 6, 10, 16, 1, 26, 1, 0, 'random'],\n",
       " [10, 'A', 21, 0, 21, 0, 'K', 5, 15, 1, 25, 1, 0, 'random']]"
      ]
     },
     "execution_count": 17,
     "metadata": {},
     "output_type": "execute_result"
    }
   ],
   "source": [
    "data = []\n",
    "data.extend(ran_strat)\n",
    "data.extend(rec_strat)\n",
    "data[:5]"
   ]
  },
  {
   "cell_type": "code",
   "execution_count": 18,
   "metadata": {
    "ExecuteTime": {
     "end_time": "2017-01-31T14:16:18.161392",
     "start_time": "2017-01-31T14:16:17.649469"
    },
    "collapsed": false
   },
   "outputs": [],
   "source": [
    "df = pd.DataFrame(data, columns=[\"dealer_open\", \"dealer_closed\", \n",
    "                               \"dealer_original\", \"dealer_hit\", \n",
    "                               \"dealer_final\", \"dealer_busts\", \n",
    "                               \"player_card_one\", \"player_card_two\", \n",
    "                               \"player_original\", \"player_hit\", \n",
    "                               \"player_final\", \"player_busts\", \n",
    "                               \"player_wins\", \"strategy\"])"
   ]
  },
  {
   "cell_type": "code",
   "execution_count": 19,
   "metadata": {
    "ExecuteTime": {
     "end_time": "2017-01-31T14:16:18.994363",
     "start_time": "2017-01-31T14:16:18.163704"
    },
    "collapsed": false
   },
   "outputs": [],
   "source": [
    "old_data = pd.read_csv(\"blackjack.csv\")\n",
    "df = pd.concat([old_data, df])"
   ]
  },
  {
   "cell_type": "code",
   "execution_count": 20,
   "metadata": {
    "ExecuteTime": {
     "end_time": "2017-01-31T14:16:25.600629",
     "start_time": "2017-01-31T14:16:18.996671"
    },
    "collapsed": false
   },
   "outputs": [],
   "source": [
    "# Save so we can add to it next time\n",
    "df.to_csv(\"blackjack.csv\", index=False)"
   ]
  },
  {
   "cell_type": "code",
   "execution_count": 21,
   "metadata": {
    "ExecuteTime": {
     "end_time": "2017-01-31T14:16:25.609764",
     "start_time": "2017-01-31T14:16:25.602925"
    },
    "collapsed": false
   },
   "outputs": [
    {
     "data": {
      "text/plain": [
       "(600000, 14)"
      ]
     },
     "execution_count": 21,
     "metadata": {},
     "output_type": "execute_result"
    }
   ],
   "source": [
    "df.shape"
   ]
  },
  {
   "cell_type": "code",
   "execution_count": 22,
   "metadata": {
    "ExecuteTime": {
     "end_time": "2017-01-31T14:16:25.666047",
     "start_time": "2017-01-31T14:16:25.614097"
    },
    "collapsed": false
   },
   "outputs": [
    {
     "data": {
      "text/html": [
       "<div>\n",
       "<table border=\"1\" class=\"dataframe\">\n",
       "  <thead>\n",
       "    <tr style=\"text-align: right;\">\n",
       "      <th></th>\n",
       "      <th>dealer_open</th>\n",
       "      <th>dealer_closed</th>\n",
       "      <th>dealer_original</th>\n",
       "      <th>dealer_hit</th>\n",
       "      <th>dealer_final</th>\n",
       "      <th>dealer_busts</th>\n",
       "      <th>player_card_one</th>\n",
       "      <th>player_card_two</th>\n",
       "      <th>player_original</th>\n",
       "      <th>player_hit</th>\n",
       "      <th>player_final</th>\n",
       "      <th>player_busts</th>\n",
       "      <th>player_wins</th>\n",
       "      <th>strategy</th>\n",
       "    </tr>\n",
       "  </thead>\n",
       "  <tbody>\n",
       "    <tr>\n",
       "      <th>0</th>\n",
       "      <td>10</td>\n",
       "      <td>4</td>\n",
       "      <td>14</td>\n",
       "      <td>1</td>\n",
       "      <td>24</td>\n",
       "      <td>1</td>\n",
       "      <td>10</td>\n",
       "      <td>K</td>\n",
       "      <td>20</td>\n",
       "      <td>1</td>\n",
       "      <td>25</td>\n",
       "      <td>1</td>\n",
       "      <td>1</td>\n",
       "      <td>random</td>\n",
       "    </tr>\n",
       "    <tr>\n",
       "      <th>1</th>\n",
       "      <td>2</td>\n",
       "      <td>J</td>\n",
       "      <td>12</td>\n",
       "      <td>1</td>\n",
       "      <td>22</td>\n",
       "      <td>1</td>\n",
       "      <td>10</td>\n",
       "      <td>K</td>\n",
       "      <td>20</td>\n",
       "      <td>0</td>\n",
       "      <td>20</td>\n",
       "      <td>0</td>\n",
       "      <td>1</td>\n",
       "      <td>random</td>\n",
       "    </tr>\n",
       "    <tr>\n",
       "      <th>2</th>\n",
       "      <td>9</td>\n",
       "      <td>10</td>\n",
       "      <td>19</td>\n",
       "      <td>0</td>\n",
       "      <td>19</td>\n",
       "      <td>0</td>\n",
       "      <td>10</td>\n",
       "      <td>A</td>\n",
       "      <td>21</td>\n",
       "      <td>0</td>\n",
       "      <td>21</td>\n",
       "      <td>0</td>\n",
       "      <td>1</td>\n",
       "      <td>random</td>\n",
       "    </tr>\n",
       "    <tr>\n",
       "      <th>3</th>\n",
       "      <td>10</td>\n",
       "      <td>3</td>\n",
       "      <td>13</td>\n",
       "      <td>1</td>\n",
       "      <td>20</td>\n",
       "      <td>0</td>\n",
       "      <td>Q</td>\n",
       "      <td>8</td>\n",
       "      <td>18</td>\n",
       "      <td>0</td>\n",
       "      <td>18</td>\n",
       "      <td>0</td>\n",
       "      <td>0</td>\n",
       "      <td>random</td>\n",
       "    </tr>\n",
       "    <tr>\n",
       "      <th>4</th>\n",
       "      <td>3</td>\n",
       "      <td>7</td>\n",
       "      <td>10</td>\n",
       "      <td>2</td>\n",
       "      <td>26</td>\n",
       "      <td>1</td>\n",
       "      <td>6</td>\n",
       "      <td>8</td>\n",
       "      <td>14</td>\n",
       "      <td>1</td>\n",
       "      <td>24</td>\n",
       "      <td>1</td>\n",
       "      <td>1</td>\n",
       "      <td>random</td>\n",
       "    </tr>\n",
       "  </tbody>\n",
       "</table>\n",
       "</div>"
      ],
      "text/plain": [
       "   dealer_open dealer_closed  dealer_original  dealer_hit  dealer_final  \\\n",
       "0           10             4               14           1            24   \n",
       "1            2             J               12           1            22   \n",
       "2            9            10               19           0            19   \n",
       "3           10             3               13           1            20   \n",
       "4            3             7               10           2            26   \n",
       "\n",
       "   dealer_busts player_card_one player_card_two  player_original  player_hit  \\\n",
       "0             1              10               K               20           1   \n",
       "1             1              10               K               20           0   \n",
       "2             0              10               A               21           0   \n",
       "3             0               Q               8               18           0   \n",
       "4             1               6               8               14           1   \n",
       "\n",
       "   player_final  player_busts  player_wins strategy  \n",
       "0            25             1            1   random  \n",
       "1            20             0            1   random  \n",
       "2            21             0            1   random  \n",
       "3            18             0            0   random  \n",
       "4            24             1            1   random  "
      ]
     },
     "execution_count": 22,
     "metadata": {},
     "output_type": "execute_result"
    }
   ],
   "source": [
    "df.head()"
   ]
  },
  {
   "cell_type": "markdown",
   "metadata": {},
   "source": [
    "# Analyze data"
   ]
  },
  {
   "cell_type": "code",
   "execution_count": 23,
   "metadata": {
    "ExecuteTime": {
     "end_time": "2017-01-31T14:16:35.778399",
     "start_time": "2017-01-31T14:16:34.769802"
    },
    "collapsed": false
   },
   "outputs": [],
   "source": [
    "df = pd.read_csv(\"blackjack.csv\")"
   ]
  },
  {
   "cell_type": "code",
   "execution_count": 29,
   "metadata": {
    "ExecuteTime": {
     "end_time": "2017-01-31T14:19:24.507055",
     "start_time": "2017-01-31T14:19:24.478519"
    },
    "collapsed": false
   },
   "outputs": [
    {
     "data": {
      "text/html": [
       "<div>\n",
       "<table border=\"1\" class=\"dataframe\">\n",
       "  <thead>\n",
       "    <tr style=\"text-align: right;\">\n",
       "      <th></th>\n",
       "      <th>dealer_open</th>\n",
       "      <th>dealer_closed</th>\n",
       "      <th>dealer_original</th>\n",
       "      <th>dealer_hit</th>\n",
       "      <th>dealer_final</th>\n",
       "      <th>dealer_busts</th>\n",
       "      <th>player_card_one</th>\n",
       "      <th>player_card_two</th>\n",
       "      <th>player_original</th>\n",
       "      <th>player_hit</th>\n",
       "      <th>player_final</th>\n",
       "      <th>player_busts</th>\n",
       "      <th>player_wins</th>\n",
       "      <th>strategy</th>\n",
       "    </tr>\n",
       "  </thead>\n",
       "  <tbody>\n",
       "    <tr>\n",
       "      <th>0</th>\n",
       "      <td>10</td>\n",
       "      <td>4</td>\n",
       "      <td>14</td>\n",
       "      <td>1</td>\n",
       "      <td>24</td>\n",
       "      <td>1</td>\n",
       "      <td>10</td>\n",
       "      <td>K</td>\n",
       "      <td>20</td>\n",
       "      <td>1</td>\n",
       "      <td>25</td>\n",
       "      <td>1</td>\n",
       "      <td>1</td>\n",
       "      <td>random</td>\n",
       "    </tr>\n",
       "    <tr>\n",
       "      <th>1</th>\n",
       "      <td>2</td>\n",
       "      <td>J</td>\n",
       "      <td>12</td>\n",
       "      <td>1</td>\n",
       "      <td>22</td>\n",
       "      <td>1</td>\n",
       "      <td>10</td>\n",
       "      <td>K</td>\n",
       "      <td>20</td>\n",
       "      <td>0</td>\n",
       "      <td>20</td>\n",
       "      <td>0</td>\n",
       "      <td>1</td>\n",
       "      <td>random</td>\n",
       "    </tr>\n",
       "    <tr>\n",
       "      <th>2</th>\n",
       "      <td>9</td>\n",
       "      <td>10</td>\n",
       "      <td>19</td>\n",
       "      <td>0</td>\n",
       "      <td>19</td>\n",
       "      <td>0</td>\n",
       "      <td>10</td>\n",
       "      <td>A</td>\n",
       "      <td>21</td>\n",
       "      <td>0</td>\n",
       "      <td>21</td>\n",
       "      <td>0</td>\n",
       "      <td>1</td>\n",
       "      <td>random</td>\n",
       "    </tr>\n",
       "    <tr>\n",
       "      <th>3</th>\n",
       "      <td>10</td>\n",
       "      <td>3</td>\n",
       "      <td>13</td>\n",
       "      <td>1</td>\n",
       "      <td>20</td>\n",
       "      <td>0</td>\n",
       "      <td>Q</td>\n",
       "      <td>8</td>\n",
       "      <td>18</td>\n",
       "      <td>0</td>\n",
       "      <td>18</td>\n",
       "      <td>0</td>\n",
       "      <td>0</td>\n",
       "      <td>random</td>\n",
       "    </tr>\n",
       "    <tr>\n",
       "      <th>4</th>\n",
       "      <td>3</td>\n",
       "      <td>7</td>\n",
       "      <td>10</td>\n",
       "      <td>2</td>\n",
       "      <td>26</td>\n",
       "      <td>1</td>\n",
       "      <td>6</td>\n",
       "      <td>8</td>\n",
       "      <td>14</td>\n",
       "      <td>1</td>\n",
       "      <td>24</td>\n",
       "      <td>1</td>\n",
       "      <td>1</td>\n",
       "      <td>random</td>\n",
       "    </tr>\n",
       "  </tbody>\n",
       "</table>\n",
       "</div>"
      ],
      "text/plain": [
       "   dealer_open dealer_closed  dealer_original  dealer_hit  dealer_final  \\\n",
       "0           10             4               14           1            24   \n",
       "1            2             J               12           1            22   \n",
       "2            9            10               19           0            19   \n",
       "3           10             3               13           1            20   \n",
       "4            3             7               10           2            26   \n",
       "\n",
       "   dealer_busts player_card_one player_card_two  player_original  player_hit  \\\n",
       "0             1              10               K               20           1   \n",
       "1             1              10               K               20           0   \n",
       "2             0              10               A               21           0   \n",
       "3             0               Q               8               18           0   \n",
       "4             1               6               8               14           1   \n",
       "\n",
       "   player_final  player_busts  player_wins strategy  \n",
       "0            25             1            1   random  \n",
       "1            20             0            1   random  \n",
       "2            21             0            1   random  \n",
       "3            18             0            0   random  \n",
       "4            24             1            1   random  "
      ]
     },
     "execution_count": 29,
     "metadata": {},
     "output_type": "execute_result"
    }
   ],
   "source": [
    "df.head()"
   ]
  },
  {
   "cell_type": "markdown",
   "metadata": {},
   "source": [
    "## Comparing strategies"
   ]
  },
  {
   "cell_type": "code",
   "execution_count": 60,
   "metadata": {
    "ExecuteTime": {
     "end_time": "2017-01-31T14:38:45.662457",
     "start_time": "2017-01-31T14:36:37.681388"
    },
    "collapsed": true
   },
   "outputs": [],
   "source": [
    "# Check distribution of wins for random strategy\n",
    "ran = pd.Series([sum([simulate_game(strategy=\"random\")[-2] for _ in range(100)]) for _ in range(10000)])"
   ]
  },
  {
   "cell_type": "code",
   "execution_count": 61,
   "metadata": {
    "ExecuteTime": {
     "end_time": "2017-01-31T14:39:56.056350",
     "start_time": "2017-01-31T14:39:55.464876"
    },
    "collapsed": false
   },
   "outputs": [
    {
     "name": "stderr",
     "output_type": "stream",
     "text": [
      "/Users/joce/anaconda2/envs/Python3/lib/python3.5/site-packages/statsmodels/nonparametric/kdetools.py:20: VisibleDeprecationWarning: using a non-integer number instead of an integer will result in an error in the future\n",
      "  y = X[:m/2+1] + np.r_[0,X[m/2+1:],0]*1j\n"
     ]
    },
    {
     "data": {
      "image/png": "[encoded data removed]",
      "text/plain": [
       "<matplotlib.figure.Figure at 0x111226860>"
      ]
     },
     "metadata": {},
     "output_type": "display_data"
    }
   ],
   "source": [
    "sns.distplot(ran, bins=20);\n",
    "plt.xlabel(\"Number of player wins\");\n",
    "plt.ylabel(\"Number of trials with X number of player wins\");\n",
    "plt.title(\"Numer of player wins on random strategy\");\n",
    "plt.show();"
   ]
  },
  {
   "cell_type": "code",
   "execution_count": 62,
   "metadata": {
    "ExecuteTime": {
     "end_time": "2017-01-31T14:42:18.649963",
     "start_time": "2017-01-31T14:39:57.544002"
    },
    "collapsed": true
   },
   "outputs": [],
   "source": [
    "# Check distribution of wins for recommended strategy\n",
    "rec = pd.Series([sum([simulate_game(strategy=\"recommended\")[-2] for _ in range(100)]) for _ in range(10000)])"
   ]
  },
  {
   "cell_type": "code",
   "execution_count": 63,
   "metadata": {
    "ExecuteTime": {
     "end_time": "2017-01-31T15:07:37.514219",
     "start_time": "2017-01-31T15:07:36.972118"
    },
    "collapsed": false
   },
   "outputs": [
    {
     "name": "stderr",
     "output_type": "stream",
     "text": [
      "/Users/joce/anaconda2/envs/Python3/lib/python3.5/site-packages/statsmodels/nonparametric/kdetools.py:20: VisibleDeprecationWarning: using a non-integer number instead of an integer will result in an error in the future\n",
      "  y = X[:m/2+1] + np.r_[0,X[m/2+1:],0]*1j\n"
     ]
    },
    {
     "data": {
      "image/png": "[encoded data removed]",
      "text/plain": [
       "<matplotlib.figure.Figure at 0x113f69e48>"
      ]
     },
     "metadata": {},
     "output_type": "display_data"
    }
   ],
   "source": [
    "sns.distplot(rec, bins=20);\n",
    "plt.xlabel(\"Number of player wins\");\n",
    "plt.ylabel(\"Number of trials with X number of player wins\");\n",
    "plt.title(\"Numer of player wins on recommended strategy\");\n",
    "plt.show();"
   ]
  },
  {
   "cell_type": "markdown",
   "metadata": {},
   "source": [
    "Notes: Our mean number of wins moves up by about 5% when moving from random to recommended strategy."
   ]
  },
  {
   "cell_type": "code",
   "execution_count": null,
   "metadata": {
    "collapsed": true
   },
   "outputs": [],
   "source": []
  },
  {
   "cell_type": "code",
   "execution_count": null,
   "metadata": {
    "collapsed": true
   },
   "outputs": [],
   "source": []
  },
  {
   "cell_type": "code",
   "execution_count": 24,
   "metadata": {
    "ExecuteTime": {
     "end_time": "2017-01-31T14:16:37.849986",
     "start_time": "2017-01-31T14:16:37.521641"
    },
    "collapsed": false
   },
   "outputs": [
    {
     "data": {
      "text/html": [
       "<div>\n",
       "<table border=\"1\" class=\"dataframe\">\n",
       "  <thead>\n",
       "    <tr style=\"text-align: right;\">\n",
       "      <th></th>\n",
       "      <th>dealer_open</th>\n",
       "      <th>dealer_closed</th>\n",
       "      <th>total</th>\n",
       "      <th>dealer_busts</th>\n",
       "      <th>player_wins</th>\n",
       "    </tr>\n",
       "  </thead>\n",
       "  <tbody>\n",
       "    <tr>\n",
       "      <th>0</th>\n",
       "      <td>1</td>\n",
       "      <td>10</td>\n",
       "      <td>3473</td>\n",
       "      <td>0</td>\n",
       "      <td>0</td>\n",
       "    </tr>\n",
       "    <tr>\n",
       "      <th>1</th>\n",
       "      <td>1</td>\n",
       "      <td>2</td>\n",
       "      <td>3506</td>\n",
       "      <td>1087</td>\n",
       "      <td>1441</td>\n",
       "    </tr>\n",
       "    <tr>\n",
       "      <th>2</th>\n",
       "      <td>1</td>\n",
       "      <td>3</td>\n",
       "      <td>3546</td>\n",
       "      <td>1251</td>\n",
       "      <td>1618</td>\n",
       "    </tr>\n",
       "    <tr>\n",
       "      <th>3</th>\n",
       "      <td>1</td>\n",
       "      <td>4</td>\n",
       "      <td>3555</td>\n",
       "      <td>1279</td>\n",
       "      <td>1633</td>\n",
       "    </tr>\n",
       "    <tr>\n",
       "      <th>4</th>\n",
       "      <td>1</td>\n",
       "      <td>5</td>\n",
       "      <td>3575</td>\n",
       "      <td>1409</td>\n",
       "      <td>1727</td>\n",
       "    </tr>\n",
       "  </tbody>\n",
       "</table>\n",
       "</div>"
      ],
      "text/plain": [
       "   dealer_open dealer_closed  total  dealer_busts  player_wins\n",
       "0            1            10   3473             0            0\n",
       "1            1             2   3506          1087         1441\n",
       "2            1             3   3546          1251         1618\n",
       "3            1             4   3555          1279         1633\n",
       "4            1             5   3575          1409         1727"
      ]
     },
     "execution_count": 24,
     "metadata": {},
     "output_type": "execute_result"
    }
   ],
   "source": [
    "dealer_hands = pd.pivot_table(df, index=[\"dealer_open\", \"dealer_closed\"], \n",
    "                              values=[\"dealer_busts\", \"player_wins\"], aggfunc=[len, sum])\n",
    "dealer_hands.reset_index(inplace=True)\n",
    "dealer_hands.columns = dealer_hands.columns.values\n",
    "del dealer_hands[('len', 'player_wins')]\n",
    "dealer_hands.columns = [\"dealer_open\", \"dealer_closed\", \"total\", \"dealer_busts\", \"player_wins\"]\n",
    "dealer_hands.head()"
   ]
  },
  {
   "cell_type": "code",
   "execution_count": 25,
   "metadata": {
    "ExecuteTime": {
     "end_time": "2017-01-31T14:16:38.854128",
     "start_time": "2017-01-31T14:16:38.498068"
    },
    "collapsed": false
   },
   "outputs": [
    {
     "data": {
      "text/html": [
       "<div>\n",
       "<table border=\"1\" class=\"dataframe\">\n",
       "  <thead>\n",
       "    <tr style=\"text-align: right;\">\n",
       "      <th></th>\n",
       "      <th>player_card_one</th>\n",
       "      <th>player_card_two</th>\n",
       "      <th>player_original</th>\n",
       "      <th>total</th>\n",
       "      <th>player_busts</th>\n",
       "      <th>player_wins</th>\n",
       "    </tr>\n",
       "  </thead>\n",
       "  <tbody>\n",
       "    <tr>\n",
       "      <th>0</th>\n",
       "      <td>10</td>\n",
       "      <td>10</td>\n",
       "      <td>20</td>\n",
       "      <td>3344</td>\n",
       "      <td>767</td>\n",
       "      <td>2038</td>\n",
       "    </tr>\n",
       "    <tr>\n",
       "      <th>1</th>\n",
       "      <td>10</td>\n",
       "      <td>2</td>\n",
       "      <td>12</td>\n",
       "      <td>3593</td>\n",
       "      <td>911</td>\n",
       "      <td>1307</td>\n",
       "    </tr>\n",
       "    <tr>\n",
       "      <th>2</th>\n",
       "      <td>10</td>\n",
       "      <td>3</td>\n",
       "      <td>13</td>\n",
       "      <td>3470</td>\n",
       "      <td>1009</td>\n",
       "      <td>1265</td>\n",
       "    </tr>\n",
       "    <tr>\n",
       "      <th>3</th>\n",
       "      <td>10</td>\n",
       "      <td>4</td>\n",
       "      <td>14</td>\n",
       "      <td>3527</td>\n",
       "      <td>1073</td>\n",
       "      <td>1231</td>\n",
       "    </tr>\n",
       "    <tr>\n",
       "      <th>4</th>\n",
       "      <td>10</td>\n",
       "      <td>5</td>\n",
       "      <td>15</td>\n",
       "      <td>3622</td>\n",
       "      <td>1214</td>\n",
       "      <td>1254</td>\n",
       "    </tr>\n",
       "  </tbody>\n",
       "</table>\n",
       "</div>"
      ],
      "text/plain": [
       "  player_card_one player_card_two  player_original  total  player_busts  \\\n",
       "0              10              10               20   3344           767   \n",
       "1              10               2               12   3593           911   \n",
       "2              10               3               13   3470          1009   \n",
       "3              10               4               14   3527          1073   \n",
       "4              10               5               15   3622          1214   \n",
       "\n",
       "   player_wins  \n",
       "0         2038  \n",
       "1         1307  \n",
       "2         1265  \n",
       "3         1231  \n",
       "4         1254  "
      ]
     },
     "execution_count": 25,
     "metadata": {},
     "output_type": "execute_result"
    }
   ],
   "source": [
    "player_hands = pd.pivot_table(df, index=[\"player_card_one\", \"player_card_two\", \"player_original\"], \n",
    "                              values=[\"player_busts\", \"player_wins\"], aggfunc=[len, sum])\n",
    "player_hands.reset_index(inplace=True)\n",
    "player_hands.columns = player_hands.columns.values\n",
    "del player_hands[('len', 'player_wins')]\n",
    "player_hands.columns = [\"player_card_one\", \"player_card_two\", \"player_original\", \"total\", \"player_busts\", \"player_wins\"]\n",
    "player_hands.head()"
   ]
  },
  {
   "cell_type": "markdown",
   "metadata": {
    "collapsed": false
   },
   "source": [
    "## Dealer"
   ]
  },
  {
   "cell_type": "markdown",
   "metadata": {},
   "source": [
    "We only get to see the dealer's open card, so that's the only one we care about."
   ]
  },
  {
   "cell_type": "code",
   "execution_count": 26,
   "metadata": {
    "ExecuteTime": {
     "end_time": "2017-01-31T14:16:53.704375",
     "start_time": "2017-01-31T14:16:53.674311"
    },
    "collapsed": false
   },
   "outputs": [
    {
     "data": {
      "text/html": [
       "<div>\n",
       "<table border=\"1\" class=\"dataframe\">\n",
       "  <thead>\n",
       "    <tr style=\"text-align: right;\">\n",
       "      <th></th>\n",
       "      <th>dealer_open</th>\n",
       "      <th>total</th>\n",
       "      <th>dealer_busts</th>\n",
       "      <th>player_wins</th>\n",
       "      <th>percent_dealer_busts</th>\n",
       "      <th>percent_player_wins</th>\n",
       "    </tr>\n",
       "  </thead>\n",
       "  <tbody>\n",
       "    <tr>\n",
       "      <th>0</th>\n",
       "      <td>1</td>\n",
       "      <td>45974</td>\n",
       "      <td>5991</td>\n",
       "      <td>10966</td>\n",
       "      <td>0.130313</td>\n",
       "      <td>0.238526</td>\n",
       "    </tr>\n",
       "    <tr>\n",
       "      <th>1</th>\n",
       "      <td>2</td>\n",
       "      <td>46184</td>\n",
       "      <td>17104</td>\n",
       "      <td>22073</td>\n",
       "      <td>0.370345</td>\n",
       "      <td>0.477936</td>\n",
       "    </tr>\n",
       "    <tr>\n",
       "      <th>2</th>\n",
       "      <td>3</td>\n",
       "      <td>46300</td>\n",
       "      <td>17983</td>\n",
       "      <td>22857</td>\n",
       "      <td>0.388402</td>\n",
       "      <td>0.493672</td>\n",
       "    </tr>\n",
       "    <tr>\n",
       "      <th>3</th>\n",
       "      <td>4</td>\n",
       "      <td>46327</td>\n",
       "      <td>18942</td>\n",
       "      <td>23723</td>\n",
       "      <td>0.408876</td>\n",
       "      <td>0.512077</td>\n",
       "    </tr>\n",
       "    <tr>\n",
       "      <th>4</th>\n",
       "      <td>5</td>\n",
       "      <td>45720</td>\n",
       "      <td>19619</td>\n",
       "      <td>24103</td>\n",
       "      <td>0.429112</td>\n",
       "      <td>0.527187</td>\n",
       "    </tr>\n",
       "    <tr>\n",
       "      <th>5</th>\n",
       "      <td>6</td>\n",
       "      <td>46345</td>\n",
       "      <td>20633</td>\n",
       "      <td>25431</td>\n",
       "      <td>0.445204</td>\n",
       "      <td>0.548732</td>\n",
       "    </tr>\n",
       "    <tr>\n",
       "      <th>6</th>\n",
       "      <td>7</td>\n",
       "      <td>45882</td>\n",
       "      <td>12466</td>\n",
       "      <td>22813</td>\n",
       "      <td>0.271697</td>\n",
       "      <td>0.497210</td>\n",
       "    </tr>\n",
       "    <tr>\n",
       "      <th>7</th>\n",
       "      <td>8</td>\n",
       "      <td>46237</td>\n",
       "      <td>11611</td>\n",
       "      <td>21155</td>\n",
       "      <td>0.251119</td>\n",
       "      <td>0.457534</td>\n",
       "    </tr>\n",
       "    <tr>\n",
       "      <th>8</th>\n",
       "      <td>9</td>\n",
       "      <td>46494</td>\n",
       "      <td>11167</td>\n",
       "      <td>19687</td>\n",
       "      <td>0.240182</td>\n",
       "      <td>0.423431</td>\n",
       "    </tr>\n",
       "    <tr>\n",
       "      <th>9</th>\n",
       "      <td>10</td>\n",
       "      <td>184537</td>\n",
       "      <td>40548</td>\n",
       "      <td>67117</td>\n",
       "      <td>0.219728</td>\n",
       "      <td>0.363705</td>\n",
       "    </tr>\n",
       "  </tbody>\n",
       "</table>\n",
       "</div>"
      ],
      "text/plain": [
       "   dealer_open   total  dealer_busts  player_wins  percent_dealer_busts  \\\n",
       "0            1   45974          5991        10966              0.130313   \n",
       "1            2   46184         17104        22073              0.370345   \n",
       "2            3   46300         17983        22857              0.388402   \n",
       "3            4   46327         18942        23723              0.408876   \n",
       "4            5   45720         19619        24103              0.429112   \n",
       "5            6   46345         20633        25431              0.445204   \n",
       "6            7   45882         12466        22813              0.271697   \n",
       "7            8   46237         11611        21155              0.251119   \n",
       "8            9   46494         11167        19687              0.240182   \n",
       "9           10  184537         40548        67117              0.219728   \n",
       "\n",
       "   percent_player_wins  \n",
       "0             0.238526  \n",
       "1             0.477936  \n",
       "2             0.493672  \n",
       "3             0.512077  \n",
       "4             0.527187  \n",
       "5             0.548732  \n",
       "6             0.497210  \n",
       "7             0.457534  \n",
       "8             0.423431  \n",
       "9             0.363705  "
      ]
     },
     "execution_count": 26,
     "metadata": {},
     "output_type": "execute_result"
    }
   ],
   "source": [
    "dealer_open_hand = dealer_hands.groupby(\"dealer_open\").sum().reset_index()\n",
    "dealer_open_hand[\"percent_dealer_busts\"] = dealer_open_hand[\"dealer_busts\"] / dealer_open_hand[\"total\"]\n",
    "dealer_open_hand[\"percent_player_wins\"] = dealer_open_hand[\"player_wins\"] / dealer_open_hand[\"total\"]\n",
    "dealer_open_hand"
   ]
  },
  {
   "cell_type": "code",
   "execution_count": 27,
   "metadata": {
    "ExecuteTime": {
     "end_time": "2017-01-31T14:16:56.239978",
     "start_time": "2017-01-31T14:16:55.742878"
    },
    "collapsed": false
   },
   "outputs": [
    {
     "data": {
      "image/png": "[encoded data removed]",
      "text/plain": [
       "<matplotlib.figure.Figure at 0x10dfb4198>"
      ]
     },
     "metadata": {},
     "output_type": "display_data"
    }
   ],
   "source": [
    "sns.barplot(x=\"dealer_open\", y=\"percent_dealer_busts\", data=dealer_open_hand);\n",
    "plt.show();"
   ]
  },
  {
   "cell_type": "code",
   "execution_count": 28,
   "metadata": {
    "ExecuteTime": {
     "end_time": "2017-01-31T14:17:01.908062",
     "start_time": "2017-01-31T14:17:01.550109"
    },
    "collapsed": false
   },
   "outputs": [
    {
     "data": {
      "image/png": "[encoded data removed]",
      "text/plain": [
       "<matplotlib.figure.Figure at 0x10fd7a6a0>"
      ]
     },
     "metadata": {},
     "output_type": "display_data"
    }
   ],
   "source": [
    "sns.barplot(x=\"dealer_open\", y=\"percent_player_wins\", data=dealer_open_hand);\n",
    "plt.show();"
   ]
  },
  {
   "cell_type": "code",
   "execution_count": null,
   "metadata": {
    "collapsed": false
   },
   "outputs": [],
   "source": []
  }
 ],
 "metadata": {
  "anaconda-cloud": {},
  "kernelspec": {
   "display_name": "Python [conda env:Python3]",
   "language": "python",
   "name": "conda-env-Python3-py"
  },
  "language_info": {
   "codemirror_mode": {
    "name": "ipython",
    "version": 3
   },
   "file_extension": ".py",
   "mimetype": "text/x-python",
   "name": "python",
   "nbconvert_exporter": "python",
   "pygments_lexer": "ipython3",
   "version": "3.5.2"
  },
  "toc": {
   "nav_menu": {
    "height": "12px",
    "width": "252px"
   },
   "navigate_menu": true,
   "number_sections": true,
   "sideBar": true,
   "threshold": 4,
   "toc_cell": false,
   "toc_section_display": "block",
   "toc_window_display": false
  }
 },
 "nbformat": 4,
 "nbformat_minor": 1
}
