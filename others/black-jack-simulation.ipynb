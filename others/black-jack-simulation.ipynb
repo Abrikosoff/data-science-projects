{
 "cells": [
  {
   "cell_type": "code",
   "execution_count": 1,
   "metadata": {
    "ExecuteTime": {
     "end_time": "2017-01-29T16:50:37.813677",
     "start_time": "2017-01-29T16:50:36.054633"
    },
    "collapsed": false
   },
   "outputs": [],
   "source": [
    "import numpy as np\n",
    "import pandas as pd\n",
    "import matplotlib.pyplot as plt\n",
    "import seaborn as sns"
   ]
  },
  {
   "cell_type": "code",
   "execution_count": 2,
   "metadata": {
    "ExecuteTime": {
     "end_time": "2017-01-29T16:50:50.319053",
     "start_time": "2017-01-29T16:50:50.303378"
    },
    "collapsed": false
   },
   "outputs": [],
   "source": [
    "class Deck():\n",
    "    \"\"\" Create a deck class \"\"\"\n",
    "    \n",
    "    suits = [\"C\", \"D\", \"H\", \"S\"]\n",
    "    values = [2, 3, 4, 5, 6, 7, 8, 9, 10, \"J\", \"Q\", \"K\", \"A\"] \n",
    "    def __init__(self, number=1, suits=suits, values=values):\n",
    "        self.num_decks = number\n",
    "        # We don't need the suits for Black Jack\n",
    "        self.deck = [i for i in values for j in suits for k in range(number)]\n",
    "        \n",
    "    def shuffle_deck(self):\n",
    "        np.random.shuffle(self.deck)\n",
    "        \n",
    "    def deal(self):\n",
    "        return self.deck.pop(0)"
   ]
  },
  {
   "cell_type": "code",
   "execution_count": 3,
   "metadata": {
    "ExecuteTime": {
     "end_time": "2017-01-29T16:50:51.391023",
     "start_time": "2017-01-29T16:50:51.379691"
    },
    "collapsed": false
   },
   "outputs": [
    {
     "data": {
      "text/plain": [
       "[2, 2, 2, 2, 2]"
      ]
     },
     "execution_count": 3,
     "metadata": {},
     "output_type": "execute_result"
    }
   ],
   "source": [
    "test_deck = Deck(2)\n",
    "test_deck.deck[:5]"
   ]
  },
  {
   "cell_type": "code",
   "execution_count": 4,
   "metadata": {
    "ExecuteTime": {
     "end_time": "2017-01-29T16:50:51.997698",
     "start_time": "2017-01-29T16:50:51.955511"
    },
    "collapsed": false
   },
   "outputs": [
    {
     "data": {
      "text/plain": [
       "['K', 6, 'Q', 6, 9]"
      ]
     },
     "execution_count": 4,
     "metadata": {},
     "output_type": "execute_result"
    }
   ],
   "source": [
    "test_deck.shuffle_deck()\n",
    "test_deck.deck[:5]"
   ]
  },
  {
   "cell_type": "code",
   "execution_count": 5,
   "metadata": {
    "ExecuteTime": {
     "end_time": "2017-01-29T16:50:53.481929",
     "start_time": "2017-01-29T16:50:53.475840"
    },
    "collapsed": false
   },
   "outputs": [
    {
     "data": {
      "text/plain": [
       "'K'"
      ]
     },
     "execution_count": 5,
     "metadata": {},
     "output_type": "execute_result"
    }
   ],
   "source": [
    "test_deck.deal()"
   ]
  },
  {
   "cell_type": "code",
   "execution_count": 6,
   "metadata": {
    "ExecuteTime": {
     "end_time": "2017-01-29T16:50:55.772153",
     "start_time": "2017-01-29T16:50:55.763858"
    },
    "collapsed": false
   },
   "outputs": [
    {
     "data": {
      "text/plain": [
       "[6, 'Q', 6, 9, 7]"
      ]
     },
     "execution_count": 6,
     "metadata": {},
     "output_type": "execute_result"
    }
   ],
   "source": [
    "test_deck.deck[:5]"
   ]
  },
  {
   "cell_type": "code",
   "execution_count": 7,
   "metadata": {
    "ExecuteTime": {
     "end_time": "2017-01-29T16:51:05.099987",
     "start_time": "2017-01-29T16:51:05.085890"
    },
    "collapsed": false
   },
   "outputs": [],
   "source": [
    "class play_blackjack():\n",
    "    \"\"\" Play a game of blackjack with just the dealer and one player \"\"\"\n",
    "    def __init__(self):\n",
    "        self.deck = Deck(8)\n",
    "        \n",
    "    def play(self):\n",
    "        self.deck.shuffle_deck()\n",
    "        self.dealer_hand = []\n",
    "        self.player_hand = []\n",
    "        self.dealer_hand.append(self.deck.deck.pop(0))\n",
    "        self.player_hand.append(self.deck.deck.pop(0))\n",
    "        self.dealer_hand.append(self.deck.deck.pop(0))\n",
    "        self.player_hand.append(self.deck.deck.pop(0))\n",
    "        \n",
    "    def hit(self, hand):\n",
    "        hand.append(self.deck.deck.pop(0))"
   ]
  },
  {
   "cell_type": "code",
   "execution_count": 13,
   "metadata": {
    "ExecuteTime": {
     "end_time": "2017-01-29T16:51:29.474675",
     "start_time": "2017-01-29T16:51:29.469938"
    },
    "collapsed": false
   },
   "outputs": [],
   "source": [
    "game = play_blackjack()\n",
    "game.play()"
   ]
  },
  {
   "cell_type": "code",
   "execution_count": 14,
   "metadata": {
    "ExecuteTime": {
     "end_time": "2017-01-29T16:51:31.380970",
     "start_time": "2017-01-29T16:51:31.373950"
    },
    "collapsed": false
   },
   "outputs": [
    {
     "data": {
      "text/plain": [
       "['Q', 'Q']"
      ]
     },
     "execution_count": 14,
     "metadata": {},
     "output_type": "execute_result"
    }
   ],
   "source": [
    "game.dealer_hand"
   ]
  },
  {
   "cell_type": "code",
   "execution_count": 15,
   "metadata": {
    "ExecuteTime": {
     "end_time": "2017-01-29T16:51:32.468756",
     "start_time": "2017-01-29T16:51:32.462049"
    },
    "collapsed": false
   },
   "outputs": [
    {
     "data": {
      "text/plain": [
       "[7, 4]"
      ]
     },
     "execution_count": 15,
     "metadata": {},
     "output_type": "execute_result"
    }
   ],
   "source": [
    "game.player_hand"
   ]
  },
  {
   "cell_type": "code",
   "execution_count": 16,
   "metadata": {
    "ExecuteTime": {
     "end_time": "2017-01-29T16:51:34.099910",
     "start_time": "2017-01-29T16:51:34.093342"
    },
    "collapsed": false
   },
   "outputs": [
    {
     "data": {
      "text/plain": [
       "[7, 4, 10]"
      ]
     },
     "execution_count": 16,
     "metadata": {},
     "output_type": "execute_result"
    }
   ],
   "source": [
    "game.hit(game.player_hand)\n",
    "game.player_hand"
   ]
  },
  {
   "cell_type": "code",
   "execution_count": 36,
   "metadata": {
    "ExecuteTime": {
     "end_time": "2017-01-29T17:06:15.332315",
     "start_time": "2017-01-29T17:06:15.278093"
    },
    "collapsed": false
   },
   "outputs": [],
   "source": [
    "def get_points(hand):\n",
    "    \n",
    "    # We want to track how the Ace was counted, if any\n",
    "    # Whether it was a 1 or 11\n",
    "    # So we want a tuple of (points, Ace_value)\n",
    "    points = (0, 0)\n",
    "    \n",
    "    # replicate the original list\n",
    "    cards = [i for i in hand]\n",
    "    \n",
    "    # If there's an Ace in the hand, take it out first\n",
    "    # And count how many Aces there are\n",
    "    has_A = 0\n",
    "    while \"A\" in cards:\n",
    "        has_A += 1\n",
    "        cards.remove(\"A\")\n",
    "        \n",
    "    # Get total points for all other cards\n",
    "    try:\n",
    "        if len(cards) > 0:\n",
    "            for i in cards:\n",
    "                try:\n",
    "                    points = (points[0] + int(i), 0)\n",
    "                except:\n",
    "                    points = (points[0] + 10, 0)\n",
    "    except:\n",
    "        print (cards)\n",
    "        print (type(cards))\n",
    "    # Deal with the Ace if there was at least one\n",
    "    \n",
    "    for i in range(has_A):\n",
    "        if type(points) == tuple:\n",
    "            if points[0] + 11 <= 21:\n",
    "                points = [(points[0] + 11, 11), (points[0] + 1, 1)]\n",
    "            else:\n",
    "                points = [(points[0] + 1, 1)]\n",
    "        else:\n",
    "            new_points = []\n",
    "            for j in points:\n",
    "                if j[0] + 11 <= 21:\n",
    "                    new_points.extend([(j[0] + 11, 11), (j[0] + 1, 1)])\n",
    "                else:\n",
    "                    new_points.extend([(j[0] + 1, 1)])\n",
    "            points = new_points\n",
    "    \n",
    "    # Now, points could be a list of tuples or a tuple\n",
    "    if type(points) == list:\n",
    "        # Sort the list by number of points in descending order\n",
    "        points.sort(reverse=True)\n",
    "        new_points = [i for i in points if i[0] <= 21]\n",
    "        \n",
    "        try:\n",
    "            if len(new_points) == 0:\n",
    "                # if there are no items in new_points\n",
    "                # return the smallest item\n",
    "                return points[-1]\n",
    "            else:\n",
    "                return new_points[0]\n",
    "        except:\n",
    "            print (new_points)\n",
    "            print (type(new_points))\n",
    "    else:\n",
    "        return points"
   ]
  },
  {
   "cell_type": "code",
   "execution_count": 37,
   "metadata": {
    "ExecuteTime": {
     "end_time": "2017-01-29T17:06:15.950401",
     "start_time": "2017-01-29T17:06:15.943963"
    },
    "collapsed": false
   },
   "outputs": [
    {
     "data": {
      "text/plain": [
       "(29, 1)"
      ]
     },
     "execution_count": 37,
     "metadata": {},
     "output_type": "execute_result"
    }
   ],
   "source": [
    "get_points([\"A\", \"K\", 9, 9])"
   ]
  },
  {
   "cell_type": "code",
   "execution_count": 94,
   "metadata": {
    "ExecuteTime": {
     "end_time": "2017-01-29T21:06:51.555583",
     "start_time": "2017-01-29T21:06:51.489517"
    },
    "collapsed": false
   },
   "outputs": [],
   "source": [
    "def simulate_game(strategy=\"random\"):\n",
    "    game = play_blackjack()\n",
    "    game.play()\n",
    "    dealer_open, dealer_closed = game.dealer_hand\n",
    "    player_card_one, player_card_two = game.player_hand\n",
    "    dealer_original = get_points(game.dealer_hand)[0]\n",
    "    player_original = get_points(game.player_hand)[0]\n",
    "    \n",
    "    dealer_hit = 0\n",
    "    # Check if the dealer needs to hit\n",
    "    dealer = game.dealer_hand\n",
    "    # Dealer hits below 17\n",
    "    while get_points(dealer)[0] < 17:\n",
    "        game.hit(dealer)\n",
    "        dealer_hit += 1\n",
    "    \n",
    "    # If dealer is at 17, check if it's a soft 17\n",
    "    # if yes, hit\n",
    "\n",
    "    if \"A\" in dealer and get_points(dealer)[0] <= 17:\n",
    "        game.hit(dealer)\n",
    "        dealer_hit += 1\n",
    "    \n",
    "    player_hit = 0\n",
    "    player = game.player_hand\n",
    "    \n",
    "    # Change dealer_open to numerical\n",
    "    if dealer_open in [\"J\", \"Q\", \"K\"]:\n",
    "        dealer_open = 10\n",
    "    elif dealer_open == \"A\":\n",
    "        dealer_open = get_points(dealer)[1]\n",
    "        \n",
    "    if strategy == \"random\":\n",
    "        # Randomize it for the player\n",
    "        while get_points(player)[0] < 21:\n",
    "            if np.random.random() <= 0.5:\n",
    "                game.hit(player)\n",
    "                player_hit += 1\n",
    "            else:\n",
    "                break\n",
    "    elif strategy == \"recommended\":\n",
    "        # From lasvegas-how-to.com\n",
    "        # Stand on a hand of 17 or more \n",
    "        # Never hit on 12, 13, 14, 15 or 16 when the dealer is showing 16 or less\n",
    "        # Always split 8's\n",
    "        # Double down on 11 if dealer is showing 17 or less\n",
    "        if dealer_open < 7:\n",
    "#             print (get_points(player)[0])\n",
    "            while get_points(player)[0] < 12:\n",
    "                game.hit(player)\n",
    "#                 print (player)\n",
    "                player_hit += 1\n",
    "        else:\n",
    "            while get_points(player)[0] < 17:\n",
    "                game.hit(player)\n",
    "                player_hit += 1\n",
    "        \n",
    "    dealer_final = get_points(dealer)[0]\n",
    "    player_final = get_points(player)[0]\n",
    "    \n",
    "    dealer_busts = dealer_final > 21\n",
    "    player_busts = player_final > 21\n",
    "    \n",
    "    \n",
    "    player_wins = dealer_busts or (player_final > dealer_final and not player_busts)\n",
    "    \n",
    "    \n",
    "    \n",
    "    return [dealer_open, dealer_closed, dealer_original, dealer_hit, dealer_final, int(dealer_busts), \n",
    "            player_card_one, player_card_two, player_original, player_hit, player_final, int(player_busts), int(player_wins)]"
   ]
  },
  {
   "cell_type": "code",
   "execution_count": 69,
   "metadata": {
    "ExecuteTime": {
     "end_time": "2017-01-29T20:35:48.175740",
     "start_time": "2017-01-29T20:15:51.318028"
    },
    "collapsed": false
   },
   "outputs": [],
   "source": [
    "random_strategy_wins = [sum([simulate_game()[-1] for _ in range(1000)]) for _ in range(10000)]"
   ]
  },
  {
   "cell_type": "code",
   "execution_count": 72,
   "metadata": {
    "ExecuteTime": {
     "end_time": "2017-01-29T20:37:27.848597",
     "start_time": "2017-01-29T20:37:27.438707"
    },
    "collapsed": false
   },
   "outputs": [
    {
     "data": {
      "image/png": "[encoded data removed]",
      "text/plain": [
       "<matplotlib.figure.Figure at 0x104baba90>"
      ]
     },
     "metadata": {},
     "output_type": "display_data"
    }
   ],
   "source": [
    "sns.distplot(random_strategy_wins, kde=False);\n",
    "plt.show();"
   ]
  },
  {
   "cell_type": "code",
   "execution_count": 95,
   "metadata": {
    "ExecuteTime": {
     "end_time": "2017-01-29T21:26:13.047952",
     "start_time": "2017-01-29T21:06:55.619554"
    },
    "collapsed": false
   },
   "outputs": [],
   "source": [
    "rec_strategy_wins = [sum([simulate_game(strategy=\"recommended\")[-1] for _ in range(1000)]) for _ in range(10000)]"
   ]
  },
  {
   "cell_type": "code",
   "execution_count": 96,
   "metadata": {
    "ExecuteTime": {
     "end_time": "2017-01-29T21:29:42.938259",
     "start_time": "2017-01-29T21:29:42.505995"
    },
    "collapsed": false
   },
   "outputs": [
    {
     "data": {
      "image/png": "[encoded data removed]",
      "text/plain": [
       "<matplotlib.figure.Figure at 0x10ea4e6d8>"
      ]
     },
     "metadata": {},
     "output_type": "display_data"
    }
   ],
   "source": [
    "sns.distplot(rec_strategy_wins, kde=False);\n",
    "plt.show();"
   ]
  },
  {
   "cell_type": "code",
   "execution_count": 63,
   "metadata": {
    "ExecuteTime": {
     "end_time": "2017-01-29T20:03:36.268736",
     "start_time": "2017-01-29T20:03:24.418437"
    },
    "collapsed": false
   },
   "outputs": [],
   "source": [
    "df = pd.DataFrame([simulate_game() for _ in range(100000)], columns=[\"dealer_open\", \"dealer_closed\", \n",
    "                                                                               \"dealer_original\", \"dealer_hit\", \n",
    "                                                                               \"dealer_final\", \"dealer_busts\", \n",
    "                                                                               \"player_card_one\", \"player_card_two\", \n",
    "                                                                               \"player_original\", \"player_hit\", \n",
    "                                                                               \"player_final\", \"player_busts\", \n",
    "                                                                               \"player_wins\"])"
   ]
  },
  {
   "cell_type": "code",
   "execution_count": 97,
   "metadata": {
    "ExecuteTime": {
     "end_time": "2017-01-29T21:33:22.446541",
     "start_time": "2017-01-29T21:33:22.423948"
    },
    "collapsed": false
   },
   "outputs": [
    {
     "data": {
      "text/html": [
       "<div>\n",
       "<table border=\"1\" class=\"dataframe\">\n",
       "  <thead>\n",
       "    <tr style=\"text-align: right;\">\n",
       "      <th></th>\n",
       "      <th>dealer_open</th>\n",
       "      <th>dealer_closed</th>\n",
       "      <th>dealer_original</th>\n",
       "      <th>dealer_hit</th>\n",
       "      <th>dealer_final</th>\n",
       "      <th>dealer_busts</th>\n",
       "      <th>player_card_one</th>\n",
       "      <th>player_card_two</th>\n",
       "      <th>player_original</th>\n",
       "      <th>player_hit</th>\n",
       "      <th>player_final</th>\n",
       "      <th>player_busts</th>\n",
       "      <th>player_wins</th>\n",
       "    </tr>\n",
       "  </thead>\n",
       "  <tbody>\n",
       "    <tr>\n",
       "      <th>0</th>\n",
       "      <td>6</td>\n",
       "      <td>8</td>\n",
       "      <td>14</td>\n",
       "      <td>1</td>\n",
       "      <td>23</td>\n",
       "      <td>1</td>\n",
       "      <td>Q</td>\n",
       "      <td>6</td>\n",
       "      <td>16</td>\n",
       "      <td>0</td>\n",
       "      <td>16</td>\n",
       "      <td>0</td>\n",
       "      <td>1</td>\n",
       "    </tr>\n",
       "    <tr>\n",
       "      <th>1</th>\n",
       "      <td>6</td>\n",
       "      <td>10</td>\n",
       "      <td>16</td>\n",
       "      <td>1</td>\n",
       "      <td>21</td>\n",
       "      <td>0</td>\n",
       "      <td>Q</td>\n",
       "      <td>2</td>\n",
       "      <td>12</td>\n",
       "      <td>1</td>\n",
       "      <td>20</td>\n",
       "      <td>0</td>\n",
       "      <td>0</td>\n",
       "    </tr>\n",
       "    <tr>\n",
       "      <th>2</th>\n",
       "      <td>11</td>\n",
       "      <td>K</td>\n",
       "      <td>21</td>\n",
       "      <td>0</td>\n",
       "      <td>21</td>\n",
       "      <td>0</td>\n",
       "      <td>4</td>\n",
       "      <td>Q</td>\n",
       "      <td>14</td>\n",
       "      <td>0</td>\n",
       "      <td>14</td>\n",
       "      <td>0</td>\n",
       "      <td>0</td>\n",
       "    </tr>\n",
       "    <tr>\n",
       "      <th>3</th>\n",
       "      <td>2</td>\n",
       "      <td>7</td>\n",
       "      <td>9</td>\n",
       "      <td>2</td>\n",
       "      <td>19</td>\n",
       "      <td>0</td>\n",
       "      <td>7</td>\n",
       "      <td>9</td>\n",
       "      <td>16</td>\n",
       "      <td>2</td>\n",
       "      <td>28</td>\n",
       "      <td>1</td>\n",
       "      <td>0</td>\n",
       "    </tr>\n",
       "    <tr>\n",
       "      <th>4</th>\n",
       "      <td>7</td>\n",
       "      <td>9</td>\n",
       "      <td>16</td>\n",
       "      <td>1</td>\n",
       "      <td>18</td>\n",
       "      <td>0</td>\n",
       "      <td>Q</td>\n",
       "      <td>K</td>\n",
       "      <td>20</td>\n",
       "      <td>0</td>\n",
       "      <td>20</td>\n",
       "      <td>0</td>\n",
       "      <td>1</td>\n",
       "    </tr>\n",
       "  </tbody>\n",
       "</table>\n",
       "</div>"
      ],
      "text/plain": [
       "   dealer_open dealer_closed  dealer_original  dealer_hit  dealer_final  \\\n",
       "0            6             8               14           1            23   \n",
       "1            6            10               16           1            21   \n",
       "2           11             K               21           0            21   \n",
       "3            2             7                9           2            19   \n",
       "4            7             9               16           1            18   \n",
       "\n",
       "   dealer_busts player_card_one player_card_two  player_original  player_hit  \\\n",
       "0             1               Q               6               16           0   \n",
       "1             0               Q               2               12           1   \n",
       "2             0               4               Q               14           0   \n",
       "3             0               7               9               16           2   \n",
       "4             0               Q               K               20           0   \n",
       "\n",
       "   player_final  player_busts  player_wins  \n",
       "0            16             0            1  \n",
       "1            20             0            0  \n",
       "2            14             0            0  \n",
       "3            28             1            0  \n",
       "4            20             0            1  "
      ]
     },
     "execution_count": 97,
     "metadata": {},
     "output_type": "execute_result"
    }
   ],
   "source": [
    "df.head()"
   ]
  },
  {
   "cell_type": "code",
   "execution_count": 100,
   "metadata": {
    "ExecuteTime": {
     "end_time": "2017-01-29T21:34:02.539627",
     "start_time": "2017-01-29T21:34:02.404675"
    },
    "collapsed": false
   },
   "outputs": [
    {
     "data": {
      "text/html": [
       "<div>\n",
       "<table border=\"1\" class=\"dataframe\">\n",
       "  <thead>\n",
       "    <tr>\n",
       "      <th></th>\n",
       "      <th>dealer_open</th>\n",
       "      <th>dealer_closed</th>\n",
       "      <th colspan=\"2\" halign=\"left\">len</th>\n",
       "      <th colspan=\"2\" halign=\"left\">sum</th>\n",
       "    </tr>\n",
       "    <tr>\n",
       "      <th></th>\n",
       "      <th></th>\n",
       "      <th></th>\n",
       "      <th>dealer_busts</th>\n",
       "      <th>player_wins</th>\n",
       "      <th>dealer_busts</th>\n",
       "      <th>player_wins</th>\n",
       "    </tr>\n",
       "  </thead>\n",
       "  <tbody>\n",
       "    <tr>\n",
       "      <th>0</th>\n",
       "      <td>1</td>\n",
       "      <td>2</td>\n",
       "      <td>323</td>\n",
       "      <td>323</td>\n",
       "      <td>172</td>\n",
       "      <td>196</td>\n",
       "    </tr>\n",
       "    <tr>\n",
       "      <th>1</th>\n",
       "      <td>1</td>\n",
       "      <td>3</td>\n",
       "      <td>359</td>\n",
       "      <td>359</td>\n",
       "      <td>183</td>\n",
       "      <td>215</td>\n",
       "    </tr>\n",
       "    <tr>\n",
       "      <th>2</th>\n",
       "      <td>1</td>\n",
       "      <td>4</td>\n",
       "      <td>369</td>\n",
       "      <td>369</td>\n",
       "      <td>212</td>\n",
       "      <td>236</td>\n",
       "    </tr>\n",
       "    <tr>\n",
       "      <th>3</th>\n",
       "      <td>1</td>\n",
       "      <td>5</td>\n",
       "      <td>404</td>\n",
       "      <td>404</td>\n",
       "      <td>237</td>\n",
       "      <td>261</td>\n",
       "    </tr>\n",
       "    <tr>\n",
       "      <th>4</th>\n",
       "      <td>1</td>\n",
       "      <td>6</td>\n",
       "      <td>435</td>\n",
       "      <td>435</td>\n",
       "      <td>0</td>\n",
       "      <td>164</td>\n",
       "    </tr>\n",
       "  </tbody>\n",
       "</table>\n",
       "</div>"
      ],
      "text/plain": [
       "  dealer_open dealer_closed          len                      sum            \n",
       "                            dealer_busts player_wins dealer_busts player_wins\n",
       "0           1             2          323         323          172         196\n",
       "1           1             3          359         359          183         215\n",
       "2           1             4          369         369          212         236\n",
       "3           1             5          404         404          237         261\n",
       "4           1             6          435         435            0         164"
      ]
     },
     "execution_count": 100,
     "metadata": {},
     "output_type": "execute_result"
    }
   ],
   "source": [
    "dealer_hands = pd.pivot_table(df, index=[\"dealer_open\", \"dealer_closed\"], values=[\"dealer_busts\", \"player_wins\"], aggfunc=[len, sum])\n",
    "dealer_hands.reset_index(inplace=True)\n",
    "dealer_hands.head()"
   ]
  },
  {
   "cell_type": "code",
   "execution_count": 99,
   "metadata": {
    "ExecuteTime": {
     "end_time": "2017-01-29T21:33:29.272902",
     "start_time": "2017-01-29T21:33:29.111830"
    },
    "collapsed": false
   },
   "outputs": [
    {
     "data": {
      "text/html": [
       "<div>\n",
       "<table border=\"1\" class=\"dataframe\">\n",
       "  <thead>\n",
       "    <tr style=\"text-align: right;\">\n",
       "      <th></th>\n",
       "      <th>player_card_one</th>\n",
       "      <th>player_card_two</th>\n",
       "      <th>player_busts</th>\n",
       "      <th>player_wins</th>\n",
       "    </tr>\n",
       "  </thead>\n",
       "  <tbody>\n",
       "    <tr>\n",
       "      <th>0</th>\n",
       "      <td>2</td>\n",
       "      <td>2</td>\n",
       "      <td>62</td>\n",
       "      <td>197</td>\n",
       "    </tr>\n",
       "    <tr>\n",
       "      <th>1</th>\n",
       "      <td>2</td>\n",
       "      <td>3</td>\n",
       "      <td>89</td>\n",
       "      <td>167</td>\n",
       "    </tr>\n",
       "    <tr>\n",
       "      <th>2</th>\n",
       "      <td>2</td>\n",
       "      <td>4</td>\n",
       "      <td>76</td>\n",
       "      <td>194</td>\n",
       "    </tr>\n",
       "    <tr>\n",
       "      <th>3</th>\n",
       "      <td>2</td>\n",
       "      <td>5</td>\n",
       "      <td>79</td>\n",
       "      <td>201</td>\n",
       "    </tr>\n",
       "    <tr>\n",
       "      <th>4</th>\n",
       "      <td>2</td>\n",
       "      <td>6</td>\n",
       "      <td>93</td>\n",
       "      <td>193</td>\n",
       "    </tr>\n",
       "  </tbody>\n",
       "</table>\n",
       "</div>"
      ],
      "text/plain": [
       "  player_card_one player_card_two  player_busts  player_wins\n",
       "0               2               2            62          197\n",
       "1               2               3            89          167\n",
       "2               2               4            76          194\n",
       "3               2               5            79          201\n",
       "4               2               6            93          193"
      ]
     },
     "execution_count": 99,
     "metadata": {},
     "output_type": "execute_result"
    }
   ],
   "source": [
    "player_hands = pd.pivot_table(df, index=[\"player_card_one\", \"player_card_two\"], values=[\"player_busts\", \"player_wins\"], aggfunc=sum)\n",
    "player_hands.reset_index(inplace=True)\n",
    "player_hands.head()"
   ]
  },
  {
   "cell_type": "code",
   "execution_count": null,
   "metadata": {
    "collapsed": false
   },
   "outputs": [],
   "source": []
  }
 ],
 "metadata": {
  "anaconda-cloud": {},
  "kernelspec": {
   "display_name": "Python [conda env:Python3]",
   "language": "python",
   "name": "conda-env-Python3-py"
  },
  "language_info": {
   "codemirror_mode": {
    "name": "ipython",
    "version": 3
   },
   "file_extension": ".py",
   "mimetype": "text/x-python",
   "name": "python",
   "nbconvert_exporter": "python",
   "pygments_lexer": "ipython3",
   "version": "3.5.2"
  },
  "toc": {
   "nav_menu": {
    "height": "12px",
    "width": "252px"
   },
   "navigate_menu": true,
   "number_sections": true,
   "sideBar": true,
   "threshold": 4,
   "toc_cell": false,
   "toc_section_display": "block",
   "toc_window_display": false
  }
 },
 "nbformat": 4,
 "nbformat_minor": 1
}
