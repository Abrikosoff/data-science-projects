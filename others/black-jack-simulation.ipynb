{
 "cells": [
  {
   "cell_type": "code",
   "execution_count": 1,
   "metadata": {
    "ExecuteTime": {
     "end_time": "2017-01-30T15:12:18.616198",
     "start_time": "2017-01-30T15:12:17.447413"
    },
    "collapsed": false
   },
   "outputs": [],
   "source": [
    "import numpy as np\n",
    "import pandas as pd\n",
    "import matplotlib.pyplot as plt\n",
    "import seaborn as sns"
   ]
  },
  {
   "cell_type": "markdown",
   "metadata": {},
   "source": [
    "# Generate data"
   ]
  },
  {
   "cell_type": "code",
   "execution_count": 2,
   "metadata": {
    "ExecuteTime": {
     "end_time": "2017-01-30T15:12:19.102119",
     "start_time": "2017-01-30T15:12:19.087497"
    },
    "collapsed": false
   },
   "outputs": [],
   "source": [
    "class Deck():\n",
    "    \"\"\" Create a deck class \"\"\"\n",
    "    \n",
    "    suits = [\"C\", \"D\", \"H\", \"S\"]\n",
    "    values = [2, 3, 4, 5, 6, 7, 8, 9, 10, \"J\", \"Q\", \"K\", \"A\"] \n",
    "    def __init__(self, number=1, suits=suits, values=values):\n",
    "        self.num_decks = number\n",
    "        # We don't need the suits for Black Jack\n",
    "        self.deck = [i for i in values for j in suits for k in range(number)]\n",
    "        \n",
    "    def shuffle_deck(self):\n",
    "        np.random.shuffle(self.deck)\n",
    "        \n",
    "    def deal(self):\n",
    "        return self.deck.pop(0)"
   ]
  },
  {
   "cell_type": "code",
   "execution_count": 3,
   "metadata": {
    "ExecuteTime": {
     "end_time": "2017-01-30T15:12:19.878610",
     "start_time": "2017-01-30T15:12:19.870255"
    },
    "collapsed": false
   },
   "outputs": [
    {
     "data": {
      "text/plain": [
       "[2, 2, 2, 2, 2]"
      ]
     },
     "execution_count": 3,
     "metadata": {},
     "output_type": "execute_result"
    }
   ],
   "source": [
    "test_deck = Deck(2)\n",
    "test_deck.deck[:5]"
   ]
  },
  {
   "cell_type": "code",
   "execution_count": 4,
   "metadata": {
    "ExecuteTime": {
     "end_time": "2017-01-30T15:12:20.641759",
     "start_time": "2017-01-30T15:12:20.607249"
    },
    "collapsed": false
   },
   "outputs": [
    {
     "data": {
      "text/plain": [
       "[6, 'K', 10, 9, 'J']"
      ]
     },
     "execution_count": 4,
     "metadata": {},
     "output_type": "execute_result"
    }
   ],
   "source": [
    "test_deck.shuffle_deck()\n",
    "test_deck.deck[:5]"
   ]
  },
  {
   "cell_type": "code",
   "execution_count": 5,
   "metadata": {
    "ExecuteTime": {
     "end_time": "2017-01-30T15:12:21.312030",
     "start_time": "2017-01-30T15:12:21.304747"
    },
    "collapsed": false
   },
   "outputs": [
    {
     "data": {
      "text/plain": [
       "6"
      ]
     },
     "execution_count": 5,
     "metadata": {},
     "output_type": "execute_result"
    }
   ],
   "source": [
    "test_deck.deal()"
   ]
  },
  {
   "cell_type": "code",
   "execution_count": 6,
   "metadata": {
    "ExecuteTime": {
     "end_time": "2017-01-30T15:12:21.888115",
     "start_time": "2017-01-30T15:12:21.880889"
    },
    "collapsed": false
   },
   "outputs": [
    {
     "data": {
      "text/plain": [
       "['K', 10, 9, 'J', 'J']"
      ]
     },
     "execution_count": 6,
     "metadata": {},
     "output_type": "execute_result"
    }
   ],
   "source": [
    "test_deck.deck[:5]"
   ]
  },
  {
   "cell_type": "code",
   "execution_count": 7,
   "metadata": {
    "ExecuteTime": {
     "end_time": "2017-01-30T15:12:22.596806",
     "start_time": "2017-01-30T15:12:22.584457"
    },
    "collapsed": false
   },
   "outputs": [],
   "source": [
    "class play_blackjack():\n",
    "    \"\"\" Play a game of blackjack with just the dealer and one player \"\"\"\n",
    "    def __init__(self):\n",
    "        self.deck = Deck(8)\n",
    "        \n",
    "    def play(self):\n",
    "        self.deck.shuffle_deck()\n",
    "        self.dealer_hand = []\n",
    "        self.player_hand = []\n",
    "        self.dealer_hand.append(self.deck.deck.pop(0))\n",
    "        self.player_hand.append(self.deck.deck.pop(0))\n",
    "        self.dealer_hand.append(self.deck.deck.pop(0))\n",
    "        self.player_hand.append(self.deck.deck.pop(0))\n",
    "        \n",
    "    def hit(self, hand):\n",
    "        hand.append(self.deck.deck.pop(0))"
   ]
  },
  {
   "cell_type": "code",
   "execution_count": 8,
   "metadata": {
    "ExecuteTime": {
     "end_time": "2017-01-30T15:12:23.230607",
     "start_time": "2017-01-30T15:12:23.225001"
    },
    "collapsed": false
   },
   "outputs": [],
   "source": [
    "game = play_blackjack()\n",
    "game.play()"
   ]
  },
  {
   "cell_type": "code",
   "execution_count": 9,
   "metadata": {
    "ExecuteTime": {
     "end_time": "2017-01-30T15:12:23.621878",
     "start_time": "2017-01-30T15:12:23.616226"
    },
    "collapsed": false
   },
   "outputs": [
    {
     "data": {
      "text/plain": [
       "[2, 'Q']"
      ]
     },
     "execution_count": 9,
     "metadata": {},
     "output_type": "execute_result"
    }
   ],
   "source": [
    "game.dealer_hand"
   ]
  },
  {
   "cell_type": "code",
   "execution_count": 10,
   "metadata": {
    "ExecuteTime": {
     "end_time": "2017-01-30T15:12:23.956179",
     "start_time": "2017-01-30T15:12:23.950201"
    },
    "collapsed": false
   },
   "outputs": [
    {
     "data": {
      "text/plain": [
       "[4, 'Q']"
      ]
     },
     "execution_count": 10,
     "metadata": {},
     "output_type": "execute_result"
    }
   ],
   "source": [
    "game.player_hand"
   ]
  },
  {
   "cell_type": "code",
   "execution_count": 11,
   "metadata": {
    "ExecuteTime": {
     "end_time": "2017-01-30T15:12:24.260221",
     "start_time": "2017-01-30T15:12:24.253763"
    },
    "collapsed": false
   },
   "outputs": [
    {
     "data": {
      "text/plain": [
       "[4, 'Q', 'J']"
      ]
     },
     "execution_count": 11,
     "metadata": {},
     "output_type": "execute_result"
    }
   ],
   "source": [
    "game.hit(game.player_hand)\n",
    "game.player_hand"
   ]
  },
  {
   "cell_type": "code",
   "execution_count": 12,
   "metadata": {
    "ExecuteTime": {
     "end_time": "2017-01-30T15:12:24.562335",
     "start_time": "2017-01-30T15:12:24.509886"
    },
    "collapsed": false
   },
   "outputs": [],
   "source": [
    "def get_points(hand):\n",
    "    \n",
    "    # We want to track how the Ace was counted, if any\n",
    "    # Whether it was a 1 or 11\n",
    "    # So we want a tuple of (points, Ace_value)\n",
    "    points = (0, 0)\n",
    "    \n",
    "    # replicate the original list\n",
    "    cards = [i for i in hand]\n",
    "    \n",
    "    # If there's an Ace in the hand, take it out first\n",
    "    # And count how many Aces there are\n",
    "    has_A = 0\n",
    "    while \"A\" in cards:\n",
    "        has_A += 1\n",
    "        cards.remove(\"A\")\n",
    "        \n",
    "    # Get total points for all other cards\n",
    "    try:\n",
    "        if len(cards) > 0:\n",
    "            for i in cards:\n",
    "                try:\n",
    "                    points = (points[0] + int(i), 0)\n",
    "                except:\n",
    "                    points = (points[0] + 10, 0)\n",
    "    except:\n",
    "        print (cards)\n",
    "        print (type(cards))\n",
    "    # Deal with the Ace if there was at least one\n",
    "    \n",
    "    for i in range(has_A):\n",
    "        if type(points) == tuple:\n",
    "            if points[0] + 11 <= 21:\n",
    "                points = [(points[0] + 11, 11), (points[0] + 1, 1)]\n",
    "            else:\n",
    "                points = [(points[0] + 1, 1)]\n",
    "        else:\n",
    "            new_points = []\n",
    "            for j in points:\n",
    "                if j[0] + 11 <= 21:\n",
    "                    new_points.extend([(j[0] + 11, 11), (j[0] + 1, 1)])\n",
    "                else:\n",
    "                    new_points.extend([(j[0] + 1, 1)])\n",
    "            points = new_points\n",
    "    \n",
    "    # Now, points could be a list of tuples or a tuple\n",
    "    if type(points) == list:\n",
    "        # Sort the list by number of points in descending order\n",
    "        points.sort(reverse=True)\n",
    "        new_points = [i for i in points if i[0] <= 21]\n",
    "        \n",
    "        try:\n",
    "            if len(new_points) == 0:\n",
    "                # if there are no items in new_points\n",
    "                # return the smallest item\n",
    "                return points[-1]\n",
    "            else:\n",
    "                return new_points[0]\n",
    "        except:\n",
    "            print (new_points)\n",
    "            print (type(new_points))\n",
    "    else:\n",
    "        return points"
   ]
  },
  {
   "cell_type": "code",
   "execution_count": 13,
   "metadata": {
    "ExecuteTime": {
     "end_time": "2017-01-30T15:12:25.164917",
     "start_time": "2017-01-30T15:12:25.157891"
    },
    "collapsed": false
   },
   "outputs": [
    {
     "data": {
      "text/plain": [
       "(29, 1)"
      ]
     },
     "execution_count": 13,
     "metadata": {},
     "output_type": "execute_result"
    }
   ],
   "source": [
    "get_points([\"A\", \"K\", 9, 9])"
   ]
  },
  {
   "cell_type": "code",
   "execution_count": 130,
   "metadata": {
    "ExecuteTime": {
     "end_time": "2017-01-30T16:02:07.204925",
     "start_time": "2017-01-30T16:02:07.140714"
    },
    "collapsed": false
   },
   "outputs": [],
   "source": [
    "def simulate_game(strategy=\"random\"):\n",
    "    game = play_blackjack()\n",
    "    game.play()\n",
    "    dealer_open, dealer_closed = game.dealer_hand\n",
    "    player_card_one, player_card_two = game.player_hand\n",
    "    dealer_original = get_points(game.dealer_hand)[0]\n",
    "    player_original = get_points(game.player_hand)[0]\n",
    "    \n",
    "    dealer_hit = 0\n",
    "    # Check if the dealer needs to hit\n",
    "    dealer = game.dealer_hand\n",
    "    # Dealer hits below 17\n",
    "    while get_points(dealer)[0] < 17:\n",
    "        game.hit(dealer)\n",
    "        dealer_hit += 1\n",
    "    \n",
    "    # If dealer is at 17, check if it's a soft 17\n",
    "    # if yes, hit\n",
    "\n",
    "    if \"A\" in dealer and get_points(dealer)[0] <= 17:\n",
    "        game.hit(dealer)\n",
    "        dealer_hit += 1\n",
    "    \n",
    "    player_hit = 0\n",
    "    player = game.player_hand\n",
    "    \n",
    "    # Change dealer_open to numerical\n",
    "    if dealer_open in [\"J\", \"Q\", \"K\"]:\n",
    "        dealer_open = 10\n",
    "    elif dealer_open == \"A\":\n",
    "        dealer_open = 1\n",
    "        \n",
    "    if strategy == \"random\":\n",
    "        # Randomize it for the player\n",
    "        while get_points(player)[0] < 21:\n",
    "            if np.random.random() <= 0.5:\n",
    "                game.hit(player)\n",
    "                player_hit += 1\n",
    "            else:\n",
    "                break\n",
    "    elif strategy == \"recommended\":\n",
    "        # From lasvegas-how-to.com\n",
    "        # Stand on a hand of 17 or more \n",
    "        # Never hit on 12, 13, 14, 15 or 16 when the dealer is showing 16 or less\n",
    "        # Always split 8's\n",
    "        # Double down on 11 if dealer is showing 17 or less\n",
    "        if dealer_open < 7:\n",
    "#             print (get_points(player)[0])\n",
    "            while get_points(player)[0] < 12:\n",
    "                game.hit(player)\n",
    "#                 print (player)\n",
    "                player_hit += 1\n",
    "        else:\n",
    "            while get_points(player)[0] < 17:\n",
    "                game.hit(player)\n",
    "                player_hit += 1\n",
    "        \n",
    "    dealer_final = get_points(dealer)[0]\n",
    "    player_final = get_points(player)[0]\n",
    "    \n",
    "    dealer_busts = dealer_final > 21\n",
    "    player_busts = player_final > 21\n",
    "    \n",
    "    \n",
    "    player_wins = dealer_busts or (player_final > dealer_final and not player_busts)\n",
    "    \n",
    "    \n",
    "    \n",
    "    return [dealer_open, dealer_closed, dealer_original, dealer_hit, dealer_final, int(dealer_busts), \n",
    "            player_card_one, player_card_two, player_original, player_hit, player_final, int(player_busts), \n",
    "            int(player_wins), strategy]"
   ]
  },
  {
   "cell_type": "code",
   "execution_count": 136,
   "metadata": {
    "ExecuteTime": {
     "end_time": "2017-01-30T16:03:03.240614",
     "start_time": "2017-01-30T16:02:52.088163"
    },
    "collapsed": false
   },
   "outputs": [],
   "source": [
    "ran_strat = [simulate_game() for _ in range(100000)]"
   ]
  },
  {
   "cell_type": "code",
   "execution_count": 137,
   "metadata": {
    "ExecuteTime": {
     "end_time": "2017-01-30T16:03:15.164353",
     "start_time": "2017-01-30T16:03:04.316912"
    },
    "collapsed": true
   },
   "outputs": [],
   "source": [
    "rec_strat = [simulate_game(strategy=\"recommended\") for _ in range(100000)]"
   ]
  },
  {
   "cell_type": "code",
   "execution_count": 138,
   "metadata": {
    "ExecuteTime": {
     "end_time": "2017-01-30T16:03:16.058823",
     "start_time": "2017-01-30T16:03:16.011613"
    },
    "collapsed": false
   },
   "outputs": [
    {
     "data": {
      "text/plain": [
       "[[1, 5, 16, 2, 22, 1, 3, 'J', 13, 0, 13, 0, 1, 'random'],\n",
       " [2, 'J', 12, 1, 21, 0, 6, 7, 13, 0, 13, 0, 0, 'random'],\n",
       " [10, 3, 13, 1, 18, 0, 'K', 8, 18, 0, 18, 0, 0, 'random'],\n",
       " [10, 9, 19, 0, 19, 0, 6, 'Q', 16, 1, 26, 1, 0, 'random'],\n",
       " [5, 9, 14, 2, 23, 1, 6, 8, 14, 0, 14, 0, 1, 'random']]"
      ]
     },
     "execution_count": 138,
     "metadata": {},
     "output_type": "execute_result"
    }
   ],
   "source": [
    "data = []\n",
    "data.extend(ran_strat)\n",
    "data.extend(rec_strat)\n",
    "data[:5]"
   ]
  },
  {
   "cell_type": "code",
   "execution_count": 139,
   "metadata": {
    "ExecuteTime": {
     "end_time": "2017-01-30T16:03:18.802485",
     "start_time": "2017-01-30T16:03:18.324377"
    },
    "collapsed": true
   },
   "outputs": [],
   "source": [
    "df = pd.DataFrame(data, columns=[\"dealer_open\", \"dealer_closed\", \n",
    "                               \"dealer_original\", \"dealer_hit\", \n",
    "                               \"dealer_final\", \"dealer_busts\", \n",
    "                               \"player_card_one\", \"player_card_two\", \n",
    "                               \"player_original\", \"player_hit\", \n",
    "                               \"player_final\", \"player_busts\", \n",
    "                               \"player_wins\", \"strategy\"])"
   ]
  },
  {
   "cell_type": "code",
   "execution_count": 140,
   "metadata": {
    "ExecuteTime": {
     "end_time": "2017-01-30T16:03:20.509386",
     "start_time": "2017-01-30T16:03:20.107093"
    },
    "collapsed": false
   },
   "outputs": [],
   "source": [
    "old_data = pd.read_csv(\"blackjack.csv\")\n",
    "df = pd.concat([old_data, df])"
   ]
  },
  {
   "cell_type": "code",
   "execution_count": 141,
   "metadata": {
    "ExecuteTime": {
     "end_time": "2017-01-30T16:03:25.538127",
     "start_time": "2017-01-30T16:03:22.355429"
    },
    "collapsed": false
   },
   "outputs": [],
   "source": [
    "# Save so we can add to it next time\n",
    "df.to_csv(\"blackjack.csv\", index=False)"
   ]
  },
  {
   "cell_type": "code",
   "execution_count": 142,
   "metadata": {
    "ExecuteTime": {
     "end_time": "2017-01-30T16:03:26.417488",
     "start_time": "2017-01-30T16:03:26.411362"
    },
    "collapsed": false
   },
   "outputs": [
    {
     "data": {
      "text/plain": [
       "(400000, 14)"
      ]
     },
     "execution_count": 142,
     "metadata": {},
     "output_type": "execute_result"
    }
   ],
   "source": [
    "df.shape"
   ]
  },
  {
   "cell_type": "code",
   "execution_count": 143,
   "metadata": {
    "ExecuteTime": {
     "end_time": "2017-01-30T16:03:27.546433",
     "start_time": "2017-01-30T16:03:27.516900"
    },
    "collapsed": false
   },
   "outputs": [
    {
     "data": {
      "text/html": [
       "<div>\n",
       "<table border=\"1\" class=\"dataframe\">\n",
       "  <thead>\n",
       "    <tr style=\"text-align: right;\">\n",
       "      <th></th>\n",
       "      <th>dealer_open</th>\n",
       "      <th>dealer_closed</th>\n",
       "      <th>dealer_original</th>\n",
       "      <th>dealer_hit</th>\n",
       "      <th>dealer_final</th>\n",
       "      <th>dealer_busts</th>\n",
       "      <th>player_card_one</th>\n",
       "      <th>player_card_two</th>\n",
       "      <th>player_original</th>\n",
       "      <th>player_hit</th>\n",
       "      <th>player_final</th>\n",
       "      <th>player_busts</th>\n",
       "      <th>player_wins</th>\n",
       "      <th>strategy</th>\n",
       "    </tr>\n",
       "  </thead>\n",
       "  <tbody>\n",
       "    <tr>\n",
       "      <th>0</th>\n",
       "      <td>10</td>\n",
       "      <td>4</td>\n",
       "      <td>14</td>\n",
       "      <td>1</td>\n",
       "      <td>24</td>\n",
       "      <td>1</td>\n",
       "      <td>10</td>\n",
       "      <td>K</td>\n",
       "      <td>20</td>\n",
       "      <td>1</td>\n",
       "      <td>25</td>\n",
       "      <td>1</td>\n",
       "      <td>1</td>\n",
       "      <td>random</td>\n",
       "    </tr>\n",
       "    <tr>\n",
       "      <th>1</th>\n",
       "      <td>2</td>\n",
       "      <td>J</td>\n",
       "      <td>12</td>\n",
       "      <td>1</td>\n",
       "      <td>22</td>\n",
       "      <td>1</td>\n",
       "      <td>10</td>\n",
       "      <td>K</td>\n",
       "      <td>20</td>\n",
       "      <td>0</td>\n",
       "      <td>20</td>\n",
       "      <td>0</td>\n",
       "      <td>1</td>\n",
       "      <td>random</td>\n",
       "    </tr>\n",
       "    <tr>\n",
       "      <th>2</th>\n",
       "      <td>9</td>\n",
       "      <td>10</td>\n",
       "      <td>19</td>\n",
       "      <td>0</td>\n",
       "      <td>19</td>\n",
       "      <td>0</td>\n",
       "      <td>10</td>\n",
       "      <td>A</td>\n",
       "      <td>21</td>\n",
       "      <td>0</td>\n",
       "      <td>21</td>\n",
       "      <td>0</td>\n",
       "      <td>1</td>\n",
       "      <td>random</td>\n",
       "    </tr>\n",
       "    <tr>\n",
       "      <th>3</th>\n",
       "      <td>10</td>\n",
       "      <td>3</td>\n",
       "      <td>13</td>\n",
       "      <td>1</td>\n",
       "      <td>20</td>\n",
       "      <td>0</td>\n",
       "      <td>Q</td>\n",
       "      <td>8</td>\n",
       "      <td>18</td>\n",
       "      <td>0</td>\n",
       "      <td>18</td>\n",
       "      <td>0</td>\n",
       "      <td>0</td>\n",
       "      <td>random</td>\n",
       "    </tr>\n",
       "    <tr>\n",
       "      <th>4</th>\n",
       "      <td>3</td>\n",
       "      <td>7</td>\n",
       "      <td>10</td>\n",
       "      <td>2</td>\n",
       "      <td>26</td>\n",
       "      <td>1</td>\n",
       "      <td>6</td>\n",
       "      <td>8</td>\n",
       "      <td>14</td>\n",
       "      <td>1</td>\n",
       "      <td>24</td>\n",
       "      <td>1</td>\n",
       "      <td>1</td>\n",
       "      <td>random</td>\n",
       "    </tr>\n",
       "  </tbody>\n",
       "</table>\n",
       "</div>"
      ],
      "text/plain": [
       "   dealer_open dealer_closed  dealer_original  dealer_hit  dealer_final  \\\n",
       "0           10             4               14           1            24   \n",
       "1            2             J               12           1            22   \n",
       "2            9            10               19           0            19   \n",
       "3           10             3               13           1            20   \n",
       "4            3             7               10           2            26   \n",
       "\n",
       "   dealer_busts player_card_one player_card_two  player_original  player_hit  \\\n",
       "0             1              10               K               20           1   \n",
       "1             1              10               K               20           0   \n",
       "2             0              10               A               21           0   \n",
       "3             0               Q               8               18           0   \n",
       "4             1               6               8               14           1   \n",
       "\n",
       "   player_final  player_busts  player_wins strategy  \n",
       "0            25             1            1   random  \n",
       "1            20             0            1   random  \n",
       "2            21             0            1   random  \n",
       "3            18             0            0   random  \n",
       "4            24             1            1   random  "
      ]
     },
     "execution_count": 143,
     "metadata": {},
     "output_type": "execute_result"
    }
   ],
   "source": [
    "df.head()"
   ]
  },
  {
   "cell_type": "markdown",
   "metadata": {},
   "source": [
    "# Analyze data"
   ]
  },
  {
   "cell_type": "code",
   "execution_count": 144,
   "metadata": {
    "ExecuteTime": {
     "end_time": "2017-01-30T16:03:30.577106",
     "start_time": "2017-01-30T16:03:29.954700"
    },
    "collapsed": true
   },
   "outputs": [],
   "source": [
    "df = pd.read_csv(\"blackjack.csv\")"
   ]
  },
  {
   "cell_type": "code",
   "execution_count": 145,
   "metadata": {
    "ExecuteTime": {
     "end_time": "2017-01-30T16:03:31.497702",
     "start_time": "2017-01-30T16:03:31.292055"
    },
    "collapsed": false
   },
   "outputs": [
    {
     "data": {
      "text/html": [
       "<div>\n",
       "<table border=\"1\" class=\"dataframe\">\n",
       "  <thead>\n",
       "    <tr style=\"text-align: right;\">\n",
       "      <th></th>\n",
       "      <th>dealer_open</th>\n",
       "      <th>dealer_closed</th>\n",
       "      <th>total</th>\n",
       "      <th>dealer_busts</th>\n",
       "      <th>player_wins</th>\n",
       "    </tr>\n",
       "  </thead>\n",
       "  <tbody>\n",
       "    <tr>\n",
       "      <th>0</th>\n",
       "      <td>1</td>\n",
       "      <td>10</td>\n",
       "      <td>2336</td>\n",
       "      <td>0</td>\n",
       "      <td>0</td>\n",
       "    </tr>\n",
       "    <tr>\n",
       "      <th>1</th>\n",
       "      <td>1</td>\n",
       "      <td>2</td>\n",
       "      <td>2331</td>\n",
       "      <td>734</td>\n",
       "      <td>972</td>\n",
       "    </tr>\n",
       "    <tr>\n",
       "      <th>2</th>\n",
       "      <td>1</td>\n",
       "      <td>3</td>\n",
       "      <td>2362</td>\n",
       "      <td>834</td>\n",
       "      <td>1091</td>\n",
       "    </tr>\n",
       "    <tr>\n",
       "      <th>3</th>\n",
       "      <td>1</td>\n",
       "      <td>4</td>\n",
       "      <td>2428</td>\n",
       "      <td>899</td>\n",
       "      <td>1136</td>\n",
       "    </tr>\n",
       "    <tr>\n",
       "      <th>4</th>\n",
       "      <td>1</td>\n",
       "      <td>5</td>\n",
       "      <td>2371</td>\n",
       "      <td>918</td>\n",
       "      <td>1131</td>\n",
       "    </tr>\n",
       "  </tbody>\n",
       "</table>\n",
       "</div>"
      ],
      "text/plain": [
       "   dealer_open dealer_closed  total  dealer_busts  player_wins\n",
       "0            1            10   2336             0            0\n",
       "1            1             2   2331           734          972\n",
       "2            1             3   2362           834         1091\n",
       "3            1             4   2428           899         1136\n",
       "4            1             5   2371           918         1131"
      ]
     },
     "execution_count": 145,
     "metadata": {},
     "output_type": "execute_result"
    }
   ],
   "source": [
    "dealer_hands = pd.pivot_table(df, index=[\"dealer_open\", \"dealer_closed\"], \n",
    "                              values=[\"dealer_busts\", \"player_wins\"], aggfunc=[len, sum])\n",
    "dealer_hands.reset_index(inplace=True)\n",
    "dealer_hands.columns = dealer_hands.columns.values\n",
    "del dealer_hands[('len', 'player_wins')]\n",
    "dealer_hands.columns = [\"dealer_open\", \"dealer_closed\", \"total\", \"dealer_busts\", \"player_wins\"]\n",
    "dealer_hands.head()"
   ]
  },
  {
   "cell_type": "code",
   "execution_count": 146,
   "metadata": {
    "ExecuteTime": {
     "end_time": "2017-01-30T16:03:32.536064",
     "start_time": "2017-01-30T16:03:32.300176"
    },
    "collapsed": false
   },
   "outputs": [
    {
     "data": {
      "text/html": [
       "<div>\n",
       "<table border=\"1\" class=\"dataframe\">\n",
       "  <thead>\n",
       "    <tr style=\"text-align: right;\">\n",
       "      <th></th>\n",
       "      <th>player_card_one</th>\n",
       "      <th>player_card_two</th>\n",
       "      <th>player_original</th>\n",
       "      <th>total</th>\n",
       "      <th>player_busts</th>\n",
       "      <th>player_wins</th>\n",
       "    </tr>\n",
       "  </thead>\n",
       "  <tbody>\n",
       "    <tr>\n",
       "      <th>0</th>\n",
       "      <td>10</td>\n",
       "      <td>10</td>\n",
       "      <td>20</td>\n",
       "      <td>2283</td>\n",
       "      <td>547</td>\n",
       "      <td>1358</td>\n",
       "    </tr>\n",
       "    <tr>\n",
       "      <th>1</th>\n",
       "      <td>10</td>\n",
       "      <td>2</td>\n",
       "      <td>12</td>\n",
       "      <td>2362</td>\n",
       "      <td>585</td>\n",
       "      <td>862</td>\n",
       "    </tr>\n",
       "    <tr>\n",
       "      <th>2</th>\n",
       "      <td>10</td>\n",
       "      <td>3</td>\n",
       "      <td>13</td>\n",
       "      <td>2344</td>\n",
       "      <td>681</td>\n",
       "      <td>864</td>\n",
       "    </tr>\n",
       "    <tr>\n",
       "      <th>3</th>\n",
       "      <td>10</td>\n",
       "      <td>4</td>\n",
       "      <td>14</td>\n",
       "      <td>2354</td>\n",
       "      <td>720</td>\n",
       "      <td>819</td>\n",
       "    </tr>\n",
       "    <tr>\n",
       "      <th>4</th>\n",
       "      <td>10</td>\n",
       "      <td>5</td>\n",
       "      <td>15</td>\n",
       "      <td>2450</td>\n",
       "      <td>815</td>\n",
       "      <td>825</td>\n",
       "    </tr>\n",
       "  </tbody>\n",
       "</table>\n",
       "</div>"
      ],
      "text/plain": [
       "  player_card_one player_card_two  player_original  total  player_busts  \\\n",
       "0              10              10               20   2283           547   \n",
       "1              10               2               12   2362           585   \n",
       "2              10               3               13   2344           681   \n",
       "3              10               4               14   2354           720   \n",
       "4              10               5               15   2450           815   \n",
       "\n",
       "   player_wins  \n",
       "0         1358  \n",
       "1          862  \n",
       "2          864  \n",
       "3          819  \n",
       "4          825  "
      ]
     },
     "execution_count": 146,
     "metadata": {},
     "output_type": "execute_result"
    }
   ],
   "source": [
    "player_hands = pd.pivot_table(df, index=[\"player_card_one\", \"player_card_two\", \"player_original\"], \n",
    "                              values=[\"player_busts\", \"player_wins\"], aggfunc=[len, sum])\n",
    "player_hands.reset_index(inplace=True)\n",
    "player_hands.columns = player_hands.columns.values\n",
    "del player_hands[('len', 'player_wins')]\n",
    "player_hands.columns = [\"player_card_one\", \"player_card_two\", \"player_original\", \"total\", \"player_busts\", \"player_wins\"]\n",
    "player_hands.head()"
   ]
  },
  {
   "cell_type": "markdown",
   "metadata": {
    "collapsed": false
   },
   "source": [
    "## Dealer"
   ]
  },
  {
   "cell_type": "markdown",
   "metadata": {},
   "source": [
    "We only get to see the dealer's open card, so that's the only one we care about."
   ]
  },
  {
   "cell_type": "code",
   "execution_count": 148,
   "metadata": {
    "ExecuteTime": {
     "end_time": "2017-01-30T16:03:50.517140",
     "start_time": "2017-01-30T16:03:50.491171"
    },
    "collapsed": false
   },
   "outputs": [
    {
     "data": {
      "text/html": [
       "<div>\n",
       "<table border=\"1\" class=\"dataframe\">\n",
       "  <thead>\n",
       "    <tr style=\"text-align: right;\">\n",
       "      <th></th>\n",
       "      <th>dealer_open</th>\n",
       "      <th>total</th>\n",
       "      <th>dealer_busts</th>\n",
       "      <th>player_wins</th>\n",
       "      <th>percent_dealer_busts</th>\n",
       "      <th>percent_player_wins</th>\n",
       "    </tr>\n",
       "  </thead>\n",
       "  <tbody>\n",
       "    <tr>\n",
       "      <th>0</th>\n",
       "      <td>1</td>\n",
       "      <td>30628</td>\n",
       "      <td>4015</td>\n",
       "      <td>7349</td>\n",
       "      <td>0.131089</td>\n",
       "      <td>0.239944</td>\n",
       "    </tr>\n",
       "    <tr>\n",
       "      <th>1</th>\n",
       "      <td>2</td>\n",
       "      <td>30866</td>\n",
       "      <td>11410</td>\n",
       "      <td>14766</td>\n",
       "      <td>0.369662</td>\n",
       "      <td>0.478390</td>\n",
       "    </tr>\n",
       "    <tr>\n",
       "      <th>2</th>\n",
       "      <td>3</td>\n",
       "      <td>30973</td>\n",
       "      <td>12117</td>\n",
       "      <td>15354</td>\n",
       "      <td>0.391212</td>\n",
       "      <td>0.495722</td>\n",
       "    </tr>\n",
       "    <tr>\n",
       "      <th>3</th>\n",
       "      <td>4</td>\n",
       "      <td>30850</td>\n",
       "      <td>12556</td>\n",
       "      <td>15732</td>\n",
       "      <td>0.407002</td>\n",
       "      <td>0.509951</td>\n",
       "    </tr>\n",
       "    <tr>\n",
       "      <th>4</th>\n",
       "      <td>5</td>\n",
       "      <td>30398</td>\n",
       "      <td>12969</td>\n",
       "      <td>15993</td>\n",
       "      <td>0.426640</td>\n",
       "      <td>0.526120</td>\n",
       "    </tr>\n",
       "    <tr>\n",
       "      <th>5</th>\n",
       "      <td>6</td>\n",
       "      <td>30734</td>\n",
       "      <td>13696</td>\n",
       "      <td>16896</td>\n",
       "      <td>0.445630</td>\n",
       "      <td>0.549749</td>\n",
       "    </tr>\n",
       "    <tr>\n",
       "      <th>6</th>\n",
       "      <td>7</td>\n",
       "      <td>30498</td>\n",
       "      <td>8257</td>\n",
       "      <td>15157</td>\n",
       "      <td>0.270739</td>\n",
       "      <td>0.496983</td>\n",
       "    </tr>\n",
       "    <tr>\n",
       "      <th>7</th>\n",
       "      <td>8</td>\n",
       "      <td>30566</td>\n",
       "      <td>7572</td>\n",
       "      <td>13939</td>\n",
       "      <td>0.247726</td>\n",
       "      <td>0.456030</td>\n",
       "    </tr>\n",
       "    <tr>\n",
       "      <th>8</th>\n",
       "      <td>9</td>\n",
       "      <td>31094</td>\n",
       "      <td>7447</td>\n",
       "      <td>13161</td>\n",
       "      <td>0.239500</td>\n",
       "      <td>0.423265</td>\n",
       "    </tr>\n",
       "    <tr>\n",
       "      <th>9</th>\n",
       "      <td>10</td>\n",
       "      <td>123393</td>\n",
       "      <td>27173</td>\n",
       "      <td>44963</td>\n",
       "      <td>0.220215</td>\n",
       "      <td>0.364389</td>\n",
       "    </tr>\n",
       "  </tbody>\n",
       "</table>\n",
       "</div>"
      ],
      "text/plain": [
       "   dealer_open   total  dealer_busts  player_wins  percent_dealer_busts  \\\n",
       "0            1   30628          4015         7349              0.131089   \n",
       "1            2   30866         11410        14766              0.369662   \n",
       "2            3   30973         12117        15354              0.391212   \n",
       "3            4   30850         12556        15732              0.407002   \n",
       "4            5   30398         12969        15993              0.426640   \n",
       "5            6   30734         13696        16896              0.445630   \n",
       "6            7   30498          8257        15157              0.270739   \n",
       "7            8   30566          7572        13939              0.247726   \n",
       "8            9   31094          7447        13161              0.239500   \n",
       "9           10  123393         27173        44963              0.220215   \n",
       "\n",
       "   percent_player_wins  \n",
       "0             0.239944  \n",
       "1             0.478390  \n",
       "2             0.495722  \n",
       "3             0.509951  \n",
       "4             0.526120  \n",
       "5             0.549749  \n",
       "6             0.496983  \n",
       "7             0.456030  \n",
       "8             0.423265  \n",
       "9             0.364389  "
      ]
     },
     "execution_count": 148,
     "metadata": {},
     "output_type": "execute_result"
    }
   ],
   "source": [
    "dealer_open_hand = dealer_hands.groupby(\"dealer_open\").sum().reset_index()\n",
    "dealer_open_hand[\"percent_dealer_busts\"] = dealer_open_hand[\"dealer_busts\"] / dealer_open_hand[\"total\"]\n",
    "dealer_open_hand[\"percent_player_wins\"] = dealer_open_hand[\"player_wins\"] / dealer_open_hand[\"total\"]\n",
    "dealer_open_hand"
   ]
  },
  {
   "cell_type": "code",
   "execution_count": 149,
   "metadata": {
    "ExecuteTime": {
     "end_time": "2017-01-30T16:03:56.771540",
     "start_time": "2017-01-30T16:03:56.410404"
    },
    "collapsed": false
   },
   "outputs": [
    {
     "data": {
      "image/png": "[encoded data removed]",
      "text/plain": [
       "<matplotlib.figure.Figure at 0x10f4a15f8>"
      ]
     },
     "metadata": {},
     "output_type": "display_data"
    }
   ],
   "source": [
    "sns.barplot(x=\"dealer_open\", y=\"percent_dealer_busts\", data=dealer_open_hand);\n",
    "plt.show();"
   ]
  },
  {
   "cell_type": "code",
   "execution_count": 150,
   "metadata": {
    "ExecuteTime": {
     "end_time": "2017-01-30T16:05:27.903698",
     "start_time": "2017-01-30T16:05:27.556927"
    },
    "collapsed": false
   },
   "outputs": [
    {
     "data": {
      "image/png": "[encoded data removed]",
      "text/plain": [
       "<matplotlib.figure.Figure at 0x11884d048>"
      ]
     },
     "metadata": {},
     "output_type": "display_data"
    }
   ],
   "source": [
    "sns.barplot(x=\"dealer_open\", y=\"percent_player_wins\", data=dealer_open_hand);\n",
    "plt.show();"
   ]
  },
  {
   "cell_type": "code",
   "execution_count": null,
   "metadata": {
    "collapsed": true
   },
   "outputs": [],
   "source": []
  }
 ],
 "metadata": {
  "anaconda-cloud": {},
  "kernelspec": {
   "display_name": "Python [conda env:Python3]",
   "language": "python",
   "name": "conda-env-Python3-py"
  },
  "language_info": {
   "codemirror_mode": {
    "name": "ipython",
    "version": 3
   },
   "file_extension": ".py",
   "mimetype": "text/x-python",
   "name": "python",
   "nbconvert_exporter": "python",
   "pygments_lexer": "ipython3",
   "version": "3.5.2"
  },
  "toc": {
   "nav_menu": {
    "height": "12px",
    "width": "252px"
   },
   "navigate_menu": true,
   "number_sections": true,
   "sideBar": true,
   "threshold": 4,
   "toc_cell": false,
   "toc_section_display": "block",
   "toc_window_display": false
  }
 },
 "nbformat": 4,
 "nbformat_minor": 1
}
