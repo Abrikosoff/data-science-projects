{
 "cells": [
  {
   "cell_type": "code",
   "execution_count": 7,
   "metadata": {
    "ExecuteTime": {
     "end_time": "2017-02-06T19:39:02.342788",
     "start_time": "2017-02-06T19:39:02.336114"
    },
    "collapsed": false
   },
   "outputs": [],
   "source": [
    "import pandas as pd\n",
    "import numpy as np\n",
    "import matplotlib.pyplot as plt\n",
    "import seaborn as sns\n",
    "import generate_data as gen_d\n",
    "\n",
    "%matplotlib inline"
   ]
  },
  {
   "cell_type": "markdown",
   "metadata": {},
   "source": [
    "# Exploration"
   ]
  },
  {
   "cell_type": "code",
   "execution_count": 12,
   "metadata": {
    "ExecuteTime": {
     "end_time": "2017-02-06T19:39:52.999475",
     "start_time": "2017-02-06T19:39:52.813808"
    },
    "collapsed": false
   },
   "outputs": [],
   "source": [
    "df = pd.read_csv(\"blackjack.csv\")"
   ]
  },
  {
   "cell_type": "code",
   "execution_count": 13,
   "metadata": {
    "ExecuteTime": {
     "end_time": "2017-02-06T19:39:53.194511",
     "start_time": "2017-02-06T19:39:53.188917"
    },
    "collapsed": false
   },
   "outputs": [
    {
     "data": {
      "text/plain": [
       "(70000, 18)"
      ]
     },
     "execution_count": 13,
     "metadata": {},
     "output_type": "execute_result"
    }
   ],
   "source": [
    "df.shape"
   ]
  },
  {
   "cell_type": "code",
   "execution_count": 14,
   "metadata": {
    "ExecuteTime": {
     "end_time": "2017-02-06T19:39:55.161383",
     "start_time": "2017-02-06T19:39:55.010526"
    },
    "collapsed": false
   },
   "outputs": [
    {
     "data": {
      "text/html": [
       "<div>\n",
       "<table border=\"1\" class=\"dataframe\">\n",
       "  <thead>\n",
       "    <tr style=\"text-align: right;\">\n",
       "      <th></th>\n",
       "      <th>num_decks</th>\n",
       "      <th>dealer_open</th>\n",
       "      <th>dealer_initial</th>\n",
       "      <th>dealer_hit</th>\n",
       "      <th>dealer_num_hits</th>\n",
       "      <th>dealer_final</th>\n",
       "      <th>dealer_busts</th>\n",
       "      <th>player_inital</th>\n",
       "      <th>player_hit</th>\n",
       "      <th>player_num_hits</th>\n",
       "      <th>player_final</th>\n",
       "      <th>player_busts</th>\n",
       "      <th>player_loses</th>\n",
       "      <th>draw</th>\n",
       "      <th>player_wins</th>\n",
       "      <th>strategy</th>\n",
       "    </tr>\n",
       "  </thead>\n",
       "  <tbody>\n",
       "    <tr>\n",
       "      <th>count</th>\n",
       "      <td>70000.0</td>\n",
       "      <td>70000.000000</td>\n",
       "      <td>70000.000000</td>\n",
       "      <td>70000.000000</td>\n",
       "      <td>70000.000000</td>\n",
       "      <td>70000.000000</td>\n",
       "      <td>70000.000000</td>\n",
       "      <td>70000.000000</td>\n",
       "      <td>70000.000000</td>\n",
       "      <td>70000.000000</td>\n",
       "      <td>70000.000000</td>\n",
       "      <td>70000.000000</td>\n",
       "      <td>70000.000000</td>\n",
       "      <td>70000.000000</td>\n",
       "      <td>70000.000000</td>\n",
       "      <td>70000.0</td>\n",
       "    </tr>\n",
       "    <tr>\n",
       "      <th>mean</th>\n",
       "      <td>4.0</td>\n",
       "      <td>6.543329</td>\n",
       "      <td>14.552886</td>\n",
       "      <td>0.401214</td>\n",
       "      <td>0.057757</td>\n",
       "      <td>17.178500</td>\n",
       "      <td>0.131386</td>\n",
       "      <td>14.561386</td>\n",
       "      <td>1.112271</td>\n",
       "      <td>0.169714</td>\n",
       "      <td>21.842971</td>\n",
       "      <td>0.469957</td>\n",
       "      <td>0.568600</td>\n",
       "      <td>0.066257</td>\n",
       "      <td>0.365143</td>\n",
       "      <td>0.0</td>\n",
       "    </tr>\n",
       "    <tr>\n",
       "      <th>std</th>\n",
       "      <td>0.0</td>\n",
       "      <td>3.147004</td>\n",
       "      <td>4.082266</td>\n",
       "      <td>0.689610</td>\n",
       "      <td>0.301368</td>\n",
       "      <td>4.525539</td>\n",
       "      <td>0.337824</td>\n",
       "      <td>4.088582</td>\n",
       "      <td>0.892088</td>\n",
       "      <td>0.546601</td>\n",
       "      <td>3.204132</td>\n",
       "      <td>0.499100</td>\n",
       "      <td>0.495275</td>\n",
       "      <td>0.248733</td>\n",
       "      <td>0.481474</td>\n",
       "      <td>0.0</td>\n",
       "    </tr>\n",
       "    <tr>\n",
       "      <th>min</th>\n",
       "      <td>4.0</td>\n",
       "      <td>1.000000</td>\n",
       "      <td>4.000000</td>\n",
       "      <td>0.000000</td>\n",
       "      <td>0.000000</td>\n",
       "      <td>4.000000</td>\n",
       "      <td>0.000000</td>\n",
       "      <td>4.000000</td>\n",
       "      <td>0.000000</td>\n",
       "      <td>0.000000</td>\n",
       "      <td>4.000000</td>\n",
       "      <td>0.000000</td>\n",
       "      <td>0.000000</td>\n",
       "      <td>0.000000</td>\n",
       "      <td>0.000000</td>\n",
       "      <td>0.0</td>\n",
       "    </tr>\n",
       "    <tr>\n",
       "      <th>25%</th>\n",
       "      <td>4.0</td>\n",
       "      <td>4.000000</td>\n",
       "      <td>12.000000</td>\n",
       "      <td>0.000000</td>\n",
       "      <td>0.000000</td>\n",
       "      <td>14.000000</td>\n",
       "      <td>0.000000</td>\n",
       "      <td>12.000000</td>\n",
       "      <td>1.000000</td>\n",
       "      <td>0.000000</td>\n",
       "      <td>20.000000</td>\n",
       "      <td>0.000000</td>\n",
       "      <td>0.000000</td>\n",
       "      <td>0.000000</td>\n",
       "      <td>0.000000</td>\n",
       "      <td>0.0</td>\n",
       "    </tr>\n",
       "    <tr>\n",
       "      <th>50%</th>\n",
       "      <td>4.0</td>\n",
       "      <td>7.000000</td>\n",
       "      <td>15.000000</td>\n",
       "      <td>0.000000</td>\n",
       "      <td>0.000000</td>\n",
       "      <td>18.000000</td>\n",
       "      <td>0.000000</td>\n",
       "      <td>15.000000</td>\n",
       "      <td>1.000000</td>\n",
       "      <td>0.000000</td>\n",
       "      <td>21.000000</td>\n",
       "      <td>0.000000</td>\n",
       "      <td>1.000000</td>\n",
       "      <td>0.000000</td>\n",
       "      <td>0.000000</td>\n",
       "      <td>0.0</td>\n",
       "    </tr>\n",
       "    <tr>\n",
       "      <th>75%</th>\n",
       "      <td>4.0</td>\n",
       "      <td>10.000000</td>\n",
       "      <td>18.000000</td>\n",
       "      <td>1.000000</td>\n",
       "      <td>0.000000</td>\n",
       "      <td>20.000000</td>\n",
       "      <td>0.000000</td>\n",
       "      <td>18.000000</td>\n",
       "      <td>2.000000</td>\n",
       "      <td>0.000000</td>\n",
       "      <td>24.000000</td>\n",
       "      <td>1.000000</td>\n",
       "      <td>1.000000</td>\n",
       "      <td>0.000000</td>\n",
       "      <td>1.000000</td>\n",
       "      <td>0.0</td>\n",
       "    </tr>\n",
       "    <tr>\n",
       "      <th>max</th>\n",
       "      <td>4.0</td>\n",
       "      <td>10.000000</td>\n",
       "      <td>21.000000</td>\n",
       "      <td>6.000000</td>\n",
       "      <td>4.000000</td>\n",
       "      <td>26.000000</td>\n",
       "      <td>1.000000</td>\n",
       "      <td>21.000000</td>\n",
       "      <td>6.000000</td>\n",
       "      <td>6.000000</td>\n",
       "      <td>28.000000</td>\n",
       "      <td>1.000000</td>\n",
       "      <td>1.000000</td>\n",
       "      <td>1.000000</td>\n",
       "      <td>1.000000</td>\n",
       "      <td>0.0</td>\n",
       "    </tr>\n",
       "  </tbody>\n",
       "</table>\n",
       "</div>"
      ],
      "text/plain": [
       "       num_decks   dealer_open  dealer_initial    dealer_hit  dealer_num_hits  \\\n",
       "count    70000.0  70000.000000    70000.000000  70000.000000     70000.000000   \n",
       "mean         4.0      6.543329       14.552886      0.401214         0.057757   \n",
       "std          0.0      3.147004        4.082266      0.689610         0.301368   \n",
       "min          4.0      1.000000        4.000000      0.000000         0.000000   \n",
       "25%          4.0      4.000000       12.000000      0.000000         0.000000   \n",
       "50%          4.0      7.000000       15.000000      0.000000         0.000000   \n",
       "75%          4.0     10.000000       18.000000      1.000000         0.000000   \n",
       "max          4.0     10.000000       21.000000      6.000000         4.000000   \n",
       "\n",
       "       dealer_final  dealer_busts  player_inital    player_hit  \\\n",
       "count  70000.000000  70000.000000   70000.000000  70000.000000   \n",
       "mean      17.178500      0.131386      14.561386      1.112271   \n",
       "std        4.525539      0.337824       4.088582      0.892088   \n",
       "min        4.000000      0.000000       4.000000      0.000000   \n",
       "25%       14.000000      0.000000      12.000000      1.000000   \n",
       "50%       18.000000      0.000000      15.000000      1.000000   \n",
       "75%       20.000000      0.000000      18.000000      2.000000   \n",
       "max       26.000000      1.000000      21.000000      6.000000   \n",
       "\n",
       "       player_num_hits  player_final  player_busts  player_loses  \\\n",
       "count     70000.000000  70000.000000  70000.000000  70000.000000   \n",
       "mean          0.169714     21.842971      0.469957      0.568600   \n",
       "std           0.546601      3.204132      0.499100      0.495275   \n",
       "min           0.000000      4.000000      0.000000      0.000000   \n",
       "25%           0.000000     20.000000      0.000000      0.000000   \n",
       "50%           0.000000     21.000000      0.000000      1.000000   \n",
       "75%           0.000000     24.000000      1.000000      1.000000   \n",
       "max           6.000000     28.000000      1.000000      1.000000   \n",
       "\n",
       "               draw   player_wins  strategy  \n",
       "count  70000.000000  70000.000000   70000.0  \n",
       "mean       0.066257      0.365143       0.0  \n",
       "std        0.248733      0.481474       0.0  \n",
       "min        0.000000      0.000000       0.0  \n",
       "25%        0.000000      0.000000       0.0  \n",
       "50%        0.000000      0.000000       0.0  \n",
       "75%        0.000000      1.000000       0.0  \n",
       "max        1.000000      1.000000       0.0  "
      ]
     },
     "execution_count": 14,
     "metadata": {},
     "output_type": "execute_result"
    }
   ],
   "source": [
    "df.describe()"
   ]
  },
  {
   "cell_type": "code",
   "execution_count": null,
   "metadata": {
    "collapsed": false
   },
   "outputs": [],
   "source": []
  }
 ],
 "metadata": {
  "anaconda-cloud": {},
  "kernelspec": {
   "display_name": "Python [conda env:py36]",
   "language": "python",
   "name": "conda-env-py36-py"
  },
  "language_info": {
   "codemirror_mode": {
    "name": "ipython",
    "version": 3
   },
   "file_extension": ".py",
   "mimetype": "text/x-python",
   "name": "python",
   "nbconvert_exporter": "python",
   "pygments_lexer": "ipython3",
   "version": "3.6.0"
  },
  "toc": {
   "nav_menu": {
    "height": "30px",
    "width": "252px"
   },
   "navigate_menu": true,
   "number_sections": true,
   "sideBar": true,
   "threshold": 4,
   "toc_cell": false,
   "toc_section_display": "block",
   "toc_window_display": false
  }
 },
 "nbformat": 4,
 "nbformat_minor": 1
}
