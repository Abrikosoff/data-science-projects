{
 "cells": [
  {
   "cell_type": "code",
   "execution_count": 6,
   "metadata": {
    "ExecuteTime": {
     "end_time": "2017-02-06T19:34:35.566786",
     "start_time": "2017-02-06T19:34:35.559475"
    },
    "collapsed": false
   },
   "outputs": [],
   "source": [
    "import pandas as pd\n",
    "import numpy as np\n",
    "import matplotlib.pyplot as plt\n",
    "import seaborn as sns\n",
    "import generate_data as gen_d\n",
    "\n",
    "%matplotlib inline"
   ]
  },
  {
   "cell_type": "markdown",
   "metadata": {},
   "source": [
    "# Exploration"
   ]
  },
  {
   "cell_type": "code",
   "execution_count": 2,
   "metadata": {
    "ExecuteTime": {
     "end_time": "2017-02-06T19:33:58.875285",
     "start_time": "2017-02-06T19:33:58.761100"
    },
    "collapsed": true
   },
   "outputs": [],
   "source": [
    "df = pd.read_csv(\"blackjack.csv\")"
   ]
  },
  {
   "cell_type": "code",
   "execution_count": 3,
   "metadata": {
    "ExecuteTime": {
     "end_time": "2017-02-06T19:34:01.695266",
     "start_time": "2017-02-06T19:34:01.687537"
    },
    "collapsed": false
   },
   "outputs": [
    {
     "data": {
      "text/plain": [
       "(40000, 18)"
      ]
     },
     "execution_count": 3,
     "metadata": {},
     "output_type": "execute_result"
    }
   ],
   "source": [
    "df.shape"
   ]
  },
  {
   "cell_type": "code",
   "execution_count": 4,
   "metadata": {
    "ExecuteTime": {
     "end_time": "2017-02-06T19:34:05.773902",
     "start_time": "2017-02-06T19:34:05.657820"
    },
    "collapsed": false
   },
   "outputs": [
    {
     "data": {
      "text/html": [
       "<div>\n",
       "<table border=\"1\" class=\"dataframe\">\n",
       "  <thead>\n",
       "    <tr style=\"text-align: right;\">\n",
       "      <th></th>\n",
       "      <th>num_decks</th>\n",
       "      <th>dealer_open</th>\n",
       "      <th>dealer_initial</th>\n",
       "      <th>dealer_hit</th>\n",
       "      <th>dealer_num_hits</th>\n",
       "      <th>dealer_final</th>\n",
       "      <th>dealer_busts</th>\n",
       "      <th>player_inital</th>\n",
       "      <th>player_hit</th>\n",
       "      <th>player_num_hits</th>\n",
       "      <th>player_final</th>\n",
       "      <th>player_busts</th>\n",
       "      <th>player_loses</th>\n",
       "      <th>draw</th>\n",
       "      <th>player_wins</th>\n",
       "      <th>strategy</th>\n",
       "    </tr>\n",
       "  </thead>\n",
       "  <tbody>\n",
       "    <tr>\n",
       "      <th>count</th>\n",
       "      <td>40000.0</td>\n",
       "      <td>40000.000000</td>\n",
       "      <td>40000.000000</td>\n",
       "      <td>40000.000000</td>\n",
       "      <td>40000.0</td>\n",
       "      <td>40000.000000</td>\n",
       "      <td>40000.000000</td>\n",
       "      <td>40000.000000</td>\n",
       "      <td>40000.000000</td>\n",
       "      <td>40000.0</td>\n",
       "      <td>40000.000000</td>\n",
       "      <td>40000.000000</td>\n",
       "      <td>40000.000000</td>\n",
       "      <td>40000.000000</td>\n",
       "      <td>40000.000000</td>\n",
       "      <td>40000.0</td>\n",
       "    </tr>\n",
       "    <tr>\n",
       "      <th>mean</th>\n",
       "      <td>4.0</td>\n",
       "      <td>6.527500</td>\n",
       "      <td>14.581925</td>\n",
       "      <td>0.425500</td>\n",
       "      <td>0.0</td>\n",
       "      <td>17.250300</td>\n",
       "      <td>0.132500</td>\n",
       "      <td>14.539750</td>\n",
       "      <td>1.176600</td>\n",
       "      <td>0.0</td>\n",
       "      <td>21.827625</td>\n",
       "      <td>0.469100</td>\n",
       "      <td>0.570400</td>\n",
       "      <td>0.066225</td>\n",
       "      <td>0.363375</td>\n",
       "      <td>0.0</td>\n",
       "    </tr>\n",
       "    <tr>\n",
       "      <th>std</th>\n",
       "      <td>0.0</td>\n",
       "      <td>3.156817</td>\n",
       "      <td>4.072800</td>\n",
       "      <td>0.723887</td>\n",
       "      <td>0.0</td>\n",
       "      <td>4.485544</td>\n",
       "      <td>0.339038</td>\n",
       "      <td>4.066747</td>\n",
       "      <td>0.926571</td>\n",
       "      <td>0.0</td>\n",
       "      <td>3.189587</td>\n",
       "      <td>0.499051</td>\n",
       "      <td>0.495025</td>\n",
       "      <td>0.248678</td>\n",
       "      <td>0.480978</td>\n",
       "      <td>0.0</td>\n",
       "    </tr>\n",
       "    <tr>\n",
       "      <th>min</th>\n",
       "      <td>4.0</td>\n",
       "      <td>1.000000</td>\n",
       "      <td>4.000000</td>\n",
       "      <td>0.000000</td>\n",
       "      <td>0.0</td>\n",
       "      <td>4.000000</td>\n",
       "      <td>0.000000</td>\n",
       "      <td>4.000000</td>\n",
       "      <td>0.000000</td>\n",
       "      <td>0.0</td>\n",
       "      <td>4.000000</td>\n",
       "      <td>0.000000</td>\n",
       "      <td>0.000000</td>\n",
       "      <td>0.000000</td>\n",
       "      <td>0.000000</td>\n",
       "      <td>0.0</td>\n",
       "    </tr>\n",
       "    <tr>\n",
       "      <th>25%</th>\n",
       "      <td>4.0</td>\n",
       "      <td>4.000000</td>\n",
       "      <td>12.000000</td>\n",
       "      <td>0.000000</td>\n",
       "      <td>0.0</td>\n",
       "      <td>14.000000</td>\n",
       "      <td>0.000000</td>\n",
       "      <td>12.000000</td>\n",
       "      <td>1.000000</td>\n",
       "      <td>0.0</td>\n",
       "      <td>20.000000</td>\n",
       "      <td>0.000000</td>\n",
       "      <td>0.000000</td>\n",
       "      <td>0.000000</td>\n",
       "      <td>0.000000</td>\n",
       "      <td>0.0</td>\n",
       "    </tr>\n",
       "    <tr>\n",
       "      <th>50%</th>\n",
       "      <td>4.0</td>\n",
       "      <td>7.000000</td>\n",
       "      <td>15.000000</td>\n",
       "      <td>0.000000</td>\n",
       "      <td>0.0</td>\n",
       "      <td>18.000000</td>\n",
       "      <td>0.000000</td>\n",
       "      <td>15.000000</td>\n",
       "      <td>1.000000</td>\n",
       "      <td>0.0</td>\n",
       "      <td>21.000000</td>\n",
       "      <td>0.000000</td>\n",
       "      <td>1.000000</td>\n",
       "      <td>0.000000</td>\n",
       "      <td>0.000000</td>\n",
       "      <td>0.0</td>\n",
       "    </tr>\n",
       "    <tr>\n",
       "      <th>75%</th>\n",
       "      <td>4.0</td>\n",
       "      <td>10.000000</td>\n",
       "      <td>18.000000</td>\n",
       "      <td>1.000000</td>\n",
       "      <td>0.0</td>\n",
       "      <td>20.000000</td>\n",
       "      <td>0.000000</td>\n",
       "      <td>18.000000</td>\n",
       "      <td>2.000000</td>\n",
       "      <td>0.0</td>\n",
       "      <td>24.000000</td>\n",
       "      <td>1.000000</td>\n",
       "      <td>1.000000</td>\n",
       "      <td>0.000000</td>\n",
       "      <td>1.000000</td>\n",
       "      <td>0.0</td>\n",
       "    </tr>\n",
       "    <tr>\n",
       "      <th>max</th>\n",
       "      <td>4.0</td>\n",
       "      <td>10.000000</td>\n",
       "      <td>21.000000</td>\n",
       "      <td>5.000000</td>\n",
       "      <td>0.0</td>\n",
       "      <td>26.000000</td>\n",
       "      <td>1.000000</td>\n",
       "      <td>21.000000</td>\n",
       "      <td>6.000000</td>\n",
       "      <td>0.0</td>\n",
       "      <td>28.000000</td>\n",
       "      <td>1.000000</td>\n",
       "      <td>1.000000</td>\n",
       "      <td>1.000000</td>\n",
       "      <td>1.000000</td>\n",
       "      <td>0.0</td>\n",
       "    </tr>\n",
       "  </tbody>\n",
       "</table>\n",
       "</div>"
      ],
      "text/plain": [
       "       num_decks   dealer_open  dealer_initial    dealer_hit  dealer_num_hits  \\\n",
       "count    40000.0  40000.000000    40000.000000  40000.000000          40000.0   \n",
       "mean         4.0      6.527500       14.581925      0.425500              0.0   \n",
       "std          0.0      3.156817        4.072800      0.723887              0.0   \n",
       "min          4.0      1.000000        4.000000      0.000000              0.0   \n",
       "25%          4.0      4.000000       12.000000      0.000000              0.0   \n",
       "50%          4.0      7.000000       15.000000      0.000000              0.0   \n",
       "75%          4.0     10.000000       18.000000      1.000000              0.0   \n",
       "max          4.0     10.000000       21.000000      5.000000              0.0   \n",
       "\n",
       "       dealer_final  dealer_busts  player_inital    player_hit  \\\n",
       "count  40000.000000  40000.000000   40000.000000  40000.000000   \n",
       "mean      17.250300      0.132500      14.539750      1.176600   \n",
       "std        4.485544      0.339038       4.066747      0.926571   \n",
       "min        4.000000      0.000000       4.000000      0.000000   \n",
       "25%       14.000000      0.000000      12.000000      1.000000   \n",
       "50%       18.000000      0.000000      15.000000      1.000000   \n",
       "75%       20.000000      0.000000      18.000000      2.000000   \n",
       "max       26.000000      1.000000      21.000000      6.000000   \n",
       "\n",
       "       player_num_hits  player_final  player_busts  player_loses  \\\n",
       "count          40000.0  40000.000000  40000.000000  40000.000000   \n",
       "mean               0.0     21.827625      0.469100      0.570400   \n",
       "std                0.0      3.189587      0.499051      0.495025   \n",
       "min                0.0      4.000000      0.000000      0.000000   \n",
       "25%                0.0     20.000000      0.000000      0.000000   \n",
       "50%                0.0     21.000000      0.000000      1.000000   \n",
       "75%                0.0     24.000000      1.000000      1.000000   \n",
       "max                0.0     28.000000      1.000000      1.000000   \n",
       "\n",
       "               draw   player_wins  strategy  \n",
       "count  40000.000000  40000.000000   40000.0  \n",
       "mean       0.066225      0.363375       0.0  \n",
       "std        0.248678      0.480978       0.0  \n",
       "min        0.000000      0.000000       0.0  \n",
       "25%        0.000000      0.000000       0.0  \n",
       "50%        0.000000      0.000000       0.0  \n",
       "75%        0.000000      1.000000       0.0  \n",
       "max        1.000000      1.000000       0.0  "
      ]
     },
     "execution_count": 4,
     "metadata": {},
     "output_type": "execute_result"
    }
   ],
   "source": [
    "df.describe()"
   ]
  },
  {
   "cell_type": "code",
   "execution_count": null,
   "metadata": {
    "collapsed": true
   },
   "outputs": [],
   "source": []
  }
 ],
 "metadata": {
  "anaconda-cloud": {},
  "kernelspec": {
   "display_name": "Python [conda env:py36]",
   "language": "python",
   "name": "conda-env-py36-py"
  },
  "language_info": {
   "codemirror_mode": {
    "name": "ipython",
    "version": 3
   },
   "file_extension": ".py",
   "mimetype": "text/x-python",
   "name": "python",
   "nbconvert_exporter": "python",
   "pygments_lexer": "ipython3",
   "version": "3.6.0"
  },
  "toc": {
   "nav_menu": {
    "height": "30px",
    "width": "252px"
   },
   "navigate_menu": true,
   "number_sections": true,
   "sideBar": true,
   "threshold": 4,
   "toc_cell": false,
   "toc_section_display": "block",
   "toc_window_display": false
  }
 },
 "nbformat": 4,
 "nbformat_minor": 1
}
