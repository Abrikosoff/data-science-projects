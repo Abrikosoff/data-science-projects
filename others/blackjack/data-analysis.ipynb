{
 "cells": [
  {
   "cell_type": "code",
   "execution_count": 2,
   "metadata": {
    "ExecuteTime": {
     "end_time": "2017-02-09T22:15:04.362205",
     "start_time": "2017-02-09T22:15:04.357823"
    },
    "collapsed": false
   },
   "outputs": [],
   "source": [
    "import pandas as pd\n",
    "import numpy as np\n",
    "import matplotlib.pyplot as plt\n",
    "import seaborn as sns\n",
    "from scipy import stats"
   ]
  },
  {
   "cell_type": "code",
   "execution_count": 3,
   "metadata": {
    "ExecuteTime": {
     "end_time": "2017-02-09T22:15:06.044885",
     "start_time": "2017-02-09T22:15:06.031833"
    },
    "collapsed": false
   },
   "outputs": [],
   "source": [
    "%matplotlib inline\n",
    "plt.style.use(\"fivethirtyeight\")"
   ]
  },
  {
   "cell_type": "markdown",
   "metadata": {},
   "source": [
    "# Exploration"
   ]
  },
  {
   "cell_type": "code",
   "execution_count": 4,
   "metadata": {
    "ExecuteTime": {
     "end_time": "2017-02-09T22:15:07.654823",
     "start_time": "2017-02-09T22:15:07.476542"
    },
    "collapsed": false
   },
   "outputs": [],
   "source": [
    "df = pd.read_csv(\"blackjack.csv\")"
   ]
  },
  {
   "cell_type": "code",
   "execution_count": 5,
   "metadata": {
    "ExecuteTime": {
     "end_time": "2017-02-09T22:15:08.589484",
     "start_time": "2017-02-09T22:15:08.581504"
    },
    "collapsed": false
   },
   "outputs": [
    {
     "data": {
      "text/plain": [
       "(60000, 20)"
      ]
     },
     "execution_count": 5,
     "metadata": {},
     "output_type": "execute_result"
    }
   ],
   "source": [
    "df.shape"
   ]
  },
  {
   "cell_type": "code",
   "execution_count": 6,
   "metadata": {
    "ExecuteTime": {
     "end_time": "2017-02-09T22:15:09.284970",
     "start_time": "2017-02-09T22:15:09.123613"
    },
    "collapsed": false
   },
   "outputs": [
    {
     "data": {
      "text/html": [
       "<div>\n",
       "<table border=\"1\" class=\"dataframe\">\n",
       "  <thead>\n",
       "    <tr style=\"text-align: right;\">\n",
       "      <th></th>\n",
       "      <th>num_decks</th>\n",
       "      <th>dealer_open</th>\n",
       "      <th>dealer_initial</th>\n",
       "      <th>dealer_hit</th>\n",
       "      <th>dealer_num_hits</th>\n",
       "      <th>dealer_final</th>\n",
       "      <th>dealer_busts</th>\n",
       "      <th>player_card_one</th>\n",
       "      <th>player_card_two</th>\n",
       "      <th>player_inital</th>\n",
       "      <th>player_hit</th>\n",
       "      <th>player_num_hits</th>\n",
       "      <th>player_final</th>\n",
       "      <th>player_busts</th>\n",
       "      <th>player_loses</th>\n",
       "      <th>draw</th>\n",
       "      <th>player_wins</th>\n",
       "      <th>strategy</th>\n",
       "    </tr>\n",
       "  </thead>\n",
       "  <tbody>\n",
       "    <tr>\n",
       "      <th>count</th>\n",
       "      <td>60000.0</td>\n",
       "      <td>60000.000000</td>\n",
       "      <td>60000.000000</td>\n",
       "      <td>60000.000000</td>\n",
       "      <td>60000.000000</td>\n",
       "      <td>60000.000000</td>\n",
       "      <td>60000.000000</td>\n",
       "      <td>60000.000000</td>\n",
       "      <td>60000.000000</td>\n",
       "      <td>60000.000000</td>\n",
       "      <td>60000.000000</td>\n",
       "      <td>60000.000000</td>\n",
       "      <td>60000.000000</td>\n",
       "      <td>60000.000000</td>\n",
       "      <td>60000.000000</td>\n",
       "      <td>60000.000000</td>\n",
       "      <td>60000.00000</td>\n",
       "      <td>60000.000000</td>\n",
       "    </tr>\n",
       "    <tr>\n",
       "      <th>mean</th>\n",
       "      <td>4.0</td>\n",
       "      <td>6.543983</td>\n",
       "      <td>14.551550</td>\n",
       "      <td>0.408683</td>\n",
       "      <td>0.559583</td>\n",
       "      <td>18.085933</td>\n",
       "      <td>0.178917</td>\n",
       "      <td>6.544933</td>\n",
       "      <td>6.555733</td>\n",
       "      <td>14.558000</td>\n",
       "      <td>0.572700</td>\n",
       "      <td>0.842933</td>\n",
       "      <td>19.901133</td>\n",
       "      <td>0.297700</td>\n",
       "      <td>0.545967</td>\n",
       "      <td>0.071583</td>\n",
       "      <td>0.38245</td>\n",
       "      <td>0.500000</td>\n",
       "    </tr>\n",
       "    <tr>\n",
       "      <th>std</th>\n",
       "      <td>0.0</td>\n",
       "      <td>3.152961</td>\n",
       "      <td>4.086537</td>\n",
       "      <td>0.491595</td>\n",
       "      <td>0.775560</td>\n",
       "      <td>4.379856</td>\n",
       "      <td>0.383286</td>\n",
       "      <td>3.149473</td>\n",
       "      <td>3.152575</td>\n",
       "      <td>4.084991</td>\n",
       "      <td>0.494691</td>\n",
       "      <td>0.895178</td>\n",
       "      <td>3.900822</td>\n",
       "      <td>0.457251</td>\n",
       "      <td>0.497887</td>\n",
       "      <td>0.257799</td>\n",
       "      <td>0.48599</td>\n",
       "      <td>0.500004</td>\n",
       "    </tr>\n",
       "    <tr>\n",
       "      <th>min</th>\n",
       "      <td>4.0</td>\n",
       "      <td>1.000000</td>\n",
       "      <td>4.000000</td>\n",
       "      <td>0.000000</td>\n",
       "      <td>0.000000</td>\n",
       "      <td>4.000000</td>\n",
       "      <td>0.000000</td>\n",
       "      <td>1.000000</td>\n",
       "      <td>1.000000</td>\n",
       "      <td>4.000000</td>\n",
       "      <td>0.000000</td>\n",
       "      <td>0.000000</td>\n",
       "      <td>4.000000</td>\n",
       "      <td>0.000000</td>\n",
       "      <td>0.000000</td>\n",
       "      <td>0.000000</td>\n",
       "      <td>0.00000</td>\n",
       "      <td>0.000000</td>\n",
       "    </tr>\n",
       "    <tr>\n",
       "      <th>25%</th>\n",
       "      <td>4.0</td>\n",
       "      <td>4.000000</td>\n",
       "      <td>12.000000</td>\n",
       "      <td>0.000000</td>\n",
       "      <td>0.000000</td>\n",
       "      <td>16.000000</td>\n",
       "      <td>0.000000</td>\n",
       "      <td>4.000000</td>\n",
       "      <td>4.000000</td>\n",
       "      <td>12.000000</td>\n",
       "      <td>0.000000</td>\n",
       "      <td>0.000000</td>\n",
       "      <td>18.000000</td>\n",
       "      <td>0.000000</td>\n",
       "      <td>0.000000</td>\n",
       "      <td>0.000000</td>\n",
       "      <td>0.00000</td>\n",
       "      <td>0.000000</td>\n",
       "    </tr>\n",
       "    <tr>\n",
       "      <th>50%</th>\n",
       "      <td>4.0</td>\n",
       "      <td>7.000000</td>\n",
       "      <td>15.000000</td>\n",
       "      <td>0.000000</td>\n",
       "      <td>0.000000</td>\n",
       "      <td>19.000000</td>\n",
       "      <td>0.000000</td>\n",
       "      <td>7.000000</td>\n",
       "      <td>7.000000</td>\n",
       "      <td>15.000000</td>\n",
       "      <td>1.000000</td>\n",
       "      <td>1.000000</td>\n",
       "      <td>20.000000</td>\n",
       "      <td>0.000000</td>\n",
       "      <td>1.000000</td>\n",
       "      <td>0.000000</td>\n",
       "      <td>0.00000</td>\n",
       "      <td>0.500000</td>\n",
       "    </tr>\n",
       "    <tr>\n",
       "      <th>75%</th>\n",
       "      <td>4.0</td>\n",
       "      <td>10.000000</td>\n",
       "      <td>18.000000</td>\n",
       "      <td>1.000000</td>\n",
       "      <td>1.000000</td>\n",
       "      <td>21.000000</td>\n",
       "      <td>0.000000</td>\n",
       "      <td>10.000000</td>\n",
       "      <td>10.000000</td>\n",
       "      <td>18.000000</td>\n",
       "      <td>1.000000</td>\n",
       "      <td>1.000000</td>\n",
       "      <td>22.000000</td>\n",
       "      <td>1.000000</td>\n",
       "      <td>1.000000</td>\n",
       "      <td>0.000000</td>\n",
       "      <td>1.00000</td>\n",
       "      <td>1.000000</td>\n",
       "    </tr>\n",
       "    <tr>\n",
       "      <th>max</th>\n",
       "      <td>4.0</td>\n",
       "      <td>10.000000</td>\n",
       "      <td>21.000000</td>\n",
       "      <td>1.000000</td>\n",
       "      <td>5.000000</td>\n",
       "      <td>26.000000</td>\n",
       "      <td>1.000000</td>\n",
       "      <td>10.000000</td>\n",
       "      <td>10.000000</td>\n",
       "      <td>21.000000</td>\n",
       "      <td>1.000000</td>\n",
       "      <td>6.000000</td>\n",
       "      <td>28.000000</td>\n",
       "      <td>1.000000</td>\n",
       "      <td>1.000000</td>\n",
       "      <td>1.000000</td>\n",
       "      <td>1.00000</td>\n",
       "      <td>1.000000</td>\n",
       "    </tr>\n",
       "  </tbody>\n",
       "</table>\n",
       "</div>"
      ],
      "text/plain": [
       "       num_decks   dealer_open  dealer_initial    dealer_hit  dealer_num_hits  \\\n",
       "count    60000.0  60000.000000    60000.000000  60000.000000     60000.000000   \n",
       "mean         4.0      6.543983       14.551550      0.408683         0.559583   \n",
       "std          0.0      3.152961        4.086537      0.491595         0.775560   \n",
       "min          4.0      1.000000        4.000000      0.000000         0.000000   \n",
       "25%          4.0      4.000000       12.000000      0.000000         0.000000   \n",
       "50%          4.0      7.000000       15.000000      0.000000         0.000000   \n",
       "75%          4.0     10.000000       18.000000      1.000000         1.000000   \n",
       "max          4.0     10.000000       21.000000      1.000000         5.000000   \n",
       "\n",
       "       dealer_final  dealer_busts  player_card_one  player_card_two  \\\n",
       "count  60000.000000  60000.000000     60000.000000     60000.000000   \n",
       "mean      18.085933      0.178917         6.544933         6.555733   \n",
       "std        4.379856      0.383286         3.149473         3.152575   \n",
       "min        4.000000      0.000000         1.000000         1.000000   \n",
       "25%       16.000000      0.000000         4.000000         4.000000   \n",
       "50%       19.000000      0.000000         7.000000         7.000000   \n",
       "75%       21.000000      0.000000        10.000000        10.000000   \n",
       "max       26.000000      1.000000        10.000000        10.000000   \n",
       "\n",
       "       player_inital    player_hit  player_num_hits  player_final  \\\n",
       "count   60000.000000  60000.000000     60000.000000  60000.000000   \n",
       "mean       14.558000      0.572700         0.842933     19.901133   \n",
       "std         4.084991      0.494691         0.895178      3.900822   \n",
       "min         4.000000      0.000000         0.000000      4.000000   \n",
       "25%        12.000000      0.000000         0.000000     18.000000   \n",
       "50%        15.000000      1.000000         1.000000     20.000000   \n",
       "75%        18.000000      1.000000         1.000000     22.000000   \n",
       "max        21.000000      1.000000         6.000000     28.000000   \n",
       "\n",
       "       player_busts  player_loses          draw  player_wins      strategy  \n",
       "count  60000.000000  60000.000000  60000.000000  60000.00000  60000.000000  \n",
       "mean       0.297700      0.545967      0.071583      0.38245      0.500000  \n",
       "std        0.457251      0.497887      0.257799      0.48599      0.500004  \n",
       "min        0.000000      0.000000      0.000000      0.00000      0.000000  \n",
       "25%        0.000000      0.000000      0.000000      0.00000      0.000000  \n",
       "50%        0.000000      1.000000      0.000000      0.00000      0.500000  \n",
       "75%        1.000000      1.000000      0.000000      1.00000      1.000000  \n",
       "max        1.000000      1.000000      1.000000      1.00000      1.000000  "
      ]
     },
     "execution_count": 6,
     "metadata": {},
     "output_type": "execute_result"
    }
   ],
   "source": [
    "df.describe()"
   ]
  },
  {
   "cell_type": "code",
   "execution_count": 9,
   "metadata": {
    "ExecuteTime": {
     "end_time": "2017-02-09T22:15:30.748687",
     "start_time": "2017-02-09T22:15:30.686734"
    },
    "collapsed": false
   },
   "outputs": [
    {
     "data": {
      "text/html": [
       "<div>\n",
       "<table border=\"1\" class=\"dataframe\">\n",
       "  <thead>\n",
       "    <tr style=\"text-align: right;\">\n",
       "      <th></th>\n",
       "      <th>player_wins</th>\n",
       "    </tr>\n",
       "    <tr>\n",
       "      <th>strategy</th>\n",
       "      <th></th>\n",
       "    </tr>\n",
       "  </thead>\n",
       "  <tbody>\n",
       "    <tr>\n",
       "      <th>0</th>\n",
       "      <td>10920</td>\n",
       "    </tr>\n",
       "    <tr>\n",
       "      <th>1</th>\n",
       "      <td>12027</td>\n",
       "    </tr>\n",
       "  </tbody>\n",
       "</table>\n",
       "</div>"
      ],
      "text/plain": [
       "          player_wins\n",
       "strategy             \n",
       "0               10920\n",
       "1               12027"
      ]
     },
     "execution_count": 9,
     "metadata": {},
     "output_type": "execute_result"
    }
   ],
   "source": [
    "df.groupby(\"strategy\")[[\"player_wins\"]].sum()"
   ]
  },
  {
   "cell_type": "code",
   "execution_count": 90,
   "metadata": {
    "ExecuteTime": {
     "end_time": "2017-02-09T22:47:41.352855",
     "start_time": "2017-02-09T22:47:41.348856"
    },
    "collapsed": true
   },
   "outputs": [],
   "source": [
    "result_cols = [\"dealer_busts\", \"player_busts\", \"player_loses\", \"draw\", \"player_wins\"]"
   ]
  },
  {
   "cell_type": "markdown",
   "metadata": {
    "collapsed": false
   },
   "source": [
    "# Hypothesis testing"
   ]
  },
  {
   "cell_type": "code",
   "execution_count": 91,
   "metadata": {
    "ExecuteTime": {
     "end_time": "2017-02-09T22:47:42.554690",
     "start_time": "2017-02-09T22:47:42.548617"
    },
    "collapsed": false
   },
   "outputs": [],
   "source": [
    "# Simulate trials of 100 games\n",
    "def sim_trial(strategy=0):\n",
    "    sub = df[df.strategy == strategy]\n",
    "    to_get = np.random.choice(sub.index, 100)\n",
    "    trials = sub.ix[to_get]\n",
    "    trials = trials[result_cols]\n",
    "    return pd.DataFrame(trials.sum()).T"
   ]
  },
  {
   "cell_type": "code",
   "execution_count": 92,
   "metadata": {
    "ExecuteTime": {
     "end_time": "2017-02-09T22:47:44.159649",
     "start_time": "2017-02-09T22:47:44.141533"
    },
    "collapsed": false
   },
   "outputs": [
    {
     "data": {
      "text/html": [
       "<div>\n",
       "<table border=\"1\" class=\"dataframe\">\n",
       "  <thead>\n",
       "    <tr style=\"text-align: right;\">\n",
       "      <th></th>\n",
       "      <th>dealer_busts</th>\n",
       "      <th>player_busts</th>\n",
       "      <th>player_loses</th>\n",
       "      <th>draw</th>\n",
       "      <th>player_wins</th>\n",
       "    </tr>\n",
       "  </thead>\n",
       "  <tbody>\n",
       "    <tr>\n",
       "      <th>0</th>\n",
       "      <td>13</td>\n",
       "      <td>44</td>\n",
       "      <td>58</td>\n",
       "      <td>8</td>\n",
       "      <td>34</td>\n",
       "    </tr>\n",
       "  </tbody>\n",
       "</table>\n",
       "</div>"
      ],
      "text/plain": [
       "   dealer_busts  player_busts  player_loses  draw  player_wins\n",
       "0            13            44            58     8           34"
      ]
     },
     "execution_count": 92,
     "metadata": {},
     "output_type": "execute_result"
    }
   ],
   "source": [
    "sim_trial()"
   ]
  },
  {
   "cell_type": "code",
   "execution_count": 93,
   "metadata": {
    "ExecuteTime": {
     "end_time": "2017-02-09T22:47:46.339031",
     "start_time": "2017-02-09T22:47:46.333552"
    },
    "collapsed": false
   },
   "outputs": [],
   "source": [
    "def n_trials(strategy=0, n=5000):\n",
    "    trials = sim_trial(strategy=strategy)\n",
    "    for _ in range(n-1):\n",
    "        trials = pd.concat([trials, sim_trial(strategy=strategy)])\n",
    "    return trials"
   ]
  },
  {
   "cell_type": "code",
   "execution_count": 94,
   "metadata": {
    "ExecuteTime": {
     "end_time": "2017-02-09T22:49:25.519074",
     "start_time": "2017-02-09T22:47:48.268484"
    },
    "collapsed": false
   },
   "outputs": [],
   "source": [
    "ran = n_trials()\n",
    "rec = n_trials(strategy=1)"
   ]
  },
  {
   "cell_type": "code",
   "execution_count": 95,
   "metadata": {
    "ExecuteTime": {
     "end_time": "2017-02-09T22:49:51.198336",
     "start_time": "2017-02-09T22:49:51.192272"
    },
    "collapsed": true
   },
   "outputs": [],
   "source": [
    "# combine with older files\n",
    "def save_file(trials, filename):\n",
    "    try:\n",
    "        old_trials = pd.read_csv(filename+\".csv\")\n",
    "        trials = pd.concat([old_trials, trials])\n",
    "    except:\n",
    "        pass\n",
    "    trials.to_csv(filename+\".csv\", index=False)"
   ]
  },
  {
   "cell_type": "code",
   "execution_count": 96,
   "metadata": {
    "ExecuteTime": {
     "end_time": "2017-02-09T22:49:52.145575",
     "start_time": "2017-02-09T22:49:52.095429"
    },
    "collapsed": true
   },
   "outputs": [],
   "source": [
    "save_file(ran, \"ran_trials\")\n",
    "save_file(rec, \"rec_trials\")"
   ]
  },
  {
   "cell_type": "code",
   "execution_count": 97,
   "metadata": {
    "ExecuteTime": {
     "end_time": "2017-02-09T22:49:52.940673",
     "start_time": "2017-02-09T22:49:52.927281"
    },
    "collapsed": true
   },
   "outputs": [],
   "source": [
    "ran = pd.read_csv(\"ran_trials.csv\")\n",
    "rec = pd.read_csv(\"rec_trials.csv\")"
   ]
  },
  {
   "cell_type": "code",
   "execution_count": 98,
   "metadata": {
    "ExecuteTime": {
     "end_time": "2017-02-09T22:49:53.412519",
     "start_time": "2017-02-09T22:49:53.407394"
    },
    "collapsed": false
   },
   "outputs": [
    {
     "name": "stdout",
     "output_type": "stream",
     "text": [
      "(5000, 5)\n",
      "(5000, 5)\n"
     ]
    }
   ],
   "source": [
    "print (ran.shape)\n",
    "print (rec.shape)"
   ]
  },
  {
   "cell_type": "markdown",
   "metadata": {},
   "source": [
    "## Number of wins"
   ]
  },
  {
   "cell_type": "markdown",
   "metadata": {},
   "source": [
    "$H_0$: There is no difference in expected number of wins for the player between a random strategy and a recommended strategy.\n",
    "\n",
    "$H_1$: There is a difference in expected number of wins for the player between a random strategy and a recommended strategy.\n",
    "\n",
    "Significance level, $\\alpha$: 5%"
   ]
  },
  {
   "cell_type": "markdown",
   "metadata": {},
   "source": [
    "- Instead of simulating trials, we'll draw random samples from the dataset that we've created"
   ]
  },
  {
   "cell_type": "code",
   "execution_count": 99,
   "metadata": {
    "ExecuteTime": {
     "end_time": "2017-02-09T22:49:58.423441",
     "start_time": "2017-02-09T22:49:58.103055"
    },
    "collapsed": false
   },
   "outputs": [
    {
     "data": {
      "image/png": "[encoded data removed]",
      "text/plain": [
       "<matplotlib.figure.Figure at 0x10fa90dd8>"
      ]
     },
     "metadata": {},
     "output_type": "display_data"
    }
   ],
   "source": [
    "fig, ax = plt.subplots(1, 1, figsize=(10, 5));\n",
    "sns.distplot(ran.player_wins, \n",
    "             hist=False, label=\"Random\");\n",
    "sns.distplot(rec.player_wins, \n",
    "             hist=False, label=\"Recommended\");\n",
    "ax.set_title(\"Differences in wins by strategy\");\n",
    "sns.despine();"
   ]
  },
  {
   "cell_type": "code",
   "execution_count": 100,
   "metadata": {
    "ExecuteTime": {
     "end_time": "2017-02-09T22:49:58.530521",
     "start_time": "2017-02-09T22:49:58.522089"
    },
    "collapsed": false
   },
   "outputs": [
    {
     "data": {
      "text/plain": [
       "Ttest_indResult(statistic=-39.712768763739746, pvalue=0.0)"
      ]
     },
     "execution_count": 100,
     "metadata": {},
     "output_type": "execute_result"
    }
   ],
   "source": [
    "# Is the difference significant?\n",
    "stats.ttest_ind(ran.player_wins, rec.player_wins)"
   ]
  },
  {
   "cell_type": "markdown",
   "metadata": {},
   "source": [
    "## Number of losses"
   ]
  },
  {
   "cell_type": "markdown",
   "metadata": {},
   "source": [
    "$H_0$: There is no difference in expected number of losses for the player between a random strategy and a recommended strategy.\n",
    "\n",
    "$H_1$: There is a difference in expected number of losses for the player between a random strategy and a recommended strategy.\n",
    "\n",
    "Significance level, $\\alpha$: 5%"
   ]
  },
  {
   "cell_type": "code",
   "execution_count": 101,
   "metadata": {
    "ExecuteTime": {
     "end_time": "2017-02-09T22:50:28.306884",
     "start_time": "2017-02-09T22:50:27.959514"
    },
    "collapsed": false
   },
   "outputs": [
    {
     "data": {
      "image/png": "[encoded data removed]",
      "text/plain": [
       "<matplotlib.figure.Figure at 0x10fa90908>"
      ]
     },
     "metadata": {},
     "output_type": "display_data"
    }
   ],
   "source": [
    "fig, ax = plt.subplots(1, 1, figsize=(10, 5));\n",
    "sns.distplot(ran.player_loses, \n",
    "             hist=False, label=\"Random\");\n",
    "sns.distplot(rec.player_loses, \n",
    "             hist=False, label=\"Recommended\");\n",
    "ax.set_title(\"Differences in losses by strategy\");\n",
    "sns.despine();"
   ]
  },
  {
   "cell_type": "code",
   "execution_count": 102,
   "metadata": {
    "ExecuteTime": {
     "end_time": "2017-02-09T22:51:02.291905",
     "start_time": "2017-02-09T22:51:02.283942"
    },
    "collapsed": false
   },
   "outputs": [
    {
     "data": {
      "text/plain": [
       "Ttest_indResult(statistic=44.650230195301724, pvalue=0.0)"
      ]
     },
     "execution_count": 102,
     "metadata": {},
     "output_type": "execute_result"
    }
   ],
   "source": [
    "# Is the difference significant?\n",
    "stats.ttest_ind(ran.player_loses, rec.player_loses)"
   ]
  },
  {
   "cell_type": "markdown",
   "metadata": {},
   "source": [
    "## Number of busts"
   ]
  },
  {
   "cell_type": "markdown",
   "metadata": {},
   "source": [
    "$H_0$: There is no difference in expected number of busts for the player between a random strategy and a recommended strategy.\n",
    "\n",
    "$H_1$: There is a difference in expected number of busts for the player between a random strategy and a recommended strategy.\n",
    "\n",
    "Significance level, $\\alpha$: 5%"
   ]
  },
  {
   "cell_type": "code",
   "execution_count": 103,
   "metadata": {
    "ExecuteTime": {
     "end_time": "2017-02-09T22:50:28.306884",
     "start_time": "2017-02-09T22:50:27.959514"
    },
    "collapsed": false
   },
   "outputs": [
    {
     "data": {
      "image/png": "[encoded data removed]",
      "text/plain": [
       "<matplotlib.figure.Figure at 0x10fba84a8>"
      ]
     },
     "metadata": {},
     "output_type": "display_data"
    }
   ],
   "source": [
    "fig, ax = plt.subplots(1, 1, figsize=(10, 5));\n",
    "sns.distplot(ran.player_busts, \n",
    "             hist=False, label=\"Random\");\n",
    "sns.distplot(rec.player_busts, \n",
    "             hist=False, label=\"Recommended\");\n",
    "ax.set_title(\"Differences in busts by strategy\");\n",
    "sns.despine();"
   ]
  },
  {
   "cell_type": "code",
   "execution_count": 105,
   "metadata": {
    "ExecuteTime": {
     "end_time": "2017-02-09T22:51:02.291905",
     "start_time": "2017-02-09T22:51:02.283942"
    },
    "collapsed": false
   },
   "outputs": [
    {
     "data": {
      "text/plain": [
       "Ttest_indResult(statistic=410.2475553872091, pvalue=0.0)"
      ]
     },
     "execution_count": 105,
     "metadata": {},
     "output_type": "execute_result"
    }
   ],
   "source": [
    "# Is the difference significant?\n",
    "stats.ttest_ind(ran.player_busts, rec.player_busts)"
   ]
  },
  {
   "cell_type": "markdown",
   "metadata": {},
   "source": [
    "## What about dealer busts?"
   ]
  },
  {
   "cell_type": "markdown",
   "metadata": {},
   "source": [
    "$H_0$: There is no difference in expected number of busts for the dealer between a random strategy and a recommended strategy.\n",
    "\n",
    "$H_1$: There is a difference in expected number of busts for the dealer between a random strategy and a recommended strategy.\n",
    "\n",
    "Significance level, $\\alpha$: 5%"
   ]
  },
  {
   "cell_type": "code",
   "execution_count": 106,
   "metadata": {
    "ExecuteTime": {
     "end_time": "2017-02-09T22:51:53.596379",
     "start_time": "2017-02-09T22:51:53.266247"
    },
    "collapsed": false
   },
   "outputs": [
    {
     "data": {
      "image/png": "[encoded data removed]",
      "text/plain": [
       "<matplotlib.figure.Figure at 0x109c1b1d0>"
      ]
     },
     "metadata": {},
     "output_type": "display_data"
    }
   ],
   "source": [
    "fig, ax = plt.subplots(1, 1, figsize=(10, 5));\n",
    "sns.distplot(ran.dealer_busts, \n",
    "             hist=False, label=\"Random\");\n",
    "sns.distplot(rec.dealer_busts, \n",
    "             hist=False, label=\"Recommended\");\n",
    "ax.set_title(\"Differences in dealer busts by strategy\");\n",
    "sns.despine();"
   ]
  },
  {
   "cell_type": "code",
   "execution_count": 107,
   "metadata": {
    "ExecuteTime": {
     "end_time": "2017-02-09T22:52:02.554462",
     "start_time": "2017-02-09T22:52:02.546200"
    },
    "collapsed": false
   },
   "outputs": [
    {
     "data": {
      "text/plain": [
       "Ttest_indResult(statistic=-130.95294932367025, pvalue=0.0)"
      ]
     },
     "execution_count": 107,
     "metadata": {},
     "output_type": "execute_result"
    }
   ],
   "source": [
    "# Is the difference significant?\n",
    "stats.ttest_ind(ran.dealer_busts, rec.dealer_busts)"
   ]
  },
  {
   "cell_type": "markdown",
   "metadata": {
    "collapsed": true
   },
   "source": [
    "# Looking at the dataset"
   ]
  },
  {
   "cell_type": "code",
   "execution_count": 108,
   "metadata": {
    "ExecuteTime": {
     "end_time": "2017-02-09T22:52:08.352618",
     "start_time": "2017-02-09T22:52:08.325172"
    },
    "collapsed": false
   },
   "outputs": [
    {
     "data": {
      "text/html": [
       "<div>\n",
       "<table border=\"1\" class=\"dataframe\">\n",
       "  <thead>\n",
       "    <tr style=\"text-align: right;\">\n",
       "      <th></th>\n",
       "      <th>num_decks</th>\n",
       "      <th>dealer_open</th>\n",
       "      <th>dealer_initial</th>\n",
       "      <th>dealer_hit</th>\n",
       "      <th>dealer_num_hits</th>\n",
       "      <th>dealer_final</th>\n",
       "      <th>dealer_busts</th>\n",
       "      <th>player_card_one</th>\n",
       "      <th>player_card_two</th>\n",
       "      <th>player_inital</th>\n",
       "      <th>player_hit</th>\n",
       "      <th>player_num_hits</th>\n",
       "      <th>player_final</th>\n",
       "      <th>player_busts</th>\n",
       "      <th>player_loses</th>\n",
       "      <th>draw</th>\n",
       "      <th>player_wins</th>\n",
       "      <th>strategy</th>\n",
       "      <th>dealer_hand</th>\n",
       "      <th>player_hand</th>\n",
       "    </tr>\n",
       "  </thead>\n",
       "  <tbody>\n",
       "    <tr>\n",
       "      <th>0</th>\n",
       "      <td>4</td>\n",
       "      <td>10</td>\n",
       "      <td>19</td>\n",
       "      <td>0</td>\n",
       "      <td>0</td>\n",
       "      <td>19</td>\n",
       "      <td>0</td>\n",
       "      <td>9</td>\n",
       "      <td>9</td>\n",
       "      <td>18</td>\n",
       "      <td>1</td>\n",
       "      <td>1</td>\n",
       "      <td>24</td>\n",
       "      <td>1</td>\n",
       "      <td>1</td>\n",
       "      <td>0</td>\n",
       "      <td>0</td>\n",
       "      <td>0</td>\n",
       "      <td>K,9</td>\n",
       "      <td>9,9,6</td>\n",
       "    </tr>\n",
       "    <tr>\n",
       "      <th>1</th>\n",
       "      <td>4</td>\n",
       "      <td>10</td>\n",
       "      <td>20</td>\n",
       "      <td>0</td>\n",
       "      <td>0</td>\n",
       "      <td>20</td>\n",
       "      <td>0</td>\n",
       "      <td>6</td>\n",
       "      <td>6</td>\n",
       "      <td>12</td>\n",
       "      <td>1</td>\n",
       "      <td>2</td>\n",
       "      <td>24</td>\n",
       "      <td>1</td>\n",
       "      <td>1</td>\n",
       "      <td>0</td>\n",
       "      <td>0</td>\n",
       "      <td>0</td>\n",
       "      <td>Q,10</td>\n",
       "      <td>6,6,3,9</td>\n",
       "    </tr>\n",
       "    <tr>\n",
       "      <th>2</th>\n",
       "      <td>4</td>\n",
       "      <td>4</td>\n",
       "      <td>14</td>\n",
       "      <td>0</td>\n",
       "      <td>0</td>\n",
       "      <td>14</td>\n",
       "      <td>0</td>\n",
       "      <td>5</td>\n",
       "      <td>4</td>\n",
       "      <td>9</td>\n",
       "      <td>1</td>\n",
       "      <td>2</td>\n",
       "      <td>25</td>\n",
       "      <td>1</td>\n",
       "      <td>1</td>\n",
       "      <td>0</td>\n",
       "      <td>0</td>\n",
       "      <td>0</td>\n",
       "      <td>4,Q</td>\n",
       "      <td>5,4,6,J</td>\n",
       "    </tr>\n",
       "    <tr>\n",
       "      <th>3</th>\n",
       "      <td>4</td>\n",
       "      <td>6</td>\n",
       "      <td>10</td>\n",
       "      <td>0</td>\n",
       "      <td>0</td>\n",
       "      <td>10</td>\n",
       "      <td>0</td>\n",
       "      <td>10</td>\n",
       "      <td>4</td>\n",
       "      <td>14</td>\n",
       "      <td>1</td>\n",
       "      <td>2</td>\n",
       "      <td>22</td>\n",
       "      <td>1</td>\n",
       "      <td>1</td>\n",
       "      <td>0</td>\n",
       "      <td>0</td>\n",
       "      <td>0</td>\n",
       "      <td>6,4</td>\n",
       "      <td>Q,4,A,7</td>\n",
       "    </tr>\n",
       "    <tr>\n",
       "      <th>4</th>\n",
       "      <td>4</td>\n",
       "      <td>8</td>\n",
       "      <td>12</td>\n",
       "      <td>0</td>\n",
       "      <td>0</td>\n",
       "      <td>12</td>\n",
       "      <td>0</td>\n",
       "      <td>3</td>\n",
       "      <td>4</td>\n",
       "      <td>7</td>\n",
       "      <td>1</td>\n",
       "      <td>2</td>\n",
       "      <td>22</td>\n",
       "      <td>1</td>\n",
       "      <td>1</td>\n",
       "      <td>0</td>\n",
       "      <td>0</td>\n",
       "      <td>0</td>\n",
       "      <td>8,4</td>\n",
       "      <td>3,4,5,10</td>\n",
       "    </tr>\n",
       "  </tbody>\n",
       "</table>\n",
       "</div>"
      ],
      "text/plain": [
       "   num_decks  dealer_open  dealer_initial  dealer_hit  dealer_num_hits  \\\n",
       "0          4           10              19           0                0   \n",
       "1          4           10              20           0                0   \n",
       "2          4            4              14           0                0   \n",
       "3          4            6              10           0                0   \n",
       "4          4            8              12           0                0   \n",
       "\n",
       "   dealer_final  dealer_busts  player_card_one  player_card_two  \\\n",
       "0            19             0                9                9   \n",
       "1            20             0                6                6   \n",
       "2            14             0                5                4   \n",
       "3            10             0               10                4   \n",
       "4            12             0                3                4   \n",
       "\n",
       "   player_inital  player_hit  player_num_hits  player_final  player_busts  \\\n",
       "0             18           1                1            24             1   \n",
       "1             12           1                2            24             1   \n",
       "2              9           1                2            25             1   \n",
       "3             14           1                2            22             1   \n",
       "4              7           1                2            22             1   \n",
       "\n",
       "   player_loses  draw  player_wins  strategy dealer_hand player_hand  \n",
       "0             1     0            0         0         K,9       9,9,6  \n",
       "1             1     0            0         0        Q,10     6,6,3,9  \n",
       "2             1     0            0         0         4,Q     5,4,6,J  \n",
       "3             1     0            0         0         6,4     Q,4,A,7  \n",
       "4             1     0            0         0         8,4    3,4,5,10  "
      ]
     },
     "execution_count": 108,
     "metadata": {},
     "output_type": "execute_result"
    }
   ],
   "source": [
    "df.head()"
   ]
  },
  {
   "cell_type": "code",
   "execution_count": 40,
   "metadata": {
    "ExecuteTime": {
     "end_time": "2017-02-08T21:24:57.903805",
     "start_time": "2017-02-08T21:24:57.899141"
    },
    "collapsed": false
   },
   "outputs": [],
   "source": [
    "score_cols = [\"player_loses\", \"draw\", \"player_wins\"]"
   ]
  },
  {
   "cell_type": "markdown",
   "metadata": {},
   "source": [
    "## Analysis by one card"
   ]
  },
  {
   "cell_type": "markdown",
   "metadata": {},
   "source": [
    "- To determine if we want to split\n",
    "- Look at the probability of winning based on one card\n",
    "    - Use first card for simplicity"
   ]
  },
  {
   "cell_type": "code",
   "execution_count": 41,
   "metadata": {
    "ExecuteTime": {
     "end_time": "2017-02-08T21:25:08.308248",
     "start_time": "2017-02-08T21:25:08.283921"
    },
    "collapsed": false
   },
   "outputs": [
    {
     "data": {
      "text/html": [
       "<div>\n",
       "<table border=\"1\" class=\"dataframe\">\n",
       "  <thead>\n",
       "    <tr style=\"text-align: right;\">\n",
       "      <th></th>\n",
       "      <th>player_card_one</th>\n",
       "      <th>strategy</th>\n",
       "      <th>player_loses</th>\n",
       "      <th>draw</th>\n",
       "      <th>player_wins</th>\n",
       "      <th>cases</th>\n",
       "    </tr>\n",
       "  </thead>\n",
       "  <tbody>\n",
       "    <tr>\n",
       "      <th>0</th>\n",
       "      <td>1</td>\n",
       "      <td>0</td>\n",
       "      <td>274</td>\n",
       "      <td>70</td>\n",
       "      <td>458</td>\n",
       "      <td>802</td>\n",
       "    </tr>\n",
       "    <tr>\n",
       "      <th>1</th>\n",
       "      <td>1</td>\n",
       "      <td>1</td>\n",
       "      <td>261</td>\n",
       "      <td>61</td>\n",
       "      <td>429</td>\n",
       "      <td>751</td>\n",
       "    </tr>\n",
       "    <tr>\n",
       "      <th>2</th>\n",
       "      <td>2</td>\n",
       "      <td>0</td>\n",
       "      <td>503</td>\n",
       "      <td>41</td>\n",
       "      <td>242</td>\n",
       "      <td>786</td>\n",
       "    </tr>\n",
       "    <tr>\n",
       "      <th>3</th>\n",
       "      <td>2</td>\n",
       "      <td>1</td>\n",
       "      <td>439</td>\n",
       "      <td>34</td>\n",
       "      <td>273</td>\n",
       "      <td>746</td>\n",
       "    </tr>\n",
       "    <tr>\n",
       "      <th>4</th>\n",
       "      <td>3</td>\n",
       "      <td>0</td>\n",
       "      <td>487</td>\n",
       "      <td>35</td>\n",
       "      <td>204</td>\n",
       "      <td>726</td>\n",
       "    </tr>\n",
       "  </tbody>\n",
       "</table>\n",
       "</div>"
      ],
      "text/plain": [
       "   player_card_one  strategy  player_loses  draw  player_wins  cases\n",
       "0                1         0           274    70          458    802\n",
       "1                1         1           261    61          429    751\n",
       "2                2         0           503    41          242    786\n",
       "3                2         1           439    34          273    746\n",
       "4                3         0           487    35          204    726"
      ]
     },
     "execution_count": 41,
     "metadata": {},
     "output_type": "execute_result"
    }
   ],
   "source": [
    "one_card = df.groupby([\"player_card_one\", \"strategy\"])[score_cols].sum()\n",
    "one_card.reset_index(inplace=True)\n",
    "one_card[\"cases\"] = one_card[score_cols].apply(sum, axis=1)\n",
    "one_card.head()"
   ]
  },
  {
   "cell_type": "code",
   "execution_count": 42,
   "metadata": {
    "ExecuteTime": {
     "end_time": "2017-02-08T21:25:12.568321",
     "start_time": "2017-02-08T21:25:12.560585"
    },
    "collapsed": false
   },
   "outputs": [],
   "source": [
    "for i in score_cols:\n",
    "    one_card[\"p_\"+i] = one_card[i]/one_card[\"cases\"]"
   ]
  },
  {
   "cell_type": "code",
   "execution_count": 30,
   "metadata": {
    "ExecuteTime": {
     "end_time": "2017-02-08T21:21:15.970082",
     "start_time": "2017-02-08T21:21:15.949911"
    },
    "collapsed": false
   },
   "outputs": [
    {
     "data": {
      "text/html": [
       "<div>\n",
       "<table border=\"1\" class=\"dataframe\">\n",
       "  <thead>\n",
       "    <tr style=\"text-align: right;\">\n",
       "      <th></th>\n",
       "      <th>player_card_one</th>\n",
       "      <th>strategy</th>\n",
       "      <th>player_loses</th>\n",
       "      <th>draw</th>\n",
       "      <th>player_wins</th>\n",
       "      <th>cases</th>\n",
       "      <th>p_player_loses</th>\n",
       "      <th>p_draw</th>\n",
       "      <th>p_player_wins</th>\n",
       "    </tr>\n",
       "  </thead>\n",
       "  <tbody>\n",
       "    <tr>\n",
       "      <th>0</th>\n",
       "      <td>1</td>\n",
       "      <td>0</td>\n",
       "      <td>274</td>\n",
       "      <td>70</td>\n",
       "      <td>458</td>\n",
       "      <td>802</td>\n",
       "      <td>0.341646</td>\n",
       "      <td>0.087282</td>\n",
       "      <td>0.571072</td>\n",
       "    </tr>\n",
       "    <tr>\n",
       "      <th>1</th>\n",
       "      <td>1</td>\n",
       "      <td>1</td>\n",
       "      <td>261</td>\n",
       "      <td>61</td>\n",
       "      <td>429</td>\n",
       "      <td>751</td>\n",
       "      <td>0.347537</td>\n",
       "      <td>0.081225</td>\n",
       "      <td>0.571238</td>\n",
       "    </tr>\n",
       "    <tr>\n",
       "      <th>2</th>\n",
       "      <td>2</td>\n",
       "      <td>0</td>\n",
       "      <td>503</td>\n",
       "      <td>41</td>\n",
       "      <td>242</td>\n",
       "      <td>786</td>\n",
       "      <td>0.639949</td>\n",
       "      <td>0.052163</td>\n",
       "      <td>0.307888</td>\n",
       "    </tr>\n",
       "    <tr>\n",
       "      <th>3</th>\n",
       "      <td>2</td>\n",
       "      <td>1</td>\n",
       "      <td>439</td>\n",
       "      <td>34</td>\n",
       "      <td>273</td>\n",
       "      <td>746</td>\n",
       "      <td>0.588472</td>\n",
       "      <td>0.045576</td>\n",
       "      <td>0.365952</td>\n",
       "    </tr>\n",
       "    <tr>\n",
       "      <th>4</th>\n",
       "      <td>3</td>\n",
       "      <td>0</td>\n",
       "      <td>487</td>\n",
       "      <td>35</td>\n",
       "      <td>204</td>\n",
       "      <td>726</td>\n",
       "      <td>0.670799</td>\n",
       "      <td>0.048209</td>\n",
       "      <td>0.280992</td>\n",
       "    </tr>\n",
       "  </tbody>\n",
       "</table>\n",
       "</div>"
      ],
      "text/plain": [
       "   player_card_one  strategy  player_loses  draw  player_wins  cases  \\\n",
       "0                1         0           274    70          458    802   \n",
       "1                1         1           261    61          429    751   \n",
       "2                2         0           503    41          242    786   \n",
       "3                2         1           439    34          273    746   \n",
       "4                3         0           487    35          204    726   \n",
       "\n",
       "   p_player_loses    p_draw  p_player_wins  \n",
       "0        0.341646  0.087282       0.571072  \n",
       "1        0.347537  0.081225       0.571238  \n",
       "2        0.639949  0.052163       0.307888  \n",
       "3        0.588472  0.045576       0.365952  \n",
       "4        0.670799  0.048209       0.280992  "
      ]
     },
     "execution_count": 30,
     "metadata": {},
     "output_type": "execute_result"
    }
   ],
   "source": [
    "one_card.head()"
   ]
  },
  {
   "cell_type": "code",
   "execution_count": 31,
   "metadata": {
    "ExecuteTime": {
     "end_time": "2017-02-08T21:21:17.910142",
     "start_time": "2017-02-08T21:21:17.645134"
    },
    "collapsed": false
   },
   "outputs": [
    {
     "data": {
      "image/png": "[encoded data removed]",
      "text/plain": [
       "<matplotlib.figure.Figure at 0x119913ba8>"
      ]
     },
     "metadata": {},
     "output_type": "display_data"
    }
   ],
   "source": [
    "plt.scatter(one_card[one_card[\"strategy\"]==0][[\"player_card_one\"]], \n",
    "            one_card[one_card[\"strategy\"]==0][[\"p_player_wins\"]], label=\"random\");\n",
    "plt.scatter(one_card[one_card[\"strategy\"]==1][[\"player_card_one\"]], \n",
    "            one_card[one_card[\"strategy\"]==1][[\"p_player_wins\"]], label=\"recommended\");\n",
    "plt.legend();\n",
    "plt.title(\"Probability of winning given first card\");\n",
    "plt.xlabel(\"First card\");\n",
    "plt.xticks(np.arange(1,11));\n",
    "plt.ylabel(\"Probability of winning\");"
   ]
  },
  {
   "cell_type": "markdown",
   "metadata": {},
   "source": [
    "## Analysis by initial points"
   ]
  },
  {
   "cell_type": "code",
   "execution_count": 32,
   "metadata": {
    "ExecuteTime": {
     "end_time": "2017-02-08T21:21:19.964407",
     "start_time": "2017-02-08T21:21:19.957881"
    },
    "collapsed": false
   },
   "outputs": [
    {
     "data": {
      "text/plain": [
       "Index(['num_decks', 'dealer_open', 'dealer_initial', 'dealer_hit',\n",
       "       'dealer_num_hits', 'dealer_3_card', 'dealer_final', 'dealer_busts',\n",
       "       'player_card_one', 'player_card_two', 'player_initial', 'player_hit',\n",
       "       'player_num_hits', 'player_3_card', 'player_final', 'player_busts',\n",
       "       'player_loses', 'draw', 'player_wins', 'strategy', 'dealer_hand',\n",
       "       'player_hand'],\n",
       "      dtype='object')"
      ]
     },
     "execution_count": 32,
     "metadata": {},
     "output_type": "execute_result"
    }
   ],
   "source": [
    "df.columns"
   ]
  },
  {
   "cell_type": "markdown",
   "metadata": {},
   "source": [
    "### By player"
   ]
  },
  {
   "cell_type": "code",
   "execution_count": 46,
   "metadata": {
    "ExecuteTime": {
     "end_time": "2017-02-08T21:25:45.970932",
     "start_time": "2017-02-08T21:25:45.938873"
    },
    "collapsed": false
   },
   "outputs": [
    {
     "data": {
      "text/html": [
       "<div>\n",
       "<table border=\"1\" class=\"dataframe\">\n",
       "  <thead>\n",
       "    <tr style=\"text-align: right;\">\n",
       "      <th></th>\n",
       "      <th>player_initial</th>\n",
       "      <th>strategy</th>\n",
       "      <th>player_loses</th>\n",
       "      <th>draw</th>\n",
       "      <th>player_wins</th>\n",
       "      <th>cases</th>\n",
       "      <th>p_player_loses</th>\n",
       "      <th>p_draw</th>\n",
       "      <th>p_player_wins</th>\n",
       "    </tr>\n",
       "  </thead>\n",
       "  <tbody>\n",
       "    <tr>\n",
       "      <th>0</th>\n",
       "      <td>4</td>\n",
       "      <td>0</td>\n",
       "      <td>39</td>\n",
       "      <td>4</td>\n",
       "      <td>14</td>\n",
       "      <td>57</td>\n",
       "      <td>0.684211</td>\n",
       "      <td>0.070175</td>\n",
       "      <td>0.245614</td>\n",
       "    </tr>\n",
       "    <tr>\n",
       "      <th>1</th>\n",
       "      <td>4</td>\n",
       "      <td>1</td>\n",
       "      <td>31</td>\n",
       "      <td>1</td>\n",
       "      <td>18</td>\n",
       "      <td>50</td>\n",
       "      <td>0.620000</td>\n",
       "      <td>0.020000</td>\n",
       "      <td>0.360000</td>\n",
       "    </tr>\n",
       "    <tr>\n",
       "      <th>2</th>\n",
       "      <td>5</td>\n",
       "      <td>0</td>\n",
       "      <td>82</td>\n",
       "      <td>5</td>\n",
       "      <td>32</td>\n",
       "      <td>119</td>\n",
       "      <td>0.689076</td>\n",
       "      <td>0.042017</td>\n",
       "      <td>0.268908</td>\n",
       "    </tr>\n",
       "    <tr>\n",
       "      <th>3</th>\n",
       "      <td>5</td>\n",
       "      <td>1</td>\n",
       "      <td>82</td>\n",
       "      <td>6</td>\n",
       "      <td>37</td>\n",
       "      <td>125</td>\n",
       "      <td>0.656000</td>\n",
       "      <td>0.048000</td>\n",
       "      <td>0.296000</td>\n",
       "    </tr>\n",
       "    <tr>\n",
       "      <th>4</th>\n",
       "      <td>6</td>\n",
       "      <td>0</td>\n",
       "      <td>110</td>\n",
       "      <td>8</td>\n",
       "      <td>56</td>\n",
       "      <td>174</td>\n",
       "      <td>0.632184</td>\n",
       "      <td>0.045977</td>\n",
       "      <td>0.321839</td>\n",
       "    </tr>\n",
       "  </tbody>\n",
       "</table>\n",
       "</div>"
      ],
      "text/plain": [
       "   player_initial  strategy  player_loses  draw  player_wins  cases  \\\n",
       "0               4         0            39     4           14     57   \n",
       "1               4         1            31     1           18     50   \n",
       "2               5         0            82     5           32    119   \n",
       "3               5         1            82     6           37    125   \n",
       "4               6         0           110     8           56    174   \n",
       "\n",
       "   p_player_loses    p_draw  p_player_wins  \n",
       "0        0.684211  0.070175       0.245614  \n",
       "1        0.620000  0.020000       0.360000  \n",
       "2        0.689076  0.042017       0.268908  \n",
       "3        0.656000  0.048000       0.296000  \n",
       "4        0.632184  0.045977       0.321839  "
      ]
     },
     "execution_count": 46,
     "metadata": {},
     "output_type": "execute_result"
    }
   ],
   "source": [
    "player_start = df.groupby([\"player_initial\", \"strategy\"])[score_cols].sum()\n",
    "player_start.reset_index(inplace=True)\n",
    "player_start[\"cases\"] = player_start[score_cols].apply(sum, axis=1)\n",
    "for i in score_cols:\n",
    "    player_start[\"p_\"+i] = player_start[i]/player_start[\"cases\"]\n",
    "player_start.head()"
   ]
  },
  {
   "cell_type": "code",
   "execution_count": 47,
   "metadata": {
    "ExecuteTime": {
     "end_time": "2017-02-08T21:25:47.525791",
     "start_time": "2017-02-08T21:25:47.120268"
    },
    "collapsed": false
   },
   "outputs": [
    {
     "data": {
      "image/png": "[encoded data removed]",
      "text/plain": [
       "<matplotlib.figure.Figure at 0x10e5d5a58>"
      ]
     },
     "metadata": {},
     "output_type": "display_data"
    }
   ],
   "source": [
    "plt.scatter(player_start[player_start[\"strategy\"]==0][[\"player_initial\"]], \n",
    "            player_start[player_start[\"strategy\"]==0][[\"p_player_wins\"]], label=\"random\");\n",
    "plt.scatter(player_start[player_start[\"strategy\"]==1][[\"player_initial\"]], \n",
    "            player_start[player_start[\"strategy\"]==1][[\"p_player_wins\"]], label=\"recommended\");\n",
    "plt.legend();\n",
    "plt.title(\"Probability of winning given initial points\");\n",
    "plt.xlabel(\"Initial points\");\n",
    "plt.xticks(np.arange(2,22));\n",
    "plt.ylabel(\"Probability of winning\");"
   ]
  },
  {
   "cell_type": "markdown",
   "metadata": {},
   "source": [
    "### By dealer"
   ]
  },
  {
   "cell_type": "code",
   "execution_count": 48,
   "metadata": {
    "ExecuteTime": {
     "end_time": "2017-02-08T21:25:48.164771",
     "start_time": "2017-02-08T21:25:48.131445"
    },
    "collapsed": false
   },
   "outputs": [
    {
     "data": {
      "text/html": [
       "<div>\n",
       "<table border=\"1\" class=\"dataframe\">\n",
       "  <thead>\n",
       "    <tr style=\"text-align: right;\">\n",
       "      <th></th>\n",
       "      <th>dealer_initial</th>\n",
       "      <th>strategy</th>\n",
       "      <th>player_loses</th>\n",
       "      <th>draw</th>\n",
       "      <th>player_wins</th>\n",
       "      <th>cases</th>\n",
       "      <th>p_player_loses</th>\n",
       "      <th>p_draw</th>\n",
       "      <th>p_player_wins</th>\n",
       "    </tr>\n",
       "  </thead>\n",
       "  <tbody>\n",
       "    <tr>\n",
       "      <th>0</th>\n",
       "      <td>4</td>\n",
       "      <td>0</td>\n",
       "      <td>28</td>\n",
       "      <td>1</td>\n",
       "      <td>19</td>\n",
       "      <td>48</td>\n",
       "      <td>0.583333</td>\n",
       "      <td>0.020833</td>\n",
       "      <td>0.395833</td>\n",
       "    </tr>\n",
       "    <tr>\n",
       "      <th>1</th>\n",
       "      <td>4</td>\n",
       "      <td>1</td>\n",
       "      <td>30</td>\n",
       "      <td>5</td>\n",
       "      <td>22</td>\n",
       "      <td>57</td>\n",
       "      <td>0.526316</td>\n",
       "      <td>0.087719</td>\n",
       "      <td>0.385965</td>\n",
       "    </tr>\n",
       "    <tr>\n",
       "      <th>2</th>\n",
       "      <td>5</td>\n",
       "      <td>0</td>\n",
       "      <td>76</td>\n",
       "      <td>10</td>\n",
       "      <td>48</td>\n",
       "      <td>134</td>\n",
       "      <td>0.567164</td>\n",
       "      <td>0.074627</td>\n",
       "      <td>0.358209</td>\n",
       "    </tr>\n",
       "    <tr>\n",
       "      <th>3</th>\n",
       "      <td>5</td>\n",
       "      <td>1</td>\n",
       "      <td>58</td>\n",
       "      <td>13</td>\n",
       "      <td>49</td>\n",
       "      <td>120</td>\n",
       "      <td>0.483333</td>\n",
       "      <td>0.108333</td>\n",
       "      <td>0.408333</td>\n",
       "    </tr>\n",
       "    <tr>\n",
       "      <th>4</th>\n",
       "      <td>6</td>\n",
       "      <td>0</td>\n",
       "      <td>89</td>\n",
       "      <td>7</td>\n",
       "      <td>68</td>\n",
       "      <td>164</td>\n",
       "      <td>0.542683</td>\n",
       "      <td>0.042683</td>\n",
       "      <td>0.414634</td>\n",
       "    </tr>\n",
       "  </tbody>\n",
       "</table>\n",
       "</div>"
      ],
      "text/plain": [
       "   dealer_initial  strategy  player_loses  draw  player_wins  cases  \\\n",
       "0               4         0            28     1           19     48   \n",
       "1               4         1            30     5           22     57   \n",
       "2               5         0            76    10           48    134   \n",
       "3               5         1            58    13           49    120   \n",
       "4               6         0            89     7           68    164   \n",
       "\n",
       "   p_player_loses    p_draw  p_player_wins  \n",
       "0        0.583333  0.020833       0.395833  \n",
       "1        0.526316  0.087719       0.385965  \n",
       "2        0.567164  0.074627       0.358209  \n",
       "3        0.483333  0.108333       0.408333  \n",
       "4        0.542683  0.042683       0.414634  "
      ]
     },
     "execution_count": 48,
     "metadata": {},
     "output_type": "execute_result"
    }
   ],
   "source": [
    "dealer_start = df.groupby([\"dealer_initial\", \"strategy\"])[score_cols].sum()\n",
    "dealer_start.reset_index(inplace=True)\n",
    "dealer_start[\"cases\"] = dealer_start[score_cols].apply(sum, axis=1)\n",
    "for i in score_cols:\n",
    "    dealer_start[\"p_\"+i] = dealer_start[i]/dealer_start[\"cases\"]\n",
    "dealer_start.head()"
   ]
  },
  {
   "cell_type": "code",
   "execution_count": 49,
   "metadata": {
    "ExecuteTime": {
     "end_time": "2017-02-08T21:25:49.790946",
     "start_time": "2017-02-08T21:25:49.423671"
    },
    "collapsed": false
   },
   "outputs": [
    {
     "data": {
      "image/png": "[encoded data removed]",
      "text/plain": [
       "<matplotlib.figure.Figure at 0x118bee0f0>"
      ]
     },
     "metadata": {},
     "output_type": "display_data"
    }
   ],
   "source": [
    "plt.scatter(dealer_start[dealer_start[\"strategy\"]==0][[\"dealer_initial\"]], \n",
    "            dealer_start[dealer_start[\"strategy\"]==0][[\"p_player_wins\"]], label=\"random\");\n",
    "plt.scatter(dealer_start[dealer_start[\"strategy\"]==1][[\"dealer_initial\"]], \n",
    "            dealer_start[dealer_start[\"strategy\"]==1][[\"p_player_wins\"]], label=\"recommended\");\n",
    "plt.legend();\n",
    "plt.title(\"Probability of winning given initial dealer points\");\n",
    "plt.xlabel(\"Initial points\");\n",
    "plt.xticks(np.arange(2,22));\n",
    "plt.ylabel(\"Probability of winning\");"
   ]
  },
  {
   "cell_type": "markdown",
   "metadata": {},
   "source": [
    "### By player and dealer"
   ]
  },
  {
   "cell_type": "code",
   "execution_count": 54,
   "metadata": {
    "ExecuteTime": {
     "end_time": "2017-02-08T22:17:36.813658",
     "start_time": "2017-02-08T22:17:36.765448"
    },
    "collapsed": false
   },
   "outputs": [
    {
     "data": {
      "text/html": [
       "<div>\n",
       "<table border=\"1\" class=\"dataframe\">\n",
       "  <thead>\n",
       "    <tr style=\"text-align: right;\">\n",
       "      <th></th>\n",
       "      <th>dealer_initial</th>\n",
       "      <th>player_initial</th>\n",
       "      <th>strategy</th>\n",
       "      <th>player_loses</th>\n",
       "      <th>draw</th>\n",
       "      <th>player_wins</th>\n",
       "      <th>cases</th>\n",
       "      <th>p_player_loses</th>\n",
       "      <th>p_draw</th>\n",
       "      <th>p_player_wins</th>\n",
       "    </tr>\n",
       "  </thead>\n",
       "  <tbody>\n",
       "    <tr>\n",
       "      <th>0</th>\n",
       "      <td>4</td>\n",
       "      <td>5</td>\n",
       "      <td>0</td>\n",
       "      <td>2</td>\n",
       "      <td>0</td>\n",
       "      <td>0</td>\n",
       "      <td>2</td>\n",
       "      <td>1.000000</td>\n",
       "      <td>0.00</td>\n",
       "      <td>0.000000</td>\n",
       "    </tr>\n",
       "    <tr>\n",
       "      <th>1</th>\n",
       "      <td>4</td>\n",
       "      <td>7</td>\n",
       "      <td>1</td>\n",
       "      <td>2</td>\n",
       "      <td>1</td>\n",
       "      <td>1</td>\n",
       "      <td>4</td>\n",
       "      <td>0.500000</td>\n",
       "      <td>0.25</td>\n",
       "      <td>0.250000</td>\n",
       "    </tr>\n",
       "    <tr>\n",
       "      <th>2</th>\n",
       "      <td>4</td>\n",
       "      <td>8</td>\n",
       "      <td>0</td>\n",
       "      <td>0</td>\n",
       "      <td>0</td>\n",
       "      <td>1</td>\n",
       "      <td>1</td>\n",
       "      <td>0.000000</td>\n",
       "      <td>0.00</td>\n",
       "      <td>1.000000</td>\n",
       "    </tr>\n",
       "    <tr>\n",
       "      <th>3</th>\n",
       "      <td>4</td>\n",
       "      <td>8</td>\n",
       "      <td>1</td>\n",
       "      <td>2</td>\n",
       "      <td>0</td>\n",
       "      <td>0</td>\n",
       "      <td>2</td>\n",
       "      <td>1.000000</td>\n",
       "      <td>0.00</td>\n",
       "      <td>0.000000</td>\n",
       "    </tr>\n",
       "    <tr>\n",
       "      <th>4</th>\n",
       "      <td>4</td>\n",
       "      <td>9</td>\n",
       "      <td>0</td>\n",
       "      <td>2</td>\n",
       "      <td>0</td>\n",
       "      <td>1</td>\n",
       "      <td>3</td>\n",
       "      <td>0.666667</td>\n",
       "      <td>0.00</td>\n",
       "      <td>0.333333</td>\n",
       "    </tr>\n",
       "  </tbody>\n",
       "</table>\n",
       "</div>"
      ],
      "text/plain": [
       "   dealer_initial  player_initial  strategy  player_loses  draw  player_wins  \\\n",
       "0               4               5         0             2     0            0   \n",
       "1               4               7         1             2     1            1   \n",
       "2               4               8         0             0     0            1   \n",
       "3               4               8         1             2     0            0   \n",
       "4               4               9         0             2     0            1   \n",
       "\n",
       "   cases  p_player_loses  p_draw  p_player_wins  \n",
       "0      2        1.000000    0.00       0.000000  \n",
       "1      4        0.500000    0.25       0.250000  \n",
       "2      1        0.000000    0.00       1.000000  \n",
       "3      2        1.000000    0.00       0.000000  \n",
       "4      3        0.666667    0.00       0.333333  "
      ]
     },
     "execution_count": 54,
     "metadata": {},
     "output_type": "execute_result"
    }
   ],
   "source": [
    "p_and_d = df.groupby([\"dealer_initial\", \"player_initial\", \"strategy\"])[score_cols].sum()\n",
    "p_and_d.reset_index(inplace=True)\n",
    "p_and_d[\"cases\"] = p_and_d[score_cols].apply(sum, axis=1)\n",
    "for i in score_cols:\n",
    "    p_and_d[\"p_\"+i] = p_and_d[i]/p_and_d[\"cases\"]\n",
    "p_and_d.head()"
   ]
  },
  {
   "cell_type": "code",
   "execution_count": 55,
   "metadata": {
    "ExecuteTime": {
     "end_time": "2017-02-08T22:17:39.330236",
     "start_time": "2017-02-08T22:17:38.921950"
    },
    "collapsed": false
   },
   "outputs": [
    {
     "data": {
      "image/png": "[encoded data removed]",
      "text/plain": [
       "<matplotlib.figure.Figure at 0x117f0bfd0>"
      ]
     },
     "metadata": {},
     "output_type": "display_data"
    }
   ],
   "source": [
    "plt.scatter(x=\"dealer_initial\", y=\"player_initial\", data=df[df.player_wins==1], alpha=0.2);\n",
    "plt.xlabel(\"Dealer initial points\");\n",
    "plt.ylabel(\"Player inital points\");\n",
    "plt.xticks(np.arange(3,22));\n",
    "plt.yticks(np.arange(3,22));"
   ]
  },
  {
   "cell_type": "markdown",
   "metadata": {
    "collapsed": false
   },
   "source": [
    "# Given your first 2 cards and the dealer's open card (i.e. the open cards on the table), what's the probability that you end up with X points?"
   ]
  },
  {
   "cell_type": "code",
   "execution_count": 122,
   "metadata": {
    "ExecuteTime": {
     "end_time": "2017-02-08T22:42:23.823868",
     "start_time": "2017-02-08T22:42:23.363112"
    },
    "collapsed": false
   },
   "outputs": [],
   "source": [
    "final_points = pd.pivot_table(df, index=[\"dealer_open\", \"player_card_one\", \"player_card_two\"], \n",
    "                              columns=\"player_final\", values=\"player_wins\", aggfunc=len)\n",
    "final_points.reset_index(inplace=True)"
   ]
  },
  {
   "cell_type": "code",
   "execution_count": 123,
   "metadata": {
    "ExecuteTime": {
     "end_time": "2017-02-08T22:42:23.897890",
     "start_time": "2017-02-08T22:42:23.861614"
    },
    "collapsed": false
   },
   "outputs": [
    {
     "data": {
      "text/html": [
       "<div>\n",
       "<table border=\"1\" class=\"dataframe\">\n",
       "  <thead>\n",
       "    <tr style=\"text-align: right;\">\n",
       "      <th>player_final</th>\n",
       "      <th>dealer_open</th>\n",
       "      <th>player_card_one</th>\n",
       "      <th>player_card_two</th>\n",
       "      <th>4</th>\n",
       "      <th>5</th>\n",
       "      <th>6</th>\n",
       "      <th>7</th>\n",
       "      <th>8</th>\n",
       "      <th>9</th>\n",
       "      <th>10</th>\n",
       "      <th>...</th>\n",
       "      <th>19</th>\n",
       "      <th>20</th>\n",
       "      <th>21</th>\n",
       "      <th>22</th>\n",
       "      <th>23</th>\n",
       "      <th>24</th>\n",
       "      <th>25</th>\n",
       "      <th>26</th>\n",
       "      <th>27</th>\n",
       "      <th>28</th>\n",
       "    </tr>\n",
       "  </thead>\n",
       "  <tbody>\n",
       "    <tr>\n",
       "      <th>0</th>\n",
       "      <td>1</td>\n",
       "      <td>1</td>\n",
       "      <td>1</td>\n",
       "      <td>NaN</td>\n",
       "      <td>NaN</td>\n",
       "      <td>NaN</td>\n",
       "      <td>NaN</td>\n",
       "      <td>NaN</td>\n",
       "      <td>NaN</td>\n",
       "      <td>NaN</td>\n",
       "      <td>...</td>\n",
       "      <td>1.0</td>\n",
       "      <td>1.0</td>\n",
       "      <td>5.0</td>\n",
       "      <td>4.0</td>\n",
       "      <td>2.0</td>\n",
       "      <td>NaN</td>\n",
       "      <td>1.0</td>\n",
       "      <td>NaN</td>\n",
       "      <td>1.0</td>\n",
       "      <td>NaN</td>\n",
       "    </tr>\n",
       "    <tr>\n",
       "      <th>1</th>\n",
       "      <td>1</td>\n",
       "      <td>1</td>\n",
       "      <td>2</td>\n",
       "      <td>NaN</td>\n",
       "      <td>NaN</td>\n",
       "      <td>NaN</td>\n",
       "      <td>NaN</td>\n",
       "      <td>NaN</td>\n",
       "      <td>NaN</td>\n",
       "      <td>NaN</td>\n",
       "      <td>...</td>\n",
       "      <td>2.0</td>\n",
       "      <td>3.0</td>\n",
       "      <td>4.0</td>\n",
       "      <td>1.0</td>\n",
       "      <td>4.0</td>\n",
       "      <td>1.0</td>\n",
       "      <td>1.0</td>\n",
       "      <td>1.0</td>\n",
       "      <td>NaN</td>\n",
       "      <td>2.0</td>\n",
       "    </tr>\n",
       "    <tr>\n",
       "      <th>2</th>\n",
       "      <td>1</td>\n",
       "      <td>1</td>\n",
       "      <td>3</td>\n",
       "      <td>NaN</td>\n",
       "      <td>NaN</td>\n",
       "      <td>NaN</td>\n",
       "      <td>NaN</td>\n",
       "      <td>NaN</td>\n",
       "      <td>NaN</td>\n",
       "      <td>NaN</td>\n",
       "      <td>...</td>\n",
       "      <td>NaN</td>\n",
       "      <td>2.0</td>\n",
       "      <td>6.0</td>\n",
       "      <td>NaN</td>\n",
       "      <td>1.0</td>\n",
       "      <td>3.0</td>\n",
       "      <td>NaN</td>\n",
       "      <td>NaN</td>\n",
       "      <td>1.0</td>\n",
       "      <td>1.0</td>\n",
       "    </tr>\n",
       "    <tr>\n",
       "      <th>3</th>\n",
       "      <td>1</td>\n",
       "      <td>1</td>\n",
       "      <td>4</td>\n",
       "      <td>NaN</td>\n",
       "      <td>NaN</td>\n",
       "      <td>NaN</td>\n",
       "      <td>NaN</td>\n",
       "      <td>NaN</td>\n",
       "      <td>NaN</td>\n",
       "      <td>NaN</td>\n",
       "      <td>...</td>\n",
       "      <td>5.0</td>\n",
       "      <td>2.0</td>\n",
       "      <td>2.0</td>\n",
       "      <td>2.0</td>\n",
       "      <td>1.0</td>\n",
       "      <td>1.0</td>\n",
       "      <td>2.0</td>\n",
       "      <td>NaN</td>\n",
       "      <td>NaN</td>\n",
       "      <td>NaN</td>\n",
       "    </tr>\n",
       "    <tr>\n",
       "      <th>4</th>\n",
       "      <td>1</td>\n",
       "      <td>1</td>\n",
       "      <td>5</td>\n",
       "      <td>NaN</td>\n",
       "      <td>NaN</td>\n",
       "      <td>NaN</td>\n",
       "      <td>NaN</td>\n",
       "      <td>NaN</td>\n",
       "      <td>NaN</td>\n",
       "      <td>NaN</td>\n",
       "      <td>...</td>\n",
       "      <td>2.0</td>\n",
       "      <td>1.0</td>\n",
       "      <td>1.0</td>\n",
       "      <td>4.0</td>\n",
       "      <td>NaN</td>\n",
       "      <td>NaN</td>\n",
       "      <td>NaN</td>\n",
       "      <td>1.0</td>\n",
       "      <td>NaN</td>\n",
       "      <td>NaN</td>\n",
       "    </tr>\n",
       "  </tbody>\n",
       "</table>\n",
       "<p>5 rows × 28 columns</p>\n",
       "</div>"
      ],
      "text/plain": [
       "player_final  dealer_open  player_card_one  player_card_two   4   5   6   7  \\\n",
       "0                       1                1                1 NaN NaN NaN NaN   \n",
       "1                       1                1                2 NaN NaN NaN NaN   \n",
       "2                       1                1                3 NaN NaN NaN NaN   \n",
       "3                       1                1                4 NaN NaN NaN NaN   \n",
       "4                       1                1                5 NaN NaN NaN NaN   \n",
       "\n",
       "player_final   8   9  10 ...    19   20   21   22   23   24   25   26   27  \\\n",
       "0            NaN NaN NaN ...   1.0  1.0  5.0  4.0  2.0  NaN  1.0  NaN  1.0   \n",
       "1            NaN NaN NaN ...   2.0  3.0  4.0  1.0  4.0  1.0  1.0  1.0  NaN   \n",
       "2            NaN NaN NaN ...   NaN  2.0  6.0  NaN  1.0  3.0  NaN  NaN  1.0   \n",
       "3            NaN NaN NaN ...   5.0  2.0  2.0  2.0  1.0  1.0  2.0  NaN  NaN   \n",
       "4            NaN NaN NaN ...   2.0  1.0  1.0  4.0  NaN  NaN  NaN  1.0  NaN   \n",
       "\n",
       "player_final   28  \n",
       "0             NaN  \n",
       "1             2.0  \n",
       "2             1.0  \n",
       "3             NaN  \n",
       "4             NaN  \n",
       "\n",
       "[5 rows x 28 columns]"
      ]
     },
     "execution_count": 123,
     "metadata": {},
     "output_type": "execute_result"
    }
   ],
   "source": [
    "final_points.head()"
   ]
  },
  {
   "cell_type": "code",
   "execution_count": 130,
   "metadata": {
    "ExecuteTime": {
     "end_time": "2017-02-08T22:44:19.977695",
     "start_time": "2017-02-08T22:44:19.936725"
    },
    "collapsed": false
   },
   "outputs": [
    {
     "data": {
      "text/html": [
       "<div>\n",
       "<table border=\"1\" class=\"dataframe\">\n",
       "  <thead>\n",
       "    <tr style=\"text-align: right;\">\n",
       "      <th></th>\n",
       "      <th>dealer_open</th>\n",
       "      <th>player_card_one</th>\n",
       "      <th>player_card_two</th>\n",
       "      <th>player_final</th>\n",
       "      <th>value</th>\n",
       "    </tr>\n",
       "  </thead>\n",
       "  <tbody>\n",
       "    <tr>\n",
       "      <th>0</th>\n",
       "      <td>1</td>\n",
       "      <td>1</td>\n",
       "      <td>1</td>\n",
       "      <td>4</td>\n",
       "      <td>NaN</td>\n",
       "    </tr>\n",
       "    <tr>\n",
       "      <th>1</th>\n",
       "      <td>1</td>\n",
       "      <td>1</td>\n",
       "      <td>2</td>\n",
       "      <td>4</td>\n",
       "      <td>NaN</td>\n",
       "    </tr>\n",
       "    <tr>\n",
       "      <th>2</th>\n",
       "      <td>1</td>\n",
       "      <td>1</td>\n",
       "      <td>3</td>\n",
       "      <td>4</td>\n",
       "      <td>NaN</td>\n",
       "    </tr>\n",
       "    <tr>\n",
       "      <th>3</th>\n",
       "      <td>1</td>\n",
       "      <td>1</td>\n",
       "      <td>4</td>\n",
       "      <td>4</td>\n",
       "      <td>NaN</td>\n",
       "    </tr>\n",
       "    <tr>\n",
       "      <th>4</th>\n",
       "      <td>1</td>\n",
       "      <td>1</td>\n",
       "      <td>5</td>\n",
       "      <td>4</td>\n",
       "      <td>NaN</td>\n",
       "    </tr>\n",
       "    <tr>\n",
       "      <th>5</th>\n",
       "      <td>1</td>\n",
       "      <td>1</td>\n",
       "      <td>6</td>\n",
       "      <td>4</td>\n",
       "      <td>NaN</td>\n",
       "    </tr>\n",
       "    <tr>\n",
       "      <th>6</th>\n",
       "      <td>1</td>\n",
       "      <td>1</td>\n",
       "      <td>7</td>\n",
       "      <td>4</td>\n",
       "      <td>NaN</td>\n",
       "    </tr>\n",
       "    <tr>\n",
       "      <th>7</th>\n",
       "      <td>1</td>\n",
       "      <td>1</td>\n",
       "      <td>8</td>\n",
       "      <td>4</td>\n",
       "      <td>NaN</td>\n",
       "    </tr>\n",
       "    <tr>\n",
       "      <th>8</th>\n",
       "      <td>1</td>\n",
       "      <td>1</td>\n",
       "      <td>9</td>\n",
       "      <td>4</td>\n",
       "      <td>NaN</td>\n",
       "    </tr>\n",
       "    <tr>\n",
       "      <th>9</th>\n",
       "      <td>1</td>\n",
       "      <td>1</td>\n",
       "      <td>10</td>\n",
       "      <td>4</td>\n",
       "      <td>NaN</td>\n",
       "    </tr>\n",
       "    <tr>\n",
       "      <th>10</th>\n",
       "      <td>1</td>\n",
       "      <td>2</td>\n",
       "      <td>1</td>\n",
       "      <td>4</td>\n",
       "      <td>NaN</td>\n",
       "    </tr>\n",
       "    <tr>\n",
       "      <th>11</th>\n",
       "      <td>1</td>\n",
       "      <td>2</td>\n",
       "      <td>2</td>\n",
       "      <td>4</td>\n",
       "      <td>7.0</td>\n",
       "    </tr>\n",
       "    <tr>\n",
       "      <th>12</th>\n",
       "      <td>1</td>\n",
       "      <td>2</td>\n",
       "      <td>3</td>\n",
       "      <td>4</td>\n",
       "      <td>NaN</td>\n",
       "    </tr>\n",
       "    <tr>\n",
       "      <th>13</th>\n",
       "      <td>1</td>\n",
       "      <td>2</td>\n",
       "      <td>4</td>\n",
       "      <td>4</td>\n",
       "      <td>NaN</td>\n",
       "    </tr>\n",
       "    <tr>\n",
       "      <th>14</th>\n",
       "      <td>1</td>\n",
       "      <td>2</td>\n",
       "      <td>5</td>\n",
       "      <td>4</td>\n",
       "      <td>NaN</td>\n",
       "    </tr>\n",
       "    <tr>\n",
       "      <th>15</th>\n",
       "      <td>1</td>\n",
       "      <td>2</td>\n",
       "      <td>6</td>\n",
       "      <td>4</td>\n",
       "      <td>NaN</td>\n",
       "    </tr>\n",
       "    <tr>\n",
       "      <th>16</th>\n",
       "      <td>1</td>\n",
       "      <td>2</td>\n",
       "      <td>7</td>\n",
       "      <td>4</td>\n",
       "      <td>NaN</td>\n",
       "    </tr>\n",
       "    <tr>\n",
       "      <th>17</th>\n",
       "      <td>1</td>\n",
       "      <td>2</td>\n",
       "      <td>8</td>\n",
       "      <td>4</td>\n",
       "      <td>NaN</td>\n",
       "    </tr>\n",
       "    <tr>\n",
       "      <th>18</th>\n",
       "      <td>1</td>\n",
       "      <td>2</td>\n",
       "      <td>9</td>\n",
       "      <td>4</td>\n",
       "      <td>NaN</td>\n",
       "    </tr>\n",
       "    <tr>\n",
       "      <th>19</th>\n",
       "      <td>1</td>\n",
       "      <td>2</td>\n",
       "      <td>10</td>\n",
       "      <td>4</td>\n",
       "      <td>NaN</td>\n",
       "    </tr>\n",
       "    <tr>\n",
       "      <th>20</th>\n",
       "      <td>1</td>\n",
       "      <td>3</td>\n",
       "      <td>1</td>\n",
       "      <td>4</td>\n",
       "      <td>NaN</td>\n",
       "    </tr>\n",
       "    <tr>\n",
       "      <th>21</th>\n",
       "      <td>1</td>\n",
       "      <td>3</td>\n",
       "      <td>2</td>\n",
       "      <td>4</td>\n",
       "      <td>NaN</td>\n",
       "    </tr>\n",
       "    <tr>\n",
       "      <th>22</th>\n",
       "      <td>1</td>\n",
       "      <td>3</td>\n",
       "      <td>3</td>\n",
       "      <td>4</td>\n",
       "      <td>NaN</td>\n",
       "    </tr>\n",
       "    <tr>\n",
       "      <th>23</th>\n",
       "      <td>1</td>\n",
       "      <td>3</td>\n",
       "      <td>4</td>\n",
       "      <td>4</td>\n",
       "      <td>NaN</td>\n",
       "    </tr>\n",
       "    <tr>\n",
       "      <th>24</th>\n",
       "      <td>1</td>\n",
       "      <td>3</td>\n",
       "      <td>5</td>\n",
       "      <td>4</td>\n",
       "      <td>NaN</td>\n",
       "    </tr>\n",
       "    <tr>\n",
       "      <th>25</th>\n",
       "      <td>1</td>\n",
       "      <td>3</td>\n",
       "      <td>6</td>\n",
       "      <td>4</td>\n",
       "      <td>NaN</td>\n",
       "    </tr>\n",
       "    <tr>\n",
       "      <th>26</th>\n",
       "      <td>1</td>\n",
       "      <td>3</td>\n",
       "      <td>7</td>\n",
       "      <td>4</td>\n",
       "      <td>NaN</td>\n",
       "    </tr>\n",
       "    <tr>\n",
       "      <th>27</th>\n",
       "      <td>1</td>\n",
       "      <td>3</td>\n",
       "      <td>8</td>\n",
       "      <td>4</td>\n",
       "      <td>NaN</td>\n",
       "    </tr>\n",
       "    <tr>\n",
       "      <th>28</th>\n",
       "      <td>1</td>\n",
       "      <td>3</td>\n",
       "      <td>9</td>\n",
       "      <td>4</td>\n",
       "      <td>NaN</td>\n",
       "    </tr>\n",
       "    <tr>\n",
       "      <th>29</th>\n",
       "      <td>1</td>\n",
       "      <td>3</td>\n",
       "      <td>10</td>\n",
       "      <td>4</td>\n",
       "      <td>NaN</td>\n",
       "    </tr>\n",
       "    <tr>\n",
       "      <th>...</th>\n",
       "      <td>...</td>\n",
       "      <td>...</td>\n",
       "      <td>...</td>\n",
       "      <td>...</td>\n",
       "      <td>...</td>\n",
       "    </tr>\n",
       "    <tr>\n",
       "      <th>24970</th>\n",
       "      <td>10</td>\n",
       "      <td>8</td>\n",
       "      <td>1</td>\n",
       "      <td>28</td>\n",
       "      <td>NaN</td>\n",
       "    </tr>\n",
       "    <tr>\n",
       "      <th>24971</th>\n",
       "      <td>10</td>\n",
       "      <td>8</td>\n",
       "      <td>2</td>\n",
       "      <td>28</td>\n",
       "      <td>1.0</td>\n",
       "    </tr>\n",
       "    <tr>\n",
       "      <th>24972</th>\n",
       "      <td>10</td>\n",
       "      <td>8</td>\n",
       "      <td>3</td>\n",
       "      <td>28</td>\n",
       "      <td>2.0</td>\n",
       "    </tr>\n",
       "    <tr>\n",
       "      <th>24973</th>\n",
       "      <td>10</td>\n",
       "      <td>8</td>\n",
       "      <td>4</td>\n",
       "      <td>28</td>\n",
       "      <td>NaN</td>\n",
       "    </tr>\n",
       "    <tr>\n",
       "      <th>24974</th>\n",
       "      <td>10</td>\n",
       "      <td>8</td>\n",
       "      <td>5</td>\n",
       "      <td>28</td>\n",
       "      <td>NaN</td>\n",
       "    </tr>\n",
       "    <tr>\n",
       "      <th>24975</th>\n",
       "      <td>10</td>\n",
       "      <td>8</td>\n",
       "      <td>6</td>\n",
       "      <td>28</td>\n",
       "      <td>1.0</td>\n",
       "    </tr>\n",
       "    <tr>\n",
       "      <th>24976</th>\n",
       "      <td>10</td>\n",
       "      <td>8</td>\n",
       "      <td>7</td>\n",
       "      <td>28</td>\n",
       "      <td>2.0</td>\n",
       "    </tr>\n",
       "    <tr>\n",
       "      <th>24977</th>\n",
       "      <td>10</td>\n",
       "      <td>8</td>\n",
       "      <td>8</td>\n",
       "      <td>28</td>\n",
       "      <td>1.0</td>\n",
       "    </tr>\n",
       "    <tr>\n",
       "      <th>24978</th>\n",
       "      <td>10</td>\n",
       "      <td>8</td>\n",
       "      <td>9</td>\n",
       "      <td>28</td>\n",
       "      <td>2.0</td>\n",
       "    </tr>\n",
       "    <tr>\n",
       "      <th>24979</th>\n",
       "      <td>10</td>\n",
       "      <td>8</td>\n",
       "      <td>10</td>\n",
       "      <td>28</td>\n",
       "      <td>45.0</td>\n",
       "    </tr>\n",
       "    <tr>\n",
       "      <th>24980</th>\n",
       "      <td>10</td>\n",
       "      <td>9</td>\n",
       "      <td>1</td>\n",
       "      <td>28</td>\n",
       "      <td>NaN</td>\n",
       "    </tr>\n",
       "    <tr>\n",
       "      <th>24981</th>\n",
       "      <td>10</td>\n",
       "      <td>9</td>\n",
       "      <td>2</td>\n",
       "      <td>28</td>\n",
       "      <td>7.0</td>\n",
       "    </tr>\n",
       "    <tr>\n",
       "      <th>24982</th>\n",
       "      <td>10</td>\n",
       "      <td>9</td>\n",
       "      <td>3</td>\n",
       "      <td>28</td>\n",
       "      <td>NaN</td>\n",
       "    </tr>\n",
       "    <tr>\n",
       "      <th>24983</th>\n",
       "      <td>10</td>\n",
       "      <td>9</td>\n",
       "      <td>4</td>\n",
       "      <td>28</td>\n",
       "      <td>3.0</td>\n",
       "    </tr>\n",
       "    <tr>\n",
       "      <th>24984</th>\n",
       "      <td>10</td>\n",
       "      <td>9</td>\n",
       "      <td>5</td>\n",
       "      <td>28</td>\n",
       "      <td>4.0</td>\n",
       "    </tr>\n",
       "    <tr>\n",
       "      <th>24985</th>\n",
       "      <td>10</td>\n",
       "      <td>9</td>\n",
       "      <td>6</td>\n",
       "      <td>28</td>\n",
       "      <td>2.0</td>\n",
       "    </tr>\n",
       "    <tr>\n",
       "      <th>24986</th>\n",
       "      <td>10</td>\n",
       "      <td>9</td>\n",
       "      <td>7</td>\n",
       "      <td>28</td>\n",
       "      <td>NaN</td>\n",
       "    </tr>\n",
       "    <tr>\n",
       "      <th>24987</th>\n",
       "      <td>10</td>\n",
       "      <td>9</td>\n",
       "      <td>8</td>\n",
       "      <td>28</td>\n",
       "      <td>NaN</td>\n",
       "    </tr>\n",
       "    <tr>\n",
       "      <th>24988</th>\n",
       "      <td>10</td>\n",
       "      <td>9</td>\n",
       "      <td>9</td>\n",
       "      <td>28</td>\n",
       "      <td>12.0</td>\n",
       "    </tr>\n",
       "    <tr>\n",
       "      <th>24989</th>\n",
       "      <td>10</td>\n",
       "      <td>9</td>\n",
       "      <td>10</td>\n",
       "      <td>28</td>\n",
       "      <td>NaN</td>\n",
       "    </tr>\n",
       "    <tr>\n",
       "      <th>24990</th>\n",
       "      <td>10</td>\n",
       "      <td>10</td>\n",
       "      <td>1</td>\n",
       "      <td>28</td>\n",
       "      <td>NaN</td>\n",
       "    </tr>\n",
       "    <tr>\n",
       "      <th>24991</th>\n",
       "      <td>10</td>\n",
       "      <td>10</td>\n",
       "      <td>2</td>\n",
       "      <td>28</td>\n",
       "      <td>5.0</td>\n",
       "    </tr>\n",
       "    <tr>\n",
       "      <th>24992</th>\n",
       "      <td>10</td>\n",
       "      <td>10</td>\n",
       "      <td>3</td>\n",
       "      <td>28</td>\n",
       "      <td>6.0</td>\n",
       "    </tr>\n",
       "    <tr>\n",
       "      <th>24993</th>\n",
       "      <td>10</td>\n",
       "      <td>10</td>\n",
       "      <td>4</td>\n",
       "      <td>28</td>\n",
       "      <td>5.0</td>\n",
       "    </tr>\n",
       "    <tr>\n",
       "      <th>24994</th>\n",
       "      <td>10</td>\n",
       "      <td>10</td>\n",
       "      <td>5</td>\n",
       "      <td>28</td>\n",
       "      <td>3.0</td>\n",
       "    </tr>\n",
       "    <tr>\n",
       "      <th>24995</th>\n",
       "      <td>10</td>\n",
       "      <td>10</td>\n",
       "      <td>6</td>\n",
       "      <td>28</td>\n",
       "      <td>6.0</td>\n",
       "    </tr>\n",
       "    <tr>\n",
       "      <th>24996</th>\n",
       "      <td>10</td>\n",
       "      <td>10</td>\n",
       "      <td>7</td>\n",
       "      <td>28</td>\n",
       "      <td>4.0</td>\n",
       "    </tr>\n",
       "    <tr>\n",
       "      <th>24997</th>\n",
       "      <td>10</td>\n",
       "      <td>10</td>\n",
       "      <td>8</td>\n",
       "      <td>28</td>\n",
       "      <td>61.0</td>\n",
       "    </tr>\n",
       "    <tr>\n",
       "      <th>24998</th>\n",
       "      <td>10</td>\n",
       "      <td>10</td>\n",
       "      <td>9</td>\n",
       "      <td>28</td>\n",
       "      <td>NaN</td>\n",
       "    </tr>\n",
       "    <tr>\n",
       "      <th>24999</th>\n",
       "      <td>10</td>\n",
       "      <td>10</td>\n",
       "      <td>10</td>\n",
       "      <td>28</td>\n",
       "      <td>NaN</td>\n",
       "    </tr>\n",
       "  </tbody>\n",
       "</table>\n",
       "<p>25000 rows × 5 columns</p>\n",
       "</div>"
      ],
      "text/plain": [
       "       dealer_open  player_card_one  player_card_two player_final  value\n",
       "0                1                1                1            4    NaN\n",
       "1                1                1                2            4    NaN\n",
       "2                1                1                3            4    NaN\n",
       "3                1                1                4            4    NaN\n",
       "4                1                1                5            4    NaN\n",
       "5                1                1                6            4    NaN\n",
       "6                1                1                7            4    NaN\n",
       "7                1                1                8            4    NaN\n",
       "8                1                1                9            4    NaN\n",
       "9                1                1               10            4    NaN\n",
       "10               1                2                1            4    NaN\n",
       "11               1                2                2            4    7.0\n",
       "12               1                2                3            4    NaN\n",
       "13               1                2                4            4    NaN\n",
       "14               1                2                5            4    NaN\n",
       "15               1                2                6            4    NaN\n",
       "16               1                2                7            4    NaN\n",
       "17               1                2                8            4    NaN\n",
       "18               1                2                9            4    NaN\n",
       "19               1                2               10            4    NaN\n",
       "20               1                3                1            4    NaN\n",
       "21               1                3                2            4    NaN\n",
       "22               1                3                3            4    NaN\n",
       "23               1                3                4            4    NaN\n",
       "24               1                3                5            4    NaN\n",
       "25               1                3                6            4    NaN\n",
       "26               1                3                7            4    NaN\n",
       "27               1                3                8            4    NaN\n",
       "28               1                3                9            4    NaN\n",
       "29               1                3               10            4    NaN\n",
       "...            ...              ...              ...          ...    ...\n",
       "24970           10                8                1           28    NaN\n",
       "24971           10                8                2           28    1.0\n",
       "24972           10                8                3           28    2.0\n",
       "24973           10                8                4           28    NaN\n",
       "24974           10                8                5           28    NaN\n",
       "24975           10                8                6           28    1.0\n",
       "24976           10                8                7           28    2.0\n",
       "24977           10                8                8           28    1.0\n",
       "24978           10                8                9           28    2.0\n",
       "24979           10                8               10           28   45.0\n",
       "24980           10                9                1           28    NaN\n",
       "24981           10                9                2           28    7.0\n",
       "24982           10                9                3           28    NaN\n",
       "24983           10                9                4           28    3.0\n",
       "24984           10                9                5           28    4.0\n",
       "24985           10                9                6           28    2.0\n",
       "24986           10                9                7           28    NaN\n",
       "24987           10                9                8           28    NaN\n",
       "24988           10                9                9           28   12.0\n",
       "24989           10                9               10           28    NaN\n",
       "24990           10               10                1           28    NaN\n",
       "24991           10               10                2           28    5.0\n",
       "24992           10               10                3           28    6.0\n",
       "24993           10               10                4           28    5.0\n",
       "24994           10               10                5           28    3.0\n",
       "24995           10               10                6           28    6.0\n",
       "24996           10               10                7           28    4.0\n",
       "24997           10               10                8           28   61.0\n",
       "24998           10               10                9           28    NaN\n",
       "24999           10               10               10           28    NaN\n",
       "\n",
       "[25000 rows x 5 columns]"
      ]
     },
     "execution_count": 130,
     "metadata": {},
     "output_type": "execute_result"
    }
   ],
   "source": [
    "pd.melt(final_points, id_vars=[\"dealer_open\", \"player_card_one\", \"player_card_two\"], value_vars=[4,5,6,7,8,9,10,11,12,13,14,15,16,17,18,19,20,21,22,23,24,25,26,27,28])"
   ]
  },
  {
   "cell_type": "code",
   "execution_count": 117,
   "metadata": {
    "ExecuteTime": {
     "end_time": "2017-02-08T22:39:25.516031",
     "start_time": "2017-02-08T22:39:25.451675"
    },
    "collapsed": false
   },
   "outputs": [],
   "source": [
    "final_points[\"open_cards\"] = 0"
   ]
  },
  {
   "cell_type": "code",
   "execution_count": 118,
   "metadata": {
    "ExecuteTime": {
     "end_time": "2017-02-08T22:40:07.578272",
     "start_time": "2017-02-08T22:39:27.627166"
    },
    "collapsed": false
   },
   "outputs": [
    {
     "name": "stderr",
     "output_type": "stream",
     "text": [
      "/Users/joce/anaconda2/envs/py36/lib/python3.6/site-packages/ipykernel/__main__.py:4: SettingWithCopyWarning: \n",
      "A value is trying to be set on a copy of a slice from a DataFrame\n",
      "\n",
      "See the caveats in the documentation: http://pandas.pydata.org/pandas-docs/stable/indexing.html#indexing-view-versus-copy\n"
     ]
    }
   ],
   "source": [
    "for i in final_points.index:\n",
    "    final_points[\"open_cards\"][i] = int(\"\".join(str(i) for i in sorted([final_points.dealer_open[i], \n",
    "                                                                        final_points.player_card_one[i], \n",
    "                                                                        final_points.player_card_two[i]])))"
   ]
  },
  {
   "cell_type": "code",
   "execution_count": 119,
   "metadata": {
    "ExecuteTime": {
     "end_time": "2017-02-08T22:40:09.580595",
     "start_time": "2017-02-08T22:40:09.543811"
    },
    "collapsed": false
   },
   "outputs": [
    {
     "data": {
      "text/html": [
       "<div>\n",
       "<table border=\"1\" class=\"dataframe\">\n",
       "  <thead>\n",
       "    <tr style=\"text-align: right;\">\n",
       "      <th>player_final</th>\n",
       "      <th>dealer_open</th>\n",
       "      <th>player_card_one</th>\n",
       "      <th>player_card_two</th>\n",
       "      <th>4</th>\n",
       "      <th>5</th>\n",
       "      <th>6</th>\n",
       "      <th>7</th>\n",
       "      <th>8</th>\n",
       "      <th>9</th>\n",
       "      <th>10</th>\n",
       "      <th>...</th>\n",
       "      <th>20</th>\n",
       "      <th>21</th>\n",
       "      <th>22</th>\n",
       "      <th>23</th>\n",
       "      <th>24</th>\n",
       "      <th>25</th>\n",
       "      <th>26</th>\n",
       "      <th>27</th>\n",
       "      <th>28</th>\n",
       "      <th>open_cards</th>\n",
       "    </tr>\n",
       "  </thead>\n",
       "  <tbody>\n",
       "    <tr>\n",
       "      <th>0</th>\n",
       "      <td>1</td>\n",
       "      <td>1</td>\n",
       "      <td>1</td>\n",
       "      <td>NaN</td>\n",
       "      <td>NaN</td>\n",
       "      <td>NaN</td>\n",
       "      <td>NaN</td>\n",
       "      <td>NaN</td>\n",
       "      <td>NaN</td>\n",
       "      <td>NaN</td>\n",
       "      <td>...</td>\n",
       "      <td>1.0</td>\n",
       "      <td>5.0</td>\n",
       "      <td>4.0</td>\n",
       "      <td>2.0</td>\n",
       "      <td>NaN</td>\n",
       "      <td>1.0</td>\n",
       "      <td>NaN</td>\n",
       "      <td>1.0</td>\n",
       "      <td>NaN</td>\n",
       "      <td>111</td>\n",
       "    </tr>\n",
       "    <tr>\n",
       "      <th>1</th>\n",
       "      <td>1</td>\n",
       "      <td>1</td>\n",
       "      <td>2</td>\n",
       "      <td>NaN</td>\n",
       "      <td>NaN</td>\n",
       "      <td>NaN</td>\n",
       "      <td>NaN</td>\n",
       "      <td>NaN</td>\n",
       "      <td>NaN</td>\n",
       "      <td>NaN</td>\n",
       "      <td>...</td>\n",
       "      <td>3.0</td>\n",
       "      <td>4.0</td>\n",
       "      <td>1.0</td>\n",
       "      <td>4.0</td>\n",
       "      <td>1.0</td>\n",
       "      <td>1.0</td>\n",
       "      <td>1.0</td>\n",
       "      <td>NaN</td>\n",
       "      <td>2.0</td>\n",
       "      <td>112</td>\n",
       "    </tr>\n",
       "    <tr>\n",
       "      <th>2</th>\n",
       "      <td>1</td>\n",
       "      <td>1</td>\n",
       "      <td>3</td>\n",
       "      <td>NaN</td>\n",
       "      <td>NaN</td>\n",
       "      <td>NaN</td>\n",
       "      <td>NaN</td>\n",
       "      <td>NaN</td>\n",
       "      <td>NaN</td>\n",
       "      <td>NaN</td>\n",
       "      <td>...</td>\n",
       "      <td>2.0</td>\n",
       "      <td>6.0</td>\n",
       "      <td>NaN</td>\n",
       "      <td>1.0</td>\n",
       "      <td>3.0</td>\n",
       "      <td>NaN</td>\n",
       "      <td>NaN</td>\n",
       "      <td>1.0</td>\n",
       "      <td>1.0</td>\n",
       "      <td>113</td>\n",
       "    </tr>\n",
       "    <tr>\n",
       "      <th>3</th>\n",
       "      <td>1</td>\n",
       "      <td>1</td>\n",
       "      <td>4</td>\n",
       "      <td>NaN</td>\n",
       "      <td>NaN</td>\n",
       "      <td>NaN</td>\n",
       "      <td>NaN</td>\n",
       "      <td>NaN</td>\n",
       "      <td>NaN</td>\n",
       "      <td>NaN</td>\n",
       "      <td>...</td>\n",
       "      <td>2.0</td>\n",
       "      <td>2.0</td>\n",
       "      <td>2.0</td>\n",
       "      <td>1.0</td>\n",
       "      <td>1.0</td>\n",
       "      <td>2.0</td>\n",
       "      <td>NaN</td>\n",
       "      <td>NaN</td>\n",
       "      <td>NaN</td>\n",
       "      <td>114</td>\n",
       "    </tr>\n",
       "    <tr>\n",
       "      <th>4</th>\n",
       "      <td>1</td>\n",
       "      <td>1</td>\n",
       "      <td>5</td>\n",
       "      <td>NaN</td>\n",
       "      <td>NaN</td>\n",
       "      <td>NaN</td>\n",
       "      <td>NaN</td>\n",
       "      <td>NaN</td>\n",
       "      <td>NaN</td>\n",
       "      <td>NaN</td>\n",
       "      <td>...</td>\n",
       "      <td>1.0</td>\n",
       "      <td>1.0</td>\n",
       "      <td>4.0</td>\n",
       "      <td>NaN</td>\n",
       "      <td>NaN</td>\n",
       "      <td>NaN</td>\n",
       "      <td>1.0</td>\n",
       "      <td>NaN</td>\n",
       "      <td>NaN</td>\n",
       "      <td>115</td>\n",
       "    </tr>\n",
       "  </tbody>\n",
       "</table>\n",
       "<p>5 rows × 29 columns</p>\n",
       "</div>"
      ],
      "text/plain": [
       "player_final  dealer_open  player_card_one  player_card_two   4   5   6   7  \\\n",
       "0                       1                1                1 NaN NaN NaN NaN   \n",
       "1                       1                1                2 NaN NaN NaN NaN   \n",
       "2                       1                1                3 NaN NaN NaN NaN   \n",
       "3                       1                1                4 NaN NaN NaN NaN   \n",
       "4                       1                1                5 NaN NaN NaN NaN   \n",
       "\n",
       "player_final   8   9  10     ...       20   21   22   23   24   25   26   27  \\\n",
       "0            NaN NaN NaN     ...      1.0  5.0  4.0  2.0  NaN  1.0  NaN  1.0   \n",
       "1            NaN NaN NaN     ...      3.0  4.0  1.0  4.0  1.0  1.0  1.0  NaN   \n",
       "2            NaN NaN NaN     ...      2.0  6.0  NaN  1.0  3.0  NaN  NaN  1.0   \n",
       "3            NaN NaN NaN     ...      2.0  2.0  2.0  1.0  1.0  2.0  NaN  NaN   \n",
       "4            NaN NaN NaN     ...      1.0  1.0  4.0  NaN  NaN  NaN  1.0  NaN   \n",
       "\n",
       "player_final   28  open_cards  \n",
       "0             NaN         111  \n",
       "1             2.0         112  \n",
       "2             1.0         113  \n",
       "3             NaN         114  \n",
       "4             NaN         115  \n",
       "\n",
       "[5 rows x 29 columns]"
      ]
     },
     "execution_count": 119,
     "metadata": {},
     "output_type": "execute_result"
    }
   ],
   "source": [
    "final_points.head()"
   ]
  },
  {
   "cell_type": "code",
   "execution_count": 81,
   "metadata": {
    "ExecuteTime": {
     "end_time": "2017-02-08T22:29:47.847535",
     "start_time": "2017-02-08T22:29:47.625727"
    },
    "collapsed": false
   },
   "outputs": [
    {
     "data": {
      "image/png": "[encoded data removed]",
      "text/plain": [
       "<matplotlib.figure.Figure at 0x1189bb4a8>"
      ]
     },
     "metadata": {},
     "output_type": "display_data"
    }
   ],
   "source": [
    "plt.scatter(final_points.open_cards, final_points.player_final);"
   ]
  },
  {
   "cell_type": "code",
   "execution_count": null,
   "metadata": {
    "collapsed": false
   },
   "outputs": [],
   "source": []
  }
 ],
 "metadata": {
  "anaconda-cloud": {},
  "kernelspec": {
   "display_name": "Python [conda env:py36]",
   "language": "python",
   "name": "conda-env-py36-py"
  },
  "language_info": {
   "codemirror_mode": {
    "name": "ipython",
    "version": 3
   },
   "file_extension": ".py",
   "mimetype": "text/x-python",
   "name": "python",
   "nbconvert_exporter": "python",
   "pygments_lexer": "ipython3",
   "version": "3.6.0"
  },
  "toc": {
   "nav_menu": {
    "height": "30px",
    "width": "252px"
   },
   "navigate_menu": true,
   "number_sections": true,
   "sideBar": true,
   "threshold": 4,
   "toc_cell": false,
   "toc_section_display": "block",
   "toc_window_display": false
  }
 },
 "nbformat": 4,
 "nbformat_minor": 1
}
