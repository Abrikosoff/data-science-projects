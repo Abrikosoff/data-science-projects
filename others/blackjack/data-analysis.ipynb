{
 "cells": [
  {
   "cell_type": "code",
   "execution_count": 233,
   "metadata": {
    "ExecuteTime": {
     "end_time": "2017-02-14T22:26:14.320872",
     "start_time": "2017-02-14T22:26:14.315965"
    },
    "collapsed": false
   },
   "outputs": [],
   "source": [
    "import pandas as pd\n",
    "import numpy as np\n",
    "import matplotlib.pyplot as plt\n",
    "import seaborn as sns\n",
    "from scipy import stats"
   ]
  },
  {
   "cell_type": "code",
   "execution_count": 234,
   "metadata": {
    "ExecuteTime": {
     "end_time": "2017-02-14T22:26:14.331302",
     "start_time": "2017-02-14T22:26:14.323994"
    },
    "collapsed": false
   },
   "outputs": [],
   "source": [
    "%matplotlib inline\n",
    "plt.style.use(\"fivethirtyeight\")"
   ]
  },
  {
   "cell_type": "markdown",
   "metadata": {},
   "source": [
    "# Initial exploration"
   ]
  },
  {
   "cell_type": "code",
   "execution_count": 235,
   "metadata": {
    "ExecuteTime": {
     "end_time": "2017-02-14T22:26:14.607175",
     "start_time": "2017-02-14T22:26:14.334372"
    },
    "collapsed": false
   },
   "outputs": [],
   "source": [
    "df = pd.read_csv(\"blackjack.csv\")"
   ]
  },
  {
   "cell_type": "code",
   "execution_count": 236,
   "metadata": {
    "ExecuteTime": {
     "end_time": "2017-02-14T22:26:14.616149",
     "start_time": "2017-02-14T22:26:14.610308"
    },
    "collapsed": false
   },
   "outputs": [
    {
     "data": {
      "text/plain": [
       "(80000, 21)"
      ]
     },
     "execution_count": 236,
     "metadata": {},
     "output_type": "execute_result"
    }
   ],
   "source": [
    "df.shape"
   ]
  },
  {
   "cell_type": "code",
   "execution_count": 237,
   "metadata": {
    "ExecuteTime": {
     "end_time": "2017-02-14T22:26:14.818116",
     "start_time": "2017-02-14T22:26:14.618300"
    },
    "collapsed": false
   },
   "outputs": [
    {
     "data": {
      "text/html": [
       "<div>\n",
       "<table border=\"1\" class=\"dataframe\">\n",
       "  <thead>\n",
       "    <tr style=\"text-align: right;\">\n",
       "      <th></th>\n",
       "      <th>dealer_busts</th>\n",
       "      <th>dealer_final</th>\n",
       "      <th>dealer_hit</th>\n",
       "      <th>dealer_initial</th>\n",
       "      <th>dealer_num_hits</th>\n",
       "      <th>dealer_open</th>\n",
       "      <th>draw</th>\n",
       "      <th>num_decks</th>\n",
       "      <th>player_busts</th>\n",
       "      <th>player_card_one</th>\n",
       "      <th>player_card_two</th>\n",
       "      <th>player_final</th>\n",
       "      <th>player_hit</th>\n",
       "      <th>player_inital</th>\n",
       "      <th>player_initial</th>\n",
       "      <th>player_loses</th>\n",
       "      <th>player_num_hits</th>\n",
       "      <th>player_wins</th>\n",
       "      <th>strategy</th>\n",
       "    </tr>\n",
       "  </thead>\n",
       "  <tbody>\n",
       "    <tr>\n",
       "      <th>count</th>\n",
       "      <td>80000.000000</td>\n",
       "      <td>80000.000000</td>\n",
       "      <td>80000.000000</td>\n",
       "      <td>80000.000000</td>\n",
       "      <td>80000.000000</td>\n",
       "      <td>80000.000000</td>\n",
       "      <td>80000.000000</td>\n",
       "      <td>80000.0</td>\n",
       "      <td>80000.000000</td>\n",
       "      <td>80000.000000</td>\n",
       "      <td>80000.000000</td>\n",
       "      <td>80000.000000</td>\n",
       "      <td>80000.000000</td>\n",
       "      <td>70000.000000</td>\n",
       "      <td>10000.000000</td>\n",
       "      <td>80000.000000</td>\n",
       "      <td>80000.000000</td>\n",
       "      <td>80000.000000</td>\n",
       "      <td>80000.000000</td>\n",
       "    </tr>\n",
       "    <tr>\n",
       "      <th>mean</th>\n",
       "      <td>0.178250</td>\n",
       "      <td>18.092525</td>\n",
       "      <td>0.407550</td>\n",
       "      <td>14.567687</td>\n",
       "      <td>0.558875</td>\n",
       "      <td>6.546500</td>\n",
       "      <td>0.071987</td>\n",
       "      <td>4.0</td>\n",
       "      <td>0.295950</td>\n",
       "      <td>6.539313</td>\n",
       "      <td>6.552037</td>\n",
       "      <td>19.890162</td>\n",
       "      <td>0.571562</td>\n",
       "      <td>14.557143</td>\n",
       "      <td>14.537800</td>\n",
       "      <td>0.545450</td>\n",
       "      <td>0.841375</td>\n",
       "      <td>0.382563</td>\n",
       "      <td>0.500000</td>\n",
       "    </tr>\n",
       "    <tr>\n",
       "      <th>std</th>\n",
       "      <td>0.382725</td>\n",
       "      <td>4.367751</td>\n",
       "      <td>0.491382</td>\n",
       "      <td>4.090107</td>\n",
       "      <td>0.776155</td>\n",
       "      <td>3.153766</td>\n",
       "      <td>0.258469</td>\n",
       "      <td>0.0</td>\n",
       "      <td>0.456471</td>\n",
       "      <td>3.151873</td>\n",
       "      <td>3.154705</td>\n",
       "      <td>3.897729</td>\n",
       "      <td>0.494855</td>\n",
       "      <td>4.088699</td>\n",
       "      <td>4.105321</td>\n",
       "      <td>0.497933</td>\n",
       "      <td>0.894803</td>\n",
       "      <td>0.486016</td>\n",
       "      <td>0.500003</td>\n",
       "    </tr>\n",
       "    <tr>\n",
       "      <th>min</th>\n",
       "      <td>0.000000</td>\n",
       "      <td>4.000000</td>\n",
       "      <td>0.000000</td>\n",
       "      <td>4.000000</td>\n",
       "      <td>0.000000</td>\n",
       "      <td>1.000000</td>\n",
       "      <td>0.000000</td>\n",
       "      <td>4.0</td>\n",
       "      <td>0.000000</td>\n",
       "      <td>1.000000</td>\n",
       "      <td>1.000000</td>\n",
       "      <td>4.000000</td>\n",
       "      <td>0.000000</td>\n",
       "      <td>4.000000</td>\n",
       "      <td>4.000000</td>\n",
       "      <td>0.000000</td>\n",
       "      <td>0.000000</td>\n",
       "      <td>0.000000</td>\n",
       "      <td>0.000000</td>\n",
       "    </tr>\n",
       "    <tr>\n",
       "      <th>25%</th>\n",
       "      <td>0.000000</td>\n",
       "      <td>16.000000</td>\n",
       "      <td>0.000000</td>\n",
       "      <td>12.000000</td>\n",
       "      <td>0.000000</td>\n",
       "      <td>4.000000</td>\n",
       "      <td>0.000000</td>\n",
       "      <td>4.0</td>\n",
       "      <td>0.000000</td>\n",
       "      <td>4.000000</td>\n",
       "      <td>4.000000</td>\n",
       "      <td>18.000000</td>\n",
       "      <td>0.000000</td>\n",
       "      <td>12.000000</td>\n",
       "      <td>12.000000</td>\n",
       "      <td>0.000000</td>\n",
       "      <td>0.000000</td>\n",
       "      <td>0.000000</td>\n",
       "      <td>0.000000</td>\n",
       "    </tr>\n",
       "    <tr>\n",
       "      <th>50%</th>\n",
       "      <td>0.000000</td>\n",
       "      <td>19.000000</td>\n",
       "      <td>0.000000</td>\n",
       "      <td>15.000000</td>\n",
       "      <td>0.000000</td>\n",
       "      <td>7.000000</td>\n",
       "      <td>0.000000</td>\n",
       "      <td>4.0</td>\n",
       "      <td>0.000000</td>\n",
       "      <td>7.000000</td>\n",
       "      <td>7.000000</td>\n",
       "      <td>20.000000</td>\n",
       "      <td>1.000000</td>\n",
       "      <td>15.000000</td>\n",
       "      <td>15.000000</td>\n",
       "      <td>1.000000</td>\n",
       "      <td>1.000000</td>\n",
       "      <td>0.000000</td>\n",
       "      <td>0.500000</td>\n",
       "    </tr>\n",
       "    <tr>\n",
       "      <th>75%</th>\n",
       "      <td>0.000000</td>\n",
       "      <td>21.000000</td>\n",
       "      <td>1.000000</td>\n",
       "      <td>18.000000</td>\n",
       "      <td>1.000000</td>\n",
       "      <td>10.000000</td>\n",
       "      <td>0.000000</td>\n",
       "      <td>4.0</td>\n",
       "      <td>1.000000</td>\n",
       "      <td>10.000000</td>\n",
       "      <td>10.000000</td>\n",
       "      <td>22.000000</td>\n",
       "      <td>1.000000</td>\n",
       "      <td>18.000000</td>\n",
       "      <td>18.000000</td>\n",
       "      <td>1.000000</td>\n",
       "      <td>1.000000</td>\n",
       "      <td>1.000000</td>\n",
       "      <td>1.000000</td>\n",
       "    </tr>\n",
       "    <tr>\n",
       "      <th>max</th>\n",
       "      <td>1.000000</td>\n",
       "      <td>26.000000</td>\n",
       "      <td>1.000000</td>\n",
       "      <td>21.000000</td>\n",
       "      <td>5.000000</td>\n",
       "      <td>10.000000</td>\n",
       "      <td>1.000000</td>\n",
       "      <td>4.0</td>\n",
       "      <td>1.000000</td>\n",
       "      <td>10.000000</td>\n",
       "      <td>10.000000</td>\n",
       "      <td>28.000000</td>\n",
       "      <td>1.000000</td>\n",
       "      <td>21.000000</td>\n",
       "      <td>21.000000</td>\n",
       "      <td>1.000000</td>\n",
       "      <td>6.000000</td>\n",
       "      <td>1.000000</td>\n",
       "      <td>1.000000</td>\n",
       "    </tr>\n",
       "  </tbody>\n",
       "</table>\n",
       "</div>"
      ],
      "text/plain": [
       "       dealer_busts  dealer_final    dealer_hit  dealer_initial  \\\n",
       "count  80000.000000  80000.000000  80000.000000    80000.000000   \n",
       "mean       0.178250     18.092525      0.407550       14.567687   \n",
       "std        0.382725      4.367751      0.491382        4.090107   \n",
       "min        0.000000      4.000000      0.000000        4.000000   \n",
       "25%        0.000000     16.000000      0.000000       12.000000   \n",
       "50%        0.000000     19.000000      0.000000       15.000000   \n",
       "75%        0.000000     21.000000      1.000000       18.000000   \n",
       "max        1.000000     26.000000      1.000000       21.000000   \n",
       "\n",
       "       dealer_num_hits   dealer_open          draw  num_decks  player_busts  \\\n",
       "count     80000.000000  80000.000000  80000.000000    80000.0  80000.000000   \n",
       "mean          0.558875      6.546500      0.071987        4.0      0.295950   \n",
       "std           0.776155      3.153766      0.258469        0.0      0.456471   \n",
       "min           0.000000      1.000000      0.000000        4.0      0.000000   \n",
       "25%           0.000000      4.000000      0.000000        4.0      0.000000   \n",
       "50%           0.000000      7.000000      0.000000        4.0      0.000000   \n",
       "75%           1.000000     10.000000      0.000000        4.0      1.000000   \n",
       "max           5.000000     10.000000      1.000000        4.0      1.000000   \n",
       "\n",
       "       player_card_one  player_card_two  player_final    player_hit  \\\n",
       "count     80000.000000     80000.000000  80000.000000  80000.000000   \n",
       "mean          6.539313         6.552037     19.890162      0.571562   \n",
       "std           3.151873         3.154705      3.897729      0.494855   \n",
       "min           1.000000         1.000000      4.000000      0.000000   \n",
       "25%           4.000000         4.000000     18.000000      0.000000   \n",
       "50%           7.000000         7.000000     20.000000      1.000000   \n",
       "75%          10.000000        10.000000     22.000000      1.000000   \n",
       "max          10.000000        10.000000     28.000000      1.000000   \n",
       "\n",
       "       player_inital  player_initial  player_loses  player_num_hits  \\\n",
       "count   70000.000000    10000.000000  80000.000000     80000.000000   \n",
       "mean       14.557143       14.537800      0.545450         0.841375   \n",
       "std         4.088699        4.105321      0.497933         0.894803   \n",
       "min         4.000000        4.000000      0.000000         0.000000   \n",
       "25%        12.000000       12.000000      0.000000         0.000000   \n",
       "50%        15.000000       15.000000      1.000000         1.000000   \n",
       "75%        18.000000       18.000000      1.000000         1.000000   \n",
       "max        21.000000       21.000000      1.000000         6.000000   \n",
       "\n",
       "        player_wins      strategy  \n",
       "count  80000.000000  80000.000000  \n",
       "mean       0.382563      0.500000  \n",
       "std        0.486016      0.500003  \n",
       "min        0.000000      0.000000  \n",
       "25%        0.000000      0.000000  \n",
       "50%        0.000000      0.500000  \n",
       "75%        1.000000      1.000000  \n",
       "max        1.000000      1.000000  "
      ]
     },
     "execution_count": 237,
     "metadata": {},
     "output_type": "execute_result"
    }
   ],
   "source": [
    "df.describe()"
   ]
  },
  {
   "cell_type": "code",
   "execution_count": 238,
   "metadata": {
    "ExecuteTime": {
     "end_time": "2017-02-14T22:26:14.850955",
     "start_time": "2017-02-14T22:26:14.820705"
    },
    "collapsed": false
   },
   "outputs": [
    {
     "data": {
      "text/html": [
       "<div>\n",
       "<table border=\"1\" class=\"dataframe\">\n",
       "  <thead>\n",
       "    <tr style=\"text-align: right;\">\n",
       "      <th></th>\n",
       "      <th>player_wins</th>\n",
       "    </tr>\n",
       "    <tr>\n",
       "      <th>strategy</th>\n",
       "      <th></th>\n",
       "    </tr>\n",
       "  </thead>\n",
       "  <tbody>\n",
       "    <tr>\n",
       "      <th>0</th>\n",
       "      <td>14652</td>\n",
       "    </tr>\n",
       "    <tr>\n",
       "      <th>1</th>\n",
       "      <td>15953</td>\n",
       "    </tr>\n",
       "  </tbody>\n",
       "</table>\n",
       "</div>"
      ],
      "text/plain": [
       "          player_wins\n",
       "strategy             \n",
       "0               14652\n",
       "1               15953"
      ]
     },
     "execution_count": 238,
     "metadata": {},
     "output_type": "execute_result"
    }
   ],
   "source": [
    "df.groupby(\"strategy\")[[\"player_wins\"]].sum()"
   ]
  },
  {
   "cell_type": "markdown",
   "metadata": {},
   "source": [
    "## Dealer's open card"
   ]
  },
  {
   "cell_type": "code",
   "execution_count": 239,
   "metadata": {
    "ExecuteTime": {
     "end_time": "2017-02-14T22:26:15.125347",
     "start_time": "2017-02-14T22:26:14.853469"
    },
    "collapsed": false
   },
   "outputs": [
    {
     "data": {
      "image/png": "[encoded data removed]",
      "text/plain": [
       "<matplotlib.figure.Figure at 0x1156f1f28>"
      ]
     },
     "metadata": {},
     "output_type": "display_data"
    }
   ],
   "source": [
    "df[\"dealer_open\"].value_counts(sort=False).plot(kind=\"bar\", rot=0);\n",
    "plt.xlabel(\"Open card value\");\n",
    "plt.ylabel(\"Number of games\");\n",
    "plt.title(\"Distribution of dealer's open card\");"
   ]
  },
  {
   "cell_type": "markdown",
   "metadata": {},
   "source": [
    "## Player's card one"
   ]
  },
  {
   "cell_type": "code",
   "execution_count": 240,
   "metadata": {
    "ExecuteTime": {
     "end_time": "2017-02-14T22:26:15.449034",
     "start_time": "2017-02-14T22:26:15.127554"
    },
    "collapsed": false
   },
   "outputs": [
    {
     "data": {
      "image/png": "[encoded data removed]",
      "text/plain": [
       "<matplotlib.figure.Figure at 0x1156f6b70>"
      ]
     },
     "metadata": {},
     "output_type": "display_data"
    }
   ],
   "source": [
    "df[\"player_card_one\"].value_counts(sort=False).plot(kind=\"bar\", rot=0);\n",
    "plt.xlabel(\"Open card value\");\n",
    "plt.ylabel(\"Number of games\");\n",
    "plt.title(\"Distribution of player's card one\");"
   ]
  },
  {
   "cell_type": "markdown",
   "metadata": {},
   "source": [
    "## Player's card two"
   ]
  },
  {
   "cell_type": "code",
   "execution_count": 241,
   "metadata": {
    "ExecuteTime": {
     "end_time": "2017-02-14T22:26:15.733972",
     "start_time": "2017-02-14T22:26:15.451700"
    },
    "collapsed": false
   },
   "outputs": [
    {
     "data": {
      "image/png": "[encoded data removed]",
      "text/plain": [
       "<matplotlib.figure.Figure at 0x10cf489e8>"
      ]
     },
     "metadata": {},
     "output_type": "display_data"
    }
   ],
   "source": [
    "df[\"player_card_two\"].value_counts(sort=False).plot(kind=\"bar\", rot=0);\n",
    "plt.xlabel(\"Open card value\");\n",
    "plt.ylabel(\"Number of games\");\n",
    "plt.title(\"Distribution of player's card two\");"
   ]
  },
  {
   "cell_type": "markdown",
   "metadata": {},
   "source": [
    "## Player's possible points"
   ]
  },
  {
   "cell_type": "code",
   "execution_count": 242,
   "metadata": {
    "ExecuteTime": {
     "end_time": "2017-02-14T22:26:16.140443",
     "start_time": "2017-02-14T22:26:15.736827"
    },
    "collapsed": false
   },
   "outputs": [
    {
     "data": {
      "image/png": "[encoded data removed]",
      "text/plain": [
       "<matplotlib.figure.Figure at 0x10f6abb70>"
      ]
     },
     "metadata": {},
     "output_type": "display_data"
    }
   ],
   "source": [
    "df.player_initial.value_counts().sort_index().plot(kind=\"bar\");\n",
    "plt.xlabel(\"Points\");\n",
    "plt.ylabel(\"Number of games\");\n",
    "plt.title(\"Player initial points\");"
   ]
  },
  {
   "cell_type": "code",
   "execution_count": 243,
   "metadata": {
    "ExecuteTime": {
     "end_time": "2017-02-14T22:26:16.509788",
     "start_time": "2017-02-14T22:26:16.143086"
    },
    "collapsed": false
   },
   "outputs": [
    {
     "data": {
      "image/png": "[encoded data removed]",
      "text/plain": [
       "<matplotlib.figure.Figure at 0x10f6a19e8>"
      ]
     },
     "metadata": {},
     "output_type": "display_data"
    }
   ],
   "source": [
    "df.player_final.value_counts().sort_index().plot(kind=\"bar\");\n",
    "plt.xlabel(\"Points\");\n",
    "plt.ylabel(\"Number of games\");\n",
    "plt.title(\"Player final points\");"
   ]
  },
  {
   "cell_type": "markdown",
   "metadata": {
    "collapsed": false
   },
   "source": [
    "# Recommended vs random strategy"
   ]
  },
  {
   "cell_type": "code",
   "execution_count": 244,
   "metadata": {
    "ExecuteTime": {
     "end_time": "2017-02-14T22:26:16.516351",
     "start_time": "2017-02-14T22:26:16.512329"
    },
    "collapsed": false
   },
   "outputs": [],
   "source": [
    "result_cols = [\"dealer_busts\", \"player_busts\", \"player_loses\", \"draw\", \"player_wins\"]"
   ]
  },
  {
   "cell_type": "code",
   "execution_count": 245,
   "metadata": {
    "ExecuteTime": {
     "end_time": "2017-02-14T22:26:16.525802",
     "start_time": "2017-02-14T22:26:16.519046"
    },
    "collapsed": false
   },
   "outputs": [],
   "source": [
    "# Simulate trials of 100 games\n",
    "def sim_trial(strategy=0):\n",
    "    sub = df[df.strategy == strategy]\n",
    "    to_get = np.random.choice(sub.index, 100)\n",
    "    trials = sub.ix[to_get]\n",
    "    trials = trials[result_cols]\n",
    "    return pd.DataFrame(trials.sum()).T"
   ]
  },
  {
   "cell_type": "code",
   "execution_count": 246,
   "metadata": {
    "ExecuteTime": {
     "end_time": "2017-02-14T22:26:16.548983",
     "start_time": "2017-02-14T22:26:16.528927"
    },
    "collapsed": false
   },
   "outputs": [
    {
     "data": {
      "text/html": [
       "<div>\n",
       "<table border=\"1\" class=\"dataframe\">\n",
       "  <thead>\n",
       "    <tr style=\"text-align: right;\">\n",
       "      <th></th>\n",
       "      <th>dealer_busts</th>\n",
       "      <th>player_busts</th>\n",
       "      <th>player_loses</th>\n",
       "      <th>draw</th>\n",
       "      <th>player_wins</th>\n",
       "    </tr>\n",
       "  </thead>\n",
       "  <tbody>\n",
       "    <tr>\n",
       "      <th>0</th>\n",
       "      <td>9</td>\n",
       "      <td>51</td>\n",
       "      <td>61</td>\n",
       "      <td>8</td>\n",
       "      <td>31</td>\n",
       "    </tr>\n",
       "  </tbody>\n",
       "</table>\n",
       "</div>"
      ],
      "text/plain": [
       "   dealer_busts  player_busts  player_loses  draw  player_wins\n",
       "0             9            51            61     8           31"
      ]
     },
     "execution_count": 246,
     "metadata": {},
     "output_type": "execute_result"
    }
   ],
   "source": [
    "sim_trial()"
   ]
  },
  {
   "cell_type": "code",
   "execution_count": 247,
   "metadata": {
    "ExecuteTime": {
     "end_time": "2017-02-14T22:26:16.558005",
     "start_time": "2017-02-14T22:26:16.551881"
    },
    "collapsed": false
   },
   "outputs": [],
   "source": [
    "def n_trials(strategy=0, n=5000):\n",
    "    trials = sim_trial(strategy=strategy)\n",
    "    for _ in range(n-1):\n",
    "        trials = pd.concat([trials, sim_trial(strategy=strategy)])\n",
    "    return trials"
   ]
  },
  {
   "cell_type": "code",
   "execution_count": 248,
   "metadata": {
    "ExecuteTime": {
     "end_time": "2017-02-14T22:28:11.425582",
     "start_time": "2017-02-14T22:26:16.560678"
    },
    "collapsed": false
   },
   "outputs": [],
   "source": [
    "ran = n_trials()\n",
    "rec = n_trials(strategy=1)"
   ]
  },
  {
   "cell_type": "code",
   "execution_count": 249,
   "metadata": {
    "ExecuteTime": {
     "end_time": "2017-02-14T22:28:11.434135",
     "start_time": "2017-02-14T22:28:11.427799"
    },
    "collapsed": false
   },
   "outputs": [],
   "source": [
    "# combine with older files\n",
    "def save_file(trials, filename):\n",
    "    try:\n",
    "        old_trials = pd.read_csv(filename+\".csv\")\n",
    "        trials = pd.concat([old_trials, trials])\n",
    "    except:\n",
    "        pass\n",
    "    trials.to_csv(filename+\".csv\", index=False)"
   ]
  },
  {
   "cell_type": "code",
   "execution_count": 250,
   "metadata": {
    "ExecuteTime": {
     "end_time": "2017-02-14T22:28:11.668206",
     "start_time": "2017-02-14T22:28:11.436819"
    },
    "collapsed": false
   },
   "outputs": [],
   "source": [
    "save_file(ran, \"ran_trials\")\n",
    "save_file(rec, \"rec_trials\")"
   ]
  },
  {
   "cell_type": "code",
   "execution_count": 251,
   "metadata": {
    "ExecuteTime": {
     "end_time": "2017-02-14T22:28:11.715842",
     "start_time": "2017-02-14T22:28:11.671099"
    },
    "collapsed": false
   },
   "outputs": [],
   "source": [
    "ran = pd.read_csv(\"ran_trials.csv\")\n",
    "rec = pd.read_csv(\"rec_trials.csv\")"
   ]
  },
  {
   "cell_type": "code",
   "execution_count": 252,
   "metadata": {
    "ExecuteTime": {
     "end_time": "2017-02-14T22:28:11.726112",
     "start_time": "2017-02-14T22:28:11.719196"
    },
    "collapsed": false
   },
   "outputs": [
    {
     "name": "stdout",
     "output_type": "stream",
     "text": [
      "(20000, 5)\n",
      "(20000, 5)\n"
     ]
    }
   ],
   "source": [
    "print (ran.shape)\n",
    "print (rec.shape)"
   ]
  },
  {
   "cell_type": "markdown",
   "metadata": {},
   "source": [
    "## Number of wins"
   ]
  },
  {
   "cell_type": "markdown",
   "metadata": {},
   "source": [
    "$H_0$: There is no difference in expected number of wins for the player between a random strategy and a recommended strategy.\n",
    "\n",
    "$H_1$: There is a difference in expected number of wins for the player between a random strategy and a recommended strategy.\n",
    "\n",
    "Significance level, $\\alpha$: 5%"
   ]
  },
  {
   "cell_type": "markdown",
   "metadata": {},
   "source": [
    "- Instead of simulating trials, we'll draw random samples from the dataset that we've created"
   ]
  },
  {
   "cell_type": "code",
   "execution_count": 253,
   "metadata": {
    "ExecuteTime": {
     "end_time": "2017-02-14T22:28:12.079732",
     "start_time": "2017-02-14T22:28:11.729027"
    },
    "collapsed": false
   },
   "outputs": [
    {
     "data": {
      "image/png": "[encoded data removed]",
      "text/plain": [
       "<matplotlib.figure.Figure at 0x10da65630>"
      ]
     },
     "metadata": {},
     "output_type": "display_data"
    }
   ],
   "source": [
    "fig, ax = plt.subplots(1, 1, figsize=(10, 5));\n",
    "sns.distplot(ran.player_wins, \n",
    "             hist=False, label=\"Random\");\n",
    "sns.distplot(rec.player_wins, \n",
    "             hist=False, label=\"Recommended\");\n",
    "ax.set_title(\"Differences in wins by strategy\");\n",
    "ax.set_ylabel(\"Expected proportion of time\");\n",
    "ax.set_xlabel(\"Number of player wins out of 100\");\n",
    "sns.despine();"
   ]
  },
  {
   "cell_type": "code",
   "execution_count": 254,
   "metadata": {
    "ExecuteTime": {
     "end_time": "2017-02-14T22:28:12.089960",
     "start_time": "2017-02-14T22:28:12.082740"
    },
    "collapsed": false
   },
   "outputs": [
    {
     "data": {
      "text/plain": [
       "Ttest_indResult(statistic=-71.517242699505218, pvalue=0.0)"
      ]
     },
     "execution_count": 254,
     "metadata": {},
     "output_type": "execute_result"
    }
   ],
   "source": [
    "# Is the difference significant?\n",
    "stats.ttest_ind(ran.player_wins, rec.player_wins)"
   ]
  },
  {
   "cell_type": "markdown",
   "metadata": {},
   "source": [
    "## Number of losses"
   ]
  },
  {
   "cell_type": "markdown",
   "metadata": {},
   "source": [
    "$H_0$: There is no difference in expected number of losses for the player between a random strategy and a recommended strategy.\n",
    "\n",
    "$H_1$: There is a difference in expected number of losses for the player between a random strategy and a recommended strategy.\n",
    "\n",
    "Significance level, $\\alpha$: 5%"
   ]
  },
  {
   "cell_type": "code",
   "execution_count": 255,
   "metadata": {
    "ExecuteTime": {
     "end_time": "2017-02-14T22:28:12.426266",
     "start_time": "2017-02-14T22:28:12.093515"
    },
    "collapsed": false
   },
   "outputs": [
    {
     "data": {
      "image/png": "[encoded data removed]",
      "text/plain": [
       "<matplotlib.figure.Figure at 0x10ef89cf8>"
      ]
     },
     "metadata": {},
     "output_type": "display_data"
    }
   ],
   "source": [
    "fig, ax = plt.subplots(1, 1, figsize=(10, 5));\n",
    "sns.distplot(ran.player_loses, \n",
    "             hist=False, label=\"Random\");\n",
    "sns.distplot(rec.player_loses, \n",
    "             hist=False, label=\"Recommended\");\n",
    "ax.set_title(\"Differences in losses by strategy\");\n",
    "ax.set_ylabel(\"Expected proportion of time\");\n",
    "ax.set_xlabel(\"Number of player losses out of 100\");\n",
    "sns.despine();"
   ]
  },
  {
   "cell_type": "code",
   "execution_count": 256,
   "metadata": {
    "ExecuteTime": {
     "end_time": "2017-02-14T22:28:12.436788",
     "start_time": "2017-02-14T22:28:12.429145"
    },
    "collapsed": false
   },
   "outputs": [
    {
     "data": {
      "text/plain": [
       "Ttest_indResult(statistic=85.727931623979302, pvalue=0.0)"
      ]
     },
     "execution_count": 256,
     "metadata": {},
     "output_type": "execute_result"
    }
   ],
   "source": [
    "# Is the difference significant?\n",
    "stats.ttest_ind(ran.player_loses, rec.player_loses)"
   ]
  },
  {
   "cell_type": "markdown",
   "metadata": {},
   "source": [
    "## Number of busts"
   ]
  },
  {
   "cell_type": "markdown",
   "metadata": {},
   "source": [
    "$H_0$: There is no difference in expected number of busts for the player between a random strategy and a recommended strategy.\n",
    "\n",
    "$H_1$: There is a difference in expected number of busts for the player between a random strategy and a recommended strategy.\n",
    "\n",
    "Significance level, $\\alpha$: 5%"
   ]
  },
  {
   "cell_type": "code",
   "execution_count": 257,
   "metadata": {
    "ExecuteTime": {
     "end_time": "2017-02-14T22:28:12.916775",
     "start_time": "2017-02-14T22:28:12.439258"
    },
    "collapsed": false
   },
   "outputs": [
    {
     "data": {
      "image/png": "[encoded data removed]",
      "text/plain": [
       "<matplotlib.figure.Figure at 0x1034aee80>"
      ]
     },
     "metadata": {},
     "output_type": "display_data"
    }
   ],
   "source": [
    "fig, ax = plt.subplots(1, 1, figsize=(10, 5));\n",
    "sns.distplot(ran.player_busts, \n",
    "             hist=False, label=\"Random\");\n",
    "sns.distplot(rec.player_busts, \n",
    "             hist=False, label=\"Recommended\");\n",
    "ax.set_title(\"Differences in busts by strategy\");\n",
    "ax.set_ylabel(\"Expected proportion of time\");\n",
    "ax.set_xlabel(\"Number of player busts out of 100\");\n",
    "sns.despine();"
   ]
  },
  {
   "cell_type": "code",
   "execution_count": 258,
   "metadata": {
    "ExecuteTime": {
     "end_time": "2017-02-14T22:28:12.926516",
     "start_time": "2017-02-14T22:28:12.919058"
    },
    "collapsed": false
   },
   "outputs": [
    {
     "data": {
      "text/plain": [
       "Ttest_indResult(statistic=809.28955462228976, pvalue=0.0)"
      ]
     },
     "execution_count": 258,
     "metadata": {},
     "output_type": "execute_result"
    }
   ],
   "source": [
    "# Is the difference significant?\n",
    "stats.ttest_ind(ran.player_busts, rec.player_busts)"
   ]
  },
  {
   "cell_type": "markdown",
   "metadata": {},
   "source": [
    "## What about dealer busts?"
   ]
  },
  {
   "cell_type": "markdown",
   "metadata": {},
   "source": [
    "$H_0$: There is no difference in expected number of busts for the dealer between a random strategy and a recommended strategy.\n",
    "\n",
    "$H_1$: There is a difference in expected number of busts for the dealer between a random strategy and a recommended strategy.\n",
    "\n",
    "Significance level, $\\alpha$: 5%"
   ]
  },
  {
   "cell_type": "code",
   "execution_count": 259,
   "metadata": {
    "ExecuteTime": {
     "end_time": "2017-02-14T22:28:13.291958",
     "start_time": "2017-02-14T22:28:12.929472"
    },
    "collapsed": false
   },
   "outputs": [
    {
     "data": {
      "image/png": "[encoded data removed]",
      "text/plain": [
       "<matplotlib.figure.Figure at 0x1034d2860>"
      ]
     },
     "metadata": {},
     "output_type": "display_data"
    }
   ],
   "source": [
    "fig, ax = plt.subplots(1, 1, figsize=(10, 5));\n",
    "sns.distplot(ran.dealer_busts, \n",
    "             hist=False, label=\"Random\");\n",
    "sns.distplot(rec.dealer_busts, \n",
    "             hist=False, label=\"Recommended\");\n",
    "ax.set_title(\"Differences in dealer busts by strategy\");\n",
    "ax.set_ylabel(\"Expected proportion of time\");\n",
    "ax.set_xlabel(\"Number of dealer busts out of 100\");\n",
    "sns.despine();"
   ]
  },
  {
   "cell_type": "code",
   "execution_count": 260,
   "metadata": {
    "ExecuteTime": {
     "end_time": "2017-02-14T22:28:13.301769",
     "start_time": "2017-02-14T22:28:13.294687"
    },
    "collapsed": false
   },
   "outputs": [
    {
     "data": {
      "text/plain": [
       "Ttest_indResult(statistic=-249.91521271184726, pvalue=0.0)"
      ]
     },
     "execution_count": 260,
     "metadata": {},
     "output_type": "execute_result"
    }
   ],
   "source": [
    "# Is the difference significant?\n",
    "stats.ttest_ind(ran.dealer_busts, rec.dealer_busts)"
   ]
  },
  {
   "cell_type": "markdown",
   "metadata": {},
   "source": [
    "## Findings"
   ]
  },
  {
   "cell_type": "markdown",
   "metadata": {},
   "source": [
    "- Using the recommended strategy\n",
    "    - Expected wins are greater\n",
    "    - Expected losses are lower\n",
    "    - Expected player busts are lower\n",
    "    - Expected dealer busts are higher\n",
    "        - Does this make sense?\n",
    "        - Why would the player's strategy affect the dealer's hand?\n",
    "- Seems like using the recommended strategy does improve our chances of winning\n",
    "    - But is it enough?"
   ]
  },
  {
   "cell_type": "markdown",
   "metadata": {
    "collapsed": true
   },
   "source": [
    "# In-depth exploration"
   ]
  },
  {
   "cell_type": "code",
   "execution_count": 261,
   "metadata": {
    "ExecuteTime": {
     "end_time": "2017-02-14T22:28:13.342356",
     "start_time": "2017-02-14T22:28:13.304138"
    },
    "collapsed": false
   },
   "outputs": [
    {
     "data": {
      "text/html": [
       "<div>\n",
       "<table border=\"1\" class=\"dataframe\">\n",
       "  <thead>\n",
       "    <tr style=\"text-align: right;\">\n",
       "      <th></th>\n",
       "      <th>dealer_busts</th>\n",
       "      <th>dealer_final</th>\n",
       "      <th>dealer_hand</th>\n",
       "      <th>dealer_hit</th>\n",
       "      <th>dealer_initial</th>\n",
       "      <th>dealer_num_hits</th>\n",
       "      <th>dealer_open</th>\n",
       "      <th>draw</th>\n",
       "      <th>num_decks</th>\n",
       "      <th>player_busts</th>\n",
       "      <th>...</th>\n",
       "      <th>player_card_two</th>\n",
       "      <th>player_final</th>\n",
       "      <th>player_hand</th>\n",
       "      <th>player_hit</th>\n",
       "      <th>player_inital</th>\n",
       "      <th>player_initial</th>\n",
       "      <th>player_loses</th>\n",
       "      <th>player_num_hits</th>\n",
       "      <th>player_wins</th>\n",
       "      <th>strategy</th>\n",
       "    </tr>\n",
       "  </thead>\n",
       "  <tbody>\n",
       "    <tr>\n",
       "      <th>0</th>\n",
       "      <td>0</td>\n",
       "      <td>19</td>\n",
       "      <td>K,9</td>\n",
       "      <td>0</td>\n",
       "      <td>19</td>\n",
       "      <td>0</td>\n",
       "      <td>10</td>\n",
       "      <td>0</td>\n",
       "      <td>4</td>\n",
       "      <td>1</td>\n",
       "      <td>...</td>\n",
       "      <td>9</td>\n",
       "      <td>24</td>\n",
       "      <td>9,9,6</td>\n",
       "      <td>1</td>\n",
       "      <td>18.0</td>\n",
       "      <td>NaN</td>\n",
       "      <td>1</td>\n",
       "      <td>1</td>\n",
       "      <td>0</td>\n",
       "      <td>0</td>\n",
       "    </tr>\n",
       "    <tr>\n",
       "      <th>1</th>\n",
       "      <td>0</td>\n",
       "      <td>20</td>\n",
       "      <td>Q,10</td>\n",
       "      <td>0</td>\n",
       "      <td>20</td>\n",
       "      <td>0</td>\n",
       "      <td>10</td>\n",
       "      <td>0</td>\n",
       "      <td>4</td>\n",
       "      <td>1</td>\n",
       "      <td>...</td>\n",
       "      <td>6</td>\n",
       "      <td>24</td>\n",
       "      <td>6,6,3,9</td>\n",
       "      <td>1</td>\n",
       "      <td>12.0</td>\n",
       "      <td>NaN</td>\n",
       "      <td>1</td>\n",
       "      <td>2</td>\n",
       "      <td>0</td>\n",
       "      <td>0</td>\n",
       "    </tr>\n",
       "    <tr>\n",
       "      <th>2</th>\n",
       "      <td>0</td>\n",
       "      <td>14</td>\n",
       "      <td>4,Q</td>\n",
       "      <td>0</td>\n",
       "      <td>14</td>\n",
       "      <td>0</td>\n",
       "      <td>4</td>\n",
       "      <td>0</td>\n",
       "      <td>4</td>\n",
       "      <td>1</td>\n",
       "      <td>...</td>\n",
       "      <td>4</td>\n",
       "      <td>25</td>\n",
       "      <td>5,4,6,J</td>\n",
       "      <td>1</td>\n",
       "      <td>9.0</td>\n",
       "      <td>NaN</td>\n",
       "      <td>1</td>\n",
       "      <td>2</td>\n",
       "      <td>0</td>\n",
       "      <td>0</td>\n",
       "    </tr>\n",
       "    <tr>\n",
       "      <th>3</th>\n",
       "      <td>0</td>\n",
       "      <td>10</td>\n",
       "      <td>6,4</td>\n",
       "      <td>0</td>\n",
       "      <td>10</td>\n",
       "      <td>0</td>\n",
       "      <td>6</td>\n",
       "      <td>0</td>\n",
       "      <td>4</td>\n",
       "      <td>1</td>\n",
       "      <td>...</td>\n",
       "      <td>4</td>\n",
       "      <td>22</td>\n",
       "      <td>Q,4,A,7</td>\n",
       "      <td>1</td>\n",
       "      <td>14.0</td>\n",
       "      <td>NaN</td>\n",
       "      <td>1</td>\n",
       "      <td>2</td>\n",
       "      <td>0</td>\n",
       "      <td>0</td>\n",
       "    </tr>\n",
       "    <tr>\n",
       "      <th>4</th>\n",
       "      <td>0</td>\n",
       "      <td>12</td>\n",
       "      <td>8,4</td>\n",
       "      <td>0</td>\n",
       "      <td>12</td>\n",
       "      <td>0</td>\n",
       "      <td>8</td>\n",
       "      <td>0</td>\n",
       "      <td>4</td>\n",
       "      <td>1</td>\n",
       "      <td>...</td>\n",
       "      <td>4</td>\n",
       "      <td>22</td>\n",
       "      <td>3,4,5,10</td>\n",
       "      <td>1</td>\n",
       "      <td>7.0</td>\n",
       "      <td>NaN</td>\n",
       "      <td>1</td>\n",
       "      <td>2</td>\n",
       "      <td>0</td>\n",
       "      <td>0</td>\n",
       "    </tr>\n",
       "  </tbody>\n",
       "</table>\n",
       "<p>5 rows × 21 columns</p>\n",
       "</div>"
      ],
      "text/plain": [
       "   dealer_busts  dealer_final dealer_hand  dealer_hit  dealer_initial  \\\n",
       "0             0            19         K,9           0              19   \n",
       "1             0            20        Q,10           0              20   \n",
       "2             0            14         4,Q           0              14   \n",
       "3             0            10         6,4           0              10   \n",
       "4             0            12         8,4           0              12   \n",
       "\n",
       "   dealer_num_hits  dealer_open  draw  num_decks  player_busts    ...     \\\n",
       "0                0           10     0          4             1    ...      \n",
       "1                0           10     0          4             1    ...      \n",
       "2                0            4     0          4             1    ...      \n",
       "3                0            6     0          4             1    ...      \n",
       "4                0            8     0          4             1    ...      \n",
       "\n",
       "   player_card_two  player_final  player_hand player_hit  player_inital  \\\n",
       "0                9            24        9,9,6          1           18.0   \n",
       "1                6            24      6,6,3,9          1           12.0   \n",
       "2                4            25      5,4,6,J          1            9.0   \n",
       "3                4            22      Q,4,A,7          1           14.0   \n",
       "4                4            22     3,4,5,10          1            7.0   \n",
       "\n",
       "   player_initial  player_loses  player_num_hits  player_wins  strategy  \n",
       "0             NaN             1                1            0         0  \n",
       "1             NaN             1                2            0         0  \n",
       "2             NaN             1                2            0         0  \n",
       "3             NaN             1                2            0         0  \n",
       "4             NaN             1                2            0         0  \n",
       "\n",
       "[5 rows x 21 columns]"
      ]
     },
     "execution_count": 261,
     "metadata": {},
     "output_type": "execute_result"
    }
   ],
   "source": [
    "df.head()"
   ]
  },
  {
   "cell_type": "code",
   "execution_count": 262,
   "metadata": {
    "ExecuteTime": {
     "end_time": "2017-02-14T22:28:13.348110",
     "start_time": "2017-02-14T22:28:13.344633"
    },
    "collapsed": false
   },
   "outputs": [],
   "source": [
    "score_cols = [\"player_loses\", \"draw\", \"player_wins\"]"
   ]
  },
  {
   "cell_type": "markdown",
   "metadata": {},
   "source": [
    "## Is splitting 8's always better than just keeping them?\n",
    "\n",
    "- And does the strategy affect that?"
   ]
  },
  {
   "cell_type": "code",
   "execution_count": 263,
   "metadata": {
    "ExecuteTime": {
     "end_time": "2017-02-14T22:28:13.358030",
     "start_time": "2017-02-14T22:28:13.350933"
    },
    "collapsed": false
   },
   "outputs": [],
   "source": [
    "def get_combi(cards):\n",
    "    card_list = list(cards)\n",
    "    card_list.sort()\n",
    "    card_list = [str(i) for i in card_list]\n",
    "    return \"\".join(card_list)"
   ]
  },
  {
   "cell_type": "code",
   "execution_count": 264,
   "metadata": {
    "ExecuteTime": {
     "end_time": "2017-02-14T22:28:13.367356",
     "start_time": "2017-02-14T22:28:13.360930"
    },
    "collapsed": false
   },
   "outputs": [],
   "source": [
    "def get_other(cards, number):\n",
    "    card_list = list(cards)\n",
    "    card_list.remove(number)\n",
    "    return card_list[0]"
   ]
  },
  {
   "cell_type": "code",
   "execution_count": 311,
   "metadata": {
    "ExecuteTime": {
     "end_time": "2017-02-14T22:59:32.184183",
     "start_time": "2017-02-14T22:59:32.163515"
    },
    "collapsed": false
   },
   "outputs": [],
   "source": [
    "eights = df.copy()\n",
    "eights = eights[(df.player_card_one == 8) | (df.player_card_two == 8)]\n",
    "eights = eights[[\"player_card_one\", \"player_card_two\", \"player_wins\", \"strategy\"]]\n",
    "eights.reset_index(drop=True, inplace=True)"
   ]
  },
  {
   "cell_type": "code",
   "execution_count": 312,
   "metadata": {
    "ExecuteTime": {
     "end_time": "2017-02-14T22:59:42.110813",
     "start_time": "2017-02-14T22:59:41.640872"
    },
    "collapsed": false
   },
   "outputs": [],
   "source": [
    "eights[\"combination\"] = eights[[\"player_card_one\", \"player_card_two\"]].apply(get_combi, axis=1)"
   ]
  },
  {
   "cell_type": "code",
   "execution_count": 313,
   "metadata": {
    "ExecuteTime": {
     "end_time": "2017-02-14T22:59:42.582185",
     "start_time": "2017-02-14T22:59:42.569283"
    },
    "collapsed": false
   },
   "outputs": [
    {
     "data": {
      "text/html": [
       "<div>\n",
       "<table border=\"1\" class=\"dataframe\">\n",
       "  <thead>\n",
       "    <tr style=\"text-align: right;\">\n",
       "      <th></th>\n",
       "      <th>player_card_one</th>\n",
       "      <th>player_card_two</th>\n",
       "      <th>player_wins</th>\n",
       "      <th>strategy</th>\n",
       "      <th>combination</th>\n",
       "    </tr>\n",
       "  </thead>\n",
       "  <tbody>\n",
       "    <tr>\n",
       "      <th>0</th>\n",
       "      <td>10</td>\n",
       "      <td>8</td>\n",
       "      <td>0</td>\n",
       "      <td>0</td>\n",
       "      <td>810</td>\n",
       "    </tr>\n",
       "    <tr>\n",
       "      <th>1</th>\n",
       "      <td>9</td>\n",
       "      <td>8</td>\n",
       "      <td>0</td>\n",
       "      <td>0</td>\n",
       "      <td>89</td>\n",
       "    </tr>\n",
       "    <tr>\n",
       "      <th>2</th>\n",
       "      <td>8</td>\n",
       "      <td>10</td>\n",
       "      <td>1</td>\n",
       "      <td>0</td>\n",
       "      <td>810</td>\n",
       "    </tr>\n",
       "    <tr>\n",
       "      <th>3</th>\n",
       "      <td>8</td>\n",
       "      <td>9</td>\n",
       "      <td>0</td>\n",
       "      <td>0</td>\n",
       "      <td>89</td>\n",
       "    </tr>\n",
       "    <tr>\n",
       "      <th>4</th>\n",
       "      <td>2</td>\n",
       "      <td>8</td>\n",
       "      <td>1</td>\n",
       "      <td>0</td>\n",
       "      <td>28</td>\n",
       "    </tr>\n",
       "  </tbody>\n",
       "</table>\n",
       "</div>"
      ],
      "text/plain": [
       "   player_card_one  player_card_two  player_wins  strategy combination\n",
       "0               10                8            0         0         810\n",
       "1                9                8            0         0          89\n",
       "2                8               10            1         0         810\n",
       "3                8                9            0         0          89\n",
       "4                2                8            1         0          28"
      ]
     },
     "execution_count": 313,
     "metadata": {},
     "output_type": "execute_result"
    }
   ],
   "source": [
    "eights.head()"
   ]
  },
  {
   "cell_type": "code",
   "execution_count": 314,
   "metadata": {
    "ExecuteTime": {
     "end_time": "2017-02-14T22:59:45.543630",
     "start_time": "2017-02-14T22:59:45.537297"
    },
    "collapsed": false
   },
   "outputs": [
    {
     "data": {
      "text/plain": [
       "(11674, 5)"
      ]
     },
     "execution_count": 314,
     "metadata": {},
     "output_type": "execute_result"
    }
   ],
   "source": [
    "eights.shape"
   ]
  },
  {
   "cell_type": "code",
   "execution_count": 315,
   "metadata": {
    "ExecuteTime": {
     "end_time": "2017-02-14T23:00:02.437436",
     "start_time": "2017-02-14T22:59:46.119908"
    },
    "collapsed": false
   },
   "outputs": [],
   "source": [
    "for i in range(eights.shape[0]):\n",
    "    eights.ix[i, \"other\"] = get_other(eights[[\"player_card_one\", \"player_card_two\"]].ix[i], 8)"
   ]
  },
  {
   "cell_type": "code",
   "execution_count": 316,
   "metadata": {
    "ExecuteTime": {
     "end_time": "2017-02-14T23:00:02.445267",
     "start_time": "2017-02-14T23:00:02.439534"
    },
    "collapsed": false
   },
   "outputs": [],
   "source": [
    "eights[\"other\"] = eights[\"other\"].astype(int)"
   ]
  },
  {
   "cell_type": "code",
   "execution_count": 317,
   "metadata": {
    "ExecuteTime": {
     "end_time": "2017-02-14T23:00:05.470375",
     "start_time": "2017-02-14T23:00:05.455830"
    },
    "collapsed": false
   },
   "outputs": [
    {
     "data": {
      "text/html": [
       "<div>\n",
       "<table border=\"1\" class=\"dataframe\">\n",
       "  <thead>\n",
       "    <tr style=\"text-align: right;\">\n",
       "      <th></th>\n",
       "      <th>player_card_one</th>\n",
       "      <th>player_card_two</th>\n",
       "      <th>player_wins</th>\n",
       "      <th>strategy</th>\n",
       "      <th>combination</th>\n",
       "      <th>other</th>\n",
       "    </tr>\n",
       "  </thead>\n",
       "  <tbody>\n",
       "    <tr>\n",
       "      <th>0</th>\n",
       "      <td>10</td>\n",
       "      <td>8</td>\n",
       "      <td>0</td>\n",
       "      <td>0</td>\n",
       "      <td>810</td>\n",
       "      <td>10</td>\n",
       "    </tr>\n",
       "    <tr>\n",
       "      <th>1</th>\n",
       "      <td>9</td>\n",
       "      <td>8</td>\n",
       "      <td>0</td>\n",
       "      <td>0</td>\n",
       "      <td>89</td>\n",
       "      <td>9</td>\n",
       "    </tr>\n",
       "    <tr>\n",
       "      <th>2</th>\n",
       "      <td>8</td>\n",
       "      <td>10</td>\n",
       "      <td>1</td>\n",
       "      <td>0</td>\n",
       "      <td>810</td>\n",
       "      <td>10</td>\n",
       "    </tr>\n",
       "    <tr>\n",
       "      <th>3</th>\n",
       "      <td>8</td>\n",
       "      <td>9</td>\n",
       "      <td>0</td>\n",
       "      <td>0</td>\n",
       "      <td>89</td>\n",
       "      <td>9</td>\n",
       "    </tr>\n",
       "    <tr>\n",
       "      <th>4</th>\n",
       "      <td>2</td>\n",
       "      <td>8</td>\n",
       "      <td>1</td>\n",
       "      <td>0</td>\n",
       "      <td>28</td>\n",
       "      <td>2</td>\n",
       "    </tr>\n",
       "  </tbody>\n",
       "</table>\n",
       "</div>"
      ],
      "text/plain": [
       "   player_card_one  player_card_two  player_wins  strategy combination  other\n",
       "0               10                8            0         0         810     10\n",
       "1                9                8            0         0          89      9\n",
       "2                8               10            1         0         810     10\n",
       "3                8                9            0         0          89      9\n",
       "4                2                8            1         0          28      2"
      ]
     },
     "execution_count": 317,
     "metadata": {},
     "output_type": "execute_result"
    }
   ],
   "source": [
    "eights.head()"
   ]
  },
  {
   "cell_type": "code",
   "execution_count": 318,
   "metadata": {
    "ExecuteTime": {
     "end_time": "2017-02-14T23:00:12.500648",
     "start_time": "2017-02-14T23:00:12.491654"
    },
    "collapsed": false
   },
   "outputs": [
    {
     "data": {
      "text/plain": [
       "10    3760\n",
       "4      964\n",
       "7      956\n",
       "5      945\n",
       "2      939\n",
       "1      931\n",
       "6      927\n",
       "3      921\n",
       "9      916\n",
       "8      415\n",
       "Name: other, dtype: int64"
      ]
     },
     "execution_count": 318,
     "metadata": {},
     "output_type": "execute_result"
    }
   ],
   "source": [
    "eights.other.value_counts()"
   ]
  },
  {
   "cell_type": "code",
   "execution_count": 319,
   "metadata": {
    "ExecuteTime": {
     "end_time": "2017-02-14T23:00:15.856056",
     "start_time": "2017-02-14T23:00:15.840222"
    },
    "collapsed": false
   },
   "outputs": [
    {
     "data": {
      "text/html": [
       "<div>\n",
       "<table border=\"1\" class=\"dataframe\">\n",
       "  <thead>\n",
       "    <tr style=\"text-align: right;\">\n",
       "      <th></th>\n",
       "      <th>player_card_one</th>\n",
       "      <th>player_card_two</th>\n",
       "      <th>player_wins</th>\n",
       "      <th>strategy</th>\n",
       "      <th>combination</th>\n",
       "      <th>other</th>\n",
       "    </tr>\n",
       "  </thead>\n",
       "  <tbody>\n",
       "    <tr>\n",
       "      <th>0</th>\n",
       "      <td>10</td>\n",
       "      <td>8</td>\n",
       "      <td>0</td>\n",
       "      <td>0</td>\n",
       "      <td>810</td>\n",
       "      <td>10</td>\n",
       "    </tr>\n",
       "    <tr>\n",
       "      <th>1</th>\n",
       "      <td>9</td>\n",
       "      <td>8</td>\n",
       "      <td>0</td>\n",
       "      <td>0</td>\n",
       "      <td>89</td>\n",
       "      <td>9</td>\n",
       "    </tr>\n",
       "    <tr>\n",
       "      <th>2</th>\n",
       "      <td>8</td>\n",
       "      <td>10</td>\n",
       "      <td>1</td>\n",
       "      <td>0</td>\n",
       "      <td>810</td>\n",
       "      <td>10</td>\n",
       "    </tr>\n",
       "    <tr>\n",
       "      <th>3</th>\n",
       "      <td>8</td>\n",
       "      <td>9</td>\n",
       "      <td>0</td>\n",
       "      <td>0</td>\n",
       "      <td>89</td>\n",
       "      <td>9</td>\n",
       "    </tr>\n",
       "    <tr>\n",
       "      <th>4</th>\n",
       "      <td>2</td>\n",
       "      <td>8</td>\n",
       "      <td>1</td>\n",
       "      <td>0</td>\n",
       "      <td>28</td>\n",
       "      <td>2</td>\n",
       "    </tr>\n",
       "  </tbody>\n",
       "</table>\n",
       "</div>"
      ],
      "text/plain": [
       "   player_card_one  player_card_two  player_wins  strategy combination  other\n",
       "0               10                8            0         0         810     10\n",
       "1                9                8            0         0          89      9\n",
       "2                8               10            1         0         810     10\n",
       "3                8                9            0         0          89      9\n",
       "4                2                8            1         0          28      2"
      ]
     },
     "execution_count": 319,
     "metadata": {},
     "output_type": "execute_result"
    }
   ],
   "source": [
    "eights.head()"
   ]
  },
  {
   "cell_type": "code",
   "execution_count": 320,
   "metadata": {
    "ExecuteTime": {
     "end_time": "2017-02-14T23:00:35.927559",
     "start_time": "2017-02-14T23:00:35.915602"
    },
    "collapsed": false
   },
   "outputs": [],
   "source": [
    "e_wins = eights.groupby([\"strategy\", \"other\"])[\"player_wins\"].agg([sum, len])"
   ]
  },
  {
   "cell_type": "code",
   "execution_count": 321,
   "metadata": {
    "ExecuteTime": {
     "end_time": "2017-02-14T23:00:37.036032",
     "start_time": "2017-02-14T23:00:37.021697"
    },
    "collapsed": false
   },
   "outputs": [
    {
     "data": {
      "text/html": [
       "<div>\n",
       "<table border=\"1\" class=\"dataframe\">\n",
       "  <thead>\n",
       "    <tr style=\"text-align: right;\">\n",
       "      <th></th>\n",
       "      <th></th>\n",
       "      <th>sum</th>\n",
       "      <th>len</th>\n",
       "    </tr>\n",
       "    <tr>\n",
       "      <th>strategy</th>\n",
       "      <th>other</th>\n",
       "      <th></th>\n",
       "      <th></th>\n",
       "    </tr>\n",
       "  </thead>\n",
       "  <tbody>\n",
       "    <tr>\n",
       "      <th rowspan=\"10\" valign=\"top\">0</th>\n",
       "      <th>1</th>\n",
       "      <td>255</td>\n",
       "      <td>464</td>\n",
       "    </tr>\n",
       "    <tr>\n",
       "      <th>2</th>\n",
       "      <td>209</td>\n",
       "      <td>488</td>\n",
       "    </tr>\n",
       "    <tr>\n",
       "      <th>3</th>\n",
       "      <td>203</td>\n",
       "      <td>444</td>\n",
       "    </tr>\n",
       "    <tr>\n",
       "      <th>4</th>\n",
       "      <td>133</td>\n",
       "      <td>462</td>\n",
       "    </tr>\n",
       "    <tr>\n",
       "      <th>5</th>\n",
       "      <td>125</td>\n",
       "      <td>496</td>\n",
       "    </tr>\n",
       "    <tr>\n",
       "      <th>6</th>\n",
       "      <td>99</td>\n",
       "      <td>438</td>\n",
       "    </tr>\n",
       "    <tr>\n",
       "      <th>7</th>\n",
       "      <td>119</td>\n",
       "      <td>481</td>\n",
       "    </tr>\n",
       "    <tr>\n",
       "      <th>8</th>\n",
       "      <td>50</td>\n",
       "      <td>221</td>\n",
       "    </tr>\n",
       "    <tr>\n",
       "      <th>9</th>\n",
       "      <td>71</td>\n",
       "      <td>445</td>\n",
       "    </tr>\n",
       "    <tr>\n",
       "      <th>10</th>\n",
       "      <td>318</td>\n",
       "      <td>1856</td>\n",
       "    </tr>\n",
       "    <tr>\n",
       "      <th rowspan=\"10\" valign=\"top\">1</th>\n",
       "      <th>1</th>\n",
       "      <td>277</td>\n",
       "      <td>467</td>\n",
       "    </tr>\n",
       "    <tr>\n",
       "      <th>2</th>\n",
       "      <td>227</td>\n",
       "      <td>451</td>\n",
       "    </tr>\n",
       "    <tr>\n",
       "      <th>3</th>\n",
       "      <td>248</td>\n",
       "      <td>477</td>\n",
       "    </tr>\n",
       "    <tr>\n",
       "      <th>4</th>\n",
       "      <td>121</td>\n",
       "      <td>502</td>\n",
       "    </tr>\n",
       "    <tr>\n",
       "      <th>5</th>\n",
       "      <td>119</td>\n",
       "      <td>449</td>\n",
       "    </tr>\n",
       "    <tr>\n",
       "      <th>6</th>\n",
       "      <td>123</td>\n",
       "      <td>489</td>\n",
       "    </tr>\n",
       "    <tr>\n",
       "      <th>7</th>\n",
       "      <td>121</td>\n",
       "      <td>475</td>\n",
       "    </tr>\n",
       "    <tr>\n",
       "      <th>8</th>\n",
       "      <td>54</td>\n",
       "      <td>194</td>\n",
       "    </tr>\n",
       "    <tr>\n",
       "      <th>9</th>\n",
       "      <td>136</td>\n",
       "      <td>471</td>\n",
       "    </tr>\n",
       "    <tr>\n",
       "      <th>10</th>\n",
       "      <td>790</td>\n",
       "      <td>1904</td>\n",
       "    </tr>\n",
       "  </tbody>\n",
       "</table>\n",
       "</div>"
      ],
      "text/plain": [
       "                sum   len\n",
       "strategy other           \n",
       "0        1      255   464\n",
       "         2      209   488\n",
       "         3      203   444\n",
       "         4      133   462\n",
       "         5      125   496\n",
       "         6       99   438\n",
       "         7      119   481\n",
       "         8       50   221\n",
       "         9       71   445\n",
       "         10     318  1856\n",
       "1        1      277   467\n",
       "         2      227   451\n",
       "         3      248   477\n",
       "         4      121   502\n",
       "         5      119   449\n",
       "         6      123   489\n",
       "         7      121   475\n",
       "         8       54   194\n",
       "         9      136   471\n",
       "         10     790  1904"
      ]
     },
     "execution_count": 321,
     "metadata": {},
     "output_type": "execute_result"
    }
   ],
   "source": [
    "e_wins"
   ]
  },
  {
   "cell_type": "code",
   "execution_count": 322,
   "metadata": {
    "ExecuteTime": {
     "end_time": "2017-02-14T23:00:46.727633",
     "start_time": "2017-02-14T23:00:46.723039"
    },
    "collapsed": false
   },
   "outputs": [],
   "source": [
    "e_wins[\"prob\"] = e_wins[\"sum\"]/e_wins[\"len\"]"
   ]
  },
  {
   "cell_type": "code",
   "execution_count": 325,
   "metadata": {
    "ExecuteTime": {
     "end_time": "2017-02-14T23:01:03.861921",
     "start_time": "2017-02-14T23:01:03.856211"
    },
    "collapsed": false
   },
   "outputs": [],
   "source": [
    "e_wins.reset_index(inplace=True)"
   ]
  },
  {
   "cell_type": "code",
   "execution_count": 363,
   "metadata": {
    "ExecuteTime": {
     "end_time": "2017-02-14T23:11:55.270771",
     "start_time": "2017-02-14T23:11:55.261269"
    },
    "collapsed": false
   },
   "outputs": [],
   "source": [
    "ran = e_wins[e_wins[\"strategy\"]==0].reset_index()\n",
    "rec = e_wins[e_wins[\"strategy\"]==1].reset_index()"
   ]
  },
  {
   "cell_type": "code",
   "execution_count": 374,
   "metadata": {
    "ExecuteTime": {
     "end_time": "2017-02-14T23:13:34.319698",
     "start_time": "2017-02-14T23:13:33.983410"
    },
    "collapsed": false
   },
   "outputs": [
    {
     "data": {
      "image/png": "[encoded data removed]",
      "text/plain": [
       "<matplotlib.figure.Figure at 0x112b3b7b8>"
      ]
     },
     "metadata": {},
     "output_type": "display_data"
    }
   ],
   "source": [
    "plt.bar(rec[\"other\"], rec[\"prob\"], \n",
    "        color=\"r\", alpha=0.4, label=\"Recommended\");\n",
    "plt.bar(ran[\"other\"], ran[\"prob\"], \n",
    "        color=\"b\", alpha=0.4, label=\"Random\");\n",
    "plt.title(\"First card 8\");\n",
    "plt.xticks(e_wins[\"other\"].unique())\n",
    "plt.xlabel(\"Other card\");\n",
    "plt.ylabel(\"Expected probability of winning\");\n",
    "plt.legend();"
   ]
  },
  {
   "cell_type": "code",
   "execution_count": 309,
   "metadata": {
    "ExecuteTime": {
     "end_time": "2017-02-14T22:52:23.736740",
     "start_time": "2017-02-14T22:52:23.696345"
    },
    "collapsed": false
   },
   "outputs": [
    {
     "name": "stdout",
     "output_type": "stream",
     "text": [
      "Null hypothesis: There is no difference in wins whether your second card is 1 or 8.\n",
      "Significance level = 5%\n",
      "Other card: 1\n",
      "p-value: 0.000000\n",
      "p-value < 5%: True\n",
      "Null hypothesis rejected.\n",
      "\n",
      "Null hypothesis: There is no difference in wins whether your second card is 2 or 8.\n",
      "Significance level = 5%\n",
      "Other card: 2\n",
      "p-value: 0.000000\n",
      "p-value < 5%: True\n",
      "Null hypothesis rejected.\n",
      "\n",
      "Null hypothesis: There is no difference in wins whether your second card is 3 or 8.\n",
      "Significance level = 5%\n",
      "Other card: 3\n",
      "p-value: 0.000000\n",
      "p-value < 5%: True\n",
      "Null hypothesis rejected.\n",
      "\n",
      "Null hypothesis: There is no difference in wins whether your second card is 4 or 8.\n",
      "Significance level = 5%\n",
      "Other card: 4\n",
      "p-value: 0.309646\n",
      "p-value < 5%: False\n",
      "Null hypothesis not rejected.\n",
      "\n",
      "Null hypothesis: There is no difference in wins whether your second card is 5 or 8.\n",
      "Significance level = 5%\n",
      "Other card: 5\n",
      "p-value: 0.727200\n",
      "p-value < 5%: False\n",
      "Null hypothesis not rejected.\n",
      "\n",
      "Null hypothesis: There is no difference in wins whether your second card is 6 or 8.\n",
      "Significance level = 5%\n",
      "Other card: 6\n",
      "p-value: 0.471459\n",
      "p-value < 5%: False\n",
      "Null hypothesis not rejected.\n",
      "\n",
      "Null hypothesis: There is no difference in wins whether your second card is 7 or 8.\n",
      "Significance level = 5%\n",
      "Other card: 7\n",
      "p-value: 0.529024\n",
      "p-value < 5%: False\n",
      "Null hypothesis not rejected.\n",
      "\n",
      "Null hypothesis: There is no difference in wins whether your second card is 9 or 8.\n",
      "Significance level = 5%\n",
      "Other card: 9\n",
      "p-value: 0.787719\n",
      "p-value < 5%: False\n",
      "Null hypothesis not rejected.\n",
      "\n",
      "Null hypothesis: There is no difference in wins whether your second card is 10 or 8.\n",
      "Significance level = 5%\n",
      "Other card: 10\n",
      "p-value: 0.000216\n",
      "p-value < 5%: True\n",
      "Null hypothesis rejected.\n",
      "\n"
     ]
    }
   ],
   "source": [
    "for i in range(1,11):\n",
    "    if i != 8:\n",
    "        r = stats.ttest_ind(eights[\"player_wins\"][eights[\"other\"]==i], eights[\"player_wins\"][eights[\"other\"]==8])\n",
    "        if r.pvalue < 0.05:\n",
    "            msg = \"rejected.\"\n",
    "        else:\n",
    "            msg = \"not rejected.\"\n",
    "        print (\"Null hypothesis: There is no difference in wins whether your second card is {} or 8.\\nSignificance level = 5%\".format(i))\n",
    "        print (\"Other card: {}\\np-value: {:.6f}\\np-value < 5%: {}\\nNull hypothesis {}\\n\".format(i, r.pvalue, r.pvalue < 0.05, msg))"
   ]
  },
  {
   "cell_type": "markdown",
   "metadata": {},
   "source": [
    "### What about other numbers"
   ]
  },
  {
   "cell_type": "code",
   "execution_count": 378,
   "metadata": {
    "ExecuteTime": {
     "end_time": "2017-02-14T23:19:04.436744",
     "start_time": "2017-02-14T23:19:04.396140"
    },
    "collapsed": false
   },
   "outputs": [],
   "source": [
    "def test_doubles(number):\n",
    "    num_df = df.copy()\n",
    "    num_df = num_df[(num_df[\"player_card_one\"]==number) | (num_df[\"player_card_two\"]==number)]\n",
    "    num_df = num_df[[\"player_card_one\", \"player_card_two\", \"player_wins\", \"strategy\"]]\n",
    "    num_df.reset_index(drop=True, inplace=True)\n",
    "    num_df[\"combination\"] = num_df[[\"player_card_one\", \"player_card_two\"]].apply(get_combi, axis=1)\n",
    "\n",
    "    for i in range(num_df.shape[0]):\n",
    "        num_df.ix[i, \"other\"] = get_other(num_df[[\"player_card_one\", \"player_card_two\"]].ix[i], number)\n",
    "    \n",
    "    num_wins = num_df.groupby([\"strategy\", \"other\"])[\"player_wins\"].agg([sum, len])\n",
    "    num_wins[\"prob\"] = num_wins[\"sum\"]/num_wins[\"len\"]\n",
    "    num_wins.reset_index(inplace=True)\n",
    "    \n",
    "    ran = num_wins[num_wins[\"strategy\"]==0].reset_index()\n",
    "    rec = num_wins[num_wins[\"strategy\"]==1].reset_index()\n",
    "    \n",
    "    plt.bar(rec[\"other\"], rec[\"prob\"], \n",
    "        color=\"r\", alpha=0.4, label=\"Recommended\");\n",
    "    plt.bar(ran[\"other\"], ran[\"prob\"], \n",
    "            color=\"b\", alpha=0.4, label=\"Random\");\n",
    "    plt.title(\"First card {}\".format(number));\n",
    "    plt.xticks(num_wins[\"other\"].unique())\n",
    "    plt.xlabel(\"Other card\");\n",
    "    plt.ylabel(\"Expected probability of winning\");\n",
    "    plt.legend();\n",
    "    \n",
    "#     for i in range(1,11):\n",
    "#         if i != number:\n",
    "#             r = stats.ttest_ind(num_df[\"player_wins\"][num_df[\"other\"]==i], num_df[\"player_wins\"][num_df[\"other\"]==number])\n",
    "#             if r.pvalue < 0.05:\n",
    "#                 msg = \"rejected.\"\n",
    "#             else:\n",
    "#                 msg = \"not rejected.\"\n",
    "#             print (\"Null hypothesis: There is no difference in wins whether your second card is {} or {}.\\nSignificance level = 5%\".format(i, number))\n",
    "#             print (\"Other card: {}\\np-value: {:.6f}\\np-value < 5%: {}\\nNull hypothesis {}\\n\".format(i, r.pvalue, r.pvalue < 0.05, msg))"
   ]
  },
  {
   "cell_type": "code",
   "execution_count": 379,
   "metadata": {
    "ExecuteTime": {
     "end_time": "2017-02-14T23:19:23.053354",
     "start_time": "2017-02-14T23:19:05.420711"
    },
    "collapsed": false
   },
   "outputs": [
    {
     "data": {
      "image/png": "[encoded data removed]",
      "text/plain": [
       "<matplotlib.figure.Figure at 0x1027f4438>"
      ]
     },
     "metadata": {},
     "output_type": "display_data"
    }
   ],
   "source": [
    "test_doubles(8)"
   ]
  },
  {
   "cell_type": "code",
   "execution_count": null,
   "metadata": {
    "ExecuteTime": {
     "start_time": "2017-02-15T04:19:26.262Z"
    },
    "collapsed": false,
    "scrolled": false
   },
   "outputs": [],
   "source": [
    "for i in range(1,11):\n",
    "    test_doubles(i)"
   ]
  },
  {
   "cell_type": "markdown",
   "metadata": {},
   "source": [
    "## Do we always do better when hitting on 12-16's?"
   ]
  },
  {
   "cell_type": "code",
   "execution_count": 286,
   "metadata": {
    "ExecuteTime": {
     "end_time": "2017-02-14T22:50:21.387403",
     "start_time": "2017-02-14T22:50:21.377800"
    },
    "collapsed": false
   },
   "outputs": [],
   "source": [
    "sub1216 = df.copy()"
   ]
  },
  {
   "cell_type": "code",
   "execution_count": 288,
   "metadata": {
    "ExecuteTime": {
     "end_time": "2017-02-14T22:50:33.648064",
     "start_time": "2017-02-14T22:50:33.639279"
    },
    "collapsed": false
   },
   "outputs": [],
   "source": [
    "sub1216 = sub1216[sub1216[\"player_initial\"] >= 12]\n",
    "sub1216 = sub1216[sub1216[\"player_initial\"] <= 16]\n",
    "sub1216"
   ]
  },
  {
   "cell_type": "markdown",
   "metadata": {
    "collapsed": false
   },
   "source": [
    "## Do we always do worse when hitting on 17's and above?"
   ]
  },
  {
   "cell_type": "code",
   "execution_count": null,
   "metadata": {
    "collapsed": false
   },
   "outputs": [],
   "source": []
  },
  {
   "cell_type": "code",
   "execution_count": null,
   "metadata": {
    "collapsed": false
   },
   "outputs": [],
   "source": []
  }
 ],
 "metadata": {
  "anaconda-cloud": {},
  "kernelspec": {
   "display_name": "Python [conda env:py36]",
   "language": "python",
   "name": "conda-env-py36-py"
  },
  "language_info": {
   "codemirror_mode": {
    "name": "ipython",
    "version": 3
   },
   "file_extension": ".py",
   "mimetype": "text/x-python",
   "name": "python",
   "nbconvert_exporter": "python",
   "pygments_lexer": "ipython3",
   "version": "3.6.0"
  },
  "toc": {
   "nav_menu": {
    "height": "30px",
    "width": "252px"
   },
   "navigate_menu": true,
   "number_sections": true,
   "sideBar": true,
   "threshold": 4,
   "toc_cell": false,
   "toc_section_display": "block",
   "toc_window_display": false
  }
 },
 "nbformat": 4,
 "nbformat_minor": 1
}
