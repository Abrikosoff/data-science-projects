{
 "cells": [
  {
   "cell_type": "code",
   "execution_count": 1,
   "metadata": {
    "ExecuteTime": {
     "end_time": "2017-02-06T20:06:19.428074",
     "start_time": "2017-02-06T20:06:18.357963"
    },
    "collapsed": false
   },
   "outputs": [],
   "source": [
    "import pandas as pd\n",
    "import numpy as np\n",
    "import matplotlib.pyplot as plt\n",
    "import seaborn as sns\n",
    "import generate_data as gen_d\n",
    "\n",
    "%matplotlib inline"
   ]
  },
  {
   "cell_type": "markdown",
   "metadata": {},
   "source": [
    "# Exploration"
   ]
  },
  {
   "cell_type": "code",
   "execution_count": 2,
   "metadata": {
    "ExecuteTime": {
     "end_time": "2017-02-06T20:06:19.606840",
     "start_time": "2017-02-06T20:06:19.430044"
    },
    "collapsed": false
   },
   "outputs": [],
   "source": [
    "df = pd.read_csv(\"blackjack.csv\")"
   ]
  },
  {
   "cell_type": "code",
   "execution_count": 3,
   "metadata": {
    "ExecuteTime": {
     "end_time": "2017-02-06T20:06:19.615509",
     "start_time": "2017-02-06T20:06:19.608868"
    },
    "collapsed": false
   },
   "outputs": [
    {
     "data": {
      "text/plain": [
       "(70000, 18)"
      ]
     },
     "execution_count": 3,
     "metadata": {},
     "output_type": "execute_result"
    }
   ],
   "source": [
    "df.shape"
   ]
  },
  {
   "cell_type": "code",
   "execution_count": 4,
   "metadata": {
    "ExecuteTime": {
     "end_time": "2017-02-06T20:06:19.770554",
     "start_time": "2017-02-06T20:06:19.618666"
    },
    "collapsed": false
   },
   "outputs": [
    {
     "data": {
      "text/html": [
       "<div>\n",
       "<table border=\"1\" class=\"dataframe\">\n",
       "  <thead>\n",
       "    <tr style=\"text-align: right;\">\n",
       "      <th></th>\n",
       "      <th>num_decks</th>\n",
       "      <th>dealer_open</th>\n",
       "      <th>dealer_initial</th>\n",
       "      <th>dealer_hit</th>\n",
       "      <th>dealer_num_hits</th>\n",
       "      <th>dealer_final</th>\n",
       "      <th>dealer_busts</th>\n",
       "      <th>player_inital</th>\n",
       "      <th>player_hit</th>\n",
       "      <th>player_num_hits</th>\n",
       "      <th>player_final</th>\n",
       "      <th>player_busts</th>\n",
       "      <th>player_loses</th>\n",
       "      <th>draw</th>\n",
       "      <th>player_wins</th>\n",
       "      <th>strategy</th>\n",
       "    </tr>\n",
       "  </thead>\n",
       "  <tbody>\n",
       "    <tr>\n",
       "      <th>count</th>\n",
       "      <td>70000.0</td>\n",
       "      <td>70000.000000</td>\n",
       "      <td>70000.000000</td>\n",
       "      <td>70000.000000</td>\n",
       "      <td>70000.000000</td>\n",
       "      <td>70000.000000</td>\n",
       "      <td>70000.000000</td>\n",
       "      <td>70000.000000</td>\n",
       "      <td>70000.000000</td>\n",
       "      <td>70000.000000</td>\n",
       "      <td>70000.000000</td>\n",
       "      <td>70000.000000</td>\n",
       "      <td>70000.000000</td>\n",
       "      <td>70000.000000</td>\n",
       "      <td>70000.000000</td>\n",
       "      <td>70000.000000</td>\n",
       "    </tr>\n",
       "    <tr>\n",
       "      <th>mean</th>\n",
       "      <td>4.0</td>\n",
       "      <td>6.530743</td>\n",
       "      <td>14.557543</td>\n",
       "      <td>0.410043</td>\n",
       "      <td>0.560286</td>\n",
       "      <td>18.096514</td>\n",
       "      <td>0.178486</td>\n",
       "      <td>14.552786</td>\n",
       "      <td>0.572486</td>\n",
       "      <td>0.845100</td>\n",
       "      <td>19.892400</td>\n",
       "      <td>0.295114</td>\n",
       "      <td>0.543814</td>\n",
       "      <td>0.073129</td>\n",
       "      <td>0.383057</td>\n",
       "      <td>0.500000</td>\n",
       "    </tr>\n",
       "    <tr>\n",
       "      <th>std</th>\n",
       "      <td>0.0</td>\n",
       "      <td>3.153388</td>\n",
       "      <td>4.078590</td>\n",
       "      <td>0.491845</td>\n",
       "      <td>0.774488</td>\n",
       "      <td>4.351632</td>\n",
       "      <td>0.382924</td>\n",
       "      <td>4.082299</td>\n",
       "      <td>0.494721</td>\n",
       "      <td>0.899732</td>\n",
       "      <td>3.869239</td>\n",
       "      <td>0.456097</td>\n",
       "      <td>0.498080</td>\n",
       "      <td>0.260349</td>\n",
       "      <td>0.486136</td>\n",
       "      <td>0.500004</td>\n",
       "    </tr>\n",
       "    <tr>\n",
       "      <th>min</th>\n",
       "      <td>4.0</td>\n",
       "      <td>1.000000</td>\n",
       "      <td>4.000000</td>\n",
       "      <td>0.000000</td>\n",
       "      <td>0.000000</td>\n",
       "      <td>4.000000</td>\n",
       "      <td>0.000000</td>\n",
       "      <td>4.000000</td>\n",
       "      <td>0.000000</td>\n",
       "      <td>0.000000</td>\n",
       "      <td>4.000000</td>\n",
       "      <td>0.000000</td>\n",
       "      <td>0.000000</td>\n",
       "      <td>0.000000</td>\n",
       "      <td>0.000000</td>\n",
       "      <td>0.000000</td>\n",
       "    </tr>\n",
       "    <tr>\n",
       "      <th>25%</th>\n",
       "      <td>4.0</td>\n",
       "      <td>4.000000</td>\n",
       "      <td>12.000000</td>\n",
       "      <td>0.000000</td>\n",
       "      <td>0.000000</td>\n",
       "      <td>16.000000</td>\n",
       "      <td>0.000000</td>\n",
       "      <td>12.000000</td>\n",
       "      <td>0.000000</td>\n",
       "      <td>0.000000</td>\n",
       "      <td>18.000000</td>\n",
       "      <td>0.000000</td>\n",
       "      <td>0.000000</td>\n",
       "      <td>0.000000</td>\n",
       "      <td>0.000000</td>\n",
       "      <td>0.000000</td>\n",
       "    </tr>\n",
       "    <tr>\n",
       "      <th>50%</th>\n",
       "      <td>4.0</td>\n",
       "      <td>7.000000</td>\n",
       "      <td>15.000000</td>\n",
       "      <td>0.000000</td>\n",
       "      <td>0.000000</td>\n",
       "      <td>19.000000</td>\n",
       "      <td>0.000000</td>\n",
       "      <td>15.000000</td>\n",
       "      <td>1.000000</td>\n",
       "      <td>1.000000</td>\n",
       "      <td>20.000000</td>\n",
       "      <td>0.000000</td>\n",
       "      <td>1.000000</td>\n",
       "      <td>0.000000</td>\n",
       "      <td>0.000000</td>\n",
       "      <td>0.500000</td>\n",
       "    </tr>\n",
       "    <tr>\n",
       "      <th>75%</th>\n",
       "      <td>4.0</td>\n",
       "      <td>10.000000</td>\n",
       "      <td>18.000000</td>\n",
       "      <td>1.000000</td>\n",
       "      <td>1.000000</td>\n",
       "      <td>21.000000</td>\n",
       "      <td>0.000000</td>\n",
       "      <td>18.000000</td>\n",
       "      <td>1.000000</td>\n",
       "      <td>1.000000</td>\n",
       "      <td>22.000000</td>\n",
       "      <td>1.000000</td>\n",
       "      <td>1.000000</td>\n",
       "      <td>0.000000</td>\n",
       "      <td>1.000000</td>\n",
       "      <td>1.000000</td>\n",
       "    </tr>\n",
       "    <tr>\n",
       "      <th>max</th>\n",
       "      <td>4.0</td>\n",
       "      <td>10.000000</td>\n",
       "      <td>21.000000</td>\n",
       "      <td>1.000000</td>\n",
       "      <td>6.000000</td>\n",
       "      <td>26.000000</td>\n",
       "      <td>1.000000</td>\n",
       "      <td>21.000000</td>\n",
       "      <td>1.000000</td>\n",
       "      <td>6.000000</td>\n",
       "      <td>28.000000</td>\n",
       "      <td>1.000000</td>\n",
       "      <td>1.000000</td>\n",
       "      <td>1.000000</td>\n",
       "      <td>1.000000</td>\n",
       "      <td>1.000000</td>\n",
       "    </tr>\n",
       "  </tbody>\n",
       "</table>\n",
       "</div>"
      ],
      "text/plain": [
       "       num_decks   dealer_open  dealer_initial    dealer_hit  dealer_num_hits  \\\n",
       "count    70000.0  70000.000000    70000.000000  70000.000000     70000.000000   \n",
       "mean         4.0      6.530743       14.557543      0.410043         0.560286   \n",
       "std          0.0      3.153388        4.078590      0.491845         0.774488   \n",
       "min          4.0      1.000000        4.000000      0.000000         0.000000   \n",
       "25%          4.0      4.000000       12.000000      0.000000         0.000000   \n",
       "50%          4.0      7.000000       15.000000      0.000000         0.000000   \n",
       "75%          4.0     10.000000       18.000000      1.000000         1.000000   \n",
       "max          4.0     10.000000       21.000000      1.000000         6.000000   \n",
       "\n",
       "       dealer_final  dealer_busts  player_inital    player_hit  \\\n",
       "count  70000.000000  70000.000000   70000.000000  70000.000000   \n",
       "mean      18.096514      0.178486      14.552786      0.572486   \n",
       "std        4.351632      0.382924       4.082299      0.494721   \n",
       "min        4.000000      0.000000       4.000000      0.000000   \n",
       "25%       16.000000      0.000000      12.000000      0.000000   \n",
       "50%       19.000000      0.000000      15.000000      1.000000   \n",
       "75%       21.000000      0.000000      18.000000      1.000000   \n",
       "max       26.000000      1.000000      21.000000      1.000000   \n",
       "\n",
       "       player_num_hits  player_final  player_busts  player_loses  \\\n",
       "count     70000.000000  70000.000000  70000.000000  70000.000000   \n",
       "mean          0.845100     19.892400      0.295114      0.543814   \n",
       "std           0.899732      3.869239      0.456097      0.498080   \n",
       "min           0.000000      4.000000      0.000000      0.000000   \n",
       "25%           0.000000     18.000000      0.000000      0.000000   \n",
       "50%           1.000000     20.000000      0.000000      1.000000   \n",
       "75%           1.000000     22.000000      1.000000      1.000000   \n",
       "max           6.000000     28.000000      1.000000      1.000000   \n",
       "\n",
       "               draw   player_wins      strategy  \n",
       "count  70000.000000  70000.000000  70000.000000  \n",
       "mean       0.073129      0.383057      0.500000  \n",
       "std        0.260349      0.486136      0.500004  \n",
       "min        0.000000      0.000000      0.000000  \n",
       "25%        0.000000      0.000000      0.000000  \n",
       "50%        0.000000      0.000000      0.500000  \n",
       "75%        0.000000      1.000000      1.000000  \n",
       "max        1.000000      1.000000      1.000000  "
      ]
     },
     "execution_count": 4,
     "metadata": {},
     "output_type": "execute_result"
    }
   ],
   "source": [
    "df.describe()"
   ]
  },
  {
   "cell_type": "markdown",
   "metadata": {
    "collapsed": false
   },
   "source": [
    "# Initial exploration"
   ]
  },
  {
   "cell_type": "code",
   "execution_count": 49,
   "metadata": {
    "ExecuteTime": {
     "end_time": "2017-02-06T20:19:59.028222",
     "start_time": "2017-02-06T20:19:59.018391"
    },
    "collapsed": false
   },
   "outputs": [],
   "source": [
    "# Simulate trials of 100 games\n",
    "def sim_trial():\n",
    "    ran = gen_d.gen_df(gen_d.gen_data(num_decks=4, df_size=50, strategy=0))\n",
    "    ran = ran[[\"player_loses\", \"draw\", \"player_wins\", \"strategy\"]].sum()/len(ran)\n",
    "    ran = pd.DataFrame(ran, [\"player_loses\", \"draw\", \"player_wins\", \"strategy\"]).T\n",
    "    rec = gen_d.gen_df(gen_d.gen_data(num_decks=4, df_size=50, strategy=1))\n",
    "    rec = rec[[\"player_loses\", \"draw\", \"player_wins\", \"strategy\"]].sum()/len(rec)\n",
    "    rec = pd.DataFrame(rec, [\"player_loses\", \"draw\", \"player_wins\", \"strategy\"]).T\n",
    "    sub = pd.concat([ran, rec])\n",
    "    return sub"
   ]
  },
  {
   "cell_type": "code",
   "execution_count": 51,
   "metadata": {
    "ExecuteTime": {
     "end_time": "2017-02-06T20:20:10.135879",
     "start_time": "2017-02-06T20:20:10.130256"
    },
    "collapsed": true
   },
   "outputs": [],
   "source": [
    "def n_trials(n=5000):\n",
    "    trials = sim_trial()\n",
    "    for _ in range(n):\n",
    "        trials = pd.concat([trials, sim_trial()])\n",
    "        \n",
    "    return trials"
   ]
  },
  {
   "cell_type": "code",
   "execution_count": null,
   "metadata": {
    "ExecuteTime": {
     "start_time": "2017-02-07T01:20:12.085Z"
    },
    "collapsed": false
   },
   "outputs": [],
   "source": [
    "trials = n_trials()"
   ]
  },
  {
   "cell_type": "code",
   "execution_count": null,
   "metadata": {
    "collapsed": true
   },
   "outputs": [],
   "source": []
  }
 ],
 "metadata": {
  "anaconda-cloud": {},
  "kernelspec": {
   "display_name": "Python [conda env:py36]",
   "language": "python",
   "name": "conda-env-py36-py"
  },
  "language_info": {
   "codemirror_mode": {
    "name": "ipython",
    "version": 3
   },
   "file_extension": ".py",
   "mimetype": "text/x-python",
   "name": "python",
   "nbconvert_exporter": "python",
   "pygments_lexer": "ipython3",
   "version": "3.6.0"
  },
  "toc": {
   "nav_menu": {
    "height": "30px",
    "width": "252px"
   },
   "navigate_menu": true,
   "number_sections": true,
   "sideBar": true,
   "threshold": 4,
   "toc_cell": false,
   "toc_section_display": "block",
   "toc_window_display": false
  }
 },
 "nbformat": 4,
 "nbformat_minor": 1
}
