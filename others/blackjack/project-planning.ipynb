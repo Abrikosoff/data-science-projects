{
 "cells": [
  {
   "cell_type": "code",
   "execution_count": 2,
   "metadata": {
    "ExecuteTime": {
     "end_time": "2017-02-04T21:36:56.504803",
     "start_time": "2017-02-04T21:36:56.501138"
    },
    "collapsed": true
   },
   "outputs": [],
   "source": [
    "import pandas as pd"
   ]
  },
  {
   "cell_type": "code",
   "execution_count": 6,
   "metadata": {
    "ExecuteTime": {
     "end_time": "2017-02-04T22:04:53.810980",
     "start_time": "2017-02-04T22:04:53.806493"
    },
    "collapsed": false
   },
   "outputs": [],
   "source": [
    "pd.set_option(\"max_colwidth\", 0)"
   ]
  },
  {
   "cell_type": "markdown",
   "metadata": {},
   "source": [
    "# What do we need for our analysis"
   ]
  },
  {
   "cell_type": "markdown",
   "metadata": {},
   "source": [
    "## What do we want to find out"
   ]
  },
  {
   "cell_type": "markdown",
   "metadata": {},
   "source": [
    "1. Is the [recommended strategy](http://www.lasvegas-how-to.com/blackjack.php) for blackjack better than just playing randomly?\n",
    "    - Does the number of decks of cards affect our results?\n",
    "        - 1, 4, 6 or 8\n",
    "    - Does the number of times we hit affect our results?\n",
    "3. Can we do better than the [recommended strategy](http://www.lasvegas-how-to.com/blackjack.php)?"
   ]
  },
  {
   "cell_type": "markdown",
   "metadata": {},
   "source": [
    "## What data do we need"
   ]
  },
  {
   "cell_type": "markdown",
   "metadata": {},
   "source": [
    "- Game data\n",
    "- For both random and recommended strategies\n",
    "- From the player's perspective\n",
    "    - We only see one of the dealer's cards\n",
    "    - We don't care what cards we have, only how many points we have\n",
    "- Possible outcomes\n",
    "    - We win\n",
    "    - We lose\n",
    "    - We draw with the dealer\n",
    "- Actions\n",
    "    - Does the dealer need to hit\n",
    "    - Does the player need to hit\n",
    "    - Do we care about how many times?"
   ]
  },
  {
   "cell_type": "markdown",
   "metadata": {},
   "source": [
    "# Analyzing the game"
   ]
  },
  {
   "cell_type": "markdown",
   "metadata": {},
   "source": [
    "## How does a game end"
   ]
  },
  {
   "cell_type": "markdown",
   "metadata": {},
   "source": [
    "- Player gets blackjack\n",
    "- Dealer gets blackjack\n",
    "- Player hits and busts\n",
    "- Player finishes hitting, dealer hits and busts\n",
    "- Player and dealer finish hitting"
   ]
  },
  {
   "cell_type": "markdown",
   "metadata": {},
   "source": [
    "## Outcomes"
   ]
  },
  {
   "cell_type": "markdown",
   "metadata": {},
   "source": [
    "- player gets blackjack, dealer didn't\n",
    "    - player wins\n",
    "- dealer gets blackjack, player didn't\n",
    "    - player loses\n",
    "- player hits and busts\n",
    "    - player loses\n",
    "- player hits, dealer hits and busts\n",
    "    - player wins\n",
    "- player hits, dealer hits/ dealer >= hard 17\n",
    "    - player > dealer\n",
    "        - player wins\n",
    "    - player < dealer\n",
    "        - player loses\n",
    "    - player == dealer\n",
    "        - draw"
   ]
  },
  {
   "cell_type": "markdown",
   "metadata": {},
   "source": [
    "## Calculating points"
   ]
  },
  {
   "cell_type": "markdown",
   "metadata": {},
   "source": [
    "- J, Q, K == 10\n",
    "- A == 11 if it doesn't cause the hand to bust, otherwise A == 1"
   ]
  },
  {
   "cell_type": "markdown",
   "metadata": {},
   "source": [
    "## [Recommended strategy](http://www.lasvegas-how-to.com/blackjack.php)"
   ]
  },
  {
   "cell_type": "markdown",
   "metadata": {},
   "source": [
    "- Stand on a hand of 17 or more \n",
    "- Never hit on 12, 13, 14, 15 or 16 when the dealer is showing 16 or less\n",
    "- Always split 8's\n",
    "- Double down on 11 if dealer is showing 17 or less\n",
    "\n",
    "- If your hand is 11 or less, always hit. You can't possibly bust, so the extra card will only help your hand.\n",
    "- If your hand is 17 or greater, and the dealer is not showing a Seven or higher, always stand. The risk of busting if you hit is very high.\n",
    "- If your hand is 12 to 16, and the dealer is showing an up card likely to bust , always stand. Although this is a weak hand, it will still win if the dealer busts.\n",
    "    - Exception - If the dealer has a Two or a Three showing, hit if you have 12.\n",
    "- If your hand is 12 to 16, and the dealer has a Seven or higher showing, always hit. \n",
    "    - The dealer is far more likely to get a better hand than yours unless you can improve it. \n",
    "    - There's a risk of busting, but in this case you have to take that risk."
   ]
  },
  {
   "cell_type": "markdown",
   "metadata": {},
   "source": [
    "# Coding the game"
   ]
  },
  {
   "cell_type": "markdown",
   "metadata": {},
   "source": [
    "## Assumptions"
   ]
  },
  {
   "cell_type": "markdown",
   "metadata": {},
   "source": [
    "- only one player (for simplicity)\n",
    "- continuous shuffling machines used\n",
    "    - it's as though we're using a fresh deck each time\n",
    "- player always goes first"
   ]
  },
  {
   "cell_type": "markdown",
   "metadata": {},
   "source": [
    "## Requirements"
   ]
  },
  {
   "cell_type": "markdown",
   "metadata": {},
   "source": [
    "- deck of cards\n",
    "    - suits not required\n",
    "    - multiple decks\n",
    "    - need to be able to shuffle the deck\n",
    "    - need to draw a card from the deck\n",
    "- points calculator\n",
    "- game simulator\n",
    "    - does the player hit\n",
    "    - does the dealer hit"
   ]
  },
  {
   "cell_type": "code",
   "execution_count": 10,
   "metadata": {
    "ExecuteTime": {
     "end_time": "2017-02-04T22:07:20.691890",
     "start_time": "2017-02-04T22:07:20.676606"
    },
    "collapsed": true
   },
   "outputs": [],
   "source": [
    "data_dictionary = pd.DataFrame([[\"dealer_open\", \"Int\", \"The card we can see\"], [\"dealer_initial\", \"Int\", \"The dealer's starting points\"], \n",
    "                                [\"dealer_hit\", \"Binary\", \"1 - dealer hit, 0 - dealer did not hit\"], \n",
    "                                [\"dealer_num_hits\", \"Int\", \"Number of times the dealer hit\"], \n",
    "                                [\"dealer_final\", \"Int\", \"The dealer's final points\"], \n",
    "                                [\"dealer_hand\", \"Obj\", \"List of the dealer's cards, in the order that they were dealt\"], \n",
    "                                [\"player_inital\", \"Int\", \"The player's starting points\"], \n",
    "                                [\"player_hit\", \"Binary\", \"1 - player hit, 0 - player did not hit\"], \n",
    "                                [\"player_num_hits\", \"Int\", \"Number of times the player hit\"], \n",
    "                                [\"player_final\", \"Int\", \"The player's final points\"], \n",
    "                                [\"player_hand\", \"Obj\", \"List of the player's cards, in the order that they were dealt\"], \n",
    "                                [\"player_loses\", \"Binary\", \"1 - player lost, 0 - player did not lose\"], \n",
    "                                [\"draw\", \"Binary\", \"1 - draw, 0 - not a draw\"], \n",
    "                                [\"player_wins\", \"Binary\", \"1 - player won, 0 - player did not win\"], \n",
    "                                [\"strategy\", \"Binary\", \"1 - recommended, 0 - random\"]], columns=[\"Feature\", \"Type\", \"Description\"])"
   ]
  },
  {
   "cell_type": "code",
   "execution_count": 11,
   "metadata": {
    "ExecuteTime": {
     "end_time": "2017-02-04T22:07:21.564203",
     "start_time": "2017-02-04T22:07:21.549622"
    },
    "collapsed": false
   },
   "outputs": [
    {
     "data": {
      "text/html": [
       "<div>\n",
       "<table border=\"1\" class=\"dataframe\">\n",
       "  <thead>\n",
       "    <tr style=\"text-align: right;\">\n",
       "      <th></th>\n",
       "      <th>Feature</th>\n",
       "      <th>Type</th>\n",
       "      <th>Description</th>\n",
       "    </tr>\n",
       "  </thead>\n",
       "  <tbody>\n",
       "    <tr>\n",
       "      <th>0</th>\n",
       "      <td>dealer_open</td>\n",
       "      <td>Int</td>\n",
       "      <td>The card we can see</td>\n",
       "    </tr>\n",
       "    <tr>\n",
       "      <th>1</th>\n",
       "      <td>dealer_initial</td>\n",
       "      <td>Int</td>\n",
       "      <td>The dealer's starting points</td>\n",
       "    </tr>\n",
       "    <tr>\n",
       "      <th>2</th>\n",
       "      <td>dealer_hit</td>\n",
       "      <td>Binary</td>\n",
       "      <td>1 - dealer hit, 0 - dealer did not hit</td>\n",
       "    </tr>\n",
       "    <tr>\n",
       "      <th>3</th>\n",
       "      <td>dealer_num_hits</td>\n",
       "      <td>Int</td>\n",
       "      <td>Number of times the dealer hit</td>\n",
       "    </tr>\n",
       "    <tr>\n",
       "      <th>4</th>\n",
       "      <td>dealer_final</td>\n",
       "      <td>Int</td>\n",
       "      <td>The dealer's final points</td>\n",
       "    </tr>\n",
       "    <tr>\n",
       "      <th>5</th>\n",
       "      <td>dealer_hand</td>\n",
       "      <td>Obj</td>\n",
       "      <td>List of the dealer's cards, in the order that they were dealt</td>\n",
       "    </tr>\n",
       "    <tr>\n",
       "      <th>6</th>\n",
       "      <td>player_inital</td>\n",
       "      <td>Int</td>\n",
       "      <td>The player's starting points</td>\n",
       "    </tr>\n",
       "    <tr>\n",
       "      <th>7</th>\n",
       "      <td>player_hit</td>\n",
       "      <td>Binary</td>\n",
       "      <td>1 - player hit, 0 - player did not hit</td>\n",
       "    </tr>\n",
       "    <tr>\n",
       "      <th>8</th>\n",
       "      <td>player_num_hits</td>\n",
       "      <td>Int</td>\n",
       "      <td>Number of times the player hit</td>\n",
       "    </tr>\n",
       "    <tr>\n",
       "      <th>9</th>\n",
       "      <td>player_final</td>\n",
       "      <td>Int</td>\n",
       "      <td>The player's final points</td>\n",
       "    </tr>\n",
       "    <tr>\n",
       "      <th>10</th>\n",
       "      <td>player_hand</td>\n",
       "      <td>Obj</td>\n",
       "      <td>List of the player's cards, in the order that they were dealt</td>\n",
       "    </tr>\n",
       "    <tr>\n",
       "      <th>11</th>\n",
       "      <td>player_loses</td>\n",
       "      <td>Binary</td>\n",
       "      <td>1 - player lost, 0 - player did not lose</td>\n",
       "    </tr>\n",
       "    <tr>\n",
       "      <th>12</th>\n",
       "      <td>draw</td>\n",
       "      <td>Binary</td>\n",
       "      <td>1 - draw, 0 - not a draw</td>\n",
       "    </tr>\n",
       "    <tr>\n",
       "      <th>13</th>\n",
       "      <td>player_wins</td>\n",
       "      <td>Binary</td>\n",
       "      <td>1 - player won, 0 - player did not win</td>\n",
       "    </tr>\n",
       "    <tr>\n",
       "      <th>14</th>\n",
       "      <td>strategy</td>\n",
       "      <td>Binary</td>\n",
       "      <td>1 - recommended, 0 - random</td>\n",
       "    </tr>\n",
       "  </tbody>\n",
       "</table>\n",
       "</div>"
      ],
      "text/plain": [
       "            Feature    Type  \\\n",
       "0   dealer_open      Int      \n",
       "1   dealer_initial   Int      \n",
       "2   dealer_hit       Binary   \n",
       "3   dealer_num_hits  Int      \n",
       "4   dealer_final     Int      \n",
       "5   dealer_hand      Obj      \n",
       "6   player_inital    Int      \n",
       "7   player_hit       Binary   \n",
       "8   player_num_hits  Int      \n",
       "9   player_final     Int      \n",
       "10  player_hand      Obj      \n",
       "11  player_loses     Binary   \n",
       "12  draw             Binary   \n",
       "13  player_wins      Binary   \n",
       "14  strategy         Binary   \n",
       "\n",
       "                                                      Description  \n",
       "0   The card we can see                                            \n",
       "1   The dealer's starting points                                   \n",
       "2   1 - dealer hit, 0 - dealer did not hit                         \n",
       "3   Number of times the dealer hit                                 \n",
       "4   The dealer's final points                                      \n",
       "5   List of the dealer's cards, in the order that they were dealt  \n",
       "6   The player's starting points                                   \n",
       "7   1 - player hit, 0 - player did not hit                         \n",
       "8   Number of times the player hit                                 \n",
       "9   The player's final points                                      \n",
       "10  List of the player's cards, in the order that they were dealt  \n",
       "11  1 - player lost, 0 - player did not lose                       \n",
       "12  1 - draw, 0 - not a draw                                       \n",
       "13  1 - player won, 0 - player did not win                         \n",
       "14  1 - recommended, 0 - random                                    "
      ]
     },
     "execution_count": 11,
     "metadata": {},
     "output_type": "execute_result"
    }
   ],
   "source": [
    "data_dictionary"
   ]
  },
  {
   "cell_type": "code",
   "execution_count": 12,
   "metadata": {
    "ExecuteTime": {
     "end_time": "2017-02-04T22:08:00.907719",
     "start_time": "2017-02-04T22:08:00.851924"
    },
    "collapsed": true
   },
   "outputs": [],
   "source": [
    "data_dictionary.to_csv(\"data_dictionary.csv\", index=False)"
   ]
  },
  {
   "cell_type": "code",
   "execution_count": null,
   "metadata": {
    "collapsed": true
   },
   "outputs": [],
   "source": []
  }
 ],
 "metadata": {
  "anaconda-cloud": {},
  "kernelspec": {
   "display_name": "Python [conda env:py36]",
   "language": "python",
   "name": "conda-env-py36-py"
  },
  "language_info": {
   "codemirror_mode": {
    "name": "ipython",
    "version": 3
   },
   "file_extension": ".py",
   "mimetype": "text/x-python",
   "name": "python",
   "nbconvert_exporter": "python",
   "pygments_lexer": "ipython3",
   "version": "3.6.0"
  },
  "toc": {
   "nav_menu": {
    "height": "210px",
    "width": "252px"
   },
   "navigate_menu": true,
   "number_sections": true,
   "sideBar": true,
   "threshold": 4,
   "toc_cell": false,
   "toc_section_display": "block",
   "toc_window_display": false
  }
 },
 "nbformat": 4,
 "nbformat_minor": 1
}
