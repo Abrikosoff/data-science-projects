{
 "cells": [
  {
   "cell_type": "code",
   "execution_count": 2,
   "metadata": {
    "ExecuteTime": {
     "end_time": "2017-02-18T22:09:53.429373",
     "start_time": "2017-02-18T22:09:52.844503"
    },
    "collapsed": false
   },
   "outputs": [],
   "source": [
    "import numpy as np\n",
    "import pandas as pd"
   ]
  },
  {
   "cell_type": "markdown",
   "metadata": {},
   "source": [
    "# Game Deck"
   ]
  },
  {
   "cell_type": "code",
   "execution_count": 3,
   "metadata": {
    "ExecuteTime": {
     "end_time": "2017-02-18T22:09:53.442828",
     "start_time": "2017-02-18T22:09:53.431238"
    },
    "collapsed": false
   },
   "outputs": [],
   "source": [
    "class GameDeck():\n",
    "    \"\"\" Create the game deck \"\"\"\n",
    "    values = [\"A\", 2, 3, 4, 5, 6, 7, 8, 9, 10, \"J\", \"Q\", \"K\"]\n",
    "    def __init__(self, num_decks=1, values=values, suits=4):\n",
    "        self.num_decks = num_decks\n",
    "        self.cards = values * num_decks * suits\n",
    "        \n",
    "    def __str__(self):\n",
    "        return \"{} cards left\\n{}\".format(len(self.cards), self.cards)\n",
    "    \n",
    "    def shuffle_cards(self):\n",
    "        np.random.shuffle(self.cards)\n",
    "        \n",
    "    def deal_card(self, hand=None):\n",
    "        if hand == None:\n",
    "            return self.cards.pop(0)\n",
    "        else:\n",
    "            hand.append(self.cards.pop(0))"
   ]
  },
  {
   "cell_type": "code",
   "execution_count": 4,
   "metadata": {
    "ExecuteTime": {
     "end_time": "2017-02-18T22:09:53.449756",
     "start_time": "2017-02-18T22:09:53.446338"
    },
    "collapsed": false
   },
   "outputs": [],
   "source": [
    "test = GameDeck()"
   ]
  },
  {
   "cell_type": "code",
   "execution_count": 5,
   "metadata": {
    "ExecuteTime": {
     "end_time": "2017-02-18T22:09:53.461627",
     "start_time": "2017-02-18T22:09:53.451759"
    },
    "collapsed": false
   },
   "outputs": [
    {
     "name": "stdout",
     "output_type": "stream",
     "text": [
      "52 cards left\n",
      "['A', 2, 3, 4, 5, 6, 7, 8, 9, 10, 'J', 'Q', 'K', 'A', 2, 3, 4, 5, 6, 7, 8, 9, 10, 'J', 'Q', 'K', 'A', 2, 3, 4, 5, 6, 7, 8, 9, 10, 'J', 'Q', 'K', 'A', 2, 3, 4, 5, 6, 7, 8, 9, 10, 'J', 'Q', 'K']\n",
      "\n",
      "52 cards left\n",
      "['K', 8, 3, 7, 'A', 10, 7, 10, 7, 10, 'J', 7, 9, 8, 6, 'Q', 5, 2, 2, 9, 6, 4, 'K', 10, 'J', 5, 6, 'K', 8, 2, 'A', 2, 'K', 'Q', 4, 'Q', 4, 5, 'J', 'A', 9, 4, 'A', 'J', 9, 5, 3, 3, 'Q', 8, 3, 6]\n",
      "\n",
      "51 cards left\n",
      "[8, 3, 7, 'A', 10, 7, 10, 7, 10, 'J', 7, 9, 8, 6, 'Q', 5, 2, 2, 9, 6, 4, 'K', 10, 'J', 5, 6, 'K', 8, 2, 'A', 2, 'K', 'Q', 4, 'Q', 4, 5, 'J', 'A', 9, 4, 'A', 'J', 9, 5, 3, 3, 'Q', 8, 3, 6]\n"
     ]
    }
   ],
   "source": [
    "print (test)\n",
    "test.shuffle_cards()\n",
    "print ()\n",
    "print (test)\n",
    "test.deal_card()\n",
    "print()\n",
    "print (test)"
   ]
  },
  {
   "cell_type": "markdown",
   "metadata": {},
   "source": [
    "# Points calculator"
   ]
  },
  {
   "cell_type": "code",
   "execution_count": 6,
   "metadata": {
    "ExecuteTime": {
     "end_time": "2017-02-18T22:09:53.471292",
     "start_time": "2017-02-18T22:09:53.464172"
    },
    "collapsed": false
   },
   "outputs": [],
   "source": [
    "def s_to_l(hand):\n",
    "    try:\n",
    "        hand = hand.split(\",\")\n",
    "    except:\n",
    "        pass\n",
    "    \n",
    "    working_hand = []\n",
    "    \n",
    "    for i in hand:\n",
    "        try:\n",
    "            working_hand.append(int(i))\n",
    "        except:\n",
    "            working_hand.append(i)\n",
    "    return working_hand"
   ]
  },
  {
   "cell_type": "code",
   "execution_count": 7,
   "metadata": {
    "ExecuteTime": {
     "end_time": "2017-02-18T22:09:53.484087",
     "start_time": "2017-02-18T22:09:53.475103"
    },
    "collapsed": false
   },
   "outputs": [],
   "source": [
    "def calc_ace(hand, count_A):\n",
    "    # For each Ace, see if adding 11 causes it to bust\n",
    "    # If no, then take Ace as 11\n",
    "    # Else, take Ace as 1\n",
    "    working_hand = hand.copy()\n",
    "    \n",
    "    # Remove Aces\n",
    "    working_hand = [i if type(i) == int else 10 for i in working_hand if i != \"A\"]\n",
    "    for k in range(count_A):\n",
    "        if sum(working_hand) + 11 <= 21:\n",
    "            working_hand.append(11)\n",
    "        else:\n",
    "            working_hand.append(1)\n",
    "    return working_hand"
   ]
  },
  {
   "cell_type": "code",
   "execution_count": 8,
   "metadata": {
    "ExecuteTime": {
     "end_time": "2017-02-18T22:09:53.497738",
     "start_time": "2017-02-18T22:09:53.486581"
    },
    "collapsed": false
   },
   "outputs": [],
   "source": [
    "def calc_points(hand):\n",
    "    working_hand = s_to_l(hand)\n",
    "    \n",
    "    if \"A\" in working_hand:\n",
    "        \n",
    "        # Count number of Aces\n",
    "        count_A = working_hand.count(\"A\")\n",
    "        working_hand = calc_ace(working_hand, count_A)\n",
    "        \n",
    "    else:\n",
    "        # Replace J, Q, and K with 10\n",
    "        working_hand = [10 if i in [\"J\", \"Q\", \"K\"] else int(i) for i in working_hand]\n",
    "    \n",
    "    return sum(working_hand)"
   ]
  },
  {
   "cell_type": "code",
   "execution_count": 9,
   "metadata": {
    "ExecuteTime": {
     "end_time": "2017-02-18T22:09:53.508407",
     "start_time": "2017-02-18T22:09:53.500470"
    },
    "collapsed": false
   },
   "outputs": [
    {
     "name": "stdout",
     "output_type": "stream",
     "text": [
      "['A', 'K'] 21\n",
      "[10, 10] 20\n",
      "['A', 5] 16\n",
      "['A', 'A', 8] 20\n",
      "[3, 3] 6\n"
     ]
    }
   ],
   "source": [
    "for i in [[\"A\", \"K\"], [10,10], [\"A\", 5], [\"A\", \"A\", 8], [3,3]]:\n",
    "    print (i, calc_points(i))"
   ]
  },
  {
   "cell_type": "markdown",
   "metadata": {},
   "source": [
    "# Soft 17"
   ]
  },
  {
   "cell_type": "markdown",
   "metadata": {},
   "source": [
    "- Some casinos require the dealer to hit on a soft 17\n",
    "- We need to know when it is a soft 17"
   ]
  },
  {
   "cell_type": "code",
   "execution_count": 10,
   "metadata": {
    "ExecuteTime": {
     "end_time": "2017-02-18T22:09:53.518519",
     "start_time": "2017-02-18T22:09:53.510917"
    },
    "collapsed": false
   },
   "outputs": [],
   "source": [
    "def soft_17(hand):\n",
    "    working_hand = s_to_l(hand)\n",
    "    \n",
    "    Ace_11 = False\n",
    "    if calc_points(working_hand) == 17 and \"A\" in working_hand:\n",
    "        count_A = working_hand.count(\"A\")\n",
    "        working_hand = calc_ace(working_hand, count_A)\n",
    "        if 11 in working_hand[-count_A:]:\n",
    "            return True\n",
    "    return False"
   ]
  },
  {
   "cell_type": "code",
   "execution_count": 11,
   "metadata": {
    "ExecuteTime": {
     "end_time": "2017-02-18T22:09:53.529887",
     "start_time": "2017-02-18T22:09:53.521467"
    },
    "collapsed": false
   },
   "outputs": [
    {
     "name": "stdout",
     "output_type": "stream",
     "text": [
      "['K', 7] False\n",
      "['A', 3, 3] True\n",
      "['A', 'A', 5] True\n",
      "['A', 'A', 'A', 4] True\n"
     ]
    }
   ],
   "source": [
    "for i in [[\"K\", 7], [\"A\", 3, 3], [\"A\", \"A\", 5], [\"A\", \"A\", \"A\", 4]]:\n",
    "    print (i, soft_17(i))"
   ]
  },
  {
   "cell_type": "markdown",
   "metadata": {},
   "source": [
    "# Play game"
   ]
  },
  {
   "cell_type": "code",
   "execution_count": 12,
   "metadata": {
    "ExecuteTime": {
     "end_time": "2017-02-18T22:09:53.540693",
     "start_time": "2017-02-18T22:09:53.532688"
    },
    "collapsed": false
   },
   "outputs": [],
   "source": [
    "def start_game(num_decks=1):\n",
    "    game_deck = GameDeck(num_decks=num_decks)\n",
    "    \n",
    "    d_hand = []\n",
    "    p_hand = []\n",
    "    \n",
    "    game_deck.shuffle_cards()\n",
    "    \n",
    "    for _ in range(2):\n",
    "        game_deck.deal_card(p_hand)\n",
    "        game_deck.deal_card(d_hand)\n",
    "        \n",
    "    return game_deck, p_hand, d_hand"
   ]
  },
  {
   "cell_type": "code",
   "execution_count": 13,
   "metadata": {
    "ExecuteTime": {
     "end_time": "2017-02-18T22:09:53.561203",
     "start_time": "2017-02-18T22:09:53.543320"
    },
    "collapsed": false
   },
   "outputs": [
    {
     "data": {
      "text/plain": [
       "(<__main__.GameDeck at 0x10ede0630>, [5, 5], [8, 'A'])"
      ]
     },
     "execution_count": 13,
     "metadata": {},
     "output_type": "execute_result"
    }
   ],
   "source": [
    "start_game()"
   ]
  },
  {
   "cell_type": "markdown",
   "metadata": {},
   "source": [
    "- strategies\n",
    "    - 0: random\n",
    "    - 1: recommended\n",
    "    - 2: statistical analysis\n",
    "    - 3: machine learning"
   ]
  },
  {
   "cell_type": "code",
   "execution_count": 60,
   "metadata": {
    "ExecuteTime": {
     "end_time": "2017-02-18T22:10:57.895076",
     "start_time": "2017-02-18T22:10:57.883502"
    },
    "collapsed": false
   },
   "outputs": [],
   "source": [
    "def player_turn(game_deck, d_open, p_hand, strategy=0):\n",
    "    new_hand = p_hand.copy()\n",
    "    while calc_points(new_hand) <= 11:\n",
    "        game_deck.deal_card(new_hand)\n",
    "        \n",
    "    if strategy == 0:\n",
    "        while calc_points(new_hand) <= 18:\n",
    "            if np.random.random() <= 0.5:\n",
    "                game_deck.deal_card(new_hand)\n",
    "            else:\n",
    "                break\n",
    "    elif strategy == 1:\n",
    "        while calc_points(new_hand) < 17:\n",
    "            if d_open > 6:\n",
    "                game_deck.deal_card(new_hand)\n",
    "            else:\n",
    "                break\n",
    "                \n",
    "    return game_deck, p_hand, new_hand"
   ]
  },
  {
   "cell_type": "code",
   "execution_count": 61,
   "metadata": {
    "ExecuteTime": {
     "end_time": "2017-02-18T22:11:04.715804",
     "start_time": "2017-02-18T22:11:04.708357"
    },
    "collapsed": false
   },
   "outputs": [
    {
     "name": "stdout",
     "output_type": "stream",
     "text": [
      "(<__main__.GameDeck object at 0x10d44f4e0>, ['K', 4], ['K', 4])\n",
      "14\n",
      "14\n"
     ]
    }
   ],
   "source": [
    "test = start_game()\n",
    "p_test = player_turn(test[0], test[1][0], test[2])\n",
    "print (p_test)\n",
    "print (calc_points(p_test[1]))\n",
    "print (calc_points(p_test[2]))"
   ]
  },
  {
   "cell_type": "code",
   "execution_count": 62,
   "metadata": {
    "ExecuteTime": {
     "end_time": "2017-02-18T22:11:06.344480",
     "start_time": "2017-02-18T22:11:06.336424"
    },
    "collapsed": false
   },
   "outputs": [],
   "source": [
    "def dealer_turn(game_deck, hand, soft=1):\n",
    "    new_hand = hand.copy()\n",
    "    if soft == 1:\n",
    "        while calc_points(new_hand) < 17 or soft_17(new_hand):\n",
    "            game_deck.deal_card(new_hand)\n",
    "    else:\n",
    "        while calc_points(new_hand) < 17:\n",
    "            game_deck.deal_card(new_hand)\n",
    "    return game_deck, hand, new_hand"
   ]
  },
  {
   "cell_type": "code",
   "execution_count": 63,
   "metadata": {
    "ExecuteTime": {
     "end_time": "2017-02-18T22:11:06.599875",
     "start_time": "2017-02-18T22:11:06.589190"
    },
    "collapsed": false
   },
   "outputs": [
    {
     "name": "stdout",
     "output_type": "stream",
     "text": [
      "(<__main__.GameDeck object at 0x1082835c0>, [5, 'A'], [5, 'A', 7, 2])\n",
      "16\n",
      "15\n",
      "(<__main__.GameDeck object at 0x1082835c0>, [8, 9], [8, 9])\n",
      "17\n",
      "17\n"
     ]
    }
   ],
   "source": [
    "test = start_game()\n",
    "p_test = player_turn(test[0], test[1][0], test[2])\n",
    "print (p_test)\n",
    "print (calc_points(p_test[1]))\n",
    "print (calc_points(p_test[2]))\n",
    "d_test = dealer_turn(p_test[0], test[1])\n",
    "print (d_test)\n",
    "print (calc_points(d_test[1]))\n",
    "print (calc_points(d_test[2]))"
   ]
  },
  {
   "cell_type": "code",
   "execution_count": 64,
   "metadata": {
    "ExecuteTime": {
     "end_time": "2017-02-18T22:11:06.765868",
     "start_time": "2017-02-18T22:11:06.760538"
    },
    "collapsed": false
   },
   "outputs": [],
   "source": [
    "def l_to_s(l):\n",
    "    l = [str(i) for i in l]\n",
    "    return \",\".join(l)"
   ]
  },
  {
   "cell_type": "code",
   "execution_count": 65,
   "metadata": {
    "ExecuteTime": {
     "end_time": "2017-02-18T22:11:06.949689",
     "start_time": "2017-02-18T22:11:06.908331"
    },
    "collapsed": false
   },
   "outputs": [],
   "source": [
    "def play_split(game_deck, p_hand, d_hand, d_open, num_decks, strategy=0, soft=1):\n",
    "    to_split = np.random.random() <= 0.5\n",
    "    if (strategy == 0 and to_split) or (strategy == 1 and p_hand[0] == 8):\n",
    "        # Splits\n",
    "        split = 1\n",
    "        p_hand_1 = [p_hand[0]]\n",
    "        p_hand_2 = [p_hand[1]]\n",
    "        game_deck.deal_card(p_hand_1)\n",
    "        game_deck.deal_card(p_hand_2)\n",
    "        game_deck, p_hand_1, p_new_hand_1 = player_turn(game_deck, d_open, p_hand_1, strategy=strategy)\n",
    "        game_deck, p_hand_2, p_new_hand_2 = player_turn(game_deck, d_open, p_hand_2, strategy=strategy)\n",
    "\n",
    "        # If either is below 21, dealer gets to play\n",
    "        if calc_points(p_new_hand_1) <= 21 or calc_points(p_new_hand_2) <= 21:\n",
    "            game_deck, d_hand, d_new_hand = dealer_turn(game_deck, d_hand)\n",
    "            # If hand 1 is above 21\n",
    "            if calc_points(p_new_hand_1) > 21:\n",
    "                # Dealer doesn't get to play for this hand\n",
    "                d_new_hand_1 = d_hand.copy()\n",
    "                out_1 = np.array([l_to_s(d_hand), l_to_s(d_new_hand_1), l_to_s(p_hand_1), l_to_s(p_new_hand_1), strategy, split, num_decks, soft])       \n",
    "            else:\n",
    "                out_1 = np.array([l_to_s(d_hand), l_to_s(d_new_hand), l_to_s(p_hand_1), l_to_s(p_new_hand_1), strategy, split, num_decks, soft])       \n",
    "            # If hand 2 is above 21\n",
    "            if calc_points(p_new_hand_2) > 21:\n",
    "                # Dealer doesn't get to play for this hand\n",
    "                d_new_hand_2 = d_hand.copy()\n",
    "                out_2 = np.array([l_to_s(d_hand), l_to_s(d_new_hand_2), l_to_s(p_hand_2), l_to_s(p_new_hand_2), strategy, split, num_decks, soft])\n",
    "            else:\n",
    "                out_2 = np.array([l_to_s(d_hand), l_to_s(d_new_hand), l_to_s(p_hand_2), l_to_s(p_new_hand_2), strategy, split, num_decks, soft])       \n",
    "        # They are both above 21, dealer doesn't play at all\n",
    "        else:\n",
    "            d_new_hand = d_hand.copy()\n",
    "            out_2 = np.array([l_to_s(d_hand), l_to_s(d_new_hand), l_to_s(p_hand_2), l_to_s(p_new_hand_2), strategy, split, num_decks, soft])       \n",
    "            out_1 = np.array([l_to_s(d_hand), l_to_s(d_new_hand), l_to_s(p_hand_1), l_to_s(p_new_hand_1), strategy, split, num_decks, soft])       \n",
    "            \n",
    "        \n",
    "        return np.array([out_1, out_2])\n",
    "    else:\n",
    "        return \"No split\""
   ]
  },
  {
   "cell_type": "code",
   "execution_count": 66,
   "metadata": {
    "ExecuteTime": {
     "end_time": "2017-02-18T22:11:07.068699",
     "start_time": "2017-02-18T22:11:07.061318"
    },
    "collapsed": false
   },
   "outputs": [],
   "source": [
    "def card_value(card):\n",
    "    try:\n",
    "        return int(card)\n",
    "    except:\n",
    "        if card == \"A\":\n",
    "            return 1\n",
    "        else:\n",
    "            return 10"
   ]
  },
  {
   "cell_type": "code",
   "execution_count": 67,
   "metadata": {
    "ExecuteTime": {
     "end_time": "2017-02-18T22:11:07.255380",
     "start_time": "2017-02-18T22:11:07.236281"
    },
    "collapsed": false
   },
   "outputs": [],
   "source": [
    "def play_game(num_decks=4, strategy=0, soft=1):\n",
    "    game_deck, p_hand, d_hand = start_game(num_decks=num_decks)\n",
    "    \n",
    "    d_open = card_value(d_hand[0])\n",
    "    split = 0\n",
    "    if calc_points(p_hand) != 21 and calc_points(d_hand) != 21:\n",
    "        if (p_hand[0] == p_hand[1]):\n",
    "            out = play_split(game_deck, p_hand, d_hand, d_open, num_decks, strategy=strategy, soft=soft)\n",
    "        else:\n",
    "            out = \"No split\"\n",
    "        if type(out) == str:\n",
    "            game_deck, p_hand, p_new_hand = player_turn(game_deck, d_open, p_hand, strategy=strategy)\n",
    "            if calc_points(p_new_hand) <= 21:\n",
    "                game_deck, d_hand, d_new_hand = dealer_turn(game_deck, d_hand, soft=soft)\n",
    "            else:\n",
    "                d_new_hand = d_hand.copy()\n",
    "            out = np.array([l_to_s(d_hand), l_to_s(d_new_hand), l_to_s(p_hand), l_to_s(p_new_hand), strategy, split, num_decks, soft])\n",
    "    else:\n",
    "        p_new_hand = p_hand.copy()\n",
    "        d_new_hand = d_hand.copy()\n",
    "        out = np.array([l_to_s(d_hand), l_to_s(d_new_hand), l_to_s(p_hand), l_to_s(p_new_hand), strategy, split, num_decks, soft])\n",
    "    \n",
    "    return out"
   ]
  },
  {
   "cell_type": "code",
   "execution_count": 68,
   "metadata": {
    "ExecuteTime": {
     "end_time": "2017-02-18T22:11:07.622905",
     "start_time": "2017-02-18T22:11:07.617509"
    },
    "collapsed": false
   },
   "outputs": [
    {
     "data": {
      "text/plain": [
       "array(['7,7', '7,7', 'A,K', 'A,K', '1', '0', '4', '1'], \n",
       "      dtype='<U3')"
      ]
     },
     "execution_count": 68,
     "metadata": {},
     "output_type": "execute_result"
    }
   ],
   "source": [
    "play_game(strategy=1)"
   ]
  },
  {
   "cell_type": "code",
   "execution_count": 69,
   "metadata": {
    "ExecuteTime": {
     "end_time": "2017-02-18T22:11:07.932581",
     "start_time": "2017-02-18T22:11:07.923813"
    },
    "collapsed": false
   },
   "outputs": [
    {
     "name": "stdout",
     "output_type": "stream",
     "text": [
      "[['3,J' '3,J,2,6' '4,4' '4,4,8' '0' '1' '4' '1']\n",
      " ['3,J' '3,J' '4,4' '4,4,J,4' '0' '1' '4' '1']]\n"
     ]
    }
   ],
   "source": [
    "a = play_game()\n",
    "while a.ndim < 2:\n",
    "    a = play_game()\n",
    "print (a)"
   ]
  },
  {
   "cell_type": "code",
   "execution_count": 70,
   "metadata": {
    "ExecuteTime": {
     "end_time": "2017-02-18T22:11:08.204901",
     "start_time": "2017-02-18T22:11:08.199635"
    },
    "collapsed": false
   },
   "outputs": [
    {
     "data": {
      "text/plain": [
       "2"
      ]
     },
     "execution_count": 70,
     "metadata": {},
     "output_type": "execute_result"
    }
   ],
   "source": [
    "a.ndim"
   ]
  },
  {
   "cell_type": "markdown",
   "metadata": {},
   "source": [
    "# Generate cards"
   ]
  },
  {
   "cell_type": "code",
   "execution_count": 71,
   "metadata": {
    "ExecuteTime": {
     "end_time": "2017-02-18T22:11:08.884650",
     "start_time": "2017-02-18T22:11:08.876118"
    },
    "collapsed": false
   },
   "outputs": [],
   "source": [
    "def gen_df(num_games=5000):\n",
    "    data = []\n",
    "    for _ in range(num_games):\n",
    "        a = play_game(strategy=np.random.randint(2), soft=np.random.randint(2))\n",
    "        if a.ndim == 2:\n",
    "            data.extend(a)\n",
    "        else:\n",
    "            data.append(a)\n",
    "            \n",
    "    df = pd.DataFrame(data, columns=[\"d_hand\", \"d_final_hand\", \"p_hand\", \"p_final_hand\", \"strategy\", \"split\", \"num_decks\", \"soft_17\"])\n",
    "    return df"
   ]
  },
  {
   "cell_type": "code",
   "execution_count": 72,
   "metadata": {
    "ExecuteTime": {
     "end_time": "2017-02-18T22:11:09.275184",
     "start_time": "2017-02-18T22:11:09.255569"
    },
    "collapsed": false
   },
   "outputs": [
    {
     "data": {
      "text/html": [
       "<div>\n",
       "<table border=\"1\" class=\"dataframe\">\n",
       "  <thead>\n",
       "    <tr style=\"text-align: right;\">\n",
       "      <th></th>\n",
       "      <th>d_hand</th>\n",
       "      <th>d_final_hand</th>\n",
       "      <th>p_hand</th>\n",
       "      <th>p_final_hand</th>\n",
       "      <th>strategy</th>\n",
       "      <th>split</th>\n",
       "      <th>num_decks</th>\n",
       "      <th>soft_17</th>\n",
       "    </tr>\n",
       "  </thead>\n",
       "  <tbody>\n",
       "    <tr>\n",
       "      <th>0</th>\n",
       "      <td>K,A</td>\n",
       "      <td>K,A</td>\n",
       "      <td>3,6</td>\n",
       "      <td>3,6</td>\n",
       "      <td>0</td>\n",
       "      <td>0</td>\n",
       "      <td>4</td>\n",
       "      <td>0</td>\n",
       "    </tr>\n",
       "  </tbody>\n",
       "</table>\n",
       "</div>"
      ],
      "text/plain": [
       "  d_hand d_final_hand p_hand p_final_hand strategy split num_decks soft_17\n",
       "0    K,A          K,A    3,6          3,6        0     0         4       0"
      ]
     },
     "execution_count": 72,
     "metadata": {},
     "output_type": "execute_result"
    }
   ],
   "source": [
    "gen_df(num_games=1)"
   ]
  },
  {
   "cell_type": "markdown",
   "metadata": {},
   "source": [
    "# Add columns"
   ]
  },
  {
   "cell_type": "code",
   "execution_count": 73,
   "metadata": {
    "ExecuteTime": {
     "end_time": "2017-02-18T22:11:09.766563",
     "start_time": "2017-02-18T22:11:09.741959"
    },
    "collapsed": false
   },
   "outputs": [],
   "source": [
    "def add_columns(original):\n",
    "    df = original.copy()\n",
    "    df[\"strategy\"] = df[\"strategy\"].astype(int)\n",
    "    df[\"split\"] = df[\"split\"].astype(int)\n",
    "    df[\"num_decks\"] = df[\"num_decks\"].astype(int)\n",
    "    df[\"soft_17\"] = df[\"soft_17\"].astype(int)\n",
    "    \n",
    "    df[\"d_open\"] = df[\"d_hand\"].apply(lambda x: card_value(x.split(\",\")[0]))\n",
    "    df[\"d_initial\"] = df[\"d_hand\"].apply(calc_points)\n",
    "    df[\"d_final\"] = df[\"d_final_hand\"].apply(calc_points)\n",
    "    df[\"d_hit\"] = df[\"d_final\"]-df[\"d_initial\"] > 0\n",
    "    df[\"d_hit\"] = df[\"d_hit\"].astype(int)\n",
    "    df[\"d_bust\"] = df[\"d_final\"] > 21\n",
    "    df[\"d_bust\"] = df[\"d_bust\"].astype(int)\n",
    "    \n",
    "    df[\"p_initial\"] = df[\"p_hand\"].apply(calc_points)\n",
    "    df[\"p_final\"] = df[\"p_final_hand\"].apply(calc_points)\n",
    "    df[\"p_hit\"] = df[\"p_final\"]-df[\"p_initial\"] > 0\n",
    "    df[\"p_hit\"] = df[\"p_hit\"].astype(int)\n",
    "    df[\"p_bust\"] = df[\"p_final\"] > 21\n",
    "    df[\"p_bust\"] = df[\"p_bust\"].astype(int)\n",
    "    \n",
    "    df[\"p_win\"] = (df[\"p_final\"] > df[\"d_final\"]) & (df[\"p_bust\"] == 0) | (df[\"d_bust\"] == 1)\n",
    "    df[\"p_win\"] = df[\"p_win\"].astype(int)\n",
    "\n",
    "    return df"
   ]
  },
  {
   "cell_type": "markdown",
   "metadata": {},
   "source": [
    "# Generate CSVs"
   ]
  },
  {
   "cell_type": "code",
   "execution_count": 110,
   "metadata": {
    "ExecuteTime": {
     "end_time": "2017-02-18T22:11:41.337616",
     "start_time": "2017-02-18T22:11:40.826885"
    },
    "collapsed": false
   },
   "outputs": [],
   "source": [
    "df = gen_df()"
   ]
  },
  {
   "cell_type": "code",
   "execution_count": 111,
   "metadata": {
    "ExecuteTime": {
     "end_time": "2017-02-18T22:11:41.684806",
     "start_time": "2017-02-18T22:11:41.474609"
    },
    "collapsed": false
   },
   "outputs": [],
   "source": [
    "try:\n",
    "    old_df = pd.read_csv(\"cards.csv\")\n",
    "    df = pd.concat([df, old_df])\n",
    "except:\n",
    "    pass\n",
    "df.to_csv(\"cards.csv\", index=False)"
   ]
  },
  {
   "cell_type": "code",
   "execution_count": 112,
   "metadata": {
    "ExecuteTime": {
     "end_time": "2017-02-18T22:11:42.172513",
     "start_time": "2017-02-18T22:11:42.100231"
    },
    "collapsed": false
   },
   "outputs": [],
   "source": [
    "df = pd.read_csv(\"cards.csv\")"
   ]
  },
  {
   "cell_type": "code",
   "execution_count": 113,
   "metadata": {
    "ExecuteTime": {
     "end_time": "2017-02-18T22:11:42.505326",
     "start_time": "2017-02-18T22:11:42.499694"
    },
    "collapsed": false
   },
   "outputs": [
    {
     "data": {
      "text/plain": [
       "(50987, 8)"
      ]
     },
     "execution_count": 113,
     "metadata": {},
     "output_type": "execute_result"
    }
   ],
   "source": [
    "df.shape"
   ]
  },
  {
   "cell_type": "code",
   "execution_count": 114,
   "metadata": {
    "ExecuteTime": {
     "end_time": "2017-02-18T22:11:45.464034",
     "start_time": "2017-02-18T22:11:44.075091"
    },
    "collapsed": false
   },
   "outputs": [],
   "source": [
    "df2 = add_columns(df)"
   ]
  },
  {
   "cell_type": "code",
   "execution_count": 115,
   "metadata": {
    "ExecuteTime": {
     "end_time": "2017-02-18T22:11:46.534190",
     "start_time": "2017-02-18T22:11:45.979195"
    },
    "collapsed": false
   },
   "outputs": [],
   "source": [
    "df2.to_csv(\"blackjack_data.csv\", index=False)"
   ]
  },
  {
   "cell_type": "markdown",
   "metadata": {},
   "source": [
    "# Test data"
   ]
  },
  {
   "cell_type": "code",
   "execution_count": 116,
   "metadata": {
    "ExecuteTime": {
     "end_time": "2017-02-18T22:11:48.582221",
     "start_time": "2017-02-18T22:11:48.454359"
    },
    "collapsed": false
   },
   "outputs": [
    {
     "data": {
      "text/html": [
       "<div>\n",
       "<table border=\"1\" class=\"dataframe\">\n",
       "  <thead>\n",
       "    <tr style=\"text-align: right;\">\n",
       "      <th></th>\n",
       "      <th>strategy</th>\n",
       "      <th>split</th>\n",
       "      <th>num_decks</th>\n",
       "      <th>soft_17</th>\n",
       "      <th>d_open</th>\n",
       "      <th>d_initial</th>\n",
       "      <th>d_final</th>\n",
       "      <th>d_hit</th>\n",
       "      <th>d_bust</th>\n",
       "      <th>p_initial</th>\n",
       "      <th>p_final</th>\n",
       "      <th>p_hit</th>\n",
       "      <th>p_bust</th>\n",
       "      <th>p_win</th>\n",
       "    </tr>\n",
       "  </thead>\n",
       "  <tbody>\n",
       "    <tr>\n",
       "      <th>count</th>\n",
       "      <td>50987.000000</td>\n",
       "      <td>50987.000000</td>\n",
       "      <td>50987.0</td>\n",
       "      <td>50987.000000</td>\n",
       "      <td>50987.000000</td>\n",
       "      <td>50987.000000</td>\n",
       "      <td>50987.000000</td>\n",
       "      <td>50987.000000</td>\n",
       "      <td>50987.000000</td>\n",
       "      <td>50987.000000</td>\n",
       "      <td>50987.000000</td>\n",
       "      <td>50987.000000</td>\n",
       "      <td>50987.000000</td>\n",
       "      <td>50987.000000</td>\n",
       "    </tr>\n",
       "    <tr>\n",
       "      <th>mean</th>\n",
       "      <td>0.491557</td>\n",
       "      <td>0.038716</td>\n",
       "      <td>4.0</td>\n",
       "      <td>0.495205</td>\n",
       "      <td>6.540471</td>\n",
       "      <td>14.522682</td>\n",
       "      <td>19.191833</td>\n",
       "      <td>0.524938</td>\n",
       "      <td>0.227176</td>\n",
       "      <td>14.585071</td>\n",
       "      <td>18.435248</td>\n",
       "      <td>0.446584</td>\n",
       "      <td>0.170828</td>\n",
       "      <td>0.415106</td>\n",
       "    </tr>\n",
       "    <tr>\n",
       "      <th>std</th>\n",
       "      <td>0.499934</td>\n",
       "      <td>0.192919</td>\n",
       "      <td>0.0</td>\n",
       "      <td>0.499982</td>\n",
       "      <td>3.139274</td>\n",
       "      <td>4.090037</td>\n",
       "      <td>3.665030</td>\n",
       "      <td>0.499383</td>\n",
       "      <td>0.419011</td>\n",
       "      <td>4.046570</td>\n",
       "      <td>3.802449</td>\n",
       "      <td>0.497143</td>\n",
       "      <td>0.376362</td>\n",
       "      <td>0.492745</td>\n",
       "    </tr>\n",
       "    <tr>\n",
       "      <th>min</th>\n",
       "      <td>0.000000</td>\n",
       "      <td>0.000000</td>\n",
       "      <td>4.0</td>\n",
       "      <td>0.000000</td>\n",
       "      <td>1.000000</td>\n",
       "      <td>4.000000</td>\n",
       "      <td>4.000000</td>\n",
       "      <td>0.000000</td>\n",
       "      <td>0.000000</td>\n",
       "      <td>4.000000</td>\n",
       "      <td>4.000000</td>\n",
       "      <td>0.000000</td>\n",
       "      <td>0.000000</td>\n",
       "      <td>0.000000</td>\n",
       "    </tr>\n",
       "    <tr>\n",
       "      <th>25%</th>\n",
       "      <td>0.000000</td>\n",
       "      <td>0.000000</td>\n",
       "      <td>4.0</td>\n",
       "      <td>0.000000</td>\n",
       "      <td>4.000000</td>\n",
       "      <td>12.000000</td>\n",
       "      <td>17.000000</td>\n",
       "      <td>0.000000</td>\n",
       "      <td>0.000000</td>\n",
       "      <td>12.000000</td>\n",
       "      <td>16.000000</td>\n",
       "      <td>0.000000</td>\n",
       "      <td>0.000000</td>\n",
       "      <td>0.000000</td>\n",
       "    </tr>\n",
       "    <tr>\n",
       "      <th>50%</th>\n",
       "      <td>0.000000</td>\n",
       "      <td>0.000000</td>\n",
       "      <td>4.0</td>\n",
       "      <td>0.000000</td>\n",
       "      <td>7.000000</td>\n",
       "      <td>15.000000</td>\n",
       "      <td>19.000000</td>\n",
       "      <td>1.000000</td>\n",
       "      <td>0.000000</td>\n",
       "      <td>15.000000</td>\n",
       "      <td>19.000000</td>\n",
       "      <td>0.000000</td>\n",
       "      <td>0.000000</td>\n",
       "      <td>0.000000</td>\n",
       "    </tr>\n",
       "    <tr>\n",
       "      <th>75%</th>\n",
       "      <td>1.000000</td>\n",
       "      <td>0.000000</td>\n",
       "      <td>4.0</td>\n",
       "      <td>1.000000</td>\n",
       "      <td>10.000000</td>\n",
       "      <td>18.000000</td>\n",
       "      <td>21.000000</td>\n",
       "      <td>1.000000</td>\n",
       "      <td>0.000000</td>\n",
       "      <td>18.000000</td>\n",
       "      <td>21.000000</td>\n",
       "      <td>1.000000</td>\n",
       "      <td>0.000000</td>\n",
       "      <td>1.000000</td>\n",
       "    </tr>\n",
       "    <tr>\n",
       "      <th>max</th>\n",
       "      <td>1.000000</td>\n",
       "      <td>1.000000</td>\n",
       "      <td>4.0</td>\n",
       "      <td>1.000000</td>\n",
       "      <td>10.000000</td>\n",
       "      <td>21.000000</td>\n",
       "      <td>26.000000</td>\n",
       "      <td>1.000000</td>\n",
       "      <td>1.000000</td>\n",
       "      <td>21.000000</td>\n",
       "      <td>28.000000</td>\n",
       "      <td>1.000000</td>\n",
       "      <td>1.000000</td>\n",
       "      <td>1.000000</td>\n",
       "    </tr>\n",
       "  </tbody>\n",
       "</table>\n",
       "</div>"
      ],
      "text/plain": [
       "           strategy         split  num_decks       soft_17        d_open  \\\n",
       "count  50987.000000  50987.000000    50987.0  50987.000000  50987.000000   \n",
       "mean       0.491557      0.038716        4.0      0.495205      6.540471   \n",
       "std        0.499934      0.192919        0.0      0.499982      3.139274   \n",
       "min        0.000000      0.000000        4.0      0.000000      1.000000   \n",
       "25%        0.000000      0.000000        4.0      0.000000      4.000000   \n",
       "50%        0.000000      0.000000        4.0      0.000000      7.000000   \n",
       "75%        1.000000      0.000000        4.0      1.000000     10.000000   \n",
       "max        1.000000      1.000000        4.0      1.000000     10.000000   \n",
       "\n",
       "          d_initial       d_final         d_hit        d_bust     p_initial  \\\n",
       "count  50987.000000  50987.000000  50987.000000  50987.000000  50987.000000   \n",
       "mean      14.522682     19.191833      0.524938      0.227176     14.585071   \n",
       "std        4.090037      3.665030      0.499383      0.419011      4.046570   \n",
       "min        4.000000      4.000000      0.000000      0.000000      4.000000   \n",
       "25%       12.000000     17.000000      0.000000      0.000000     12.000000   \n",
       "50%       15.000000     19.000000      1.000000      0.000000     15.000000   \n",
       "75%       18.000000     21.000000      1.000000      0.000000     18.000000   \n",
       "max       21.000000     26.000000      1.000000      1.000000     21.000000   \n",
       "\n",
       "            p_final         p_hit        p_bust         p_win  \n",
       "count  50987.000000  50987.000000  50987.000000  50987.000000  \n",
       "mean      18.435248      0.446584      0.170828      0.415106  \n",
       "std        3.802449      0.497143      0.376362      0.492745  \n",
       "min        4.000000      0.000000      0.000000      0.000000  \n",
       "25%       16.000000      0.000000      0.000000      0.000000  \n",
       "50%       19.000000      0.000000      0.000000      0.000000  \n",
       "75%       21.000000      1.000000      0.000000      1.000000  \n",
       "max       28.000000      1.000000      1.000000      1.000000  "
      ]
     },
     "execution_count": 116,
     "metadata": {},
     "output_type": "execute_result"
    }
   ],
   "source": [
    "df2.describe()"
   ]
  },
  {
   "cell_type": "markdown",
   "metadata": {},
   "source": [
    "## Check hands and points"
   ]
  },
  {
   "cell_type": "code",
   "execution_count": 117,
   "metadata": {
    "ExecuteTime": {
     "end_time": "2017-02-18T22:11:49.050344",
     "start_time": "2017-02-18T22:11:49.040285"
    },
    "collapsed": false
   },
   "outputs": [
    {
     "name": "stdout",
     "output_type": "stream",
     "text": [
      "[['J,5' 15]\n",
      " ['K,2' 12]\n",
      " ['4,6' 10]\n",
      " ['4,3' 7]\n",
      " ['7,8' 15]]\n"
     ]
    }
   ],
   "source": [
    "print (df2[[\"d_hand\", \"d_initial\"]].as_matrix()[np.random.randint(len(df2), size=5)])"
   ]
  },
  {
   "cell_type": "code",
   "execution_count": 118,
   "metadata": {
    "ExecuteTime": {
     "end_time": "2017-02-18T22:11:49.143409",
     "start_time": "2017-02-18T22:11:49.130487"
    },
    "collapsed": false
   },
   "outputs": [
    {
     "name": "stdout",
     "output_type": "stream",
     "text": [
      "[['A,A,6' 18]\n",
      " ['9,K' 19]\n",
      " ['9,10' 19]\n",
      " ['K,10' 20]\n",
      " ['3,2' 5]]\n"
     ]
    }
   ],
   "source": [
    "print (df2[[\"d_final_hand\", \"d_final\"]].as_matrix()[np.random.randint(len(df2), size=5)])"
   ]
  },
  {
   "cell_type": "code",
   "execution_count": 119,
   "metadata": {
    "ExecuteTime": {
     "end_time": "2017-02-18T22:11:49.232161",
     "start_time": "2017-02-18T22:11:49.221582"
    },
    "collapsed": false
   },
   "outputs": [
    {
     "name": "stdout",
     "output_type": "stream",
     "text": [
      "[['3,A' 14]\n",
      " ['Q,J' 20]\n",
      " ['10,5' 15]\n",
      " ['5,3' 8]\n",
      " ['K,A' 21]]\n"
     ]
    }
   ],
   "source": [
    "print (df2[[\"p_hand\", \"p_initial\"]].as_matrix()[np.random.randint(len(df2), size=5)])"
   ]
  },
  {
   "cell_type": "code",
   "execution_count": 120,
   "metadata": {
    "ExecuteTime": {
     "end_time": "2017-02-18T22:11:49.314020",
     "start_time": "2017-02-18T22:11:49.303582"
    },
    "collapsed": false
   },
   "outputs": [
    {
     "name": "stdout",
     "output_type": "stream",
     "text": [
      "[['3,9,10' 22]\n",
      " ['5,10' 15]\n",
      " ['8,6,A,10' 25]\n",
      " ['J,2' 12]\n",
      " ['5,10,10' 25]]\n"
     ]
    }
   ],
   "source": [
    "print (df2[[\"p_final_hand\", \"p_final\"]].as_matrix()[np.random.randint(len(df2), size=5)])"
   ]
  },
  {
   "cell_type": "markdown",
   "metadata": {},
   "source": [
    "## If p_bust = 1, p_win = 0"
   ]
  },
  {
   "cell_type": "code",
   "execution_count": 121,
   "metadata": {
    "ExecuteTime": {
     "end_time": "2017-02-18T22:11:49.480788",
     "start_time": "2017-02-18T22:11:49.455225"
    },
    "collapsed": false
   },
   "outputs": [
    {
     "data": {
      "text/plain": [
       "0    8710\n",
       "Name: p_win, dtype: int64"
      ]
     },
     "execution_count": 121,
     "metadata": {},
     "output_type": "execute_result"
    }
   ],
   "source": [
    "df2.p_win[df2[\"p_bust\"] == 1].value_counts()"
   ]
  },
  {
   "cell_type": "markdown",
   "metadata": {},
   "source": [
    "## If d_bust = 1, p_win = 1"
   ]
  },
  {
   "cell_type": "code",
   "execution_count": 122,
   "metadata": {
    "ExecuteTime": {
     "end_time": "2017-02-18T22:11:49.634800",
     "start_time": "2017-02-18T22:11:49.623122"
    },
    "collapsed": false
   },
   "outputs": [
    {
     "data": {
      "text/plain": [
       "1    11583\n",
       "Name: p_win, dtype: int64"
      ]
     },
     "execution_count": 122,
     "metadata": {},
     "output_type": "execute_result"
    }
   ],
   "source": [
    "df2.p_win[df2[\"d_bust\"] == 1].value_counts()"
   ]
  },
  {
   "cell_type": "markdown",
   "metadata": {},
   "source": [
    "## If soft_17 = 1, then when d_final == 17, it's not a soft 17"
   ]
  },
  {
   "cell_type": "markdown",
   "metadata": {},
   "source": [
    "- If dealer is required to hit on soft 17\n",
    "    - If player didn't get blackjack\n",
    "    - If player didn't bust\n",
    "    - Dealer should not have a soft 17 final hand"
   ]
  },
  {
   "cell_type": "code",
   "execution_count": 123,
   "metadata": {
    "ExecuteTime": {
     "end_time": "2017-02-18T22:11:49.975851",
     "start_time": "2017-02-18T22:11:49.873978"
    },
    "collapsed": false
   },
   "outputs": [],
   "source": [
    "for i in df2.d_final_hand[(df2.soft_17 == 1) & (df2.d_final == 17)].index:\n",
    "    if soft_17(df2.ix[i, \"d_final_hand\"]) and df2.ix[i,\"p_bust\"] == 0 and df2.ix[i,\"p_initial\"] != 21:\n",
    "        print (df2.ix[i])"
   ]
  },
  {
   "cell_type": "markdown",
   "metadata": {},
   "source": [
    "## If no one busted, the higher point wins"
   ]
  },
  {
   "cell_type": "code",
   "execution_count": 124,
   "metadata": {
    "ExecuteTime": {
     "end_time": "2017-02-18T22:11:50.053761",
     "start_time": "2017-02-18T22:11:50.042455"
    },
    "collapsed": false
   },
   "outputs": [],
   "source": [
    "sub = df2[(df2.p_bust == 0) & (df2.d_bust == 0) & (df2.p_win == 1)]"
   ]
  },
  {
   "cell_type": "code",
   "execution_count": 125,
   "metadata": {
    "ExecuteTime": {
     "end_time": "2017-02-18T22:11:50.137622",
     "start_time": "2017-02-18T22:11:50.127804"
    },
    "collapsed": false
   },
   "outputs": [
    {
     "data": {
      "text/plain": [
       "True    9582\n",
       "dtype: int64"
      ]
     },
     "execution_count": 125,
     "metadata": {},
     "output_type": "execute_result"
    }
   ],
   "source": [
    "(sub.p_final > sub.d_final).value_counts()"
   ]
  },
  {
   "cell_type": "code",
   "execution_count": 126,
   "metadata": {
    "ExecuteTime": {
     "end_time": "2017-02-18T22:11:50.221748",
     "start_time": "2017-02-18T22:11:50.210476"
    },
    "collapsed": false
   },
   "outputs": [],
   "source": [
    "sub = df2[(df2.p_bust == 0) & (df2.d_bust == 0) & (df2.p_win == 0)]"
   ]
  },
  {
   "cell_type": "code",
   "execution_count": 127,
   "metadata": {
    "ExecuteTime": {
     "end_time": "2017-02-18T22:11:50.306244",
     "start_time": "2017-02-18T22:11:50.295812"
    },
    "collapsed": false
   },
   "outputs": [
    {
     "data": {
      "text/plain": [
       "True    21112\n",
       "dtype: int64"
      ]
     },
     "execution_count": 127,
     "metadata": {},
     "output_type": "execute_result"
    }
   ],
   "source": [
    "(sub.p_final <= sub.d_final).value_counts()"
   ]
  },
  {
   "cell_type": "markdown",
   "metadata": {},
   "source": [
    "## If playing the recommended strategy, player should not hit on 17 and above"
   ]
  },
  {
   "cell_type": "code",
   "execution_count": 129,
   "metadata": {
    "ExecuteTime": {
     "end_time": "2017-02-18T22:13:23.154774",
     "start_time": "2017-02-18T22:13:23.143680"
    },
    "collapsed": false
   },
   "outputs": [
    {
     "data": {
      "text/plain": [
       "0    8860\n",
       "Name: p_hit, dtype: int64"
      ]
     },
     "execution_count": 129,
     "metadata": {},
     "output_type": "execute_result"
    }
   ],
   "source": [
    "df2.p_hit[(df2.p_initial >= 17) & (df2.strategy==1)].value_counts()"
   ]
  },
  {
   "cell_type": "markdown",
   "metadata": {},
   "source": [
    "## If playing the recommended strategy, player should not hit on 12-16 if the dealer is showing 6 and below"
   ]
  },
  {
   "cell_type": "code",
   "execution_count": 131,
   "metadata": {
    "ExecuteTime": {
     "end_time": "2017-02-18T22:15:54.732900",
     "start_time": "2017-02-18T22:15:54.720203"
    },
    "collapsed": false
   },
   "outputs": [
    {
     "data": {
      "text/plain": [
       "0    5064\n",
       "Name: p_hit, dtype: int64"
      ]
     },
     "execution_count": 131,
     "metadata": {},
     "output_type": "execute_result"
    }
   ],
   "source": [
    "df2.p_hit[(df2.p_initial<17) & (df2.p_initial>11) & (df2.d_open<=6) & (df2.strategy==1)].value_counts()"
   ]
  },
  {
   "cell_type": "code",
   "execution_count": null,
   "metadata": {
    "collapsed": true
   },
   "outputs": [],
   "source": []
  }
 ],
 "metadata": {
  "anaconda-cloud": {},
  "kernelspec": {
   "display_name": "Python [conda env:py36]",
   "language": "python",
   "name": "conda-env-py36-py"
  },
  "language_info": {
   "codemirror_mode": {
    "name": "ipython",
    "version": 3
   },
   "file_extension": ".py",
   "mimetype": "text/x-python",
   "name": "python",
   "nbconvert_exporter": "python",
   "pygments_lexer": "ipython3",
   "version": "3.6.0"
  },
  "toc": {
   "nav_menu": {
    "height": "138px",
    "width": "252px"
   },
   "navigate_menu": true,
   "number_sections": true,
   "sideBar": true,
   "threshold": 4,
   "toc_cell": false,
   "toc_section_display": "block",
   "toc_window_display": false
  }
 },
 "nbformat": 4,
 "nbformat_minor": 1
}
