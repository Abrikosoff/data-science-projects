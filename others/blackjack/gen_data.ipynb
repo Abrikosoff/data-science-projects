{
 "cells": [
  {
   "cell_type": "code",
   "execution_count": 157,
   "metadata": {
    "ExecuteTime": {
     "end_time": "2017-02-17T20:40:16.529190",
     "start_time": "2017-02-17T20:40:16.525086"
    },
    "collapsed": false
   },
   "outputs": [],
   "source": [
    "import numpy as np\n",
    "import pandas as pd"
   ]
  },
  {
   "cell_type": "markdown",
   "metadata": {},
   "source": [
    "# Game Deck"
   ]
  },
  {
   "cell_type": "code",
   "execution_count": 158,
   "metadata": {
    "ExecuteTime": {
     "end_time": "2017-02-17T20:40:16.546793",
     "start_time": "2017-02-17T20:40:16.532122"
    },
    "collapsed": false
   },
   "outputs": [],
   "source": [
    "class GameDeck():\n",
    "    \"\"\" Create the game deck \"\"\"\n",
    "    values = [\"A\", 2, 3, 4, 5, 6, 7, 8, 9, 10, \"J\", \"Q\", \"K\"]\n",
    "    def __init__(self, num_decks=1, values=values, suits=4):\n",
    "        self.num_decks = num_decks\n",
    "        self.cards = values * num_decks * suits\n",
    "        \n",
    "    def __str__(self):\n",
    "        return \"{} cards left\\n{}\".format(len(self.cards), self.cards)\n",
    "    \n",
    "    def shuffle_cards(self):\n",
    "        np.random.shuffle(self.cards)\n",
    "        \n",
    "    def deal_card(self, hand=None):\n",
    "        if hand == None:\n",
    "            return self.cards.pop(0)\n",
    "        else:\n",
    "            hand.append(self.cards.pop(0))"
   ]
  },
  {
   "cell_type": "code",
   "execution_count": 159,
   "metadata": {
    "ExecuteTime": {
     "end_time": "2017-02-17T20:40:16.553222",
     "start_time": "2017-02-17T20:40:16.549541"
    },
    "collapsed": false
   },
   "outputs": [],
   "source": [
    "test = GameDeck()"
   ]
  },
  {
   "cell_type": "code",
   "execution_count": 160,
   "metadata": {
    "ExecuteTime": {
     "end_time": "2017-02-17T20:40:16.563726",
     "start_time": "2017-02-17T20:40:16.556075"
    },
    "collapsed": false
   },
   "outputs": [
    {
     "name": "stdout",
     "output_type": "stream",
     "text": [
      "52 cards left\n",
      "['A', 2, 3, 4, 5, 6, 7, 8, 9, 10, 'J', 'Q', 'K', 'A', 2, 3, 4, 5, 6, 7, 8, 9, 10, 'J', 'Q', 'K', 'A', 2, 3, 4, 5, 6, 7, 8, 9, 10, 'J', 'Q', 'K', 'A', 2, 3, 4, 5, 6, 7, 8, 9, 10, 'J', 'Q', 'K']\n",
      "\n",
      "52 cards left\n",
      "[3, 8, 8, 7, 'Q', 8, 'K', 6, 'J', 10, 2, 4, 8, 'J', 'J', 'K', 'K', 4, 5, 10, 'Q', 'K', 'A', 6, 6, 9, 4, 'J', 2, 5, 7, 'Q', 7, 10, 'A', 4, 3, 6, 2, 5, 'Q', 2, 7, 3, 'A', 5, 'A', 3, 10, 9, 9, 9]\n",
      "\n",
      "51 cards left\n",
      "[8, 8, 7, 'Q', 8, 'K', 6, 'J', 10, 2, 4, 8, 'J', 'J', 'K', 'K', 4, 5, 10, 'Q', 'K', 'A', 6, 6, 9, 4, 'J', 2, 5, 7, 'Q', 7, 10, 'A', 4, 3, 6, 2, 5, 'Q', 2, 7, 3, 'A', 5, 'A', 3, 10, 9, 9, 9]\n"
     ]
    }
   ],
   "source": [
    "print (test)\n",
    "test.shuffle_cards()\n",
    "print ()\n",
    "print (test)\n",
    "test.deal_card()\n",
    "print()\n",
    "print (test)"
   ]
  },
  {
   "cell_type": "markdown",
   "metadata": {},
   "source": [
    "# Points calculator"
   ]
  },
  {
   "cell_type": "code",
   "execution_count": 446,
   "metadata": {
    "ExecuteTime": {
     "end_time": "2017-02-17T22:09:39.403527",
     "start_time": "2017-02-17T22:09:39.395687"
    },
    "collapsed": false
   },
   "outputs": [],
   "source": [
    "def s_to_l(hand):\n",
    "    try:\n",
    "        hand = hand.split(\",\")\n",
    "    except:\n",
    "        pass\n",
    "    \n",
    "    working_hand = []\n",
    "    \n",
    "    for i in hand:\n",
    "        try:\n",
    "            working_hand.append(int(i))\n",
    "        except:\n",
    "            working_hand.append(i)\n",
    "    return working_hand"
   ]
  },
  {
   "cell_type": "code",
   "execution_count": 447,
   "metadata": {
    "ExecuteTime": {
     "end_time": "2017-02-17T22:09:39.971641",
     "start_time": "2017-02-17T22:09:39.963222"
    },
    "collapsed": false
   },
   "outputs": [],
   "source": [
    "def calc_ace(hand, count_A):\n",
    "    # For each Ace, see if adding 11 causes it to bust\n",
    "    # If no, then take Ace as 11\n",
    "    # Else, take Ace as 1\n",
    "    working_hand = hand.copy()\n",
    "    \n",
    "    # Remove Aces\n",
    "    working_hand = [i if type(i) == int else 10 for i in working_hand if i != \"A\"]\n",
    "    for k in range(count_A):\n",
    "        if sum(working_hand) + 11 <= 21:\n",
    "            working_hand.append(11)\n",
    "        else:\n",
    "            working_hand.append(1)\n",
    "    return working_hand"
   ]
  },
  {
   "cell_type": "code",
   "execution_count": 448,
   "metadata": {
    "ExecuteTime": {
     "end_time": "2017-02-17T22:09:40.209773",
     "start_time": "2017-02-17T22:09:40.201972"
    },
    "collapsed": false
   },
   "outputs": [],
   "source": [
    "def calc_points(hand):\n",
    "    working_hand = s_to_l(hand)\n",
    "    \n",
    "    if \"A\" in working_hand:\n",
    "        \n",
    "        # Count number of Aces\n",
    "        count_A = working_hand.count(\"A\")\n",
    "        working_hand = calc_ace(working_hand, count_A)\n",
    "        \n",
    "    else:\n",
    "        # Replace J, Q, and K with 10\n",
    "        working_hand = [10 if i in [\"J\", \"Q\", \"K\"] else int(i) for i in working_hand]\n",
    "    \n",
    "    return sum(working_hand)"
   ]
  },
  {
   "cell_type": "code",
   "execution_count": 449,
   "metadata": {
    "ExecuteTime": {
     "end_time": "2017-02-17T22:09:40.427516",
     "start_time": "2017-02-17T22:09:40.419208"
    },
    "collapsed": false
   },
   "outputs": [
    {
     "name": "stdout",
     "output_type": "stream",
     "text": [
      "['A', 'K'] 21\n",
      "[10, 10] 20\n",
      "['A', 5] 16\n",
      "['A', 'A', 8] 20\n",
      "[3, 3] 6\n"
     ]
    }
   ],
   "source": [
    "for i in [[\"A\", \"K\"], [10,10], [\"A\", 5], [\"A\", \"A\", 8], [3,3]]:\n",
    "    print (i, calc_points(i))"
   ]
  },
  {
   "cell_type": "markdown",
   "metadata": {},
   "source": [
    "# Soft 17"
   ]
  },
  {
   "cell_type": "markdown",
   "metadata": {},
   "source": [
    "- Some casinos require the dealer to hit on a soft 17\n",
    "- We need to know when it is a soft 17"
   ]
  },
  {
   "cell_type": "code",
   "execution_count": 450,
   "metadata": {
    "ExecuteTime": {
     "end_time": "2017-02-17T22:09:41.545590",
     "start_time": "2017-02-17T22:09:41.538498"
    },
    "collapsed": false
   },
   "outputs": [],
   "source": [
    "def soft_17(hand):\n",
    "    working_hand = s_to_l(hand)\n",
    "    \n",
    "    Ace_11 = False\n",
    "    if calc_points(working_hand) == 17 and \"A\" in working_hand:\n",
    "        count_A = working_hand.count(\"A\")\n",
    "        working_hand = calc_ace(working_hand, count_A)\n",
    "        if 11 in working_hand[-count_A:]:\n",
    "            return True\n",
    "    return False"
   ]
  },
  {
   "cell_type": "code",
   "execution_count": 451,
   "metadata": {
    "ExecuteTime": {
     "end_time": "2017-02-17T22:09:41.899304",
     "start_time": "2017-02-17T22:09:41.891661"
    },
    "collapsed": false
   },
   "outputs": [
    {
     "name": "stdout",
     "output_type": "stream",
     "text": [
      "['K', 7] False\n",
      "['A', 3, 3] True\n",
      "['A', 'A', 5] True\n",
      "['A', 'A', 'A', 4] True\n"
     ]
    }
   ],
   "source": [
    "for i in [[\"K\", 7], [\"A\", 3, 3], [\"A\", \"A\", 5], [\"A\", \"A\", \"A\", 4]]:\n",
    "    print (i, soft_17(i))"
   ]
  },
  {
   "cell_type": "markdown",
   "metadata": {},
   "source": [
    "# Play game"
   ]
  },
  {
   "cell_type": "code",
   "execution_count": 452,
   "metadata": {
    "ExecuteTime": {
     "end_time": "2017-02-17T22:09:43.657733",
     "start_time": "2017-02-17T22:09:43.649993"
    },
    "collapsed": false
   },
   "outputs": [],
   "source": [
    "def start_game(num_decks=1):\n",
    "    game_deck = GameDeck(num_decks=num_decks)\n",
    "    \n",
    "    d_hand = []\n",
    "    p_hand = []\n",
    "    \n",
    "    game_deck.shuffle_cards()\n",
    "    \n",
    "    for _ in range(2):\n",
    "        game_deck.deal_card(p_hand)\n",
    "        game_deck.deal_card(d_hand)\n",
    "        \n",
    "    return game_deck, p_hand, d_hand"
   ]
  },
  {
   "cell_type": "code",
   "execution_count": 453,
   "metadata": {
    "ExecuteTime": {
     "end_time": "2017-02-17T22:09:43.967517",
     "start_time": "2017-02-17T22:09:43.962295"
    },
    "collapsed": false
   },
   "outputs": [
    {
     "data": {
      "text/plain": [
       "(<__main__.GameDeck at 0x1111fb438>, ['Q', 'J'], [8, 4])"
      ]
     },
     "execution_count": 453,
     "metadata": {},
     "output_type": "execute_result"
    }
   ],
   "source": [
    "start_game()"
   ]
  },
  {
   "cell_type": "markdown",
   "metadata": {},
   "source": [
    "- strategies\n",
    "    - 0: random\n",
    "    - 1: recommended\n",
    "    - 2: statistical analysis\n",
    "    - 3: machine learning"
   ]
  },
  {
   "cell_type": "code",
   "execution_count": 454,
   "metadata": {
    "ExecuteTime": {
     "end_time": "2017-02-17T22:09:49.438572",
     "start_time": "2017-02-17T22:09:49.427464"
    },
    "collapsed": false
   },
   "outputs": [],
   "source": [
    "def player_turn(game_deck, d_open, p_hand, strategy=0):\n",
    "    new_hand = p_hand.copy()\n",
    "    while calc_points(new_hand) <= 11:\n",
    "        game_deck.deal_card(new_hand)\n",
    "        \n",
    "    if strategy == 0:\n",
    "        while calc_points(new_hand) <= 18:\n",
    "            if np.random.random() <= 0.5:\n",
    "                game_deck.deal_card(new_hand)\n",
    "            else:\n",
    "                break\n",
    "    elif strategy == 1:\n",
    "        while calc_points(new_hand) <= 18:\n",
    "            if d_open <= 6:\n",
    "                game_deck.deal_card(new_hand)\n",
    "            else:\n",
    "                break\n",
    "                \n",
    "    return game_deck, p_hand, new_hand"
   ]
  },
  {
   "cell_type": "code",
   "execution_count": 455,
   "metadata": {
    "ExecuteTime": {
     "end_time": "2017-02-17T22:09:50.041810",
     "start_time": "2017-02-17T22:09:50.034753"
    },
    "collapsed": false
   },
   "outputs": [
    {
     "name": "stdout",
     "output_type": "stream",
     "text": [
      "(<__main__.GameDeck object at 0x110dd17b8>, [7, 9], [7, 9, 'J'])\n",
      "16\n",
      "26\n"
     ]
    }
   ],
   "source": [
    "test = start_game()\n",
    "p_test = player_turn(test[0], test[1][0], test[2])\n",
    "print (p_test)\n",
    "print (calc_points(p_test[1]))\n",
    "print (calc_points(p_test[2]))"
   ]
  },
  {
   "cell_type": "code",
   "execution_count": 456,
   "metadata": {
    "ExecuteTime": {
     "end_time": "2017-02-17T22:09:50.752291",
     "start_time": "2017-02-17T22:09:50.746278"
    },
    "collapsed": false
   },
   "outputs": [],
   "source": [
    "def dealer_turn(game_deck, hand, soft=1):\n",
    "    new_hand = hand.copy()\n",
    "    if soft == 1:\n",
    "        while calc_points(new_hand) < 17 or soft_17(new_hand):\n",
    "            game_deck.deal_card(new_hand)\n",
    "    else:\n",
    "        while calc_points(new_hand) < 17:\n",
    "            game_deck.deal_card(new_hand)\n",
    "    return game_deck, hand, new_hand"
   ]
  },
  {
   "cell_type": "code",
   "execution_count": 457,
   "metadata": {
    "ExecuteTime": {
     "end_time": "2017-02-17T22:09:51.805864",
     "start_time": "2017-02-17T22:09:51.794975"
    },
    "collapsed": false
   },
   "outputs": [
    {
     "name": "stdout",
     "output_type": "stream",
     "text": [
      "(<__main__.GameDeck object at 0x110a990b8>, [4, 8], [4, 8, 8])\n",
      "12\n",
      "20\n",
      "(<__main__.GameDeck object at 0x110a990b8>, ['K', 7], ['K', 7])\n",
      "17\n",
      "17\n"
     ]
    }
   ],
   "source": [
    "test = start_game()\n",
    "p_test = player_turn(test[0], test[1][0], test[2])\n",
    "print (p_test)\n",
    "print (calc_points(p_test[1]))\n",
    "print (calc_points(p_test[2]))\n",
    "d_test = dealer_turn(p_test[0], test[1])\n",
    "print (d_test)\n",
    "print (calc_points(d_test[1]))\n",
    "print (calc_points(d_test[2]))"
   ]
  },
  {
   "cell_type": "code",
   "execution_count": 458,
   "metadata": {
    "ExecuteTime": {
     "end_time": "2017-02-17T22:09:52.679363",
     "start_time": "2017-02-17T22:09:52.674950"
    },
    "collapsed": false
   },
   "outputs": [],
   "source": [
    "def l_to_s(l):\n",
    "    l = [str(i) for i in l]\n",
    "    return \",\".join(l)"
   ]
  },
  {
   "cell_type": "code",
   "execution_count": 459,
   "metadata": {
    "ExecuteTime": {
     "end_time": "2017-02-17T22:09:53.692797",
     "start_time": "2017-02-17T22:09:53.642377"
    },
    "collapsed": false
   },
   "outputs": [],
   "source": [
    "def play_split(game_deck, p_hand, d_hand, d_open, num_decks, strategy=0, soft=1):\n",
    "    to_split = np.random.random() <= 0.5\n",
    "    if (strategy == 0 and to_split) or (strategy == 1 and p_hand[0] == 8):\n",
    "        # Splits\n",
    "        split = 1\n",
    "        p_hand_1 = [p_hand[0]]\n",
    "        p_hand_2 = [p_hand[1]]\n",
    "        game_deck.deal_card(p_hand_1)\n",
    "        game_deck.deal_card(p_hand_2)\n",
    "        game_deck, p_hand_1, p_new_hand_1 = player_turn(game_deck, d_open, p_hand_1, strategy=strategy)\n",
    "        game_deck, p_hand_2, p_new_hand_2 = player_turn(game_deck, d_open, p_hand_2, strategy=strategy)\n",
    "\n",
    "        # If either is below 21, dealer gets to play\n",
    "        if calc_points(p_new_hand_1) <= 21 or calc_points(p_new_hand_2) <= 21:\n",
    "            game_deck, d_hand, d_new_hand = dealer_turn(game_deck, d_hand)\n",
    "            # If hand 1 is above 21\n",
    "            if calc_points(p_new_hand_1) > 21:\n",
    "                # Dealer doesn't get to play for this hand\n",
    "                d_new_hand_1 = d_hand.copy()\n",
    "                out_1 = np.array([l_to_s(d_hand), l_to_s(d_new_hand_1), l_to_s(p_hand_1), l_to_s(p_new_hand_1), strategy, split, num_decks, soft])       \n",
    "            else:\n",
    "                out_1 = np.array([l_to_s(d_hand), l_to_s(d_new_hand), l_to_s(p_hand_1), l_to_s(p_new_hand_1), strategy, split, num_decks, soft])       \n",
    "            # If hand 2 is above 21\n",
    "            if calc_points(p_new_hand_2) > 21:\n",
    "                # Dealer doesn't get to play for this hand\n",
    "                d_new_hand_2 = d_hand.copy()\n",
    "                out_2 = np.array([l_to_s(d_hand), l_to_s(d_new_hand_2), l_to_s(p_hand_2), l_to_s(p_new_hand_2), strategy, split, num_decks, soft])\n",
    "            else:\n",
    "                out_2 = np.array([l_to_s(d_hand), l_to_s(d_new_hand), l_to_s(p_hand_2), l_to_s(p_new_hand_2), strategy, split, num_decks, soft])       \n",
    "        # They are both above 21, dealer doesn't play at all\n",
    "        else:\n",
    "            d_new_hand = d_hand.copy()\n",
    "            out_2 = np.array([l_to_s(d_hand), l_to_s(d_new_hand), l_to_s(p_hand_2), l_to_s(p_new_hand_2), strategy, split, num_decks, soft])       \n",
    "            out_1 = np.array([l_to_s(d_hand), l_to_s(d_new_hand), l_to_s(p_hand_1), l_to_s(p_new_hand_1), strategy, split, num_decks, soft])       \n",
    "            \n",
    "        \n",
    "        return np.array([out_1, out_2])\n",
    "    else:\n",
    "        return \"No split\""
   ]
  },
  {
   "cell_type": "code",
   "execution_count": 460,
   "metadata": {
    "ExecuteTime": {
     "end_time": "2017-02-17T22:09:54.119706",
     "start_time": "2017-02-17T22:09:54.114159"
    },
    "collapsed": false
   },
   "outputs": [],
   "source": [
    "def card_value(card):\n",
    "    try:\n",
    "        return int(card)\n",
    "    except:\n",
    "        if card == \"A\":\n",
    "            return 1\n",
    "        else:\n",
    "            return 10"
   ]
  },
  {
   "cell_type": "code",
   "execution_count": 461,
   "metadata": {
    "ExecuteTime": {
     "end_time": "2017-02-17T22:09:54.415459",
     "start_time": "2017-02-17T22:09:54.395136"
    },
    "collapsed": false
   },
   "outputs": [],
   "source": [
    "def play_game(num_decks=4, strategy=0, soft=1):\n",
    "    game_deck, p_hand, d_hand = start_game(num_decks=num_decks)\n",
    "    \n",
    "    d_open = card_value(d_hand[0])\n",
    "    split = 0\n",
    "    if calc_points(p_hand) != 21 and calc_points(d_hand) != 21:\n",
    "        if (p_hand[0] == p_hand[1]):\n",
    "            out = play_split(game_deck, p_hand, d_hand, d_open, num_decks, strategy=strategy, soft=soft)\n",
    "        else:\n",
    "            out = \"No split\"\n",
    "        if type(out) == str:\n",
    "            game_deck, p_hand, p_new_hand = player_turn(game_deck, d_open, p_hand, strategy=strategy)\n",
    "            if calc_points(p_new_hand) <= 21:\n",
    "                game_deck, d_hand, d_new_hand = dealer_turn(game_deck, d_hand, soft=soft)\n",
    "            else:\n",
    "                d_new_hand = d_hand.copy()\n",
    "            out = np.array([l_to_s(d_hand), l_to_s(d_new_hand), l_to_s(p_hand), l_to_s(p_new_hand), strategy, split, num_decks, soft])\n",
    "    else:\n",
    "        p_new_hand = p_hand.copy()\n",
    "        d_new_hand = d_hand.copy()\n",
    "        out = np.array([l_to_s(d_hand), l_to_s(d_new_hand), l_to_s(p_hand), l_to_s(p_new_hand), strategy, split, num_decks, soft])\n",
    "    \n",
    "    return out"
   ]
  },
  {
   "cell_type": "code",
   "execution_count": 462,
   "metadata": {
    "ExecuteTime": {
     "end_time": "2017-02-17T22:09:54.750708",
     "start_time": "2017-02-17T22:09:54.744477"
    },
    "collapsed": false
   },
   "outputs": [
    {
     "data": {
      "text/plain": [
       "array(['8,Q', '8,Q', '6,4', '6,4,Q', '1', '0', '4', '1'], \n",
       "      dtype='<U5')"
      ]
     },
     "execution_count": 462,
     "metadata": {},
     "output_type": "execute_result"
    }
   ],
   "source": [
    "play_game(strategy=1)"
   ]
  },
  {
   "cell_type": "code",
   "execution_count": 463,
   "metadata": {
    "ExecuteTime": {
     "end_time": "2017-02-17T22:09:55.936955",
     "start_time": "2017-02-17T22:09:55.922641"
    },
    "collapsed": false
   },
   "outputs": [
    {
     "name": "stdout",
     "output_type": "stream",
     "text": [
      "[['4,2' '4,2,Q,3' 'J,Q' 'J,Q' '0' '1' '4' '1']\n",
      " ['4,2' '4,2,Q,3' 'J,K' 'J,K' '0' '1' '4' '1']]\n"
     ]
    }
   ],
   "source": [
    "a = play_game()\n",
    "while a.ndim < 2:\n",
    "    a = play_game()\n",
    "print (a)"
   ]
  },
  {
   "cell_type": "code",
   "execution_count": 464,
   "metadata": {
    "ExecuteTime": {
     "end_time": "2017-02-17T22:09:56.231746",
     "start_time": "2017-02-17T22:09:56.225860"
    },
    "collapsed": false
   },
   "outputs": [
    {
     "data": {
      "text/plain": [
       "2"
      ]
     },
     "execution_count": 464,
     "metadata": {},
     "output_type": "execute_result"
    }
   ],
   "source": [
    "a.ndim"
   ]
  },
  {
   "cell_type": "markdown",
   "metadata": {},
   "source": [
    "# Generate cards"
   ]
  },
  {
   "cell_type": "code",
   "execution_count": 465,
   "metadata": {
    "ExecuteTime": {
     "end_time": "2017-02-17T22:09:57.099383",
     "start_time": "2017-02-17T22:09:57.090375"
    },
    "collapsed": false
   },
   "outputs": [],
   "source": [
    "def gen_df(num_games=5000):\n",
    "    data = []\n",
    "    for _ in range(num_games):\n",
    "        a = play_game(strategy=np.random.randint(2), soft=np.random.randint(2))\n",
    "        if a.ndim == 2:\n",
    "            data.extend(a)\n",
    "        else:\n",
    "            data.append(a)\n",
    "            \n",
    "    df = pd.DataFrame(data, columns=[\"d_hand\", \"d_final_hand\", \"p_hand\", \"p_final_hand\", \"strategy\", \"split\", \"num_decks\", \"soft_17\"])\n",
    "    return df"
   ]
  },
  {
   "cell_type": "code",
   "execution_count": 466,
   "metadata": {
    "ExecuteTime": {
     "end_time": "2017-02-17T22:09:57.691287",
     "start_time": "2017-02-17T22:09:57.672085"
    },
    "collapsed": false
   },
   "outputs": [
    {
     "data": {
      "text/html": [
       "<div>\n",
       "<table border=\"1\" class=\"dataframe\">\n",
       "  <thead>\n",
       "    <tr style=\"text-align: right;\">\n",
       "      <th></th>\n",
       "      <th>d_hand</th>\n",
       "      <th>d_final_hand</th>\n",
       "      <th>p_hand</th>\n",
       "      <th>p_final_hand</th>\n",
       "      <th>strategy</th>\n",
       "      <th>split</th>\n",
       "      <th>num_decks</th>\n",
       "      <th>soft_17</th>\n",
       "    </tr>\n",
       "  </thead>\n",
       "  <tbody>\n",
       "    <tr>\n",
       "      <th>0</th>\n",
       "      <td>2,Q</td>\n",
       "      <td>2,Q,7</td>\n",
       "      <td>K,5</td>\n",
       "      <td>K,5,6</td>\n",
       "      <td>1</td>\n",
       "      <td>0</td>\n",
       "      <td>4</td>\n",
       "      <td>1</td>\n",
       "    </tr>\n",
       "  </tbody>\n",
       "</table>\n",
       "</div>"
      ],
      "text/plain": [
       "  d_hand d_final_hand p_hand p_final_hand strategy split num_decks soft_17\n",
       "0    2,Q        2,Q,7    K,5        K,5,6        1     0         4       1"
      ]
     },
     "execution_count": 466,
     "metadata": {},
     "output_type": "execute_result"
    }
   ],
   "source": [
    "gen_df(num_games=1)"
   ]
  },
  {
   "cell_type": "markdown",
   "metadata": {},
   "source": [
    "# Add columns"
   ]
  },
  {
   "cell_type": "code",
   "execution_count": 467,
   "metadata": {
    "ExecuteTime": {
     "end_time": "2017-02-17T22:09:59.230188",
     "start_time": "2017-02-17T22:09:59.203255"
    },
    "collapsed": false
   },
   "outputs": [],
   "source": [
    "def add_columns(original):\n",
    "    df = original.copy()\n",
    "    df[\"strategy\"] = df[\"strategy\"].astype(int)\n",
    "    df[\"split\"] = df[\"split\"].astype(int)\n",
    "    df[\"num_decks\"] = df[\"num_decks\"].astype(int)\n",
    "    df[\"soft_17\"] = df[\"soft_17\"].astype(int)\n",
    "    \n",
    "    df[\"d_open\"] = df[\"d_hand\"].apply(lambda x: card_value(x.split(\",\")[0]))\n",
    "    df[\"d_initial\"] = df[\"d_hand\"].apply(calc_points)\n",
    "    df[\"d_final\"] = df[\"d_final_hand\"].apply(calc_points)\n",
    "    df[\"d_hit\"] = df[\"d_final\"]-df[\"d_initial\"] > 0\n",
    "    df[\"d_hit\"] = df[\"d_hit\"].astype(int)\n",
    "    df[\"d_bust\"] = df[\"d_final\"] > 21\n",
    "    df[\"d_bust\"] = df[\"d_bust\"].astype(int)\n",
    "    \n",
    "    df[\"p_initial\"] = df[\"p_hand\"].apply(calc_points)\n",
    "    df[\"p_final\"] = df[\"p_final_hand\"].apply(calc_points)\n",
    "    df[\"p_hit\"] = df[\"p_final\"]-df[\"p_initial\"] > 0\n",
    "    df[\"p_hit\"] = df[\"p_hit\"].astype(int)\n",
    "    df[\"p_bust\"] = df[\"p_final\"] > 21\n",
    "    df[\"p_bust\"] = df[\"p_bust\"].astype(int)\n",
    "    \n",
    "    df[\"p_win\"] = (df[\"p_final\"] > df[\"d_final\"]) & (df[\"p_bust\"] == 0) | (df[\"d_bust\"] == 1)\n",
    "    df[\"p_win\"] = df[\"p_win\"].astype(int)\n",
    "\n",
    "    return df"
   ]
  },
  {
   "cell_type": "markdown",
   "metadata": {},
   "source": [
    "# Generate CSVs"
   ]
  },
  {
   "cell_type": "code",
   "execution_count": 551,
   "metadata": {
    "ExecuteTime": {
     "end_time": "2017-02-17T22:24:16.236588",
     "start_time": "2017-02-17T22:24:15.702828"
    },
    "collapsed": false
   },
   "outputs": [],
   "source": [
    "df = gen_df()"
   ]
  },
  {
   "cell_type": "code",
   "execution_count": 552,
   "metadata": {
    "ExecuteTime": {
     "end_time": "2017-02-17T22:24:16.734578",
     "start_time": "2017-02-17T22:24:16.530071"
    },
    "collapsed": false
   },
   "outputs": [],
   "source": [
    "try:\n",
    "    old_df = pd.read_csv(\"cards.csv\")\n",
    "    df = pd.concat([df, old_df])\n",
    "except:\n",
    "    pass\n",
    "df.to_csv(\"cards.csv\", index=False)"
   ]
  },
  {
   "cell_type": "code",
   "execution_count": 557,
   "metadata": {
    "ExecuteTime": {
     "end_time": "2017-02-17T22:26:00.753508",
     "start_time": "2017-02-17T22:26:00.694205"
    },
    "collapsed": false
   },
   "outputs": [],
   "source": [
    "df = pd.read_csv(\"cards.csv\")"
   ]
  },
  {
   "cell_type": "code",
   "execution_count": 558,
   "metadata": {
    "ExecuteTime": {
     "end_time": "2017-02-17T22:26:01.139715",
     "start_time": "2017-02-17T22:26:01.133590"
    },
    "collapsed": false
   },
   "outputs": [
    {
     "data": {
      "text/plain": [
       "(50994, 8)"
      ]
     },
     "execution_count": 558,
     "metadata": {},
     "output_type": "execute_result"
    }
   ],
   "source": [
    "df.shape"
   ]
  },
  {
   "cell_type": "code",
   "execution_count": 559,
   "metadata": {
    "ExecuteTime": {
     "end_time": "2017-02-17T22:26:02.933173",
     "start_time": "2017-02-17T22:26:01.501677"
    },
    "collapsed": false
   },
   "outputs": [],
   "source": [
    "df2 = add_columns(df)"
   ]
  },
  {
   "cell_type": "code",
   "execution_count": 560,
   "metadata": {
    "ExecuteTime": {
     "end_time": "2017-02-17T22:26:03.510402",
     "start_time": "2017-02-17T22:26:02.935079"
    },
    "collapsed": false
   },
   "outputs": [],
   "source": [
    "df2.to_csv(\"blackjack_data.csv\", index=False)"
   ]
  },
  {
   "cell_type": "markdown",
   "metadata": {},
   "source": [
    "# Test data"
   ]
  },
  {
   "cell_type": "code",
   "execution_count": 510,
   "metadata": {
    "ExecuteTime": {
     "end_time": "2017-02-17T22:22:56.158000",
     "start_time": "2017-02-17T22:22:56.097190"
    },
    "collapsed": false
   },
   "outputs": [
    {
     "data": {
      "text/html": [
       "<div>\n",
       "<table border=\"1\" class=\"dataframe\">\n",
       "  <thead>\n",
       "    <tr style=\"text-align: right;\">\n",
       "      <th></th>\n",
       "      <th>strategy</th>\n",
       "      <th>split</th>\n",
       "      <th>num_decks</th>\n",
       "      <th>soft_17</th>\n",
       "      <th>d_open</th>\n",
       "      <th>d_initial</th>\n",
       "      <th>d_final</th>\n",
       "      <th>d_hit</th>\n",
       "      <th>d_bust</th>\n",
       "      <th>p_initial</th>\n",
       "      <th>p_final</th>\n",
       "      <th>p_hit</th>\n",
       "      <th>p_bust</th>\n",
       "      <th>p_win</th>\n",
       "    </tr>\n",
       "  </thead>\n",
       "  <tbody>\n",
       "    <tr>\n",
       "      <th>count</th>\n",
       "      <td>5099.000000</td>\n",
       "      <td>5099.000000</td>\n",
       "      <td>5099.0</td>\n",
       "      <td>5099.000000</td>\n",
       "      <td>5099.000000</td>\n",
       "      <td>5099.000000</td>\n",
       "      <td>5099.000000</td>\n",
       "      <td>5099.000000</td>\n",
       "      <td>5099.000000</td>\n",
       "      <td>5099.000000</td>\n",
       "      <td>5099.000000</td>\n",
       "      <td>5099.000000</td>\n",
       "      <td>5099.000000</td>\n",
       "      <td>5099.000000</td>\n",
       "    </tr>\n",
       "    <tr>\n",
       "      <th>mean</th>\n",
       "      <td>0.485389</td>\n",
       "      <td>0.038831</td>\n",
       "      <td>4.0</td>\n",
       "      <td>0.508923</td>\n",
       "      <td>6.600706</td>\n",
       "      <td>14.633458</td>\n",
       "      <td>18.556972</td>\n",
       "      <td>0.451265</td>\n",
       "      <td>0.202589</td>\n",
       "      <td>14.612865</td>\n",
       "      <td>18.571092</td>\n",
       "      <td>0.445185</td>\n",
       "      <td>0.200628</td>\n",
       "      <td>0.380467</td>\n",
       "    </tr>\n",
       "    <tr>\n",
       "      <th>std</th>\n",
       "      <td>0.499835</td>\n",
       "      <td>0.193211</td>\n",
       "      <td>0.0</td>\n",
       "      <td>0.499969</td>\n",
       "      <td>3.156163</td>\n",
       "      <td>4.088947</td>\n",
       "      <td>4.247913</td>\n",
       "      <td>0.497668</td>\n",
       "      <td>0.401968</td>\n",
       "      <td>4.042773</td>\n",
       "      <td>4.141357</td>\n",
       "      <td>0.497035</td>\n",
       "      <td>0.400509</td>\n",
       "      <td>0.485549</td>\n",
       "    </tr>\n",
       "    <tr>\n",
       "      <th>min</th>\n",
       "      <td>0.000000</td>\n",
       "      <td>0.000000</td>\n",
       "      <td>4.0</td>\n",
       "      <td>0.000000</td>\n",
       "      <td>1.000000</td>\n",
       "      <td>4.000000</td>\n",
       "      <td>4.000000</td>\n",
       "      <td>0.000000</td>\n",
       "      <td>0.000000</td>\n",
       "      <td>4.000000</td>\n",
       "      <td>4.000000</td>\n",
       "      <td>0.000000</td>\n",
       "      <td>0.000000</td>\n",
       "      <td>0.000000</td>\n",
       "    </tr>\n",
       "    <tr>\n",
       "      <th>25%</th>\n",
       "      <td>0.000000</td>\n",
       "      <td>0.000000</td>\n",
       "      <td>4.0</td>\n",
       "      <td>0.000000</td>\n",
       "      <td>4.000000</td>\n",
       "      <td>12.000000</td>\n",
       "      <td>17.000000</td>\n",
       "      <td>0.000000</td>\n",
       "      <td>0.000000</td>\n",
       "      <td>12.000000</td>\n",
       "      <td>15.000000</td>\n",
       "      <td>0.000000</td>\n",
       "      <td>0.000000</td>\n",
       "      <td>0.000000</td>\n",
       "    </tr>\n",
       "    <tr>\n",
       "      <th>50%</th>\n",
       "      <td>0.000000</td>\n",
       "      <td>0.000000</td>\n",
       "      <td>4.0</td>\n",
       "      <td>1.000000</td>\n",
       "      <td>7.000000</td>\n",
       "      <td>15.000000</td>\n",
       "      <td>19.000000</td>\n",
       "      <td>0.000000</td>\n",
       "      <td>0.000000</td>\n",
       "      <td>15.000000</td>\n",
       "      <td>19.000000</td>\n",
       "      <td>0.000000</td>\n",
       "      <td>0.000000</td>\n",
       "      <td>0.000000</td>\n",
       "    </tr>\n",
       "    <tr>\n",
       "      <th>75%</th>\n",
       "      <td>1.000000</td>\n",
       "      <td>0.000000</td>\n",
       "      <td>4.0</td>\n",
       "      <td>1.000000</td>\n",
       "      <td>10.000000</td>\n",
       "      <td>18.000000</td>\n",
       "      <td>21.000000</td>\n",
       "      <td>1.000000</td>\n",
       "      <td>0.000000</td>\n",
       "      <td>18.000000</td>\n",
       "      <td>21.000000</td>\n",
       "      <td>1.000000</td>\n",
       "      <td>0.000000</td>\n",
       "      <td>1.000000</td>\n",
       "    </tr>\n",
       "    <tr>\n",
       "      <th>max</th>\n",
       "      <td>1.000000</td>\n",
       "      <td>1.000000</td>\n",
       "      <td>4.0</td>\n",
       "      <td>1.000000</td>\n",
       "      <td>10.000000</td>\n",
       "      <td>21.000000</td>\n",
       "      <td>26.000000</td>\n",
       "      <td>1.000000</td>\n",
       "      <td>1.000000</td>\n",
       "      <td>21.000000</td>\n",
       "      <td>28.000000</td>\n",
       "      <td>1.000000</td>\n",
       "      <td>1.000000</td>\n",
       "      <td>1.000000</td>\n",
       "    </tr>\n",
       "  </tbody>\n",
       "</table>\n",
       "</div>"
      ],
      "text/plain": [
       "          strategy        split  num_decks      soft_17       d_open  \\\n",
       "count  5099.000000  5099.000000     5099.0  5099.000000  5099.000000   \n",
       "mean      0.485389     0.038831        4.0     0.508923     6.600706   \n",
       "std       0.499835     0.193211        0.0     0.499969     3.156163   \n",
       "min       0.000000     0.000000        4.0     0.000000     1.000000   \n",
       "25%       0.000000     0.000000        4.0     0.000000     4.000000   \n",
       "50%       0.000000     0.000000        4.0     1.000000     7.000000   \n",
       "75%       1.000000     0.000000        4.0     1.000000    10.000000   \n",
       "max       1.000000     1.000000        4.0     1.000000    10.000000   \n",
       "\n",
       "         d_initial      d_final        d_hit       d_bust    p_initial  \\\n",
       "count  5099.000000  5099.000000  5099.000000  5099.000000  5099.000000   \n",
       "mean     14.633458    18.556972     0.451265     0.202589    14.612865   \n",
       "std       4.088947     4.247913     0.497668     0.401968     4.042773   \n",
       "min       4.000000     4.000000     0.000000     0.000000     4.000000   \n",
       "25%      12.000000    17.000000     0.000000     0.000000    12.000000   \n",
       "50%      15.000000    19.000000     0.000000     0.000000    15.000000   \n",
       "75%      18.000000    21.000000     1.000000     0.000000    18.000000   \n",
       "max      21.000000    26.000000     1.000000     1.000000    21.000000   \n",
       "\n",
       "           p_final        p_hit       p_bust        p_win  \n",
       "count  5099.000000  5099.000000  5099.000000  5099.000000  \n",
       "mean     18.571092     0.445185     0.200628     0.380467  \n",
       "std       4.141357     0.497035     0.400509     0.485549  \n",
       "min       4.000000     0.000000     0.000000     0.000000  \n",
       "25%      15.000000     0.000000     0.000000     0.000000  \n",
       "50%      19.000000     0.000000     0.000000     0.000000  \n",
       "75%      21.000000     1.000000     0.000000     1.000000  \n",
       "max      28.000000     1.000000     1.000000     1.000000  "
      ]
     },
     "execution_count": 510,
     "metadata": {},
     "output_type": "execute_result"
    }
   ],
   "source": [
    "df2.describe()"
   ]
  },
  {
   "cell_type": "markdown",
   "metadata": {},
   "source": [
    "## Check hands and points"
   ]
  },
  {
   "cell_type": "code",
   "execution_count": 470,
   "metadata": {
    "ExecuteTime": {
     "end_time": "2017-02-17T22:10:05.202534",
     "start_time": "2017-02-17T22:10:05.193601"
    },
    "collapsed": false
   },
   "outputs": [
    {
     "name": "stdout",
     "output_type": "stream",
     "text": [
      "[['3,J' 13]\n",
      " ['K,8' 18]\n",
      " ['8,3' 11]\n",
      " ['7,7' 14]\n",
      " ['5,10' 15]]\n"
     ]
    }
   ],
   "source": [
    "print (df2[[\"d_hand\", \"d_initial\"]].as_matrix()[np.random.randint(len(df2), size=5)])"
   ]
  },
  {
   "cell_type": "code",
   "execution_count": 471,
   "metadata": {
    "ExecuteTime": {
     "end_time": "2017-02-17T22:10:05.585398",
     "start_time": "2017-02-17T22:10:05.578489"
    },
    "collapsed": false
   },
   "outputs": [
    {
     "name": "stdout",
     "output_type": "stream",
     "text": [
      "[['7,K' 17]\n",
      " ['K,A' 21]\n",
      " ['4,J,10' 24]\n",
      " ['K,8' 18]\n",
      " ['6,Q,9' 25]]\n"
     ]
    }
   ],
   "source": [
    "print (df2[[\"d_final_hand\", \"d_final\"]].as_matrix()[np.random.randint(len(df2), size=5)])"
   ]
  },
  {
   "cell_type": "code",
   "execution_count": 472,
   "metadata": {
    "ExecuteTime": {
     "end_time": "2017-02-17T22:10:05.976218",
     "start_time": "2017-02-17T22:10:05.967475"
    },
    "collapsed": false
   },
   "outputs": [
    {
     "name": "stdout",
     "output_type": "stream",
     "text": [
      "[['3,7' 10]\n",
      " ['3,6' 9]\n",
      " ['10,2' 12]\n",
      " ['9,7' 16]\n",
      " ['A,7' 18]]\n"
     ]
    }
   ],
   "source": [
    "print (df2[[\"p_hand\", \"p_initial\"]].as_matrix()[np.random.randint(len(df2), size=5)])"
   ]
  },
  {
   "cell_type": "code",
   "execution_count": 473,
   "metadata": {
    "ExecuteTime": {
     "end_time": "2017-02-17T22:10:06.291509",
     "start_time": "2017-02-17T22:10:06.283819"
    },
    "collapsed": false
   },
   "outputs": [
    {
     "name": "stdout",
     "output_type": "stream",
     "text": [
      "[['2,5,K' 17]\n",
      " ['J,7,7' 24]\n",
      " ['2,3,J' 15]\n",
      " ['3,10' 13]\n",
      " ['J,7' 17]]\n"
     ]
    }
   ],
   "source": [
    "print (df2[[\"p_final_hand\", \"p_final\"]].as_matrix()[np.random.randint(len(df2), size=5)])"
   ]
  },
  {
   "cell_type": "markdown",
   "metadata": {},
   "source": [
    "## If p_bust = 1, p_win = 0"
   ]
  },
  {
   "cell_type": "code",
   "execution_count": 474,
   "metadata": {
    "ExecuteTime": {
     "end_time": "2017-02-17T22:10:07.374779",
     "start_time": "2017-02-17T22:10:07.364513"
    },
    "collapsed": false
   },
   "outputs": [
    {
     "data": {
      "text/plain": [
       "0    1023\n",
       "Name: p_win, dtype: int64"
      ]
     },
     "execution_count": 474,
     "metadata": {},
     "output_type": "execute_result"
    }
   ],
   "source": [
    "df2.p_win[df2[\"p_bust\"] == 1].value_counts()"
   ]
  },
  {
   "cell_type": "markdown",
   "metadata": {},
   "source": [
    "## If d_bust = 1, p_win = 1"
   ]
  },
  {
   "cell_type": "code",
   "execution_count": 475,
   "metadata": {
    "ExecuteTime": {
     "end_time": "2017-02-17T22:10:08.691748",
     "start_time": "2017-02-17T22:10:08.682087"
    },
    "collapsed": false
   },
   "outputs": [
    {
     "data": {
      "text/plain": [
       "1    1033\n",
       "Name: p_win, dtype: int64"
      ]
     },
     "execution_count": 475,
     "metadata": {},
     "output_type": "execute_result"
    }
   ],
   "source": [
    "df2.p_win[df2[\"d_bust\"] == 1].value_counts()"
   ]
  },
  {
   "cell_type": "markdown",
   "metadata": {},
   "source": [
    "## If soft_17 = 1, then when d_final == 17, it's not a soft 17"
   ]
  },
  {
   "cell_type": "markdown",
   "metadata": {},
   "source": [
    "- If dealer is required to hit on soft 17\n",
    "    - If player didn't get blackjack\n",
    "    - If player didn't bust\n",
    "    - Dealer should not have a soft 17 final hand"
   ]
  },
  {
   "cell_type": "code",
   "execution_count": 488,
   "metadata": {
    "ExecuteTime": {
     "end_time": "2017-02-17T22:15:29.391322",
     "start_time": "2017-02-17T22:15:29.374488"
    },
    "collapsed": false
   },
   "outputs": [],
   "source": [
    "for i in df2.d_final_hand[(df2.soft_17 == 1) & (df2.d_final == 17)].index:\n",
    "    if soft_17(df2.ix[i, \"d_final_hand\"]) and df2.ix[i,\"p_bust\"] == 0 and df2.ix[i,\"p_initial\"] != 21:\n",
    "        print (df2.ix[i])"
   ]
  },
  {
   "cell_type": "markdown",
   "metadata": {},
   "source": [
    "## If no one busted, the higher point wins"
   ]
  },
  {
   "cell_type": "code",
   "execution_count": 499,
   "metadata": {
    "ExecuteTime": {
     "end_time": "2017-02-17T22:20:25.354372",
     "start_time": "2017-02-17T22:20:25.346965"
    },
    "collapsed": false
   },
   "outputs": [],
   "source": [
    "sub = df2[(df2.p_bust == 0) & (df2.d_bust == 0) & (df2.p_win == 1)]"
   ]
  },
  {
   "cell_type": "code",
   "execution_count": 505,
   "metadata": {
    "ExecuteTime": {
     "end_time": "2017-02-17T22:20:55.819738",
     "start_time": "2017-02-17T22:20:55.810849"
    },
    "collapsed": false
   },
   "outputs": [
    {
     "data": {
      "text/plain": [
       "True    907\n",
       "dtype: int64"
      ]
     },
     "execution_count": 505,
     "metadata": {},
     "output_type": "execute_result"
    }
   ],
   "source": [
    "(sub.p_final > sub.d_final).value_counts()"
   ]
  },
  {
   "cell_type": "code",
   "execution_count": 507,
   "metadata": {
    "ExecuteTime": {
     "end_time": "2017-02-17T22:21:07.729512",
     "start_time": "2017-02-17T22:21:07.721973"
    },
    "collapsed": false
   },
   "outputs": [],
   "source": [
    "sub = df2[(df2.p_bust == 0) & (df2.d_bust == 0) & (df2.p_win == 0)]"
   ]
  },
  {
   "cell_type": "code",
   "execution_count": 509,
   "metadata": {
    "ExecuteTime": {
     "end_time": "2017-02-17T22:21:37.233008",
     "start_time": "2017-02-17T22:21:37.223914"
    },
    "collapsed": false
   },
   "outputs": [
    {
     "data": {
      "text/plain": [
       "True    2136\n",
       "dtype: int64"
      ]
     },
     "execution_count": 509,
     "metadata": {},
     "output_type": "execute_result"
    }
   ],
   "source": [
    "(sub.p_final <= sub.d_final).value_counts()"
   ]
  }
 ],
 "metadata": {
  "anaconda-cloud": {},
  "kernelspec": {
   "display_name": "Python [conda env:py36]",
   "language": "python",
   "name": "conda-env-py36-py"
  },
  "language_info": {
   "codemirror_mode": {
    "name": "ipython",
    "version": 3
   },
   "file_extension": ".py",
   "mimetype": "text/x-python",
   "name": "python",
   "nbconvert_exporter": "python",
   "pygments_lexer": "ipython3",
   "version": "3.6.0"
  },
  "toc": {
   "nav_menu": {
    "height": "138px",
    "width": "252px"
   },
   "navigate_menu": true,
   "number_sections": true,
   "sideBar": true,
   "threshold": 4,
   "toc_cell": false,
   "toc_section_display": "block",
   "toc_window_display": false
  }
 },
 "nbformat": 4,
 "nbformat_minor": 1
}
