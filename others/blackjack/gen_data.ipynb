{
 "cells": [
  {
   "cell_type": "code",
   "execution_count": 1,
   "metadata": {
    "ExecuteTime": {
     "end_time": "2017-02-16T08:43:48.502916",
     "start_time": "2017-02-16T08:43:47.924258"
    },
    "collapsed": false
   },
   "outputs": [],
   "source": [
    "import numpy as np\n",
    "import pandas as pd"
   ]
  },
  {
   "cell_type": "markdown",
   "metadata": {},
   "source": [
    "# Game Deck"
   ]
  },
  {
   "cell_type": "code",
   "execution_count": 2,
   "metadata": {
    "ExecuteTime": {
     "end_time": "2017-02-16T08:43:48.519309",
     "start_time": "2017-02-16T08:43:48.505017"
    },
    "collapsed": false
   },
   "outputs": [],
   "source": [
    "class GameDeck():\n",
    "    \"\"\" Create the game deck \"\"\"\n",
    "    values = [\"A\", 2, 3, 4, 5, 6, 7, 8, 9, 10, \"J\", \"Q\", \"K\"]\n",
    "    def __init__(self, num_decks=1, values=values, suits=4):\n",
    "        self.num_decks = num_decks\n",
    "        self.cards = values * num_decks * suits\n",
    "        \n",
    "    def __str__(self):\n",
    "        return \"{} cards left\\n{}\".format(len(self.cards), self.cards)\n",
    "    \n",
    "    def shuffle_cards(self):\n",
    "        np.random.shuffle(self.cards)\n",
    "        \n",
    "    def deal_card(self, hand=None):\n",
    "        if hand == None:\n",
    "            return self.cards.pop(0)\n",
    "        else:\n",
    "            hand.append(self.cards.pop(0))"
   ]
  },
  {
   "cell_type": "code",
   "execution_count": 3,
   "metadata": {
    "ExecuteTime": {
     "end_time": "2017-02-16T08:43:48.525390",
     "start_time": "2017-02-16T08:43:48.521787"
    },
    "collapsed": false
   },
   "outputs": [],
   "source": [
    "test = GameDeck()"
   ]
  },
  {
   "cell_type": "code",
   "execution_count": 4,
   "metadata": {
    "ExecuteTime": {
     "end_time": "2017-02-16T08:43:48.536221",
     "start_time": "2017-02-16T08:43:48.528000"
    },
    "collapsed": false
   },
   "outputs": [
    {
     "name": "stdout",
     "output_type": "stream",
     "text": [
      "52 cards left\n",
      "['A', 2, 3, 4, 5, 6, 7, 8, 9, 10, 'J', 'Q', 'K', 'A', 2, 3, 4, 5, 6, 7, 8, 9, 10, 'J', 'Q', 'K', 'A', 2, 3, 4, 5, 6, 7, 8, 9, 10, 'J', 'Q', 'K', 'A', 2, 3, 4, 5, 6, 7, 8, 9, 10, 'J', 'Q', 'K']\n",
      "\n",
      "52 cards left\n",
      "['Q', 9, 'Q', 3, 'K', 5, 'Q', 6, 4, 5, 7, 'K', 'A', 'J', 3, 'Q', 'K', 2, 5, 3, 'A', 'J', 9, 4, 7, 6, 8, 'J', 10, 'J', 4, 9, 'A', 5, 10, 'A', 7, 2, 2, 6, 10, 3, 10, 9, 2, 4, 8, 7, 8, 6, 'K', 8]\n",
      "\n",
      "51 cards left\n",
      "[9, 'Q', 3, 'K', 5, 'Q', 6, 4, 5, 7, 'K', 'A', 'J', 3, 'Q', 'K', 2, 5, 3, 'A', 'J', 9, 4, 7, 6, 8, 'J', 10, 'J', 4, 9, 'A', 5, 10, 'A', 7, 2, 2, 6, 10, 3, 10, 9, 2, 4, 8, 7, 8, 6, 'K', 8]\n"
     ]
    }
   ],
   "source": [
    "print (test)\n",
    "test.shuffle_cards()\n",
    "print ()\n",
    "print (test)\n",
    "test.deal_card()\n",
    "print()\n",
    "print (test)"
   ]
  },
  {
   "cell_type": "markdown",
   "metadata": {},
   "source": [
    "# Points calculator"
   ]
  },
  {
   "cell_type": "code",
   "execution_count": 5,
   "metadata": {
    "ExecuteTime": {
     "end_time": "2017-02-16T08:43:48.549801",
     "start_time": "2017-02-16T08:43:48.538823"
    },
    "collapsed": false
   },
   "outputs": [],
   "source": [
    "def calc_ace(hand, count_A):\n",
    "    # For each Ace, see if adding 11 causes it to bust\n",
    "    # If no, then take Ace as 11\n",
    "    # Else, take Ace as 1\n",
    "    working_hand = hand.copy()\n",
    "    \n",
    "    # Remove Aces\n",
    "    working_hand = [i if type(i) == int else 10 for i in working_hand if i != \"A\"]\n",
    "    for k in range(count_A):\n",
    "        if sum(working_hand) + 11 <= 21:\n",
    "            working_hand.append(11)\n",
    "        else:\n",
    "            working_hand.append(1)\n",
    "    return working_hand"
   ]
  },
  {
   "cell_type": "code",
   "execution_count": 6,
   "metadata": {
    "ExecuteTime": {
     "end_time": "2017-02-16T08:43:48.563939",
     "start_time": "2017-02-16T08:43:48.553331"
    },
    "collapsed": false
   },
   "outputs": [],
   "source": [
    "def calc_points(hand):\n",
    "    try:\n",
    "        hand = hand.split(\",\")\n",
    "    except:\n",
    "        pass\n",
    "    working_hand = hand.copy()\n",
    "    \n",
    "    if \"A\" in working_hand:\n",
    "        \n",
    "        # Count number of Aces\n",
    "        count_A = working_hand.count(\"A\")\n",
    "        working_hand = calc_ace(working_hand, count_A)\n",
    "        \n",
    "    else:\n",
    "        # Replace J, Q, and K with 10\n",
    "        working_hand = [10 if i in [\"J\", \"Q\", \"K\"] else int(i) for i in working_hand]\n",
    "    \n",
    "    return sum(working_hand)"
   ]
  },
  {
   "cell_type": "code",
   "execution_count": 7,
   "metadata": {
    "ExecuteTime": {
     "end_time": "2017-02-16T08:43:48.594819",
     "start_time": "2017-02-16T08:43:48.566462"
    },
    "collapsed": false
   },
   "outputs": [
    {
     "name": "stdout",
     "output_type": "stream",
     "text": [
      "['A', 'K'] 21\n",
      "[10, 10] 20\n",
      "['A', 5] 16\n",
      "['A', 'A', 8] 20\n",
      "[3, 3] 6\n"
     ]
    }
   ],
   "source": [
    "for i in [[\"A\", \"K\"], [10,10], [\"A\", 5], [\"A\", \"A\", 8], [3,3]]:\n",
    "    print (i, calc_points(i))"
   ]
  },
  {
   "cell_type": "markdown",
   "metadata": {},
   "source": [
    "# Soft 17"
   ]
  },
  {
   "cell_type": "markdown",
   "metadata": {},
   "source": [
    "- Some casinos require the dealer to hit on a soft 17\n",
    "- We need to know when it is a soft 17"
   ]
  },
  {
   "cell_type": "code",
   "execution_count": 8,
   "metadata": {
    "ExecuteTime": {
     "end_time": "2017-02-16T08:43:48.605945",
     "start_time": "2017-02-16T08:43:48.598307"
    },
    "collapsed": false
   },
   "outputs": [],
   "source": [
    "def soft_17(hand):\n",
    "    working_hand = hand.copy()\n",
    "    Ace_11 = False\n",
    "    if calc_points(working_hand) == 17 and \"A\" in working_hand:\n",
    "        count_A = working_hand.count(\"A\")\n",
    "        working_hand = calc_ace(working_hand, count_A)\n",
    "        if 11 in working_hand[-count_A:]:\n",
    "            return True\n",
    "    return False"
   ]
  },
  {
   "cell_type": "code",
   "execution_count": 9,
   "metadata": {
    "ExecuteTime": {
     "end_time": "2017-02-16T08:43:48.618478",
     "start_time": "2017-02-16T08:43:48.608626"
    },
    "collapsed": false
   },
   "outputs": [
    {
     "name": "stdout",
     "output_type": "stream",
     "text": [
      "['K', 7] False\n",
      "['A', 3, 3] True\n",
      "['A', 'A', 5] True\n",
      "['A', 'A', 'A', 4] True\n"
     ]
    }
   ],
   "source": [
    "for i in [[\"K\", 7], [\"A\", 3, 3], [\"A\", \"A\", 5], [\"A\", \"A\", \"A\", 4]]:\n",
    "    print (i, soft_17(i))"
   ]
  },
  {
   "cell_type": "markdown",
   "metadata": {},
   "source": [
    "# Play game"
   ]
  },
  {
   "cell_type": "code",
   "execution_count": 10,
   "metadata": {
    "ExecuteTime": {
     "end_time": "2017-02-16T08:43:48.632670",
     "start_time": "2017-02-16T08:43:48.621761"
    },
    "collapsed": false
   },
   "outputs": [],
   "source": [
    "def start_game(num_decks=1):\n",
    "    game_deck = GameDeck(num_decks=num_decks)\n",
    "    \n",
    "    d_hand = []\n",
    "    p_hand = []\n",
    "    \n",
    "    game_deck.shuffle_cards()\n",
    "    \n",
    "    for _ in range(2):\n",
    "        game_deck.deal_card(p_hand)\n",
    "        game_deck.deal_card(d_hand)\n",
    "        \n",
    "    return game_deck, p_hand, d_hand"
   ]
  },
  {
   "cell_type": "code",
   "execution_count": 11,
   "metadata": {
    "ExecuteTime": {
     "end_time": "2017-02-16T08:43:48.650137",
     "start_time": "2017-02-16T08:43:48.635861"
    },
    "collapsed": false
   },
   "outputs": [
    {
     "data": {
      "text/plain": [
       "(<__main__.GameDeck at 0x110f32198>, ['K', 9], [2, 'J'])"
      ]
     },
     "execution_count": 11,
     "metadata": {},
     "output_type": "execute_result"
    }
   ],
   "source": [
    "start_game()"
   ]
  },
  {
   "cell_type": "markdown",
   "metadata": {},
   "source": [
    "- strategies\n",
    "    - 0: random\n",
    "    - 1: recommended\n",
    "    - 2: statistical analysis\n",
    "    - 3: machine learning"
   ]
  },
  {
   "cell_type": "code",
   "execution_count": 12,
   "metadata": {
    "ExecuteTime": {
     "end_time": "2017-02-16T08:43:48.670045",
     "start_time": "2017-02-16T08:43:48.652728"
    },
    "collapsed": false
   },
   "outputs": [],
   "source": [
    "def player_turn(game_deck, d_open, p_hand, strategy=0):\n",
    "    new_hand = p_hand.copy()\n",
    "    while calc_points(new_hand) <= 11:\n",
    "        game_deck.deal_card(new_hand)\n",
    "        \n",
    "    if strategy == 0:\n",
    "        while calc_points(new_hand) <= 18:\n",
    "            if np.random.random() <= 0.5:\n",
    "                game_deck.deal_card(new_hand)\n",
    "            else:\n",
    "                break\n",
    "    elif strategy == 1:\n",
    "        while calc_points(new_hand) <= 18:\n",
    "            if d_open <= 6:\n",
    "                game_deck.deal_card(new_hand)\n",
    "            else:\n",
    "                break\n",
    "                \n",
    "    return game_deck, p_hand, new_hand"
   ]
  },
  {
   "cell_type": "code",
   "execution_count": 13,
   "metadata": {
    "ExecuteTime": {
     "end_time": "2017-02-16T08:43:48.683102",
     "start_time": "2017-02-16T08:43:48.673156"
    },
    "collapsed": false
   },
   "outputs": [
    {
     "name": "stdout",
     "output_type": "stream",
     "text": [
      "(<__main__.GameDeck object at 0x10a22b8d0>, [3, 'K'], [3, 'K', 3, 'A', 10])\n",
      "13\n",
      "27\n"
     ]
    }
   ],
   "source": [
    "test = start_game()\n",
    "p_test = player_turn(test[0], test[1][0], test[2])\n",
    "print (p_test)\n",
    "print (calc_points(p_test[1]))\n",
    "print (calc_points(p_test[2]))"
   ]
  },
  {
   "cell_type": "code",
   "execution_count": 14,
   "metadata": {
    "ExecuteTime": {
     "end_time": "2017-02-16T08:43:48.690847",
     "start_time": "2017-02-16T08:43:48.685515"
    },
    "collapsed": false
   },
   "outputs": [],
   "source": [
    "def dealer_turn(game_deck, hand, soft=True):\n",
    "    new_hand = hand.copy()\n",
    "    while calc_points(new_hand) < 17 or soft_17(new_hand):\n",
    "        game_deck.deal_card(new_hand)\n",
    "    \n",
    "    return game_deck, hand, new_hand"
   ]
  },
  {
   "cell_type": "code",
   "execution_count": 15,
   "metadata": {
    "ExecuteTime": {
     "end_time": "2017-02-16T08:43:48.708641",
     "start_time": "2017-02-16T08:43:48.693284"
    },
    "collapsed": false
   },
   "outputs": [
    {
     "name": "stdout",
     "output_type": "stream",
     "text": [
      "(<__main__.GameDeck object at 0x110f405c0>, [4, 9], [4, 9])\n",
      "13\n",
      "13\n",
      "(<__main__.GameDeck object at 0x110f405c0>, ['K', 'A'], ['K', 'A'])\n",
      "21\n",
      "21\n"
     ]
    }
   ],
   "source": [
    "test = start_game()\n",
    "p_test = player_turn(test[0], test[1][0], test[2])\n",
    "print (p_test)\n",
    "print (calc_points(p_test[1]))\n",
    "print (calc_points(p_test[2]))\n",
    "d_test = dealer_turn(p_test[0], test[1])\n",
    "print (d_test)\n",
    "print (calc_points(d_test[1]))\n",
    "print (calc_points(d_test[2]))"
   ]
  },
  {
   "cell_type": "code",
   "execution_count": 16,
   "metadata": {
    "ExecuteTime": {
     "end_time": "2017-02-16T08:43:48.717982",
     "start_time": "2017-02-16T08:43:48.711941"
    },
    "collapsed": false
   },
   "outputs": [],
   "source": [
    "def l_to_s(l):\n",
    "    l = [str(i) for i in l]\n",
    "    return \",\".join(l)"
   ]
  },
  {
   "cell_type": "code",
   "execution_count": 17,
   "metadata": {
    "ExecuteTime": {
     "end_time": "2017-02-16T08:43:48.739566",
     "start_time": "2017-02-16T08:43:48.720656"
    },
    "collapsed": false
   },
   "outputs": [],
   "source": [
    "def play_split(game_deck, p_hand, d_hand, d_open, num_decks, strategy=0):\n",
    "    to_split = np.random.random() <= 0.5\n",
    "    if (strategy == 0 and to_split) or (strategy == 1 and p_hand[0] == 8):\n",
    "        # Splits\n",
    "        split = 1\n",
    "        p_hand_1 = [p_hand[0]]\n",
    "        p_hand_2 = [p_hand[1]]\n",
    "        game_deck.deal_card(p_hand_1)\n",
    "        game_deck.deal_card(p_hand_2)\n",
    "        game_deck, p_hand_1, p_new_hand_1 = player_turn(game_deck, d_open, p_hand_1, strategy=strategy)\n",
    "        game_deck, p_hand_2, p_new_hand_2 = player_turn(game_deck, d_open, p_hand_2, strategy=strategy)\n",
    "\n",
    "        if calc_points(p_new_hand_1) > 21 and calc_points(p_new_hand_2) > 21:\n",
    "            d_new_hand = d_hand.copy()\n",
    "        else:\n",
    "            game_deck, d_hand, d_new_hand = dealer_turn(game_deck, d_hand)\n",
    "\n",
    "        return np.array([np.array([l_to_s(d_hand), l_to_s(d_new_hand), l_to_s(p_hand_1), l_to_s(p_new_hand_1), strategy, split, num_decks]), \n",
    "                np.array([l_to_s(d_hand), l_to_s(d_new_hand), l_to_s(p_hand_2), l_to_s(p_new_hand_2), strategy, split, num_decks])])\n",
    "    else:\n",
    "        return \"No split\""
   ]
  },
  {
   "cell_type": "code",
   "execution_count": 18,
   "metadata": {
    "ExecuteTime": {
     "end_time": "2017-02-16T08:43:48.749452",
     "start_time": "2017-02-16T08:43:48.742163"
    },
    "collapsed": false
   },
   "outputs": [],
   "source": [
    "def card_value(card):\n",
    "    try:\n",
    "        return int(card)\n",
    "    except:\n",
    "        if card == \"A\":\n",
    "            return 1\n",
    "        else:\n",
    "            return 10"
   ]
  },
  {
   "cell_type": "code",
   "execution_count": 19,
   "metadata": {
    "ExecuteTime": {
     "end_time": "2017-02-16T08:43:48.778149",
     "start_time": "2017-02-16T08:43:48.753256"
    },
    "collapsed": false
   },
   "outputs": [],
   "source": [
    "def play_game(num_decks=4, strategy=0):\n",
    "    game_deck, p_hand, d_hand = start_game(num_decks=num_decks)\n",
    "    \n",
    "    d_open = card_value(d_hand[0])\n",
    "    split = 0\n",
    "    if calc_points(p_hand) != 21 and d_hand != 21:\n",
    "        if (p_hand[0] == p_hand[1]):\n",
    "            out = play_split(game_deck, p_hand, d_hand, d_open, num_decks, strategy=strategy)\n",
    "        else:\n",
    "            out = \"No split\"\n",
    "        if type(out) == str:\n",
    "            game_deck, p_hand, p_new_hand = player_turn(game_deck, d_open, p_hand, strategy=strategy)\n",
    "            if calc_points(p_new_hand) > 21:\n",
    "                d_new_hand = d_hand.copy()\n",
    "            else:\n",
    "                game_deck, d_hand, d_new_hand = dealer_turn(game_deck, d_hand)\n",
    "            out = np.array([l_to_s(d_hand), l_to_s(d_new_hand), l_to_s(p_hand), l_to_s(p_new_hand), strategy, split, num_decks])\n",
    "    else:\n",
    "        p_new_hand = p_hand.copy()\n",
    "        d_new_hand = d_hand.copy()\n",
    "        out = np.array([l_to_s(d_hand), l_to_s(d_new_hand), l_to_s(p_hand), l_to_s(p_new_hand), strategy, split, num_decks])\n",
    "    \n",
    "    return out"
   ]
  },
  {
   "cell_type": "code",
   "execution_count": 20,
   "metadata": {
    "ExecuteTime": {
     "end_time": "2017-02-16T08:43:48.786933",
     "start_time": "2017-02-16T08:43:48.780379"
    },
    "collapsed": false
   },
   "outputs": [
    {
     "data": {
      "text/plain": [
       "array(['4,4', '4,4,A', 'K,5', 'K,5,5', '1', '0', '4'], \n",
       "      dtype='<U5')"
      ]
     },
     "execution_count": 20,
     "metadata": {},
     "output_type": "execute_result"
    }
   ],
   "source": [
    "play_game(strategy=1)"
   ]
  },
  {
   "cell_type": "code",
   "execution_count": 21,
   "metadata": {
    "ExecuteTime": {
     "end_time": "2017-02-16T08:43:48.801573",
     "start_time": "2017-02-16T08:43:48.789148"
    },
    "collapsed": false
   },
   "outputs": [
    {
     "name": "stdout",
     "output_type": "stream",
     "text": [
      "[['K,3' 'K,3,J' '4,J' '4,J,7' '0' '1' '4']\n",
      " ['K,3' 'K,3,J' '4,2' '4,2,K' '0' '1' '4']]\n"
     ]
    }
   ],
   "source": [
    "a = play_game()\n",
    "while a.ndim < 2:\n",
    "    a = play_game()\n",
    "print (a)"
   ]
  },
  {
   "cell_type": "code",
   "execution_count": 22,
   "metadata": {
    "ExecuteTime": {
     "end_time": "2017-02-16T08:43:48.812470",
     "start_time": "2017-02-16T08:43:48.804763"
    },
    "collapsed": false
   },
   "outputs": [
    {
     "data": {
      "text/plain": [
       "2"
      ]
     },
     "execution_count": 22,
     "metadata": {},
     "output_type": "execute_result"
    }
   ],
   "source": [
    "a.ndim"
   ]
  },
  {
   "cell_type": "markdown",
   "metadata": {},
   "source": [
    "# Generate cards"
   ]
  },
  {
   "cell_type": "code",
   "execution_count": 23,
   "metadata": {
    "ExecuteTime": {
     "end_time": "2017-02-16T08:43:48.825553",
     "start_time": "2017-02-16T08:43:48.816170"
    },
    "collapsed": false
   },
   "outputs": [],
   "source": [
    "def gen_df(num_games=5000):\n",
    "    data = []\n",
    "    for _ in range(num_games):\n",
    "        a = play_game(strategy=np.random.randint(2))\n",
    "        if a.ndim == 2:\n",
    "            data.extend(a)\n",
    "        else:\n",
    "            data.append(a)\n",
    "            \n",
    "    df = pd.DataFrame(data, columns=[\"d_hand\", \"d_final_hand\", \"p_hand\", \"p_final_hand\", \"strategy\", \"split\", \"num_decks\"])\n",
    "    return df"
   ]
  },
  {
   "cell_type": "markdown",
   "metadata": {},
   "source": [
    "# Add columns"
   ]
  },
  {
   "cell_type": "code",
   "execution_count": 32,
   "metadata": {
    "ExecuteTime": {
     "end_time": "2017-02-16T08:47:48.860464",
     "start_time": "2017-02-16T08:47:48.832339"
    },
    "collapsed": true
   },
   "outputs": [],
   "source": [
    "def add_columns(original):\n",
    "    df = original.copy()\n",
    "    df[\"strategy\"] = df[\"strategy\"].astype(int)\n",
    "    df[\"split\"] = df[\"split\"].astype(int)\n",
    "    df[\"num_decks\"] = df[\"num_decks\"].astype(int)\n",
    "    \n",
    "    df[\"d_open\"] = df[\"d_hand\"].apply(lambda x: card_value(x.split(\",\")[0]))\n",
    "    df[\"d_initial\"] = df[\"d_hand\"].apply(calc_points)\n",
    "    df[\"d_final\"] = df[\"d_final_hand\"].apply(calc_points)\n",
    "    df[\"d_hit\"] = df[\"d_final\"]-df[\"d_initial\"] > 0\n",
    "    df[\"d_hit\"] = df[\"d_hit\"].astype(int)\n",
    "    df[\"d_bust\"] = df[\"d_final\"] > 21\n",
    "    df[\"d_bust\"] = df[\"d_bust\"].astype(int)\n",
    "    \n",
    "    df[\"p_initial\"] = df[\"p_hand\"].apply(calc_points)\n",
    "    df[\"p_final\"] = df[\"p_final_hand\"].apply(calc_points)\n",
    "    df[\"p_hit\"] = df[\"p_final\"]-df[\"p_initial\"] > 0\n",
    "    df[\"p_hit\"] = df[\"p_hit\"].astype(int)\n",
    "    df[\"p_bust\"] = df[\"p_final\"] > 21\n",
    "    df[\"p_bust\"] = df[\"p_bust\"].astype(int)\n",
    "    \n",
    "    df[\"p_win\"] = (df[\"p_final\"] > df[\"d_final\"]) & (df[\"p_bust\"] == 0) | (df[\"d_bust\"] == 1)\n",
    "    df[\"p_win\"] = df[\"p_win\"].astype(int)\n",
    "    \n",
    "    del df[\"d_hand\"]\n",
    "    del df[\"p_hand\"]\n",
    "    \n",
    "    return df"
   ]
  },
  {
   "cell_type": "markdown",
   "metadata": {},
   "source": [
    "# Generate CSVs"
   ]
  },
  {
   "cell_type": "code",
   "execution_count": 34,
   "metadata": {
    "ExecuteTime": {
     "end_time": "2017-02-16T08:48:32.604214",
     "start_time": "2017-02-16T08:48:32.014002"
    },
    "collapsed": false
   },
   "outputs": [],
   "source": [
    "df = gen_df()\n",
    "\n",
    "try:\n",
    "    old_df = pd.read_csv(\"cards.csv\")\n",
    "    df = pd.concat([df, old_df])\n",
    "except:\n",
    "    pass\n",
    "df.to_csv(\"cards.csv\", index=False)"
   ]
  },
  {
   "cell_type": "code",
   "execution_count": 35,
   "metadata": {
    "ExecuteTime": {
     "end_time": "2017-02-16T08:48:33.115240",
     "start_time": "2017-02-16T08:48:33.039957"
    },
    "collapsed": false
   },
   "outputs": [],
   "source": [
    "df = pd.read_csv(\"cards.csv\")"
   ]
  },
  {
   "cell_type": "code",
   "execution_count": 36,
   "metadata": {
    "ExecuteTime": {
     "end_time": "2017-02-16T08:48:33.603137",
     "start_time": "2017-02-16T08:48:33.597433"
    },
    "collapsed": false
   },
   "outputs": [
    {
     "data": {
      "text/plain": [
       "(66357, 7)"
      ]
     },
     "execution_count": 36,
     "metadata": {},
     "output_type": "execute_result"
    }
   ],
   "source": [
    "df.shape"
   ]
  },
  {
   "cell_type": "code",
   "execution_count": 37,
   "metadata": {
    "ExecuteTime": {
     "end_time": "2017-02-16T08:48:35.341353",
     "start_time": "2017-02-16T08:48:34.340636"
    },
    "collapsed": true
   },
   "outputs": [],
   "source": [
    "df2 = add_columns(df)"
   ]
  },
  {
   "cell_type": "code",
   "execution_count": 38,
   "metadata": {
    "ExecuteTime": {
     "end_time": "2017-02-16T08:48:36.509319",
     "start_time": "2017-02-16T08:48:35.829370"
    },
    "collapsed": true
   },
   "outputs": [],
   "source": [
    "df2.to_csv(\"blackjack_data.csv\", index=False)"
   ]
  },
  {
   "cell_type": "code",
   "execution_count": null,
   "metadata": {
    "collapsed": true
   },
   "outputs": [],
   "source": []
  }
 ],
 "metadata": {
  "anaconda-cloud": {},
  "kernelspec": {
   "display_name": "Python [conda env:py36]",
   "language": "python",
   "name": "conda-env-py36-py"
  },
  "language_info": {
   "codemirror_mode": {
    "name": "ipython",
    "version": 3
   },
   "file_extension": ".py",
   "mimetype": "text/x-python",
   "name": "python",
   "nbconvert_exporter": "python",
   "pygments_lexer": "ipython3",
   "version": "3.6.0"
  },
  "toc": {
   "nav_menu": {
    "height": "138px",
    "width": "252px"
   },
   "navigate_menu": true,
   "number_sections": true,
   "sideBar": true,
   "threshold": 4,
   "toc_cell": false,
   "toc_section_display": "block",
   "toc_window_display": false
  }
 },
 "nbformat": 4,
 "nbformat_minor": 1
}
