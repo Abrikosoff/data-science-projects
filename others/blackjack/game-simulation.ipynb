{
 "cells": [
  {
   "cell_type": "code",
   "execution_count": 1,
   "metadata": {
    "ExecuteTime": {
     "end_time": "2017-02-05T22:31:57.582493",
     "start_time": "2017-02-05T22:31:52.963102"
    },
    "collapsed": false
   },
   "outputs": [],
   "source": [
    "import pandas as pd\n",
    "import numpy as np"
   ]
  },
  {
   "cell_type": "markdown",
   "metadata": {},
   "source": [
    "# Deck"
   ]
  },
  {
   "cell_type": "markdown",
   "metadata": {},
   "source": [
    "## Requirement"
   ]
  },
  {
   "cell_type": "markdown",
   "metadata": {},
   "source": [
    "- suits not required\n",
    "- multiple decks\n",
    "- need to be able to shuffle the deck\n",
    "- need to draw a card from the deck"
   ]
  },
  {
   "cell_type": "markdown",
   "metadata": {},
   "source": [
    "## Plan"
   ]
  },
  {
   "cell_type": "markdown",
   "metadata": {},
   "source": [
    "- class: deck\n",
    "    - can take number of decks as a variable\n",
    "    - default 1 deck\n",
    "- method: shuffle\n",
    "- method: deal\n",
    "- attribute: list of all the cards in the 'deck'"
   ]
  },
  {
   "cell_type": "markdown",
   "metadata": {},
   "source": [
    "## Code"
   ]
  },
  {
   "cell_type": "code",
   "execution_count": 172,
   "metadata": {
    "ExecuteTime": {
     "end_time": "2017-02-05T23:38:23.248081",
     "start_time": "2017-02-05T23:38:23.235167"
    },
    "collapsed": false
   },
   "outputs": [],
   "source": [
    "class Deck():\n",
    "    values = [\"A\", 2, 3, 4, 5, 6, 7, 8, 9, 10, \"J\", \"Q\", \"K\"]\n",
    "    def __init__(self, num_decks=1, values=values):\n",
    "        # Multiply values by number of suits\n",
    "        # Then by number of decks\n",
    "        self.num_decks = num_decks\n",
    "        self.deck = values * 4 * self.num_decks\n",
    "        \n",
    "    def __str__(self):\n",
    "        return \"{} decks, {} cards left\".format(self.num_decks, len(self.deck))\n",
    "    \n",
    "    def shuffle(self):\n",
    "        np.random.shuffle(self.deck)\n",
    "    \n",
    "    def deal(self, hand=None):\n",
    "        if hand == None:\n",
    "            return self.deck.pop(0)\n",
    "        else:\n",
    "            hand.append(self.deck.pop(0))"
   ]
  },
  {
   "cell_type": "code",
   "execution_count": 21,
   "metadata": {
    "ExecuteTime": {
     "end_time": "2017-02-05T22:40:37.200367",
     "start_time": "2017-02-05T22:40:37.193113"
    },
    "collapsed": false
   },
   "outputs": [
    {
     "name": "stdout",
     "output_type": "stream",
     "text": [
      "1 decks, 52 cards left\n",
      "['A', 2, 3, 4, 5, 6, 7, 8, 9, 10, 'J', 'Q', 'K', 'A', 2, 3, 4, 5, 6, 7, 8, 9, 10, 'J', 'Q', 'K', 'A', 2, 3, 4, 5, 6, 7, 8, 9, 10, 'J', 'Q', 'K', 'A', 2, 3, 4, 5, 6, 7, 8, 9, 10, 'J', 'Q', 'K']\n",
      "A\n",
      "[2, 3, 4, 5, 6, 7, 8, 9, 10, 'J', 'Q', 'K', 'A', 2, 3, 4, 5, 6, 7, 8, 9, 10, 'J', 'Q', 'K', 'A', 2, 3, 4, 5, 6, 7, 8, 9, 10, 'J', 'Q', 'K', 'A', 2, 3, 4, 5, 6, 7, 8, 9, 10, 'J', 'Q', 'K']\n"
     ]
    }
   ],
   "source": [
    "test = Deck()\n",
    "print (test)\n",
    "print (test.deck)\n",
    "print (test.deal())\n",
    "print (test.deck)"
   ]
  },
  {
   "cell_type": "markdown",
   "metadata": {},
   "source": [
    "# Calculate points"
   ]
  },
  {
   "cell_type": "markdown",
   "metadata": {},
   "source": [
    "## Requirement"
   ]
  },
  {
   "cell_type": "markdown",
   "metadata": {},
   "source": [
    "- Take a hand\n",
    "- Calculate how many points there are in the hand\n",
    "    - J, Q, K are 10\n",
    "    - Ace could be 1 or 11\n",
    "        - How do we decide?\n",
    "        - If 11 doesn't bust, then 11, else 1\n",
    "            - We have to calculate the rest of the cards first"
   ]
  },
  {
   "cell_type": "markdown",
   "metadata": {},
   "source": [
    "## Plan"
   ]
  },
  {
   "cell_type": "markdown",
   "metadata": {},
   "source": [
    "- Remove Aces in the hand\n",
    "    - Track how many Aces there were\n",
    "- Count J, Q, K as 10"
   ]
  },
  {
   "cell_type": "markdown",
   "metadata": {},
   "source": [
    "## Code"
   ]
  },
  {
   "cell_type": "code",
   "execution_count": 22,
   "metadata": {
    "ExecuteTime": {
     "end_time": "2017-02-05T22:40:45.899472",
     "start_time": "2017-02-05T22:40:45.888070"
    },
    "collapsed": false
   },
   "outputs": [],
   "source": [
    "def calculate_points(hand):\n",
    "    points = 0\n",
    "    num_ace = 0\n",
    "    \n",
    "    # Deal with aces\n",
    "    while \"A\" in hand:\n",
    "        hand.remove(\"A\")\n",
    "        num_ace += 1\n",
    "    \n",
    "    # Deal with the rest of the hand\n",
    "    for i in hand:\n",
    "        try:\n",
    "            # If it's a number, add it to points\n",
    "            points += i\n",
    "        except:\n",
    "            # If it's not a number, it's a 10\n",
    "            points += 10\n",
    "            \n",
    "    # deal with the aces\n",
    "    for i in range(num_ace):\n",
    "        if points + 11 <= 21:\n",
    "            points += 11\n",
    "        else:\n",
    "            points += 1\n",
    "    return points"
   ]
  },
  {
   "cell_type": "code",
   "execution_count": 23,
   "metadata": {
    "ExecuteTime": {
     "end_time": "2017-02-05T22:40:46.287643",
     "start_time": "2017-02-05T22:40:46.280937"
    },
    "collapsed": false
   },
   "outputs": [
    {
     "data": {
      "text/plain": [
       "21"
      ]
     },
     "execution_count": 23,
     "metadata": {},
     "output_type": "execute_result"
    }
   ],
   "source": [
    "calculate_points([5, 5, \"A\"])"
   ]
  },
  {
   "cell_type": "markdown",
   "metadata": {},
   "source": [
    "# Simulate game"
   ]
  },
  {
   "cell_type": "markdown",
   "metadata": {},
   "source": [
    "## Requirements"
   ]
  },
  {
   "cell_type": "markdown",
   "metadata": {},
   "source": [
    "- play one game\n",
    "- return the data we need"
   ]
  },
  {
   "cell_type": "code",
   "execution_count": 156,
   "metadata": {
    "ExecuteTime": {
     "end_time": "2017-02-05T23:06:20.091524",
     "start_time": "2017-02-05T23:06:20.073070"
    },
    "collapsed": false
   },
   "outputs": [
    {
     "data": {
      "text/html": [
       "<div>\n",
       "<table border=\"1\" class=\"dataframe\">\n",
       "  <thead>\n",
       "    <tr style=\"text-align: right;\">\n",
       "      <th></th>\n",
       "      <th>Feature</th>\n",
       "      <th>Type</th>\n",
       "      <th>Description</th>\n",
       "    </tr>\n",
       "  </thead>\n",
       "  <tbody>\n",
       "    <tr>\n",
       "      <th>0</th>\n",
       "      <td>num_decks</td>\n",
       "      <td>Int</td>\n",
       "      <td>Number of decks used</td>\n",
       "    </tr>\n",
       "    <tr>\n",
       "      <th>1</th>\n",
       "      <td>dealer_open</td>\n",
       "      <td>Int</td>\n",
       "      <td>The card we can see</td>\n",
       "    </tr>\n",
       "    <tr>\n",
       "      <th>2</th>\n",
       "      <td>dealer_initial</td>\n",
       "      <td>Int</td>\n",
       "      <td>The dealer's starting points</td>\n",
       "    </tr>\n",
       "    <tr>\n",
       "      <th>3</th>\n",
       "      <td>dealer_hit</td>\n",
       "      <td>Binary</td>\n",
       "      <td>1 - dealer hit, 0 - dealer did not hit</td>\n",
       "    </tr>\n",
       "    <tr>\n",
       "      <th>4</th>\n",
       "      <td>dealer_num_hits</td>\n",
       "      <td>Int</td>\n",
       "      <td>Number of times the dealer hit</td>\n",
       "    </tr>\n",
       "    <tr>\n",
       "      <th>5</th>\n",
       "      <td>dealer_final</td>\n",
       "      <td>Int</td>\n",
       "      <td>The dealer's final points</td>\n",
       "    </tr>\n",
       "    <tr>\n",
       "      <th>6</th>\n",
       "      <td>dealer_busts</td>\n",
       "      <td>Binary</td>\n",
       "      <td>1 - dealer busts, 0 - dealer did not bust</td>\n",
       "    </tr>\n",
       "    <tr>\n",
       "      <th>7</th>\n",
       "      <td>dealer_hand</td>\n",
       "      <td>Obj</td>\n",
       "      <td>List of the dealer's cards, in the order that ...</td>\n",
       "    </tr>\n",
       "    <tr>\n",
       "      <th>8</th>\n",
       "      <td>player_inital</td>\n",
       "      <td>Int</td>\n",
       "      <td>The player's starting points</td>\n",
       "    </tr>\n",
       "    <tr>\n",
       "      <th>9</th>\n",
       "      <td>player_hit</td>\n",
       "      <td>Binary</td>\n",
       "      <td>1 - player hit, 0 - player did not hit</td>\n",
       "    </tr>\n",
       "    <tr>\n",
       "      <th>10</th>\n",
       "      <td>player_num_hits</td>\n",
       "      <td>Int</td>\n",
       "      <td>Number of times the player hit</td>\n",
       "    </tr>\n",
       "    <tr>\n",
       "      <th>11</th>\n",
       "      <td>player_final</td>\n",
       "      <td>Int</td>\n",
       "      <td>The player's final points</td>\n",
       "    </tr>\n",
       "    <tr>\n",
       "      <th>12</th>\n",
       "      <td>player_busts</td>\n",
       "      <td>Binary</td>\n",
       "      <td>1 - player busts, 0 - player did not bust</td>\n",
       "    </tr>\n",
       "    <tr>\n",
       "      <th>13</th>\n",
       "      <td>player_hand</td>\n",
       "      <td>Obj</td>\n",
       "      <td>List of the player's cards, in the order that ...</td>\n",
       "    </tr>\n",
       "    <tr>\n",
       "      <th>14</th>\n",
       "      <td>player_loses</td>\n",
       "      <td>Binary</td>\n",
       "      <td>1 - player lost, 0 - player did not lose</td>\n",
       "    </tr>\n",
       "    <tr>\n",
       "      <th>15</th>\n",
       "      <td>draw</td>\n",
       "      <td>Binary</td>\n",
       "      <td>1 - draw, 0 - not a draw</td>\n",
       "    </tr>\n",
       "    <tr>\n",
       "      <th>16</th>\n",
       "      <td>player_wins</td>\n",
       "      <td>Binary</td>\n",
       "      <td>1 - player won, 0 - player did not win</td>\n",
       "    </tr>\n",
       "    <tr>\n",
       "      <th>17</th>\n",
       "      <td>strategy</td>\n",
       "      <td>Binary</td>\n",
       "      <td>1 - recommended, 0 - random</td>\n",
       "    </tr>\n",
       "  </tbody>\n",
       "</table>\n",
       "</div>"
      ],
      "text/plain": [
       "            Feature    Type                                        Description\n",
       "0         num_decks     Int                               Number of decks used\n",
       "1       dealer_open     Int                                The card we can see\n",
       "2    dealer_initial     Int                       The dealer's starting points\n",
       "3        dealer_hit  Binary             1 - dealer hit, 0 - dealer did not hit\n",
       "4   dealer_num_hits     Int                     Number of times the dealer hit\n",
       "5      dealer_final     Int                          The dealer's final points\n",
       "6      dealer_busts  Binary          1 - dealer busts, 0 - dealer did not bust\n",
       "7       dealer_hand     Obj  List of the dealer's cards, in the order that ...\n",
       "8     player_inital     Int                       The player's starting points\n",
       "9        player_hit  Binary             1 - player hit, 0 - player did not hit\n",
       "10  player_num_hits     Int                     Number of times the player hit\n",
       "11     player_final     Int                          The player's final points\n",
       "12     player_busts  Binary          1 - player busts, 0 - player did not bust\n",
       "13      player_hand     Obj  List of the player's cards, in the order that ...\n",
       "14     player_loses  Binary           1 - player lost, 0 - player did not lose\n",
       "15             draw  Binary                           1 - draw, 0 - not a draw\n",
       "16      player_wins  Binary             1 - player won, 0 - player did not win\n",
       "17         strategy  Binary                        1 - recommended, 0 - random"
      ]
     },
     "execution_count": 156,
     "metadata": {},
     "output_type": "execute_result"
    }
   ],
   "source": [
    "data_dictionary = pd.read_csv(\"data_dictionary.csv\")\n",
    "data_dictionary"
   ]
  },
  {
   "cell_type": "markdown",
   "metadata": {},
   "source": [
    "## Outcomes"
   ]
  },
  {
   "cell_type": "markdown",
   "metadata": {},
   "source": [
    "- player gets blackjack, dealer didn't\n",
    "    - player wins\n",
    "- dealer gets blackjack, player didn't\n",
    "    - player loses\n",
    "- player hits and busts\n",
    "    - player loses\n",
    "- player hits, dealer hits and busts\n",
    "    - player wins\n",
    "- player hits, dealer hits/ dealer >= hard 17\n",
    "    - player > dealer\n",
    "        - player wins\n",
    "    - player < dealer\n",
    "        - player loses\n",
    "    - player == dealer\n",
    "        - draw"
   ]
  },
  {
   "cell_type": "markdown",
   "metadata": {},
   "source": [
    "## Plan"
   ]
  },
  {
   "cell_type": "markdown",
   "metadata": {},
   "source": [
    "- create deck\n",
    "- deal initial hand\n",
    "- check if anyone has a blackjack\n",
    "- no blackjacks, player goes first\n",
    "    - in any case, if player has anything <= 11, hit\n",
    "    - if anything 12 or higher\n",
    "        - random\n",
    "            - randomize whether to hit or not if smaller than 18\n",
    "        - recommended\n",
    "            - if dealer showing <= 6 and player <= 16, hit\n",
    "- once player is done, dealer goes\n",
    "    - if dealer has anything smaller than 17, he must hit\n",
    "    - if dealer has a soft 17, he must hit"
   ]
  },
  {
   "cell_type": "code",
   "execution_count": 173,
   "metadata": {
    "ExecuteTime": {
     "end_time": "2017-02-05T23:38:28.307716",
     "start_time": "2017-02-05T23:38:28.203673"
    },
    "collapsed": false
   },
   "outputs": [],
   "source": [
    "def sim_game(num_decks=1, strategy=0):\n",
    "    game_deck = Deck(num_decks=num_decks)\n",
    "    game_deck.shuffle()\n",
    "    \n",
    "    dealer_hand = []\n",
    "    player_hand = []\n",
    "    \n",
    "    # deal 2 cards each\n",
    "    for i in range(2):\n",
    "        game_deck.deal(player_hand)\n",
    "        game_deck.deal(dealer_hand)\n",
    "        \n",
    "    # get their initial points\n",
    "    # copy so that our hand is not changed\n",
    "    player_initial = calculate_points(player_hand.copy())\n",
    "    dealer_initial = calculate_points(dealer_hand.copy())\n",
    "    \n",
    "    # get dealer open card\n",
    "    dealer_open = dealer_hand[0]\n",
    "    \n",
    "    # Change it to numerics\n",
    "    if dealer_open in [\"J\", \"Q\", \"K\"]:\n",
    "        dealer_open = 10\n",
    "    elif dealer_open == \"A\":\n",
    "        dealer_open = 1\n",
    "    \n",
    "    dealer_hit = 0\n",
    "    dealer_num_hits = 0\n",
    "    player_hit = 0\n",
    "    player_num_hits = 0\n",
    "    player_busts = 0\n",
    "    dealer_busts = 0\n",
    "    dealer_final = calculate_points(dealer_hand.copy())\n",
    "    player_final = calculate_points(player_hand.copy())\n",
    "\n",
    "    \n",
    "    # if anyone got a blackjack, the game should end\n",
    "    if player_initial != 21 and dealer_initial != 21:\n",
    "        # if neither of them got a blackjack game continues\n",
    "        # the player goes first\n",
    "        \n",
    "        # If player <= 11, hit\n",
    "        while calculate_points(player_hand.copy()) <= 11:\n",
    "            player_hit += 1\n",
    "            game_deck.deal(player_hand)\n",
    "        \n",
    "        # If strategy is random, randomize hit for 18 and below\n",
    "        if strategy == 0:\n",
    "            while calculate_points(player_hand.copy()) <= 18:\n",
    "                if np.random.random() < 0.5:\n",
    "                    player_hit += 1\n",
    "                    game_deck.deal(player_hand)\n",
    "        # If strategy is recommended, stand on 17 and above\n",
    "        else:\n",
    "            while calculate_points(player_hand.copy()) <= 16:\n",
    "                if dealer_open <= 6:\n",
    "                    player_hit += 1\n",
    "                    game_deck.deal(player_hand)\n",
    "        \n",
    "        # update player's final\n",
    "        player_final = calculate_points(player_hand.copy())\n",
    "        \n",
    "        # dealer's turn\n",
    "        \n",
    "        # If dealer < 17, hit\n",
    "        while calculate_points(dealer_hand.copy()) < 17:\n",
    "            dealer_hit += 1\n",
    "            game_deck.deal(dealer_hand)\n",
    "            \n",
    "        # If dealer has a soft 17, hit\n",
    "        if calculate_points(dealer_hand.copy()) == 17:\n",
    "            if \"A\" in dealer_hand:\n",
    "                dealer_copy = dealer_hand.copy()\n",
    "                dealer_copy.remove(\"A\")\n",
    "                if calculate_points(dealer_copy.copy()) == 6:\n",
    "                    dealer_hit += 1\n",
    "                    game_deck.deal(dealer_hand)\n",
    "        \n",
    "        # update dealer's final\n",
    "        dealer_final = calculate_points(dealer_hand.copy())\n",
    "        \n",
    "    player_loses = 0\n",
    "    draw = 0\n",
    "    player_wins = 0\n",
    "    \n",
    "    # Check who wins\n",
    "    if player_initial == 21 and dealer_initial != 21:\n",
    "        player_wins = 1\n",
    "    elif dealer_initial == 21 and player_initial != 21:\n",
    "        player_loses = 1\n",
    "    elif player_busts:\n",
    "        player_loses = 1\n",
    "    elif dealer_busts:\n",
    "        player_wins = 1\n",
    "    elif player_final > dealer_final:\n",
    "        player_wins = 1\n",
    "    elif player_final < dealer_final:\n",
    "        player_loses = 1\n",
    "    elif player_final == dealer_final:\n",
    "        draw = 1\n",
    "    \n",
    "    return [num_decks, dealer_open, dealer_initial, dealer_hit, dealer_num_hits, dealer_final, dealer_busts, dealer_hand, \\\n",
    "            player_initial, player_hit, player_num_hits, player_final, player_busts, player_hand, \\\n",
    "            player_loses, draw, player_wins, strategy]"
   ]
  },
  {
   "cell_type": "code",
   "execution_count": 174,
   "metadata": {
    "ExecuteTime": {
     "end_time": "2017-02-05T23:38:29.558880",
     "start_time": "2017-02-05T23:38:29.553905"
    },
    "collapsed": false
   },
   "outputs": [
    {
     "name": "stdout",
     "output_type": "stream",
     "text": [
      "[1, 10, 14, 2, 0, 20, 0, [10, 4, 2, 4], 14, 3, 0, 20, 0, ['A', 3, 9, 'A', 6], 0, 1, 0, 0]\n"
     ]
    }
   ],
   "source": [
    "print (sim_game())"
   ]
  },
  {
   "cell_type": "markdown",
   "metadata": {},
   "source": [
    "# Generate a dataframe"
   ]
  },
  {
   "cell_type": "markdown",
   "metadata": {},
   "source": [
    "## Requirements"
   ]
  },
  {
   "cell_type": "markdown",
   "metadata": {},
   "source": [
    "- run sim_game() for some number of times and save the output to a df\n",
    "- maybe also track the number of decks we use?"
   ]
  },
  {
   "cell_type": "code",
   "execution_count": 175,
   "metadata": {
    "ExecuteTime": {
     "end_time": "2017-02-05T23:38:32.360314",
     "start_time": "2017-02-05T23:38:32.353267"
    },
    "collapsed": false
   },
   "outputs": [],
   "source": [
    "def gen_df(num_decks=1, df_size=5000):\n",
    "    data = []\n",
    "    for i in range(df_size//2):\n",
    "        data.append(sim_game(num_decks=num_decks, strategy=0))\n",
    "    for i in range(df_size//2):\n",
    "        data.append(sim_game(num_decks=num_decks, strategy=1))\n",
    "                   \n",
    "    return pd.DataFrame(data, columns=data_dictionary.Feature.values)"
   ]
  },
  {
   "cell_type": "code",
   "execution_count": null,
   "metadata": {
    "ExecuteTime": {
     "start_time": "2017-02-06T04:38:34.273Z"
    },
    "collapsed": false
   },
   "outputs": [],
   "source": [
    "df = gen_df(num_decks=4)"
   ]
  },
  {
   "cell_type": "markdown",
   "metadata": {},
   "source": [
    "# Testing our code"
   ]
  },
  {
   "cell_type": "code",
   "execution_count": null,
   "metadata": {
    "collapsed": false
   },
   "outputs": [],
   "source": [
    "# When player_loses = 1, draw = 0, player_wins = 0\n",
    "# When player_loses = 0, draw = 1, player_wins = 0\n",
    "# When player_loses = 0, draw = 0, player_wins = 1\n",
    "# When dealer_busts = 1, player_loses = 0, draw = 0, player_wins = 1\n",
    "# When player_busts = 1, player_loses = 1, draw = 0, player_wins = 0, dealer_hit = 0, dealer_busts = 0\n",
    "# When dealer_busts = 0 and player_busts = 0, if player_final > dealer final, player_loses = 0, draw = 0, player_wins = 1\n",
    "# When dealer_busts = 0 and player_busts = 0, if player_final = dealer final, player_loses = 0, draw = 1, player_wins = 0\n",
    "# When dealer_busts = 0 and player_busts = 0, if player_final < dealer final, player_loses = 1, draw = 0, player_wins = 0"
   ]
  }
 ],
 "metadata": {
  "anaconda-cloud": {},
  "kernelspec": {
   "display_name": "Python [conda env:py36]",
   "language": "python",
   "name": "conda-env-py36-py"
  },
  "language_info": {
   "codemirror_mode": {
    "name": "ipython",
    "version": 3
   },
   "file_extension": ".py",
   "mimetype": "text/x-python",
   "name": "python",
   "nbconvert_exporter": "python",
   "pygments_lexer": "ipython3",
   "version": "3.6.0"
  },
  "toc": {
   "nav_menu": {
    "height": "228px",
    "width": "252px"
   },
   "navigate_menu": true,
   "number_sections": true,
   "sideBar": true,
   "threshold": 4,
   "toc_cell": false,
   "toc_section_display": "block",
   "toc_window_display": false
  }
 },
 "nbformat": 4,
 "nbformat_minor": 1
}
