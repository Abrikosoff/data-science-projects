{
 "cells": [
  {
   "cell_type": "code",
   "execution_count": 3,
   "metadata": {
    "ExecuteTime": {
     "end_time": "2017-02-08T21:08:27.134549",
     "start_time": "2017-02-08T21:08:23.320623"
    },
    "collapsed": false
   },
   "outputs": [],
   "source": [
    "import pandas as pd\n",
    "import numpy as np"
   ]
  },
  {
   "cell_type": "markdown",
   "metadata": {},
   "source": [
    "# Deck"
   ]
  },
  {
   "cell_type": "markdown",
   "metadata": {},
   "source": [
    "## Requirement"
   ]
  },
  {
   "cell_type": "markdown",
   "metadata": {},
   "source": [
    "- suits not required\n",
    "- multiple decks\n",
    "- need to be able to shuffle the deck\n",
    "- need to draw a card from the deck"
   ]
  },
  {
   "cell_type": "markdown",
   "metadata": {},
   "source": [
    "## Plan"
   ]
  },
  {
   "cell_type": "markdown",
   "metadata": {},
   "source": [
    "- class: deck\n",
    "    - can take number of decks as a variable\n",
    "    - default 1 deck\n",
    "- method: shuffle\n",
    "- method: deal\n",
    "- attribute: list of all the cards in the 'deck'"
   ]
  },
  {
   "cell_type": "markdown",
   "metadata": {},
   "source": [
    "## Code"
   ]
  },
  {
   "cell_type": "code",
   "execution_count": 4,
   "metadata": {
    "ExecuteTime": {
     "end_time": "2017-02-08T21:08:27.152897",
     "start_time": "2017-02-08T21:08:27.136942"
    },
    "collapsed": false
   },
   "outputs": [],
   "source": [
    "class Deck():\n",
    "    values = [\"A\", 2, 3, 4, 5, 6, 7, 8, 9, 10, \"J\", \"Q\", \"K\"]\n",
    "    def __init__(self, num_decks=1, values=values):\n",
    "        # Multiply values by number of suits\n",
    "        # Then by number of decks\n",
    "        self.num_decks = num_decks\n",
    "        self.deck = values * 4 * self.num_decks\n",
    "        \n",
    "    def __str__(self):\n",
    "        return \"{} decks, {} cards left\".format(self.num_decks, len(self.deck))\n",
    "    \n",
    "    def shuffle(self):\n",
    "        np.random.shuffle(self.deck)\n",
    "    \n",
    "    def deal(self, hand=None):\n",
    "        if hand == None:\n",
    "            return self.deck.pop(0)\n",
    "        else:\n",
    "            hand.append(self.deck.pop(0))"
   ]
  },
  {
   "cell_type": "code",
   "execution_count": 5,
   "metadata": {
    "ExecuteTime": {
     "end_time": "2017-02-08T21:08:27.164698",
     "start_time": "2017-02-08T21:08:27.156329"
    },
    "collapsed": false
   },
   "outputs": [
    {
     "name": "stdout",
     "output_type": "stream",
     "text": [
      "1 decks, 52 cards left\n",
      "['A', 2, 3, 4, 5, 6, 7, 8, 9, 10, 'J', 'Q', 'K', 'A', 2, 3, 4, 5, 6, 7, 8, 9, 10, 'J', 'Q', 'K', 'A', 2, 3, 4, 5, 6, 7, 8, 9, 10, 'J', 'Q', 'K', 'A', 2, 3, 4, 5, 6, 7, 8, 9, 10, 'J', 'Q', 'K']\n",
      "A\n",
      "[2, 3, 4, 5, 6, 7, 8, 9, 10, 'J', 'Q', 'K', 'A', 2, 3, 4, 5, 6, 7, 8, 9, 10, 'J', 'Q', 'K', 'A', 2, 3, 4, 5, 6, 7, 8, 9, 10, 'J', 'Q', 'K', 'A', 2, 3, 4, 5, 6, 7, 8, 9, 10, 'J', 'Q', 'K']\n"
     ]
    }
   ],
   "source": [
    "test = Deck()\n",
    "print (test)\n",
    "print (test.deck)\n",
    "print (test.deal())\n",
    "print (test.deck)"
   ]
  },
  {
   "cell_type": "markdown",
   "metadata": {},
   "source": [
    "# Calculate points"
   ]
  },
  {
   "cell_type": "markdown",
   "metadata": {},
   "source": [
    "## Requirement"
   ]
  },
  {
   "cell_type": "markdown",
   "metadata": {},
   "source": [
    "- Take a hand\n",
    "- Calculate how many points there are in the hand\n",
    "    - J, Q, K are 10\n",
    "    - Ace could be 1 or 11\n",
    "        - How do we decide?\n",
    "        - If 11 doesn't bust, then 11, else 1\n",
    "            - We have to calculate the rest of the cards first"
   ]
  },
  {
   "cell_type": "markdown",
   "metadata": {},
   "source": [
    "## Plan"
   ]
  },
  {
   "cell_type": "markdown",
   "metadata": {},
   "source": [
    "- Remove Aces in the hand\n",
    "    - Track how many Aces there were\n",
    "- Count J, Q, K as 10"
   ]
  },
  {
   "cell_type": "markdown",
   "metadata": {},
   "source": [
    "## Code"
   ]
  },
  {
   "cell_type": "code",
   "execution_count": 6,
   "metadata": {
    "ExecuteTime": {
     "end_time": "2017-02-08T21:08:27.184744",
     "start_time": "2017-02-08T21:08:27.167772"
    },
    "collapsed": false
   },
   "outputs": [],
   "source": [
    "def calculate_points(hand):\n",
    "    points = 0\n",
    "    num_ace = 0\n",
    "    \n",
    "    # Deal with aces\n",
    "    while \"A\" in hand:\n",
    "        hand.remove(\"A\")\n",
    "        num_ace += 1\n",
    "    \n",
    "    # Deal with the rest of the hand\n",
    "    for i in hand:\n",
    "        try:\n",
    "            # If it's a number, add it to points\n",
    "            points += i\n",
    "        except:\n",
    "            # If it's not a number, it's a 10\n",
    "            points += 10\n",
    "            \n",
    "    # deal with the aces\n",
    "    for i in range(num_ace):\n",
    "        if points + 11 <= 21:\n",
    "            points += 11\n",
    "        else:\n",
    "            points += 1\n",
    "    return points"
   ]
  },
  {
   "cell_type": "code",
   "execution_count": 7,
   "metadata": {
    "ExecuteTime": {
     "end_time": "2017-02-08T21:08:27.203414",
     "start_time": "2017-02-08T21:08:27.187548"
    },
    "collapsed": false
   },
   "outputs": [
    {
     "data": {
      "text/plain": [
       "21"
      ]
     },
     "execution_count": 7,
     "metadata": {},
     "output_type": "execute_result"
    }
   ],
   "source": [
    "calculate_points([5, 5, \"A\"])"
   ]
  },
  {
   "cell_type": "markdown",
   "metadata": {},
   "source": [
    "# Simulate game"
   ]
  },
  {
   "cell_type": "markdown",
   "metadata": {},
   "source": [
    "## Requirements"
   ]
  },
  {
   "cell_type": "markdown",
   "metadata": {},
   "source": [
    "- play one game\n",
    "- return the data we need"
   ]
  },
  {
   "cell_type": "code",
   "execution_count": 8,
   "metadata": {
    "ExecuteTime": {
     "end_time": "2017-02-08T21:08:27.349758",
     "start_time": "2017-02-08T21:08:27.206335"
    },
    "collapsed": false
   },
   "outputs": [
    {
     "data": {
      "text/html": [
       "<div>\n",
       "<table border=\"1\" class=\"dataframe\">\n",
       "  <thead>\n",
       "    <tr style=\"text-align: right;\">\n",
       "      <th></th>\n",
       "      <th>Feature</th>\n",
       "      <th>Type</th>\n",
       "      <th>Description</th>\n",
       "    </tr>\n",
       "  </thead>\n",
       "  <tbody>\n",
       "    <tr>\n",
       "      <th>0</th>\n",
       "      <td>num_decks</td>\n",
       "      <td>Int</td>\n",
       "      <td>Number of decks used</td>\n",
       "    </tr>\n",
       "    <tr>\n",
       "      <th>1</th>\n",
       "      <td>dealer_open</td>\n",
       "      <td>Int</td>\n",
       "      <td>The card we can see</td>\n",
       "    </tr>\n",
       "    <tr>\n",
       "      <th>2</th>\n",
       "      <td>dealer_initial</td>\n",
       "      <td>Int</td>\n",
       "      <td>The dealer's starting points</td>\n",
       "    </tr>\n",
       "    <tr>\n",
       "      <th>3</th>\n",
       "      <td>dealer_hit</td>\n",
       "      <td>Binary</td>\n",
       "      <td>1 - dealer hit, 0 - dealer did not hit</td>\n",
       "    </tr>\n",
       "    <tr>\n",
       "      <th>4</th>\n",
       "      <td>dealer_num_hits</td>\n",
       "      <td>Int</td>\n",
       "      <td>Number of times the dealer hit</td>\n",
       "    </tr>\n",
       "    <tr>\n",
       "      <th>5</th>\n",
       "      <td>dealer_3_card</td>\n",
       "      <td>Int</td>\n",
       "      <td>Dealer's 3 card points (unless dealer has less...</td>\n",
       "    </tr>\n",
       "    <tr>\n",
       "      <th>6</th>\n",
       "      <td>dealer_final</td>\n",
       "      <td>Int</td>\n",
       "      <td>The dealer's final points</td>\n",
       "    </tr>\n",
       "    <tr>\n",
       "      <th>7</th>\n",
       "      <td>dealer_busts</td>\n",
       "      <td>Binary</td>\n",
       "      <td>1 - dealer busts, 0 - dealer did not bust</td>\n",
       "    </tr>\n",
       "    <tr>\n",
       "      <th>8</th>\n",
       "      <td>player_card_one</td>\n",
       "      <td>Int</td>\n",
       "      <td>The player's first card</td>\n",
       "    </tr>\n",
       "    <tr>\n",
       "      <th>9</th>\n",
       "      <td>player_card_two</td>\n",
       "      <td>Int</td>\n",
       "      <td>The player's second card</td>\n",
       "    </tr>\n",
       "    <tr>\n",
       "      <th>10</th>\n",
       "      <td>player_initial</td>\n",
       "      <td>Int</td>\n",
       "      <td>The player's starting points</td>\n",
       "    </tr>\n",
       "    <tr>\n",
       "      <th>11</th>\n",
       "      <td>player_hit</td>\n",
       "      <td>Binary</td>\n",
       "      <td>1 - player hit, 0 - player did not hit</td>\n",
       "    </tr>\n",
       "    <tr>\n",
       "      <th>12</th>\n",
       "      <td>player_num_hits</td>\n",
       "      <td>Int</td>\n",
       "      <td>Number of times the player hit</td>\n",
       "    </tr>\n",
       "    <tr>\n",
       "      <th>13</th>\n",
       "      <td>player_3_card</td>\n",
       "      <td>Int</td>\n",
       "      <td>Player's 3 card points (unless dealer has less...</td>\n",
       "    </tr>\n",
       "    <tr>\n",
       "      <th>14</th>\n",
       "      <td>player_final</td>\n",
       "      <td>Int</td>\n",
       "      <td>The player's final points</td>\n",
       "    </tr>\n",
       "    <tr>\n",
       "      <th>15</th>\n",
       "      <td>player_busts</td>\n",
       "      <td>Binary</td>\n",
       "      <td>1 - player busts, 0 - player did not bust</td>\n",
       "    </tr>\n",
       "    <tr>\n",
       "      <th>16</th>\n",
       "      <td>player_loses</td>\n",
       "      <td>Binary</td>\n",
       "      <td>1 - player lost, 0 - player did not lose</td>\n",
       "    </tr>\n",
       "    <tr>\n",
       "      <th>17</th>\n",
       "      <td>draw</td>\n",
       "      <td>Binary</td>\n",
       "      <td>1 - draw, 0 - not a draw</td>\n",
       "    </tr>\n",
       "    <tr>\n",
       "      <th>18</th>\n",
       "      <td>player_wins</td>\n",
       "      <td>Binary</td>\n",
       "      <td>1 - player won, 0 - player did not win</td>\n",
       "    </tr>\n",
       "    <tr>\n",
       "      <th>19</th>\n",
       "      <td>strategy</td>\n",
       "      <td>Binary</td>\n",
       "      <td>1 - recommended, 0 - random</td>\n",
       "    </tr>\n",
       "    <tr>\n",
       "      <th>20</th>\n",
       "      <td>dealer_hand</td>\n",
       "      <td>Obj</td>\n",
       "      <td>List of the dealer's cards, in the order that ...</td>\n",
       "    </tr>\n",
       "    <tr>\n",
       "      <th>21</th>\n",
       "      <td>player_hand</td>\n",
       "      <td>Obj</td>\n",
       "      <td>List of the player's cards, in the order that ...</td>\n",
       "    </tr>\n",
       "  </tbody>\n",
       "</table>\n",
       "</div>"
      ],
      "text/plain": [
       "            Feature    Type                                        Description\n",
       "0         num_decks     Int                               Number of decks used\n",
       "1       dealer_open     Int                                The card we can see\n",
       "2    dealer_initial     Int                       The dealer's starting points\n",
       "3        dealer_hit  Binary             1 - dealer hit, 0 - dealer did not hit\n",
       "4   dealer_num_hits     Int                     Number of times the dealer hit\n",
       "5     dealer_3_card     Int  Dealer's 3 card points (unless dealer has less...\n",
       "6      dealer_final     Int                          The dealer's final points\n",
       "7      dealer_busts  Binary          1 - dealer busts, 0 - dealer did not bust\n",
       "8   player_card_one     Int                            The player's first card\n",
       "9   player_card_two     Int                           The player's second card\n",
       "10   player_initial     Int                       The player's starting points\n",
       "11       player_hit  Binary             1 - player hit, 0 - player did not hit\n",
       "12  player_num_hits     Int                     Number of times the player hit\n",
       "13    player_3_card     Int  Player's 3 card points (unless dealer has less...\n",
       "14     player_final     Int                          The player's final points\n",
       "15     player_busts  Binary          1 - player busts, 0 - player did not bust\n",
       "16     player_loses  Binary           1 - player lost, 0 - player did not lose\n",
       "17             draw  Binary                           1 - draw, 0 - not a draw\n",
       "18      player_wins  Binary             1 - player won, 0 - player did not win\n",
       "19         strategy  Binary                        1 - recommended, 0 - random\n",
       "20      dealer_hand     Obj  List of the dealer's cards, in the order that ...\n",
       "21      player_hand     Obj  List of the player's cards, in the order that ..."
      ]
     },
     "execution_count": 8,
     "metadata": {},
     "output_type": "execute_result"
    }
   ],
   "source": [
    "data_dictionary = pd.read_csv(\"data_dictionary.csv\")\n",
    "data_dictionary"
   ]
  },
  {
   "cell_type": "markdown",
   "metadata": {},
   "source": [
    "## Outcomes"
   ]
  },
  {
   "cell_type": "markdown",
   "metadata": {},
   "source": [
    "- player gets blackjack, dealer didn't\n",
    "    - player wins\n",
    "- dealer gets blackjack, player didn't\n",
    "    - player loses\n",
    "- player hits and busts\n",
    "    - player loses\n",
    "- player hits, dealer hits and busts\n",
    "    - player wins\n",
    "- player hits, dealer hits/ dealer >= hard 17\n",
    "    - player > dealer\n",
    "        - player wins\n",
    "    - player < dealer\n",
    "        - player loses\n",
    "    - player == dealer\n",
    "        - draw"
   ]
  },
  {
   "cell_type": "markdown",
   "metadata": {},
   "source": [
    "## Plan"
   ]
  },
  {
   "cell_type": "markdown",
   "metadata": {},
   "source": [
    "- create deck\n",
    "- deal initial hand\n",
    "- check if anyone has a blackjack\n",
    "- no blackjacks, player goes first\n",
    "    - in any case, if player has anything <= 11, hit\n",
    "    - if anything 12 or higher\n",
    "        - random\n",
    "            - randomize whether to hit or not if smaller than 18\n",
    "        - recommended\n",
    "            - if dealer showing <= 6 and player <= 16, hit\n",
    "- once player is done, dealer goes\n",
    "    - if dealer has anything smaller than 17, he must hit\n",
    "    - if dealer has a soft 17, he must hit"
   ]
  },
  {
   "cell_type": "code",
   "execution_count": 9,
   "metadata": {
    "ExecuteTime": {
     "end_time": "2017-02-08T21:08:27.513231",
     "start_time": "2017-02-08T21:08:27.352414"
    },
    "collapsed": true
   },
   "outputs": [],
   "source": [
    "def sim_game(num_decks=1, strategy=0):\n",
    "    game_deck = Deck(num_decks=num_decks)\n",
    "    game_deck.shuffle()\n",
    "\n",
    "    dealer_hand = []\n",
    "    player_hand = []\n",
    "\n",
    "    # deal 2 cards each\n",
    "    for i in range(2):\n",
    "        game_deck.deal(player_hand)\n",
    "        game_deck.deal(dealer_hand)\n",
    "\n",
    "    # get their initial points\n",
    "    # copy so that our hand is not changed\n",
    "    player_initial = calculate_points(player_hand.copy())\n",
    "    dealer_initial = calculate_points(dealer_hand.copy())\n",
    "\n",
    "    # get dealer open card\n",
    "    dealer_open = dealer_hand[0]\n",
    "\n",
    "    # get cards from player\n",
    "    player_card_one = player_hand[0]\n",
    "    player_card_two = player_hand[1]\n",
    "\n",
    "    # Change them to numerics\n",
    "    if dealer_open in [\"J\", \"Q\", \"K\"]:\n",
    "        dealer_open = 10\n",
    "    elif dealer_open == \"A\":\n",
    "        dealer_open = 1\n",
    "\n",
    "    if player_card_one in [\"J\", \"Q\", \"K\"]:\n",
    "        player_card_one = 10\n",
    "    elif player_card_one == \"A\":\n",
    "        player_card_one = 1\n",
    "\n",
    "    if player_card_two in [\"J\", \"Q\", \"K\"]:\n",
    "        player_card_two = 10\n",
    "    elif player_card_two == \"A\":\n",
    "        player_card_two = 1\n",
    "\n",
    "    dealer_hit = 0\n",
    "    dealer_num_hits = 0\n",
    "    player_hit = 0\n",
    "    player_num_hits = 0\n",
    "    player_busts = 0\n",
    "    dealer_busts = 0\n",
    "    dealer_final = calculate_points(dealer_hand.copy())\n",
    "    player_final = calculate_points(player_hand.copy())\n",
    "\n",
    "\n",
    "    # if anyone got a blackjack, the game should end\n",
    "    if player_initial != 21 and dealer_initial != 21:\n",
    "        # if neither of them got a blackjack game continues\n",
    "        # the player goes first\n",
    "\n",
    "        # If player <= 11, hit\n",
    "        while calculate_points(player_hand.copy()) <= 11:\n",
    "            player_hit = 1\n",
    "            player_num_hits += 1\n",
    "            game_deck.deal(player_hand)\n",
    "\n",
    "        # If strategy is random, randomize hit for 18 and below\n",
    "        if strategy == 0:\n",
    "            while calculate_points(player_hand.copy()) <= 18:\n",
    "                if np.random.random() < 0.5:\n",
    "                    player_hit = 1\n",
    "                    player_num_hits += 1\n",
    "                    game_deck.deal(player_hand)\n",
    "        # If strategy is recommended, stand on 17 and above\n",
    "        else:\n",
    "            if dealer_open <= 6:\n",
    "                while calculate_points(player_hand.copy()) <= 16:\n",
    "                    player_hit = 1\n",
    "                    player_num_hits += 1\n",
    "                    game_deck.deal(player_hand)\n",
    "\n",
    "        # update player's final and busts\n",
    "        player_final = calculate_points(player_hand.copy())\n",
    "        player_busts = player_final > 21\n",
    "        # dealer's turn\n",
    "\n",
    "        # If player didn't bust\n",
    "        if not player_busts:\n",
    "            # If dealer < 17, hit\n",
    "            while calculate_points(dealer_hand.copy()) < 17:\n",
    "                dealer_hit = 1\n",
    "                dealer_num_hits += 1\n",
    "                game_deck.deal(dealer_hand)\n",
    "\n",
    "            # If dealer has a soft 17, hit\n",
    "            if calculate_points(dealer_hand.copy()) == 17:\n",
    "                if \"A\" in dealer_hand:\n",
    "                    dealer_copy = dealer_hand.copy()\n",
    "                    dealer_copy.remove(\"A\")\n",
    "                    if calculate_points(dealer_copy.copy()) == 6:\n",
    "                        dealer_hit = 1\n",
    "                        dealer_num_hits += 1\n",
    "                        game_deck.deal(dealer_hand)\n",
    "\n",
    "        # update dealer's final and busts\n",
    "        dealer_final = calculate_points(dealer_hand.copy())\n",
    "        dealer_busts = dealer_final > 21\n",
    "\n",
    "    player_loses = 0\n",
    "    draw = 0\n",
    "    player_wins = 0\n",
    "\n",
    "    # Get three card totals\n",
    "    if len(player_hand) >= 3:\n",
    "        player_3_card = calculate_points(player_hand.copy()[:3])\n",
    "    else:\n",
    "        player_3_card = calculate_points(player_hand.copy())\n",
    "\n",
    "    if len(dealer_hand) >= 3:\n",
    "        dealer_3_card = calculate_points(dealer_hand.copy()[:3])\n",
    "    else:\n",
    "        dealer_3_card = calculate_points(dealer_hand.copy())\n",
    "\n",
    "    # Check who wins\n",
    "    if player_initial == 21 and dealer_initial != 21:\n",
    "        player_wins = 1\n",
    "    elif dealer_initial == 21 and player_initial != 21:\n",
    "        player_loses = 1\n",
    "    elif player_busts:\n",
    "        player_loses = 1\n",
    "    elif dealer_busts:\n",
    "        player_wins = 1\n",
    "    elif player_final > dealer_final:\n",
    "        player_wins = 1\n",
    "    elif player_final < dealer_final:\n",
    "        player_loses = 1\n",
    "    elif player_final == dealer_final:\n",
    "        draw = 1\n",
    "\n",
    "    return np.array([num_decks, dealer_open, dealer_initial, dealer_hit, dealer_num_hits, dealer_3_card, dealer_final, int(dealer_busts), player_card_one, player_card_two, player_initial, player_hit, player_num_hits, player_3_card, player_final, int(player_busts), player_loses, draw, player_wins, strategy, str(dealer_hand), str(player_hand)])"
   ]
  },
  {
   "cell_type": "code",
   "execution_count": 10,
   "metadata": {
    "ExecuteTime": {
     "end_time": "2017-02-08T21:08:27.551156",
     "start_time": "2017-02-08T21:08:27.515187"
    },
    "collapsed": false
   },
   "outputs": [
    {
     "name": "stdout",
     "output_type": "stream",
     "text": [
      "['1' '1' '20' '0' '0' '20' '20' '0' '10' '4' '14' '1' '3' '15' '20' '0' '0'\n",
      " '1' '0' '0' \"['A', 9]\" \"['J', 4, 'A', 3, 2]\"]\n"
     ]
    }
   ],
   "source": [
    "print (sim_game())"
   ]
  },
  {
   "cell_type": "markdown",
   "metadata": {},
   "source": [
    "# Generate a dataframe"
   ]
  },
  {
   "cell_type": "markdown",
   "metadata": {},
   "source": [
    "## Requirements"
   ]
  },
  {
   "cell_type": "markdown",
   "metadata": {},
   "source": [
    "- run sim_game() for some number of times and save the output to a df"
   ]
  },
  {
   "cell_type": "code",
   "execution_count": 184,
   "metadata": {
    "ExecuteTime": {
     "end_time": "2017-02-06T19:23:10.931926",
     "start_time": "2017-02-06T19:23:10.925134"
    },
    "collapsed": false
   },
   "outputs": [
    {
     "data": {
      "text/plain": [
       "array(['num_decks', 'dealer_open', 'dealer_initial', 'dealer_hit',\n",
       "       'dealer_num_hits', 'dealer_final', 'dealer_busts', 'player_inital',\n",
       "       'player_hit', 'player_num_hits', 'player_final', 'player_busts',\n",
       "       'player_loses', 'draw', 'player_wins', 'strategy', 'dealer_hand',\n",
       "       'player_hand'], dtype=object)"
      ]
     },
     "execution_count": 184,
     "metadata": {},
     "output_type": "execute_result"
    }
   ],
   "source": [
    "data_dictionary.Feature.values"
   ]
  },
  {
   "cell_type": "code",
   "execution_count": 212,
   "metadata": {
    "ExecuteTime": {
     "end_time": "2017-02-06T19:41:16.505890",
     "start_time": "2017-02-06T19:41:16.501269"
    },
    "collapsed": false
   },
   "outputs": [],
   "source": [
    "def gen_data(num_decks=1, df_size=5000, strategy=0):\n",
    "    return np.array([sim_game(num_decks=num_decks, strategy=strategy) for _ in range(df_size)])"
   ]
  },
  {
   "cell_type": "code",
   "execution_count": 213,
   "metadata": {
    "ExecuteTime": {
     "end_time": "2017-02-06T19:41:16.732389",
     "start_time": "2017-02-06T19:41:16.726186"
    },
    "collapsed": false
   },
   "outputs": [],
   "source": [
    "def gen_df(data):\n",
    "    tmp = pd.DataFrame(data, columns=data_dictionary.Feature.values)\n",
    "    tmp[tmp.columns.values[:-2]] = tmp[tmp.columns.values[:-2]].astype(int)\n",
    "    return tmp"
   ]
  },
  {
   "cell_type": "code",
   "execution_count": 216,
   "metadata": {
    "ExecuteTime": {
     "end_time": "2017-02-06T19:41:30.170182",
     "start_time": "2017-02-06T19:41:29.815833"
    },
    "collapsed": false
   },
   "outputs": [],
   "source": [
    "df = gen_df(gen_data(num_decks=4))"
   ]
  },
  {
   "cell_type": "code",
   "execution_count": 224,
   "metadata": {
    "ExecuteTime": {
     "end_time": "2017-02-06T19:52:13.961730",
     "start_time": "2017-02-06T19:52:13.607691"
    },
    "collapsed": false
   },
   "outputs": [],
   "source": [
    "sub = gen_df(gen_data(num_decks=4, strategy=1))"
   ]
  },
  {
   "cell_type": "code",
   "execution_count": 225,
   "metadata": {
    "ExecuteTime": {
     "end_time": "2017-02-06T19:52:15.029474",
     "start_time": "2017-02-06T19:52:15.020529"
    },
    "collapsed": false
   },
   "outputs": [],
   "source": [
    "df = pd.concat([df,sub])"
   ]
  },
  {
   "cell_type": "code",
   "execution_count": 180,
   "metadata": {
    "ExecuteTime": {
     "end_time": "2017-02-06T19:14:05.408138",
     "start_time": "2017-02-06T19:14:05.334880"
    },
    "collapsed": false
   },
   "outputs": [],
   "source": [
    "# Combine old files\n",
    "old_df = pd.read_csv(\"blackjack.csv\")\n",
    "df = pd.concat([old_df, df])"
   ]
  },
  {
   "cell_type": "code",
   "execution_count": 226,
   "metadata": {
    "ExecuteTime": {
     "end_time": "2017-02-06T19:52:16.657168",
     "start_time": "2017-02-06T19:52:16.494096"
    },
    "collapsed": false
   },
   "outputs": [],
   "source": [
    "# save to file\n",
    "df.to_csv(\"blackjack.csv\", index=False)"
   ]
  },
  {
   "cell_type": "markdown",
   "metadata": {},
   "source": [
    "# Testing our code"
   ]
  },
  {
   "cell_type": "code",
   "execution_count": 229,
   "metadata": {
    "ExecuteTime": {
     "end_time": "2017-02-06T19:53:26.210846",
     "start_time": "2017-02-06T19:53:26.135861"
    },
    "collapsed": false
   },
   "outputs": [],
   "source": [
    "df = pd.read_csv(\"blackjack.csv\")"
   ]
  },
  {
   "cell_type": "code",
   "execution_count": 230,
   "metadata": {
    "ExecuteTime": {
     "end_time": "2017-02-06T19:53:26.624296",
     "start_time": "2017-02-06T19:53:26.618517"
    },
    "collapsed": false
   },
   "outputs": [
    {
     "data": {
      "text/plain": [
       "(20000, 18)"
      ]
     },
     "execution_count": 230,
     "metadata": {},
     "output_type": "execute_result"
    }
   ],
   "source": [
    "df.shape"
   ]
  },
  {
   "cell_type": "code",
   "execution_count": 231,
   "metadata": {
    "ExecuteTime": {
     "end_time": "2017-02-06T19:53:27.334313",
     "start_time": "2017-02-06T19:53:27.320454"
    },
    "collapsed": false
   },
   "outputs": [
    {
     "name": "stdout",
     "output_type": "stream",
     "text": [
      "0    10846\n",
      "Name: draw, dtype: int64\n",
      "0    10846\n",
      "Name: player_wins, dtype: int64\n"
     ]
    }
   ],
   "source": [
    "# When player_loses = 1, draw = 0, player_wins = 0\n",
    "print (df.draw[df.player_loses == 1].value_counts())\n",
    "print (df.player_wins[df.player_loses == 1].value_counts())"
   ]
  },
  {
   "cell_type": "code",
   "execution_count": 232,
   "metadata": {
    "ExecuteTime": {
     "end_time": "2017-02-06T19:53:28.548413",
     "start_time": "2017-02-06T19:53:28.536150"
    },
    "collapsed": false
   },
   "outputs": [
    {
     "name": "stdout",
     "output_type": "stream",
     "text": [
      "0    1479\n",
      "Name: player_loses, dtype: int64\n",
      "0    1479\n",
      "Name: player_wins, dtype: int64\n"
     ]
    }
   ],
   "source": [
    "# When player_loses = 0, draw = 1, player_wins = 0\n",
    "print (df.player_loses[df.draw == 1].value_counts())\n",
    "print (df.player_wins[df.draw == 1].value_counts())"
   ]
  },
  {
   "cell_type": "code",
   "execution_count": 233,
   "metadata": {
    "ExecuteTime": {
     "end_time": "2017-02-06T19:53:29.037463",
     "start_time": "2017-02-06T19:53:29.024919"
    },
    "collapsed": false
   },
   "outputs": [
    {
     "name": "stdout",
     "output_type": "stream",
     "text": [
      "0    7675\n",
      "Name: player_loses, dtype: int64\n",
      "0    7675\n",
      "Name: draw, dtype: int64\n"
     ]
    }
   ],
   "source": [
    "# When player_loses = 0, draw = 0, player_wins = 1\n",
    "print (df.player_loses[df.player_wins == 1].value_counts())\n",
    "print (df.draw[df.player_wins == 1].value_counts())"
   ]
  },
  {
   "cell_type": "code",
   "execution_count": 234,
   "metadata": {
    "ExecuteTime": {
     "end_time": "2017-02-06T19:53:29.896879",
     "start_time": "2017-02-06T19:53:29.879879"
    },
    "collapsed": false
   },
   "outputs": [
    {
     "name": "stdout",
     "output_type": "stream",
     "text": [
      "0    3565\n",
      "Name: player_loses, dtype: int64\n",
      "0    3565\n",
      "Name: draw, dtype: int64\n",
      "1    3565\n",
      "Name: player_wins, dtype: int64\n"
     ]
    }
   ],
   "source": [
    "# When dealer_busts = 1, player_loses = 0, draw = 0, player_wins = 1\n",
    "print (df.player_loses[df.dealer_busts == 1].value_counts())\n",
    "print (df.draw[df.dealer_busts == 1].value_counts())\n",
    "print (df.player_wins[df.dealer_busts == 1].value_counts())"
   ]
  },
  {
   "cell_type": "code",
   "execution_count": 235,
   "metadata": {
    "ExecuteTime": {
     "end_time": "2017-02-06T19:53:31.016389",
     "start_time": "2017-02-06T19:53:30.992357"
    },
    "collapsed": false
   },
   "outputs": [
    {
     "name": "stdout",
     "output_type": "stream",
     "text": [
      "1    5904\n",
      "Name: player_loses, dtype: int64\n",
      "0    5904\n",
      "Name: draw, dtype: int64\n",
      "0    5904\n",
      "Name: player_wins, dtype: int64\n",
      "0    5904\n",
      "Name: dealer_hit, dtype: int64\n",
      "0    5904\n",
      "Name: dealer_busts, dtype: int64\n"
     ]
    }
   ],
   "source": [
    "# When player_busts = 1, player_loses = 1, draw = 0, player_wins = 0, dealer_hit = 0, dealer_busts = 0\n",
    "print (df.player_loses[df.player_busts == 1].value_counts())\n",
    "print (df.draw[df.player_busts == 1].value_counts())\n",
    "print (df.player_wins[df.player_busts == 1].value_counts())\n",
    "print (df.dealer_hit[df.player_busts == 1].value_counts())\n",
    "print (df.dealer_busts[df.player_busts == 1].value_counts())"
   ]
  },
  {
   "cell_type": "code",
   "execution_count": 236,
   "metadata": {
    "ExecuteTime": {
     "end_time": "2017-02-06T19:53:32.747637",
     "start_time": "2017-02-06T19:53:32.727866"
    },
    "collapsed": false
   },
   "outputs": [
    {
     "name": "stdout",
     "output_type": "stream",
     "text": [
      "0    4110\n",
      "Name: player_loses, dtype: int64\n",
      "0    4110\n",
      "Name: draw, dtype: int64\n",
      "1    4110\n",
      "Name: player_wins, dtype: int64\n"
     ]
    }
   ],
   "source": [
    "# When dealer_busts = 0 and player_busts = 0, if player_final > dealer final, player_loses = 0, draw = 0, player_wins = 1\n",
    "sub = df[(df.player_busts == 0) & (df.dealer_busts == 0)]\n",
    "print (sub.player_loses[sub.player_final > sub.dealer_final].value_counts())\n",
    "print (sub.draw[sub.player_final > sub.dealer_final].value_counts())\n",
    "print (sub.player_wins[sub.player_final > sub.dealer_final].value_counts())"
   ]
  },
  {
   "cell_type": "code",
   "execution_count": 237,
   "metadata": {
    "ExecuteTime": {
     "end_time": "2017-02-06T19:53:34.279365",
     "start_time": "2017-02-06T19:53:34.264281"
    },
    "collapsed": false
   },
   "outputs": [
    {
     "name": "stdout",
     "output_type": "stream",
     "text": [
      "0    1479\n",
      "Name: player_loses, dtype: int64\n",
      "1    1479\n",
      "Name: draw, dtype: int64\n",
      "0    1479\n",
      "Name: player_wins, dtype: int64\n"
     ]
    }
   ],
   "source": [
    "# When dealer_busts = 0 and player_busts = 0, if player_final = dealer final, player_loses = 0, draw = 1, player_wins = 0\n",
    "print (sub.player_loses[sub.player_final == sub.dealer_final].value_counts())\n",
    "print (sub.draw[sub.player_final == sub.dealer_final].value_counts())\n",
    "print (sub.player_wins[sub.player_final == sub.dealer_final].value_counts())"
   ]
  },
  {
   "cell_type": "code",
   "execution_count": 238,
   "metadata": {
    "ExecuteTime": {
     "end_time": "2017-02-06T19:53:44.176197",
     "start_time": "2017-02-06T19:53:44.159541"
    },
    "collapsed": false
   },
   "outputs": [
    {
     "name": "stdout",
     "output_type": "stream",
     "text": [
      "1    4942\n",
      "Name: player_loses, dtype: int64\n",
      "0    4942\n",
      "Name: draw, dtype: int64\n",
      "0    4942\n",
      "Name: player_wins, dtype: int64\n"
     ]
    }
   ],
   "source": [
    "# When dealer_busts = 0 and player_busts = 0, if player_final < dealer final, player_loses = 1, draw = 0, player_wins = 0\n",
    "print (sub.player_loses[sub.player_final < sub.dealer_final].value_counts())\n",
    "print (sub.draw[sub.player_final < sub.dealer_final].value_counts())\n",
    "print (sub.player_wins[sub.player_final < sub.dealer_final].value_counts())"
   ]
  },
  {
   "cell_type": "code",
   "execution_count": 239,
   "metadata": {
    "ExecuteTime": {
     "end_time": "2017-02-06T19:53:45.466126",
     "start_time": "2017-02-06T19:53:45.457012"
    },
    "collapsed": false
   },
   "outputs": [
    {
     "name": "stdout",
     "output_type": "stream",
     "text": [
      "0    14096\n",
      "Name: player_busts, dtype: int64\n"
     ]
    }
   ],
   "source": [
    "# When player_final <= 21, player_busts == 0\n",
    "print (df.player_busts[df.player_final <= 21].value_counts())"
   ]
  },
  {
   "cell_type": "code",
   "execution_count": 240,
   "metadata": {
    "ExecuteTime": {
     "end_time": "2017-02-06T19:53:46.736490",
     "start_time": "2017-02-06T19:53:46.727255"
    },
    "collapsed": false
   },
   "outputs": [
    {
     "name": "stdout",
     "output_type": "stream",
     "text": [
      "0    16435\n",
      "Name: dealer_busts, dtype: int64\n"
     ]
    }
   ],
   "source": [
    "# When dealer_final <= 21, dealer_busts == 0\n",
    "print (df.dealer_busts[df.dealer_final <= 21].value_counts())"
   ]
  },
  {
   "cell_type": "code",
   "execution_count": 241,
   "metadata": {
    "ExecuteTime": {
     "end_time": "2017-02-06T19:53:47.984547",
     "start_time": "2017-02-06T19:53:47.975800"
    },
    "collapsed": false
   },
   "outputs": [
    {
     "name": "stdout",
     "output_type": "stream",
     "text": [
      "1    7257\n",
      "2    3299\n",
      "3     839\n",
      "4     115\n",
      "5      13\n",
      "6       1\n",
      "Name: player_num_hits, dtype: int64\n"
     ]
    }
   ],
   "source": [
    "# When player_hit == 1, player_num_hits >= 1\n",
    "print (df.player_num_hits[df.player_hit == 1].value_counts())"
   ]
  },
  {
   "cell_type": "code",
   "execution_count": 242,
   "metadata": {
    "ExecuteTime": {
     "end_time": "2017-02-06T19:53:49.216185",
     "start_time": "2017-02-06T19:53:49.207124"
    },
    "collapsed": false
   },
   "outputs": [
    {
     "name": "stdout",
     "output_type": "stream",
     "text": [
      "1    5674\n",
      "2    2096\n",
      "3     389\n",
      "4      39\n",
      "6       1\n",
      "5       1\n",
      "Name: dealer_num_hits, dtype: int64\n"
     ]
    }
   ],
   "source": [
    "# When dealer_hit == 1, dealer_num_hits >= 1\n",
    "print (df.dealer_num_hits[df.dealer_hit == 1].value_counts())"
   ]
  },
  {
   "cell_type": "code",
   "execution_count": 243,
   "metadata": {
    "ExecuteTime": {
     "end_time": "2017-02-06T19:54:02.656136",
     "start_time": "2017-02-06T19:54:02.647304"
    },
    "collapsed": false
   },
   "outputs": [
    {
     "data": {
      "text/plain": [
       "0    11800\n",
       "1     8200\n",
       "Name: dealer_hit, dtype: int64"
      ]
     },
     "execution_count": 243,
     "metadata": {},
     "output_type": "execute_result"
    }
   ],
   "source": [
    "df.dealer_hit.value_counts()"
   ]
  },
  {
   "cell_type": "code",
   "execution_count": 244,
   "metadata": {
    "ExecuteTime": {
     "end_time": "2017-02-06T19:54:12.640036",
     "start_time": "2017-02-06T19:54:12.631929"
    },
    "collapsed": false
   },
   "outputs": [
    {
     "data": {
      "text/plain": [
       "0    11800\n",
       "1     5674\n",
       "2     2096\n",
       "3      389\n",
       "4       39\n",
       "6        1\n",
       "5        1\n",
       "Name: dealer_num_hits, dtype: int64"
      ]
     },
     "execution_count": 244,
     "metadata": {},
     "output_type": "execute_result"
    }
   ],
   "source": [
    "df.dealer_num_hits.value_counts()"
   ]
  },
  {
   "cell_type": "code",
   "execution_count": 245,
   "metadata": {
    "ExecuteTime": {
     "end_time": "2017-02-06T19:54:21.439011",
     "start_time": "2017-02-06T19:54:21.430491"
    },
    "collapsed": false
   },
   "outputs": [
    {
     "data": {
      "text/plain": [
       "1    11524\n",
       "0     8476\n",
       "Name: player_hit, dtype: int64"
      ]
     },
     "execution_count": 245,
     "metadata": {},
     "output_type": "execute_result"
    }
   ],
   "source": [
    "df.player_hit.value_counts()"
   ]
  },
  {
   "cell_type": "code",
   "execution_count": 246,
   "metadata": {
    "ExecuteTime": {
     "end_time": "2017-02-06T19:54:29.367004",
     "start_time": "2017-02-06T19:54:29.358222"
    },
    "collapsed": false
   },
   "outputs": [
    {
     "data": {
      "text/plain": [
       "0    8476\n",
       "1    7257\n",
       "2    3299\n",
       "3     839\n",
       "4     115\n",
       "5      13\n",
       "6       1\n",
       "Name: player_num_hits, dtype: int64"
      ]
     },
     "execution_count": 246,
     "metadata": {},
     "output_type": "execute_result"
    }
   ],
   "source": [
    "df.player_num_hits.value_counts()"
   ]
  },
  {
   "cell_type": "code",
   "execution_count": null,
   "metadata": {
    "collapsed": false
   },
   "outputs": [],
   "source": []
  }
 ],
 "metadata": {
  "anaconda-cloud": {},
  "kernelspec": {
   "display_name": "Python [conda env:py36]",
   "language": "python",
   "name": "conda-env-py36-py"
  },
  "language_info": {
   "codemirror_mode": {
    "name": "ipython",
    "version": 3
   },
   "file_extension": ".py",
   "mimetype": "text/x-python",
   "name": "python",
   "nbconvert_exporter": "python",
   "pygments_lexer": "ipython3",
   "version": "3.6.0"
  },
  "toc": {
   "nav_menu": {
    "height": "228px",
    "width": "252px"
   },
   "navigate_menu": true,
   "number_sections": true,
   "sideBar": true,
   "threshold": 4,
   "toc_cell": false,
   "toc_section_display": "block",
   "toc_window_display": false
  }
 },
 "nbformat": 4,
 "nbformat_minor": 1
}
