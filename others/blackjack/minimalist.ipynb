{
 "cells": [
  {
   "cell_type": "code",
   "execution_count": 5,
   "metadata": {
    "ExecuteTime": {
     "end_time": "2017-02-15T20:44:19.749456",
     "start_time": "2017-02-15T20:44:19.197157"
    },
    "collapsed": true
   },
   "outputs": [],
   "source": [
    "import numpy as np\n",
    "import pandas as pd"
   ]
  },
  {
   "cell_type": "markdown",
   "metadata": {},
   "source": [
    "# Game Deck"
   ]
  },
  {
   "cell_type": "code",
   "execution_count": 9,
   "metadata": {
    "ExecuteTime": {
     "end_time": "2017-02-15T20:45:29.176121",
     "start_time": "2017-02-15T20:45:29.162638"
    },
    "collapsed": true
   },
   "outputs": [],
   "source": [
    "class GameDeck():\n",
    "    \"\"\" Create the game deck \"\"\"\n",
    "    values = [\"A\", 2, 3, 4, 5, 6, 7, 8, 9, 10, \"J\", \"Q\", \"K\"]\n",
    "    def __init__(self, num_decks=1, values=values, suits=4):\n",
    "        self.num_decks = num_decks\n",
    "        self.cards = values * num_decks * suits\n",
    "        \n",
    "    def __str__(self):\n",
    "        return \"{} cards left\\n{}\".format(len(self.cards), self.cards)\n",
    "    \n",
    "    def shuffle_cards(self):\n",
    "        np.random.shuffle(self.cards)\n",
    "        \n",
    "    def deal_card(self, hand=None):\n",
    "        if hand == None:\n",
    "            return self.cards.pop(0)\n",
    "        else:\n",
    "            hand.append(self.cards.pop(0))"
   ]
  },
  {
   "cell_type": "code",
   "execution_count": 10,
   "metadata": {
    "ExecuteTime": {
     "end_time": "2017-02-15T20:45:30.086229",
     "start_time": "2017-02-15T20:45:30.082252"
    },
    "collapsed": true
   },
   "outputs": [],
   "source": [
    "test = GameDeck()"
   ]
  },
  {
   "cell_type": "code",
   "execution_count": 11,
   "metadata": {
    "ExecuteTime": {
     "end_time": "2017-02-15T20:45:41.082272",
     "start_time": "2017-02-15T20:45:41.074272"
    },
    "collapsed": false
   },
   "outputs": [
    {
     "name": "stdout",
     "output_type": "stream",
     "text": [
      "52 cards left\n",
      "['A', 2, 3, 4, 5, 6, 7, 8, 9, 10, 'J', 'Q', 'K', 'A', 2, 3, 4, 5, 6, 7, 8, 9, 10, 'J', 'Q', 'K', 'A', 2, 3, 4, 5, 6, 7, 8, 9, 10, 'J', 'Q', 'K', 'A', 2, 3, 4, 5, 6, 7, 8, 9, 10, 'J', 'Q', 'K']\n",
      "\n",
      "52 cards left\n",
      "['J', 9, 6, 8, 'K', 2, 'K', 6, 'Q', 'Q', 'Q', 4, 9, 10, 7, 2, 'A', 8, 'A', 9, 5, 10, 3, 'A', 7, 7, 8, 3, 4, 9, 6, 'J', 'A', 'J', 3, 5, 7, 2, 4, 'J', 5, 10, 3, 'Q', 6, 'K', 2, 4, 10, 8, 'K', 5]\n",
      "\n",
      "51 cards left\n",
      "[9, 6, 8, 'K', 2, 'K', 6, 'Q', 'Q', 'Q', 4, 9, 10, 7, 2, 'A', 8, 'A', 9, 5, 10, 3, 'A', 7, 7, 8, 3, 4, 9, 6, 'J', 'A', 'J', 3, 5, 7, 2, 4, 'J', 5, 10, 3, 'Q', 6, 'K', 2, 4, 10, 8, 'K', 5]\n"
     ]
    }
   ],
   "source": [
    "print (test)\n",
    "test.shuffle_cards()\n",
    "print ()\n",
    "print (test)\n",
    "test.deal_card()\n",
    "print()\n",
    "print (test)"
   ]
  },
  {
   "cell_type": "markdown",
   "metadata": {},
   "source": [
    "# Points calculator"
   ]
  },
  {
   "cell_type": "code",
   "execution_count": 67,
   "metadata": {
    "ExecuteTime": {
     "end_time": "2017-02-15T21:12:20.445838",
     "start_time": "2017-02-15T21:12:20.437054"
    },
    "collapsed": true
   },
   "outputs": [],
   "source": [
    "def calc_ace(hand, count_A):\n",
    "    # For each Ace, see if adding 11 causes it to bust\n",
    "    # If no, then take Ace as 11\n",
    "    # Else, take Ace as 1\n",
    "    working_hand = hand.copy()\n",
    "    \n",
    "    # Remove Aces\n",
    "    working_hand = [i if type(i) == int else 10 for i in working_hand if i != \"A\"]\n",
    "    for k in range(count_A):\n",
    "        if sum(working_hand) + 11 <= 21:\n",
    "            working_hand.append(11)\n",
    "        else:\n",
    "            working_hand.append(1)\n",
    "    return working_hand"
   ]
  },
  {
   "cell_type": "code",
   "execution_count": 305,
   "metadata": {
    "ExecuteTime": {
     "end_time": "2017-02-15T22:38:58.134391",
     "start_time": "2017-02-15T22:38:58.124168"
    },
    "collapsed": false
   },
   "outputs": [],
   "source": [
    "def calc_points(hand):\n",
    "    try:\n",
    "        hand = hand.split(\",\")\n",
    "    except:\n",
    "        pass\n",
    "    working_hand = hand.copy()\n",
    "    \n",
    "    if \"A\" in working_hand:\n",
    "        \n",
    "        # Count number of Aces\n",
    "        count_A = working_hand.count(\"A\")\n",
    "        working_hand = calc_ace(working_hand, count_A)\n",
    "        \n",
    "    else:\n",
    "        # Replace J, Q, and K with 10\n",
    "        working_hand = [10 if i in [\"J\", \"Q\", \"K\"] else int(i) for i in working_hand]\n",
    "    \n",
    "    return sum(working_hand)"
   ]
  },
  {
   "cell_type": "code",
   "execution_count": 290,
   "metadata": {
    "ExecuteTime": {
     "end_time": "2017-02-15T22:35:37.572174",
     "start_time": "2017-02-15T22:35:37.564165"
    },
    "collapsed": false
   },
   "outputs": [
    {
     "name": "stdout",
     "output_type": "stream",
     "text": [
      "['A', 'K'] 21\n",
      "[10, 10] 20\n",
      "['A', 5] 16\n",
      "['A', 'A', 8] 20\n",
      "[3, 3] 6\n"
     ]
    }
   ],
   "source": [
    "for i in [[\"A\", \"K\"], [10,10], [\"A\", 5], [\"A\", \"A\", 8], [3,3]]:\n",
    "    print (i, calc_points(i))"
   ]
  },
  {
   "cell_type": "markdown",
   "metadata": {},
   "source": [
    "# Soft 17"
   ]
  },
  {
   "cell_type": "markdown",
   "metadata": {},
   "source": [
    "- Some casinos require the dealer to hit on a soft 17\n",
    "- We need to know when it is a soft 17"
   ]
  },
  {
   "cell_type": "code",
   "execution_count": 82,
   "metadata": {
    "ExecuteTime": {
     "end_time": "2017-02-15T21:15:19.759207",
     "start_time": "2017-02-15T21:15:19.752197"
    },
    "collapsed": true
   },
   "outputs": [],
   "source": [
    "def soft_17(hand):\n",
    "    working_hand = hand.copy()\n",
    "    Ace_11 = False\n",
    "    if calc_points(working_hand) == 17 and \"A\" in working_hand:\n",
    "        count_A = working_hand.count(\"A\")\n",
    "        working_hand = calc_ace(working_hand, count_A)\n",
    "        if 11 in working_hand[-count_A:]:\n",
    "            return True\n",
    "    return False"
   ]
  },
  {
   "cell_type": "code",
   "execution_count": 86,
   "metadata": {
    "ExecuteTime": {
     "end_time": "2017-02-15T21:16:10.653352",
     "start_time": "2017-02-15T21:16:10.645358"
    },
    "collapsed": false
   },
   "outputs": [
    {
     "name": "stdout",
     "output_type": "stream",
     "text": [
      "['K', 7] False\n",
      "['A', 3, 3] True\n",
      "['A', 'A', 5] True\n",
      "['A', 'A', 'A', 4] True\n"
     ]
    }
   ],
   "source": [
    "for i in [[\"K\", 7], [\"A\", 3, 3], [\"A\", \"A\", 5], [\"A\", \"A\", \"A\", 4]]:\n",
    "    print (i, soft_17(i))"
   ]
  },
  {
   "cell_type": "markdown",
   "metadata": {},
   "source": [
    "# Play game"
   ]
  },
  {
   "cell_type": "code",
   "execution_count": 479,
   "metadata": {
    "ExecuteTime": {
     "end_time": "2017-02-15T23:06:52.844977",
     "start_time": "2017-02-15T23:06:52.837010"
    },
    "collapsed": true
   },
   "outputs": [],
   "source": [
    "def start_game(num_decks=1):\n",
    "    game_deck = GameDeck(num_decks=num_decks)\n",
    "    \n",
    "    d_hand = []\n",
    "    p_hand = []\n",
    "    \n",
    "    game_deck.shuffle_cards()\n",
    "    \n",
    "    for _ in range(2):\n",
    "        game_deck.deal_card(p_hand)\n",
    "        game_deck.deal_card(d_hand)\n",
    "        \n",
    "    return game_deck, p_hand, d_hand"
   ]
  },
  {
   "cell_type": "code",
   "execution_count": 96,
   "metadata": {
    "ExecuteTime": {
     "end_time": "2017-02-15T21:39:41.432511",
     "start_time": "2017-02-15T21:39:41.426504"
    },
    "collapsed": false
   },
   "outputs": [
    {
     "data": {
      "text/plain": [
       "(<__main__.GameDeck at 0x10e189be0>, [7, 9], [9, 2])"
      ]
     },
     "execution_count": 96,
     "metadata": {},
     "output_type": "execute_result"
    }
   ],
   "source": [
    "start_game()"
   ]
  },
  {
   "cell_type": "markdown",
   "metadata": {},
   "source": [
    "- strategies\n",
    "    - 0: random\n",
    "    - 1: recommended\n",
    "    - 2: statistical analysis\n",
    "    - 3: machine learning"
   ]
  },
  {
   "cell_type": "code",
   "execution_count": 244,
   "metadata": {
    "ExecuteTime": {
     "end_time": "2017-02-15T22:24:51.290782",
     "start_time": "2017-02-15T22:24:51.277776"
    },
    "collapsed": true
   },
   "outputs": [],
   "source": [
    "def player_turn(game_deck, d_open, p_hand, strategy=0):\n",
    "    new_hand = p_hand.copy()\n",
    "    while calc_points(new_hand) <= 11:\n",
    "        game_deck.deal_card(new_hand)\n",
    "        \n",
    "    if strategy == 0:\n",
    "        while calc_points(new_hand) <= 18:\n",
    "            if np.random.random() <= 0.5:\n",
    "                game_deck.deal_card(new_hand)\n",
    "            else:\n",
    "                break\n",
    "    elif strategy == 1:\n",
    "        while calc_points(new_hand) <= 18:\n",
    "            if d_open <= 6:\n",
    "                game_deck.deal_card(new_hand)\n",
    "            else:\n",
    "                break\n",
    "                \n",
    "    return game_deck, p_hand, new_hand"
   ]
  },
  {
   "cell_type": "code",
   "execution_count": 110,
   "metadata": {
    "ExecuteTime": {
     "end_time": "2017-02-15T21:41:09.704130",
     "start_time": "2017-02-15T21:41:09.696831"
    },
    "collapsed": false
   },
   "outputs": [
    {
     "name": "stdout",
     "output_type": "stream",
     "text": [
      "(<__main__.GameDeck object at 0x10e189898>, [3, 8], [3, 8, 'J'])\n",
      "11\n",
      "21\n"
     ]
    }
   ],
   "source": [
    "test = start_game()\n",
    "p_test = player_turn(test[0], test[2])\n",
    "print (p_test)\n",
    "print (calc_points(p_test[1]))\n",
    "print (calc_points(p_test[2]))"
   ]
  },
  {
   "cell_type": "code",
   "execution_count": 111,
   "metadata": {
    "ExecuteTime": {
     "end_time": "2017-02-15T21:46:40.971177",
     "start_time": "2017-02-15T21:46:40.965219"
    },
    "collapsed": true
   },
   "outputs": [],
   "source": [
    "def dealer_turn(game_deck, hand, soft=True):\n",
    "    new_hand = hand.copy()\n",
    "    while calc_points(new_hand) < 17 or soft_17(new_hand):\n",
    "        game_deck.deal_card(new_hand)\n",
    "    \n",
    "    return game_deck, hand, new_hand"
   ]
  },
  {
   "cell_type": "code",
   "execution_count": 118,
   "metadata": {
    "ExecuteTime": {
     "end_time": "2017-02-15T21:47:44.547644",
     "start_time": "2017-02-15T21:47:44.537362"
    },
    "collapsed": false
   },
   "outputs": [
    {
     "name": "stdout",
     "output_type": "stream",
     "text": [
      "(<__main__.GameDeck object at 0x10e1b27b8>, [7, 'A'], [7, 'A', 5])\n",
      "18\n",
      "13\n",
      "(<__main__.GameDeck object at 0x10e1b27b8>, [8, 9], [8, 9])\n",
      "17\n",
      "17\n"
     ]
    }
   ],
   "source": [
    "test = start_game()\n",
    "p_test = player_turn(test[0], test[2])\n",
    "print (p_test)\n",
    "print (calc_points(p_test[1]))\n",
    "print (calc_points(p_test[2]))\n",
    "d_test = dealer_turn(p_test[0], test[1])\n",
    "print (d_test)\n",
    "print (calc_points(d_test[1]))\n",
    "print (calc_points(d_test[2]))"
   ]
  },
  {
   "cell_type": "code",
   "execution_count": 175,
   "metadata": {
    "ExecuteTime": {
     "end_time": "2017-02-15T22:09:49.615286",
     "start_time": "2017-02-15T22:09:49.610305"
    },
    "collapsed": true
   },
   "outputs": [],
   "source": [
    "def l_to_s(l):\n",
    "    l = [str(i) for i in l]\n",
    "    return \",\".join(l)"
   ]
  },
  {
   "cell_type": "code",
   "execution_count": 482,
   "metadata": {
    "ExecuteTime": {
     "end_time": "2017-02-15T23:07:50.823193",
     "start_time": "2017-02-15T23:07:50.803301"
    },
    "collapsed": false
   },
   "outputs": [],
   "source": [
    "def play_split(game_deck, p_hand, d_hand, d_open, num_decks, strategy=0):\n",
    "    to_split = np.random.random() <= 0.5\n",
    "    if (strategy == 0 and to_split) or (strategy == 1 and p_hand[0] == 8):\n",
    "        # Splits\n",
    "        split = 1\n",
    "        p_hand_1 = [p_hand[0]]\n",
    "        p_hand_2 = [p_hand[1]]\n",
    "        game_deck.deal_card(p_hand_1)\n",
    "        game_deck.deal_card(p_hand_2)\n",
    "        game_deck, p_hand_1, p_new_hand_1 = player_turn(game_deck, d_open, p_hand_1, strategy=strategy)\n",
    "        game_deck, p_hand_2, p_new_hand_2 = player_turn(game_deck, d_open, p_hand_2, strategy=strategy)\n",
    "\n",
    "        if calc_points(p_new_hand_1) > 21 and calc_points(p_new_hand_2) > 21:\n",
    "            d_new_hand = d_hand.copy()\n",
    "        else:\n",
    "            game_deck, d_hand, d_new_hand = dealer_turn(game_deck, d_hand)\n",
    "\n",
    "        return np.array([np.array([l_to_s(d_hand), l_to_s(d_new_hand), l_to_s(p_hand_1), l_to_s(p_new_hand_1), strategy, split, num_decks]), \n",
    "                np.array([l_to_s(d_hand), l_to_s(d_new_hand), l_to_s(p_hand_2), l_to_s(p_new_hand_2), strategy, split, num_decks])])\n",
    "    else:\n",
    "        return \"No split\""
   ]
  },
  {
   "cell_type": "code",
   "execution_count": 483,
   "metadata": {
    "ExecuteTime": {
     "end_time": "2017-02-15T23:07:55.289106",
     "start_time": "2017-02-15T23:07:55.283116"
    },
    "collapsed": true
   },
   "outputs": [],
   "source": [
    "def card_value(card):\n",
    "    try:\n",
    "        return int(card)\n",
    "    except:\n",
    "        if card == \"A\":\n",
    "            return 1\n",
    "        else:\n",
    "            return 10"
   ]
  },
  {
   "cell_type": "code",
   "execution_count": 484,
   "metadata": {
    "ExecuteTime": {
     "end_time": "2017-02-15T23:08:01.318871",
     "start_time": "2017-02-15T23:08:01.298816"
    },
    "collapsed": false
   },
   "outputs": [],
   "source": [
    "def play_game(num_decks=4, strategy=0):\n",
    "    game_deck, p_hand, d_hand = start_game(num_decks=num_decks)\n",
    "    \n",
    "    d_open = card_value(d_hand[0])\n",
    "    split = 0\n",
    "    if calc_points(p_hand) != 21 and d_hand != 21:\n",
    "        if (p_hand[0] == p_hand[1]):\n",
    "            out = play_split(game_deck, p_hand, d_hand, d_open, num_decks, strategy=strategy)\n",
    "        else:\n",
    "            out = \"No split\"\n",
    "        if type(out) == str:\n",
    "            game_deck, p_hand, p_new_hand = player_turn(game_deck, d_open, p_hand, strategy=strategy)\n",
    "            if calc_points(p_new_hand) > 21:\n",
    "                d_new_hand = d_hand.copy()\n",
    "            else:\n",
    "                game_deck, d_hand, d_new_hand = dealer_turn(game_deck, d_hand)\n",
    "            out = np.array([l_to_s(d_hand), l_to_s(d_new_hand), l_to_s(p_hand), l_to_s(p_new_hand), strategy, split, num_decks])\n",
    "    else:\n",
    "        p_new_hand = p_hand.copy()\n",
    "        d_new_hand = d_hand.copy()\n",
    "        out = np.array([l_to_s(d_hand), l_to_s(d_new_hand), l_to_s(p_hand), l_to_s(p_new_hand), strategy, split, num_decks])\n",
    "    \n",
    "    return out"
   ]
  },
  {
   "cell_type": "code",
   "execution_count": 485,
   "metadata": {
    "ExecuteTime": {
     "end_time": "2017-02-15T23:08:04.664893",
     "start_time": "2017-02-15T23:08:04.658594"
    },
    "collapsed": false
   },
   "outputs": [
    {
     "data": {
      "text/plain": [
       "array(['A,5', 'A,5', '5,A', '5,A,Q,J', '1', '0', '4'], \n",
       "      dtype='<U7')"
      ]
     },
     "execution_count": 485,
     "metadata": {},
     "output_type": "execute_result"
    }
   ],
   "source": [
    "play_game(strategy=1)"
   ]
  },
  {
   "cell_type": "code",
   "execution_count": 486,
   "metadata": {
    "ExecuteTime": {
     "end_time": "2017-02-15T23:08:05.886525",
     "start_time": "2017-02-15T23:08:05.875385"
    },
    "collapsed": false
   },
   "outputs": [
    {
     "name": "stdout",
     "output_type": "stream",
     "text": [
      "[['5,9' '5,9,J' '6,10' '6,10,5' '0' '1' '4']\n",
      " ['5,9' '5,9,J' '6,4' '6,4,4,J' '0' '1' '4']]\n"
     ]
    }
   ],
   "source": [
    "a = play_game()\n",
    "while a.ndim < 2:\n",
    "    a = play_game()\n",
    "print (a)"
   ]
  },
  {
   "cell_type": "code",
   "execution_count": 487,
   "metadata": {
    "ExecuteTime": {
     "end_time": "2017-02-15T23:08:06.663980",
     "start_time": "2017-02-15T23:08:06.658090"
    },
    "collapsed": false
   },
   "outputs": [
    {
     "data": {
      "text/plain": [
       "2"
      ]
     },
     "execution_count": 487,
     "metadata": {},
     "output_type": "execute_result"
    }
   ],
   "source": [
    "a.ndim"
   ]
  },
  {
   "cell_type": "markdown",
   "metadata": {},
   "source": [
    "# Generate cards"
   ]
  },
  {
   "cell_type": "code",
   "execution_count": 488,
   "metadata": {
    "ExecuteTime": {
     "end_time": "2017-02-15T23:08:13.139822",
     "start_time": "2017-02-15T23:08:13.130293"
    },
    "collapsed": true
   },
   "outputs": [],
   "source": [
    "def gen_df(num_games=5000):\n",
    "    data = []\n",
    "    for _ in range(num_games):\n",
    "        a = play_game(strategy=np.random.randint(2))\n",
    "        if a.ndim == 2:\n",
    "            data.extend(a)\n",
    "        else:\n",
    "            data.append(a)\n",
    "            \n",
    "    df = pd.DataFrame(data, columns=[\"d_hand\", \"d_final_hand\", \"p_hand\", \"p_final_hand\", \"strategy\", \"split\", \"num_decks\"])\n",
    "    return df"
   ]
  },
  {
   "cell_type": "markdown",
   "metadata": {},
   "source": [
    "# Adding some columns that we need"
   ]
  },
  {
   "cell_type": "code",
   "execution_count": 524,
   "metadata": {
    "ExecuteTime": {
     "end_time": "2017-02-15T23:11:18.148417",
     "start_time": "2017-02-15T23:11:18.121329"
    },
    "collapsed": false
   },
   "outputs": [],
   "source": [
    "def add_columns(original):\n",
    "    df = original.copy()\n",
    "    df[\"strategy\"] = df[\"strategy\"].astype(int)\n",
    "    df[\"split\"] = df[\"split\"].astype(int)\n",
    "    df[\"num_decks\"] = df[\"num_decks\"].astype(int)\n",
    "    \n",
    "    df[\"d_open\"] = df[\"d_hand\"].apply(lambda x: card_value(x.split(\",\")[0]))\n",
    "    df[\"d_initial\"] = df[\"d_hand\"].apply(calc_points)\n",
    "    df[\"d_final\"] = df[\"d_final_hand\"].apply(calc_points)\n",
    "    df[\"d_hit\"] = df[\"d_final\"]-df[\"d_initial\"] > 0\n",
    "    df[\"d_hit\"] = df[\"d_hit\"].astype(int)\n",
    "    df[\"d_bust\"] = df[\"d_final\"] > 21\n",
    "    df[\"d_bust\"] = df[\"d_bust\"].astype(int)\n",
    "    \n",
    "    df[\"p_initial\"] = df[\"p_hand\"].apply(calc_points)\n",
    "    df[\"p_final\"] = df[\"p_final_hand\"].apply(calc_points)\n",
    "    df[\"p_hit\"] = df[\"p_final\"]-df[\"p_initial\"] > 0\n",
    "    df[\"p_hit\"] = df[\"p_hit\"].astype(int)\n",
    "    df[\"p_bust\"] = df[\"p_final\"] > 21\n",
    "    df[\"p_bust\"] = df[\"p_bust\"].astype(int)\n",
    "    \n",
    "    df[\"p_win\"] = (df[\"p_final\"] > df[\"d_final\"]) & (df[\"p_bust\"] == 0) | (df[\"d_bust\"] == 1)\n",
    "    df[\"p_win\"] = df[\"p_win\"].astype(int)\n",
    "    \n",
    "    del df[\"d_hand\"]\n",
    "    del df[\"p_hand\"]\n",
    "    \n",
    "    return df"
   ]
  },
  {
   "cell_type": "markdown",
   "metadata": {},
   "source": [
    "# Generate CSVs"
   ]
  },
  {
   "cell_type": "code",
   "execution_count": 530,
   "metadata": {
    "ExecuteTime": {
     "end_time": "2017-02-15T23:13:03.962041",
     "start_time": "2017-02-15T23:13:03.386612"
    },
    "collapsed": true
   },
   "outputs": [],
   "source": [
    "df = gen_df()\n",
    "\n",
    "try:\n",
    "    old_df = pd.read_csv(\"cards.csv\")\n",
    "    df = pd.concat([df, old_df])\n",
    "except:\n",
    "    pass\n",
    "df.to_csv(\"cards.csv\", index=False)"
   ]
  },
  {
   "cell_type": "code",
   "execution_count": 531,
   "metadata": {
    "ExecuteTime": {
     "end_time": "2017-02-15T23:13:04.737362",
     "start_time": "2017-02-15T23:13:04.666607"
    },
    "collapsed": false
   },
   "outputs": [],
   "source": [
    "df = pd.read_csv(\"cards.csv\")"
   ]
  },
  {
   "cell_type": "code",
   "execution_count": 532,
   "metadata": {
    "ExecuteTime": {
     "end_time": "2017-02-15T23:13:05.232456",
     "start_time": "2017-02-15T23:13:05.226904"
    },
    "collapsed": false
   },
   "outputs": [
    {
     "data": {
      "text/plain": [
       "(56141, 7)"
      ]
     },
     "execution_count": 532,
     "metadata": {},
     "output_type": "execute_result"
    }
   ],
   "source": [
    "df.shape"
   ]
  },
  {
   "cell_type": "code",
   "execution_count": 533,
   "metadata": {
    "ExecuteTime": {
     "end_time": "2017-02-15T23:13:06.847416",
     "start_time": "2017-02-15T23:13:05.970124"
    },
    "collapsed": false
   },
   "outputs": [],
   "source": [
    "df2 = add_columns(df)"
   ]
  },
  {
   "cell_type": "code",
   "execution_count": 534,
   "metadata": {
    "ExecuteTime": {
     "end_time": "2017-02-15T23:13:07.309059",
     "start_time": "2017-02-15T23:13:07.286737"
    },
    "collapsed": false
   },
   "outputs": [
    {
     "data": {
      "text/html": [
       "<div>\n",
       "<table border=\"1\" class=\"dataframe\">\n",
       "  <thead>\n",
       "    <tr style=\"text-align: right;\">\n",
       "      <th></th>\n",
       "      <th>d_final_hand</th>\n",
       "      <th>p_final_hand</th>\n",
       "      <th>strategy</th>\n",
       "      <th>split</th>\n",
       "      <th>num_decks</th>\n",
       "      <th>d_open</th>\n",
       "      <th>d_initial</th>\n",
       "      <th>d_final</th>\n",
       "      <th>d_hit</th>\n",
       "      <th>d_bust</th>\n",
       "      <th>p_initial</th>\n",
       "      <th>p_final</th>\n",
       "      <th>p_hit</th>\n",
       "      <th>p_bust</th>\n",
       "      <th>p_win</th>\n",
       "    </tr>\n",
       "  </thead>\n",
       "  <tbody>\n",
       "    <tr>\n",
       "      <th>0</th>\n",
       "      <td>4,Q</td>\n",
       "      <td>8,K,6</td>\n",
       "      <td>1</td>\n",
       "      <td>0</td>\n",
       "      <td>4</td>\n",
       "      <td>4</td>\n",
       "      <td>14</td>\n",
       "      <td>14</td>\n",
       "      <td>0</td>\n",
       "      <td>0</td>\n",
       "      <td>18</td>\n",
       "      <td>24</td>\n",
       "      <td>1</td>\n",
       "      <td>1</td>\n",
       "      <td>0</td>\n",
       "    </tr>\n",
       "    <tr>\n",
       "      <th>1</th>\n",
       "      <td>A,8</td>\n",
       "      <td>2,9,5,Q</td>\n",
       "      <td>0</td>\n",
       "      <td>0</td>\n",
       "      <td>4</td>\n",
       "      <td>1</td>\n",
       "      <td>21</td>\n",
       "      <td>21</td>\n",
       "      <td>0</td>\n",
       "      <td>0</td>\n",
       "      <td>11</td>\n",
       "      <td>26</td>\n",
       "      <td>1</td>\n",
       "      <td>1</td>\n",
       "      <td>0</td>\n",
       "    </tr>\n",
       "    <tr>\n",
       "      <th>2</th>\n",
       "      <td>3,5</td>\n",
       "      <td>5,3,9,5</td>\n",
       "      <td>1</td>\n",
       "      <td>0</td>\n",
       "      <td>4</td>\n",
       "      <td>3</td>\n",
       "      <td>8</td>\n",
       "      <td>8</td>\n",
       "      <td>0</td>\n",
       "      <td>0</td>\n",
       "      <td>8</td>\n",
       "      <td>22</td>\n",
       "      <td>1</td>\n",
       "      <td>1</td>\n",
       "      <td>0</td>\n",
       "    </tr>\n",
       "    <tr>\n",
       "      <th>3</th>\n",
       "      <td>6,3,7,K</td>\n",
       "      <td>8,K,3</td>\n",
       "      <td>1</td>\n",
       "      <td>0</td>\n",
       "      <td>4</td>\n",
       "      <td>6</td>\n",
       "      <td>9</td>\n",
       "      <td>26</td>\n",
       "      <td>1</td>\n",
       "      <td>1</td>\n",
       "      <td>18</td>\n",
       "      <td>21</td>\n",
       "      <td>1</td>\n",
       "      <td>0</td>\n",
       "      <td>1</td>\n",
       "    </tr>\n",
       "    <tr>\n",
       "      <th>4</th>\n",
       "      <td>5,8,K</td>\n",
       "      <td>4,A,J,6</td>\n",
       "      <td>1</td>\n",
       "      <td>0</td>\n",
       "      <td>4</td>\n",
       "      <td>5</td>\n",
       "      <td>13</td>\n",
       "      <td>23</td>\n",
       "      <td>1</td>\n",
       "      <td>1</td>\n",
       "      <td>21</td>\n",
       "      <td>31</td>\n",
       "      <td>1</td>\n",
       "      <td>1</td>\n",
       "      <td>1</td>\n",
       "    </tr>\n",
       "  </tbody>\n",
       "</table>\n",
       "</div>"
      ],
      "text/plain": [
       "  d_final_hand p_final_hand  strategy  split  num_decks  d_open  d_initial  \\\n",
       "0          4,Q        8,K,6         1      0          4       4         14   \n",
       "1          A,8      2,9,5,Q         0      0          4       1         21   \n",
       "2          3,5      5,3,9,5         1      0          4       3          8   \n",
       "3      6,3,7,K        8,K,3         1      0          4       6          9   \n",
       "4        5,8,K      4,A,J,6         1      0          4       5         13   \n",
       "\n",
       "   d_final  d_hit  d_bust  p_initial  p_final  p_hit  p_bust  p_win  \n",
       "0       14      0       0         18       24      1       1      0  \n",
       "1       21      0       0         11       26      1       1      0  \n",
       "2        8      0       0          8       22      1       1      0  \n",
       "3       26      1       1         18       21      1       0      1  \n",
       "4       23      1       1         21       31      1       1      1  "
      ]
     },
     "execution_count": 534,
     "metadata": {},
     "output_type": "execute_result"
    }
   ],
   "source": [
    "df2.head()"
   ]
  },
  {
   "cell_type": "code",
   "execution_count": 535,
   "metadata": {
    "ExecuteTime": {
     "end_time": "2017-02-15T23:13:08.108474",
     "start_time": "2017-02-15T23:13:08.099890"
    },
    "collapsed": false
   },
   "outputs": [
    {
     "data": {
      "text/plain": [
       "d_final_hand    object\n",
       "p_final_hand    object\n",
       "strategy         int64\n",
       "split            int64\n",
       "num_decks        int64\n",
       "d_open           int64\n",
       "d_initial        int64\n",
       "d_final          int64\n",
       "d_hit            int64\n",
       "d_bust           int64\n",
       "p_initial        int64\n",
       "p_final          int64\n",
       "p_hit            int64\n",
       "p_bust           int64\n",
       "p_win            int64\n",
       "dtype: object"
      ]
     },
     "execution_count": 535,
     "metadata": {},
     "output_type": "execute_result"
    }
   ],
   "source": [
    "df2.dtypes"
   ]
  },
  {
   "cell_type": "code",
   "execution_count": 536,
   "metadata": {
    "ExecuteTime": {
     "end_time": "2017-02-15T23:13:10.088176",
     "start_time": "2017-02-15T23:13:09.538342"
    },
    "collapsed": true
   },
   "outputs": [],
   "source": [
    "df2.to_csv(\"blackjack_data.csv\", index=False)"
   ]
  }
 ],
 "metadata": {
  "kernelspec": {
   "display_name": "Python [conda env:py36]",
   "language": "python",
   "name": "conda-env-py36-py"
  },
  "language_info": {
   "codemirror_mode": {
    "name": "ipython",
    "version": 3
   },
   "file_extension": ".py",
   "mimetype": "text/x-python",
   "name": "python",
   "nbconvert_exporter": "python",
   "pygments_lexer": "ipython3",
   "version": "3.6.0"
  },
  "toc": {
   "nav_menu": {
    "height": "138px",
    "width": "252px"
   },
   "navigate_menu": true,
   "number_sections": true,
   "sideBar": true,
   "threshold": 4,
   "toc_cell": false,
   "toc_section_display": "block",
   "toc_window_display": false
  }
 },
 "nbformat": 4,
 "nbformat_minor": 1
}
