{
 "cells": [
  {
   "cell_type": "code",
   "execution_count": 1,
   "metadata": {
    "ExecuteTime": {
     "end_time": "2017-02-03T16:10:26.563429",
     "start_time": "2017-02-03T16:10:25.591880"
    },
    "collapsed": false
   },
   "outputs": [],
   "source": [
    "import numpy as np\n",
    "import pandas as pd\n",
    "import matplotlib.pyplot as plt\n",
    "import seaborn as sns\n",
    "\n",
    "%matplotlib inline"
   ]
  },
  {
   "cell_type": "markdown",
   "metadata": {},
   "source": [
    "# Modeling the problem"
   ]
  },
  {
   "cell_type": "markdown",
   "metadata": {},
   "source": [
    "## What we need"
   ]
  },
  {
   "cell_type": "markdown",
   "metadata": {},
   "source": [
    "- game simulation\n",
    "    - deck of cards\n",
    "        - multiple decks required\n",
    "    - deal alternately to player and dealer\n",
    "    - hit a hand with a card\n",
    "    - points counter\n",
    "        - what value is Ace\n",
    "- data\n",
    "    - dealer open card\n",
    "    - dealer final point score\n",
    "    - player original point score\n",
    "    - whether player should hit\n",
    "    - player final point score\n",
    "    - player loses, draw, player wins\n",
    "- functions and classes\n",
    "    - deck\n",
    "    - shuffle deck\n",
    "    - deal\n",
    "    - hit\n",
    "    - point counter"
   ]
  },
  {
   "cell_type": "markdown",
   "metadata": {},
   "source": [
    "# Generate data"
   ]
  },
  {
   "cell_type": "markdown",
   "metadata": {},
   "source": [
    "## Create a deck class"
   ]
  },
  {
   "cell_type": "markdown",
   "metadata": {},
   "source": [
    "- deck of 52 cards\n",
    "- Ace to King for each suit\n",
    "- suits don't matter in blackjack\n",
    "    - let's omit them\n",
    "- we want to be able to \n",
    "    - create multiple decks\n",
    "    - to shuffle the deck\n",
    "    - to draw a card from the deck"
   ]
  },
  {
   "cell_type": "code",
   "execution_count": 2,
   "metadata": {
    "ExecuteTime": {
     "end_time": "2017-02-03T16:10:29.229902",
     "start_time": "2017-02-03T16:10:29.215581"
    },
    "collapsed": false
   },
   "outputs": [],
   "source": [
    "class Deck():\n",
    "    \"\"\" Create a deck class \"\"\"\n",
    "    \n",
    "    values = [\"A\", 2, 3, 4, 5, 6, 7, 8, 9, 10, \"J\", \"Q\", \"K\"] \n",
    "    def __init__(self, num_decks=1, suits=4, values=values):\n",
    "        self.num_decks = num_decks\n",
    "        self.deck = values * suits * self.num_decks\n",
    "    \n",
    "    def __str__(self):\n",
    "        return \"{} deck(s), {} cards left\".format(self.num_decks, len(self.deck)) \n",
    "    \n",
    "    def shuffle_deck(self):\n",
    "        # let's shuffle the deck a random number of times from 5 to 10\n",
    "        for i in range(np.random.randint(5,11)):\n",
    "            np.random.shuffle(self.deck)\n",
    "        \n",
    "    def deal(self, hand=None):\n",
    "        if hand == None:\n",
    "            return self.deck.pop(0)\n",
    "        else:\n",
    "            hand.append(self.deck.pop(0))"
   ]
  },
  {
   "cell_type": "code",
   "execution_count": 3,
   "metadata": {
    "ExecuteTime": {
     "end_time": "2017-02-03T16:10:30.931414",
     "start_time": "2017-02-03T16:10:30.927630"
    },
    "collapsed": true
   },
   "outputs": [],
   "source": [
    "# create a test deck\n",
    "test_deck = Deck()"
   ]
  },
  {
   "cell_type": "code",
   "execution_count": 4,
   "metadata": {
    "ExecuteTime": {
     "end_time": "2017-02-03T16:10:31.538011",
     "start_time": "2017-02-03T16:10:31.532831"
    },
    "collapsed": false
   },
   "outputs": [
    {
     "name": "stdout",
     "output_type": "stream",
     "text": [
      "1 deck(s), 52 cards left\n"
     ]
    }
   ],
   "source": [
    "# Check the deck\n",
    "print (test_deck)"
   ]
  },
  {
   "cell_type": "code",
   "execution_count": 5,
   "metadata": {
    "ExecuteTime": {
     "end_time": "2017-02-03T16:10:32.668432",
     "start_time": "2017-02-03T16:10:32.663358"
    },
    "collapsed": false
   },
   "outputs": [
    {
     "name": "stdout",
     "output_type": "stream",
     "text": [
      "['A', 2, 3, 4, 5, 6, 7, 8, 9, 10, 'J', 'Q', 'K', 'A', 2, 3, 4, 5, 6, 7, 8, 9, 10, 'J', 'Q', 'K', 'A', 2, 3, 4, 5, 6, 7, 8, 9, 10, 'J', 'Q', 'K', 'A', 2, 3, 4, 5, 6, 7, 8, 9, 10, 'J', 'Q', 'K']\n"
     ]
    }
   ],
   "source": [
    "# Take a look at the cards before shuffling\n",
    "print (test_deck.deck)"
   ]
  },
  {
   "cell_type": "code",
   "execution_count": 6,
   "metadata": {
    "ExecuteTime": {
     "end_time": "2017-02-03T16:10:33.148217",
     "start_time": "2017-02-03T16:10:33.143048"
    },
    "collapsed": false
   },
   "outputs": [
    {
     "name": "stdout",
     "output_type": "stream",
     "text": [
      "[7, 9, 10, 6, 4, 'Q', 2, 'J', 'Q', 9, 10, 3, 'A', 'K', 7, 9, 3, 10, 5, 'Q', 'A', 'K', 8, 'J', 8, 10, 6, 9, 5, 2, 3, 'J', 6, 8, 2, 4, 3, 7, 4, 4, 'K', 5, 'K', 7, 5, 8, 2, 'A', 'Q', 'A', 'J', 6]\n"
     ]
    }
   ],
   "source": [
    "# Shuffle the cards and take another look\n",
    "test_deck.shuffle_deck()\n",
    "print (test_deck.deck)"
   ]
  },
  {
   "cell_type": "code",
   "execution_count": 7,
   "metadata": {
    "ExecuteTime": {
     "end_time": "2017-02-03T16:10:33.614032",
     "start_time": "2017-02-03T16:10:33.607041"
    },
    "collapsed": false
   },
   "outputs": [
    {
     "data": {
      "text/plain": [
       "7"
      ]
     },
     "execution_count": 7,
     "metadata": {},
     "output_type": "execute_result"
    }
   ],
   "source": [
    "# Deal a card\n",
    "test_deck.deal()"
   ]
  },
  {
   "cell_type": "code",
   "execution_count": 8,
   "metadata": {
    "ExecuteTime": {
     "end_time": "2017-02-03T16:10:34.156999",
     "start_time": "2017-02-03T16:10:34.151125"
    },
    "collapsed": false
   },
   "outputs": [
    {
     "name": "stdout",
     "output_type": "stream",
     "text": [
      "[9, 10, 6, 4, 'Q', 2, 'J', 'Q', 9, 10, 3, 'A', 'K', 7, 9, 3, 10, 5, 'Q', 'A', 'K', 8, 'J', 8, 10, 6, 9, 5, 2, 3, 'J', 6, 8, 2, 4, 3, 7, 4, 4, 'K', 5, 'K', 7, 5, 8, 2, 'A', 'Q', 'A', 'J', 6]\n",
      "1 deck(s), 51 cards left\n"
     ]
    }
   ],
   "source": [
    "# Check what the deck looks like now\n",
    "print (test_deck.deck)\n",
    "print (test_deck)"
   ]
  },
  {
   "cell_type": "markdown",
   "metadata": {},
   "source": [
    "# Create a function that deals the inital two cards"
   ]
  },
  {
   "cell_type": "code",
   "execution_count": 31,
   "metadata": {
    "ExecuteTime": {
     "end_time": "2017-02-03T16:22:04.549580",
     "start_time": "2017-02-03T16:22:04.540785"
    },
    "collapsed": true
   },
   "outputs": [],
   "source": [
    "def start_game(num_decks=8):\n",
    "    # create deck\n",
    "    game_deck = Deck(num_decks)\n",
    "#     print (game_deck)\n",
    "    \n",
    "    # create hands\n",
    "    dealer_hand = []\n",
    "    player_hand = []\n",
    "    \n",
    "    # shuffle deck\n",
    "    game_deck.shuffle_deck()\n",
    "    \n",
    "    # deal 2 cards each\n",
    "    for _ in range(2):\n",
    "        game_deck.deal(player_hand)\n",
    "        game_deck.deal(dealer_hand)\n",
    "        \n",
    "    return game_deck, dealer_hand, player_hand"
   ]
  },
  {
   "cell_type": "code",
   "execution_count": 16,
   "metadata": {
    "ExecuteTime": {
     "end_time": "2017-02-03T16:10:58.844648",
     "start_time": "2017-02-03T16:10:58.838731"
    },
    "collapsed": false
   },
   "outputs": [
    {
     "name": "stdout",
     "output_type": "stream",
     "text": [
      "8 deck(s), 416 cards left\n"
     ]
    }
   ],
   "source": [
    "game_deck, dealer_hand, player_hand = start_game()"
   ]
  },
  {
   "cell_type": "code",
   "execution_count": 17,
   "metadata": {
    "ExecuteTime": {
     "end_time": "2017-02-03T16:11:00.443673",
     "start_time": "2017-02-03T16:11:00.438741"
    },
    "collapsed": false
   },
   "outputs": [
    {
     "name": "stdout",
     "output_type": "stream",
     "text": [
      "8 deck(s), 412 cards left\n"
     ]
    }
   ],
   "source": [
    "print (game_deck)"
   ]
  },
  {
   "cell_type": "code",
   "execution_count": 12,
   "metadata": {
    "ExecuteTime": {
     "end_time": "2017-02-03T16:10:47.684976",
     "start_time": "2017-02-03T16:10:47.679045"
    },
    "collapsed": false
   },
   "outputs": [
    {
     "data": {
      "text/plain": [
       "[4, 2]"
      ]
     },
     "execution_count": 12,
     "metadata": {},
     "output_type": "execute_result"
    }
   ],
   "source": [
    "dealer_hand"
   ]
  },
  {
   "cell_type": "code",
   "execution_count": 13,
   "metadata": {
    "ExecuteTime": {
     "end_time": "2017-02-03T16:10:48.197347",
     "start_time": "2017-02-03T16:10:48.191554"
    },
    "collapsed": false
   },
   "outputs": [
    {
     "data": {
      "text/plain": [
       "[7, 6]"
      ]
     },
     "execution_count": 13,
     "metadata": {},
     "output_type": "execute_result"
    }
   ],
   "source": [
    "player_hand"
   ]
  },
  {
   "cell_type": "code",
   "execution_count": 14,
   "metadata": {
    "ExecuteTime": {
     "end_time": "2017-02-03T16:10:49.796952",
     "start_time": "2017-02-03T16:10:49.791421"
    },
    "collapsed": false
   },
   "outputs": [
    {
     "data": {
      "text/plain": [
       "[7, 6, 7]"
      ]
     },
     "execution_count": 14,
     "metadata": {},
     "output_type": "execute_result"
    }
   ],
   "source": [
    "game_deck.deal(player_hand)\n",
    "player_hand"
   ]
  },
  {
   "cell_type": "markdown",
   "metadata": {},
   "source": [
    "# Create a function that calculates points of a hand"
   ]
  },
  {
   "cell_type": "code",
   "execution_count": 18,
   "metadata": {
    "ExecuteTime": {
     "end_time": "2017-02-03T16:12:43.335899",
     "start_time": "2017-02-03T16:12:43.291131"
    },
    "collapsed": false
   },
   "outputs": [],
   "source": [
    "def get_points(hand):\n",
    "    \n",
    "    # We want to track how the Ace was counted, if any\n",
    "    # Whether it was a 1 or 11\n",
    "    # So we want a tuple of (points, Ace_value)\n",
    "    points = (0, 0)\n",
    "    \n",
    "    # replicate the original list\n",
    "    cards = [i for i in hand]\n",
    "    \n",
    "    # If there's an Ace in the hand, take it out first\n",
    "    # And count how many Aces there are\n",
    "    has_A = 0\n",
    "    while \"A\" in cards:\n",
    "        has_A += 1\n",
    "        cards.remove(\"A\")\n",
    "        \n",
    "    # Get total points for all other cards\n",
    "    try:\n",
    "        if len(cards) > 0:\n",
    "            for i in cards:\n",
    "                try:\n",
    "                    points = (points[0] + int(i), 0)\n",
    "                except:\n",
    "                    points = (points[0] + 10, 0)\n",
    "    except:\n",
    "        print (cards)\n",
    "        print (type(cards))\n",
    "    # Deal with the Ace if there was at least one\n",
    "    \n",
    "    for i in range(has_A):\n",
    "        if type(points) == tuple:\n",
    "            if points[0] + 11 <= 21:\n",
    "                points = [(points[0] + 11, 11), (points[0] + 1, 1)]\n",
    "            else:\n",
    "                points = [(points[0] + 1, 1)]\n",
    "        else:\n",
    "            new_points = []\n",
    "            for j in points:\n",
    "                if j[0] + 11 <= 21:\n",
    "                    new_points.extend([(j[0] + 11, 11), (j[0] + 1, 1)])\n",
    "                else:\n",
    "                    new_points.extend([(j[0] + 1, 1)])\n",
    "            points = new_points\n",
    "    \n",
    "    # Now, points could be a list of tuples or a tuple\n",
    "    if type(points) == list:\n",
    "        # Sort the list by number of points in descending order\n",
    "        points.sort(reverse=True)\n",
    "        new_points = [i for i in points if i[0] <= 21]\n",
    "        \n",
    "        try:\n",
    "            if len(new_points) == 0:\n",
    "                # if there are no items in new_points\n",
    "                # return the smallest item\n",
    "                return points[-1]\n",
    "            else:\n",
    "                return new_points[0]\n",
    "        except:\n",
    "            print (new_points)\n",
    "            print (type(new_points))\n",
    "    else:\n",
    "        return points # What we get back is a tuple (points, ace_value)"
   ]
  },
  {
   "cell_type": "code",
   "execution_count": 19,
   "metadata": {
    "ExecuteTime": {
     "end_time": "2017-02-03T16:12:45.809584",
     "start_time": "2017-02-03T16:12:45.803360"
    },
    "collapsed": false
   },
   "outputs": [
    {
     "data": {
      "text/plain": [
       "(29, 1)"
      ]
     },
     "execution_count": 19,
     "metadata": {},
     "output_type": "execute_result"
    }
   ],
   "source": [
    "get_points([\"A\", \"K\", 9, 9])"
   ]
  },
  {
   "cell_type": "code",
   "execution_count": 20,
   "metadata": {
    "ExecuteTime": {
     "end_time": "2017-02-03T16:12:46.449385",
     "start_time": "2017-02-03T16:12:46.443368"
    },
    "collapsed": false
   },
   "outputs": [
    {
     "data": {
      "text/plain": [
       "(21, 11)"
      ]
     },
     "execution_count": 20,
     "metadata": {},
     "output_type": "execute_result"
    }
   ],
   "source": [
    "get_points([\"A\", \"K\"])"
   ]
  },
  {
   "cell_type": "code",
   "execution_count": 21,
   "metadata": {
    "ExecuteTime": {
     "end_time": "2017-02-03T16:12:47.240950",
     "start_time": "2017-02-03T16:12:47.234948"
    },
    "collapsed": false
   },
   "outputs": [
    {
     "data": {
      "text/plain": [
       "(20, 11)"
      ]
     },
     "execution_count": 21,
     "metadata": {},
     "output_type": "execute_result"
    }
   ],
   "source": [
    "get_points([\"A\", 9])"
   ]
  },
  {
   "cell_type": "code",
   "execution_count": 22,
   "metadata": {
    "ExecuteTime": {
     "end_time": "2017-02-03T16:12:49.361298",
     "start_time": "2017-02-03T16:12:49.355401"
    },
    "collapsed": false
   },
   "outputs": [
    {
     "data": {
      "text/plain": [
       "(17, 11)"
      ]
     },
     "execution_count": 22,
     "metadata": {},
     "output_type": "execute_result"
    }
   ],
   "source": [
    "get_points([\"A\", 6])"
   ]
  },
  {
   "cell_type": "markdown",
   "metadata": {},
   "source": [
    "# Create a function that simulates a full game"
   ]
  },
  {
   "cell_type": "code",
   "execution_count": 53,
   "metadata": {
    "ExecuteTime": {
     "end_time": "2017-02-03T16:26:11.771773",
     "start_time": "2017-02-03T16:26:11.703412"
    },
    "collapsed": false
   },
   "outputs": [],
   "source": [
    "def simulate_game(strategy=0):\n",
    "    game_deck, dealer_hand, player_hand = start_game()\n",
    "    dealer_open, dealer_closed = dealer_hand\n",
    "    player_card_one, player_card_two = player_hand\n",
    "    dealer_original = get_points(dealer_hand)[0]\n",
    "    player_original = get_points(player_hand)[0]\n",
    "    \n",
    "    # Player goes first\n",
    "    \n",
    "    # track how many times the player hit\n",
    "    player_hit = 0\n",
    "    \n",
    "    # Change dealer_open to numerical\n",
    "    if dealer_open in [\"J\", \"Q\", \"K\"]:\n",
    "        dealer_open = 10\n",
    "    elif dealer_open == \"A\":\n",
    "        dealer_open = 1 # treat it as 1 for purposes of hitting\n",
    "    \n",
    "    # Player always hits 11 and below\n",
    "    while get_points(player_hand)[0] <= 11:\n",
    "            game_deck.deal(player_hand)\n",
    "            player_hit += 1\n",
    "            \n",
    "    if strategy == 0:\n",
    "        # Randomize it for the player to some extent\n",
    "        while get_points(player_hand)[0] < 20:\n",
    "            if np.random.random() <= 0.5:\n",
    "                game_deck.deal(player_hand)\n",
    "                player_hit += 1\n",
    "            else:\n",
    "                break\n",
    "    elif strategy == 1:\n",
    "        # From lasvegas-how-to.com\n",
    "        # Stand on a hand of 17 or more \n",
    "        # Never hit on 12, 13, 14, 15 or 16 when the dealer is showing 16 or less\n",
    "        # Always split 8's\n",
    "        # Double down on 11 if dealer is showing 17 or less\n",
    "        if dealer_open < 7:\n",
    "            while get_points(player_hand)[0] < 12:\n",
    "                game_deck.deal(player_hand)\n",
    "                player_hit += 1\n",
    "        else:\n",
    "            while get_points(player_hand)[0] < 17:\n",
    "                game_deck.deal(player_hand)\n",
    "                player_hit += 1\n",
    "        \n",
    "    # Dealer's turn\n",
    "    # if Player has busted, dealer doesn't need to play\n",
    "    player_final = get_points(player_hand)[0]\n",
    "    player_busts = player_final > 21\n",
    "    # track how many times the dealer hits                           \n",
    "    dealer_hit = 0\n",
    "    if not player_busts:\n",
    "        \n",
    "\n",
    "        # Check if the dealer needs to hit\n",
    "        # Dealer hits below 17\n",
    "        while get_points(dealer_hand)[0] < 17:\n",
    "            game_deck.deal(dealer_hand)\n",
    "            dealer_hit += 1\n",
    "\n",
    "        # If dealer is at 17, check if it's a soft 17\n",
    "        # if yes, hit\n",
    "\n",
    "        if get_points(dealer_hand)[0] <= 17 and get_points(dealer_hand)[1] == 11:\n",
    "            game_deck.deal(dealer_hand)\n",
    "            dealer_hit += 1\n",
    "    \n",
    "    dealer_final = get_points(dealer_hand)[0]\n",
    "    \n",
    "    \n",
    "    dealer_busts = dealer_final > 21\n",
    "    \n",
    "    \n",
    "    \n",
    "    player_results = 2 #let's use 2 for a draw\n",
    "    \n",
    "    if player_busts:\n",
    "        player_results = 0\n",
    "    elif dealer_busts:\n",
    "        player_results = 1\n",
    "    elif player_final >= dealer_final:\n",
    "        player_results = 1\n",
    "#     print(game_deck)\n",
    "    return [dealer_open, dealer_closed, dealer_original, dealer_hit, dealer_final, int(dealer_busts), dealer_hand,\n",
    "            player_card_one, player_card_two, player_original, player_hit, player_final, int(player_busts), \n",
    "            player_results, player_hand, strategy]"
   ]
  },
  {
   "cell_type": "code",
   "execution_count": 54,
   "metadata": {
    "ExecuteTime": {
     "end_time": "2017-02-03T16:26:16.940314",
     "start_time": "2017-02-03T16:26:16.932913"
    },
    "collapsed": false
   },
   "outputs": [
    {
     "data": {
      "text/plain": [
       "[2, 'J', 12, 1, 22, 1, [2, 'J', 'K'], 'J', 10, 20, 0, 20, 0, 1, ['J', 10], 0]"
      ]
     },
     "execution_count": 54,
     "metadata": {},
     "output_type": "execute_result"
    }
   ],
   "source": [
    "simulate_game()"
   ]
  },
  {
   "cell_type": "code",
   "execution_count": 55,
   "metadata": {
    "ExecuteTime": {
     "end_time": "2017-02-03T16:26:17.470998",
     "start_time": "2017-02-03T16:26:17.461080"
    },
    "collapsed": false
   },
   "outputs": [],
   "source": [
    "# define a function to generate a dataframe\n",
    "def gen_df(num=50000):\n",
    "    ran_strat = [simulate_game() for _ in range(num)]\n",
    "    rec_strat = [simulate_game(strategy=1) for _ in range(num)]\n",
    "    data = []\n",
    "    data.extend(ran_strat)\n",
    "    data.extend(rec_strat)\n",
    "    df = pd.DataFrame(data, columns=[\"dealer_open\", \"dealer_closed\", \n",
    "                               \"dealer_original\", \"dealer_hit\", \n",
    "                               \"dealer_final\", \"dealer_busts\", \n",
    "                                 \"dealer_hand\",\n",
    "                               \"player_card_one\", \"player_card_two\", \n",
    "                               \"player_original\", \"player_hit\", \n",
    "                               \"player_final\", \"player_busts\", \n",
    "                               \"player_result\", \"player_hand\", \"rec_strategy\"])\n",
    "    return df"
   ]
  },
  {
   "cell_type": "code",
   "execution_count": 56,
   "metadata": {
    "ExecuteTime": {
     "end_time": "2017-02-03T16:26:39.413590",
     "start_time": "2017-02-03T16:26:22.196724"
    },
    "collapsed": false
   },
   "outputs": [],
   "source": [
    "df = gen_df()"
   ]
  },
  {
   "cell_type": "code",
   "execution_count": 45,
   "metadata": {
    "ExecuteTime": {
     "end_time": "2017-02-03T16:24:36.135578",
     "start_time": "2017-02-03T16:24:35.851792"
    },
    "collapsed": false
   },
   "outputs": [],
   "source": [
    "old_data = pd.read_csv(\"blackjack.csv\")\n",
    "df = pd.concat([old_data, df])"
   ]
  },
  {
   "cell_type": "code",
   "execution_count": null,
   "metadata": {
    "ExecuteTime": {
     "end_time": "2017-02-03T15:24:42.959349",
     "start_time": "2017-02-03T15:24:41.903523"
    },
    "collapsed": false
   },
   "outputs": [],
   "source": [
    "# Save so we can add to it next time\n",
    "df.to_csv(\"blackjack.csv\", index=False)"
   ]
  },
  {
   "cell_type": "code",
   "execution_count": null,
   "metadata": {
    "ExecuteTime": {
     "end_time": "2017-02-03T15:24:39.749098",
     "start_time": "2017-02-03T15:24:39.743633"
    },
    "collapsed": false
   },
   "outputs": [],
   "source": [
    "df.shape"
   ]
  },
  {
   "cell_type": "code",
   "execution_count": 57,
   "metadata": {
    "ExecuteTime": {
     "end_time": "2017-02-03T16:26:40.686877",
     "start_time": "2017-02-03T16:26:40.659453"
    },
    "collapsed": false
   },
   "outputs": [
    {
     "data": {
      "text/html": [
       "<div>\n",
       "<table border=\"1\" class=\"dataframe\">\n",
       "  <thead>\n",
       "    <tr style=\"text-align: right;\">\n",
       "      <th></th>\n",
       "      <th>dealer_open</th>\n",
       "      <th>dealer_closed</th>\n",
       "      <th>dealer_original</th>\n",
       "      <th>dealer_hit</th>\n",
       "      <th>dealer_final</th>\n",
       "      <th>dealer_busts</th>\n",
       "      <th>dealer_hand</th>\n",
       "      <th>player_card_one</th>\n",
       "      <th>player_card_two</th>\n",
       "      <th>player_original</th>\n",
       "      <th>player_hit</th>\n",
       "      <th>player_final</th>\n",
       "      <th>player_busts</th>\n",
       "      <th>player_result</th>\n",
       "      <th>player_hand</th>\n",
       "      <th>rec_strategy</th>\n",
       "    </tr>\n",
       "  </thead>\n",
       "  <tbody>\n",
       "    <tr>\n",
       "      <th>0</th>\n",
       "      <td>10</td>\n",
       "      <td>6</td>\n",
       "      <td>16</td>\n",
       "      <td>1</td>\n",
       "      <td>26</td>\n",
       "      <td>1</td>\n",
       "      <td>[K, 6, Q]</td>\n",
       "      <td>5</td>\n",
       "      <td>A</td>\n",
       "      <td>16</td>\n",
       "      <td>1</td>\n",
       "      <td>12</td>\n",
       "      <td>0</td>\n",
       "      <td>1</td>\n",
       "      <td>[5, A, 6]</td>\n",
       "      <td>0</td>\n",
       "    </tr>\n",
       "    <tr>\n",
       "      <th>1</th>\n",
       "      <td>2</td>\n",
       "      <td>6</td>\n",
       "      <td>8</td>\n",
       "      <td>0</td>\n",
       "      <td>8</td>\n",
       "      <td>0</td>\n",
       "      <td>[2, 6]</td>\n",
       "      <td>9</td>\n",
       "      <td>9</td>\n",
       "      <td>18</td>\n",
       "      <td>1</td>\n",
       "      <td>24</td>\n",
       "      <td>1</td>\n",
       "      <td>0</td>\n",
       "      <td>[9, 9, 6]</td>\n",
       "      <td>0</td>\n",
       "    </tr>\n",
       "    <tr>\n",
       "      <th>2</th>\n",
       "      <td>10</td>\n",
       "      <td>6</td>\n",
       "      <td>16</td>\n",
       "      <td>0</td>\n",
       "      <td>16</td>\n",
       "      <td>0</td>\n",
       "      <td>[Q, 6]</td>\n",
       "      <td>6</td>\n",
       "      <td>10</td>\n",
       "      <td>16</td>\n",
       "      <td>1</td>\n",
       "      <td>22</td>\n",
       "      <td>1</td>\n",
       "      <td>0</td>\n",
       "      <td>[6, 10, 6]</td>\n",
       "      <td>0</td>\n",
       "    </tr>\n",
       "    <tr>\n",
       "      <th>3</th>\n",
       "      <td>2</td>\n",
       "      <td>9</td>\n",
       "      <td>11</td>\n",
       "      <td>2</td>\n",
       "      <td>25</td>\n",
       "      <td>1</td>\n",
       "      <td>[2, 9, 4, J]</td>\n",
       "      <td>5</td>\n",
       "      <td>3</td>\n",
       "      <td>8</td>\n",
       "      <td>3</td>\n",
       "      <td>20</td>\n",
       "      <td>0</td>\n",
       "      <td>1</td>\n",
       "      <td>[5, 3, 4, 6, 2]</td>\n",
       "      <td>0</td>\n",
       "    </tr>\n",
       "    <tr>\n",
       "      <th>4</th>\n",
       "      <td>5</td>\n",
       "      <td>K</td>\n",
       "      <td>15</td>\n",
       "      <td>1</td>\n",
       "      <td>23</td>\n",
       "      <td>1</td>\n",
       "      <td>[5, K, 8]</td>\n",
       "      <td>4</td>\n",
       "      <td>8</td>\n",
       "      <td>12</td>\n",
       "      <td>0</td>\n",
       "      <td>12</td>\n",
       "      <td>0</td>\n",
       "      <td>1</td>\n",
       "      <td>[4, 8]</td>\n",
       "      <td>0</td>\n",
       "    </tr>\n",
       "  </tbody>\n",
       "</table>\n",
       "</div>"
      ],
      "text/plain": [
       "   dealer_open dealer_closed  dealer_original  dealer_hit  dealer_final  \\\n",
       "0           10             6               16           1            26   \n",
       "1            2             6                8           0             8   \n",
       "2           10             6               16           0            16   \n",
       "3            2             9               11           2            25   \n",
       "4            5             K               15           1            23   \n",
       "\n",
       "   dealer_busts   dealer_hand player_card_one player_card_two  \\\n",
       "0             1     [K, 6, Q]               5               A   \n",
       "1             0        [2, 6]               9               9   \n",
       "2             0        [Q, 6]               6              10   \n",
       "3             1  [2, 9, 4, J]               5               3   \n",
       "4             1     [5, K, 8]               4               8   \n",
       "\n",
       "   player_original  player_hit  player_final  player_busts  player_result  \\\n",
       "0               16           1            12             0              1   \n",
       "1               18           1            24             1              0   \n",
       "2               16           1            22             1              0   \n",
       "3                8           3            20             0              1   \n",
       "4               12           0            12             0              1   \n",
       "\n",
       "       player_hand  rec_strategy  \n",
       "0        [5, A, 6]             0  \n",
       "1        [9, 9, 6]             0  \n",
       "2       [6, 10, 6]             0  \n",
       "3  [5, 3, 4, 6, 2]             0  \n",
       "4           [4, 8]             0  "
      ]
     },
     "execution_count": 57,
     "metadata": {},
     "output_type": "execute_result"
    }
   ],
   "source": [
    "df.head()"
   ]
  },
  {
   "cell_type": "code",
   "execution_count": 61,
   "metadata": {
    "ExecuteTime": {
     "end_time": "2017-02-03T16:27:11.931565",
     "start_time": "2017-02-03T16:27:11.920944"
    },
    "collapsed": false
   },
   "outputs": [
    {
     "data": {
      "text/plain": [
       "0    12080\n",
       "1     7666\n",
       "Name: rec_strategy, dtype: int64"
      ]
     },
     "execution_count": 61,
     "metadata": {},
     "output_type": "execute_result"
    }
   ],
   "source": [
    "df.rec_strategy[df.player_busts == 1].value_counts()"
   ]
  },
  {
   "cell_type": "code",
   "execution_count": null,
   "metadata": {
    "collapsed": true
   },
   "outputs": [],
   "source": []
  },
  {
   "cell_type": "code",
   "execution_count": null,
   "metadata": {
    "collapsed": true
   },
   "outputs": [],
   "source": []
  },
  {
   "cell_type": "code",
   "execution_count": null,
   "metadata": {
    "collapsed": true
   },
   "outputs": [],
   "source": []
  },
  {
   "cell_type": "markdown",
   "metadata": {},
   "source": [
    "# Analyze data"
   ]
  },
  {
   "cell_type": "code",
   "execution_count": null,
   "metadata": {
    "ExecuteTime": {
     "end_time": "2017-02-03T15:05:32.812124",
     "start_time": "2017-02-03T15:05:31.753353"
    },
    "collapsed": false
   },
   "outputs": [],
   "source": [
    "df = pd.read_csv(\"blackjack.csv\")"
   ]
  },
  {
   "cell_type": "code",
   "execution_count": null,
   "metadata": {
    "ExecuteTime": {
     "end_time": "2017-02-03T15:05:33.358987",
     "start_time": "2017-02-03T15:05:33.332611"
    },
    "collapsed": false
   },
   "outputs": [],
   "source": [
    "df.head()"
   ]
  },
  {
   "cell_type": "markdown",
   "metadata": {},
   "source": [
    "## Comparing strategies"
   ]
  },
  {
   "cell_type": "code",
   "execution_count": null,
   "metadata": {
    "ExecuteTime": {
     "end_time": "2017-02-03T15:25:13.651927",
     "start_time": "2017-02-03T15:25:13.646538"
    },
    "collapsed": false
   },
   "outputs": [],
   "source": [
    "# Define a function to generate proportion of wins on random and recommended strategy\n",
    "# Return as list [proportion of wins on random, proportion of wins on recommended]\n",
    "def get_wins(num=100):\n",
    "    return [sum([simulate_game(strategy=\"random\")[-3] for _ in range(num)])/num, \n",
    "            sum([simulate_game(strategy=\"recommended\")[-3] for _ in range(num)])/num]"
   ]
  },
  {
   "cell_type": "code",
   "execution_count": null,
   "metadata": {
    "ExecuteTime": {
     "end_time": "2017-02-03T15:32:27.298676",
     "start_time": "2017-02-03T15:30:35.882860"
    },
    "collapsed": false
   },
   "outputs": [],
   "source": [
    "player_wins_df = pd.DataFrame([get_wins() for _ in range(5000)], columns=[\"random\", \"recommended\"])"
   ]
  },
  {
   "cell_type": "code",
   "execution_count": null,
   "metadata": {
    "ExecuteTime": {
     "end_time": "2017-02-03T15:32:27.311497",
     "start_time": "2017-02-03T15:32:27.300367"
    },
    "collapsed": false
   },
   "outputs": [],
   "source": [
    "old_player_data = pd.read_csv(\"player_wins.csv\")\n",
    "player_wins_df = pd.concat([old_player_data, player_wins_df])"
   ]
  },
  {
   "cell_type": "code",
   "execution_count": null,
   "metadata": {
    "ExecuteTime": {
     "end_time": "2017-02-03T15:32:29.232310",
     "start_time": "2017-02-03T15:32:29.184027"
    },
    "collapsed": false
   },
   "outputs": [],
   "source": [
    "# Save so we can add to it next time\n",
    "player_wins_df.to_csv(\"player_wins.csv\", index=False)"
   ]
  },
  {
   "cell_type": "code",
   "execution_count": null,
   "metadata": {
    "ExecuteTime": {
     "end_time": "2017-02-03T15:32:29.557962",
     "start_time": "2017-02-03T15:32:29.551853"
    },
    "collapsed": false
   },
   "outputs": [],
   "source": [
    "player_wins_df.shape"
   ]
  },
  {
   "cell_type": "code",
   "execution_count": null,
   "metadata": {
    "ExecuteTime": {
     "end_time": "2017-02-03T15:32:30.309522",
     "start_time": "2017-02-03T15:32:30.288906"
    },
    "collapsed": false
   },
   "outputs": [],
   "source": [
    "player_wins_df.describe()"
   ]
  },
  {
   "cell_type": "markdown",
   "metadata": {},
   "source": [
    "Notes: Our mean number of wins moves up by about 5% when moving from random to recommended strategy."
   ]
  },
  {
   "cell_type": "code",
   "execution_count": null,
   "metadata": {
    "ExecuteTime": {
     "end_time": "2017-02-03T15:32:33.014954",
     "start_time": "2017-02-03T15:32:32.712056"
    },
    "collapsed": false
   },
   "outputs": [],
   "source": [
    "sns.distplot(player_wins_df[\"random\"], bins=10);\n",
    "plt.xlabel(\"Number of player wins\");\n",
    "plt.ylabel(\"Number of trials with X number of player wins\");\n",
    "plt.title(\"Numer of player wins on random strategy\");\n",
    "plt.show();"
   ]
  },
  {
   "cell_type": "code",
   "execution_count": null,
   "metadata": {
    "ExecuteTime": {
     "end_time": "2017-02-03T15:32:34.058520",
     "start_time": "2017-02-03T15:32:33.782817"
    },
    "collapsed": false
   },
   "outputs": [],
   "source": [
    "sns.distplot(player_wins_df[\"recommended\"], bins=10);\n",
    "plt.xlabel(\"Number of player wins\");\n",
    "plt.ylabel(\"Number of trials with X number of player wins\");\n",
    "plt.title(\"Numer of player wins on recommended strategy\");\n",
    "plt.show();"
   ]
  },
  {
   "cell_type": "code",
   "execution_count": null,
   "metadata": {
    "collapsed": false
   },
   "outputs": [],
   "source": []
  },
  {
   "cell_type": "code",
   "execution_count": null,
   "metadata": {
    "collapsed": false
   },
   "outputs": [],
   "source": []
  },
  {
   "cell_type": "code",
   "execution_count": null,
   "metadata": {
    "collapsed": false
   },
   "outputs": [],
   "source": []
  },
  {
   "cell_type": "code",
   "execution_count": null,
   "metadata": {
    "collapsed": false
   },
   "outputs": [],
   "source": []
  },
  {
   "cell_type": "code",
   "execution_count": null,
   "metadata": {
    "collapsed": false
   },
   "outputs": [],
   "source": []
  },
  {
   "cell_type": "code",
   "execution_count": null,
   "metadata": {
    "collapsed": false
   },
   "outputs": [],
   "source": []
  },
  {
   "cell_type": "markdown",
   "metadata": {
    "collapsed": false
   },
   "source": [
    "## Dealer"
   ]
  },
  {
   "cell_type": "code",
   "execution_count": null,
   "metadata": {
    "ExecuteTime": {
     "end_time": "2017-02-03T15:32:42.489534",
     "start_time": "2017-02-03T15:32:42.418859"
    },
    "collapsed": false
   },
   "outputs": [],
   "source": [
    "dealer_hands = pd.pivot_table(df, index=[\"dealer_open\", \"strategy\"], \n",
    "                              values=[\"dealer_busts\", \"player_wins\"], aggfunc=[len, sum])\n",
    "dealer_hands.reset_index(inplace=True)\n",
    "dealer_hands.columns = dealer_hands.columns.values\n",
    "del dealer_hands[('len', 'player_wins')]\n",
    "dealer_hands.columns = [\"dealer_open\", \"strategy\",\"total\", \"dealer_busts\", \"player_wins\"]\n",
    "dealer_hands.head()"
   ]
  },
  {
   "cell_type": "markdown",
   "metadata": {},
   "source": [
    "We only get to see the dealer's open card, so that's the only one we care about."
   ]
  },
  {
   "cell_type": "code",
   "execution_count": null,
   "metadata": {
    "ExecuteTime": {
     "end_time": "2017-02-03T15:32:43.382933",
     "start_time": "2017-02-03T15:32:43.355768"
    },
    "collapsed": false
   },
   "outputs": [],
   "source": [
    "dealer_open_hand = dealer_hands.copy()\n",
    "dealer_open_hand[\"percent_dealer_busts\"] = dealer_open_hand[\"dealer_busts\"] / dealer_open_hand[\"total\"]\n",
    "dealer_open_hand[\"percent_player_wins\"] = dealer_open_hand[\"player_wins\"] / dealer_open_hand[\"total\"]\n",
    "dealer_open_hand"
   ]
  },
  {
   "cell_type": "code",
   "execution_count": null,
   "metadata": {
    "ExecuteTime": {
     "end_time": "2017-02-03T15:32:44.457469",
     "start_time": "2017-02-03T15:32:43.840236"
    },
    "collapsed": false
   },
   "outputs": [],
   "source": [
    "sns.barplot(x=\"dealer_open\", y=\"percent_dealer_busts\", data=dealer_open_hand);\n",
    "plt.title(\"Proportion of time dealer busts given dealer's open card\");\n",
    "plt.show();"
   ]
  },
  {
   "cell_type": "code",
   "execution_count": null,
   "metadata": {
    "ExecuteTime": {
     "end_time": "2017-02-03T15:32:44.964368",
     "start_time": "2017-02-03T15:32:44.460466"
    },
    "collapsed": false
   },
   "outputs": [],
   "source": [
    "sns.barplot(x=\"dealer_open\", y=\"percent_player_wins\", hue=\"strategy\", data=dealer_open_hand);\n",
    "plt.title(\"Proportion of time player wins given dealer's open card\");\n",
    "plt.show();"
   ]
  },
  {
   "cell_type": "code",
   "execution_count": null,
   "metadata": {
    "ExecuteTime": {
     "end_time": "2017-02-03T15:32:44.996420",
     "start_time": "2017-02-03T15:32:44.967152"
    },
    "collapsed": false
   },
   "outputs": [],
   "source": [
    "df.head()"
   ]
  },
  {
   "cell_type": "code",
   "execution_count": null,
   "metadata": {
    "ExecuteTime": {
     "end_time": "2017-02-03T15:32:46.062013",
     "start_time": "2017-02-03T15:32:45.969103"
    },
    "collapsed": false
   },
   "outputs": [],
   "source": [
    "dealer_fin = pd.pivot_table(df, index=[\"dealer_open\", \"strategy\"], values=[\"dealer_final\", \"player_wins\"], aggfunc=[len, np.median, sum])\n",
    "dealer_fin.reset_index(inplace=True)\n",
    "dealer_fin.columns = dealer_fin.columns.values\n",
    "del dealer_fin[(\"median\", \"player_wins\")]\n",
    "del dealer_fin[(\"sum\", \"dealer_final\")]\n",
    "del dealer_fin[(\"len\", \"dealer_final\")]\n",
    "dealer_fin.columns = [\"dealer_open\", \"strategy\", \"total\", \"median_dealer_final\", \"sum_player_wins\"]\n",
    "dealer_fin[\"percent_player_wins\"] = dealer_fin[\"sum_player_wins\"] / dealer_fin[\"total\"]\n",
    "dealer_fin.head()"
   ]
  },
  {
   "cell_type": "code",
   "execution_count": null,
   "metadata": {
    "ExecuteTime": {
     "end_time": "2017-02-03T15:32:47.178246",
     "start_time": "2017-02-03T15:32:46.551918"
    },
    "collapsed": false
   },
   "outputs": [],
   "source": [
    "sns.barplot(x=\"dealer_open\", y=\"median_dealer_final\", data=dealer_fin);\n",
    "plt.title(\"Median dealer final points given dealer's open card\");\n",
    "plt.show();"
   ]
  },
  {
   "cell_type": "code",
   "execution_count": null,
   "metadata": {
    "ExecuteTime": {
     "end_time": "2017-02-03T15:32:47.248506",
     "start_time": "2017-02-03T15:32:47.180333"
    },
    "collapsed": false
   },
   "outputs": [],
   "source": [
    "dealer_fin_p = pd.pivot_table(df, index=[\"dealer_final\", \"strategy\"], values=\"player_wins\", aggfunc=[len, sum]).reset_index()\n",
    "dealer_fin_p.columns = [\"dealer_final\", \"strategy\",\"total\", \"player_wins_draws\"]\n",
    "dealer_fin_p[\"percent_player_wins_draws\"] = dealer_fin_p[\"player_wins_draws\"]/dealer_fin_p[\"total\"]\n",
    "dealer_fin_p"
   ]
  },
  {
   "cell_type": "code",
   "execution_count": null,
   "metadata": {
    "ExecuteTime": {
     "end_time": "2017-02-03T15:32:49.237595",
     "start_time": "2017-02-03T15:32:48.727696"
    },
    "collapsed": false
   },
   "outputs": [],
   "source": [
    "sns.barplot(x=\"dealer_final\", y=\"percent_player_wins_draws\", hue=\"strategy\", data=dealer_fin_p);\n",
    "plt.title(\"Proportion of time player wins given dealer's final points\");\n",
    "plt.show();"
   ]
  },
  {
   "cell_type": "markdown",
   "metadata": {
    "collapsed": false
   },
   "source": [
    "## Player"
   ]
  },
  {
   "cell_type": "code",
   "execution_count": null,
   "metadata": {
    "ExecuteTime": {
     "end_time": "2017-02-03T15:32:50.230977",
     "start_time": "2017-02-03T15:32:50.088879"
    },
    "collapsed": false
   },
   "outputs": [],
   "source": [
    "player_hands = pd.pivot_table(df, index=[\"player_card_one\", \"player_card_two\", \"player_original\", \"strategy\"], \n",
    "                              values=[\"player_busts\", \"player_wins\"], aggfunc=[len, sum])\n",
    "player_hands.reset_index(inplace=True)\n",
    "player_hands.columns = player_hands.columns.values\n",
    "del player_hands[('len', 'player_wins')]\n",
    "player_hands.columns = [\"player_card_one\", \"player_card_two\", \"player_original\", \"strategy\", \n",
    "                        \"total\", \"player_busts\", \"player_wins\"]\n",
    "player_hands.head()"
   ]
  },
  {
   "cell_type": "code",
   "execution_count": null,
   "metadata": {
    "ExecuteTime": {
     "end_time": "2017-02-03T15:32:51.055139",
     "start_time": "2017-02-03T15:32:51.017513"
    },
    "collapsed": false
   },
   "outputs": [],
   "source": [
    "pd.crosstab(index=df[\"player_final\"], columns=df[\"strategy\"], values=df[\"strategy\"], aggfunc=len)"
   ]
  },
  {
   "cell_type": "code",
   "execution_count": null,
   "metadata": {
    "collapsed": true
   },
   "outputs": [],
   "source": []
  },
  {
   "cell_type": "code",
   "execution_count": null,
   "metadata": {
    "collapsed": true
   },
   "outputs": [],
   "source": []
  },
  {
   "cell_type": "raw",
   "metadata": {
    "ExecuteTime": {
     "end_time": "2017-02-03T16:04:27.834063",
     "start_time": "2017-02-03T16:04:27.823944"
    },
    "collapsed": false
   },
   "source": [
    "class play_blackjack():\n",
    "    \"\"\" Play a game of blackjack with just the dealer and one player \"\"\"\n",
    "    def __init__(self, num_decks=8):\n",
    "        self.deck = Deck(num_decks)\n",
    "        self.dealer_hand = []\n",
    "        self.player_hand = []\n",
    "        self.hands = [self.player_hand, self.dealer_hand]\n",
    "        \n",
    "    def play(self):\n",
    "        self.deck.shuffle_deck()\n",
    "        for _ in range(2):\n",
    "            for i in self.hands:\n",
    "                self.deck.deal(i)\n",
    "\n",
    "game = play_blackjack()\n",
    "game.play()\n",
    "\n",
    "game.dealer_hand\n",
    "\n",
    "game.player_hand\n",
    "\n",
    "game.deck.deal(game.player_hand)\n",
    "game.player_hand"
   ]
  },
  {
   "cell_type": "raw",
   "metadata": {
    "ExecuteTime": {
     "end_time": "2017-02-03T15:05:13.574062",
     "start_time": "2017-02-03T15:05:07.810268"
    },
    "collapsed": false
   },
   "source": [
    "ran_strat = [simulate_game() for _ in range(50000)]\n",
    "\n",
    "rec_strat = [simulate_game(strategy=\"recommended\") for _ in range(50000)]\n",
    "\n",
    "data = []\n",
    "data.extend(ran_strat)\n",
    "data.extend(rec_strat)\n",
    "# data[:5]\n",
    "\n",
    "df = pd.DataFrame(data, columns=[\"dealer_open\", \"dealer_closed\", \n",
    "                               \"dealer_original\", \"dealer_hit\", \n",
    "                               \"dealer_final\", \"dealer_busts\", \n",
    "                                 \"dealer_hand\",\n",
    "                               \"player_card_one\", \"player_card_two\", \n",
    "                               \"player_original\", \"player_hit\", \n",
    "                               \"player_final\", \"player_busts\", \n",
    "                               \"player_wins\", \"player_hand\", \"strategy\"])"
   ]
  }
 ],
 "metadata": {
  "anaconda-cloud": {},
  "kernelspec": {
   "display_name": "Python [conda env:py36]",
   "language": "python",
   "name": "conda-env-py36-py"
  },
  "language_info": {
   "codemirror_mode": {
    "name": "ipython",
    "version": 3
   },
   "file_extension": ".py",
   "mimetype": "text/x-python",
   "name": "python",
   "nbconvert_exporter": "python",
   "pygments_lexer": "ipython3",
   "version": "3.6.0"
  },
  "toc": {
   "nav_menu": {
    "height": "12px",
    "width": "252px"
   },
   "navigate_menu": true,
   "number_sections": true,
   "sideBar": true,
   "threshold": 4,
   "toc_cell": false,
   "toc_section_display": "block",
   "toc_window_display": false
  }
 },
 "nbformat": 4,
 "nbformat_minor": 1
}
