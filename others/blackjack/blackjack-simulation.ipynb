{
 "cells": [
  {
   "cell_type": "code",
   "execution_count": 1,
   "metadata": {
    "ExecuteTime": {
     "end_time": "2017-02-04T16:11:42.284535",
     "start_time": "2017-02-04T16:11:34.749677"
    },
    "collapsed": false
   },
   "outputs": [],
   "source": [
    "import numpy as np\n",
    "import pandas as pd\n",
    "import matplotlib.pyplot as plt\n",
    "import seaborn as sns\n",
    "\n",
    "%matplotlib inline"
   ]
  },
  {
   "cell_type": "markdown",
   "metadata": {},
   "source": [
    "# Modeling the problem"
   ]
  },
  {
   "cell_type": "markdown",
   "metadata": {},
   "source": [
    "## What we need"
   ]
  },
  {
   "cell_type": "markdown",
   "metadata": {},
   "source": [
    "- game simulation\n",
    "    - deck of cards\n",
    "        - multiple decks required\n",
    "    - deal alternately to player and dealer\n",
    "    - hit a hand with a card\n",
    "    - points counter\n",
    "        - what value is Ace\n",
    "- data\n",
    "    - dealer open card\n",
    "    - dealer final point score\n",
    "    - player original point score\n",
    "    - whether player should hit\n",
    "    - player final point score\n",
    "    - player loses, draw, player wins\n",
    "- functions and classes\n",
    "    - deck\n",
    "    - shuffle deck\n",
    "    - deal\n",
    "    - hit\n",
    "    - point counter"
   ]
  },
  {
   "cell_type": "markdown",
   "metadata": {},
   "source": [
    "# Generate data"
   ]
  },
  {
   "cell_type": "markdown",
   "metadata": {},
   "source": [
    "## Create a deck class"
   ]
  },
  {
   "cell_type": "markdown",
   "metadata": {},
   "source": [
    "- deck of 52 cards\n",
    "- Ace to King for each suit\n",
    "- suits don't matter in blackjack\n",
    "    - let's omit them\n",
    "- we want to be able to \n",
    "    - create multiple decks\n",
    "    - to shuffle the deck\n",
    "    - to draw a card from the deck"
   ]
  },
  {
   "cell_type": "code",
   "execution_count": 2,
   "metadata": {
    "ExecuteTime": {
     "end_time": "2017-02-04T16:11:46.816528",
     "start_time": "2017-02-04T16:11:46.801132"
    },
    "collapsed": false
   },
   "outputs": [],
   "source": [
    "class Deck():\n",
    "    \"\"\" Create a deck class \"\"\"\n",
    "    \n",
    "    values = [\"A\", 2, 3, 4, 5, 6, 7, 8, 9, 10, \"J\", \"Q\", \"K\"] \n",
    "    def __init__(self, num_decks=1, suits=4, values=values):\n",
    "        self.num_decks = num_decks\n",
    "        self.deck = values * suits * self.num_decks\n",
    "    \n",
    "    def __str__(self):\n",
    "        return \"{} deck(s), {} cards left\".format(self.num_decks, len(self.deck)) \n",
    "    \n",
    "    def shuffle_deck(self):\n",
    "        # let's shuffle the deck a random number of times from 5 to 10\n",
    "        for i in range(np.random.randint(5,11)):\n",
    "            np.random.shuffle(self.deck)\n",
    "        \n",
    "    def deal(self, hand=None):\n",
    "        if hand == None:\n",
    "            return self.deck.pop(0)\n",
    "        else:\n",
    "            hand.append(self.deck.pop(0))"
   ]
  },
  {
   "cell_type": "code",
   "execution_count": 3,
   "metadata": {
    "ExecuteTime": {
     "end_time": "2017-02-04T16:11:47.724009",
     "start_time": "2017-02-04T16:11:47.720111"
    },
    "collapsed": false
   },
   "outputs": [],
   "source": [
    "# create a test deck\n",
    "test_deck = Deck()"
   ]
  },
  {
   "cell_type": "code",
   "execution_count": 4,
   "metadata": {
    "ExecuteTime": {
     "end_time": "2017-02-04T16:11:48.211512",
     "start_time": "2017-02-04T16:11:48.205327"
    },
    "collapsed": false
   },
   "outputs": [
    {
     "name": "stdout",
     "output_type": "stream",
     "text": [
      "1 deck(s), 52 cards left\n"
     ]
    }
   ],
   "source": [
    "# Check the deck\n",
    "print (test_deck)"
   ]
  },
  {
   "cell_type": "code",
   "execution_count": 5,
   "metadata": {
    "ExecuteTime": {
     "end_time": "2017-02-04T16:11:49.077525",
     "start_time": "2017-02-04T16:11:49.072206"
    },
    "collapsed": false
   },
   "outputs": [
    {
     "name": "stdout",
     "output_type": "stream",
     "text": [
      "['A', 2, 3, 4, 5, 6, 7, 8, 9, 10, 'J', 'Q', 'K', 'A', 2, 3, 4, 5, 6, 7, 8, 9, 10, 'J', 'Q', 'K', 'A', 2, 3, 4, 5, 6, 7, 8, 9, 10, 'J', 'Q', 'K', 'A', 2, 3, 4, 5, 6, 7, 8, 9, 10, 'J', 'Q', 'K']\n"
     ]
    }
   ],
   "source": [
    "# Take a look at the cards before shuffling\n",
    "print (test_deck.deck)"
   ]
  },
  {
   "cell_type": "code",
   "execution_count": 6,
   "metadata": {
    "ExecuteTime": {
     "end_time": "2017-02-04T16:11:50.858195",
     "start_time": "2017-02-04T16:11:50.817669"
    },
    "collapsed": false
   },
   "outputs": [
    {
     "name": "stdout",
     "output_type": "stream",
     "text": [
      "['Q', 'J', 4, 7, 3, 9, 'A', 'A', 3, 'Q', 'A', 3, 'J', 2, 8, 'Q', 7, 10, 'A', 9, 7, 'J', 5, 2, 8, 2, 6, 4, 9, 'K', 9, 'K', 10, 3, 4, 6, 5, 6, 10, 8, 5, 10, 8, 'K', 7, 'K', 'Q', 'J', 4, 6, 2, 5]\n"
     ]
    }
   ],
   "source": [
    "# Shuffle the cards and take another look\n",
    "test_deck.shuffle_deck()\n",
    "print (test_deck.deck)"
   ]
  },
  {
   "cell_type": "code",
   "execution_count": 7,
   "metadata": {
    "ExecuteTime": {
     "end_time": "2017-02-04T16:11:51.588755",
     "start_time": "2017-02-04T16:11:51.579846"
    },
    "collapsed": false
   },
   "outputs": [
    {
     "data": {
      "text/plain": [
       "'Q'"
      ]
     },
     "execution_count": 7,
     "metadata": {},
     "output_type": "execute_result"
    }
   ],
   "source": [
    "# Deal a card\n",
    "test_deck.deal()"
   ]
  },
  {
   "cell_type": "code",
   "execution_count": 8,
   "metadata": {
    "ExecuteTime": {
     "end_time": "2017-02-04T16:11:52.830599",
     "start_time": "2017-02-04T16:11:52.824688"
    },
    "collapsed": false
   },
   "outputs": [
    {
     "name": "stdout",
     "output_type": "stream",
     "text": [
      "['J', 4, 7, 3, 9, 'A', 'A', 3, 'Q', 'A', 3, 'J', 2, 8, 'Q', 7, 10, 'A', 9, 7, 'J', 5, 2, 8, 2, 6, 4, 9, 'K', 9, 'K', 10, 3, 4, 6, 5, 6, 10, 8, 5, 10, 8, 'K', 7, 'K', 'Q', 'J', 4, 6, 2, 5]\n",
      "1 deck(s), 51 cards left\n"
     ]
    }
   ],
   "source": [
    "# Check what the deck looks like now\n",
    "print (test_deck.deck)\n",
    "print (test_deck)"
   ]
  },
  {
   "cell_type": "markdown",
   "metadata": {},
   "source": [
    "# Create a function that deals the inital two cards"
   ]
  },
  {
   "cell_type": "code",
   "execution_count": 9,
   "metadata": {
    "ExecuteTime": {
     "end_time": "2017-02-04T16:12:00.917049",
     "start_time": "2017-02-04T16:12:00.905264"
    },
    "collapsed": false
   },
   "outputs": [],
   "source": [
    "def start_game(num_decks=8):\n",
    "    # create deck\n",
    "    game_deck = Deck(num_decks)\n",
    "#     print (game_deck)\n",
    "    \n",
    "    # create hands\n",
    "    dealer_hand = []\n",
    "    player_hand = []\n",
    "    \n",
    "    # shuffle deck\n",
    "    game_deck.shuffle_deck()\n",
    "    \n",
    "    # deal 2 cards each\n",
    "    for _ in range(2):\n",
    "        game_deck.deal(player_hand)\n",
    "        game_deck.deal(dealer_hand)\n",
    "        \n",
    "    return game_deck, dealer_hand, player_hand"
   ]
  },
  {
   "cell_type": "code",
   "execution_count": 10,
   "metadata": {
    "ExecuteTime": {
     "end_time": "2017-02-04T16:12:01.476302",
     "start_time": "2017-02-04T16:12:01.472139"
    },
    "collapsed": false
   },
   "outputs": [],
   "source": [
    "game_deck, dealer_hand, player_hand = start_game()"
   ]
  },
  {
   "cell_type": "code",
   "execution_count": 11,
   "metadata": {
    "ExecuteTime": {
     "end_time": "2017-02-04T16:12:05.341267",
     "start_time": "2017-02-04T16:12:05.336238"
    },
    "collapsed": false
   },
   "outputs": [
    {
     "name": "stdout",
     "output_type": "stream",
     "text": [
      "8 deck(s), 412 cards left\n"
     ]
    }
   ],
   "source": [
    "print (game_deck)"
   ]
  },
  {
   "cell_type": "code",
   "execution_count": 12,
   "metadata": {
    "ExecuteTime": {
     "end_time": "2017-02-04T16:12:07.264336",
     "start_time": "2017-02-04T16:12:07.258529"
    },
    "collapsed": false
   },
   "outputs": [
    {
     "data": {
      "text/plain": [
       "['Q', 6]"
      ]
     },
     "execution_count": 12,
     "metadata": {},
     "output_type": "execute_result"
    }
   ],
   "source": [
    "dealer_hand"
   ]
  },
  {
   "cell_type": "code",
   "execution_count": 13,
   "metadata": {
    "ExecuteTime": {
     "end_time": "2017-02-04T16:12:07.902801",
     "start_time": "2017-02-04T16:12:07.896768"
    },
    "collapsed": false
   },
   "outputs": [
    {
     "data": {
      "text/plain": [
       "[8, 3]"
      ]
     },
     "execution_count": 13,
     "metadata": {},
     "output_type": "execute_result"
    }
   ],
   "source": [
    "player_hand"
   ]
  },
  {
   "cell_type": "code",
   "execution_count": 14,
   "metadata": {
    "ExecuteTime": {
     "end_time": "2017-02-04T16:12:08.925019",
     "start_time": "2017-02-04T16:12:08.918851"
    },
    "collapsed": false
   },
   "outputs": [
    {
     "data": {
      "text/plain": [
       "[8, 3, 10]"
      ]
     },
     "execution_count": 14,
     "metadata": {},
     "output_type": "execute_result"
    }
   ],
   "source": [
    "game_deck.deal(player_hand)\n",
    "player_hand"
   ]
  },
  {
   "cell_type": "markdown",
   "metadata": {},
   "source": [
    "# Create a function that calculates points of a hand"
   ]
  },
  {
   "cell_type": "code",
   "execution_count": 15,
   "metadata": {
    "ExecuteTime": {
     "end_time": "2017-02-04T16:12:12.270756",
     "start_time": "2017-02-04T16:12:12.226005"
    },
    "collapsed": false
   },
   "outputs": [],
   "source": [
    "def get_points(hand):\n",
    "    \n",
    "    # We want to track how the Ace was counted, if any\n",
    "    # Whether it was a 1 or 11\n",
    "    # So we want a tuple of (points, Ace_value)\n",
    "    points = (0, 0)\n",
    "    \n",
    "    # replicate the original list\n",
    "    cards = [i for i in hand]\n",
    "    \n",
    "    # If there's an Ace in the hand, take it out first\n",
    "    # And count how many Aces there are\n",
    "    has_A = 0\n",
    "    while \"A\" in cards:\n",
    "        has_A += 1\n",
    "        cards.remove(\"A\")\n",
    "        \n",
    "    # Get total points for all other cards\n",
    "    try:\n",
    "        if len(cards) > 0:\n",
    "            for i in cards:\n",
    "                try:\n",
    "                    points = (points[0] + int(i), 0)\n",
    "                except:\n",
    "                    points = (points[0] + 10, 0)\n",
    "    except:\n",
    "        print (cards)\n",
    "        print (type(cards))\n",
    "    # Deal with the Ace if there was at least one\n",
    "    \n",
    "    for i in range(has_A):\n",
    "        if type(points) == tuple:\n",
    "            if points[0] + 11 <= 21:\n",
    "                points = [(points[0] + 11, 11), (points[0] + 1, 1)]\n",
    "            else:\n",
    "                points = [(points[0] + 1, 1)]\n",
    "        else:\n",
    "            new_points = []\n",
    "            for j in points:\n",
    "                if j[0] + 11 <= 21:\n",
    "                    new_points.extend([(j[0] + 11, 11), (j[0] + 1, 1)])\n",
    "                else:\n",
    "                    new_points.extend([(j[0] + 1, 1)])\n",
    "            points = new_points\n",
    "    \n",
    "    # Now, points could be a list of tuples or a tuple\n",
    "    if type(points) == list:\n",
    "        # Sort the list by number of points in descending order\n",
    "        points.sort(reverse=True)\n",
    "        new_points = [i for i in points if i[0] <= 21]\n",
    "        \n",
    "        try:\n",
    "            if len(new_points) == 0:\n",
    "                # if there are no items in new_points\n",
    "                # return the smallest item\n",
    "                return points[-1]\n",
    "            else:\n",
    "                return new_points[0]\n",
    "        except:\n",
    "            print (new_points)\n",
    "            print (type(new_points))\n",
    "    else:\n",
    "        return points # What we get back is a tuple (points, ace_value)"
   ]
  },
  {
   "cell_type": "code",
   "execution_count": 16,
   "metadata": {
    "ExecuteTime": {
     "end_time": "2017-02-04T16:12:13.342976",
     "start_time": "2017-02-04T16:12:13.336704"
    },
    "collapsed": false
   },
   "outputs": [
    {
     "data": {
      "text/plain": [
       "(29, 1)"
      ]
     },
     "execution_count": 16,
     "metadata": {},
     "output_type": "execute_result"
    }
   ],
   "source": [
    "get_points([\"A\", \"K\", 9, 9])"
   ]
  },
  {
   "cell_type": "code",
   "execution_count": 17,
   "metadata": {
    "ExecuteTime": {
     "end_time": "2017-02-04T16:12:14.029849",
     "start_time": "2017-02-04T16:12:14.023675"
    },
    "collapsed": false
   },
   "outputs": [
    {
     "data": {
      "text/plain": [
       "(21, 11)"
      ]
     },
     "execution_count": 17,
     "metadata": {},
     "output_type": "execute_result"
    }
   ],
   "source": [
    "get_points([\"A\", \"K\"])"
   ]
  },
  {
   "cell_type": "code",
   "execution_count": 18,
   "metadata": {
    "ExecuteTime": {
     "end_time": "2017-02-04T16:12:14.725800",
     "start_time": "2017-02-04T16:12:14.719436"
    },
    "collapsed": false
   },
   "outputs": [
    {
     "data": {
      "text/plain": [
       "(20, 11)"
      ]
     },
     "execution_count": 18,
     "metadata": {},
     "output_type": "execute_result"
    }
   ],
   "source": [
    "get_points([\"A\", 9])"
   ]
  },
  {
   "cell_type": "code",
   "execution_count": 19,
   "metadata": {
    "ExecuteTime": {
     "end_time": "2017-02-04T16:12:15.220489",
     "start_time": "2017-02-04T16:12:15.214942"
    },
    "collapsed": false
   },
   "outputs": [
    {
     "data": {
      "text/plain": [
       "(17, 11)"
      ]
     },
     "execution_count": 19,
     "metadata": {},
     "output_type": "execute_result"
    }
   ],
   "source": [
    "get_points([\"A\", 6])"
   ]
  },
  {
   "cell_type": "markdown",
   "metadata": {},
   "source": [
    "# Create a function that simulates a full game"
   ]
  },
  {
   "cell_type": "code",
   "execution_count": 55,
   "metadata": {
    "ExecuteTime": {
     "end_time": "2017-02-04T16:34:19.018804",
     "start_time": "2017-02-04T16:34:18.926411"
    },
    "collapsed": false
   },
   "outputs": [],
   "source": [
    "def simulate_game(strategy=0):\n",
    "    game_deck, dealer_hand, player_hand = start_game()\n",
    "    dealer_open, dealer_closed = dealer_hand\n",
    "    player_card_one, player_card_two = player_hand\n",
    "    dealer_original = get_points(dealer_hand)[0]\n",
    "    player_original = get_points(player_hand)[0]\n",
    "    \n",
    "    # in a one player game, if either dealer or player gets blackjack\n",
    "    # the game should end\n",
    "    \n",
    "    # Change dealer_open to numerical\n",
    "    if dealer_open in [\"J\", \"Q\", \"K\"]:\n",
    "        dealer_open = 10\n",
    "    elif dealer_open == \"A\":\n",
    "        dealer_open = get_points(dealer_hand)[1]\n",
    "    \n",
    "    # track how many times the player hit\n",
    "    player_hit = 0\n",
    "    \n",
    "    # Player goes first unless dealer has blackjack\n",
    "    if dealer_original != 21 and player_original != 21:\n",
    "        # Player always hits 11 and below\n",
    "        while get_points(player_hand)[0] <= 11:\n",
    "                game_deck.deal(player_hand)\n",
    "                player_hit += 1\n",
    "\n",
    "        if strategy == 0:\n",
    "            # Randomize it for the player to some extent\n",
    "            while get_points(player_hand)[0] < 20:\n",
    "                if np.random.random() <= 0.5:\n",
    "                    game_deck.deal(player_hand)\n",
    "                    player_hit += 1\n",
    "                else:\n",
    "                    break\n",
    "        elif strategy == 1:\n",
    "            # From lasvegas-how-to.com\n",
    "            # Stand on a hand of 17 or more \n",
    "            # Never hit on 12, 13, 14, 15 or 16 when the dealer is showing 16 or less\n",
    "            # Always split 8's\n",
    "            # Double down on 11 if dealer is showing 17 or less\n",
    "            if dealer_open < 7 or dealer_open==11:\n",
    "                while get_points(player_hand)[0] < 12:\n",
    "                    game_deck.deal(player_hand)\n",
    "                    player_hit += 1\n",
    "            else:\n",
    "                while get_points(player_hand)[0] < 17:\n",
    "                    game_deck.deal(player_hand)\n",
    "                    player_hit += 1\n",
    "        \n",
    "    # Dealer's turn\n",
    "    # if Player has busted, dealer doesn't need to play\n",
    "    player_final = get_points(player_hand)[0]\n",
    "    player_busts = player_final > 21\n",
    "    # track how many times the dealer hits                           \n",
    "    dealer_hit = 0\n",
    "    if not player_busts and player_original != 21:\n",
    "        \n",
    "\n",
    "        # Check if the dealer needs to hit\n",
    "        # Dealer hits below 17\n",
    "        while get_points(dealer_hand)[0] < 17:\n",
    "            game_deck.deal(dealer_hand)\n",
    "            dealer_hit += 1\n",
    "\n",
    "        # If dealer is at 17, check if it's a soft 17\n",
    "        # if yes, hit\n",
    "\n",
    "        if get_points(dealer_hand)[0] <= 17 and get_points(dealer_hand)[1] == 11:\n",
    "            game_deck.deal(dealer_hand)\n",
    "            dealer_hit += 1\n",
    "    \n",
    "    dealer_final = get_points(dealer_hand)[0]\n",
    "    \n",
    "    \n",
    "    dealer_busts = dealer_final > 21\n",
    "    \n",
    "    \n",
    "    \n",
    "    player_results = 2 #let's use 2 for a draw\n",
    "    \n",
    "    if player_busts:\n",
    "        player_results = 0\n",
    "    elif dealer_busts:\n",
    "        player_results = 1\n",
    "    elif player_final > dealer_final:\n",
    "        player_results = 1\n",
    "    elif player_final < dealer_final:\n",
    "        player_results = 0\n",
    "#     print(game_deck)\n",
    "\n",
    "    player_lose = 0\n",
    "    player_win = 0\n",
    "    \n",
    "    if player_results == 0:\n",
    "        player_lose = 1\n",
    "    elif player_results == 1:\n",
    "        player_win = 1\n",
    "        \n",
    "    return [dealer_open, dealer_closed, dealer_original, dealer_hit, dealer_final, int(dealer_busts), dealer_hand,\n",
    "            player_card_one, player_card_two, player_original, player_hit, player_final, int(player_busts), \n",
    "            player_lose, player_win, player_hand, strategy]"
   ]
  },
  {
   "cell_type": "code",
   "execution_count": 56,
   "metadata": {
    "ExecuteTime": {
     "end_time": "2017-02-04T16:34:22.722797",
     "start_time": "2017-02-04T16:34:22.717300"
    },
    "collapsed": false
   },
   "outputs": [
    {
     "name": "stdout",
     "output_type": "stream",
     "text": [
      "[4, 4, 8, 0, 8, 0, [4, 4], 9, 10, 19, 1, 26, 1, 1, 0, [9, 10, 7], 0]\n"
     ]
    }
   ],
   "source": [
    "print (simulate_game())"
   ]
  },
  {
   "cell_type": "code",
   "execution_count": 57,
   "metadata": {
    "ExecuteTime": {
     "end_time": "2017-02-04T16:34:24.015885",
     "start_time": "2017-02-04T16:34:24.005581"
    },
    "collapsed": false
   },
   "outputs": [],
   "source": [
    "# define a function to generate a dataframe\n",
    "def gen_df(num=50000):\n",
    "    ran_strat = [simulate_game() for _ in range(num)]\n",
    "    rec_strat = [simulate_game(strategy=1) for _ in range(num)]\n",
    "    data = []\n",
    "    data.extend(ran_strat)\n",
    "    data.extend(rec_strat)\n",
    "    df = pd.DataFrame(data, columns=[\"dealer_open\", \"dealer_closed\", \n",
    "                               \"dealer_original\", \"dealer_hit\", \n",
    "                               \"dealer_final\", \"dealer_busts\", \n",
    "                                 \"dealer_hand\",\n",
    "                               \"player_card_one\", \"player_card_two\", \n",
    "                               \"player_original\", \"player_hit\", \n",
    "                               \"player_final\", \"player_busts\", \n",
    "                               \"player_lose\", \"player_win\", \"player_hand\", \"rec_strategy\"])\n",
    "    return df"
   ]
  },
  {
   "cell_type": "code",
   "execution_count": 72,
   "metadata": {
    "ExecuteTime": {
     "end_time": "2017-02-04T16:39:45.505260",
     "start_time": "2017-02-04T16:39:27.821250"
    },
    "collapsed": false
   },
   "outputs": [],
   "source": [
    "df = gen_df()"
   ]
  },
  {
   "cell_type": "code",
   "execution_count": 73,
   "metadata": {
    "ExecuteTime": {
     "end_time": "2017-02-04T16:39:56.206517",
     "start_time": "2017-02-04T16:39:55.866325"
    },
    "collapsed": false
   },
   "outputs": [],
   "source": [
    "old_data = pd.read_csv(\"blackjack.csv\")\n",
    "df = pd.concat([old_data, df])"
   ]
  },
  {
   "cell_type": "code",
   "execution_count": 74,
   "metadata": {
    "ExecuteTime": {
     "end_time": "2017-02-04T16:39:59.764724",
     "start_time": "2017-02-04T16:39:57.578386"
    },
    "collapsed": false
   },
   "outputs": [],
   "source": [
    "# Save so we can add to it next time\n",
    "df.to_csv(\"blackjack.csv\", index=False)"
   ]
  },
  {
   "cell_type": "code",
   "execution_count": 75,
   "metadata": {
    "ExecuteTime": {
     "end_time": "2017-02-04T16:40:00.303879",
     "start_time": "2017-02-04T16:40:00.297864"
    },
    "collapsed": false
   },
   "outputs": [
    {
     "data": {
      "text/plain": [
       "(200000, 17)"
      ]
     },
     "execution_count": 75,
     "metadata": {},
     "output_type": "execute_result"
    }
   ],
   "source": [
    "df.shape"
   ]
  },
  {
   "cell_type": "code",
   "execution_count": 76,
   "metadata": {
    "ExecuteTime": {
     "end_time": "2017-02-04T16:40:02.000740",
     "start_time": "2017-02-04T16:40:01.968043"
    },
    "collapsed": false
   },
   "outputs": [
    {
     "data": {
      "text/html": [
       "<div>\n",
       "<table border=\"1\" class=\"dataframe\">\n",
       "  <thead>\n",
       "    <tr style=\"text-align: right;\">\n",
       "      <th></th>\n",
       "      <th>dealer_open</th>\n",
       "      <th>dealer_closed</th>\n",
       "      <th>dealer_original</th>\n",
       "      <th>dealer_hit</th>\n",
       "      <th>dealer_final</th>\n",
       "      <th>dealer_busts</th>\n",
       "      <th>dealer_hand</th>\n",
       "      <th>player_card_one</th>\n",
       "      <th>player_card_two</th>\n",
       "      <th>player_original</th>\n",
       "      <th>player_hit</th>\n",
       "      <th>player_final</th>\n",
       "      <th>player_busts</th>\n",
       "      <th>player_lose</th>\n",
       "      <th>player_win</th>\n",
       "      <th>player_hand</th>\n",
       "      <th>rec_strategy</th>\n",
       "    </tr>\n",
       "  </thead>\n",
       "  <tbody>\n",
       "    <tr>\n",
       "      <th>0</th>\n",
       "      <td>6</td>\n",
       "      <td>A</td>\n",
       "      <td>17</td>\n",
       "      <td>0</td>\n",
       "      <td>17</td>\n",
       "      <td>0</td>\n",
       "      <td>[6, 'A']</td>\n",
       "      <td>A</td>\n",
       "      <td>J</td>\n",
       "      <td>21</td>\n",
       "      <td>0</td>\n",
       "      <td>21</td>\n",
       "      <td>0</td>\n",
       "      <td>0</td>\n",
       "      <td>1</td>\n",
       "      <td>['A', 'J']</td>\n",
       "      <td>0</td>\n",
       "    </tr>\n",
       "    <tr>\n",
       "      <th>1</th>\n",
       "      <td>7</td>\n",
       "      <td>7</td>\n",
       "      <td>14</td>\n",
       "      <td>2</td>\n",
       "      <td>21</td>\n",
       "      <td>0</td>\n",
       "      <td>[7, 7, 'A', 6]</td>\n",
       "      <td>9</td>\n",
       "      <td>8</td>\n",
       "      <td>17</td>\n",
       "      <td>0</td>\n",
       "      <td>17</td>\n",
       "      <td>0</td>\n",
       "      <td>1</td>\n",
       "      <td>0</td>\n",
       "      <td>[9, 8]</td>\n",
       "      <td>0</td>\n",
       "    </tr>\n",
       "    <tr>\n",
       "      <th>2</th>\n",
       "      <td>10</td>\n",
       "      <td>K</td>\n",
       "      <td>20</td>\n",
       "      <td>0</td>\n",
       "      <td>20</td>\n",
       "      <td>0</td>\n",
       "      <td>[10, 'K']</td>\n",
       "      <td>6</td>\n",
       "      <td>9</td>\n",
       "      <td>15</td>\n",
       "      <td>1</td>\n",
       "      <td>25</td>\n",
       "      <td>1</td>\n",
       "      <td>1</td>\n",
       "      <td>0</td>\n",
       "      <td>[6, 9, 'Q']</td>\n",
       "      <td>0</td>\n",
       "    </tr>\n",
       "    <tr>\n",
       "      <th>3</th>\n",
       "      <td>7</td>\n",
       "      <td>7</td>\n",
       "      <td>14</td>\n",
       "      <td>1</td>\n",
       "      <td>24</td>\n",
       "      <td>1</td>\n",
       "      <td>[7, 7, 'K']</td>\n",
       "      <td>7</td>\n",
       "      <td>5</td>\n",
       "      <td>12</td>\n",
       "      <td>0</td>\n",
       "      <td>12</td>\n",
       "      <td>0</td>\n",
       "      <td>0</td>\n",
       "      <td>1</td>\n",
       "      <td>[7, 5]</td>\n",
       "      <td>0</td>\n",
       "    </tr>\n",
       "    <tr>\n",
       "      <th>4</th>\n",
       "      <td>11</td>\n",
       "      <td>4</td>\n",
       "      <td>15</td>\n",
       "      <td>2</td>\n",
       "      <td>24</td>\n",
       "      <td>1</td>\n",
       "      <td>['A', 4, 'Q', 9]</td>\n",
       "      <td>7</td>\n",
       "      <td>8</td>\n",
       "      <td>15</td>\n",
       "      <td>0</td>\n",
       "      <td>15</td>\n",
       "      <td>0</td>\n",
       "      <td>0</td>\n",
       "      <td>1</td>\n",
       "      <td>[7, 8]</td>\n",
       "      <td>0</td>\n",
       "    </tr>\n",
       "  </tbody>\n",
       "</table>\n",
       "</div>"
      ],
      "text/plain": [
       "   dealer_open dealer_closed  dealer_original  dealer_hit  dealer_final  \\\n",
       "0            6             A               17           0            17   \n",
       "1            7             7               14           2            21   \n",
       "2           10             K               20           0            20   \n",
       "3            7             7               14           1            24   \n",
       "4           11             4               15           2            24   \n",
       "\n",
       "   dealer_busts       dealer_hand player_card_one player_card_two  \\\n",
       "0             0          [6, 'A']               A               J   \n",
       "1             0    [7, 7, 'A', 6]               9               8   \n",
       "2             0         [10, 'K']               6               9   \n",
       "3             1       [7, 7, 'K']               7               5   \n",
       "4             1  ['A', 4, 'Q', 9]               7               8   \n",
       "\n",
       "   player_original  player_hit  player_final  player_busts  player_lose  \\\n",
       "0               21           0            21             0            0   \n",
       "1               17           0            17             0            1   \n",
       "2               15           1            25             1            1   \n",
       "3               12           0            12             0            0   \n",
       "4               15           0            15             0            0   \n",
       "\n",
       "   player_win  player_hand  rec_strategy  \n",
       "0           1   ['A', 'J']             0  \n",
       "1           0       [9, 8]             0  \n",
       "2           0  [6, 9, 'Q']             0  \n",
       "3           1       [7, 5]             0  \n",
       "4           1       [7, 8]             0  "
      ]
     },
     "execution_count": 76,
     "metadata": {},
     "output_type": "execute_result"
    }
   ],
   "source": [
    "df.head()"
   ]
  },
  {
   "cell_type": "markdown",
   "metadata": {},
   "source": [
    "## Checking our simulated data"
   ]
  },
  {
   "cell_type": "code",
   "execution_count": 77,
   "metadata": {
    "ExecuteTime": {
     "end_time": "2017-02-04T16:40:09.100578",
     "start_time": "2017-02-04T16:40:09.081795"
    },
    "collapsed": false
   },
   "outputs": [
    {
     "name": "stdout",
     "output_type": "stream",
     "text": [
      "0    9486\n",
      "Name: dealer_hit, dtype: int64\n",
      "0    9486\n",
      "Name: player_hit, dtype: int64\n"
     ]
    }
   ],
   "source": [
    "# When player_original == 21, dealer_hit and player_hit should be zero\n",
    "print (df[\"dealer_hit\"][df.player_original == 21].value_counts())\n",
    "print (df[\"player_hit\"][df.player_original == 21].value_counts())"
   ]
  },
  {
   "cell_type": "code",
   "execution_count": 78,
   "metadata": {
    "ExecuteTime": {
     "end_time": "2017-02-04T16:40:09.704122",
     "start_time": "2017-02-04T16:40:09.689951"
    },
    "collapsed": false
   },
   "outputs": [
    {
     "name": "stdout",
     "output_type": "stream",
     "text": [
      "0    9387\n",
      "Name: dealer_hit, dtype: int64\n",
      "0    9387\n",
      "Name: player_hit, dtype: int64\n"
     ]
    }
   ],
   "source": [
    "# When dealer_original == 21, dealer_hit and player_hit should be zero\n",
    "print (df[\"dealer_hit\"][df.dealer_original == 21].value_counts())\n",
    "print (df[\"player_hit\"][df.dealer_original == 21].value_counts())"
   ]
  },
  {
   "cell_type": "code",
   "execution_count": 79,
   "metadata": {
    "ExecuteTime": {
     "end_time": "2017-02-04T16:40:10.530522",
     "start_time": "2017-02-04T16:40:10.513860"
    },
    "collapsed": false
   },
   "outputs": [
    {
     "name": "stdout",
     "output_type": "stream",
     "text": [
      "1    9006\n",
      "Name: player_win, dtype: int64\n",
      "0    9006\n",
      "Name: player_lose, dtype: int64\n"
     ]
    }
   ],
   "source": [
    "# When player_original == 21, and dealer_original != 21\n",
    "# player_win should be 1\n",
    "# player_lose shoule be 0\n",
    "print (df.player_win[(df.player_original == 21) & (df.dealer_original != 21)].value_counts())\n",
    "print (df.player_lose[(df.player_original == 21) & (df.dealer_original != 21)].value_counts())"
   ]
  },
  {
   "cell_type": "code",
   "execution_count": 83,
   "metadata": {
    "ExecuteTime": {
     "end_time": "2017-02-04T16:40:24.610398",
     "start_time": "2017-02-04T16:40:24.594462"
    },
    "collapsed": false
   },
   "outputs": [
    {
     "name": "stdout",
     "output_type": "stream",
     "text": [
      "0    8907\n",
      "Name: player_win, dtype: int64\n",
      "1    8907\n",
      "Name: player_lose, dtype: int64\n"
     ]
    }
   ],
   "source": [
    "# When dealer_original == 21, and player_original != 21, dealer should win\n",
    "# player_win should be 0\n",
    "# player_lose should be 1\n",
    "print (df.player_win[(df.dealer_original == 21) & (df.player_original != 21)].value_counts())\n",
    "print (df.player_lose[(df.dealer_original == 21) & (df.player_original != 21)].value_counts())"
   ]
  },
  {
   "cell_type": "code",
   "execution_count": 81,
   "metadata": {
    "ExecuteTime": {
     "end_time": "2017-02-04T16:40:12.471345",
     "start_time": "2017-02-04T16:40:12.456874"
    },
    "collapsed": false
   },
   "outputs": [
    {
     "name": "stdout",
     "output_type": "stream",
     "text": [
      "0    14511\n",
      "Name: player_win, dtype: int64\n",
      "0    14511\n",
      "Name: player_lose, dtype: int64\n"
     ]
    }
   ],
   "source": [
    "# When dealer_final == player_final\n",
    "# player_lose should be 0\n",
    "# player_win should be 0\n",
    "print (df.player_win[df.dealer_final == df.player_final].value_counts())\n",
    "print (df.player_lose[df.dealer_final == df.player_final].value_counts())"
   ]
  },
  {
   "cell_type": "code",
   "execution_count": 82,
   "metadata": {
    "ExecuteTime": {
     "end_time": "2017-02-04T16:40:13.108522",
     "start_time": "2017-02-04T16:40:13.085024"
    },
    "collapsed": false
   },
   "outputs": [
    {
     "name": "stdout",
     "output_type": "stream",
     "text": [
      "0    80258\n",
      "Name: player_lose, dtype: int64\n",
      "0    105231\n",
      "Name: player_win, dtype: int64\n"
     ]
    }
   ],
   "source": [
    "# When player_win == 1, player_lose == 0\n",
    "# and vice versa\n",
    "print (df.player_lose[df.player_win==1].value_counts())\n",
    "print (df.player_win[df.player_lose==1].value_counts())"
   ]
  },
  {
   "cell_type": "markdown",
   "metadata": {},
   "source": [
    "# Analyze data"
   ]
  },
  {
   "cell_type": "markdown",
   "metadata": {},
   "source": [
    "## Comparing strategies"
   ]
  },
  {
   "cell_type": "code",
   "execution_count": 233,
   "metadata": {
    "ExecuteTime": {
     "end_time": "2017-02-04T18:14:24.750167",
     "start_time": "2017-02-04T18:14:24.736279"
    },
    "collapsed": true
   },
   "outputs": [],
   "source": [
    "# Define a function to generate proportion of wins and losses on random and recommended strategy\n",
    "def sim_trials(num_games=100, num_trials=5000):\n",
    "    # Get wins and losses\n",
    "    data = []\n",
    "    for i in range(num_trials):\n",
    "        one_trial = gen_df(num=num_games)\n",
    "        for j in range(2):\n",
    "            sub = one_trial.copy()\n",
    "            sub = sub[sub.rec_strategy == j]\n",
    "            dealer_busts = sub[\"dealer_busts\"].sum()/len(sub)\n",
    "            player_busts = sub[\"player_busts\"].sum()/len(sub)\n",
    "            player_hit = (sub[\"player_hit\"] > 0).sum()/len(sub)\n",
    "            lose = sub[\"player_lose\"].sum()/len(sub)\n",
    "            win = sub[\"player_win\"].sum()/len(sub)\n",
    "            draw = 1 - lose - win\n",
    "            data.append([dealer_busts, player_busts, player_hit, lose, win, draw, j])\n",
    "    return pd.DataFrame(data, columns=[\"dealer_busts\", \"player_busts\", \"player_hit\", \"lose\", \"win\", \"draw\", \"rec_strategy\"])"
   ]
  },
  {
   "cell_type": "raw",
   "metadata": {
    "ExecuteTime": {
     "end_time": "2017-02-04T18:14:25.709804",
     "start_time": "2017-02-04T18:14:25.193916"
    }
   },
   "source": [
    "sim_trials(num_trials=10)"
   ]
  },
  {
   "cell_type": "code",
   "execution_count": 235,
   "metadata": {
    "ExecuteTime": {
     "end_time": "2017-02-04T18:18:07.090039",
     "start_time": "2017-02-04T18:14:45.418133"
    },
    "collapsed": false
   },
   "outputs": [],
   "source": [
    "trials = sim_trials()"
   ]
  },
  {
   "cell_type": "code",
   "execution_count": 236,
   "metadata": {
    "ExecuteTime": {
     "end_time": "2017-02-04T18:24:23.293752",
     "start_time": "2017-02-04T18:24:23.286871"
    },
    "collapsed": false
   },
   "outputs": [
    {
     "data": {
      "text/plain": [
       "(10000, 7)"
      ]
     },
     "execution_count": 236,
     "metadata": {},
     "output_type": "execute_result"
    }
   ],
   "source": [
    "trials.shape"
   ]
  },
  {
   "cell_type": "code",
   "execution_count": 178,
   "metadata": {
    "ExecuteTime": {
     "end_time": "2017-02-04T17:57:40.300448",
     "start_time": "2017-02-04T17:57:40.281919"
    },
    "collapsed": true
   },
   "outputs": [],
   "source": [
    "old_trials = pd.read_csv(\"trials.csv\")\n",
    "trials = pd.concat([old_trials, trials])"
   ]
  },
  {
   "cell_type": "code",
   "execution_count": 179,
   "metadata": {
    "ExecuteTime": {
     "end_time": "2017-02-04T17:57:40.312383",
     "start_time": "2017-02-04T17:57:40.303698"
    },
    "collapsed": false
   },
   "outputs": [
    {
     "data": {
      "text/plain": [
       "(20000, 4)"
      ]
     },
     "execution_count": 179,
     "metadata": {},
     "output_type": "execute_result"
    }
   ],
   "source": [
    "trials.shape"
   ]
  },
  {
   "cell_type": "code",
   "execution_count": 237,
   "metadata": {
    "ExecuteTime": {
     "end_time": "2017-02-04T18:24:27.003810",
     "start_time": "2017-02-04T18:24:26.905700"
    },
    "collapsed": true
   },
   "outputs": [],
   "source": [
    "# Save so we can add to it next time\n",
    "trials.to_csv(\"trials.csv\", index=False)"
   ]
  },
  {
   "cell_type": "code",
   "execution_count": 238,
   "metadata": {
    "ExecuteTime": {
     "end_time": "2017-02-04T18:24:29.746959",
     "start_time": "2017-02-04T18:24:29.705303"
    },
    "collapsed": false
   },
   "outputs": [
    {
     "data": {
      "text/html": [
       "<div>\n",
       "<table border=\"1\" class=\"dataframe\">\n",
       "  <thead>\n",
       "    <tr style=\"text-align: right;\">\n",
       "      <th></th>\n",
       "      <th>dealer_busts</th>\n",
       "      <th>player_busts</th>\n",
       "      <th>player_hit</th>\n",
       "      <th>lose</th>\n",
       "      <th>win</th>\n",
       "      <th>draw</th>\n",
       "      <th>rec_strategy</th>\n",
       "    </tr>\n",
       "  </thead>\n",
       "  <tbody>\n",
       "    <tr>\n",
       "      <th>count</th>\n",
       "      <td>10000.000000</td>\n",
       "      <td>10000.000000</td>\n",
       "      <td>10000.000000</td>\n",
       "      <td>10000.000000</td>\n",
       "      <td>10000.000000</td>\n",
       "      <td>1.000000e+04</td>\n",
       "      <td>10000.000000</td>\n",
       "    </tr>\n",
       "    <tr>\n",
       "      <th>mean</th>\n",
       "      <td>0.216161</td>\n",
       "      <td>0.188595</td>\n",
       "      <td>0.466295</td>\n",
       "      <td>0.526560</td>\n",
       "      <td>0.400776</td>\n",
       "      <td>7.266400e-02</td>\n",
       "      <td>0.500000</td>\n",
       "    </tr>\n",
       "    <tr>\n",
       "      <th>std</th>\n",
       "      <td>0.044480</td>\n",
       "      <td>0.058987</td>\n",
       "      <td>0.063995</td>\n",
       "      <td>0.061791</td>\n",
       "      <td>0.055084</td>\n",
       "      <td>2.841204e-02</td>\n",
       "      <td>0.500025</td>\n",
       "    </tr>\n",
       "    <tr>\n",
       "      <th>min</th>\n",
       "      <td>0.080000</td>\n",
       "      <td>0.030000</td>\n",
       "      <td>0.230000</td>\n",
       "      <td>0.330000</td>\n",
       "      <td>0.230000</td>\n",
       "      <td>-5.551115e-17</td>\n",
       "      <td>0.000000</td>\n",
       "    </tr>\n",
       "    <tr>\n",
       "      <th>25%</th>\n",
       "      <td>0.190000</td>\n",
       "      <td>0.140000</td>\n",
       "      <td>0.420000</td>\n",
       "      <td>0.480000</td>\n",
       "      <td>0.360000</td>\n",
       "      <td>5.000000e-02</td>\n",
       "      <td>0.000000</td>\n",
       "    </tr>\n",
       "    <tr>\n",
       "      <th>50%</th>\n",
       "      <td>0.210000</td>\n",
       "      <td>0.180000</td>\n",
       "      <td>0.470000</td>\n",
       "      <td>0.530000</td>\n",
       "      <td>0.400000</td>\n",
       "      <td>7.000000e-02</td>\n",
       "      <td>0.500000</td>\n",
       "    </tr>\n",
       "    <tr>\n",
       "      <th>75%</th>\n",
       "      <td>0.250000</td>\n",
       "      <td>0.230000</td>\n",
       "      <td>0.510000</td>\n",
       "      <td>0.570000</td>\n",
       "      <td>0.440000</td>\n",
       "      <td>9.000000e-02</td>\n",
       "      <td>1.000000</td>\n",
       "    </tr>\n",
       "    <tr>\n",
       "      <th>max</th>\n",
       "      <td>0.420000</td>\n",
       "      <td>0.400000</td>\n",
       "      <td>0.760000</td>\n",
       "      <td>0.720000</td>\n",
       "      <td>0.610000</td>\n",
       "      <td>2.000000e-01</td>\n",
       "      <td>1.000000</td>\n",
       "    </tr>\n",
       "  </tbody>\n",
       "</table>\n",
       "</div>"
      ],
      "text/plain": [
       "       dealer_busts  player_busts    player_hit          lose           win  \\\n",
       "count  10000.000000  10000.000000  10000.000000  10000.000000  10000.000000   \n",
       "mean       0.216161      0.188595      0.466295      0.526560      0.400776   \n",
       "std        0.044480      0.058987      0.063995      0.061791      0.055084   \n",
       "min        0.080000      0.030000      0.230000      0.330000      0.230000   \n",
       "25%        0.190000      0.140000      0.420000      0.480000      0.360000   \n",
       "50%        0.210000      0.180000      0.470000      0.530000      0.400000   \n",
       "75%        0.250000      0.230000      0.510000      0.570000      0.440000   \n",
       "max        0.420000      0.400000      0.760000      0.720000      0.610000   \n",
       "\n",
       "               draw  rec_strategy  \n",
       "count  1.000000e+04  10000.000000  \n",
       "mean   7.266400e-02      0.500000  \n",
       "std    2.841204e-02      0.500025  \n",
       "min   -5.551115e-17      0.000000  \n",
       "25%    5.000000e-02      0.000000  \n",
       "50%    7.000000e-02      0.500000  \n",
       "75%    9.000000e-02      1.000000  \n",
       "max    2.000000e-01      1.000000  "
      ]
     },
     "execution_count": 238,
     "metadata": {},
     "output_type": "execute_result"
    }
   ],
   "source": [
    "trials.describe()"
   ]
  },
  {
   "cell_type": "code",
   "execution_count": 239,
   "metadata": {
    "ExecuteTime": {
     "end_time": "2017-02-04T18:24:51.104327",
     "start_time": "2017-02-04T18:24:51.064590"
    },
    "collapsed": false
   },
   "outputs": [
    {
     "data": {
      "text/html": [
       "<div>\n",
       "<table border=\"1\" class=\"dataframe\">\n",
       "  <thead>\n",
       "    <tr style=\"text-align: right;\">\n",
       "      <th></th>\n",
       "      <th>dealer_busts</th>\n",
       "      <th>player_busts</th>\n",
       "      <th>player_hit</th>\n",
       "      <th>lose</th>\n",
       "      <th>win</th>\n",
       "      <th>draw</th>\n",
       "      <th>rec_strategy</th>\n",
       "    </tr>\n",
       "  </thead>\n",
       "  <tbody>\n",
       "    <tr>\n",
       "      <th>count</th>\n",
       "      <td>5000.000000</td>\n",
       "      <td>5000.000000</td>\n",
       "      <td>5000.000000</td>\n",
       "      <td>5000.000000</td>\n",
       "      <td>5000.000000</td>\n",
       "      <td>5.000000e+03</td>\n",
       "      <td>5000.0</td>\n",
       "    </tr>\n",
       "    <tr>\n",
       "      <th>mean</th>\n",
       "      <td>0.198974</td>\n",
       "      <td>0.232734</td>\n",
       "      <td>0.505544</td>\n",
       "      <td>0.563526</td>\n",
       "      <td>0.375216</td>\n",
       "      <td>6.125800e-02</td>\n",
       "      <td>0.0</td>\n",
       "    </tr>\n",
       "    <tr>\n",
       "      <th>std</th>\n",
       "      <td>0.039480</td>\n",
       "      <td>0.042889</td>\n",
       "      <td>0.051066</td>\n",
       "      <td>0.048947</td>\n",
       "      <td>0.047777</td>\n",
       "      <td>2.411460e-02</td>\n",
       "      <td>0.0</td>\n",
       "    </tr>\n",
       "    <tr>\n",
       "      <th>min</th>\n",
       "      <td>0.080000</td>\n",
       "      <td>0.080000</td>\n",
       "      <td>0.310000</td>\n",
       "      <td>0.400000</td>\n",
       "      <td>0.230000</td>\n",
       "      <td>-5.551115e-17</td>\n",
       "      <td>0.0</td>\n",
       "    </tr>\n",
       "    <tr>\n",
       "      <th>25%</th>\n",
       "      <td>0.170000</td>\n",
       "      <td>0.200000</td>\n",
       "      <td>0.470000</td>\n",
       "      <td>0.530000</td>\n",
       "      <td>0.340000</td>\n",
       "      <td>4.000000e-02</td>\n",
       "      <td>0.0</td>\n",
       "    </tr>\n",
       "    <tr>\n",
       "      <th>50%</th>\n",
       "      <td>0.200000</td>\n",
       "      <td>0.230000</td>\n",
       "      <td>0.510000</td>\n",
       "      <td>0.560000</td>\n",
       "      <td>0.370000</td>\n",
       "      <td>6.000000e-02</td>\n",
       "      <td>0.0</td>\n",
       "    </tr>\n",
       "    <tr>\n",
       "      <th>75%</th>\n",
       "      <td>0.230000</td>\n",
       "      <td>0.260000</td>\n",
       "      <td>0.540000</td>\n",
       "      <td>0.600000</td>\n",
       "      <td>0.410000</td>\n",
       "      <td>8.000000e-02</td>\n",
       "      <td>0.0</td>\n",
       "    </tr>\n",
       "    <tr>\n",
       "      <th>max</th>\n",
       "      <td>0.360000</td>\n",
       "      <td>0.400000</td>\n",
       "      <td>0.760000</td>\n",
       "      <td>0.720000</td>\n",
       "      <td>0.540000</td>\n",
       "      <td>1.700000e-01</td>\n",
       "      <td>0.0</td>\n",
       "    </tr>\n",
       "  </tbody>\n",
       "</table>\n",
       "</div>"
      ],
      "text/plain": [
       "       dealer_busts  player_busts   player_hit         lose          win  \\\n",
       "count   5000.000000   5000.000000  5000.000000  5000.000000  5000.000000   \n",
       "mean       0.198974      0.232734     0.505544     0.563526     0.375216   \n",
       "std        0.039480      0.042889     0.051066     0.048947     0.047777   \n",
       "min        0.080000      0.080000     0.310000     0.400000     0.230000   \n",
       "25%        0.170000      0.200000     0.470000     0.530000     0.340000   \n",
       "50%        0.200000      0.230000     0.510000     0.560000     0.370000   \n",
       "75%        0.230000      0.260000     0.540000     0.600000     0.410000   \n",
       "max        0.360000      0.400000     0.760000     0.720000     0.540000   \n",
       "\n",
       "               draw  rec_strategy  \n",
       "count  5.000000e+03        5000.0  \n",
       "mean   6.125800e-02           0.0  \n",
       "std    2.411460e-02           0.0  \n",
       "min   -5.551115e-17           0.0  \n",
       "25%    4.000000e-02           0.0  \n",
       "50%    6.000000e-02           0.0  \n",
       "75%    8.000000e-02           0.0  \n",
       "max    1.700000e-01           0.0  "
      ]
     },
     "execution_count": 239,
     "metadata": {},
     "output_type": "execute_result"
    }
   ],
   "source": [
    "trials[trials.rec_strategy == 0].describe()"
   ]
  },
  {
   "cell_type": "code",
   "execution_count": 240,
   "metadata": {
    "ExecuteTime": {
     "end_time": "2017-02-04T18:24:52.987335",
     "start_time": "2017-02-04T18:24:52.941393"
    },
    "collapsed": false
   },
   "outputs": [
    {
     "data": {
      "text/html": [
       "<div>\n",
       "<table border=\"1\" class=\"dataframe\">\n",
       "  <thead>\n",
       "    <tr style=\"text-align: right;\">\n",
       "      <th></th>\n",
       "      <th>dealer_busts</th>\n",
       "      <th>player_busts</th>\n",
       "      <th>player_hit</th>\n",
       "      <th>lose</th>\n",
       "      <th>win</th>\n",
       "      <th>draw</th>\n",
       "      <th>rec_strategy</th>\n",
       "    </tr>\n",
       "  </thead>\n",
       "  <tbody>\n",
       "    <tr>\n",
       "      <th>count</th>\n",
       "      <td>5000.000000</td>\n",
       "      <td>5000.000000</td>\n",
       "      <td>5000.000000</td>\n",
       "      <td>5000.000000</td>\n",
       "      <td>5000.000000</td>\n",
       "      <td>5.000000e+03</td>\n",
       "      <td>5000.0</td>\n",
       "    </tr>\n",
       "    <tr>\n",
       "      <th>mean</th>\n",
       "      <td>0.233348</td>\n",
       "      <td>0.144456</td>\n",
       "      <td>0.427046</td>\n",
       "      <td>0.489594</td>\n",
       "      <td>0.426336</td>\n",
       "      <td>8.407000e-02</td>\n",
       "      <td>1.0</td>\n",
       "    </tr>\n",
       "    <tr>\n",
       "      <th>std</th>\n",
       "      <td>0.042519</td>\n",
       "      <td>0.034972</td>\n",
       "      <td>0.050023</td>\n",
       "      <td>0.050077</td>\n",
       "      <td>0.049796</td>\n",
       "      <td>2.780089e-02</td>\n",
       "      <td>0.0</td>\n",
       "    </tr>\n",
       "    <tr>\n",
       "      <th>min</th>\n",
       "      <td>0.090000</td>\n",
       "      <td>0.030000</td>\n",
       "      <td>0.230000</td>\n",
       "      <td>0.330000</td>\n",
       "      <td>0.230000</td>\n",
       "      <td>-5.551115e-17</td>\n",
       "      <td>1.0</td>\n",
       "    </tr>\n",
       "    <tr>\n",
       "      <th>25%</th>\n",
       "      <td>0.200000</td>\n",
       "      <td>0.120000</td>\n",
       "      <td>0.390000</td>\n",
       "      <td>0.460000</td>\n",
       "      <td>0.390000</td>\n",
       "      <td>6.000000e-02</td>\n",
       "      <td>1.0</td>\n",
       "    </tr>\n",
       "    <tr>\n",
       "      <th>50%</th>\n",
       "      <td>0.230000</td>\n",
       "      <td>0.140000</td>\n",
       "      <td>0.430000</td>\n",
       "      <td>0.490000</td>\n",
       "      <td>0.430000</td>\n",
       "      <td>8.000000e-02</td>\n",
       "      <td>1.0</td>\n",
       "    </tr>\n",
       "    <tr>\n",
       "      <th>75%</th>\n",
       "      <td>0.260000</td>\n",
       "      <td>0.170000</td>\n",
       "      <td>0.460000</td>\n",
       "      <td>0.520000</td>\n",
       "      <td>0.460000</td>\n",
       "      <td>1.000000e-01</td>\n",
       "      <td>1.0</td>\n",
       "    </tr>\n",
       "    <tr>\n",
       "      <th>max</th>\n",
       "      <td>0.420000</td>\n",
       "      <td>0.300000</td>\n",
       "      <td>0.600000</td>\n",
       "      <td>0.690000</td>\n",
       "      <td>0.610000</td>\n",
       "      <td>2.000000e-01</td>\n",
       "      <td>1.0</td>\n",
       "    </tr>\n",
       "  </tbody>\n",
       "</table>\n",
       "</div>"
      ],
      "text/plain": [
       "       dealer_busts  player_busts   player_hit         lose          win  \\\n",
       "count   5000.000000   5000.000000  5000.000000  5000.000000  5000.000000   \n",
       "mean       0.233348      0.144456     0.427046     0.489594     0.426336   \n",
       "std        0.042519      0.034972     0.050023     0.050077     0.049796   \n",
       "min        0.090000      0.030000     0.230000     0.330000     0.230000   \n",
       "25%        0.200000      0.120000     0.390000     0.460000     0.390000   \n",
       "50%        0.230000      0.140000     0.430000     0.490000     0.430000   \n",
       "75%        0.260000      0.170000     0.460000     0.520000     0.460000   \n",
       "max        0.420000      0.300000     0.600000     0.690000     0.610000   \n",
       "\n",
       "               draw  rec_strategy  \n",
       "count  5.000000e+03        5000.0  \n",
       "mean   8.407000e-02           1.0  \n",
       "std    2.780089e-02           0.0  \n",
       "min   -5.551115e-17           1.0  \n",
       "25%    6.000000e-02           1.0  \n",
       "50%    8.000000e-02           1.0  \n",
       "75%    1.000000e-01           1.0  \n",
       "max    2.000000e-01           1.0  "
      ]
     },
     "execution_count": 240,
     "metadata": {},
     "output_type": "execute_result"
    }
   ],
   "source": [
    "trials[trials.rec_strategy == 1].describe()"
   ]
  },
  {
   "cell_type": "code",
   "execution_count": 241,
   "metadata": {
    "ExecuteTime": {
     "end_time": "2017-02-04T18:24:58.445990",
     "start_time": "2017-02-04T18:24:58.023138"
    },
    "collapsed": false
   },
   "outputs": [
    {
     "data": {
      "image/png": "[encoded data removed]",
      "text/plain": [
       "<matplotlib.figure.Figure at 0x1188b49b0>"
      ]
     },
     "metadata": {},
     "output_type": "display_data"
    }
   ],
   "source": [
    "sns.distplot(trials.lose[trials.rec_strategy==0], bins=10, label=\"Losses\");\n",
    "sns.distplot(trials.win[trials.rec_strategy==0], bins=10, label=\"Wins\");\n",
    "sns.distplot(trials.draw[trials.rec_strategy==0], bins=10, label=\"Draws\");\n",
    "plt.legend();\n",
    "plt.title(\"Probability of losses, wins and draws on random strategy\");"
   ]
  },
  {
   "cell_type": "code",
   "execution_count": 242,
   "metadata": {
    "ExecuteTime": {
     "end_time": "2017-02-04T18:24:58.977414",
     "start_time": "2017-02-04T18:24:58.557849"
    },
    "collapsed": false
   },
   "outputs": [
    {
     "data": {
      "image/png": "[encoded data removed]",
      "text/plain": [
       "<matplotlib.figure.Figure at 0x115db7be0>"
      ]
     },
     "metadata": {},
     "output_type": "display_data"
    }
   ],
   "source": [
    "sns.distplot(trials.lose[trials.rec_strategy==1], bins=10, label=\"Losses\");\n",
    "sns.distplot(trials.win[trials.rec_strategy==1], bins=10, label=\"Wins\");\n",
    "sns.distplot(trials.draw[trials.rec_strategy==1], bins=10, label=\"Draws\");\n",
    "plt.legend();\n",
    "plt.title(\"Probability of losses, wins and draws on random strategy\");"
   ]
  },
  {
   "cell_type": "code",
   "execution_count": 243,
   "metadata": {
    "ExecuteTime": {
     "end_time": "2017-02-04T18:24:59.686523",
     "start_time": "2017-02-04T18:24:59.351666"
    },
    "collapsed": false
   },
   "outputs": [
    {
     "data": {
      "image/png": "[encoded data removed]",
      "text/plain": [
       "<matplotlib.figure.Figure at 0x115f5e358>"
      ]
     },
     "metadata": {},
     "output_type": "display_data"
    }
   ],
   "source": [
    "sns.distplot(trials.lose[trials.rec_strategy==0], bins=10, label=\"Random\");\n",
    "sns.distplot(trials.lose[trials.rec_strategy==1], bins=10, label=\"Recommended\");\n",
    "plt.legend();\n",
    "plt.title(\"Probability of losing per strategy\");"
   ]
  },
  {
   "cell_type": "code",
   "execution_count": 244,
   "metadata": {
    "ExecuteTime": {
     "end_time": "2017-02-04T18:25:00.551991",
     "start_time": "2017-02-04T18:25:00.196340"
    },
    "collapsed": false
   },
   "outputs": [
    {
     "data": {
      "image/png": "[encoded data removed]",
      "text/plain": [
       "<matplotlib.figure.Figure at 0x1125584e0>"
      ]
     },
     "metadata": {},
     "output_type": "display_data"
    }
   ],
   "source": [
    "sns.distplot(trials.win[trials.rec_strategy==0], bins=10, label=\"Random\");\n",
    "sns.distplot(trials.win[trials.rec_strategy==1], bins=10, label=\"Recommended\");\n",
    "plt.legend();\n",
    "plt.title(\"Probability of winning per strategy\");"
   ]
  },
  {
   "cell_type": "code",
   "execution_count": 245,
   "metadata": {
    "ExecuteTime": {
     "end_time": "2017-02-04T18:25:01.893140",
     "start_time": "2017-02-04T18:25:01.558404"
    },
    "collapsed": false
   },
   "outputs": [
    {
     "data": {
      "image/png": "[encoded data removed]",
      "text/plain": [
       "<matplotlib.figure.Figure at 0x1192358d0>"
      ]
     },
     "metadata": {},
     "output_type": "display_data"
    }
   ],
   "source": [
    "sns.distplot(trials.draw[trials.rec_strategy==0], bins=10, label=\"Random\");\n",
    "sns.distplot(trials.draw[trials.rec_strategy==1], bins=10, label=\"Recommended\");\n",
    "plt.legend();\n",
    "plt.title(\"Probability of drawing per strategy\");"
   ]
  },
  {
   "cell_type": "code",
   "execution_count": 247,
   "metadata": {
    "ExecuteTime": {
     "end_time": "2017-02-04T18:27:14.560492",
     "start_time": "2017-02-04T18:27:14.235814"
    },
    "collapsed": false
   },
   "outputs": [
    {
     "data": {
      "image/png": "[encoded data removed]",
      "text/plain": [
       "<matplotlib.figure.Figure at 0x112962c18>"
      ]
     },
     "metadata": {},
     "output_type": "display_data"
    }
   ],
   "source": [
    "sns.distplot(trials.player_busts[trials.rec_strategy==0], bins=10, label=\"Random\");\n",
    "sns.distplot(trials.player_busts[trials.rec_strategy==1], bins=10, label=\"Recommended\");\n",
    "plt.legend();\n",
    "plt.title(\"Probability of player busting per strategy\");"
   ]
  },
  {
   "cell_type": "code",
   "execution_count": 249,
   "metadata": {
    "ExecuteTime": {
     "end_time": "2017-02-04T18:29:11.504394",
     "start_time": "2017-02-04T18:29:11.129866"
    },
    "collapsed": false
   },
   "outputs": [
    {
     "data": {
      "image/png": "[encoded data removed]",
      "text/plain": [
       "<matplotlib.figure.Figure at 0x10dd66898>"
      ]
     },
     "metadata": {},
     "output_type": "display_data"
    }
   ],
   "source": [
    "sns.distplot(trials.dealer_busts[trials.rec_strategy==0], bins=10, label=\"Random\");\n",
    "sns.distplot(trials.dealer_busts[trials.rec_strategy==1], bins=10, label=\"Recommended\");\n",
    "plt.legend();\n",
    "plt.title(\"Probability of dealer busting per strategy\");"
   ]
  },
  {
   "cell_type": "code",
   "execution_count": 248,
   "metadata": {
    "ExecuteTime": {
     "end_time": "2017-02-04T18:27:34.670223",
     "start_time": "2017-02-04T18:27:34.323983"
    },
    "collapsed": false
   },
   "outputs": [
    {
     "data": {
      "image/png": "[encoded data removed]",
      "text/plain": [
       "<matplotlib.figure.Figure at 0x1168488d0>"
      ]
     },
     "metadata": {},
     "output_type": "display_data"
    }
   ],
   "source": [
    "sns.distplot(trials.player_hit[trials.rec_strategy==0], bins=10, label=\"Random\");\n",
    "sns.distplot(trials.player_hit[trials.rec_strategy==1], bins=10, label=\"Recommended\");\n",
    "plt.legend();\n",
    "plt.title(\"Probability of player hitting per strategy\");"
   ]
  },
  {
   "cell_type": "markdown",
   "metadata": {},
   "source": [
    "## How often do you win because the dealer busts?"
   ]
  },
  {
   "cell_type": "code",
   "execution_count": 211,
   "metadata": {
    "ExecuteTime": {
     "end_time": "2017-02-04T18:09:35.086136",
     "start_time": "2017-02-04T18:09:35.054931"
    },
    "collapsed": true
   },
   "outputs": [],
   "source": [
    "ran_strat = df.copy()\n",
    "ran_strat = ran_strat[ran_strat.rec_strategy==0]"
   ]
  },
  {
   "cell_type": "code",
   "execution_count": 212,
   "metadata": {
    "ExecuteTime": {
     "end_time": "2017-02-04T18:09:39.255602",
     "start_time": "2017-02-04T18:09:39.222834"
    },
    "collapsed": true
   },
   "outputs": [],
   "source": [
    "rec_strat = df.copy()\n",
    "rec_strat = rec_strat[rec_strat.rec_strategy==1]"
   ]
  },
  {
   "cell_type": "markdown",
   "metadata": {},
   "source": [
    "### Random strategy"
   ]
  },
  {
   "cell_type": "code",
   "execution_count": 207,
   "metadata": {
    "ExecuteTime": {
     "end_time": "2017-02-04T18:08:26.005502",
     "start_time": "2017-02-04T18:08:25.991925"
    },
    "collapsed": false
   },
   "outputs": [
    {
     "name": "stdout",
     "output_type": "stream",
     "text": [
      "0.37325\n"
     ]
    }
   ],
   "source": [
    "# Proportion of time player wins\n",
    "print (len(ran_strat[ran_strat.player_win == 1])/len(ran_strat))"
   ]
  },
  {
   "cell_type": "code",
   "execution_count": 208,
   "metadata": {
    "ExecuteTime": {
     "end_time": "2017-02-04T18:08:34.273849",
     "start_time": "2017-02-04T18:08:34.263797"
    },
    "collapsed": false
   },
   "outputs": [
    {
     "name": "stdout",
     "output_type": "stream",
     "text": [
      "0.19937\n"
     ]
    }
   ],
   "source": [
    "# Proportion of time dealer_busts\n",
    "print (len(ran_strat[ran_strat.dealer_busts==1])/len(ran_strat))"
   ]
  },
  {
   "cell_type": "code",
   "execution_count": 209,
   "metadata": {
    "ExecuteTime": {
     "end_time": "2017-02-04T18:09:01.592676",
     "start_time": "2017-02-04T18:09:01.574477"
    },
    "collapsed": false
   },
   "outputs": [
    {
     "name": "stdout",
     "output_type": "stream",
     "text": [
      "0.534146014735432\n"
     ]
    }
   ],
   "source": [
    "# Proportion of time player wins and dealer_busts\n",
    "print (len(ran_strat[(ran_strat.player_win == 1) & (ran_strat.dealer_busts==1)])/ len(ran_strat[ran_strat.player_win == 1]))"
   ]
  },
  {
   "cell_type": "markdown",
   "metadata": {},
   "source": [
    "### Recommended strategy"
   ]
  },
  {
   "cell_type": "code",
   "execution_count": 213,
   "metadata": {
    "ExecuteTime": {
     "end_time": "2017-02-04T18:09:41.777912",
     "start_time": "2017-02-04T18:09:41.766751"
    },
    "collapsed": false
   },
   "outputs": [
    {
     "name": "stdout",
     "output_type": "stream",
     "text": [
      "0.42933\n"
     ]
    }
   ],
   "source": [
    "# Proportion of time player wins\n",
    "print (len(rec_strat[rec_strat.player_win == 1])/len(rec_strat))"
   ]
  },
  {
   "cell_type": "code",
   "execution_count": 214,
   "metadata": {
    "ExecuteTime": {
     "end_time": "2017-02-04T18:09:47.185853",
     "start_time": "2017-02-04T18:09:47.174598"
    },
    "collapsed": false
   },
   "outputs": [
    {
     "name": "stdout",
     "output_type": "stream",
     "text": [
      "0.23531\n"
     ]
    }
   ],
   "source": [
    "# Proportion of time dealer_busts\n",
    "print (len(rec_strat[rec_strat.dealer_busts==1])/len(rec_strat))"
   ]
  },
  {
   "cell_type": "code",
   "execution_count": 215,
   "metadata": {
    "ExecuteTime": {
     "end_time": "2017-02-04T18:09:54.864215",
     "start_time": "2017-02-04T18:09:54.845843"
    },
    "collapsed": false
   },
   "outputs": [
    {
     "name": "stdout",
     "output_type": "stream",
     "text": [
      "0.5480865534670301\n"
     ]
    }
   ],
   "source": [
    "# Proportion of time player wins and dealer_busts\n",
    "print (len(rec_strat[(rec_strat.player_win == 1) & (rec_strat.dealer_busts==1)])/ len(rec_strat[rec_strat.player_win == 1]))"
   ]
  },
  {
   "cell_type": "code",
   "execution_count": null,
   "metadata": {
    "collapsed": true
   },
   "outputs": [],
   "source": []
  },
  {
   "cell_type": "code",
   "execution_count": null,
   "metadata": {
    "collapsed": true
   },
   "outputs": [],
   "source": []
  },
  {
   "cell_type": "code",
   "execution_count": null,
   "metadata": {
    "collapsed": true
   },
   "outputs": [],
   "source": []
  },
  {
   "cell_type": "code",
   "execution_count": null,
   "metadata": {
    "collapsed": true
   },
   "outputs": [],
   "source": []
  },
  {
   "cell_type": "code",
   "execution_count": null,
   "metadata": {
    "collapsed": true
   },
   "outputs": [],
   "source": []
  },
  {
   "cell_type": "code",
   "execution_count": null,
   "metadata": {
    "collapsed": true
   },
   "outputs": [],
   "source": []
  },
  {
   "cell_type": "code",
   "execution_count": null,
   "metadata": {
    "collapsed": true
   },
   "outputs": [],
   "source": []
  },
  {
   "cell_type": "code",
   "execution_count": null,
   "metadata": {
    "collapsed": true
   },
   "outputs": [],
   "source": []
  },
  {
   "cell_type": "code",
   "execution_count": null,
   "metadata": {
    "collapsed": true
   },
   "outputs": [],
   "source": []
  },
  {
   "cell_type": "markdown",
   "metadata": {
    "collapsed": false
   },
   "source": [
    "## Dealer"
   ]
  },
  {
   "cell_type": "code",
   "execution_count": null,
   "metadata": {
    "collapsed": true
   },
   "outputs": [],
   "source": []
  },
  {
   "cell_type": "code",
   "execution_count": 189,
   "metadata": {
    "ExecuteTime": {
     "end_time": "2017-02-04T17:58:40.129280",
     "start_time": "2017-02-04T17:58:39.684265"
    },
    "collapsed": true
   },
   "outputs": [],
   "source": [
    "df = pd.read_csv(\"blackjack.csv\")"
   ]
  },
  {
   "cell_type": "code",
   "execution_count": 190,
   "metadata": {
    "ExecuteTime": {
     "end_time": "2017-02-04T17:58:44.718571",
     "start_time": "2017-02-04T17:58:44.692367"
    },
    "collapsed": false
   },
   "outputs": [
    {
     "data": {
      "text/html": [
       "<div>\n",
       "<table border=\"1\" class=\"dataframe\">\n",
       "  <thead>\n",
       "    <tr style=\"text-align: right;\">\n",
       "      <th></th>\n",
       "      <th>dealer_open</th>\n",
       "      <th>dealer_closed</th>\n",
       "      <th>dealer_original</th>\n",
       "      <th>dealer_hit</th>\n",
       "      <th>dealer_final</th>\n",
       "      <th>dealer_busts</th>\n",
       "      <th>dealer_hand</th>\n",
       "      <th>player_card_one</th>\n",
       "      <th>player_card_two</th>\n",
       "      <th>player_original</th>\n",
       "      <th>player_hit</th>\n",
       "      <th>player_final</th>\n",
       "      <th>player_busts</th>\n",
       "      <th>player_lose</th>\n",
       "      <th>player_win</th>\n",
       "      <th>player_hand</th>\n",
       "      <th>rec_strategy</th>\n",
       "    </tr>\n",
       "  </thead>\n",
       "  <tbody>\n",
       "    <tr>\n",
       "      <th>0</th>\n",
       "      <td>6</td>\n",
       "      <td>A</td>\n",
       "      <td>17</td>\n",
       "      <td>0</td>\n",
       "      <td>17</td>\n",
       "      <td>0</td>\n",
       "      <td>[6, 'A']</td>\n",
       "      <td>A</td>\n",
       "      <td>J</td>\n",
       "      <td>21</td>\n",
       "      <td>0</td>\n",
       "      <td>21</td>\n",
       "      <td>0</td>\n",
       "      <td>0</td>\n",
       "      <td>1</td>\n",
       "      <td>['A', 'J']</td>\n",
       "      <td>0</td>\n",
       "    </tr>\n",
       "    <tr>\n",
       "      <th>1</th>\n",
       "      <td>7</td>\n",
       "      <td>7</td>\n",
       "      <td>14</td>\n",
       "      <td>2</td>\n",
       "      <td>21</td>\n",
       "      <td>0</td>\n",
       "      <td>[7, 7, 'A', 6]</td>\n",
       "      <td>9</td>\n",
       "      <td>8</td>\n",
       "      <td>17</td>\n",
       "      <td>0</td>\n",
       "      <td>17</td>\n",
       "      <td>0</td>\n",
       "      <td>1</td>\n",
       "      <td>0</td>\n",
       "      <td>[9, 8]</td>\n",
       "      <td>0</td>\n",
       "    </tr>\n",
       "    <tr>\n",
       "      <th>2</th>\n",
       "      <td>10</td>\n",
       "      <td>K</td>\n",
       "      <td>20</td>\n",
       "      <td>0</td>\n",
       "      <td>20</td>\n",
       "      <td>0</td>\n",
       "      <td>[10, 'K']</td>\n",
       "      <td>6</td>\n",
       "      <td>9</td>\n",
       "      <td>15</td>\n",
       "      <td>1</td>\n",
       "      <td>25</td>\n",
       "      <td>1</td>\n",
       "      <td>1</td>\n",
       "      <td>0</td>\n",
       "      <td>[6, 9, 'Q']</td>\n",
       "      <td>0</td>\n",
       "    </tr>\n",
       "    <tr>\n",
       "      <th>3</th>\n",
       "      <td>7</td>\n",
       "      <td>7</td>\n",
       "      <td>14</td>\n",
       "      <td>1</td>\n",
       "      <td>24</td>\n",
       "      <td>1</td>\n",
       "      <td>[7, 7, 'K']</td>\n",
       "      <td>7</td>\n",
       "      <td>5</td>\n",
       "      <td>12</td>\n",
       "      <td>0</td>\n",
       "      <td>12</td>\n",
       "      <td>0</td>\n",
       "      <td>0</td>\n",
       "      <td>1</td>\n",
       "      <td>[7, 5]</td>\n",
       "      <td>0</td>\n",
       "    </tr>\n",
       "    <tr>\n",
       "      <th>4</th>\n",
       "      <td>11</td>\n",
       "      <td>4</td>\n",
       "      <td>15</td>\n",
       "      <td>2</td>\n",
       "      <td>24</td>\n",
       "      <td>1</td>\n",
       "      <td>['A', 4, 'Q', 9]</td>\n",
       "      <td>7</td>\n",
       "      <td>8</td>\n",
       "      <td>15</td>\n",
       "      <td>0</td>\n",
       "      <td>15</td>\n",
       "      <td>0</td>\n",
       "      <td>0</td>\n",
       "      <td>1</td>\n",
       "      <td>[7, 8]</td>\n",
       "      <td>0</td>\n",
       "    </tr>\n",
       "  </tbody>\n",
       "</table>\n",
       "</div>"
      ],
      "text/plain": [
       "   dealer_open dealer_closed  dealer_original  dealer_hit  dealer_final  \\\n",
       "0            6             A               17           0            17   \n",
       "1            7             7               14           2            21   \n",
       "2           10             K               20           0            20   \n",
       "3            7             7               14           1            24   \n",
       "4           11             4               15           2            24   \n",
       "\n",
       "   dealer_busts       dealer_hand player_card_one player_card_two  \\\n",
       "0             0          [6, 'A']               A               J   \n",
       "1             0    [7, 7, 'A', 6]               9               8   \n",
       "2             0         [10, 'K']               6               9   \n",
       "3             1       [7, 7, 'K']               7               5   \n",
       "4             1  ['A', 4, 'Q', 9]               7               8   \n",
       "\n",
       "   player_original  player_hit  player_final  player_busts  player_lose  \\\n",
       "0               21           0            21             0            0   \n",
       "1               17           0            17             0            1   \n",
       "2               15           1            25             1            1   \n",
       "3               12           0            12             0            0   \n",
       "4               15           0            15             0            0   \n",
       "\n",
       "   player_win  player_hand  rec_strategy  \n",
       "0           1   ['A', 'J']             0  \n",
       "1           0       [9, 8]             0  \n",
       "2           0  [6, 9, 'Q']             0  \n",
       "3           1       [7, 5]             0  \n",
       "4           1       [7, 8]             0  "
      ]
     },
     "execution_count": 190,
     "metadata": {},
     "output_type": "execute_result"
    }
   ],
   "source": [
    "df.head()"
   ]
  },
  {
   "cell_type": "code",
   "execution_count": 197,
   "metadata": {
    "ExecuteTime": {
     "end_time": "2017-02-04T18:01:35.595840",
     "start_time": "2017-02-04T18:01:35.497090"
    },
    "collapsed": false
   },
   "outputs": [
    {
     "data": {
      "text/html": [
       "<div>\n",
       "<table border=\"1\" class=\"dataframe\">\n",
       "  <thead>\n",
       "    <tr style=\"text-align: right;\">\n",
       "      <th></th>\n",
       "      <th>dealer_open</th>\n",
       "      <th>strategy</th>\n",
       "      <th>total</th>\n",
       "      <th>dealer_busts</th>\n",
       "      <th>player_lose</th>\n",
       "      <th>player_win</th>\n",
       "      <th>percent_dealer_busts</th>\n",
       "      <th>percent_player_lose</th>\n",
       "      <th>percent_player_win</th>\n",
       "      <th>percent_draw</th>\n",
       "    </tr>\n",
       "  </thead>\n",
       "  <tbody>\n",
       "    <tr>\n",
       "      <th>0</th>\n",
       "      <td>2</td>\n",
       "      <td>0</td>\n",
       "      <td>7572</td>\n",
       "      <td>1881</td>\n",
       "      <td>4033</td>\n",
       "      <td>3127</td>\n",
       "      <td>0.248415</td>\n",
       "      <td>0.532620</td>\n",
       "      <td>0.412969</td>\n",
       "      <td>0.054411</td>\n",
       "    </tr>\n",
       "    <tr>\n",
       "      <th>1</th>\n",
       "      <td>2</td>\n",
       "      <td>1</td>\n",
       "      <td>7807</td>\n",
       "      <td>2712</td>\n",
       "      <td>3547</td>\n",
       "      <td>3824</td>\n",
       "      <td>0.347381</td>\n",
       "      <td>0.454336</td>\n",
       "      <td>0.489817</td>\n",
       "      <td>0.055847</td>\n",
       "    </tr>\n",
       "    <tr>\n",
       "      <th>2</th>\n",
       "      <td>3</td>\n",
       "      <td>0</td>\n",
       "      <td>7883</td>\n",
       "      <td>2079</td>\n",
       "      <td>4103</td>\n",
       "      <td>3386</td>\n",
       "      <td>0.263732</td>\n",
       "      <td>0.520487</td>\n",
       "      <td>0.429532</td>\n",
       "      <td>0.049981</td>\n",
       "    </tr>\n",
       "    <tr>\n",
       "      <th>3</th>\n",
       "      <td>3</td>\n",
       "      <td>1</td>\n",
       "      <td>7600</td>\n",
       "      <td>2637</td>\n",
       "      <td>3486</td>\n",
       "      <td>3744</td>\n",
       "      <td>0.346974</td>\n",
       "      <td>0.458684</td>\n",
       "      <td>0.492632</td>\n",
       "      <td>0.048684</td>\n",
       "    </tr>\n",
       "    <tr>\n",
       "      <th>4</th>\n",
       "      <td>4</td>\n",
       "      <td>0</td>\n",
       "      <td>7675</td>\n",
       "      <td>2173</td>\n",
       "      <td>3898</td>\n",
       "      <td>3384</td>\n",
       "      <td>0.283127</td>\n",
       "      <td>0.507883</td>\n",
       "      <td>0.440912</td>\n",
       "      <td>0.051205</td>\n",
       "    </tr>\n",
       "  </tbody>\n",
       "</table>\n",
       "</div>"
      ],
      "text/plain": [
       "   dealer_open  strategy  total  dealer_busts  player_lose  player_win  \\\n",
       "0            2         0   7572          1881         4033        3127   \n",
       "1            2         1   7807          2712         3547        3824   \n",
       "2            3         0   7883          2079         4103        3386   \n",
       "3            3         1   7600          2637         3486        3744   \n",
       "4            4         0   7675          2173         3898        3384   \n",
       "\n",
       "   percent_dealer_busts  percent_player_lose  percent_player_win  percent_draw  \n",
       "0              0.248415             0.532620            0.412969      0.054411  \n",
       "1              0.347381             0.454336            0.489817      0.055847  \n",
       "2              0.263732             0.520487            0.429532      0.049981  \n",
       "3              0.346974             0.458684            0.492632      0.048684  \n",
       "4              0.283127             0.507883            0.440912      0.051205  "
      ]
     },
     "execution_count": 197,
     "metadata": {},
     "output_type": "execute_result"
    }
   ],
   "source": [
    "dealer_hands = pd.pivot_table(df, index=[\"dealer_open\", \"rec_strategy\"], \n",
    "                              values=[\"dealer_busts\", \"player_lose\",\"player_win\"], aggfunc=[len, sum])\n",
    "dealer_hands.reset_index(inplace=True)\n",
    "dealer_hands.columns = dealer_hands.columns.values\n",
    "del dealer_hands[('len', 'player_win')]\n",
    "del dealer_hands[('len', 'player_lose')]\n",
    "dealer_hands.columns = [\"dealer_open\", \"strategy\",\"total\", \"dealer_busts\", \"player_lose\", \"player_win\"]\n",
    "dealer_hands[\"percent_dealer_busts\"] = dealer_hands[\"dealer_busts\"] / dealer_hands[\"total\"]\n",
    "dealer_hands[\"percent_player_lose\"] = dealer_hands[\"player_lose\"] / dealer_hands[\"total\"]\n",
    "dealer_hands[\"percent_player_win\"] = dealer_hands[\"player_win\"] / dealer_hands[\"total\"]\n",
    "dealer_hands[\"percent_draw\"] = 1 - dealer_hands[\"percent_player_win\"] - dealer_hands[\"percent_player_lose\"]\n",
    "dealer_hands.head()"
   ]
  },
  {
   "cell_type": "code",
   "execution_count": null,
   "metadata": {
    "ExecuteTime": {
     "end_time": "2017-02-03T15:32:43.382933",
     "start_time": "2017-02-03T15:32:43.355768"
    },
    "collapsed": false
   },
   "outputs": [],
   "source": [
    "dealer_open_hand = dealer_hands.copy()\n",
    "\n",
    "dealer_open_hand"
   ]
  },
  {
   "cell_type": "code",
   "execution_count": null,
   "metadata": {
    "ExecuteTime": {
     "end_time": "2017-02-03T15:32:44.457469",
     "start_time": "2017-02-03T15:32:43.840236"
    },
    "collapsed": false
   },
   "outputs": [],
   "source": [
    "sns.barplot(x=\"dealer_open\", y=\"percent_dealer_busts\", data=dealer_open_hand);\n",
    "plt.title(\"Proportion of time dealer busts given dealer's open card\");\n",
    "plt.show();"
   ]
  },
  {
   "cell_type": "code",
   "execution_count": null,
   "metadata": {
    "ExecuteTime": {
     "end_time": "2017-02-03T15:32:44.964368",
     "start_time": "2017-02-03T15:32:44.460466"
    },
    "collapsed": false
   },
   "outputs": [],
   "source": [
    "sns.barplot(x=\"dealer_open\", y=\"percent_player_wins\", hue=\"strategy\", data=dealer_open_hand);\n",
    "plt.title(\"Proportion of time player wins given dealer's open card\");\n",
    "plt.show();"
   ]
  },
  {
   "cell_type": "code",
   "execution_count": null,
   "metadata": {
    "ExecuteTime": {
     "end_time": "2017-02-03T15:32:44.996420",
     "start_time": "2017-02-03T15:32:44.967152"
    },
    "collapsed": false
   },
   "outputs": [],
   "source": [
    "df.head()"
   ]
  },
  {
   "cell_type": "code",
   "execution_count": null,
   "metadata": {
    "ExecuteTime": {
     "end_time": "2017-02-03T15:32:46.062013",
     "start_time": "2017-02-03T15:32:45.969103"
    },
    "collapsed": false
   },
   "outputs": [],
   "source": [
    "dealer_fin = pd.pivot_table(df, index=[\"dealer_open\", \"strategy\"], values=[\"dealer_final\", \"player_wins\"], aggfunc=[len, np.median, sum])\n",
    "dealer_fin.reset_index(inplace=True)\n",
    "dealer_fin.columns = dealer_fin.columns.values\n",
    "del dealer_fin[(\"median\", \"player_wins\")]\n",
    "del dealer_fin[(\"sum\", \"dealer_final\")]\n",
    "del dealer_fin[(\"len\", \"dealer_final\")]\n",
    "dealer_fin.columns = [\"dealer_open\", \"strategy\", \"total\", \"median_dealer_final\", \"sum_player_wins\"]\n",
    "dealer_fin[\"percent_player_wins\"] = dealer_fin[\"sum_player_wins\"] / dealer_fin[\"total\"]\n",
    "dealer_fin.head()"
   ]
  },
  {
   "cell_type": "code",
   "execution_count": null,
   "metadata": {
    "ExecuteTime": {
     "end_time": "2017-02-03T15:32:47.178246",
     "start_time": "2017-02-03T15:32:46.551918"
    },
    "collapsed": false
   },
   "outputs": [],
   "source": [
    "sns.barplot(x=\"dealer_open\", y=\"median_dealer_final\", data=dealer_fin);\n",
    "plt.title(\"Median dealer final points given dealer's open card\");\n",
    "plt.show();"
   ]
  },
  {
   "cell_type": "code",
   "execution_count": null,
   "metadata": {
    "ExecuteTime": {
     "end_time": "2017-02-03T15:32:47.248506",
     "start_time": "2017-02-03T15:32:47.180333"
    },
    "collapsed": false
   },
   "outputs": [],
   "source": [
    "dealer_fin_p = pd.pivot_table(df, index=[\"dealer_final\", \"strategy\"], values=\"player_wins\", aggfunc=[len, sum]).reset_index()\n",
    "dealer_fin_p.columns = [\"dealer_final\", \"strategy\",\"total\", \"player_wins_draws\"]\n",
    "dealer_fin_p[\"percent_player_wins_draws\"] = dealer_fin_p[\"player_wins_draws\"]/dealer_fin_p[\"total\"]\n",
    "dealer_fin_p"
   ]
  },
  {
   "cell_type": "code",
   "execution_count": null,
   "metadata": {
    "ExecuteTime": {
     "end_time": "2017-02-03T15:32:49.237595",
     "start_time": "2017-02-03T15:32:48.727696"
    },
    "collapsed": false
   },
   "outputs": [],
   "source": [
    "sns.barplot(x=\"dealer_final\", y=\"percent_player_wins_draws\", hue=\"strategy\", data=dealer_fin_p);\n",
    "plt.title(\"Proportion of time player wins given dealer's final points\");\n",
    "plt.show();"
   ]
  },
  {
   "cell_type": "markdown",
   "metadata": {
    "collapsed": false
   },
   "source": [
    "## Player"
   ]
  },
  {
   "cell_type": "code",
   "execution_count": null,
   "metadata": {
    "ExecuteTime": {
     "end_time": "2017-02-03T15:32:50.230977",
     "start_time": "2017-02-03T15:32:50.088879"
    },
    "collapsed": false
   },
   "outputs": [],
   "source": [
    "player_hands = pd.pivot_table(df, index=[\"player_card_one\", \"player_card_two\", \"player_original\", \"strategy\"], \n",
    "                              values=[\"player_busts\", \"player_wins\"], aggfunc=[len, sum])\n",
    "player_hands.reset_index(inplace=True)\n",
    "player_hands.columns = player_hands.columns.values\n",
    "del player_hands[('len', 'player_wins')]\n",
    "player_hands.columns = [\"player_card_one\", \"player_card_two\", \"player_original\", \"strategy\", \n",
    "                        \"total\", \"player_busts\", \"player_wins\"]\n",
    "player_hands.head()"
   ]
  },
  {
   "cell_type": "code",
   "execution_count": null,
   "metadata": {
    "ExecuteTime": {
     "end_time": "2017-02-03T15:32:51.055139",
     "start_time": "2017-02-03T15:32:51.017513"
    },
    "collapsed": false
   },
   "outputs": [],
   "source": [
    "pd.crosstab(index=df[\"player_final\"], columns=df[\"strategy\"], values=df[\"strategy\"], aggfunc=len)"
   ]
  },
  {
   "cell_type": "code",
   "execution_count": null,
   "metadata": {
    "collapsed": false
   },
   "outputs": [],
   "source": []
  },
  {
   "cell_type": "code",
   "execution_count": null,
   "metadata": {
    "collapsed": false
   },
   "outputs": [],
   "source": []
  },
  {
   "cell_type": "raw",
   "metadata": {
    "ExecuteTime": {
     "end_time": "2017-02-03T16:04:27.834063",
     "start_time": "2017-02-03T16:04:27.823944"
    },
    "collapsed": false
   },
   "source": [
    "class play_blackjack():\n",
    "    \"\"\" Play a game of blackjack with just the dealer and one player \"\"\"\n",
    "    def __init__(self, num_decks=8):\n",
    "        self.deck = Deck(num_decks)\n",
    "        self.dealer_hand = []\n",
    "        self.player_hand = []\n",
    "        self.hands = [self.player_hand, self.dealer_hand]\n",
    "        \n",
    "    def play(self):\n",
    "        self.deck.shuffle_deck()\n",
    "        for _ in range(2):\n",
    "            for i in self.hands:\n",
    "                self.deck.deal(i)\n",
    "\n",
    "game = play_blackjack()\n",
    "game.play()\n",
    "\n",
    "game.dealer_hand\n",
    "\n",
    "game.player_hand\n",
    "\n",
    "game.deck.deal(game.player_hand)\n",
    "game.player_hand"
   ]
  },
  {
   "cell_type": "raw",
   "metadata": {
    "ExecuteTime": {
     "end_time": "2017-02-03T15:05:13.574062",
     "start_time": "2017-02-03T15:05:07.810268"
    },
    "collapsed": false
   },
   "source": [
    "ran_strat = [simulate_game() for _ in range(50000)]\n",
    "\n",
    "rec_strat = [simulate_game(strategy=\"recommended\") for _ in range(50000)]\n",
    "\n",
    "data = []\n",
    "data.extend(ran_strat)\n",
    "data.extend(rec_strat)\n",
    "# data[:5]\n",
    "\n",
    "df = pd.DataFrame(data, columns=[\"dealer_open\", \"dealer_closed\", \n",
    "                               \"dealer_original\", \"dealer_hit\", \n",
    "                               \"dealer_final\", \"dealer_busts\", \n",
    "                                 \"dealer_hand\",\n",
    "                               \"player_card_one\", \"player_card_two\", \n",
    "                               \"player_original\", \"player_hit\", \n",
    "                               \"player_final\", \"player_busts\", \n",
    "                               \"player_wins\", \"player_hand\", \"strategy\"])"
   ]
  },
  {
   "cell_type": "raw",
   "metadata": {
    "ExecuteTime": {
     "end_time": "2017-02-04T16:40:37.615652",
     "start_time": "2017-02-04T16:40:37.609650"
    },
    "collapsed": false
   },
   "source": [
    "# Define a function to generate proportion of wins and losses on random and recommended strategy\n",
    "# Return as list [proportion of wins on random, proportion of wins on recommended]\n",
    "def get_wins(num=100):\n",
    "    return [sum([simulate_game(strategy=\"random\")[-3] for _ in range(num)])/num, \n",
    "            sum([simulate_game(strategy=\"recommended\")[-3] for _ in range(num)])/num]\n",
    "\n",
    "player_wins_df = pd.DataFrame([get_wins() for _ in range(5000)], columns=[\"random\", \"recommended\"])\n",
    "\n",
    "old_player_data = pd.read_csv(\"player_wins.csv\")\n",
    "player_wins_df = pd.concat([old_player_data, player_wins_df])\n",
    "\n",
    "# Save so we can add to it next time\n",
    "player_wins_df.to_csv(\"player_wins.csv\", index=False)"
   ]
  }
 ],
 "metadata": {
  "anaconda-cloud": {},
  "kernelspec": {
   "display_name": "Python [conda env:py36]",
   "language": "python",
   "name": "conda-env-py36-py"
  },
  "language_info": {
   "codemirror_mode": {
    "name": "ipython",
    "version": 3
   },
   "file_extension": ".py",
   "mimetype": "text/x-python",
   "name": "python",
   "nbconvert_exporter": "python",
   "pygments_lexer": "ipython3",
   "version": "3.6.0"
  },
  "toc": {
   "nav_menu": {
    "height": "12px",
    "width": "252px"
   },
   "navigate_menu": true,
   "number_sections": true,
   "sideBar": true,
   "threshold": 4,
   "toc_cell": false,
   "toc_section_display": "block",
   "toc_window_display": false
  }
 },
 "nbformat": 4,
 "nbformat_minor": 1
}
