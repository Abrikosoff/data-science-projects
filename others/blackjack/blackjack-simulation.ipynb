{
 "cells": [
  {
   "cell_type": "code",
   "execution_count": 1,
   "metadata": {
    "ExecuteTime": {
     "end_time": "2017-02-02T19:06:45.031859",
     "start_time": "2017-02-02T19:06:41.126471"
    },
    "collapsed": false
   },
   "outputs": [],
   "source": [
    "import numpy as np\n",
    "import pandas as pd\n",
    "import matplotlib.pyplot as plt\n",
    "import seaborn as sns"
   ]
  },
  {
   "cell_type": "markdown",
   "metadata": {},
   "source": [
    "# Generate data"
   ]
  },
  {
   "cell_type": "code",
   "execution_count": 2,
   "metadata": {
    "ExecuteTime": {
     "end_time": "2017-02-02T19:06:53.969240",
     "start_time": "2017-02-02T19:06:53.955939"
    },
    "collapsed": false
   },
   "outputs": [],
   "source": [
    "class Deck():\n",
    "    \"\"\" Create a deck class \"\"\"\n",
    "    \n",
    "    suits = [\"C\", \"D\", \"H\", \"S\"]\n",
    "    values = [2, 3, 4, 5, 6, 7, 8, 9, 10, \"J\", \"Q\", \"K\", \"A\"] \n",
    "    def __init__(self, number=1, suits=suits, values=values):\n",
    "        self.num_decks = number\n",
    "        # We don't need the suits for blackjack\n",
    "        self.deck = [i for i in values for j in suits for k in range(number)]\n",
    "        \n",
    "    def shuffle_deck(self):\n",
    "        np.random.shuffle(self.deck)\n",
    "        \n",
    "    def deal(self):\n",
    "        return self.deck.pop(0)"
   ]
  },
  {
   "cell_type": "code",
   "execution_count": 3,
   "metadata": {
    "ExecuteTime": {
     "end_time": "2017-02-02T19:06:57.117081",
     "start_time": "2017-02-02T19:06:57.108777"
    },
    "collapsed": false
   },
   "outputs": [
    {
     "data": {
      "text/plain": [
       "[2, 2, 2, 2, 2]"
      ]
     },
     "execution_count": 3,
     "metadata": {},
     "output_type": "execute_result"
    }
   ],
   "source": [
    "test_deck = Deck(2)\n",
    "test_deck.deck[:5]"
   ]
  },
  {
   "cell_type": "code",
   "execution_count": 4,
   "metadata": {
    "ExecuteTime": {
     "end_time": "2017-02-02T19:06:57.699184",
     "start_time": "2017-02-02T19:06:57.669486"
    },
    "collapsed": false
   },
   "outputs": [
    {
     "data": {
      "text/plain": [
       "[9, 'K', 'Q', 2, 'A']"
      ]
     },
     "execution_count": 4,
     "metadata": {},
     "output_type": "execute_result"
    }
   ],
   "source": [
    "test_deck.shuffle_deck()\n",
    "test_deck.deck[:5]"
   ]
  },
  {
   "cell_type": "code",
   "execution_count": 5,
   "metadata": {
    "ExecuteTime": {
     "end_time": "2017-02-02T19:06:58.235153",
     "start_time": "2017-02-02T19:06:58.229208"
    },
    "collapsed": false
   },
   "outputs": [
    {
     "data": {
      "text/plain": [
       "9"
      ]
     },
     "execution_count": 5,
     "metadata": {},
     "output_type": "execute_result"
    }
   ],
   "source": [
    "test_deck.deal()"
   ]
  },
  {
   "cell_type": "code",
   "execution_count": 6,
   "metadata": {
    "ExecuteTime": {
     "end_time": "2017-02-02T19:06:59.228146",
     "start_time": "2017-02-02T19:06:59.221421"
    },
    "collapsed": false
   },
   "outputs": [
    {
     "data": {
      "text/plain": [
       "['K', 'Q', 2, 'A', 4]"
      ]
     },
     "execution_count": 6,
     "metadata": {},
     "output_type": "execute_result"
    }
   ],
   "source": [
    "test_deck.deck[:5]"
   ]
  },
  {
   "cell_type": "code",
   "execution_count": 7,
   "metadata": {
    "ExecuteTime": {
     "end_time": "2017-02-02T19:07:01.649087",
     "start_time": "2017-02-02T19:07:01.636332"
    },
    "collapsed": false
   },
   "outputs": [],
   "source": [
    "class play_blackjack():\n",
    "    \"\"\" Play a game of blackjack with just the dealer and one player \"\"\"\n",
    "    def __init__(self):\n",
    "        self.deck = Deck(8)\n",
    "        \n",
    "    def play(self):\n",
    "        self.deck.shuffle_deck()\n",
    "        self.dealer_hand = []\n",
    "        self.player_hand = []\n",
    "        self.dealer_hand.append(self.deck.deck.pop(0))\n",
    "        self.player_hand.append(self.deck.deck.pop(0))\n",
    "        self.dealer_hand.append(self.deck.deck.pop(0))\n",
    "        self.player_hand.append(self.deck.deck.pop(0))\n",
    "        \n",
    "    def hit(self, hand):\n",
    "        hand.append(self.deck.deck.pop(0))"
   ]
  },
  {
   "cell_type": "code",
   "execution_count": 8,
   "metadata": {
    "ExecuteTime": {
     "end_time": "2017-02-02T19:07:05.624997",
     "start_time": "2017-02-02T19:07:05.620611"
    },
    "collapsed": true
   },
   "outputs": [],
   "source": [
    "game = play_blackjack()\n",
    "game.play()"
   ]
  },
  {
   "cell_type": "code",
   "execution_count": 9,
   "metadata": {
    "ExecuteTime": {
     "end_time": "2017-02-02T19:07:06.028414",
     "start_time": "2017-02-02T19:07:06.021653"
    },
    "collapsed": false
   },
   "outputs": [
    {
     "data": {
      "text/plain": [
       "['K', 9]"
      ]
     },
     "execution_count": 9,
     "metadata": {},
     "output_type": "execute_result"
    }
   ],
   "source": [
    "game.dealer_hand"
   ]
  },
  {
   "cell_type": "code",
   "execution_count": 10,
   "metadata": {
    "ExecuteTime": {
     "end_time": "2017-02-02T19:07:06.658379",
     "start_time": "2017-02-02T19:07:06.653211"
    },
    "collapsed": false
   },
   "outputs": [
    {
     "data": {
      "text/plain": [
       "['A', 4]"
      ]
     },
     "execution_count": 10,
     "metadata": {},
     "output_type": "execute_result"
    }
   ],
   "source": [
    "game.player_hand"
   ]
  },
  {
   "cell_type": "code",
   "execution_count": 11,
   "metadata": {
    "ExecuteTime": {
     "end_time": "2017-02-02T19:07:07.651209",
     "start_time": "2017-02-02T19:07:07.644358"
    },
    "collapsed": false
   },
   "outputs": [
    {
     "data": {
      "text/plain": [
       "['A', 4, 8]"
      ]
     },
     "execution_count": 11,
     "metadata": {},
     "output_type": "execute_result"
    }
   ],
   "source": [
    "game.hit(game.player_hand)\n",
    "game.player_hand"
   ]
  },
  {
   "cell_type": "code",
   "execution_count": 12,
   "metadata": {
    "ExecuteTime": {
     "end_time": "2017-02-02T19:07:09.279447",
     "start_time": "2017-02-02T19:07:09.229085"
    },
    "collapsed": false
   },
   "outputs": [],
   "source": [
    "def get_points(hand):\n",
    "    \n",
    "    # We want to track how the Ace was counted, if any\n",
    "    # Whether it was a 1 or 11\n",
    "    # So we want a tuple of (points, Ace_value)\n",
    "    points = (0, 0)\n",
    "    \n",
    "    # replicate the original list\n",
    "    cards = [i for i in hand]\n",
    "    \n",
    "    # If there's an Ace in the hand, take it out first\n",
    "    # And count how many Aces there are\n",
    "    has_A = 0\n",
    "    while \"A\" in cards:\n",
    "        has_A += 1\n",
    "        cards.remove(\"A\")\n",
    "        \n",
    "    # Get total points for all other cards\n",
    "    try:\n",
    "        if len(cards) > 0:\n",
    "            for i in cards:\n",
    "                try:\n",
    "                    points = (points[0] + int(i), 0)\n",
    "                except:\n",
    "                    points = (points[0] + 10, 0)\n",
    "    except:\n",
    "        print (cards)\n",
    "        print (type(cards))\n",
    "    # Deal with the Ace if there was at least one\n",
    "    \n",
    "    for i in range(has_A):\n",
    "        if type(points) == tuple:\n",
    "            if points[0] + 11 <= 21:\n",
    "                points = [(points[0] + 11, 11), (points[0] + 1, 1)]\n",
    "            else:\n",
    "                points = [(points[0] + 1, 1)]\n",
    "        else:\n",
    "            new_points = []\n",
    "            for j in points:\n",
    "                if j[0] + 11 <= 21:\n",
    "                    new_points.extend([(j[0] + 11, 11), (j[0] + 1, 1)])\n",
    "                else:\n",
    "                    new_points.extend([(j[0] + 1, 1)])\n",
    "            points = new_points\n",
    "    \n",
    "    # Now, points could be a list of tuples or a tuple\n",
    "    if type(points) == list:\n",
    "        # Sort the list by number of points in descending order\n",
    "        points.sort(reverse=True)\n",
    "        new_points = [i for i in points if i[0] <= 21]\n",
    "        \n",
    "        try:\n",
    "            if len(new_points) == 0:\n",
    "                # if there are no items in new_points\n",
    "                # return the smallest item\n",
    "                return points[-1]\n",
    "            else:\n",
    "                return new_points[0]\n",
    "        except:\n",
    "            print (new_points)\n",
    "            print (type(new_points))\n",
    "    else:\n",
    "        return points # What we get back is a tuple (points, ace_value)"
   ]
  },
  {
   "cell_type": "code",
   "execution_count": 13,
   "metadata": {
    "ExecuteTime": {
     "end_time": "2017-02-02T19:07:12.539432",
     "start_time": "2017-02-02T19:07:12.532745"
    },
    "collapsed": false
   },
   "outputs": [
    {
     "data": {
      "text/plain": [
       "(29, 1)"
      ]
     },
     "execution_count": 13,
     "metadata": {},
     "output_type": "execute_result"
    }
   ],
   "source": [
    "get_points([\"A\", \"K\", 9, 9])"
   ]
  },
  {
   "cell_type": "code",
   "execution_count": 14,
   "metadata": {
    "ExecuteTime": {
     "end_time": "2017-02-02T19:07:29.190313",
     "start_time": "2017-02-02T19:07:29.183771"
    },
    "collapsed": false
   },
   "outputs": [
    {
     "data": {
      "text/plain": [
       "(21, 11)"
      ]
     },
     "execution_count": 14,
     "metadata": {},
     "output_type": "execute_result"
    }
   ],
   "source": [
    "get_points([\"A\", \"K\"])"
   ]
  },
  {
   "cell_type": "code",
   "execution_count": 15,
   "metadata": {
    "ExecuteTime": {
     "end_time": "2017-02-02T19:07:29.190313",
     "start_time": "2017-02-02T19:07:29.183771"
    },
    "collapsed": false
   },
   "outputs": [
    {
     "data": {
      "text/plain": [
       "(20, 11)"
      ]
     },
     "execution_count": 15,
     "metadata": {},
     "output_type": "execute_result"
    }
   ],
   "source": [
    "get_points([\"A\", 9])"
   ]
  },
  {
   "cell_type": "code",
   "execution_count": 16,
   "metadata": {
    "ExecuteTime": {
     "end_time": "2017-02-02T19:07:33.827608",
     "start_time": "2017-02-02T19:07:33.821691"
    },
    "collapsed": false
   },
   "outputs": [
    {
     "data": {
      "text/plain": [
       "(17, 11)"
      ]
     },
     "execution_count": 16,
     "metadata": {},
     "output_type": "execute_result"
    }
   ],
   "source": [
    "get_points([\"A\", 6])"
   ]
  },
  {
   "cell_type": "code",
   "execution_count": 17,
   "metadata": {
    "ExecuteTime": {
     "end_time": "2017-02-02T19:08:02.682071",
     "start_time": "2017-02-02T19:08:02.595274"
    },
    "collapsed": false
   },
   "outputs": [],
   "source": [
    "def simulate_game(strategy=\"random\"):\n",
    "    game = play_blackjack()\n",
    "    game.play()\n",
    "    dealer_open, dealer_closed = game.dealer_hand\n",
    "    player_card_one, player_card_two = game.player_hand\n",
    "    dealer_original = get_points(game.dealer_hand)[0]\n",
    "    player_original = get_points(game.player_hand)[0]\n",
    "    \n",
    "    dealer_hit = 0\n",
    "    # Check if the dealer needs to hit\n",
    "    dealer = game.dealer_hand\n",
    "    # Dealer hits below 17\n",
    "    while get_points(dealer)[0] < 17:\n",
    "        game.hit(dealer)\n",
    "        dealer_hit += 1\n",
    "    \n",
    "    # Change dealer_open to numerical\n",
    "    if dealer_open in [\"J\", \"Q\", \"K\"]:\n",
    "        dealer_open = 10\n",
    "    elif dealer_open == \"A\":\n",
    "        dealer_open = get_points(dealer)[1]\n",
    "    \n",
    "    player_hit = 0\n",
    "    player = game.player_hand\n",
    "        \n",
    "    if strategy == \"random\":\n",
    "        # Randomize it for the player to some extent\n",
    "        while get_points(player)[0] < 11:\n",
    "            game.hit(player)\n",
    "            player_hit += 1\n",
    "        while get_points(player)[0] < 20:\n",
    "            if np.random.random() <= 0.5:\n",
    "                game.hit(player)\n",
    "                player_hit += 1\n",
    "            else:\n",
    "                break\n",
    "    elif strategy == \"recommended\":\n",
    "        # From lasvegas-how-to.com\n",
    "        # Stand on a hand of 17 or more \n",
    "        # Never hit on 12, 13, 14, 15 or 16 when the dealer is showing 16 or less\n",
    "        # Always split 8's\n",
    "        # Double down on 11 if dealer is showing 17 or less\n",
    "        if dealer_open < 7:\n",
    "#             print (get_points(player)[0])\n",
    "            while get_points(player)[0] < 12:\n",
    "                game.hit(player)\n",
    "#                 print (player)\n",
    "                player_hit += 1\n",
    "        else:\n",
    "            while get_points(player)[0] < 17:\n",
    "                game.hit(player)\n",
    "                player_hit += 1\n",
    "        \n",
    "    # If dealer is at 17, check if it's a soft 17\n",
    "    # if yes, hit\n",
    "\n",
    "    if get_points(dealer)[0] <= 17 and get_points(dealer)[1] == 11:\n",
    "        game.hit(dealer)\n",
    "        dealer_hit += 1\n",
    "    \n",
    "    dealer_final = get_points(dealer)[0]\n",
    "    player_final = get_points(player)[0]\n",
    "    \n",
    "    dealer_busts = dealer_final > 21\n",
    "    player_busts = player_final > 21\n",
    "    \n",
    "    \n",
    "    player_wins = 1\n",
    "    \n",
    "    if player_busts:\n",
    "        player_wins = 0\n",
    "    elif dealer_busts:\n",
    "        player_wins = 1\n",
    "    elif player_final >= dealer_final:\n",
    "        player_wins = 1\n",
    "    \n",
    "    return [dealer_open, dealer_closed, dealer_original, dealer_hit, dealer_final, int(dealer_busts), dealer,\n",
    "            player_card_one, player_card_two, player_original, player_hit, player_final, int(player_busts), \n",
    "            int(player_wins), player, strategy]"
   ]
  },
  {
   "cell_type": "code",
   "execution_count": 18,
   "metadata": {
    "ExecuteTime": {
     "end_time": "2017-02-02T19:08:05.859293",
     "start_time": "2017-02-02T19:08:05.818102"
    },
    "collapsed": false
   },
   "outputs": [
    {
     "data": {
      "text/plain": [
       "[10, 7, 17, 0, 17, 0, ['J', 7], 3, 2, 5, 2, 18, 0, 1, [3, 2, 3, 'Q'], 'random']"
      ]
     },
     "execution_count": 18,
     "metadata": {},
     "output_type": "execute_result"
    }
   ],
   "source": [
    "simulate_game()"
   ]
  },
  {
   "cell_type": "code",
   "execution_count": 19,
   "metadata": {
    "ExecuteTime": {
     "end_time": "2017-02-02T19:08:26.453340",
     "start_time": "2017-02-02T19:08:20.246093"
    },
    "collapsed": false
   },
   "outputs": [],
   "source": [
    "ran_strat = [simulate_game() for _ in range(50000)]"
   ]
  },
  {
   "cell_type": "code",
   "execution_count": 20,
   "metadata": {
    "ExecuteTime": {
     "end_time": "2017-02-02T19:08:33.182662",
     "start_time": "2017-02-02T19:08:26.455498"
    },
    "collapsed": false
   },
   "outputs": [],
   "source": [
    "rec_strat = [simulate_game(strategy=\"recommended\") for _ in range(50000)]"
   ]
  },
  {
   "cell_type": "code",
   "execution_count": 21,
   "metadata": {
    "ExecuteTime": {
     "end_time": "2017-02-02T19:08:44.853733",
     "start_time": "2017-02-02T19:08:44.847149"
    },
    "collapsed": false
   },
   "outputs": [],
   "source": [
    "data = []\n",
    "data.extend(ran_strat)\n",
    "data.extend(rec_strat)\n",
    "# data[:5]"
   ]
  },
  {
   "cell_type": "code",
   "execution_count": 22,
   "metadata": {
    "ExecuteTime": {
     "end_time": "2017-02-02T19:08:47.161716",
     "start_time": "2017-02-02T19:08:46.901156"
    },
    "collapsed": false
   },
   "outputs": [],
   "source": [
    "df = pd.DataFrame(data, columns=[\"dealer_open\", \"dealer_closed\", \n",
    "                               \"dealer_original\", \"dealer_hit\", \n",
    "                               \"dealer_final\", \"dealer_busts\", \n",
    "                                 \"dealer_hand\",\n",
    "                               \"player_card_one\", \"player_card_two\", \n",
    "                               \"player_original\", \"player_hit\", \n",
    "                               \"player_final\", \"player_busts\", \n",
    "                               \"player_wins\", \"player_hand\", \"strategy\"])"
   ]
  },
  {
   "cell_type": "code",
   "execution_count": 23,
   "metadata": {
    "ExecuteTime": {
     "end_time": "2017-02-02T19:08:52.016733",
     "start_time": "2017-02-02T19:08:51.253103"
    },
    "collapsed": false
   },
   "outputs": [],
   "source": [
    "old_data = pd.read_csv(\"blackjack.csv\")\n",
    "df = pd.concat([old_data, df])"
   ]
  },
  {
   "cell_type": "code",
   "execution_count": 24,
   "metadata": {
    "ExecuteTime": {
     "end_time": "2017-02-02T19:08:59.138940",
     "start_time": "2017-02-02T19:08:55.404884"
    },
    "collapsed": false
   },
   "outputs": [],
   "source": [
    "# Save so we can add to it next time\n",
    "df.to_csv(\"blackjack.csv\", index=False)"
   ]
  },
  {
   "cell_type": "code",
   "execution_count": 25,
   "metadata": {
    "ExecuteTime": {
     "end_time": "2017-02-02T19:08:59.842322",
     "start_time": "2017-02-02T19:08:59.836982"
    },
    "collapsed": false
   },
   "outputs": [
    {
     "data": {
      "text/plain": [
       "(400000, 16)"
      ]
     },
     "execution_count": 25,
     "metadata": {},
     "output_type": "execute_result"
    }
   ],
   "source": [
    "df.shape"
   ]
  },
  {
   "cell_type": "code",
   "execution_count": 26,
   "metadata": {
    "ExecuteTime": {
     "end_time": "2017-02-02T19:09:05.637948",
     "start_time": "2017-02-02T19:09:05.608584"
    },
    "collapsed": false
   },
   "outputs": [
    {
     "data": {
      "text/html": [
       "<div>\n",
       "<table border=\"1\" class=\"dataframe\">\n",
       "  <thead>\n",
       "    <tr style=\"text-align: right;\">\n",
       "      <th></th>\n",
       "      <th>dealer_open</th>\n",
       "      <th>dealer_closed</th>\n",
       "      <th>dealer_original</th>\n",
       "      <th>dealer_hit</th>\n",
       "      <th>dealer_final</th>\n",
       "      <th>dealer_busts</th>\n",
       "      <th>dealer_hand</th>\n",
       "      <th>player_card_one</th>\n",
       "      <th>player_card_two</th>\n",
       "      <th>player_original</th>\n",
       "      <th>player_hit</th>\n",
       "      <th>player_final</th>\n",
       "      <th>player_busts</th>\n",
       "      <th>player_wins</th>\n",
       "      <th>player_hand</th>\n",
       "      <th>strategy</th>\n",
       "    </tr>\n",
       "  </thead>\n",
       "  <tbody>\n",
       "    <tr>\n",
       "      <th>0</th>\n",
       "      <td>6</td>\n",
       "      <td>4</td>\n",
       "      <td>10</td>\n",
       "      <td>2</td>\n",
       "      <td>18</td>\n",
       "      <td>0</td>\n",
       "      <td>[6, 4, 2, 6]</td>\n",
       "      <td>4</td>\n",
       "      <td>8</td>\n",
       "      <td>12</td>\n",
       "      <td>1</td>\n",
       "      <td>22</td>\n",
       "      <td>1</td>\n",
       "      <td>0</td>\n",
       "      <td>[4, 8, 10]</td>\n",
       "      <td>random</td>\n",
       "    </tr>\n",
       "    <tr>\n",
       "      <th>1</th>\n",
       "      <td>10</td>\n",
       "      <td>5</td>\n",
       "      <td>15</td>\n",
       "      <td>1</td>\n",
       "      <td>22</td>\n",
       "      <td>1</td>\n",
       "      <td>[10, 5, 7]</td>\n",
       "      <td>Q</td>\n",
       "      <td>6</td>\n",
       "      <td>16</td>\n",
       "      <td>0</td>\n",
       "      <td>16</td>\n",
       "      <td>0</td>\n",
       "      <td>1</td>\n",
       "      <td>['Q', 6]</td>\n",
       "      <td>random</td>\n",
       "    </tr>\n",
       "    <tr>\n",
       "      <th>2</th>\n",
       "      <td>11</td>\n",
       "      <td>Q</td>\n",
       "      <td>21</td>\n",
       "      <td>0</td>\n",
       "      <td>21</td>\n",
       "      <td>0</td>\n",
       "      <td>['A', 'Q']</td>\n",
       "      <td>A</td>\n",
       "      <td>A</td>\n",
       "      <td>12</td>\n",
       "      <td>0</td>\n",
       "      <td>12</td>\n",
       "      <td>0</td>\n",
       "      <td>1</td>\n",
       "      <td>['A', 'A']</td>\n",
       "      <td>random</td>\n",
       "    </tr>\n",
       "    <tr>\n",
       "      <th>3</th>\n",
       "      <td>11</td>\n",
       "      <td>5</td>\n",
       "      <td>16</td>\n",
       "      <td>2</td>\n",
       "      <td>20</td>\n",
       "      <td>0</td>\n",
       "      <td>['A', 5, 'A', 3]</td>\n",
       "      <td>10</td>\n",
       "      <td>8</td>\n",
       "      <td>18</td>\n",
       "      <td>0</td>\n",
       "      <td>18</td>\n",
       "      <td>0</td>\n",
       "      <td>1</td>\n",
       "      <td>[10, 8]</td>\n",
       "      <td>random</td>\n",
       "    </tr>\n",
       "    <tr>\n",
       "      <th>4</th>\n",
       "      <td>7</td>\n",
       "      <td>6</td>\n",
       "      <td>13</td>\n",
       "      <td>1</td>\n",
       "      <td>21</td>\n",
       "      <td>0</td>\n",
       "      <td>[7, 6, 8]</td>\n",
       "      <td>3</td>\n",
       "      <td>8</td>\n",
       "      <td>11</td>\n",
       "      <td>3</td>\n",
       "      <td>20</td>\n",
       "      <td>0</td>\n",
       "      <td>1</td>\n",
       "      <td>[3, 8, 3, 4, 2]</td>\n",
       "      <td>random</td>\n",
       "    </tr>\n",
       "  </tbody>\n",
       "</table>\n",
       "</div>"
      ],
      "text/plain": [
       "   dealer_open dealer_closed  dealer_original  dealer_hit  dealer_final  \\\n",
       "0            6             4               10           2            18   \n",
       "1           10             5               15           1            22   \n",
       "2           11             Q               21           0            21   \n",
       "3           11             5               16           2            20   \n",
       "4            7             6               13           1            21   \n",
       "\n",
       "   dealer_busts       dealer_hand player_card_one player_card_two  \\\n",
       "0             0      [6, 4, 2, 6]               4               8   \n",
       "1             1        [10, 5, 7]               Q               6   \n",
       "2             0        ['A', 'Q']               A               A   \n",
       "3             0  ['A', 5, 'A', 3]              10               8   \n",
       "4             0         [7, 6, 8]               3               8   \n",
       "\n",
       "   player_original  player_hit  player_final  player_busts  player_wins  \\\n",
       "0               12           1            22             1            0   \n",
       "1               16           0            16             0            1   \n",
       "2               12           0            12             0            1   \n",
       "3               18           0            18             0            1   \n",
       "4               11           3            20             0            1   \n",
       "\n",
       "       player_hand strategy  \n",
       "0       [4, 8, 10]   random  \n",
       "1         ['Q', 6]   random  \n",
       "2       ['A', 'A']   random  \n",
       "3          [10, 8]   random  \n",
       "4  [3, 8, 3, 4, 2]   random  "
      ]
     },
     "execution_count": 26,
     "metadata": {},
     "output_type": "execute_result"
    }
   ],
   "source": [
    "df.head()"
   ]
  },
  {
   "cell_type": "markdown",
   "metadata": {},
   "source": [
    "# Analyze data"
   ]
  },
  {
   "cell_type": "code",
   "execution_count": 27,
   "metadata": {
    "ExecuteTime": {
     "end_time": "2017-02-02T19:09:15.250115",
     "start_time": "2017-02-02T19:09:14.368886"
    },
    "collapsed": false
   },
   "outputs": [],
   "source": [
    "df = pd.read_csv(\"blackjack.csv\")"
   ]
  },
  {
   "cell_type": "code",
   "execution_count": 28,
   "metadata": {
    "ExecuteTime": {
     "end_time": "2017-02-02T19:09:15.710810",
     "start_time": "2017-02-02T19:09:15.684943"
    },
    "collapsed": false
   },
   "outputs": [
    {
     "data": {
      "text/html": [
       "<div>\n",
       "<table border=\"1\" class=\"dataframe\">\n",
       "  <thead>\n",
       "    <tr style=\"text-align: right;\">\n",
       "      <th></th>\n",
       "      <th>dealer_open</th>\n",
       "      <th>dealer_closed</th>\n",
       "      <th>dealer_original</th>\n",
       "      <th>dealer_hit</th>\n",
       "      <th>dealer_final</th>\n",
       "      <th>dealer_busts</th>\n",
       "      <th>dealer_hand</th>\n",
       "      <th>player_card_one</th>\n",
       "      <th>player_card_two</th>\n",
       "      <th>player_original</th>\n",
       "      <th>player_hit</th>\n",
       "      <th>player_final</th>\n",
       "      <th>player_busts</th>\n",
       "      <th>player_wins</th>\n",
       "      <th>player_hand</th>\n",
       "      <th>strategy</th>\n",
       "    </tr>\n",
       "  </thead>\n",
       "  <tbody>\n",
       "    <tr>\n",
       "      <th>0</th>\n",
       "      <td>6</td>\n",
       "      <td>4</td>\n",
       "      <td>10</td>\n",
       "      <td>2</td>\n",
       "      <td>18</td>\n",
       "      <td>0</td>\n",
       "      <td>[6, 4, 2, 6]</td>\n",
       "      <td>4</td>\n",
       "      <td>8</td>\n",
       "      <td>12</td>\n",
       "      <td>1</td>\n",
       "      <td>22</td>\n",
       "      <td>1</td>\n",
       "      <td>0</td>\n",
       "      <td>[4, 8, 10]</td>\n",
       "      <td>random</td>\n",
       "    </tr>\n",
       "    <tr>\n",
       "      <th>1</th>\n",
       "      <td>10</td>\n",
       "      <td>5</td>\n",
       "      <td>15</td>\n",
       "      <td>1</td>\n",
       "      <td>22</td>\n",
       "      <td>1</td>\n",
       "      <td>[10, 5, 7]</td>\n",
       "      <td>Q</td>\n",
       "      <td>6</td>\n",
       "      <td>16</td>\n",
       "      <td>0</td>\n",
       "      <td>16</td>\n",
       "      <td>0</td>\n",
       "      <td>1</td>\n",
       "      <td>['Q', 6]</td>\n",
       "      <td>random</td>\n",
       "    </tr>\n",
       "    <tr>\n",
       "      <th>2</th>\n",
       "      <td>11</td>\n",
       "      <td>Q</td>\n",
       "      <td>21</td>\n",
       "      <td>0</td>\n",
       "      <td>21</td>\n",
       "      <td>0</td>\n",
       "      <td>['A', 'Q']</td>\n",
       "      <td>A</td>\n",
       "      <td>A</td>\n",
       "      <td>12</td>\n",
       "      <td>0</td>\n",
       "      <td>12</td>\n",
       "      <td>0</td>\n",
       "      <td>1</td>\n",
       "      <td>['A', 'A']</td>\n",
       "      <td>random</td>\n",
       "    </tr>\n",
       "    <tr>\n",
       "      <th>3</th>\n",
       "      <td>11</td>\n",
       "      <td>5</td>\n",
       "      <td>16</td>\n",
       "      <td>2</td>\n",
       "      <td>20</td>\n",
       "      <td>0</td>\n",
       "      <td>['A', 5, 'A', 3]</td>\n",
       "      <td>10</td>\n",
       "      <td>8</td>\n",
       "      <td>18</td>\n",
       "      <td>0</td>\n",
       "      <td>18</td>\n",
       "      <td>0</td>\n",
       "      <td>1</td>\n",
       "      <td>[10, 8]</td>\n",
       "      <td>random</td>\n",
       "    </tr>\n",
       "    <tr>\n",
       "      <th>4</th>\n",
       "      <td>7</td>\n",
       "      <td>6</td>\n",
       "      <td>13</td>\n",
       "      <td>1</td>\n",
       "      <td>21</td>\n",
       "      <td>0</td>\n",
       "      <td>[7, 6, 8]</td>\n",
       "      <td>3</td>\n",
       "      <td>8</td>\n",
       "      <td>11</td>\n",
       "      <td>3</td>\n",
       "      <td>20</td>\n",
       "      <td>0</td>\n",
       "      <td>1</td>\n",
       "      <td>[3, 8, 3, 4, 2]</td>\n",
       "      <td>random</td>\n",
       "    </tr>\n",
       "  </tbody>\n",
       "</table>\n",
       "</div>"
      ],
      "text/plain": [
       "   dealer_open dealer_closed  dealer_original  dealer_hit  dealer_final  \\\n",
       "0            6             4               10           2            18   \n",
       "1           10             5               15           1            22   \n",
       "2           11             Q               21           0            21   \n",
       "3           11             5               16           2            20   \n",
       "4            7             6               13           1            21   \n",
       "\n",
       "   dealer_busts       dealer_hand player_card_one player_card_two  \\\n",
       "0             0      [6, 4, 2, 6]               4               8   \n",
       "1             1        [10, 5, 7]               Q               6   \n",
       "2             0        ['A', 'Q']               A               A   \n",
       "3             0  ['A', 5, 'A', 3]              10               8   \n",
       "4             0         [7, 6, 8]               3               8   \n",
       "\n",
       "   player_original  player_hit  player_final  player_busts  player_wins  \\\n",
       "0               12           1            22             1            0   \n",
       "1               16           0            16             0            1   \n",
       "2               12           0            12             0            1   \n",
       "3               18           0            18             0            1   \n",
       "4               11           3            20             0            1   \n",
       "\n",
       "       player_hand strategy  \n",
       "0       [4, 8, 10]   random  \n",
       "1         ['Q', 6]   random  \n",
       "2       ['A', 'A']   random  \n",
       "3          [10, 8]   random  \n",
       "4  [3, 8, 3, 4, 2]   random  "
      ]
     },
     "execution_count": 28,
     "metadata": {},
     "output_type": "execute_result"
    }
   ],
   "source": [
    "df.head()"
   ]
  },
  {
   "cell_type": "markdown",
   "metadata": {},
   "source": [
    "## Comparing strategies"
   ]
  },
  {
   "cell_type": "code",
   "execution_count": 29,
   "metadata": {
    "ExecuteTime": {
     "end_time": "2017-02-02T19:10:18.688207",
     "start_time": "2017-02-02T19:10:18.682915"
    },
    "collapsed": false
   },
   "outputs": [],
   "source": [
    "# Define a function to generate proportion of wins on random and recommended strategy\n",
    "# Return as list [proportion of wins on random, proportion of wins on recommended]\n",
    "def get_wins(num=100):\n",
    "    return [sum([simulate_game(strategy=\"random\")[-3] for _ in range(num)])/num, \n",
    "            sum([simulate_game(strategy=\"recommended\")[-3] for _ in range(num)])/num]"
   ]
  },
  {
   "cell_type": "code",
   "execution_count": 30,
   "metadata": {
    "ExecuteTime": {
     "end_time": "2017-02-02T19:12:54.525861",
     "start_time": "2017-02-02T19:10:52.367794"
    },
    "collapsed": false
   },
   "outputs": [],
   "source": [
    "player_wins_df = pd.DataFrame([get_wins() for _ in range(5000)], columns=[\"random\", \"recommended\"])"
   ]
  },
  {
   "cell_type": "code",
   "execution_count": 31,
   "metadata": {
    "ExecuteTime": {
     "end_time": "2017-02-02T19:12:57.038995",
     "start_time": "2017-02-02T19:12:57.028530"
    },
    "collapsed": false
   },
   "outputs": [],
   "source": [
    "old_player_data = pd.read_csv(\"player_wins.csv\")\n",
    "player_wins_df = pd.concat([old_player_data, player_wins_df])"
   ]
  },
  {
   "cell_type": "code",
   "execution_count": 32,
   "metadata": {
    "ExecuteTime": {
     "end_time": "2017-02-02T19:12:57.769324",
     "start_time": "2017-02-02T19:12:57.732077"
    },
    "collapsed": false
   },
   "outputs": [],
   "source": [
    "# Save so we can add to it next time\n",
    "player_wins_df.to_csv(\"player_wins.csv\", index=False)"
   ]
  },
  {
   "cell_type": "code",
   "execution_count": 33,
   "metadata": {
    "ExecuteTime": {
     "end_time": "2017-02-02T19:12:58.682076",
     "start_time": "2017-02-02T19:12:58.675946"
    },
    "collapsed": false
   },
   "outputs": [
    {
     "data": {
      "text/plain": [
       "(10000, 2)"
      ]
     },
     "execution_count": 33,
     "metadata": {},
     "output_type": "execute_result"
    }
   ],
   "source": [
    "player_wins_df.shape"
   ]
  },
  {
   "cell_type": "code",
   "execution_count": 34,
   "metadata": {
    "ExecuteTime": {
     "end_time": "2017-02-02T19:13:00.228084",
     "start_time": "2017-02-02T19:13:00.165122"
    },
    "collapsed": false
   },
   "outputs": [
    {
     "data": {
      "text/html": [
       "<div>\n",
       "<table border=\"1\" class=\"dataframe\">\n",
       "  <thead>\n",
       "    <tr style=\"text-align: right;\">\n",
       "      <th></th>\n",
       "      <th>random</th>\n",
       "      <th>recommended</th>\n",
       "    </tr>\n",
       "  </thead>\n",
       "  <tbody>\n",
       "    <tr>\n",
       "      <th>count</th>\n",
       "      <td>10000.000000</td>\n",
       "      <td>10000.000000</td>\n",
       "    </tr>\n",
       "    <tr>\n",
       "      <th>mean</th>\n",
       "      <td>0.760738</td>\n",
       "      <td>0.831543</td>\n",
       "    </tr>\n",
       "    <tr>\n",
       "      <th>std</th>\n",
       "      <td>0.042559</td>\n",
       "      <td>0.037868</td>\n",
       "    </tr>\n",
       "    <tr>\n",
       "      <th>min</th>\n",
       "      <td>0.610000</td>\n",
       "      <td>0.680000</td>\n",
       "    </tr>\n",
       "    <tr>\n",
       "      <th>25%</th>\n",
       "      <td>0.730000</td>\n",
       "      <td>0.810000</td>\n",
       "    </tr>\n",
       "    <tr>\n",
       "      <th>50%</th>\n",
       "      <td>0.760000</td>\n",
       "      <td>0.830000</td>\n",
       "    </tr>\n",
       "    <tr>\n",
       "      <th>75%</th>\n",
       "      <td>0.790000</td>\n",
       "      <td>0.860000</td>\n",
       "    </tr>\n",
       "    <tr>\n",
       "      <th>max</th>\n",
       "      <td>0.910000</td>\n",
       "      <td>0.940000</td>\n",
       "    </tr>\n",
       "  </tbody>\n",
       "</table>\n",
       "</div>"
      ],
      "text/plain": [
       "             random   recommended\n",
       "count  10000.000000  10000.000000\n",
       "mean       0.760738      0.831543\n",
       "std        0.042559      0.037868\n",
       "min        0.610000      0.680000\n",
       "25%        0.730000      0.810000\n",
       "50%        0.760000      0.830000\n",
       "75%        0.790000      0.860000\n",
       "max        0.910000      0.940000"
      ]
     },
     "execution_count": 34,
     "metadata": {},
     "output_type": "execute_result"
    }
   ],
   "source": [
    "player_wins_df.describe()"
   ]
  },
  {
   "cell_type": "markdown",
   "metadata": {},
   "source": [
    "Notes: Our mean number of wins moves up by about 5% when moving from random to recommended strategy."
   ]
  },
  {
   "cell_type": "code",
   "execution_count": 38,
   "metadata": {
    "ExecuteTime": {
     "end_time": "2017-02-02T19:14:28.523738",
     "start_time": "2017-02-02T19:14:28.158425"
    },
    "collapsed": false
   },
   "outputs": [
    {
     "name": "stderr",
     "output_type": "stream",
     "text": [
      "/Users/joce/anaconda2/envs/Python3/lib/python3.5/site-packages/statsmodels/nonparametric/kdetools.py:20: VisibleDeprecationWarning: using a non-integer number instead of an integer will result in an error in the future\n",
      "  y = X[:m/2+1] + np.r_[0,X[m/2+1:],0]*1j\n"
     ]
    },
    {
     "data": {
      "image/png": "[encoded data removed]",
      "text/plain": [
       "<matplotlib.figure.Figure at 0x1113a0da0>"
      ]
     },
     "metadata": {},
     "output_type": "display_data"
    }
   ],
   "source": [
    "sns.distplot(player_wins_df[\"random\"], bins=10);\n",
    "plt.xlabel(\"Number of player wins\");\n",
    "plt.ylabel(\"Number of trials with X number of player wins\");\n",
    "plt.title(\"Numer of player wins on random strategy\");\n",
    "plt.show();"
   ]
  },
  {
   "cell_type": "code",
   "execution_count": 39,
   "metadata": {
    "ExecuteTime": {
     "end_time": "2017-02-02T19:14:33.526593",
     "start_time": "2017-02-02T19:14:33.149880"
    },
    "collapsed": false
   },
   "outputs": [
    {
     "name": "stderr",
     "output_type": "stream",
     "text": [
      "/Users/joce/anaconda2/envs/Python3/lib/python3.5/site-packages/statsmodels/nonparametric/kdetools.py:20: VisibleDeprecationWarning: using a non-integer number instead of an integer will result in an error in the future\n",
      "  y = X[:m/2+1] + np.r_[0,X[m/2+1:],0]*1j\n"
     ]
    },
    {
     "data": {
      "image/png": "[encoded data removed]",
      "text/plain": [
       "<matplotlib.figure.Figure at 0x11080a278>"
      ]
     },
     "metadata": {},
     "output_type": "display_data"
    }
   ],
   "source": [
    "sns.distplot(player_wins_df[\"recommended\"], bins=10);\n",
    "plt.xlabel(\"Number of player wins\");\n",
    "plt.ylabel(\"Number of trials with X number of player wins\");\n",
    "plt.title(\"Numer of player wins on recommended strategy\");\n",
    "plt.show();"
   ]
  },
  {
   "cell_type": "code",
   "execution_count": null,
   "metadata": {
    "collapsed": false
   },
   "outputs": [],
   "source": []
  },
  {
   "cell_type": "code",
   "execution_count": null,
   "metadata": {
    "collapsed": false
   },
   "outputs": [],
   "source": []
  },
  {
   "cell_type": "code",
   "execution_count": null,
   "metadata": {
    "collapsed": false
   },
   "outputs": [],
   "source": []
  },
  {
   "cell_type": "code",
   "execution_count": null,
   "metadata": {
    "collapsed": false
   },
   "outputs": [],
   "source": []
  },
  {
   "cell_type": "code",
   "execution_count": null,
   "metadata": {
    "collapsed": false
   },
   "outputs": [],
   "source": []
  },
  {
   "cell_type": "code",
   "execution_count": null,
   "metadata": {
    "collapsed": false
   },
   "outputs": [],
   "source": []
  },
  {
   "cell_type": "code",
   "execution_count": 25,
   "metadata": {
    "ExecuteTime": {
     "end_time": "2017-01-31T14:16:38.854128",
     "start_time": "2017-01-31T14:16:38.498068"
    },
    "collapsed": false
   },
   "outputs": [
    {
     "data": {
      "text/html": [
       "<div>\n",
       "<table border=\"1\" class=\"dataframe\">\n",
       "  <thead>\n",
       "    <tr style=\"text-align: right;\">\n",
       "      <th></th>\n",
       "      <th>player_card_one</th>\n",
       "      <th>player_card_two</th>\n",
       "      <th>player_original</th>\n",
       "      <th>total</th>\n",
       "      <th>player_busts</th>\n",
       "      <th>player_wins</th>\n",
       "    </tr>\n",
       "  </thead>\n",
       "  <tbody>\n",
       "    <tr>\n",
       "      <th>0</th>\n",
       "      <td>10</td>\n",
       "      <td>10</td>\n",
       "      <td>20</td>\n",
       "      <td>3344</td>\n",
       "      <td>767</td>\n",
       "      <td>2038</td>\n",
       "    </tr>\n",
       "    <tr>\n",
       "      <th>1</th>\n",
       "      <td>10</td>\n",
       "      <td>2</td>\n",
       "      <td>12</td>\n",
       "      <td>3593</td>\n",
       "      <td>911</td>\n",
       "      <td>1307</td>\n",
       "    </tr>\n",
       "    <tr>\n",
       "      <th>2</th>\n",
       "      <td>10</td>\n",
       "      <td>3</td>\n",
       "      <td>13</td>\n",
       "      <td>3470</td>\n",
       "      <td>1009</td>\n",
       "      <td>1265</td>\n",
       "    </tr>\n",
       "    <tr>\n",
       "      <th>3</th>\n",
       "      <td>10</td>\n",
       "      <td>4</td>\n",
       "      <td>14</td>\n",
       "      <td>3527</td>\n",
       "      <td>1073</td>\n",
       "      <td>1231</td>\n",
       "    </tr>\n",
       "    <tr>\n",
       "      <th>4</th>\n",
       "      <td>10</td>\n",
       "      <td>5</td>\n",
       "      <td>15</td>\n",
       "      <td>3622</td>\n",
       "      <td>1214</td>\n",
       "      <td>1254</td>\n",
       "    </tr>\n",
       "  </tbody>\n",
       "</table>\n",
       "</div>"
      ],
      "text/plain": [
       "  player_card_one player_card_two  player_original  total  player_busts  \\\n",
       "0              10              10               20   3344           767   \n",
       "1              10               2               12   3593           911   \n",
       "2              10               3               13   3470          1009   \n",
       "3              10               4               14   3527          1073   \n",
       "4              10               5               15   3622          1214   \n",
       "\n",
       "   player_wins  \n",
       "0         2038  \n",
       "1         1307  \n",
       "2         1265  \n",
       "3         1231  \n",
       "4         1254  "
      ]
     },
     "execution_count": 25,
     "metadata": {},
     "output_type": "execute_result"
    }
   ],
   "source": [
    "player_hands = pd.pivot_table(df, index=[\"player_card_one\", \"player_card_two\", \"player_original\"], \n",
    "                              values=[\"player_busts\", \"player_wins\"], aggfunc=[len, sum])\n",
    "player_hands.reset_index(inplace=True)\n",
    "player_hands.columns = player_hands.columns.values\n",
    "del player_hands[('len', 'player_wins')]\n",
    "player_hands.columns = [\"player_card_one\", \"player_card_two\", \"player_original\", \"total\", \"player_busts\", \"player_wins\"]\n",
    "player_hands.head()"
   ]
  },
  {
   "cell_type": "markdown",
   "metadata": {
    "collapsed": false
   },
   "source": [
    "## Dealer"
   ]
  },
  {
   "cell_type": "code",
   "execution_count": 212,
   "metadata": {
    "ExecuteTime": {
     "end_time": "2017-02-02T12:17:31.225756",
     "start_time": "2017-02-02T12:17:31.049998"
    },
    "collapsed": false
   },
   "outputs": [
    {
     "data": {
      "text/html": [
       "<div>\n",
       "<table border=\"1\" class=\"dataframe\">\n",
       "  <thead>\n",
       "    <tr style=\"text-align: right;\">\n",
       "      <th></th>\n",
       "      <th>dealer_open</th>\n",
       "      <th>strategy</th>\n",
       "      <th>total</th>\n",
       "      <th>dealer_busts</th>\n",
       "      <th>player_wins</th>\n",
       "    </tr>\n",
       "  </thead>\n",
       "  <tbody>\n",
       "    <tr>\n",
       "      <th>0</th>\n",
       "      <td>1</td>\n",
       "      <td>random</td>\n",
       "      <td>3292</td>\n",
       "      <td>1985</td>\n",
       "      <td>2470</td>\n",
       "    </tr>\n",
       "    <tr>\n",
       "      <th>1</th>\n",
       "      <td>1</td>\n",
       "      <td>recommended</td>\n",
       "      <td>3282</td>\n",
       "      <td>2013</td>\n",
       "      <td>3282</td>\n",
       "    </tr>\n",
       "    <tr>\n",
       "      <th>2</th>\n",
       "      <td>2</td>\n",
       "      <td>random</td>\n",
       "      <td>15358</td>\n",
       "      <td>5541</td>\n",
       "      <td>11750</td>\n",
       "    </tr>\n",
       "    <tr>\n",
       "      <th>3</th>\n",
       "      <td>2</td>\n",
       "      <td>recommended</td>\n",
       "      <td>15429</td>\n",
       "      <td>5726</td>\n",
       "      <td>15429</td>\n",
       "    </tr>\n",
       "    <tr>\n",
       "      <th>4</th>\n",
       "      <td>3</td>\n",
       "      <td>random</td>\n",
       "      <td>15440</td>\n",
       "      <td>6104</td>\n",
       "      <td>11749</td>\n",
       "    </tr>\n",
       "  </tbody>\n",
       "</table>\n",
       "</div>"
      ],
      "text/plain": [
       "   dealer_open     strategy  total  dealer_busts  player_wins\n",
       "0            1       random   3292          1985         2470\n",
       "1            1  recommended   3282          2013         3282\n",
       "2            2       random  15358          5541        11750\n",
       "3            2  recommended  15429          5726        15429\n",
       "4            3       random  15440          6104        11749"
      ]
     },
     "execution_count": 212,
     "metadata": {},
     "output_type": "execute_result"
    }
   ],
   "source": [
    "dealer_hands = pd.pivot_table(df, index=[\"dealer_open\", \"strategy\"], \n",
    "                              values=[\"dealer_busts\", \"player_wins\"], aggfunc=[len, sum])\n",
    "dealer_hands.reset_index(inplace=True)\n",
    "dealer_hands.columns = dealer_hands.columns.values\n",
    "del dealer_hands[('len', 'player_wins')]\n",
    "dealer_hands.columns = [\"dealer_open\", \"strategy\",\"total\", \"dealer_busts\", \"player_wins\"]\n",
    "dealer_hands.head()"
   ]
  },
  {
   "cell_type": "markdown",
   "metadata": {},
   "source": [
    "We only get to see the dealer's open card, so that's the only one we care about."
   ]
  },
  {
   "cell_type": "code",
   "execution_count": 213,
   "metadata": {
    "ExecuteTime": {
     "end_time": "2017-02-02T12:17:32.118551",
     "start_time": "2017-02-02T12:17:32.091866"
    },
    "collapsed": false
   },
   "outputs": [
    {
     "data": {
      "text/html": [
       "<div>\n",
       "<table border=\"1\" class=\"dataframe\">\n",
       "  <thead>\n",
       "    <tr style=\"text-align: right;\">\n",
       "      <th></th>\n",
       "      <th>dealer_open</th>\n",
       "      <th>strategy</th>\n",
       "      <th>total</th>\n",
       "      <th>dealer_busts</th>\n",
       "      <th>player_wins</th>\n",
       "      <th>percent_dealer_busts</th>\n",
       "      <th>percent_player_wins</th>\n",
       "    </tr>\n",
       "  </thead>\n",
       "  <tbody>\n",
       "    <tr>\n",
       "      <th>0</th>\n",
       "      <td>1</td>\n",
       "      <td>random</td>\n",
       "      <td>3292</td>\n",
       "      <td>1985</td>\n",
       "      <td>2470</td>\n",
       "      <td>0.602977</td>\n",
       "      <td>0.750304</td>\n",
       "    </tr>\n",
       "    <tr>\n",
       "      <th>1</th>\n",
       "      <td>1</td>\n",
       "      <td>recommended</td>\n",
       "      <td>3282</td>\n",
       "      <td>2013</td>\n",
       "      <td>3282</td>\n",
       "      <td>0.613346</td>\n",
       "      <td>1.000000</td>\n",
       "    </tr>\n",
       "    <tr>\n",
       "      <th>2</th>\n",
       "      <td>2</td>\n",
       "      <td>random</td>\n",
       "      <td>15358</td>\n",
       "      <td>5541</td>\n",
       "      <td>11750</td>\n",
       "      <td>0.360789</td>\n",
       "      <td>0.765074</td>\n",
       "    </tr>\n",
       "    <tr>\n",
       "      <th>3</th>\n",
       "      <td>2</td>\n",
       "      <td>recommended</td>\n",
       "      <td>15429</td>\n",
       "      <td>5726</td>\n",
       "      <td>15429</td>\n",
       "      <td>0.371119</td>\n",
       "      <td>1.000000</td>\n",
       "    </tr>\n",
       "    <tr>\n",
       "      <th>4</th>\n",
       "      <td>3</td>\n",
       "      <td>random</td>\n",
       "      <td>15440</td>\n",
       "      <td>6104</td>\n",
       "      <td>11749</td>\n",
       "      <td>0.395337</td>\n",
       "      <td>0.760946</td>\n",
       "    </tr>\n",
       "    <tr>\n",
       "      <th>5</th>\n",
       "      <td>3</td>\n",
       "      <td>recommended</td>\n",
       "      <td>15325</td>\n",
       "      <td>5902</td>\n",
       "      <td>15325</td>\n",
       "      <td>0.385122</td>\n",
       "      <td>1.000000</td>\n",
       "    </tr>\n",
       "    <tr>\n",
       "      <th>6</th>\n",
       "      <td>4</td>\n",
       "      <td>random</td>\n",
       "      <td>15041</td>\n",
       "      <td>6136</td>\n",
       "      <td>11445</td>\n",
       "      <td>0.407952</td>\n",
       "      <td>0.760920</td>\n",
       "    </tr>\n",
       "    <tr>\n",
       "      <th>7</th>\n",
       "      <td>4</td>\n",
       "      <td>recommended</td>\n",
       "      <td>15390</td>\n",
       "      <td>6297</td>\n",
       "      <td>15390</td>\n",
       "      <td>0.409162</td>\n",
       "      <td>1.000000</td>\n",
       "    </tr>\n",
       "    <tr>\n",
       "      <th>8</th>\n",
       "      <td>5</td>\n",
       "      <td>random</td>\n",
       "      <td>15357</td>\n",
       "      <td>6676</td>\n",
       "      <td>11844</td>\n",
       "      <td>0.434720</td>\n",
       "      <td>0.771244</td>\n",
       "    </tr>\n",
       "    <tr>\n",
       "      <th>9</th>\n",
       "      <td>5</td>\n",
       "      <td>recommended</td>\n",
       "      <td>15360</td>\n",
       "      <td>6571</td>\n",
       "      <td>15360</td>\n",
       "      <td>0.427799</td>\n",
       "      <td>1.000000</td>\n",
       "    </tr>\n",
       "    <tr>\n",
       "      <th>10</th>\n",
       "      <td>6</td>\n",
       "      <td>random</td>\n",
       "      <td>15567</td>\n",
       "      <td>7010</td>\n",
       "      <td>11799</td>\n",
       "      <td>0.450312</td>\n",
       "      <td>0.757950</td>\n",
       "    </tr>\n",
       "    <tr>\n",
       "      <th>11</th>\n",
       "      <td>6</td>\n",
       "      <td>recommended</td>\n",
       "      <td>15432</td>\n",
       "      <td>6815</td>\n",
       "      <td>15432</td>\n",
       "      <td>0.441615</td>\n",
       "      <td>1.000000</td>\n",
       "    </tr>\n",
       "    <tr>\n",
       "      <th>12</th>\n",
       "      <td>7</td>\n",
       "      <td>random</td>\n",
       "      <td>15526</td>\n",
       "      <td>4224</td>\n",
       "      <td>11825</td>\n",
       "      <td>0.272060</td>\n",
       "      <td>0.761626</td>\n",
       "    </tr>\n",
       "    <tr>\n",
       "      <th>13</th>\n",
       "      <td>7</td>\n",
       "      <td>recommended</td>\n",
       "      <td>15361</td>\n",
       "      <td>4176</td>\n",
       "      <td>11017</td>\n",
       "      <td>0.271857</td>\n",
       "      <td>0.717206</td>\n",
       "    </tr>\n",
       "    <tr>\n",
       "      <th>14</th>\n",
       "      <td>8</td>\n",
       "      <td>random</td>\n",
       "      <td>15149</td>\n",
       "      <td>3759</td>\n",
       "      <td>11628</td>\n",
       "      <td>0.248135</td>\n",
       "      <td>0.767575</td>\n",
       "    </tr>\n",
       "    <tr>\n",
       "      <th>15</th>\n",
       "      <td>8</td>\n",
       "      <td>recommended</td>\n",
       "      <td>15079</td>\n",
       "      <td>3777</td>\n",
       "      <td>10767</td>\n",
       "      <td>0.250481</td>\n",
       "      <td>0.714039</td>\n",
       "    </tr>\n",
       "    <tr>\n",
       "      <th>16</th>\n",
       "      <td>9</td>\n",
       "      <td>random</td>\n",
       "      <td>15518</td>\n",
       "      <td>3702</td>\n",
       "      <td>11810</td>\n",
       "      <td>0.238562</td>\n",
       "      <td>0.761052</td>\n",
       "    </tr>\n",
       "    <tr>\n",
       "      <th>17</th>\n",
       "      <td>9</td>\n",
       "      <td>recommended</td>\n",
       "      <td>15647</td>\n",
       "      <td>3642</td>\n",
       "      <td>11129</td>\n",
       "      <td>0.232760</td>\n",
       "      <td>0.711255</td>\n",
       "    </tr>\n",
       "    <tr>\n",
       "      <th>18</th>\n",
       "      <td>10</td>\n",
       "      <td>random</td>\n",
       "      <td>61451</td>\n",
       "      <td>13206</td>\n",
       "      <td>46739</td>\n",
       "      <td>0.214903</td>\n",
       "      <td>0.760590</td>\n",
       "    </tr>\n",
       "    <tr>\n",
       "      <th>19</th>\n",
       "      <td>10</td>\n",
       "      <td>recommended</td>\n",
       "      <td>61529</td>\n",
       "      <td>13666</td>\n",
       "      <td>44043</td>\n",
       "      <td>0.222107</td>\n",
       "      <td>0.715809</td>\n",
       "    </tr>\n",
       "    <tr>\n",
       "      <th>20</th>\n",
       "      <td>11</td>\n",
       "      <td>random</td>\n",
       "      <td>12301</td>\n",
       "      <td>0</td>\n",
       "      <td>9342</td>\n",
       "      <td>0.000000</td>\n",
       "      <td>0.759450</td>\n",
       "    </tr>\n",
       "    <tr>\n",
       "      <th>21</th>\n",
       "      <td>11</td>\n",
       "      <td>recommended</td>\n",
       "      <td>12166</td>\n",
       "      <td>0</td>\n",
       "      <td>8770</td>\n",
       "      <td>0.000000</td>\n",
       "      <td>0.720861</td>\n",
       "    </tr>\n",
       "  </tbody>\n",
       "</table>\n",
       "</div>"
      ],
      "text/plain": [
       "    dealer_open     strategy  total  dealer_busts  player_wins  \\\n",
       "0             1       random   3292          1985         2470   \n",
       "1             1  recommended   3282          2013         3282   \n",
       "2             2       random  15358          5541        11750   \n",
       "3             2  recommended  15429          5726        15429   \n",
       "4             3       random  15440          6104        11749   \n",
       "5             3  recommended  15325          5902        15325   \n",
       "6             4       random  15041          6136        11445   \n",
       "7             4  recommended  15390          6297        15390   \n",
       "8             5       random  15357          6676        11844   \n",
       "9             5  recommended  15360          6571        15360   \n",
       "10            6       random  15567          7010        11799   \n",
       "11            6  recommended  15432          6815        15432   \n",
       "12            7       random  15526          4224        11825   \n",
       "13            7  recommended  15361          4176        11017   \n",
       "14            8       random  15149          3759        11628   \n",
       "15            8  recommended  15079          3777        10767   \n",
       "16            9       random  15518          3702        11810   \n",
       "17            9  recommended  15647          3642        11129   \n",
       "18           10       random  61451         13206        46739   \n",
       "19           10  recommended  61529         13666        44043   \n",
       "20           11       random  12301             0         9342   \n",
       "21           11  recommended  12166             0         8770   \n",
       "\n",
       "    percent_dealer_busts  percent_player_wins  \n",
       "0               0.602977             0.750304  \n",
       "1               0.613346             1.000000  \n",
       "2               0.360789             0.765074  \n",
       "3               0.371119             1.000000  \n",
       "4               0.395337             0.760946  \n",
       "5               0.385122             1.000000  \n",
       "6               0.407952             0.760920  \n",
       "7               0.409162             1.000000  \n",
       "8               0.434720             0.771244  \n",
       "9               0.427799             1.000000  \n",
       "10              0.450312             0.757950  \n",
       "11              0.441615             1.000000  \n",
       "12              0.272060             0.761626  \n",
       "13              0.271857             0.717206  \n",
       "14              0.248135             0.767575  \n",
       "15              0.250481             0.714039  \n",
       "16              0.238562             0.761052  \n",
       "17              0.232760             0.711255  \n",
       "18              0.214903             0.760590  \n",
       "19              0.222107             0.715809  \n",
       "20              0.000000             0.759450  \n",
       "21              0.000000             0.720861  "
      ]
     },
     "execution_count": 213,
     "metadata": {},
     "output_type": "execute_result"
    }
   ],
   "source": [
    "dealer_open_hand = dealer_hands.copy()\n",
    "dealer_open_hand[\"percent_dealer_busts\"] = dealer_open_hand[\"dealer_busts\"] / dealer_open_hand[\"total\"]\n",
    "dealer_open_hand[\"percent_player_wins\"] = dealer_open_hand[\"player_wins\"] / dealer_open_hand[\"total\"]\n",
    "dealer_open_hand"
   ]
  },
  {
   "cell_type": "code",
   "execution_count": 214,
   "metadata": {
    "ExecuteTime": {
     "end_time": "2017-02-02T12:17:33.280154",
     "start_time": "2017-02-02T12:17:32.519298"
    },
    "collapsed": false
   },
   "outputs": [
    {
     "data": {
      "image/png": "[encoded data removed]",
      "text/plain": [
       "<matplotlib.figure.Figure at 0x1112702b0>"
      ]
     },
     "metadata": {},
     "output_type": "display_data"
    }
   ],
   "source": [
    "sns.barplot(x=\"dealer_open\", y=\"percent_dealer_busts\", data=dealer_open_hand);\n",
    "plt.title(\"Proportion of time dealer busts given dealer's open card\");\n",
    "plt.show();"
   ]
  },
  {
   "cell_type": "code",
   "execution_count": 215,
   "metadata": {
    "ExecuteTime": {
     "end_time": "2017-02-02T12:17:33.830704",
     "start_time": "2017-02-02T12:17:33.283630"
    },
    "collapsed": false
   },
   "outputs": [
    {
     "data": {
      "image/png": "[encoded data removed]",
      "text/plain": [
       "<matplotlib.figure.Figure at 0x110dfdf28>"
      ]
     },
     "metadata": {},
     "output_type": "display_data"
    }
   ],
   "source": [
    "sns.barplot(x=\"dealer_open\", y=\"percent_player_wins\", hue=\"strategy\", data=dealer_open_hand);\n",
    "plt.title(\"Proportion of time player wins given dealer's open card\");\n",
    "plt.show();"
   ]
  },
  {
   "cell_type": "code",
   "execution_count": 216,
   "metadata": {
    "ExecuteTime": {
     "end_time": "2017-02-02T12:17:33.863790",
     "start_time": "2017-02-02T12:17:33.833779"
    },
    "collapsed": false
   },
   "outputs": [
    {
     "data": {
      "text/html": [
       "<div>\n",
       "<table border=\"1\" class=\"dataframe\">\n",
       "  <thead>\n",
       "    <tr style=\"text-align: right;\">\n",
       "      <th></th>\n",
       "      <th>dealer_open</th>\n",
       "      <th>dealer_closed</th>\n",
       "      <th>dealer_original</th>\n",
       "      <th>dealer_hit</th>\n",
       "      <th>dealer_final</th>\n",
       "      <th>dealer_busts</th>\n",
       "      <th>player_card_one</th>\n",
       "      <th>player_card_two</th>\n",
       "      <th>player_original</th>\n",
       "      <th>player_hit</th>\n",
       "      <th>player_final</th>\n",
       "      <th>player_busts</th>\n",
       "      <th>player_wins</th>\n",
       "      <th>strategy</th>\n",
       "    </tr>\n",
       "  </thead>\n",
       "  <tbody>\n",
       "    <tr>\n",
       "      <th>0</th>\n",
       "      <td>4</td>\n",
       "      <td>J</td>\n",
       "      <td>14</td>\n",
       "      <td>1</td>\n",
       "      <td>23</td>\n",
       "      <td>1</td>\n",
       "      <td>7</td>\n",
       "      <td>J</td>\n",
       "      <td>17</td>\n",
       "      <td>1</td>\n",
       "      <td>23</td>\n",
       "      <td>1</td>\n",
       "      <td>0</td>\n",
       "      <td>random</td>\n",
       "    </tr>\n",
       "    <tr>\n",
       "      <th>1</th>\n",
       "      <td>3</td>\n",
       "      <td>4</td>\n",
       "      <td>7</td>\n",
       "      <td>2</td>\n",
       "      <td>19</td>\n",
       "      <td>0</td>\n",
       "      <td>A</td>\n",
       "      <td>K</td>\n",
       "      <td>21</td>\n",
       "      <td>0</td>\n",
       "      <td>21</td>\n",
       "      <td>0</td>\n",
       "      <td>1</td>\n",
       "      <td>random</td>\n",
       "    </tr>\n",
       "    <tr>\n",
       "      <th>2</th>\n",
       "      <td>8</td>\n",
       "      <td>5</td>\n",
       "      <td>13</td>\n",
       "      <td>1</td>\n",
       "      <td>22</td>\n",
       "      <td>1</td>\n",
       "      <td>7</td>\n",
       "      <td>2</td>\n",
       "      <td>9</td>\n",
       "      <td>1</td>\n",
       "      <td>12</td>\n",
       "      <td>0</td>\n",
       "      <td>1</td>\n",
       "      <td>random</td>\n",
       "    </tr>\n",
       "    <tr>\n",
       "      <th>3</th>\n",
       "      <td>3</td>\n",
       "      <td>K</td>\n",
       "      <td>13</td>\n",
       "      <td>1</td>\n",
       "      <td>19</td>\n",
       "      <td>0</td>\n",
       "      <td>5</td>\n",
       "      <td>8</td>\n",
       "      <td>13</td>\n",
       "      <td>0</td>\n",
       "      <td>13</td>\n",
       "      <td>0</td>\n",
       "      <td>1</td>\n",
       "      <td>random</td>\n",
       "    </tr>\n",
       "    <tr>\n",
       "      <th>4</th>\n",
       "      <td>5</td>\n",
       "      <td>5</td>\n",
       "      <td>10</td>\n",
       "      <td>2</td>\n",
       "      <td>19</td>\n",
       "      <td>0</td>\n",
       "      <td>K</td>\n",
       "      <td>3</td>\n",
       "      <td>13</td>\n",
       "      <td>0</td>\n",
       "      <td>13</td>\n",
       "      <td>0</td>\n",
       "      <td>1</td>\n",
       "      <td>random</td>\n",
       "    </tr>\n",
       "  </tbody>\n",
       "</table>\n",
       "</div>"
      ],
      "text/plain": [
       "   dealer_open dealer_closed  dealer_original  dealer_hit  dealer_final  \\\n",
       "0            4             J               14           1            23   \n",
       "1            3             4                7           2            19   \n",
       "2            8             5               13           1            22   \n",
       "3            3             K               13           1            19   \n",
       "4            5             5               10           2            19   \n",
       "\n",
       "   dealer_busts player_card_one player_card_two  player_original  player_hit  \\\n",
       "0             1               7               J               17           1   \n",
       "1             0               A               K               21           0   \n",
       "2             1               7               2                9           1   \n",
       "3             0               5               8               13           0   \n",
       "4             0               K               3               13           0   \n",
       "\n",
       "   player_final  player_busts  player_wins strategy  \n",
       "0            23             1            0   random  \n",
       "1            21             0            1   random  \n",
       "2            12             0            1   random  \n",
       "3            13             0            1   random  \n",
       "4            13             0            1   random  "
      ]
     },
     "execution_count": 216,
     "metadata": {},
     "output_type": "execute_result"
    }
   ],
   "source": [
    "df.head()"
   ]
  },
  {
   "cell_type": "code",
   "execution_count": 217,
   "metadata": {
    "ExecuteTime": {
     "end_time": "2017-02-02T12:17:34.970700",
     "start_time": "2017-02-02T12:17:34.704204"
    },
    "collapsed": false
   },
   "outputs": [
    {
     "data": {
      "text/html": [
       "<div>\n",
       "<table border=\"1\" class=\"dataframe\">\n",
       "  <thead>\n",
       "    <tr style=\"text-align: right;\">\n",
       "      <th></th>\n",
       "      <th>dealer_open</th>\n",
       "      <th>strategy</th>\n",
       "      <th>total</th>\n",
       "      <th>median_dealer_final</th>\n",
       "      <th>sum_player_wins</th>\n",
       "      <th>percent_player_wins</th>\n",
       "    </tr>\n",
       "  </thead>\n",
       "  <tbody>\n",
       "    <tr>\n",
       "      <th>0</th>\n",
       "      <td>1</td>\n",
       "      <td>random</td>\n",
       "      <td>3292</td>\n",
       "      <td>22</td>\n",
       "      <td>2470</td>\n",
       "      <td>0.750304</td>\n",
       "    </tr>\n",
       "    <tr>\n",
       "      <th>1</th>\n",
       "      <td>1</td>\n",
       "      <td>recommended</td>\n",
       "      <td>3282</td>\n",
       "      <td>22</td>\n",
       "      <td>3282</td>\n",
       "      <td>1.000000</td>\n",
       "    </tr>\n",
       "    <tr>\n",
       "      <th>2</th>\n",
       "      <td>2</td>\n",
       "      <td>random</td>\n",
       "      <td>15358</td>\n",
       "      <td>20</td>\n",
       "      <td>11750</td>\n",
       "      <td>0.765074</td>\n",
       "    </tr>\n",
       "    <tr>\n",
       "      <th>3</th>\n",
       "      <td>2</td>\n",
       "      <td>recommended</td>\n",
       "      <td>15429</td>\n",
       "      <td>20</td>\n",
       "      <td>15429</td>\n",
       "      <td>1.000000</td>\n",
       "    </tr>\n",
       "    <tr>\n",
       "      <th>4</th>\n",
       "      <td>3</td>\n",
       "      <td>random</td>\n",
       "      <td>15440</td>\n",
       "      <td>21</td>\n",
       "      <td>11749</td>\n",
       "      <td>0.760946</td>\n",
       "    </tr>\n",
       "  </tbody>\n",
       "</table>\n",
       "</div>"
      ],
      "text/plain": [
       "   dealer_open     strategy  total  median_dealer_final  sum_player_wins  \\\n",
       "0            1       random   3292                   22             2470   \n",
       "1            1  recommended   3282                   22             3282   \n",
       "2            2       random  15358                   20            11750   \n",
       "3            2  recommended  15429                   20            15429   \n",
       "4            3       random  15440                   21            11749   \n",
       "\n",
       "   percent_player_wins  \n",
       "0             0.750304  \n",
       "1             1.000000  \n",
       "2             0.765074  \n",
       "3             1.000000  \n",
       "4             0.760946  "
      ]
     },
     "execution_count": 217,
     "metadata": {},
     "output_type": "execute_result"
    }
   ],
   "source": [
    "dealer_fin = pd.pivot_table(df, index=[\"dealer_open\", \"strategy\"], values=[\"dealer_final\", \"player_wins\"], aggfunc=[len, np.median, sum])\n",
    "dealer_fin.reset_index(inplace=True)\n",
    "dealer_fin.columns = dealer_fin.columns.values\n",
    "del dealer_fin[(\"median\", \"player_wins\")]\n",
    "del dealer_fin[(\"sum\", \"dealer_final\")]\n",
    "del dealer_fin[(\"len\", \"dealer_final\")]\n",
    "dealer_fin.columns = [\"dealer_open\", \"strategy\", \"total\", \"median_dealer_final\", \"sum_player_wins\"]\n",
    "dealer_fin[\"percent_player_wins\"] = dealer_fin[\"sum_player_wins\"] / dealer_fin[\"total\"]\n",
    "dealer_fin.head()"
   ]
  },
  {
   "cell_type": "code",
   "execution_count": 218,
   "metadata": {
    "ExecuteTime": {
     "end_time": "2017-02-02T12:17:36.525434",
     "start_time": "2017-02-02T12:17:35.763006"
    },
    "collapsed": false
   },
   "outputs": [
    {
     "data": {
      "image/png": "[encoded data removed]",
      "text/plain": [
       "<matplotlib.figure.Figure at 0x1134bfef0>"
      ]
     },
     "metadata": {},
     "output_type": "display_data"
    }
   ],
   "source": [
    "sns.barplot(x=\"dealer_open\", y=\"median_dealer_final\", data=dealer_fin);\n",
    "plt.title(\"Median dealer final points given dealer's open card\");\n",
    "plt.show();"
   ]
  },
  {
   "cell_type": "code",
   "execution_count": 224,
   "metadata": {
    "ExecuteTime": {
     "end_time": "2017-02-02T12:21:01.526826",
     "start_time": "2017-02-02T12:21:01.362613"
    },
    "collapsed": false
   },
   "outputs": [
    {
     "data": {
      "text/html": [
       "<div>\n",
       "<table border=\"1\" class=\"dataframe\">\n",
       "  <thead>\n",
       "    <tr style=\"text-align: right;\">\n",
       "      <th></th>\n",
       "      <th>dealer_final</th>\n",
       "      <th>strategy</th>\n",
       "      <th>total</th>\n",
       "      <th>player_wins_draws</th>\n",
       "      <th>percent_player_wins_draws</th>\n",
       "    </tr>\n",
       "  </thead>\n",
       "  <tbody>\n",
       "    <tr>\n",
       "      <th>0</th>\n",
       "      <td>12</td>\n",
       "      <td>random</td>\n",
       "      <td>282</td>\n",
       "      <td>218</td>\n",
       "      <td>0.773050</td>\n",
       "    </tr>\n",
       "    <tr>\n",
       "      <th>1</th>\n",
       "      <td>12</td>\n",
       "      <td>recommended</td>\n",
       "      <td>308</td>\n",
       "      <td>264</td>\n",
       "      <td>0.857143</td>\n",
       "    </tr>\n",
       "    <tr>\n",
       "      <th>2</th>\n",
       "      <td>13</td>\n",
       "      <td>random</td>\n",
       "      <td>284</td>\n",
       "      <td>215</td>\n",
       "      <td>0.757042</td>\n",
       "    </tr>\n",
       "    <tr>\n",
       "      <th>3</th>\n",
       "      <td>13</td>\n",
       "      <td>recommended</td>\n",
       "      <td>309</td>\n",
       "      <td>269</td>\n",
       "      <td>0.870550</td>\n",
       "    </tr>\n",
       "    <tr>\n",
       "      <th>4</th>\n",
       "      <td>14</td>\n",
       "      <td>random</td>\n",
       "      <td>297</td>\n",
       "      <td>220</td>\n",
       "      <td>0.740741</td>\n",
       "    </tr>\n",
       "    <tr>\n",
       "      <th>5</th>\n",
       "      <td>14</td>\n",
       "      <td>recommended</td>\n",
       "      <td>308</td>\n",
       "      <td>271</td>\n",
       "      <td>0.879870</td>\n",
       "    </tr>\n",
       "    <tr>\n",
       "      <th>6</th>\n",
       "      <td>15</td>\n",
       "      <td>random</td>\n",
       "      <td>274</td>\n",
       "      <td>196</td>\n",
       "      <td>0.715328</td>\n",
       "    </tr>\n",
       "    <tr>\n",
       "      <th>7</th>\n",
       "      <td>15</td>\n",
       "      <td>recommended</td>\n",
       "      <td>273</td>\n",
       "      <td>229</td>\n",
       "      <td>0.838828</td>\n",
       "    </tr>\n",
       "    <tr>\n",
       "      <th>8</th>\n",
       "      <td>16</td>\n",
       "      <td>random</td>\n",
       "      <td>273</td>\n",
       "      <td>216</td>\n",
       "      <td>0.791209</td>\n",
       "    </tr>\n",
       "    <tr>\n",
       "      <th>9</th>\n",
       "      <td>16</td>\n",
       "      <td>recommended</td>\n",
       "      <td>292</td>\n",
       "      <td>253</td>\n",
       "      <td>0.866438</td>\n",
       "    </tr>\n",
       "    <tr>\n",
       "      <th>10</th>\n",
       "      <td>17</td>\n",
       "      <td>random</td>\n",
       "      <td>23688</td>\n",
       "      <td>18026</td>\n",
       "      <td>0.760976</td>\n",
       "    </tr>\n",
       "    <tr>\n",
       "      <th>11</th>\n",
       "      <td>17</td>\n",
       "      <td>recommended</td>\n",
       "      <td>23315</td>\n",
       "      <td>19003</td>\n",
       "      <td>0.815055</td>\n",
       "    </tr>\n",
       "    <tr>\n",
       "      <th>12</th>\n",
       "      <td>18</td>\n",
       "      <td>random</td>\n",
       "      <td>28242</td>\n",
       "      <td>21512</td>\n",
       "      <td>0.761702</td>\n",
       "    </tr>\n",
       "    <tr>\n",
       "      <th>13</th>\n",
       "      <td>18</td>\n",
       "      <td>recommended</td>\n",
       "      <td>28382</td>\n",
       "      <td>23210</td>\n",
       "      <td>0.817772</td>\n",
       "    </tr>\n",
       "    <tr>\n",
       "      <th>14</th>\n",
       "      <td>19</td>\n",
       "      <td>random</td>\n",
       "      <td>27337</td>\n",
       "      <td>20727</td>\n",
       "      <td>0.758203</td>\n",
       "    </tr>\n",
       "    <tr>\n",
       "      <th>15</th>\n",
       "      <td>19</td>\n",
       "      <td>recommended</td>\n",
       "      <td>27547</td>\n",
       "      <td>22513</td>\n",
       "      <td>0.817258</td>\n",
       "    </tr>\n",
       "    <tr>\n",
       "      <th>16</th>\n",
       "      <td>20</td>\n",
       "      <td>random</td>\n",
       "      <td>36473</td>\n",
       "      <td>27761</td>\n",
       "      <td>0.761138</td>\n",
       "    </tr>\n",
       "    <tr>\n",
       "      <th>17</th>\n",
       "      <td>20</td>\n",
       "      <td>recommended</td>\n",
       "      <td>36152</td>\n",
       "      <td>28384</td>\n",
       "      <td>0.785129</td>\n",
       "    </tr>\n",
       "    <tr>\n",
       "      <th>18</th>\n",
       "      <td>21</td>\n",
       "      <td>random</td>\n",
       "      <td>24507</td>\n",
       "      <td>18686</td>\n",
       "      <td>0.762476</td>\n",
       "    </tr>\n",
       "    <tr>\n",
       "      <th>19</th>\n",
       "      <td>21</td>\n",
       "      <td>recommended</td>\n",
       "      <td>24529</td>\n",
       "      <td>20252</td>\n",
       "      <td>0.825635</td>\n",
       "    </tr>\n",
       "    <tr>\n",
       "      <th>20</th>\n",
       "      <td>22</td>\n",
       "      <td>random</td>\n",
       "      <td>14721</td>\n",
       "      <td>11304</td>\n",
       "      <td>0.767883</td>\n",
       "    </tr>\n",
       "    <tr>\n",
       "      <th>21</th>\n",
       "      <td>22</td>\n",
       "      <td>recommended</td>\n",
       "      <td>14629</td>\n",
       "      <td>12901</td>\n",
       "      <td>0.881878</td>\n",
       "    </tr>\n",
       "    <tr>\n",
       "      <th>22</th>\n",
       "      <td>23</td>\n",
       "      <td>random</td>\n",
       "      <td>13344</td>\n",
       "      <td>10161</td>\n",
       "      <td>0.761466</td>\n",
       "    </tr>\n",
       "    <tr>\n",
       "      <th>23</th>\n",
       "      <td>23</td>\n",
       "      <td>recommended</td>\n",
       "      <td>13193</td>\n",
       "      <td>11592</td>\n",
       "      <td>0.878648</td>\n",
       "    </tr>\n",
       "    <tr>\n",
       "      <th>24</th>\n",
       "      <td>24</td>\n",
       "      <td>random</td>\n",
       "      <td>11437</td>\n",
       "      <td>8685</td>\n",
       "      <td>0.759377</td>\n",
       "    </tr>\n",
       "    <tr>\n",
       "      <th>25</th>\n",
       "      <td>24</td>\n",
       "      <td>recommended</td>\n",
       "      <td>11689</td>\n",
       "      <td>10184</td>\n",
       "      <td>0.871246</td>\n",
       "    </tr>\n",
       "    <tr>\n",
       "      <th>26</th>\n",
       "      <td>25</td>\n",
       "      <td>random</td>\n",
       "      <td>9793</td>\n",
       "      <td>7551</td>\n",
       "      <td>0.771061</td>\n",
       "    </tr>\n",
       "    <tr>\n",
       "      <th>27</th>\n",
       "      <td>25</td>\n",
       "      <td>recommended</td>\n",
       "      <td>10069</td>\n",
       "      <td>8785</td>\n",
       "      <td>0.872480</td>\n",
       "    </tr>\n",
       "    <tr>\n",
       "      <th>28</th>\n",
       "      <td>26</td>\n",
       "      <td>random</td>\n",
       "      <td>8165</td>\n",
       "      <td>6264</td>\n",
       "      <td>0.767177</td>\n",
       "    </tr>\n",
       "    <tr>\n",
       "      <th>29</th>\n",
       "      <td>26</td>\n",
       "      <td>recommended</td>\n",
       "      <td>8088</td>\n",
       "      <td>7010</td>\n",
       "      <td>0.866716</td>\n",
       "    </tr>\n",
       "    <tr>\n",
       "      <th>30</th>\n",
       "      <td>27</td>\n",
       "      <td>random</td>\n",
       "      <td>883</td>\n",
       "      <td>659</td>\n",
       "      <td>0.746319</td>\n",
       "    </tr>\n",
       "    <tr>\n",
       "      <th>31</th>\n",
       "      <td>27</td>\n",
       "      <td>recommended</td>\n",
       "      <td>917</td>\n",
       "      <td>824</td>\n",
       "      <td>0.898582</td>\n",
       "    </tr>\n",
       "  </tbody>\n",
       "</table>\n",
       "</div>"
      ],
      "text/plain": [
       "    dealer_final     strategy  total  player_wins_draws  \\\n",
       "0             12       random    282                218   \n",
       "1             12  recommended    308                264   \n",
       "2             13       random    284                215   \n",
       "3             13  recommended    309                269   \n",
       "4             14       random    297                220   \n",
       "5             14  recommended    308                271   \n",
       "6             15       random    274                196   \n",
       "7             15  recommended    273                229   \n",
       "8             16       random    273                216   \n",
       "9             16  recommended    292                253   \n",
       "10            17       random  23688              18026   \n",
       "11            17  recommended  23315              19003   \n",
       "12            18       random  28242              21512   \n",
       "13            18  recommended  28382              23210   \n",
       "14            19       random  27337              20727   \n",
       "15            19  recommended  27547              22513   \n",
       "16            20       random  36473              27761   \n",
       "17            20  recommended  36152              28384   \n",
       "18            21       random  24507              18686   \n",
       "19            21  recommended  24529              20252   \n",
       "20            22       random  14721              11304   \n",
       "21            22  recommended  14629              12901   \n",
       "22            23       random  13344              10161   \n",
       "23            23  recommended  13193              11592   \n",
       "24            24       random  11437               8685   \n",
       "25            24  recommended  11689              10184   \n",
       "26            25       random   9793               7551   \n",
       "27            25  recommended  10069               8785   \n",
       "28            26       random   8165               6264   \n",
       "29            26  recommended   8088               7010   \n",
       "30            27       random    883                659   \n",
       "31            27  recommended    917                824   \n",
       "\n",
       "    percent_player_wins_draws  \n",
       "0                    0.773050  \n",
       "1                    0.857143  \n",
       "2                    0.757042  \n",
       "3                    0.870550  \n",
       "4                    0.740741  \n",
       "5                    0.879870  \n",
       "6                    0.715328  \n",
       "7                    0.838828  \n",
       "8                    0.791209  \n",
       "9                    0.866438  \n",
       "10                   0.760976  \n",
       "11                   0.815055  \n",
       "12                   0.761702  \n",
       "13                   0.817772  \n",
       "14                   0.758203  \n",
       "15                   0.817258  \n",
       "16                   0.761138  \n",
       "17                   0.785129  \n",
       "18                   0.762476  \n",
       "19                   0.825635  \n",
       "20                   0.767883  \n",
       "21                   0.881878  \n",
       "22                   0.761466  \n",
       "23                   0.878648  \n",
       "24                   0.759377  \n",
       "25                   0.871246  \n",
       "26                   0.771061  \n",
       "27                   0.872480  \n",
       "28                   0.767177  \n",
       "29                   0.866716  \n",
       "30                   0.746319  \n",
       "31                   0.898582  "
      ]
     },
     "execution_count": 224,
     "metadata": {},
     "output_type": "execute_result"
    }
   ],
   "source": [
    "dealer_fin_p = pd.pivot_table(df, index=[\"dealer_final\", \"strategy\"], values=\"player_wins\", aggfunc=[len, sum]).reset_index()\n",
    "dealer_fin_p.columns = [\"dealer_final\", \"strategy\",\"total\", \"player_wins_draws\"]\n",
    "dealer_fin_p[\"percent_player_wins_draws\"] = dealer_fin_p[\"player_wins_draws\"]/dealer_fin_p[\"total\"]\n",
    "dealer_fin_p"
   ]
  },
  {
   "cell_type": "code",
   "execution_count": 225,
   "metadata": {
    "ExecuteTime": {
     "end_time": "2017-02-02T12:21:37.627418",
     "start_time": "2017-02-02T12:21:36.830641"
    },
    "collapsed": false
   },
   "outputs": [
    {
     "data": {
      "image/png": "[encoded data removed]",
      "text/plain": [
       "<matplotlib.figure.Figure at 0x10f3e2438>"
      ]
     },
     "metadata": {},
     "output_type": "display_data"
    }
   ],
   "source": [
    "sns.barplot(x=\"dealer_final\", y=\"percent_player_wins_draws\", hue=\"strategy\", data=dealer_fin_p);\n",
    "plt.title(\"Proportion of time player wins given dealer's final points\");\n",
    "plt.show();"
   ]
  },
  {
   "cell_type": "code",
   "execution_count": null,
   "metadata": {
    "collapsed": false
   },
   "outputs": [],
   "source": []
  },
  {
   "cell_type": "code",
   "execution_count": null,
   "metadata": {
    "collapsed": false
   },
   "outputs": [],
   "source": []
  }
 ],
 "metadata": {
  "anaconda-cloud": {},
  "kernelspec": {
   "display_name": "Python [conda env:Python3]",
   "language": "python",
   "name": "conda-env-Python3-py"
  },
  "language_info": {
   "codemirror_mode": {
    "name": "ipython",
    "version": 3
   },
   "file_extension": ".py",
   "mimetype": "text/x-python",
   "name": "python",
   "nbconvert_exporter": "python",
   "pygments_lexer": "ipython3",
   "version": "3.5.2"
  },
  "toc": {
   "nav_menu": {
    "height": "12px",
    "width": "252px"
   },
   "navigate_menu": true,
   "number_sections": true,
   "sideBar": true,
   "threshold": 4,
   "toc_cell": false,
   "toc_section_display": "block",
   "toc_window_display": false
  }
 },
 "nbformat": 4,
 "nbformat_minor": 1
}
