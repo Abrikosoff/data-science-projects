{
 "cells": [
  {
   "cell_type": "markdown",
   "metadata": {},
   "source": [
    "# What are we trying to find out"
   ]
  },
  {
   "cell_type": "markdown",
   "metadata": {},
   "source": [
    "1. Is the [recommended strategy](http://www.lasvegas-how-to.com/blackjack.php) for blackjack better than just playing randomly?\n",
    "2. Is there a difference between continuous shuffling and playing through a whole deck?"
   ]
  },
  {
   "cell_type": "markdown",
   "metadata": {},
   "source": [
    "# How to play blackjack"
   ]
  },
  {
   "cell_type": "markdown",
   "metadata": {},
   "source": [
    "## Objective"
   ]
  },
  {
   "cell_type": "markdown",
   "metadata": {},
   "source": [
    "- Try to get as close to 21 points as possible without going over\n",
    "- Hand with the higher points wins\n",
    "- A hand that opens with 21 (Ace + 10 or J or Q or K) is a blackjack\n",
    "    - Best possible hand"
   ]
  },
  {
   "cell_type": "markdown",
   "metadata": {},
   "source": [
    "## Outcomes"
   ]
  },
  {
   "cell_type": "markdown",
   "metadata": {},
   "source": [
    "- player gets blackjack, dealer didn't\n",
    "    - player wins\n",
    "- dealer gets blackjack, player didn't\n",
    "    - player loses\n",
    "- player hits and busts\n",
    "    - player loses\n",
    "- player hits, dealer hits and busts\n",
    "    - player wins\n",
    "- player hits, dealer hits/ dealer >= hard 17\n",
    "    - player > dealer\n",
    "        - player wins\n",
    "    - player < dealer\n",
    "        - player loses\n",
    "    - player == dealer\n",
    "        - draw"
   ]
  },
  {
   "cell_type": "markdown",
   "metadata": {},
   "source": [
    "## Calculating points"
   ]
  },
  {
   "cell_type": "markdown",
   "metadata": {},
   "source": [
    "- J, Q, K == 10\n",
    "- A == 11 if it doesn't cause the hand to bust, otherwise A == 1\n",
    "- Numerical cards are counted based on the numbers (i.e. 2 is 2 points, 3 is 3 points etc.)"
   ]
  },
  {
   "cell_type": "markdown",
   "metadata": {},
   "source": [
    "## How does a game end"
   ]
  },
  {
   "cell_type": "markdown",
   "metadata": {},
   "source": [
    "- Player gets blackjack\n",
    "- Dealer gets blackjack\n",
    "- Player hits and busts\n",
    "- Player finishes hitting, dealer hits and busts\n",
    "- Player and dealer finish hitting"
   ]
  },
  {
   "cell_type": "markdown",
   "metadata": {},
   "source": [
    "## Playing the game"
   ]
  },
  {
   "cell_type": "markdown",
   "metadata": {},
   "source": [
    "- Player and dealer are dealt 2 cards each\n",
    "    - Alternating between player and dealer\n",
    "- Both the player's cards are open\n",
    "- Only the dealer's first card is open\n",
    "    - If it's an Ace, dealer checks if he has a value of 10 on his covered card\n",
    "    - If yes, he opens, and the game ends\n",
    "- The player has a chance to decide whether or not he wants more card (hit)\n",
    "    - If he has a blackjack, the game ends\n",
    "    - He hits until he decides that he doesn't want to hit anymore or he busts\n",
    "    - Whichever is earlier\n",
    "    - If he busts, the game ends\n",
    "- The dealer opens his covered card\n",
    "    - If his total is below 17, he hits\n",
    "    - If his total is 17, but it's a soft 17, he hits\n",
    "    - If he busts, the game ends\n",
    "- The points are compared"
   ]
  },
  {
   "cell_type": "markdown",
   "metadata": {},
   "source": [
    "# Strategies"
   ]
  },
  {
   "cell_type": "markdown",
   "metadata": {},
   "source": [
    "## [Recommended strategy](http://www.lasvegas-how-to.com/blackjack.php)"
   ]
  },
  {
   "cell_type": "markdown",
   "metadata": {},
   "source": [
    "- Stand on 17 or more\n",
    "- If you have 12-16 points (inclusive), and the dealer is showing 16 or less, hit\n",
    "    - I believe the assumption is that the dealer’s closed card always has a value of 10\n",
    "    - So 16 or less, means if their open card is 6 or below\n",
    "- Always split 8’s\n",
    "- Double down on 11 if the dealer’s open card is 7 or less\n",
    "- If you have 11 or lower, always hit\n",
    "    - It’s not possible for you to bust\n",
    "\n",
    "Some other tips (which seem to be for slightly more advanced players):\n",
    "\n",
    "- If you have 17 points and the dealer shows 7 or higher, consider hitting\n",
    "    - The chance of you busting is very high\n",
    "    - But if his open card is 7 or higher, and assuming the closed card is 10, you’re going to lose anyway\n",
    "- If you have 12-16 points (inclusive), and the dealer is showing 2 or 3, consider hitting\n",
    "- If you have a soft hand (Ace that is counted as 11 points), consider hitting to get a better hand"
   ]
  },
  {
   "cell_type": "markdown",
   "metadata": {},
   "source": [
    "## Random strategy"
   ]
  },
  {
   "cell_type": "markdown",
   "metadata": {},
   "source": [
    "Even when playing randomly, we should have some form of strategy\n",
    "\n",
    "- Stand on a hand of 18 or more\n",
    "- Always hit on 11 or less\n",
    "- Between 12 to 17, randomize whether or not to hit"
   ]
  },
  {
   "cell_type": "markdown",
   "metadata": {},
   "source": [
    "# Risks and assumptions"
   ]
  },
  {
   "cell_type": "markdown",
   "metadata": {},
   "source": [
    "## Assumptions"
   ]
  },
  {
   "cell_type": "markdown",
   "metadata": {},
   "source": [
    "- Multiple decks are used\n",
    "    - 4, 6, or 8\n",
    "- Only one player and the dealer (for simplicity)\n",
    "- Continuous shuffling machines used\n",
    "    - It's as though we're using a fresh deck each time\n",
    "- Assume no splitting\n",
    "- Assume no double down\n",
    "- We are just deciding wins, draws and losses, not amount of bets earned or loss"
   ]
  },
  {
   "cell_type": "markdown",
   "metadata": {},
   "source": [
    "## Risks"
   ]
  },
  {
   "cell_type": "markdown",
   "metadata": {},
   "source": [
    "- I am generating my own dataset\n",
    "    - A lot of checks required to ensure that the dataset is accurate\n",
    "- Not all casinos use continuous shuffling machines\n",
    "    - From what I read on the web (and sometimes I just stand there and watch them shuffle)\n",
    "    - If a deck is used till there's only a certain number of cards left (instead of using a new deck), the analysis is likely to be different\n",
    "        - There's not an equal probability of drawing each card for each hand\n",
    "- I can't account for the parts of the strategy where it's \"consider hitting\"\n",
    "    - i.e. where player decision is required"
   ]
  },
  {
   "cell_type": "markdown",
   "metadata": {},
   "source": [
    "# Refining our questions"
   ]
  },
  {
   "cell_type": "markdown",
   "metadata": {},
   "source": [
    "- Is the recommended strategy better than a random strategy?\n",
    "    - When playing with the recommended strategy as compared to the random strategy\n",
    "        - Is our expected proportion of wins bigger?\n",
    "        - Is our expected proportion of losses smaller?\n",
    "- Can we do better than the recommended strategy?\n",
    "    - Is splitting 8's always better than just keeping them?\n",
    "    - Do we always do better when hitting on 12-16's?\n",
    "    - Do we always do worse when hitting on 17's and above?"
   ]
  },
  {
   "cell_type": "markdown",
   "metadata": {},
   "source": [
    "# What data do we need"
   ]
  },
  {
   "cell_type": "markdown",
   "metadata": {},
   "source": [
    "- Simulating the game\n",
    "    - What are the chances of getting a card given the cards we can see\n",
    "        - Dealer open\n",
    "        - Player card one\n",
    "        - Player card two\n",
    "        - Number of decks of cards that we're playing with\n",
    "    - Deciding when the player should hit\n",
    "        - Strategy\n",
    "        - Dealer open\n",
    "        - Player initial points\n",
    "    - Deciding who wins\n",
    "        - Dealer initial points\n",
    "        - Dealer final points\n",
    "        - Player initial points\n",
    "        - Dealer final points\n",
    "    - Misc (record keeping)\n",
    "        - Did the dealer hit\n",
    "        - How many times did the dealer hit\n",
    "        - Did the player hit\n",
    "        - How many times did the player hit\n",
    "        - Player hand\n",
    "        - Dealer hand\n",
    "        - Dealer bust\n",
    "        - Player bust\n",
    "        \n",
    "- Answering our questions\n",
    "    - When playing with the recommended strategy as compared to the random strategy\n",
    "        - Is our expected proportion of wins bigger?\n",
    "        - Is our expected proportion of losses smaller?\n",
    "            - Strategy\n",
    "            - Player wins\n",
    "            - Player loses\n",
    "            - Draw\n",
    "    - Is splitting 8's always better than just keeping them?\n",
    "        - Player hand\n",
    "        - Player wins\n",
    "        - Player loses\n",
    "        - Draw\n",
    "    - Do we always do better when hitting on 12-16's?\n",
    "        - Player initial points\n",
    "        - Player wins\n",
    "        - Player loses\n",
    "        - Draw\n",
    "    - Do we always do worse when hitting on 17's and above?\n",
    "        - Player initial points\n",
    "        - Player wins\n",
    "        - Player loses\n",
    "        - Draw"
   ]
  },
  {
   "cell_type": "markdown",
   "metadata": {},
   "source": [
    "## Data dictionary"
   ]
  },
  {
   "cell_type": "code",
   "execution_count": 2,
   "metadata": {
    "ExecuteTime": {
     "end_time": "2017-02-14T22:23:45.535500",
     "start_time": "2017-02-14T22:23:44.943756"
    },
    "collapsed": false
   },
   "outputs": [],
   "source": [
    "import pandas as pd"
   ]
  },
  {
   "cell_type": "code",
   "execution_count": 3,
   "metadata": {
    "ExecuteTime": {
     "end_time": "2017-02-14T22:23:45.541323",
     "start_time": "2017-02-14T22:23:45.537202"
    },
    "collapsed": false
   },
   "outputs": [],
   "source": [
    "pd.set_option(\"max_colwidth\", 0)"
   ]
  },
  {
   "cell_type": "code",
   "execution_count": null,
   "metadata": {
    "collapsed": false
   },
   "outputs": [],
   "source": []
  }
 ],
 "metadata": {
  "anaconda-cloud": {},
  "kernelspec": {
   "display_name": "Python [conda env:py36]",
   "language": "python",
   "name": "conda-env-py36-py"
  },
  "language_info": {
   "codemirror_mode": {
    "name": "ipython",
    "version": 3
   },
   "file_extension": ".py",
   "mimetype": "text/x-python",
   "name": "python",
   "nbconvert_exporter": "python",
   "pygments_lexer": "ipython3",
   "version": "3.6.0"
  },
  "toc": {
   "nav_menu": {
    "height": "210px",
    "width": "252px"
   },
   "navigate_menu": true,
   "number_sections": true,
   "sideBar": true,
   "threshold": 4,
   "toc_cell": false,
   "toc_section_display": "block",
   "toc_window_display": false
  }
 },
 "nbformat": 4,
 "nbformat_minor": 1
}
