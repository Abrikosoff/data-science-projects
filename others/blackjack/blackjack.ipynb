{
 "cells": [
  {
   "cell_type": "code",
   "execution_count": 1,
   "metadata": {
    "ExecuteTime": {
     "end_time": "2017-02-15T12:58:47.938368",
     "start_time": "2017-02-15T12:58:42.672855"
    },
    "collapsed": false
   },
   "outputs": [],
   "source": [
    "import pandas as pd\n",
    "import numpy as np"
   ]
  },
  {
   "cell_type": "markdown",
   "metadata": {},
   "source": [
    "# Code requirements"
   ]
  },
  {
   "cell_type": "markdown",
   "metadata": {},
   "source": [
    "- Create deck\n",
    "- Shuffle deck\n",
    "- Deal a card\n",
    "- Save dealer and player hands\n",
    "- Calculate points\n",
    "    - Deal with Aces\n",
    "- Simulate a game\n",
    "    - Deal with whether the player should hit\n",
    "    - Deal with whether the dealer needs to hit\n",
    "- Simulate trials\n",
    "    - To find expected wins\n",
    "- Save our data into a dataframe"
   ]
  },
  {
   "cell_type": "markdown",
   "metadata": {},
   "source": [
    "# Deck"
   ]
  },
  {
   "cell_type": "code",
   "execution_count": 2,
   "metadata": {
    "ExecuteTime": {
     "end_time": "2017-02-15T12:58:47.954256",
     "start_time": "2017-02-15T12:58:47.940685"
    },
    "collapsed": false
   },
   "outputs": [],
   "source": [
    "class Deck():\n",
    "    values = [\"A\", 2, 3, 4, 5, 6, 7, 8, 9, 10, \"J\", \"Q\", \"K\"]\n",
    "    def __init__(self, num_decks=1, values=values):\n",
    "        # Multiply values by number of suits\n",
    "        # Then by number of decks\n",
    "        self.num_decks = num_decks\n",
    "        self.deck = values * 4 * self.num_decks\n",
    "        \n",
    "    def __str__(self):\n",
    "        return \"{} decks, {} cards left\".format(self.num_decks, len(self.deck))\n",
    "    \n",
    "    def shuffle(self):\n",
    "        np.random.shuffle(self.deck)\n",
    "    \n",
    "    def deal(self, hand=None):\n",
    "        if hand == None:\n",
    "            return self.deck.pop(0)\n",
    "        else:\n",
    "            hand.append(self.deck.pop(0))"
   ]
  },
  {
   "cell_type": "code",
   "execution_count": 3,
   "metadata": {
    "ExecuteTime": {
     "end_time": "2017-02-15T12:58:48.019533",
     "start_time": "2017-02-15T12:58:47.957841"
    },
    "collapsed": false
   },
   "outputs": [
    {
     "name": "stdout",
     "output_type": "stream",
     "text": [
      "1 decks, 52 cards left\n",
      "['A', 2, 3, 4, 5, 6, 7, 8, 9, 10, 'J', 'Q', 'K', 'A', 2, 3, 4, 5, 6, 7, 8, 9, 10, 'J', 'Q', 'K', 'A', 2, 3, 4, 5, 6, 7, 8, 9, 10, 'J', 'Q', 'K', 'A', 2, 3, 4, 5, 6, 7, 8, 9, 10, 'J', 'Q', 'K']\n",
      "A\n",
      "[2, 3, 4, 5, 6, 7, 8, 9, 10, 'J', 'Q', 'K', 'A', 2, 3, 4, 5, 6, 7, 8, 9, 10, 'J', 'Q', 'K', 'A', 2, 3, 4, 5, 6, 7, 8, 9, 10, 'J', 'Q', 'K', 'A', 2, 3, 4, 5, 6, 7, 8, 9, 10, 'J', 'Q', 'K']\n",
      "['Q', 'K', 5, 'A', 5, 9, 8, 3, 10, 4, 'J', 8, 3, 2, 7, 9, 4, 5, 'A', 8, 10, 6, 7, 7, 'J', 10, 3, 9, 6, 5, 'J', 10, 'Q', 4, 2, 2, 'K', 6, 2, 4, 7, 8, 3, 'A', 'K', 'K', 'Q', 'Q', 6, 9, 'J']\n"
     ]
    }
   ],
   "source": [
    "test = Deck()\n",
    "print (test)\n",
    "print (test.deck)\n",
    "print (test.deal())\n",
    "print (test.deck)\n",
    "test.shuffle()\n",
    "print (test.deck)"
   ]
  },
  {
   "cell_type": "markdown",
   "metadata": {},
   "source": [
    "# Calculate points"
   ]
  },
  {
   "cell_type": "code",
   "execution_count": 4,
   "metadata": {
    "ExecuteTime": {
     "end_time": "2017-02-15T12:58:48.032837",
     "start_time": "2017-02-15T12:58:48.021569"
    },
    "collapsed": false
   },
   "outputs": [],
   "source": [
    "def calculate_points(hand):\n",
    "    points = 0\n",
    "    num_ace = 0\n",
    "    \n",
    "    # Deal with aces\n",
    "    while \"A\" in hand:\n",
    "        hand.remove(\"A\")\n",
    "        num_ace += 1\n",
    "    \n",
    "    # Deal with the rest of the hand\n",
    "    for i in hand:\n",
    "        try:\n",
    "            # If it's a number, add it to points\n",
    "            points += i\n",
    "        except:\n",
    "            # If it's not a number, it's a 10\n",
    "            points += 10\n",
    "            \n",
    "    # deal with the aces\n",
    "    for i in range(num_ace):\n",
    "        if points + 11 <= 21:\n",
    "            points += 11\n",
    "        else:\n",
    "            points += 1\n",
    "    return points"
   ]
  },
  {
   "cell_type": "code",
   "execution_count": 5,
   "metadata": {
    "ExecuteTime": {
     "end_time": "2017-02-15T12:58:48.051803",
     "start_time": "2017-02-15T12:58:48.035965"
    },
    "collapsed": false
   },
   "outputs": [
    {
     "data": {
      "text/plain": [
       "21"
      ]
     },
     "execution_count": 5,
     "metadata": {},
     "output_type": "execute_result"
    }
   ],
   "source": [
    "calculate_points([5, 5, \"A\"])"
   ]
  },
  {
   "cell_type": "markdown",
   "metadata": {},
   "source": [
    "# Simulate game"
   ]
  },
  {
   "cell_type": "code",
   "execution_count": 6,
   "metadata": {
    "ExecuteTime": {
     "end_time": "2017-02-15T12:58:48.263759",
     "start_time": "2017-02-15T12:58:48.054650"
    },
    "collapsed": false
   },
   "outputs": [
    {
     "data": {
      "text/html": [
       "<div>\n",
       "<table border=\"1\" class=\"dataframe\">\n",
       "  <thead>\n",
       "    <tr style=\"text-align: right;\">\n",
       "      <th></th>\n",
       "      <th>Feature</th>\n",
       "      <th>Type</th>\n",
       "      <th>Description</th>\n",
       "    </tr>\n",
       "  </thead>\n",
       "  <tbody>\n",
       "    <tr>\n",
       "      <th>0</th>\n",
       "      <td>num_decks</td>\n",
       "      <td>Int</td>\n",
       "      <td>Number of decks used</td>\n",
       "    </tr>\n",
       "    <tr>\n",
       "      <th>1</th>\n",
       "      <td>dealer_open</td>\n",
       "      <td>Int</td>\n",
       "      <td>The card we can see</td>\n",
       "    </tr>\n",
       "    <tr>\n",
       "      <th>2</th>\n",
       "      <td>dealer_initial</td>\n",
       "      <td>Int</td>\n",
       "      <td>The dealer's starting points</td>\n",
       "    </tr>\n",
       "    <tr>\n",
       "      <th>3</th>\n",
       "      <td>dealer_hit</td>\n",
       "      <td>Binary</td>\n",
       "      <td>1 - dealer hit, 0 - dealer did not hit</td>\n",
       "    </tr>\n",
       "    <tr>\n",
       "      <th>4</th>\n",
       "      <td>dealer_num_hits</td>\n",
       "      <td>Int</td>\n",
       "      <td>Number of times the dealer hit</td>\n",
       "    </tr>\n",
       "    <tr>\n",
       "      <th>5</th>\n",
       "      <td>dealer_final</td>\n",
       "      <td>Int</td>\n",
       "      <td>The dealer's final points</td>\n",
       "    </tr>\n",
       "    <tr>\n",
       "      <th>6</th>\n",
       "      <td>dealer_busts</td>\n",
       "      <td>Binary</td>\n",
       "      <td>1 - dealer busts, 0 - dealer did not bust</td>\n",
       "    </tr>\n",
       "    <tr>\n",
       "      <th>7</th>\n",
       "      <td>player_card_one</td>\n",
       "      <td>Int</td>\n",
       "      <td>Player's first card</td>\n",
       "    </tr>\n",
       "    <tr>\n",
       "      <th>8</th>\n",
       "      <td>player_card_two</td>\n",
       "      <td>Int</td>\n",
       "      <td>Player's second card</td>\n",
       "    </tr>\n",
       "    <tr>\n",
       "      <th>9</th>\n",
       "      <td>player_initial</td>\n",
       "      <td>Int</td>\n",
       "      <td>The player's starting points</td>\n",
       "    </tr>\n",
       "    <tr>\n",
       "      <th>10</th>\n",
       "      <td>player_hit</td>\n",
       "      <td>Binary</td>\n",
       "      <td>1 - player hit, 0 - player did not hit</td>\n",
       "    </tr>\n",
       "    <tr>\n",
       "      <th>11</th>\n",
       "      <td>player_num_hits</td>\n",
       "      <td>Int</td>\n",
       "      <td>Number of times the player hit</td>\n",
       "    </tr>\n",
       "    <tr>\n",
       "      <th>12</th>\n",
       "      <td>player_final</td>\n",
       "      <td>Int</td>\n",
       "      <td>The player's final points</td>\n",
       "    </tr>\n",
       "    <tr>\n",
       "      <th>13</th>\n",
       "      <td>player_busts</td>\n",
       "      <td>Binary</td>\n",
       "      <td>1 - player busts, 0 - player did not bust</td>\n",
       "    </tr>\n",
       "    <tr>\n",
       "      <th>14</th>\n",
       "      <td>player_loses</td>\n",
       "      <td>Binary</td>\n",
       "      <td>1 - player lost, 0 - player did not lose</td>\n",
       "    </tr>\n",
       "    <tr>\n",
       "      <th>15</th>\n",
       "      <td>draw</td>\n",
       "      <td>Binary</td>\n",
       "      <td>1 - draw, 0 - not a draw</td>\n",
       "    </tr>\n",
       "    <tr>\n",
       "      <th>16</th>\n",
       "      <td>player_wins</td>\n",
       "      <td>Binary</td>\n",
       "      <td>1 - player won, 0 - player did not win</td>\n",
       "    </tr>\n",
       "    <tr>\n",
       "      <th>17</th>\n",
       "      <td>strategy</td>\n",
       "      <td>Binary</td>\n",
       "      <td>1 - recommended, 0 - random</td>\n",
       "    </tr>\n",
       "    <tr>\n",
       "      <th>18</th>\n",
       "      <td>dealer_hand</td>\n",
       "      <td>Obj</td>\n",
       "      <td>List of the dealer's cards, in the order that ...</td>\n",
       "    </tr>\n",
       "    <tr>\n",
       "      <th>19</th>\n",
       "      <td>player_hand</td>\n",
       "      <td>Obj</td>\n",
       "      <td>List of the player's cards, in the order that ...</td>\n",
       "    </tr>\n",
       "  </tbody>\n",
       "</table>\n",
       "</div>"
      ],
      "text/plain": [
       "            Feature    Type                                        Description\n",
       "0         num_decks     Int                               Number of decks used\n",
       "1       dealer_open     Int                                The card we can see\n",
       "2    dealer_initial     Int                       The dealer's starting points\n",
       "3        dealer_hit  Binary             1 - dealer hit, 0 - dealer did not hit\n",
       "4   dealer_num_hits     Int                     Number of times the dealer hit\n",
       "5      dealer_final     Int                          The dealer's final points\n",
       "6      dealer_busts  Binary          1 - dealer busts, 0 - dealer did not bust\n",
       "7   player_card_one     Int                                Player's first card\n",
       "8   player_card_two     Int                               Player's second card\n",
       "9    player_initial     Int                       The player's starting points\n",
       "10       player_hit  Binary             1 - player hit, 0 - player did not hit\n",
       "11  player_num_hits     Int                     Number of times the player hit\n",
       "12     player_final     Int                          The player's final points\n",
       "13     player_busts  Binary          1 - player busts, 0 - player did not bust\n",
       "14     player_loses  Binary           1 - player lost, 0 - player did not lose\n",
       "15             draw  Binary                           1 - draw, 0 - not a draw\n",
       "16      player_wins  Binary             1 - player won, 0 - player did not win\n",
       "17         strategy  Binary                        1 - recommended, 0 - random\n",
       "18      dealer_hand     Obj  List of the dealer's cards, in the order that ...\n",
       "19      player_hand     Obj  List of the player's cards, in the order that ..."
      ]
     },
     "execution_count": 6,
     "metadata": {},
     "output_type": "execute_result"
    }
   ],
   "source": [
    "data_dictionary = pd.read_csv(\"data_dictionary.csv\")\n",
    "data_dictionary"
   ]
  },
  {
   "cell_type": "code",
   "execution_count": 52,
   "metadata": {
    "ExecuteTime": {
     "end_time": "2017-02-15T13:19:55.645791",
     "start_time": "2017-02-15T13:19:55.638223"
    },
    "collapsed": false
   },
   "outputs": [],
   "source": [
    "def soft_17(hand):\n",
    "    if calculate_points(hand.copy()) == 17:\n",
    "        if \"A\" in hand:\n",
    "            hand_copy = hand.copy()\n",
    "            hand_copy.remove(\"A\")\n",
    "            if calculate_points(hand_copy.copy()) == 6:\n",
    "#                 print (hand)\n",
    "                return True\n",
    "    else:\n",
    "#         print (hand)\n",
    "        return False"
   ]
  },
  {
   "cell_type": "code",
   "execution_count": 45,
   "metadata": {
    "ExecuteTime": {
     "end_time": "2017-02-15T13:18:17.678103",
     "start_time": "2017-02-15T13:18:17.670906"
    },
    "collapsed": false
   },
   "outputs": [
    {
     "name": "stdout",
     "output_type": "stream",
     "text": [
      "['A', 6]\n"
     ]
    },
    {
     "data": {
      "text/plain": [
       "True"
      ]
     },
     "execution_count": 45,
     "metadata": {},
     "output_type": "execute_result"
    }
   ],
   "source": [
    "soft_17([\"A\", 6])"
   ]
  },
  {
   "cell_type": "code",
   "execution_count": 46,
   "metadata": {
    "ExecuteTime": {
     "end_time": "2017-02-15T13:18:24.624528",
     "start_time": "2017-02-15T13:18:24.616328"
    },
    "collapsed": false
   },
   "outputs": [
    {
     "name": "stdout",
     "output_type": "stream",
     "text": [
      "['A', 3, 3]\n"
     ]
    },
    {
     "data": {
      "text/plain": [
       "True"
      ]
     },
     "execution_count": 46,
     "metadata": {},
     "output_type": "execute_result"
    }
   ],
   "source": [
    "soft_17([\"A\", 3, 3])"
   ]
  },
  {
   "cell_type": "code",
   "execution_count": 47,
   "metadata": {
    "ExecuteTime": {
     "end_time": "2017-02-15T13:18:29.791368",
     "start_time": "2017-02-15T13:18:29.784496"
    },
    "collapsed": false
   },
   "outputs": [
    {
     "name": "stdout",
     "output_type": "stream",
     "text": [
      "['A', 7]\n"
     ]
    },
    {
     "data": {
      "text/plain": [
       "False"
      ]
     },
     "execution_count": 47,
     "metadata": {},
     "output_type": "execute_result"
    }
   ],
   "source": [
    "soft_17([\"A\", 7])"
   ]
  },
  {
   "cell_type": "code",
   "execution_count": 157,
   "metadata": {
    "ExecuteTime": {
     "end_time": "2017-02-15T15:44:28.580197",
     "start_time": "2017-02-15T15:44:28.434454"
    },
    "collapsed": false
   },
   "outputs": [],
   "source": [
    "def sim_game(num_decks=1, strategy=0):\n",
    "    game_deck = Deck(num_decks=num_decks)\n",
    "    game_deck.shuffle()\n",
    "\n",
    "    dealer_hand = []\n",
    "    player_hand = []\n",
    "\n",
    "    # deal 2 cards each\n",
    "    for i in range(2):\n",
    "        game_deck.deal(player_hand)\n",
    "        game_deck.deal(dealer_hand)\n",
    "\n",
    "    # get their initial points\n",
    "    # copy so that our hand is not changed\n",
    "    player_initial = calculate_points(player_hand.copy())\n",
    "    dealer_initial = calculate_points(dealer_hand.copy())\n",
    "\n",
    "    # get dealer open card\n",
    "    dealer_open = dealer_hand[0]\n",
    "\n",
    "    # get cards from player\n",
    "    player_card_one = player_hand[0]\n",
    "    player_card_two = player_hand[1]\n",
    "\n",
    "    # Change them to numerics\n",
    "    if dealer_open in [\"J\", \"Q\", \"K\"]:\n",
    "        dealer_open = 10\n",
    "    elif dealer_open == \"A\":\n",
    "        dealer_open = 1\n",
    "\n",
    "    if player_card_one in [\"J\", \"Q\", \"K\"]:\n",
    "        player_card_one = 10\n",
    "    elif player_card_one == \"A\":\n",
    "        player_card_one = 1\n",
    "\n",
    "    if player_card_two in [\"J\", \"Q\", \"K\"]:\n",
    "        player_card_two = 10\n",
    "    elif player_card_two == \"A\":\n",
    "        player_card_two = 1\n",
    "\n",
    "    dealer_hit = 0\n",
    "    dealer_num_hits = 0\n",
    "    player_hit = 0\n",
    "    player_num_hits = 0\n",
    "    player_busts = 0\n",
    "    dealer_busts = 0\n",
    "    dealer_final = calculate_points(dealer_hand.copy())\n",
    "    player_final = calculate_points(player_hand.copy())\n",
    "\n",
    "\n",
    "    # if anyone got a blackjack, the game should end\n",
    "    if player_initial != 21 and dealer_initial != 21:\n",
    "        # if neither of them got a blackjack game continues\n",
    "        # the player goes first\n",
    "\n",
    "        # If player <= 11, hit\n",
    "        while calculate_points(player_hand.copy()) <= 11:\n",
    "            player_hit = 1\n",
    "            player_num_hits += 1\n",
    "            game_deck.deal(player_hand)\n",
    "\n",
    "        # If strategy is random, randomize hit for 18 and below\n",
    "        if strategy == 0:\n",
    "            while calculate_points(player_hand.copy()) <= 18:\n",
    "                if np.random.random() < 0.5:\n",
    "                    player_hit = 1\n",
    "                    player_num_hits += 1\n",
    "                    game_deck.deal(player_hand)\n",
    "                else:\n",
    "                    break\n",
    "        # If strategy is recommended, stand on 17 and above\n",
    "        else:\n",
    "            if dealer_open <= 6:\n",
    "                while calculate_points(player_hand.copy()) <= 16:\n",
    "                    player_hit = 1\n",
    "                    player_num_hits += 1\n",
    "                    game_deck.deal(player_hand)\n",
    "\n",
    "        # update player's final and busts\n",
    "        player_final = calculate_points(player_hand.copy())\n",
    "        player_busts = player_final > 21\n",
    "        # dealer's turn\n",
    "\n",
    "        # If player didn't bust\n",
    "        if not player_busts:\n",
    "            # If dealer < 17 or soft 17, hit\n",
    "            while calculate_points(dealer_hand.copy()) < 17 or soft_17(dealer_hand.copy()):\n",
    "                dealer_hit = 1\n",
    "                dealer_num_hits += 1\n",
    "                game_deck.deal(dealer_hand)\n",
    "\n",
    "        # update dealer's final and busts\n",
    "        dealer_final = calculate_points(dealer_hand.copy())\n",
    "        dealer_busts = dealer_final > 21\n",
    "\n",
    "    player_loses = 0\n",
    "    draw = 0\n",
    "    player_wins = 0\n",
    "\n",
    "    # Check who wins\n",
    "    if player_initial == 21 and dealer_initial != 21:\n",
    "        player_wins = 1\n",
    "    elif dealer_initial == 21 and player_initial != 21:\n",
    "        player_loses = 1\n",
    "    elif player_busts:\n",
    "        player_loses = 1\n",
    "    elif dealer_busts:\n",
    "        player_wins = 1\n",
    "    elif player_final > dealer_final:\n",
    "        player_wins = 1\n",
    "    elif player_final < dealer_final:\n",
    "        player_loses = 1\n",
    "    elif player_final == dealer_final:\n",
    "        draw = 1\n",
    "\n",
    "    # Change hands to strings\n",
    "    dealer_hand_str = \",\".join([str(i) for i in dealer_hand])\n",
    "    player_hand_str = \",\".join([str(i) for i in player_hand])\n",
    "    \n",
    "    return np.array([num_decks, dealer_open, dealer_initial, \n",
    "                     dealer_hit, dealer_num_hits, dealer_final, \n",
    "                     int(dealer_busts), player_card_one, \n",
    "                     player_card_two, player_initial, player_hit, \n",
    "                     player_num_hits, player_final, int(player_busts), \n",
    "                     player_loses, draw, player_wins, strategy, \n",
    "                     dealer_hand_str, player_hand_str])"
   ]
  },
  {
   "cell_type": "code",
   "execution_count": 49,
   "metadata": {
    "ExecuteTime": {
     "end_time": "2017-02-15T13:19:13.631054",
     "start_time": "2017-02-15T13:19:13.621972"
    },
    "collapsed": false
   },
   "outputs": [
    {
     "data": {
      "text/plain": [
       "num_decks                1\n",
       "dealer_open              2\n",
       "dealer_initial          12\n",
       "dealer_hit               0\n",
       "dealer_num_hits          0\n",
       "dealer_final            12\n",
       "dealer_busts             0\n",
       "player_card_one          3\n",
       "player_card_two          5\n",
       "player_initial           8\n",
       "player_hit               1\n",
       "player_num_hits          2\n",
       "player_final            22\n",
       "player_busts             1\n",
       "player_loses             1\n",
       "draw                     0\n",
       "player_wins              0\n",
       "strategy                 0\n",
       "dealer_hand           2,10\n",
       "player_hand        3,5,4,K\n",
       "dtype: object"
      ]
     },
     "execution_count": 49,
     "metadata": {},
     "output_type": "execute_result"
    }
   ],
   "source": [
    "pd.Series(sim_game(), index=data_dictionary.Feature.values)"
   ]
  },
  {
   "cell_type": "markdown",
   "metadata": {},
   "source": [
    "# Generate a dataframe"
   ]
  },
  {
   "cell_type": "code",
   "execution_count": 50,
   "metadata": {
    "ExecuteTime": {
     "end_time": "2017-02-15T13:19:44.027798",
     "start_time": "2017-02-15T13:19:44.021435"
    },
    "collapsed": false
   },
   "outputs": [
    {
     "data": {
      "text/plain": [
       "array(['num_decks', 'dealer_open', 'dealer_initial', 'dealer_hit',\n",
       "       'dealer_num_hits', 'dealer_final', 'dealer_busts',\n",
       "       'player_card_one', 'player_card_two', 'player_initial',\n",
       "       'player_hit', 'player_num_hits', 'player_final', 'player_busts',\n",
       "       'player_loses', 'draw', 'player_wins', 'strategy', 'dealer_hand',\n",
       "       'player_hand'], dtype=object)"
      ]
     },
     "execution_count": 50,
     "metadata": {},
     "output_type": "execute_result"
    }
   ],
   "source": [
    "data_dictionary.Feature.values"
   ]
  },
  {
   "cell_type": "code",
   "execution_count": 10,
   "metadata": {
    "ExecuteTime": {
     "end_time": "2017-02-15T12:58:48.520859",
     "start_time": "2017-02-15T12:58:48.515116"
    },
    "collapsed": false
   },
   "outputs": [],
   "source": [
    "def gen_data(num_decks=1, df_size=5000, strategy=0):\n",
    "    return np.array([sim_game(num_decks=num_decks, strategy=strategy) for _ in range(df_size)])"
   ]
  },
  {
   "cell_type": "code",
   "execution_count": 11,
   "metadata": {
    "ExecuteTime": {
     "end_time": "2017-02-15T12:58:48.529223",
     "start_time": "2017-02-15T12:58:48.523656"
    },
    "collapsed": false
   },
   "outputs": [],
   "source": [
    "def gen_df(data):\n",
    "    tmp = pd.DataFrame(data, columns=data_dictionary.Feature.values)\n",
    "    tmp[tmp.columns.values[:-2]] = tmp[tmp.columns.values[:-2]].astype(int)\n",
    "    return tmp"
   ]
  },
  {
   "cell_type": "code",
   "execution_count": 158,
   "metadata": {
    "ExecuteTime": {
     "end_time": "2017-02-15T15:44:36.500383",
     "start_time": "2017-02-15T15:44:36.103828"
    },
    "collapsed": false
   },
   "outputs": [],
   "source": [
    "ran = gen_df(gen_data(num_decks=4))"
   ]
  },
  {
   "cell_type": "code",
   "execution_count": 119,
   "metadata": {
    "ExecuteTime": {
     "end_time": "2017-02-15T13:23:33.425836",
     "start_time": "2017-02-15T13:23:33.042807"
    },
    "collapsed": false
   },
   "outputs": [],
   "source": [
    "rec = gen_df(gen_data(num_decks=4, strategy=1))"
   ]
  },
  {
   "cell_type": "code",
   "execution_count": 120,
   "metadata": {
    "ExecuteTime": {
     "end_time": "2017-02-15T13:23:33.594797",
     "start_time": "2017-02-15T13:23:33.582797"
    },
    "collapsed": false
   },
   "outputs": [],
   "source": [
    "df = pd.concat([ran,rec])"
   ]
  },
  {
   "cell_type": "code",
   "execution_count": 121,
   "metadata": {
    "ExecuteTime": {
     "end_time": "2017-02-15T13:23:34.238823",
     "start_time": "2017-02-15T13:23:34.072662"
    },
    "collapsed": false
   },
   "outputs": [],
   "source": [
    "# Combine old files if they are there\n",
    "try:\n",
    "    old_df = pd.read_csv(\"blackjack.csv\")\n",
    "    df = pd.concat([old_df, df])\n",
    "except:\n",
    "    pass"
   ]
  },
  {
   "cell_type": "code",
   "execution_count": 122,
   "metadata": {
    "ExecuteTime": {
     "end_time": "2017-02-15T13:23:35.314768",
     "start_time": "2017-02-15T13:23:34.413662"
    },
    "collapsed": false
   },
   "outputs": [],
   "source": [
    "# save to file\n",
    "df.to_csv(\"blackjack.csv\", index=False)"
   ]
  },
  {
   "cell_type": "markdown",
   "metadata": {},
   "source": [
    "# Testing our code"
   ]
  },
  {
   "cell_type": "code",
   "execution_count": 123,
   "metadata": {
    "ExecuteTime": {
     "end_time": "2017-02-15T13:23:35.576767",
     "start_time": "2017-02-15T13:23:35.379652"
    },
    "collapsed": false
   },
   "outputs": [],
   "source": [
    "df = pd.read_csv(\"blackjack.csv\")"
   ]
  },
  {
   "cell_type": "code",
   "execution_count": 124,
   "metadata": {
    "ExecuteTime": {
     "end_time": "2017-02-15T13:23:35.853301",
     "start_time": "2017-02-15T13:23:35.847424"
    },
    "collapsed": false
   },
   "outputs": [
    {
     "data": {
      "text/plain": [
       "(60000, 20)"
      ]
     },
     "execution_count": 124,
     "metadata": {},
     "output_type": "execute_result"
    }
   ],
   "source": [
    "df.shape"
   ]
  },
  {
   "cell_type": "code",
   "execution_count": 125,
   "metadata": {
    "ExecuteTime": {
     "end_time": "2017-02-15T13:23:36.367770",
     "start_time": "2017-02-15T13:23:36.349970"
    },
    "collapsed": false
   },
   "outputs": [
    {
     "name": "stdout",
     "output_type": "stream",
     "text": [
      "0    32985\n",
      "Name: draw, dtype: int64\n",
      "0    32985\n",
      "Name: player_wins, dtype: int64\n"
     ]
    }
   ],
   "source": [
    "# When player_loses = 1, draw = 0, player_wins = 0\n",
    "print (df.draw[df.player_loses == 1].value_counts())\n",
    "print (df.player_wins[df.player_loses == 1].value_counts())"
   ]
  },
  {
   "cell_type": "code",
   "execution_count": 126,
   "metadata": {
    "ExecuteTime": {
     "end_time": "2017-02-15T13:23:37.004737",
     "start_time": "2017-02-15T13:23:36.992137"
    },
    "collapsed": false
   },
   "outputs": [
    {
     "name": "stdout",
     "output_type": "stream",
     "text": [
      "0    4161\n",
      "Name: player_loses, dtype: int64\n",
      "0    4161\n",
      "Name: player_wins, dtype: int64\n"
     ]
    }
   ],
   "source": [
    "# When player_loses = 0, draw = 1, player_wins = 0\n",
    "print (df.player_loses[df.draw == 1].value_counts())\n",
    "print (df.player_wins[df.draw == 1].value_counts())"
   ]
  },
  {
   "cell_type": "code",
   "execution_count": 127,
   "metadata": {
    "ExecuteTime": {
     "end_time": "2017-02-15T13:23:37.507572",
     "start_time": "2017-02-15T13:23:37.491781"
    },
    "collapsed": false
   },
   "outputs": [
    {
     "name": "stdout",
     "output_type": "stream",
     "text": [
      "0    22854\n",
      "Name: player_loses, dtype: int64\n",
      "0    22854\n",
      "Name: draw, dtype: int64\n"
     ]
    }
   ],
   "source": [
    "# When player_loses = 0, draw = 0, player_wins = 1\n",
    "print (df.player_loses[df.player_wins == 1].value_counts())\n",
    "print (df.draw[df.player_wins == 1].value_counts())"
   ]
  },
  {
   "cell_type": "code",
   "execution_count": 128,
   "metadata": {
    "ExecuteTime": {
     "end_time": "2017-02-15T13:23:37.596966",
     "start_time": "2017-02-15T13:23:37.579337"
    },
    "collapsed": false
   },
   "outputs": [
    {
     "name": "stdout",
     "output_type": "stream",
     "text": [
      "0    10854\n",
      "Name: player_loses, dtype: int64\n",
      "0    10854\n",
      "Name: draw, dtype: int64\n",
      "1    10854\n",
      "Name: player_wins, dtype: int64\n"
     ]
    }
   ],
   "source": [
    "# When dealer_busts = 1, player_loses = 0, draw = 0, player_wins = 1\n",
    "print (df.player_loses[df.dealer_busts == 1].value_counts())\n",
    "print (df.draw[df.dealer_busts == 1].value_counts())\n",
    "print (df.player_wins[df.dealer_busts == 1].value_counts())"
   ]
  },
  {
   "cell_type": "code",
   "execution_count": 129,
   "metadata": {
    "ExecuteTime": {
     "end_time": "2017-02-15T13:23:37.688053",
     "start_time": "2017-02-15T13:23:37.659756"
    },
    "collapsed": false
   },
   "outputs": [
    {
     "name": "stdout",
     "output_type": "stream",
     "text": [
      "1    18036\n",
      "Name: player_loses, dtype: int64\n",
      "0    18036\n",
      "Name: draw, dtype: int64\n",
      "0    18036\n",
      "Name: player_wins, dtype: int64\n",
      "0    18036\n",
      "Name: dealer_hit, dtype: int64\n",
      "0    18036\n",
      "Name: dealer_busts, dtype: int64\n"
     ]
    }
   ],
   "source": [
    "# When player_busts = 1, player_loses = 1, draw = 0, player_wins = 0, dealer_hit = 0, dealer_busts = 0\n",
    "print (df.player_loses[df.player_busts == 1].value_counts())\n",
    "print (df.draw[df.player_busts == 1].value_counts())\n",
    "print (df.player_wins[df.player_busts == 1].value_counts())\n",
    "print (df.dealer_hit[df.player_busts == 1].value_counts())\n",
    "print (df.dealer_busts[df.player_busts == 1].value_counts())"
   ]
  },
  {
   "cell_type": "code",
   "execution_count": 130,
   "metadata": {
    "ExecuteTime": {
     "end_time": "2017-02-15T13:23:37.773784",
     "start_time": "2017-02-15T13:23:37.746416"
    },
    "collapsed": false
   },
   "outputs": [
    {
     "name": "stdout",
     "output_type": "stream",
     "text": [
      "0    12000\n",
      "Name: player_loses, dtype: int64\n",
      "0    12000\n",
      "Name: draw, dtype: int64\n",
      "1    12000\n",
      "Name: player_wins, dtype: int64\n"
     ]
    }
   ],
   "source": [
    "# When dealer_busts = 0 and player_busts = 0, if player_final > dealer final, player_loses = 0, draw = 0, player_wins = 1\n",
    "sub = df[(df.player_busts == 0) & (df.dealer_busts == 0)]\n",
    "print (sub.player_loses[sub.player_final > sub.dealer_final].value_counts())\n",
    "print (sub.draw[sub.player_final > sub.dealer_final].value_counts())\n",
    "print (sub.player_wins[sub.player_final > sub.dealer_final].value_counts())"
   ]
  },
  {
   "cell_type": "code",
   "execution_count": 131,
   "metadata": {
    "ExecuteTime": {
     "end_time": "2017-02-15T13:23:37.854717",
     "start_time": "2017-02-15T13:23:37.837341"
    },
    "collapsed": false
   },
   "outputs": [
    {
     "name": "stdout",
     "output_type": "stream",
     "text": [
      "0    4161\n",
      "Name: player_loses, dtype: int64\n",
      "1    4161\n",
      "Name: draw, dtype: int64\n",
      "0    4161\n",
      "Name: player_wins, dtype: int64\n"
     ]
    }
   ],
   "source": [
    "# When dealer_busts = 0 and player_busts = 0, if player_final = dealer final, player_loses = 0, draw = 1, player_wins = 0\n",
    "print (sub.player_loses[sub.player_final == sub.dealer_final].value_counts())\n",
    "print (sub.draw[sub.player_final == sub.dealer_final].value_counts())\n",
    "print (sub.player_wins[sub.player_final == sub.dealer_final].value_counts())"
   ]
  },
  {
   "cell_type": "code",
   "execution_count": 132,
   "metadata": {
    "ExecuteTime": {
     "end_time": "2017-02-15T13:23:37.953771",
     "start_time": "2017-02-15T13:23:37.933325"
    },
    "collapsed": false
   },
   "outputs": [
    {
     "name": "stdout",
     "output_type": "stream",
     "text": [
      "1    14949\n",
      "Name: player_loses, dtype: int64\n",
      "0    14949\n",
      "Name: draw, dtype: int64\n",
      "0    14949\n",
      "Name: player_wins, dtype: int64\n"
     ]
    }
   ],
   "source": [
    "# When dealer_busts = 0 and player_busts = 0, if player_final < dealer final, player_loses = 1, draw = 0, player_wins = 0\n",
    "print (sub.player_loses[sub.player_final < sub.dealer_final].value_counts())\n",
    "print (sub.draw[sub.player_final < sub.dealer_final].value_counts())\n",
    "print (sub.player_wins[sub.player_final < sub.dealer_final].value_counts())"
   ]
  },
  {
   "cell_type": "code",
   "execution_count": 133,
   "metadata": {
    "ExecuteTime": {
     "end_time": "2017-02-15T13:23:38.023345",
     "start_time": "2017-02-15T13:23:38.014428"
    },
    "collapsed": false
   },
   "outputs": [
    {
     "name": "stdout",
     "output_type": "stream",
     "text": [
      "0    41964\n",
      "Name: player_busts, dtype: int64\n"
     ]
    }
   ],
   "source": [
    "# When player_final <= 21, player_busts == 0\n",
    "print (df.player_busts[df.player_final <= 21].value_counts())"
   ]
  },
  {
   "cell_type": "code",
   "execution_count": 134,
   "metadata": {
    "ExecuteTime": {
     "end_time": "2017-02-15T13:23:38.315210",
     "start_time": "2017-02-15T13:23:38.305220"
    },
    "collapsed": false
   },
   "outputs": [
    {
     "name": "stdout",
     "output_type": "stream",
     "text": [
      "0    49146\n",
      "Name: dealer_busts, dtype: int64\n"
     ]
    }
   ],
   "source": [
    "# When dealer_final <= 21, dealer_busts == 0\n",
    "print (df.dealer_busts[df.dealer_final <= 21].value_counts())"
   ]
  },
  {
   "cell_type": "code",
   "execution_count": 135,
   "metadata": {
    "ExecuteTime": {
     "end_time": "2017-02-15T13:23:38.554633",
     "start_time": "2017-02-15T13:23:38.544257"
    },
    "collapsed": false
   },
   "outputs": [
    {
     "name": "stdout",
     "output_type": "stream",
     "text": [
      "1    21696\n",
      "2     9792\n",
      "3     2551\n",
      "4      387\n",
      "5       49\n",
      "6        5\n",
      "7        1\n",
      "Name: player_num_hits, dtype: int64\n"
     ]
    }
   ],
   "source": [
    "# When player_hit == 1, player_num_hits >= 1\n",
    "print (df.player_num_hits[df.player_hit == 1].value_counts())"
   ]
  },
  {
   "cell_type": "code",
   "execution_count": 136,
   "metadata": {
    "ExecuteTime": {
     "end_time": "2017-02-15T13:23:38.754486",
     "start_time": "2017-02-15T13:23:38.744666"
    },
    "collapsed": false
   },
   "outputs": [
    {
     "name": "stdout",
     "output_type": "stream",
     "text": [
      "1    16780\n",
      "2     6361\n",
      "3     1229\n",
      "4      156\n",
      "5        5\n",
      "6        2\n",
      "Name: dealer_num_hits, dtype: int64\n"
     ]
    }
   ],
   "source": [
    "# When dealer_hit == 1, dealer_num_hits >= 1\n",
    "print (df.dealer_num_hits[df.dealer_hit == 1].value_counts())"
   ]
  },
  {
   "cell_type": "code",
   "execution_count": 137,
   "metadata": {
    "ExecuteTime": {
     "end_time": "2017-02-15T13:23:39.045997",
     "start_time": "2017-02-15T13:23:39.037376"
    },
    "collapsed": false
   },
   "outputs": [
    {
     "data": {
      "text/plain": [
       "0    35467\n",
       "1    24533\n",
       "Name: dealer_hit, dtype: int64"
      ]
     },
     "execution_count": 137,
     "metadata": {},
     "output_type": "execute_result"
    }
   ],
   "source": [
    "df.dealer_hit.value_counts()"
   ]
  },
  {
   "cell_type": "code",
   "execution_count": 138,
   "metadata": {
    "ExecuteTime": {
     "end_time": "2017-02-15T13:23:39.402580",
     "start_time": "2017-02-15T13:23:39.393991"
    },
    "collapsed": false
   },
   "outputs": [
    {
     "data": {
      "text/plain": [
       "0    35467\n",
       "1    16780\n",
       "2     6361\n",
       "3     1229\n",
       "4      156\n",
       "5        5\n",
       "6        2\n",
       "Name: dealer_num_hits, dtype: int64"
      ]
     },
     "execution_count": 138,
     "metadata": {},
     "output_type": "execute_result"
    }
   ],
   "source": [
    "df.dealer_num_hits.value_counts()"
   ]
  },
  {
   "cell_type": "code",
   "execution_count": 139,
   "metadata": {
    "ExecuteTime": {
     "end_time": "2017-02-15T13:23:39.711453",
     "start_time": "2017-02-15T13:23:39.702969"
    },
    "collapsed": false
   },
   "outputs": [
    {
     "data": {
      "text/plain": [
       "1    34481\n",
       "0    25519\n",
       "Name: player_hit, dtype: int64"
      ]
     },
     "execution_count": 139,
     "metadata": {},
     "output_type": "execute_result"
    }
   ],
   "source": [
    "df.player_hit.value_counts()"
   ]
  },
  {
   "cell_type": "code",
   "execution_count": 140,
   "metadata": {
    "ExecuteTime": {
     "end_time": "2017-02-15T13:23:39.993728",
     "start_time": "2017-02-15T13:23:39.985598"
    },
    "collapsed": false
   },
   "outputs": [
    {
     "data": {
      "text/plain": [
       "0    25519\n",
       "1    21696\n",
       "2     9792\n",
       "3     2551\n",
       "4      387\n",
       "5       49\n",
       "6        5\n",
       "7        1\n",
       "Name: player_num_hits, dtype: int64"
      ]
     },
     "execution_count": 140,
     "metadata": {},
     "output_type": "execute_result"
    }
   ],
   "source": [
    "df.player_num_hits.value_counts()"
   ]
  },
  {
   "cell_type": "code",
   "execution_count": 141,
   "metadata": {
    "ExecuteTime": {
     "end_time": "2017-02-15T13:23:40.249675",
     "start_time": "2017-02-15T13:23:40.220634"
    },
    "collapsed": false
   },
   "outputs": [
    {
     "data": {
      "text/html": [
       "<div>\n",
       "<table border=\"1\" class=\"dataframe\">\n",
       "  <thead>\n",
       "    <tr style=\"text-align: right;\">\n",
       "      <th></th>\n",
       "      <th>dealer_final</th>\n",
       "      <th>player_final</th>\n",
       "    </tr>\n",
       "  </thead>\n",
       "  <tbody>\n",
       "    <tr>\n",
       "      <th>count</th>\n",
       "      <td>30000.000000</td>\n",
       "      <td>30000.000000</td>\n",
       "    </tr>\n",
       "    <tr>\n",
       "      <th>mean</th>\n",
       "      <td>17.215767</td>\n",
       "      <td>21.862700</td>\n",
       "    </tr>\n",
       "    <tr>\n",
       "      <th>std</th>\n",
       "      <td>4.511536</td>\n",
       "      <td>3.210326</td>\n",
       "    </tr>\n",
       "    <tr>\n",
       "      <th>min</th>\n",
       "      <td>4.000000</td>\n",
       "      <td>4.000000</td>\n",
       "    </tr>\n",
       "    <tr>\n",
       "      <th>25%</th>\n",
       "      <td>14.000000</td>\n",
       "      <td>20.000000</td>\n",
       "    </tr>\n",
       "    <tr>\n",
       "      <th>50%</th>\n",
       "      <td>18.000000</td>\n",
       "      <td>21.000000</td>\n",
       "    </tr>\n",
       "    <tr>\n",
       "      <th>75%</th>\n",
       "      <td>20.000000</td>\n",
       "      <td>24.000000</td>\n",
       "    </tr>\n",
       "    <tr>\n",
       "      <th>max</th>\n",
       "      <td>26.000000</td>\n",
       "      <td>28.000000</td>\n",
       "    </tr>\n",
       "  </tbody>\n",
       "</table>\n",
       "</div>"
      ],
      "text/plain": [
       "       dealer_final  player_final\n",
       "count  30000.000000  30000.000000\n",
       "mean      17.215767     21.862700\n",
       "std        4.511536      3.210326\n",
       "min        4.000000      4.000000\n",
       "25%       14.000000     20.000000\n",
       "50%       18.000000     21.000000\n",
       "75%       20.000000     24.000000\n",
       "max       26.000000     28.000000"
      ]
     },
     "execution_count": 141,
     "metadata": {},
     "output_type": "execute_result"
    }
   ],
   "source": [
    "df[[\"dealer_final\", \"player_final\"]][df.strategy == 0].describe()"
   ]
  },
  {
   "cell_type": "code",
   "execution_count": 142,
   "metadata": {
    "ExecuteTime": {
     "end_time": "2017-02-15T13:23:40.619409",
     "start_time": "2017-02-15T13:23:40.594027"
    },
    "collapsed": false
   },
   "outputs": [
    {
     "data": {
      "text/html": [
       "<div>\n",
       "<table border=\"1\" class=\"dataframe\">\n",
       "  <thead>\n",
       "    <tr style=\"text-align: right;\">\n",
       "      <th></th>\n",
       "      <th>dealer_final</th>\n",
       "      <th>player_final</th>\n",
       "    </tr>\n",
       "  </thead>\n",
       "  <tbody>\n",
       "    <tr>\n",
       "      <th>count</th>\n",
       "      <td>30000.000000</td>\n",
       "      <td>30000.000000</td>\n",
       "    </tr>\n",
       "    <tr>\n",
       "      <th>mean</th>\n",
       "      <td>19.002833</td>\n",
       "      <td>17.956867</td>\n",
       "    </tr>\n",
       "    <tr>\n",
       "      <th>std</th>\n",
       "      <td>4.034621</td>\n",
       "      <td>3.527041</td>\n",
       "    </tr>\n",
       "    <tr>\n",
       "      <th>min</th>\n",
       "      <td>4.000000</td>\n",
       "      <td>4.000000</td>\n",
       "    </tr>\n",
       "    <tr>\n",
       "      <th>25%</th>\n",
       "      <td>17.000000</td>\n",
       "      <td>15.000000</td>\n",
       "    </tr>\n",
       "    <tr>\n",
       "      <th>50%</th>\n",
       "      <td>19.000000</td>\n",
       "      <td>18.000000</td>\n",
       "    </tr>\n",
       "    <tr>\n",
       "      <th>75%</th>\n",
       "      <td>21.000000</td>\n",
       "      <td>20.000000</td>\n",
       "    </tr>\n",
       "    <tr>\n",
       "      <th>max</th>\n",
       "      <td>26.000000</td>\n",
       "      <td>26.000000</td>\n",
       "    </tr>\n",
       "  </tbody>\n",
       "</table>\n",
       "</div>"
      ],
      "text/plain": [
       "       dealer_final  player_final\n",
       "count  30000.000000  30000.000000\n",
       "mean      19.002833     17.956867\n",
       "std        4.034621      3.527041\n",
       "min        4.000000      4.000000\n",
       "25%       17.000000     15.000000\n",
       "50%       19.000000     18.000000\n",
       "75%       21.000000     20.000000\n",
       "max       26.000000     26.000000"
      ]
     },
     "execution_count": 142,
     "metadata": {},
     "output_type": "execute_result"
    }
   ],
   "source": [
    "df[[\"dealer_final\", \"player_final\"]][df.strategy == 1].describe()"
   ]
  },
  {
   "cell_type": "code",
   "execution_count": 143,
   "metadata": {
    "ExecuteTime": {
     "end_time": "2017-02-15T13:23:41.129605",
     "start_time": "2017-02-15T13:23:41.114467"
    },
    "collapsed": false
   },
   "outputs": [
    {
     "data": {
      "text/html": [
       "<div>\n",
       "<table border=\"1\" class=\"dataframe\">\n",
       "  <thead>\n",
       "    <tr style=\"text-align: right;\">\n",
       "      <th></th>\n",
       "      <th>num_decks</th>\n",
       "      <th>dealer_open</th>\n",
       "      <th>dealer_initial</th>\n",
       "      <th>dealer_hit</th>\n",
       "      <th>dealer_num_hits</th>\n",
       "      <th>dealer_final</th>\n",
       "      <th>dealer_busts</th>\n",
       "      <th>player_card_one</th>\n",
       "      <th>player_card_two</th>\n",
       "      <th>player_initial</th>\n",
       "      <th>player_hit</th>\n",
       "      <th>player_num_hits</th>\n",
       "      <th>player_final</th>\n",
       "      <th>player_busts</th>\n",
       "      <th>player_loses</th>\n",
       "      <th>draw</th>\n",
       "      <th>player_wins</th>\n",
       "      <th>strategy</th>\n",
       "      <th>dealer_hand</th>\n",
       "      <th>player_hand</th>\n",
       "    </tr>\n",
       "  </thead>\n",
       "  <tbody>\n",
       "  </tbody>\n",
       "</table>\n",
       "</div>"
      ],
      "text/plain": [
       "Empty DataFrame\n",
       "Columns: [num_decks, dealer_open, dealer_initial, dealer_hit, dealer_num_hits, dealer_final, dealer_busts, player_card_one, player_card_two, player_initial, player_hit, player_num_hits, player_final, player_busts, player_loses, draw, player_wins, strategy, dealer_hand, player_hand]\n",
       "Index: []"
      ]
     },
     "execution_count": 143,
     "metadata": {},
     "output_type": "execute_result"
    }
   ],
   "source": [
    "# Dealer final should never be below 17 or a soft 17\n",
    "df[(df[\"dealer_final\"] < 17) & (df[\"player_initial\"] != 21) & (df[\"player_busts\"] != 1)]"
   ]
  },
  {
   "cell_type": "code",
   "execution_count": 144,
   "metadata": {
    "ExecuteTime": {
     "end_time": "2017-02-15T13:23:41.483003",
     "start_time": "2017-02-15T13:23:41.474372"
    },
    "collapsed": false
   },
   "outputs": [],
   "source": [
    "seventeens = df[\"dealer_hand\"][(df[\"dealer_final\"] == 17) & (df[\"player_initial\"] != 21) & (df[\"player_busts\"] != 1)]"
   ]
  },
  {
   "cell_type": "code",
   "execution_count": 145,
   "metadata": {
    "ExecuteTime": {
     "end_time": "2017-02-15T13:23:41.921989",
     "start_time": "2017-02-15T13:23:41.882061"
    },
    "collapsed": false
   },
   "outputs": [
    {
     "name": "stdout",
     "output_type": "stream",
     "text": [
      "Done\n"
     ]
    }
   ],
   "source": [
    "for i in seventeens:\n",
    "    if soft_17(i.split(\",\")):\n",
    "        print (i)\n",
    "print (\"Done\")"
   ]
  },
  {
   "cell_type": "code",
   "execution_count": 161,
   "metadata": {
    "ExecuteTime": {
     "end_time": "2017-02-15T15:45:00.582956",
     "start_time": "2017-02-15T15:45:00.561043"
    },
    "collapsed": false
   },
   "outputs": [
    {
     "data": {
      "text/html": [
       "<div>\n",
       "<table border=\"1\" class=\"dataframe\">\n",
       "  <thead>\n",
       "    <tr style=\"text-align: right;\">\n",
       "      <th></th>\n",
       "      <th>sum</th>\n",
       "      <th>len</th>\n",
       "      <th>prob_hit</th>\n",
       "    </tr>\n",
       "    <tr>\n",
       "      <th>player_initial</th>\n",
       "      <th></th>\n",
       "      <th></th>\n",
       "      <th></th>\n",
       "    </tr>\n",
       "  </thead>\n",
       "  <tbody>\n",
       "    <tr>\n",
       "      <th>4</th>\n",
       "      <td>23</td>\n",
       "      <td>23</td>\n",
       "      <td>1.000000</td>\n",
       "    </tr>\n",
       "    <tr>\n",
       "      <th>5</th>\n",
       "      <td>61</td>\n",
       "      <td>61</td>\n",
       "      <td>1.000000</td>\n",
       "    </tr>\n",
       "    <tr>\n",
       "      <th>6</th>\n",
       "      <td>87</td>\n",
       "      <td>87</td>\n",
       "      <td>1.000000</td>\n",
       "    </tr>\n",
       "    <tr>\n",
       "      <th>7</th>\n",
       "      <td>111</td>\n",
       "      <td>111</td>\n",
       "      <td>1.000000</td>\n",
       "    </tr>\n",
       "    <tr>\n",
       "      <th>8</th>\n",
       "      <td>152</td>\n",
       "      <td>152</td>\n",
       "      <td>1.000000</td>\n",
       "    </tr>\n",
       "    <tr>\n",
       "      <th>9</th>\n",
       "      <td>173</td>\n",
       "      <td>173</td>\n",
       "      <td>1.000000</td>\n",
       "    </tr>\n",
       "    <tr>\n",
       "      <th>10</th>\n",
       "      <td>202</td>\n",
       "      <td>202</td>\n",
       "      <td>1.000000</td>\n",
       "    </tr>\n",
       "    <tr>\n",
       "      <th>11</th>\n",
       "      <td>222</td>\n",
       "      <td>222</td>\n",
       "      <td>1.000000</td>\n",
       "    </tr>\n",
       "    <tr>\n",
       "      <th>12</th>\n",
       "      <td>232</td>\n",
       "      <td>455</td>\n",
       "      <td>0.509890</td>\n",
       "    </tr>\n",
       "    <tr>\n",
       "      <th>13</th>\n",
       "      <td>203</td>\n",
       "      <td>415</td>\n",
       "      <td>0.489157</td>\n",
       "    </tr>\n",
       "    <tr>\n",
       "      <th>14</th>\n",
       "      <td>197</td>\n",
       "      <td>403</td>\n",
       "      <td>0.488834</td>\n",
       "    </tr>\n",
       "    <tr>\n",
       "      <th>15</th>\n",
       "      <td>206</td>\n",
       "      <td>418</td>\n",
       "      <td>0.492823</td>\n",
       "    </tr>\n",
       "    <tr>\n",
       "      <th>16</th>\n",
       "      <td>193</td>\n",
       "      <td>353</td>\n",
       "      <td>0.546742</td>\n",
       "    </tr>\n",
       "    <tr>\n",
       "      <th>17</th>\n",
       "      <td>167</td>\n",
       "      <td>378</td>\n",
       "      <td>0.441799</td>\n",
       "    </tr>\n",
       "    <tr>\n",
       "      <th>18</th>\n",
       "      <td>178</td>\n",
       "      <td>338</td>\n",
       "      <td>0.526627</td>\n",
       "    </tr>\n",
       "    <tr>\n",
       "      <th>19</th>\n",
       "      <td>0</td>\n",
       "      <td>279</td>\n",
       "      <td>0.000000</td>\n",
       "    </tr>\n",
       "    <tr>\n",
       "      <th>20</th>\n",
       "      <td>0</td>\n",
       "      <td>457</td>\n",
       "      <td>0.000000</td>\n",
       "    </tr>\n",
       "    <tr>\n",
       "      <th>21</th>\n",
       "      <td>0</td>\n",
       "      <td>237</td>\n",
       "      <td>0.000000</td>\n",
       "    </tr>\n",
       "  </tbody>\n",
       "</table>\n",
       "</div>"
      ],
      "text/plain": [
       "                sum  len  prob_hit\n",
       "player_initial                    \n",
       "4                23   23  1.000000\n",
       "5                61   61  1.000000\n",
       "6                87   87  1.000000\n",
       "7               111  111  1.000000\n",
       "8               152  152  1.000000\n",
       "9               173  173  1.000000\n",
       "10              202  202  1.000000\n",
       "11              222  222  1.000000\n",
       "12              232  455  0.509890\n",
       "13              203  415  0.489157\n",
       "14              197  403  0.488834\n",
       "15              206  418  0.492823\n",
       "16              193  353  0.546742\n",
       "17              167  378  0.441799\n",
       "18              178  338  0.526627\n",
       "19                0  279  0.000000\n",
       "20                0  457  0.000000\n",
       "21                0  237  0.000000"
      ]
     },
     "execution_count": 161,
     "metadata": {},
     "output_type": "execute_result"
    }
   ],
   "source": [
    "# Check randomness of hits for random strategy\n",
    "hitting = ran[ran.dealer_initial != 21].groupby(\"player_initial\")[\"player_hit\"].agg([sum,len])\n",
    "hitting[\"prob_hit\"] = hitting[\"sum\"]/hitting[\"len\"]\n",
    "hitting"
   ]
  },
  {
   "cell_type": "code",
   "execution_count": null,
   "metadata": {
    "collapsed": true
   },
   "outputs": [],
   "source": []
  }
 ],
 "metadata": {
  "anaconda-cloud": {},
  "kernelspec": {
   "display_name": "Python [conda env:py36]",
   "language": "python",
   "name": "conda-env-py36-py"
  },
  "language_info": {
   "codemirror_mode": {
    "name": "ipython",
    "version": 3
   },
   "file_extension": ".py",
   "mimetype": "text/x-python",
   "name": "python",
   "nbconvert_exporter": "python",
   "pygments_lexer": "ipython3",
   "version": "3.6.0"
  },
  "toc": {
   "nav_menu": {
    "height": "228px",
    "width": "252px"
   },
   "navigate_menu": true,
   "number_sections": true,
   "sideBar": true,
   "threshold": 4,
   "toc_cell": false,
   "toc_section_display": "block",
   "toc_window_display": true
  }
 },
 "nbformat": 4,
 "nbformat_minor": 1
}
