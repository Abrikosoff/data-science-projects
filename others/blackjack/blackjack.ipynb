{
 "cells": [
  {
   "cell_type": "code",
   "execution_count": 1,
   "metadata": {
    "ExecuteTime": {
     "end_time": "2017-02-14T22:25:39.774506",
     "start_time": "2017-02-14T22:25:39.154160"
    },
    "collapsed": false
   },
   "outputs": [],
   "source": [
    "import pandas as pd\n",
    "import numpy as np"
   ]
  },
  {
   "cell_type": "markdown",
   "metadata": {},
   "source": [
    "# Code requirements"
   ]
  },
  {
   "cell_type": "markdown",
   "metadata": {},
   "source": [
    "- Create deck\n",
    "- Shuffle deck\n",
    "- Deal a card\n",
    "- Save dealer and player hands\n",
    "- Calculate points\n",
    "    - Deal with Aces\n",
    "- Simulate a game\n",
    "    - Deal with whether the player should hit\n",
    "    - Deal with whether the dealer needs to hit\n",
    "- Simulate trials\n",
    "    - To find expected wins\n",
    "- Save our data into a dataframe"
   ]
  },
  {
   "cell_type": "markdown",
   "metadata": {},
   "source": [
    "# Deck"
   ]
  },
  {
   "cell_type": "code",
   "execution_count": 2,
   "metadata": {
    "ExecuteTime": {
     "end_time": "2017-02-14T22:25:39.791456",
     "start_time": "2017-02-14T22:25:39.776959"
    },
    "collapsed": false
   },
   "outputs": [],
   "source": [
    "class Deck():\n",
    "    values = [\"A\", 2, 3, 4, 5, 6, 7, 8, 9, 10, \"J\", \"Q\", \"K\"]\n",
    "    def __init__(self, num_decks=1, values=values):\n",
    "        # Multiply values by number of suits\n",
    "        # Then by number of decks\n",
    "        self.num_decks = num_decks\n",
    "        self.deck = values * 4 * self.num_decks\n",
    "        \n",
    "    def __str__(self):\n",
    "        return \"{} decks, {} cards left\".format(self.num_decks, len(self.deck))\n",
    "    \n",
    "    def shuffle(self):\n",
    "        np.random.shuffle(self.deck)\n",
    "    \n",
    "    def deal(self, hand=None):\n",
    "        if hand == None:\n",
    "            return self.deck.pop(0)\n",
    "        else:\n",
    "            hand.append(self.deck.pop(0))"
   ]
  },
  {
   "cell_type": "code",
   "execution_count": 3,
   "metadata": {
    "ExecuteTime": {
     "end_time": "2017-02-14T22:25:39.803702",
     "start_time": "2017-02-14T22:25:39.795065"
    },
    "collapsed": false
   },
   "outputs": [
    {
     "name": "stdout",
     "output_type": "stream",
     "text": [
      "1 decks, 52 cards left\n",
      "['A', 2, 3, 4, 5, 6, 7, 8, 9, 10, 'J', 'Q', 'K', 'A', 2, 3, 4, 5, 6, 7, 8, 9, 10, 'J', 'Q', 'K', 'A', 2, 3, 4, 5, 6, 7, 8, 9, 10, 'J', 'Q', 'K', 'A', 2, 3, 4, 5, 6, 7, 8, 9, 10, 'J', 'Q', 'K']\n",
      "A\n",
      "[2, 3, 4, 5, 6, 7, 8, 9, 10, 'J', 'Q', 'K', 'A', 2, 3, 4, 5, 6, 7, 8, 9, 10, 'J', 'Q', 'K', 'A', 2, 3, 4, 5, 6, 7, 8, 9, 10, 'J', 'Q', 'K', 'A', 2, 3, 4, 5, 6, 7, 8, 9, 10, 'J', 'Q', 'K']\n",
      "[10, 'Q', 2, 10, 'K', 8, 7, 8, 7, 9, 5, 4, 3, 'A', 6, 'J', 3, 'Q', 8, 'A', 2, 8, 7, 9, 7, 'J', 4, 3, 'J', 2, 6, 4, 5, 'Q', 6, 'K', 'A', 3, 2, 'K', 10, 4, 6, 9, 10, 5, 'J', 'Q', 5, 'K', 9]\n"
     ]
    }
   ],
   "source": [
    "test = Deck()\n",
    "print (test)\n",
    "print (test.deck)\n",
    "print (test.deal())\n",
    "print (test.deck)\n",
    "test.shuffle()\n",
    "print (test.deck)"
   ]
  },
  {
   "cell_type": "markdown",
   "metadata": {},
   "source": [
    "# Calculate points"
   ]
  },
  {
   "cell_type": "code",
   "execution_count": 4,
   "metadata": {
    "ExecuteTime": {
     "end_time": "2017-02-14T22:25:39.821117",
     "start_time": "2017-02-14T22:25:39.806534"
    },
    "collapsed": false
   },
   "outputs": [],
   "source": [
    "def calculate_points(hand):\n",
    "    points = 0\n",
    "    num_ace = 0\n",
    "    \n",
    "    # Deal with aces\n",
    "    while \"A\" in hand:\n",
    "        hand.remove(\"A\")\n",
    "        num_ace += 1\n",
    "    \n",
    "    # Deal with the rest of the hand\n",
    "    for i in hand:\n",
    "        try:\n",
    "            # If it's a number, add it to points\n",
    "            points += i\n",
    "        except:\n",
    "            # If it's not a number, it's a 10\n",
    "            points += 10\n",
    "            \n",
    "    # deal with the aces\n",
    "    for i in range(num_ace):\n",
    "        if points + 11 <= 21:\n",
    "            points += 11\n",
    "        else:\n",
    "            points += 1\n",
    "    return points"
   ]
  },
  {
   "cell_type": "code",
   "execution_count": 5,
   "metadata": {
    "ExecuteTime": {
     "end_time": "2017-02-14T22:25:39.843038",
     "start_time": "2017-02-14T22:25:39.824117"
    },
    "collapsed": false
   },
   "outputs": [
    {
     "data": {
      "text/plain": [
       "21"
      ]
     },
     "execution_count": 5,
     "metadata": {},
     "output_type": "execute_result"
    }
   ],
   "source": [
    "calculate_points([5, 5, \"A\"])"
   ]
  },
  {
   "cell_type": "markdown",
   "metadata": {},
   "source": [
    "# Simulate game"
   ]
  },
  {
   "cell_type": "code",
   "execution_count": 6,
   "metadata": {
    "ExecuteTime": {
     "end_time": "2017-02-14T22:25:39.870932",
     "start_time": "2017-02-14T22:25:39.846298"
    },
    "collapsed": false
   },
   "outputs": [
    {
     "data": {
      "text/html": [
       "<div>\n",
       "<table border=\"1\" class=\"dataframe\">\n",
       "  <thead>\n",
       "    <tr style=\"text-align: right;\">\n",
       "      <th></th>\n",
       "      <th>Feature</th>\n",
       "      <th>Type</th>\n",
       "      <th>Description</th>\n",
       "    </tr>\n",
       "  </thead>\n",
       "  <tbody>\n",
       "    <tr>\n",
       "      <th>0</th>\n",
       "      <td>num_decks</td>\n",
       "      <td>Int</td>\n",
       "      <td>Number of decks used</td>\n",
       "    </tr>\n",
       "    <tr>\n",
       "      <th>1</th>\n",
       "      <td>dealer_open</td>\n",
       "      <td>Int</td>\n",
       "      <td>The card we can see</td>\n",
       "    </tr>\n",
       "    <tr>\n",
       "      <th>2</th>\n",
       "      <td>dealer_initial</td>\n",
       "      <td>Int</td>\n",
       "      <td>The dealer's starting points</td>\n",
       "    </tr>\n",
       "    <tr>\n",
       "      <th>3</th>\n",
       "      <td>dealer_hit</td>\n",
       "      <td>Binary</td>\n",
       "      <td>1 - dealer hit, 0 - dealer did not hit</td>\n",
       "    </tr>\n",
       "    <tr>\n",
       "      <th>4</th>\n",
       "      <td>dealer_num_hits</td>\n",
       "      <td>Int</td>\n",
       "      <td>Number of times the dealer hit</td>\n",
       "    </tr>\n",
       "    <tr>\n",
       "      <th>5</th>\n",
       "      <td>dealer_final</td>\n",
       "      <td>Int</td>\n",
       "      <td>The dealer's final points</td>\n",
       "    </tr>\n",
       "    <tr>\n",
       "      <th>6</th>\n",
       "      <td>dealer_busts</td>\n",
       "      <td>Binary</td>\n",
       "      <td>1 - dealer busts, 0 - dealer did not bust</td>\n",
       "    </tr>\n",
       "    <tr>\n",
       "      <th>7</th>\n",
       "      <td>player_card_one</td>\n",
       "      <td>Int</td>\n",
       "      <td>Player's first card</td>\n",
       "    </tr>\n",
       "    <tr>\n",
       "      <th>8</th>\n",
       "      <td>player_card_two</td>\n",
       "      <td>Int</td>\n",
       "      <td>Player's second card</td>\n",
       "    </tr>\n",
       "    <tr>\n",
       "      <th>9</th>\n",
       "      <td>player_initial</td>\n",
       "      <td>Int</td>\n",
       "      <td>The player's starting points</td>\n",
       "    </tr>\n",
       "    <tr>\n",
       "      <th>10</th>\n",
       "      <td>player_hit</td>\n",
       "      <td>Binary</td>\n",
       "      <td>1 - player hit, 0 - player did not hit</td>\n",
       "    </tr>\n",
       "    <tr>\n",
       "      <th>11</th>\n",
       "      <td>player_num_hits</td>\n",
       "      <td>Int</td>\n",
       "      <td>Number of times the player hit</td>\n",
       "    </tr>\n",
       "    <tr>\n",
       "      <th>12</th>\n",
       "      <td>player_final</td>\n",
       "      <td>Int</td>\n",
       "      <td>The player's final points</td>\n",
       "    </tr>\n",
       "    <tr>\n",
       "      <th>13</th>\n",
       "      <td>player_busts</td>\n",
       "      <td>Binary</td>\n",
       "      <td>1 - player busts, 0 - player did not bust</td>\n",
       "    </tr>\n",
       "    <tr>\n",
       "      <th>14</th>\n",
       "      <td>player_loses</td>\n",
       "      <td>Binary</td>\n",
       "      <td>1 - player lost, 0 - player did not lose</td>\n",
       "    </tr>\n",
       "    <tr>\n",
       "      <th>15</th>\n",
       "      <td>draw</td>\n",
       "      <td>Binary</td>\n",
       "      <td>1 - draw, 0 - not a draw</td>\n",
       "    </tr>\n",
       "    <tr>\n",
       "      <th>16</th>\n",
       "      <td>player_wins</td>\n",
       "      <td>Binary</td>\n",
       "      <td>1 - player won, 0 - player did not win</td>\n",
       "    </tr>\n",
       "    <tr>\n",
       "      <th>17</th>\n",
       "      <td>strategy</td>\n",
       "      <td>Binary</td>\n",
       "      <td>1 - recommended, 0 - random</td>\n",
       "    </tr>\n",
       "    <tr>\n",
       "      <th>18</th>\n",
       "      <td>dealer_hand</td>\n",
       "      <td>Obj</td>\n",
       "      <td>List of the dealer's cards, in the order that ...</td>\n",
       "    </tr>\n",
       "    <tr>\n",
       "      <th>19</th>\n",
       "      <td>player_hand</td>\n",
       "      <td>Obj</td>\n",
       "      <td>List of the player's cards, in the order that ...</td>\n",
       "    </tr>\n",
       "  </tbody>\n",
       "</table>\n",
       "</div>"
      ],
      "text/plain": [
       "            Feature    Type                                        Description\n",
       "0         num_decks     Int                               Number of decks used\n",
       "1       dealer_open     Int                                The card we can see\n",
       "2    dealer_initial     Int                       The dealer's starting points\n",
       "3        dealer_hit  Binary             1 - dealer hit, 0 - dealer did not hit\n",
       "4   dealer_num_hits     Int                     Number of times the dealer hit\n",
       "5      dealer_final     Int                          The dealer's final points\n",
       "6      dealer_busts  Binary          1 - dealer busts, 0 - dealer did not bust\n",
       "7   player_card_one     Int                                Player's first card\n",
       "8   player_card_two     Int                               Player's second card\n",
       "9    player_initial     Int                       The player's starting points\n",
       "10       player_hit  Binary             1 - player hit, 0 - player did not hit\n",
       "11  player_num_hits     Int                     Number of times the player hit\n",
       "12     player_final     Int                          The player's final points\n",
       "13     player_busts  Binary          1 - player busts, 0 - player did not bust\n",
       "14     player_loses  Binary           1 - player lost, 0 - player did not lose\n",
       "15             draw  Binary                           1 - draw, 0 - not a draw\n",
       "16      player_wins  Binary             1 - player won, 0 - player did not win\n",
       "17         strategy  Binary                        1 - recommended, 0 - random\n",
       "18      dealer_hand     Obj  List of the dealer's cards, in the order that ...\n",
       "19      player_hand     Obj  List of the player's cards, in the order that ..."
      ]
     },
     "execution_count": 6,
     "metadata": {},
     "output_type": "execute_result"
    }
   ],
   "source": [
    "data_dictionary = pd.read_csv(\"data_dictionary.csv\")\n",
    "data_dictionary"
   ]
  },
  {
   "cell_type": "code",
   "execution_count": 7,
   "metadata": {
    "ExecuteTime": {
     "end_time": "2017-02-14T22:25:40.086286",
     "start_time": "2017-02-14T22:25:39.874355"
    },
    "collapsed": false
   },
   "outputs": [],
   "source": [
    "def sim_game(num_decks=1, strategy=0):\n",
    "    game_deck = Deck(num_decks=num_decks)\n",
    "    game_deck.shuffle()\n",
    "\n",
    "    dealer_hand = []\n",
    "    player_hand = []\n",
    "\n",
    "    # deal 2 cards each\n",
    "    for i in range(2):\n",
    "        game_deck.deal(player_hand)\n",
    "        game_deck.deal(dealer_hand)\n",
    "\n",
    "    # get their initial points\n",
    "    # copy so that our hand is not changed\n",
    "    player_initial = calculate_points(player_hand.copy())\n",
    "    dealer_initial = calculate_points(dealer_hand.copy())\n",
    "\n",
    "    # get dealer open card\n",
    "    dealer_open = dealer_hand[0]\n",
    "\n",
    "    # get cards from player\n",
    "    player_card_one = player_hand[0]\n",
    "    player_card_two = player_hand[1]\n",
    "\n",
    "    # Change them to numerics\n",
    "    if dealer_open in [\"J\", \"Q\", \"K\"]:\n",
    "        dealer_open = 10\n",
    "    elif dealer_open == \"A\":\n",
    "        dealer_open = 1\n",
    "\n",
    "    if player_card_one in [\"J\", \"Q\", \"K\"]:\n",
    "        player_card_one = 10\n",
    "    elif player_card_one == \"A\":\n",
    "        player_card_one = 1\n",
    "\n",
    "    if player_card_two in [\"J\", \"Q\", \"K\"]:\n",
    "        player_card_two = 10\n",
    "    elif player_card_two == \"A\":\n",
    "        player_card_two = 1\n",
    "\n",
    "    dealer_hit = 0\n",
    "    dealer_num_hits = 0\n",
    "    player_hit = 0\n",
    "    player_num_hits = 0\n",
    "    player_busts = 0\n",
    "    dealer_busts = 0\n",
    "    dealer_final = calculate_points(dealer_hand.copy())\n",
    "    player_final = calculate_points(player_hand.copy())\n",
    "\n",
    "\n",
    "    # if anyone got a blackjack, the game should end\n",
    "    if player_initial != 21 and dealer_initial != 21:\n",
    "        # if neither of them got a blackjack game continues\n",
    "        # the player goes first\n",
    "\n",
    "        # If player <= 11, hit\n",
    "        while calculate_points(player_hand.copy()) <= 11:\n",
    "            player_hit = 1\n",
    "            player_num_hits += 1\n",
    "            game_deck.deal(player_hand)\n",
    "\n",
    "        # If strategy is random, randomize hit for 18 and below\n",
    "        if strategy == 0:\n",
    "            while calculate_points(player_hand.copy()) <= 18:\n",
    "                if np.random.random() < 0.5:\n",
    "                    player_hit = 1\n",
    "                    player_num_hits += 1\n",
    "                    game_deck.deal(player_hand)\n",
    "        # If strategy is recommended, stand on 17 and above\n",
    "        else:\n",
    "            if dealer_open <= 6:\n",
    "                while calculate_points(player_hand.copy()) <= 16:\n",
    "                    player_hit = 1\n",
    "                    player_num_hits += 1\n",
    "                    game_deck.deal(player_hand)\n",
    "\n",
    "        # update player's final and busts\n",
    "        player_final = calculate_points(player_hand.copy())\n",
    "        player_busts = player_final > 21\n",
    "        # dealer's turn\n",
    "\n",
    "        # If player didn't bust\n",
    "        if not player_busts:\n",
    "            # If dealer < 17, hit\n",
    "            while calculate_points(dealer_hand.copy()) < 17:\n",
    "                dealer_hit = 1\n",
    "                dealer_num_hits += 1\n",
    "                game_deck.deal(dealer_hand)\n",
    "\n",
    "            # If dealer has a soft 17, hit\n",
    "            if calculate_points(dealer_hand.copy()) == 17:\n",
    "                if \"A\" in dealer_hand:\n",
    "                    dealer_copy = dealer_hand.copy()\n",
    "                    dealer_copy.remove(\"A\")\n",
    "                    if calculate_points(dealer_copy.copy()) == 6:\n",
    "                        dealer_hit = 1\n",
    "                        dealer_num_hits += 1\n",
    "                        game_deck.deal(dealer_hand)\n",
    "\n",
    "        # update dealer's final and busts\n",
    "        dealer_final = calculate_points(dealer_hand.copy())\n",
    "        dealer_busts = dealer_final > 21\n",
    "\n",
    "    player_loses = 0\n",
    "    draw = 0\n",
    "    player_wins = 0\n",
    "\n",
    "    # Check who wins\n",
    "    if player_initial == 21 and dealer_initial != 21:\n",
    "        player_wins = 1\n",
    "    elif dealer_initial == 21 and player_initial != 21:\n",
    "        player_loses = 1\n",
    "    elif player_busts:\n",
    "        player_loses = 1\n",
    "    elif dealer_busts:\n",
    "        player_wins = 1\n",
    "    elif player_final > dealer_final:\n",
    "        player_wins = 1\n",
    "    elif player_final < dealer_final:\n",
    "        player_loses = 1\n",
    "    elif player_final == dealer_final:\n",
    "        draw = 1\n",
    "\n",
    "    # Change hands to strings\n",
    "    dealer_hand_str = \",\".join([str(i) for i in dealer_hand])\n",
    "    player_hand_str = \",\".join([str(i) for i in player_hand])\n",
    "    \n",
    "    return np.array([num_decks, dealer_open, dealer_initial, \n",
    "                     dealer_hit, dealer_num_hits, dealer_final, \n",
    "                     int(dealer_busts), player_card_one, \n",
    "                     player_card_two, player_initial, player_hit, \n",
    "                     player_num_hits, player_final, int(player_busts), \n",
    "                     player_loses, draw, player_wins, strategy, \n",
    "                     dealer_hand_str, player_hand_str])"
   ]
  },
  {
   "cell_type": "code",
   "execution_count": 8,
   "metadata": {
    "ExecuteTime": {
     "end_time": "2017-02-14T22:25:40.115322",
     "start_time": "2017-02-14T22:25:40.088649"
    },
    "collapsed": false
   },
   "outputs": [
    {
     "data": {
      "text/plain": [
       "num_decks                 1\n",
       "dealer_open               3\n",
       "dealer_initial            7\n",
       "dealer_hit                0\n",
       "dealer_num_hits           0\n",
       "dealer_final              7\n",
       "dealer_busts              0\n",
       "player_card_one           1\n",
       "player_card_two           3\n",
       "player_initial           14\n",
       "player_hit                1\n",
       "player_num_hits           2\n",
       "player_final             22\n",
       "player_busts              1\n",
       "player_loses              1\n",
       "draw                      0\n",
       "player_wins               0\n",
       "strategy                  0\n",
       "dealer_hand             3,4\n",
       "player_hand        A,3,10,8\n",
       "dtype: object"
      ]
     },
     "execution_count": 8,
     "metadata": {},
     "output_type": "execute_result"
    }
   ],
   "source": [
    "pd.Series(sim_game(), index=data_dictionary.Feature.values)"
   ]
  },
  {
   "cell_type": "markdown",
   "metadata": {},
   "source": [
    "# Generate a dataframe"
   ]
  },
  {
   "cell_type": "code",
   "execution_count": 9,
   "metadata": {
    "ExecuteTime": {
     "end_time": "2017-02-14T22:25:40.128846",
     "start_time": "2017-02-14T22:25:40.120753"
    },
    "collapsed": false
   },
   "outputs": [
    {
     "data": {
      "text/plain": [
       "array(['num_decks', 'dealer_open', 'dealer_initial', 'dealer_hit',\n",
       "       'dealer_num_hits', 'dealer_final', 'dealer_busts',\n",
       "       'player_card_one', 'player_card_two', 'player_initial',\n",
       "       'player_hit', 'player_num_hits', 'player_final', 'player_busts',\n",
       "       'player_loses', 'draw', 'player_wins', 'strategy', 'dealer_hand',\n",
       "       'player_hand'], dtype=object)"
      ]
     },
     "execution_count": 9,
     "metadata": {},
     "output_type": "execute_result"
    }
   ],
   "source": [
    "data_dictionary.Feature.values"
   ]
  },
  {
   "cell_type": "code",
   "execution_count": 10,
   "metadata": {
    "ExecuteTime": {
     "end_time": "2017-02-14T22:25:40.139176",
     "start_time": "2017-02-14T22:25:40.132556"
    },
    "collapsed": false
   },
   "outputs": [],
   "source": [
    "def gen_data(num_decks=1, df_size=5000, strategy=0):\n",
    "    return np.array([sim_game(num_decks=num_decks, strategy=strategy) for _ in range(df_size)])"
   ]
  },
  {
   "cell_type": "code",
   "execution_count": 11,
   "metadata": {
    "ExecuteTime": {
     "end_time": "2017-02-14T22:25:40.152465",
     "start_time": "2017-02-14T22:25:40.142071"
    },
    "collapsed": false
   },
   "outputs": [],
   "source": [
    "def gen_df(data):\n",
    "    tmp = pd.DataFrame(data, columns=data_dictionary.Feature.values)\n",
    "    tmp[tmp.columns.values[:-2]] = tmp[tmp.columns.values[:-2]].astype(int)\n",
    "    return tmp"
   ]
  },
  {
   "cell_type": "code",
   "execution_count": 54,
   "metadata": {
    "ExecuteTime": {
     "end_time": "2017-02-14T23:23:47.147433",
     "start_time": "2017-02-14T23:23:46.704181"
    },
    "collapsed": false
   },
   "outputs": [],
   "source": [
    "ran = gen_df(gen_data(num_decks=4))"
   ]
  },
  {
   "cell_type": "code",
   "execution_count": 55,
   "metadata": {
    "ExecuteTime": {
     "end_time": "2017-02-14T23:23:47.535776",
     "start_time": "2017-02-14T23:23:47.149406"
    },
    "collapsed": false
   },
   "outputs": [],
   "source": [
    "rec = gen_df(gen_data(num_decks=4, strategy=1))"
   ]
  },
  {
   "cell_type": "code",
   "execution_count": 56,
   "metadata": {
    "ExecuteTime": {
     "end_time": "2017-02-14T23:23:47.578959",
     "start_time": "2017-02-14T23:23:47.567703"
    },
    "collapsed": false
   },
   "outputs": [],
   "source": [
    "df = pd.concat([ran,rec])"
   ]
  },
  {
   "cell_type": "code",
   "execution_count": 57,
   "metadata": {
    "ExecuteTime": {
     "end_time": "2017-02-14T23:23:48.070573",
     "start_time": "2017-02-14T23:23:47.963738"
    },
    "collapsed": false
   },
   "outputs": [],
   "source": [
    "# Combine old files if they are there\n",
    "try:\n",
    "    old_df = pd.read_csv(\"blackjack.csv\")\n",
    "    df = pd.concat([old_df, df])\n",
    "except:\n",
    "    pass"
   ]
  },
  {
   "cell_type": "code",
   "execution_count": 58,
   "metadata": {
    "ExecuteTime": {
     "end_time": "2017-02-14T23:23:48.992573",
     "start_time": "2017-02-14T23:23:48.410308"
    },
    "collapsed": false
   },
   "outputs": [],
   "source": [
    "# save to file\n",
    "df.to_csv(\"blackjack.csv\", index=False)"
   ]
  },
  {
   "cell_type": "markdown",
   "metadata": {},
   "source": [
    "# Testing our code"
   ]
  },
  {
   "cell_type": "code",
   "execution_count": 42,
   "metadata": {
    "ExecuteTime": {
     "end_time": "2017-02-14T23:23:34.247823",
     "start_time": "2017-02-14T23:23:34.198895"
    },
    "collapsed": false
   },
   "outputs": [],
   "source": [
    "df = pd.read_csv(\"blackjack.csv\")"
   ]
  },
  {
   "cell_type": "code",
   "execution_count": 43,
   "metadata": {
    "ExecuteTime": {
     "end_time": "2017-02-14T23:23:34.923030",
     "start_time": "2017-02-14T23:23:34.915240"
    },
    "collapsed": false
   },
   "outputs": [
    {
     "data": {
      "text/plain": [
       "(10000, 20)"
      ]
     },
     "execution_count": 43,
     "metadata": {},
     "output_type": "execute_result"
    }
   ],
   "source": [
    "df.shape"
   ]
  },
  {
   "cell_type": "code",
   "execution_count": 19,
   "metadata": {
    "ExecuteTime": {
     "end_time": "2017-02-14T22:25:42.739857",
     "start_time": "2017-02-14T22:25:42.720654"
    },
    "collapsed": false
   },
   "outputs": [
    {
     "name": "stdout",
     "output_type": "stream",
     "text": [
      "0    43636\n",
      "Name: draw, dtype: int64\n",
      "0    43636\n",
      "Name: player_wins, dtype: int64\n"
     ]
    }
   ],
   "source": [
    "# When player_loses = 1, draw = 0, player_wins = 0\n",
    "print (df.draw[df.player_loses == 1].value_counts())\n",
    "print (df.player_wins[df.player_loses == 1].value_counts())"
   ]
  },
  {
   "cell_type": "code",
   "execution_count": 20,
   "metadata": {
    "ExecuteTime": {
     "end_time": "2017-02-14T22:25:42.760187",
     "start_time": "2017-02-14T22:25:42.742619"
    },
    "collapsed": false
   },
   "outputs": [
    {
     "name": "stdout",
     "output_type": "stream",
     "text": [
      "0    5759\n",
      "Name: player_loses, dtype: int64\n",
      "0    5759\n",
      "Name: player_wins, dtype: int64\n"
     ]
    }
   ],
   "source": [
    "# When player_loses = 0, draw = 1, player_wins = 0\n",
    "print (df.player_loses[df.draw == 1].value_counts())\n",
    "print (df.player_wins[df.draw == 1].value_counts())"
   ]
  },
  {
   "cell_type": "code",
   "execution_count": 21,
   "metadata": {
    "ExecuteTime": {
     "end_time": "2017-02-14T22:25:42.783430",
     "start_time": "2017-02-14T22:25:42.763620"
    },
    "collapsed": false
   },
   "outputs": [
    {
     "name": "stdout",
     "output_type": "stream",
     "text": [
      "0    30605\n",
      "Name: player_loses, dtype: int64\n",
      "0    30605\n",
      "Name: draw, dtype: int64\n"
     ]
    }
   ],
   "source": [
    "# When player_loses = 0, draw = 0, player_wins = 1\n",
    "print (df.player_loses[df.player_wins == 1].value_counts())\n",
    "print (df.draw[df.player_wins == 1].value_counts())"
   ]
  },
  {
   "cell_type": "code",
   "execution_count": 22,
   "metadata": {
    "ExecuteTime": {
     "end_time": "2017-02-14T22:25:42.808842",
     "start_time": "2017-02-14T22:25:42.786648"
    },
    "collapsed": false
   },
   "outputs": [
    {
     "name": "stdout",
     "output_type": "stream",
     "text": [
      "0    14260\n",
      "Name: player_loses, dtype: int64\n",
      "0    14260\n",
      "Name: draw, dtype: int64\n",
      "1    14260\n",
      "Name: player_wins, dtype: int64\n"
     ]
    }
   ],
   "source": [
    "# When dealer_busts = 1, player_loses = 0, draw = 0, player_wins = 1\n",
    "print (df.player_loses[df.dealer_busts == 1].value_counts())\n",
    "print (df.draw[df.dealer_busts == 1].value_counts())\n",
    "print (df.player_wins[df.dealer_busts == 1].value_counts())"
   ]
  },
  {
   "cell_type": "code",
   "execution_count": 23,
   "metadata": {
    "ExecuteTime": {
     "end_time": "2017-02-14T22:25:42.852063",
     "start_time": "2017-02-14T22:25:42.811770"
    },
    "collapsed": false
   },
   "outputs": [
    {
     "name": "stdout",
     "output_type": "stream",
     "text": [
      "1    23676\n",
      "Name: player_loses, dtype: int64\n",
      "0    23676\n",
      "Name: draw, dtype: int64\n",
      "0    23676\n",
      "Name: player_wins, dtype: int64\n",
      "0    23676\n",
      "Name: dealer_hit, dtype: int64\n",
      "0    23676\n",
      "Name: dealer_busts, dtype: int64\n"
     ]
    }
   ],
   "source": [
    "# When player_busts = 1, player_loses = 1, draw = 0, player_wins = 0, dealer_hit = 0, dealer_busts = 0\n",
    "print (df.player_loses[df.player_busts == 1].value_counts())\n",
    "print (df.draw[df.player_busts == 1].value_counts())\n",
    "print (df.player_wins[df.player_busts == 1].value_counts())\n",
    "print (df.dealer_hit[df.player_busts == 1].value_counts())\n",
    "print (df.dealer_busts[df.player_busts == 1].value_counts())"
   ]
  },
  {
   "cell_type": "code",
   "execution_count": 24,
   "metadata": {
    "ExecuteTime": {
     "end_time": "2017-02-14T22:25:42.886531",
     "start_time": "2017-02-14T22:25:42.855552"
    },
    "collapsed": false
   },
   "outputs": [
    {
     "name": "stdout",
     "output_type": "stream",
     "text": [
      "0    16345\n",
      "Name: player_loses, dtype: int64\n",
      "0    16345\n",
      "Name: draw, dtype: int64\n",
      "1    16345\n",
      "Name: player_wins, dtype: int64\n"
     ]
    }
   ],
   "source": [
    "# When dealer_busts = 0 and player_busts = 0, if player_final > dealer final, player_loses = 0, draw = 0, player_wins = 1\n",
    "sub = df[(df.player_busts == 0) & (df.dealer_busts == 0)]\n",
    "print (sub.player_loses[sub.player_final > sub.dealer_final].value_counts())\n",
    "print (sub.draw[sub.player_final > sub.dealer_final].value_counts())\n",
    "print (sub.player_wins[sub.player_final > sub.dealer_final].value_counts())"
   ]
  },
  {
   "cell_type": "code",
   "execution_count": 25,
   "metadata": {
    "ExecuteTime": {
     "end_time": "2017-02-14T22:25:42.912628",
     "start_time": "2017-02-14T22:25:42.889156"
    },
    "collapsed": false
   },
   "outputs": [
    {
     "name": "stdout",
     "output_type": "stream",
     "text": [
      "0    5759\n",
      "Name: player_loses, dtype: int64\n",
      "1    5759\n",
      "Name: draw, dtype: int64\n",
      "0    5759\n",
      "Name: player_wins, dtype: int64\n"
     ]
    }
   ],
   "source": [
    "# When dealer_busts = 0 and player_busts = 0, if player_final = dealer final, player_loses = 0, draw = 1, player_wins = 0\n",
    "print (sub.player_loses[sub.player_final == sub.dealer_final].value_counts())\n",
    "print (sub.draw[sub.player_final == sub.dealer_final].value_counts())\n",
    "print (sub.player_wins[sub.player_final == sub.dealer_final].value_counts())"
   ]
  },
  {
   "cell_type": "code",
   "execution_count": 26,
   "metadata": {
    "ExecuteTime": {
     "end_time": "2017-02-14T22:25:42.938528",
     "start_time": "2017-02-14T22:25:42.916483"
    },
    "collapsed": false
   },
   "outputs": [
    {
     "name": "stdout",
     "output_type": "stream",
     "text": [
      "1    19960\n",
      "Name: player_loses, dtype: int64\n",
      "0    19960\n",
      "Name: draw, dtype: int64\n",
      "0    19960\n",
      "Name: player_wins, dtype: int64\n"
     ]
    }
   ],
   "source": [
    "# When dealer_busts = 0 and player_busts = 0, if player_final < dealer final, player_loses = 1, draw = 0, player_wins = 0\n",
    "print (sub.player_loses[sub.player_final < sub.dealer_final].value_counts())\n",
    "print (sub.draw[sub.player_final < sub.dealer_final].value_counts())\n",
    "print (sub.player_wins[sub.player_final < sub.dealer_final].value_counts())"
   ]
  },
  {
   "cell_type": "code",
   "execution_count": 27,
   "metadata": {
    "ExecuteTime": {
     "end_time": "2017-02-14T22:25:42.951025",
     "start_time": "2017-02-14T22:25:42.940635"
    },
    "collapsed": false
   },
   "outputs": [
    {
     "name": "stdout",
     "output_type": "stream",
     "text": [
      "0    56324\n",
      "Name: player_busts, dtype: int64\n"
     ]
    }
   ],
   "source": [
    "# When player_final <= 21, player_busts == 0\n",
    "print (df.player_busts[df.player_final <= 21].value_counts())"
   ]
  },
  {
   "cell_type": "code",
   "execution_count": 28,
   "metadata": {
    "ExecuteTime": {
     "end_time": "2017-02-14T22:25:42.967118",
     "start_time": "2017-02-14T22:25:42.954682"
    },
    "collapsed": false
   },
   "outputs": [
    {
     "name": "stdout",
     "output_type": "stream",
     "text": [
      "0    65740\n",
      "Name: dealer_busts, dtype: int64\n"
     ]
    }
   ],
   "source": [
    "# When dealer_final <= 21, dealer_busts == 0\n",
    "print (df.dealer_busts[df.dealer_final <= 21].value_counts())"
   ]
  },
  {
   "cell_type": "code",
   "execution_count": 29,
   "metadata": {
    "ExecuteTime": {
     "end_time": "2017-02-14T22:25:42.981233",
     "start_time": "2017-02-14T22:25:42.970175"
    },
    "collapsed": false
   },
   "outputs": [
    {
     "name": "stdout",
     "output_type": "stream",
     "text": [
      "1    28574\n",
      "2    13320\n",
      "3     3290\n",
      "4      483\n",
      "5       54\n",
      "6        4\n",
      "Name: player_num_hits, dtype: int64\n"
     ]
    }
   ],
   "source": [
    "# When player_hit == 1, player_num_hits >= 1\n",
    "print (df.player_num_hits[df.player_hit == 1].value_counts())"
   ]
  },
  {
   "cell_type": "code",
   "execution_count": 30,
   "metadata": {
    "ExecuteTime": {
     "end_time": "2017-02-14T22:25:42.993847",
     "start_time": "2017-02-14T22:25:42.983811"
    },
    "collapsed": false
   },
   "outputs": [
    {
     "name": "stdout",
     "output_type": "stream",
     "text": [
      "1    22435\n",
      "2     8415\n",
      "3     1580\n",
      "4      165\n",
      "5        9\n",
      "Name: dealer_num_hits, dtype: int64\n"
     ]
    }
   ],
   "source": [
    "# When dealer_hit == 1, dealer_num_hits >= 1\n",
    "print (df.dealer_num_hits[df.dealer_hit == 1].value_counts())"
   ]
  },
  {
   "cell_type": "code",
   "execution_count": 31,
   "metadata": {
    "ExecuteTime": {
     "end_time": "2017-02-14T22:25:43.005461",
     "start_time": "2017-02-14T22:25:42.995883"
    },
    "collapsed": false
   },
   "outputs": [
    {
     "data": {
      "text/plain": [
       "0    47396\n",
       "1    32604\n",
       "Name: dealer_hit, dtype: int64"
      ]
     },
     "execution_count": 31,
     "metadata": {},
     "output_type": "execute_result"
    }
   ],
   "source": [
    "df.dealer_hit.value_counts()"
   ]
  },
  {
   "cell_type": "code",
   "execution_count": 32,
   "metadata": {
    "ExecuteTime": {
     "end_time": "2017-02-14T22:25:43.017730",
     "start_time": "2017-02-14T22:25:43.007830"
    },
    "collapsed": false
   },
   "outputs": [
    {
     "data": {
      "text/plain": [
       "0    47396\n",
       "1    22435\n",
       "2     8415\n",
       "3     1580\n",
       "4      165\n",
       "5        9\n",
       "Name: dealer_num_hits, dtype: int64"
      ]
     },
     "execution_count": 32,
     "metadata": {},
     "output_type": "execute_result"
    }
   ],
   "source": [
    "df.dealer_num_hits.value_counts()"
   ]
  },
  {
   "cell_type": "code",
   "execution_count": 33,
   "metadata": {
    "ExecuteTime": {
     "end_time": "2017-02-14T22:25:43.030675",
     "start_time": "2017-02-14T22:25:43.020409"
    },
    "collapsed": false
   },
   "outputs": [
    {
     "data": {
      "text/plain": [
       "1    45725\n",
       "0    34275\n",
       "Name: player_hit, dtype: int64"
      ]
     },
     "execution_count": 33,
     "metadata": {},
     "output_type": "execute_result"
    }
   ],
   "source": [
    "df.player_hit.value_counts()"
   ]
  },
  {
   "cell_type": "code",
   "execution_count": 34,
   "metadata": {
    "ExecuteTime": {
     "end_time": "2017-02-14T22:25:43.044520",
     "start_time": "2017-02-14T22:25:43.034393"
    },
    "collapsed": false
   },
   "outputs": [
    {
     "data": {
      "text/plain": [
       "0    34275\n",
       "1    28574\n",
       "2    13320\n",
       "3     3290\n",
       "4      483\n",
       "5       54\n",
       "6        4\n",
       "Name: player_num_hits, dtype: int64"
      ]
     },
     "execution_count": 34,
     "metadata": {},
     "output_type": "execute_result"
    }
   ],
   "source": [
    "df.player_num_hits.value_counts()"
   ]
  },
  {
   "cell_type": "code",
   "execution_count": 35,
   "metadata": {
    "ExecuteTime": {
     "end_time": "2017-02-14T22:25:43.080529",
     "start_time": "2017-02-14T22:25:43.047527"
    },
    "collapsed": false
   },
   "outputs": [
    {
     "data": {
      "text/html": [
       "<div>\n",
       "<table border=\"1\" class=\"dataframe\">\n",
       "  <thead>\n",
       "    <tr style=\"text-align: right;\">\n",
       "      <th></th>\n",
       "      <th>dealer_final</th>\n",
       "      <th>player_final</th>\n",
       "    </tr>\n",
       "  </thead>\n",
       "  <tbody>\n",
       "    <tr>\n",
       "      <th>count</th>\n",
       "      <td>40000.000000</td>\n",
       "      <td>40000.000000</td>\n",
       "    </tr>\n",
       "    <tr>\n",
       "      <th>mean</th>\n",
       "      <td>17.215700</td>\n",
       "      <td>21.826775</td>\n",
       "    </tr>\n",
       "    <tr>\n",
       "      <th>std</th>\n",
       "      <td>4.517459</td>\n",
       "      <td>3.238932</td>\n",
       "    </tr>\n",
       "    <tr>\n",
       "      <th>min</th>\n",
       "      <td>4.000000</td>\n",
       "      <td>4.000000</td>\n",
       "    </tr>\n",
       "    <tr>\n",
       "      <th>25%</th>\n",
       "      <td>14.000000</td>\n",
       "      <td>20.000000</td>\n",
       "    </tr>\n",
       "    <tr>\n",
       "      <th>50%</th>\n",
       "      <td>18.000000</td>\n",
       "      <td>21.000000</td>\n",
       "    </tr>\n",
       "    <tr>\n",
       "      <th>75%</th>\n",
       "      <td>20.000000</td>\n",
       "      <td>24.000000</td>\n",
       "    </tr>\n",
       "    <tr>\n",
       "      <th>max</th>\n",
       "      <td>26.000000</td>\n",
       "      <td>28.000000</td>\n",
       "    </tr>\n",
       "  </tbody>\n",
       "</table>\n",
       "</div>"
      ],
      "text/plain": [
       "       dealer_final  player_final\n",
       "count  40000.000000  40000.000000\n",
       "mean      17.215700     21.826775\n",
       "std        4.517459      3.238932\n",
       "min        4.000000      4.000000\n",
       "25%       14.000000     20.000000\n",
       "50%       18.000000     21.000000\n",
       "75%       20.000000     24.000000\n",
       "max       26.000000     28.000000"
      ]
     },
     "execution_count": 35,
     "metadata": {},
     "output_type": "execute_result"
    }
   ],
   "source": [
    "df[[\"dealer_final\", \"player_final\"]][df.strategy == 0].describe()"
   ]
  },
  {
   "cell_type": "code",
   "execution_count": 36,
   "metadata": {
    "ExecuteTime": {
     "end_time": "2017-02-14T22:25:43.117665",
     "start_time": "2017-02-14T22:25:43.084716"
    },
    "collapsed": false
   },
   "outputs": [
    {
     "data": {
      "text/html": [
       "<div>\n",
       "<table border=\"1\" class=\"dataframe\">\n",
       "  <thead>\n",
       "    <tr style=\"text-align: right;\">\n",
       "      <th></th>\n",
       "      <th>dealer_final</th>\n",
       "      <th>player_final</th>\n",
       "    </tr>\n",
       "  </thead>\n",
       "  <tbody>\n",
       "    <tr>\n",
       "      <th>count</th>\n",
       "      <td>40000.000000</td>\n",
       "      <td>40000.000000</td>\n",
       "    </tr>\n",
       "    <tr>\n",
       "      <th>mean</th>\n",
       "      <td>18.969350</td>\n",
       "      <td>17.953550</td>\n",
       "    </tr>\n",
       "    <tr>\n",
       "      <th>std</th>\n",
       "      <td>4.026148</td>\n",
       "      <td>3.520391</td>\n",
       "    </tr>\n",
       "    <tr>\n",
       "      <th>min</th>\n",
       "      <td>4.000000</td>\n",
       "      <td>4.000000</td>\n",
       "    </tr>\n",
       "    <tr>\n",
       "      <th>25%</th>\n",
       "      <td>17.000000</td>\n",
       "      <td>15.000000</td>\n",
       "    </tr>\n",
       "    <tr>\n",
       "      <th>50%</th>\n",
       "      <td>19.000000</td>\n",
       "      <td>18.000000</td>\n",
       "    </tr>\n",
       "    <tr>\n",
       "      <th>75%</th>\n",
       "      <td>21.000000</td>\n",
       "      <td>20.000000</td>\n",
       "    </tr>\n",
       "    <tr>\n",
       "      <th>max</th>\n",
       "      <td>26.000000</td>\n",
       "      <td>26.000000</td>\n",
       "    </tr>\n",
       "  </tbody>\n",
       "</table>\n",
       "</div>"
      ],
      "text/plain": [
       "       dealer_final  player_final\n",
       "count  40000.000000  40000.000000\n",
       "mean      18.969350     17.953550\n",
       "std        4.026148      3.520391\n",
       "min        4.000000      4.000000\n",
       "25%       17.000000     15.000000\n",
       "50%       19.000000     18.000000\n",
       "75%       21.000000     20.000000\n",
       "max       26.000000     26.000000"
      ]
     },
     "execution_count": 36,
     "metadata": {},
     "output_type": "execute_result"
    }
   ],
   "source": [
    "df[[\"dealer_final\", \"player_final\"]][df.strategy == 1].describe()"
   ]
  },
  {
   "cell_type": "code",
   "execution_count": null,
   "metadata": {
    "collapsed": false
   },
   "outputs": [],
   "source": []
  },
  {
   "cell_type": "code",
   "execution_count": null,
   "metadata": {
    "collapsed": false
   },
   "outputs": [],
   "source": []
  }
 ],
 "metadata": {
  "anaconda-cloud": {},
  "kernelspec": {
   "display_name": "Python [conda env:py36]",
   "language": "python",
   "name": "conda-env-py36-py"
  },
  "language_info": {
   "codemirror_mode": {
    "name": "ipython",
    "version": 3
   },
   "file_extension": ".py",
   "mimetype": "text/x-python",
   "name": "python",
   "nbconvert_exporter": "python",
   "pygments_lexer": "ipython3",
   "version": "3.6.0"
  },
  "toc": {
   "nav_menu": {
    "height": "228px",
    "width": "252px"
   },
   "navigate_menu": true,
   "number_sections": true,
   "sideBar": true,
   "threshold": 4,
   "toc_cell": false,
   "toc_section_display": "block",
   "toc_window_display": true
  }
 },
 "nbformat": 4,
 "nbformat_minor": 1
}
