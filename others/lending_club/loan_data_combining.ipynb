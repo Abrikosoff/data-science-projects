{
 "cells": [
  {
   "cell_type": "code",
   "execution_count": 45,
   "metadata": {
    "ExecuteTime": {
     "end_time": "2017-04-27T16:54:42.579316Z",
     "start_time": "2017-04-27T16:54:42.574087"
    },
    "collapsed": true
   },
   "outputs": [],
   "source": [
    "import numpy as np\n",
    "import pandas as pd\n",
    "import pickle\n",
    "import os\n",
    "import sqlite3\n",
    "from pandas.io import sql"
   ]
  },
  {
   "cell_type": "code",
   "execution_count": 3,
   "metadata": {
    "ExecuteTime": {
     "end_time": "2017-04-27T16:27:42.050492Z",
     "start_time": "2017-04-27T16:27:41.926411"
    },
    "collapsed": false
   },
   "outputs": [
    {
     "name": "stdout",
     "output_type": "stream",
     "text": [
      "LCDataDictionary.xlsx \u001b[1m\u001b[34mloans\u001b[m\u001b[m                 \u001b[1m\u001b[34mrejects\u001b[m\u001b[m\r\n"
     ]
    }
   ],
   "source": [
    "! ls \"../../../datasets/lending-club/\""
   ]
  },
  {
   "cell_type": "code",
   "execution_count": 8,
   "metadata": {
    "ExecuteTime": {
     "end_time": "2017-04-27T16:28:59.606616Z",
     "start_time": "2017-04-27T16:28:59.602502"
    },
    "collapsed": true
   },
   "outputs": [],
   "source": [
    "path = \"../../../datasets/lending-club/\""
   ]
  },
  {
   "cell_type": "code",
   "execution_count": 9,
   "metadata": {
    "ExecuteTime": {
     "end_time": "2017-04-27T16:29:16.712473Z",
     "start_time": "2017-04-27T16:29:16.705175"
    },
    "collapsed": false
   },
   "outputs": [
    {
     "data": {
      "text/plain": [
       "['LoanStats3a.csv',\n",
       " 'LoanStats3b.csv',\n",
       " 'LoanStats3c.csv',\n",
       " 'LoanStats3d.csv',\n",
       " 'LoanStats_2016Q1.csv',\n",
       " 'LoanStats_2016Q2.csv',\n",
       " 'LoanStats_2016Q3.csv',\n",
       " 'LoanStats_2016Q4.csv']"
      ]
     },
     "execution_count": 9,
     "metadata": {},
     "output_type": "execute_result"
    }
   ],
   "source": [
    "loan_files = os.listdir(path+\"loans/\")\n",
    "loan_files"
   ]
  },
  {
   "cell_type": "code",
   "execution_count": 10,
   "metadata": {
    "ExecuteTime": {
     "end_time": "2017-04-27T16:29:22.198861Z",
     "start_time": "2017-04-27T16:29:22.192162"
    },
    "collapsed": false
   },
   "outputs": [
    {
     "data": {
      "text/plain": [
       "['RejectStats_2016Q1.csv',\n",
       " 'RejectStats_2016Q2.csv',\n",
       " 'RejectStats_2016Q3.csv',\n",
       " 'RejectStats_2016Q4.csv',\n",
       " 'RejectStatsA.csv',\n",
       " 'RejectStatsB.csv',\n",
       " 'RejectStatsD.csv']"
      ]
     },
     "execution_count": 10,
     "metadata": {},
     "output_type": "execute_result"
    }
   ],
   "source": [
    "reject_files = os.listdir(path+\"rejects/\")\n",
    "reject_files"
   ]
  },
  {
   "cell_type": "code",
   "execution_count": 18,
   "metadata": {
    "ExecuteTime": {
     "end_time": "2017-04-27T16:32:28.842653Z",
     "start_time": "2017-04-27T16:32:28.837411"
    },
    "collapsed": true
   },
   "outputs": [],
   "source": [
    "def read_file(name, lr, item):\n",
    "    return pd.read_csv(path+name+lr[0], low_memory=False, skiprows=1)"
   ]
  },
  {
   "cell_type": "markdown",
   "metadata": {},
   "source": [
    "# Loans"
   ]
  },
  {
   "cell_type": "code",
   "execution_count": 25,
   "metadata": {
    "ExecuteTime": {
     "end_time": "2017-04-27T16:33:47.038442Z",
     "start_time": "2017-04-27T16:33:47.032129"
    },
    "collapsed": false
   },
   "outputs": [
    {
     "data": {
      "text/plain": [
       "8"
      ]
     },
     "execution_count": 25,
     "metadata": {},
     "output_type": "execute_result"
    }
   ],
   "source": [
    "len(loan_files)"
   ]
  },
  {
   "cell_type": "code",
   "execution_count": 26,
   "metadata": {
    "ExecuteTime": {
     "end_time": "2017-04-27T16:34:41.735866Z",
     "start_time": "2017-04-27T16:34:32.645009"
    },
    "collapsed": false
   },
   "outputs": [],
   "source": [
    "df1 = read_file(\"loans/\", loan_files, 0)\n",
    "df2 = read_file(\"loans/\", loan_files, 1)\n",
    "df3 = read_file(\"loans/\", loan_files, 2)\n",
    "df4 = read_file(\"loans/\", loan_files, 3)\n",
    "df5 = read_file(\"loans/\", loan_files, 4)\n",
    "df6 = read_file(\"loans/\", loan_files, 5)\n",
    "df7 = read_file(\"loans/\", loan_files, 6)\n",
    "df8 = read_file(\"loans/\", loan_files, 7)"
   ]
  },
  {
   "cell_type": "code",
   "execution_count": 38,
   "metadata": {
    "ExecuteTime": {
     "end_time": "2017-04-27T16:39:14.667901Z",
     "start_time": "2017-04-27T16:39:14.657903"
    },
    "collapsed": false
   },
   "outputs": [
    {
     "data": {
      "text/plain": [
       "True"
      ]
     },
     "execution_count": 38,
     "metadata": {},
     "output_type": "execute_result"
    }
   ],
   "source": [
    "# CHECK THAT OUR COLUMNS ALL HAVE THE SAME NAME AND ARE IN THE SAME ORDER\n",
    "\n",
    "# SET REMOVES DUPLICATES\n",
    "cols = [list(set(i)) for i in zip(df1.columns, df2.columns, df3.columns, df4.columns, \n",
    "           df5.columns, df6.columns, df7.columns, df8.columns)]\n",
    "\n",
    "# CHECK THAT EACH ELEMENT IN COLS ONLY HAS ONE ELEMENT IN IT\n",
    "all([len(i) == 1 for i in cols])"
   ]
  },
  {
   "cell_type": "code",
   "execution_count": 43,
   "metadata": {
    "ExecuteTime": {
     "end_time": "2017-04-27T16:47:47.976660Z",
     "start_time": "2017-04-27T16:47:47.968808"
    },
    "collapsed": false
   },
   "outputs": [
    {
     "data": {
      "text/plain": [
       "340304"
      ]
     },
     "execution_count": 43,
     "metadata": {},
     "output_type": "execute_result"
    }
   ],
   "source": [
    "df1.shape[0]+df2.shape[0]+df3.shape[0]+df4.shape[0]+df5.shape[0]+df6.shape[0]+df7.shape[0]+df8.shape[0]"
   ]
  },
  {
   "cell_type": "code",
   "execution_count": 39,
   "metadata": {
    "ExecuteTime": {
     "end_time": "2017-04-27T16:46:54.780270Z",
     "start_time": "2017-04-27T16:46:54.181436"
    },
    "collapsed": true
   },
   "outputs": [],
   "source": [
    "loan_data = pd.concat([df1, df2, df3, df4, df5, df6, df7, df8])"
   ]
  },
  {
   "cell_type": "code",
   "execution_count": 41,
   "metadata": {
    "ExecuteTime": {
     "end_time": "2017-04-27T16:47:03.622276Z",
     "start_time": "2017-04-27T16:47:03.616672"
    },
    "collapsed": false
   },
   "outputs": [
    {
     "data": {
      "text/plain": [
       "(340304, 111)"
      ]
     },
     "execution_count": 41,
     "metadata": {},
     "output_type": "execute_result"
    }
   ],
   "source": [
    "loan_data.shape"
   ]
  },
  {
   "cell_type": "code",
   "execution_count": 50,
   "metadata": {
    "ExecuteTime": {
     "end_time": "2017-04-27T19:39:01.021657Z",
     "start_time": "2017-04-27T19:39:01.007080"
    },
    "collapsed": false
   },
   "outputs": [
    {
     "name": "stdout",
     "output_type": "stream",
     "text": [
      "<class 'pandas.core.frame.DataFrame'>\n",
      "Int64Index: 340304 entries, 0 to 42537\n",
      "Columns: 111 entries, id to total_il_high_credit_limit\n",
      "dtypes: float64(87), object(24)\n",
      "memory usage: 290.8+ MB\n"
     ]
    }
   ],
   "source": [
    "loan_data.info()"
   ]
  },
  {
   "cell_type": "code",
   "execution_count": 44,
   "metadata": {
    "ExecuteTime": {
     "end_time": "2017-04-27T16:48:27.831224Z",
     "start_time": "2017-04-27T16:48:21.251175"
    },
    "collapsed": true
   },
   "outputs": [],
   "source": [
    "with open(\"loan_data.pkl\", \"wb\") as f:\n",
    "    pickle.dump(loan_data, f)"
   ]
  },
  {
   "cell_type": "code",
   "execution_count": 46,
   "metadata": {
    "ExecuteTime": {
     "end_time": "2017-04-27T16:55:01.633166Z",
     "start_time": "2017-04-27T16:55:01.628780"
    },
    "collapsed": true
   },
   "outputs": [],
   "source": [
    "sqlite_db = 'loan_db.sqlite'\n",
    "conn = sqlite3.connect(sqlite_db)"
   ]
  },
  {
   "cell_type": "code",
   "execution_count": 48,
   "metadata": {
    "ExecuteTime": {
     "end_time": "2017-04-27T16:58:03.068553Z",
     "start_time": "2017-04-27T16:57:15.104741"
    },
    "collapsed": false
   },
   "outputs": [],
   "source": [
    "loan_data.to_sql(\"loan_data\", \n",
    "                 con=conn, \n",
    "                 if_exists=\"replace\", \n",
    "                 index=False)"
   ]
  },
  {
   "cell_type": "code",
   "execution_count": 49,
   "metadata": {
    "ExecuteTime": {
     "end_time": "2017-04-27T16:58:42.597206Z",
     "start_time": "2017-04-27T16:58:42.535184"
    },
    "collapsed": false
   },
   "outputs": [
    {
     "data": {
      "text/html": [
       "<div>\n",
       "<table border=\"1\" class=\"dataframe\">\n",
       "  <thead>\n",
       "    <tr style=\"text-align: right;\">\n",
       "      <th></th>\n",
       "      <th>id</th>\n",
       "      <th>member_id</th>\n",
       "      <th>loan_amnt</th>\n",
       "      <th>funded_amnt</th>\n",
       "      <th>funded_amnt_inv</th>\n",
       "      <th>term</th>\n",
       "      <th>int_rate</th>\n",
       "      <th>installment</th>\n",
       "      <th>grade</th>\n",
       "      <th>sub_grade</th>\n",
       "      <th>...</th>\n",
       "      <th>num_tl_90g_dpd_24m</th>\n",
       "      <th>num_tl_op_past_12m</th>\n",
       "      <th>pct_tl_nvr_dlq</th>\n",
       "      <th>percent_bc_gt_75</th>\n",
       "      <th>pub_rec_bankruptcies</th>\n",
       "      <th>tax_liens</th>\n",
       "      <th>tot_hi_cred_lim</th>\n",
       "      <th>total_bal_ex_mort</th>\n",
       "      <th>total_bc_limit</th>\n",
       "      <th>total_il_high_credit_limit</th>\n",
       "    </tr>\n",
       "  </thead>\n",
       "  <tbody>\n",
       "    <tr>\n",
       "      <th>0</th>\n",
       "      <td>None</td>\n",
       "      <td>None</td>\n",
       "      <td>5000.0</td>\n",
       "      <td>5000.0</td>\n",
       "      <td>4975.0</td>\n",
       "      <td>36 months</td>\n",
       "      <td>10.65%</td>\n",
       "      <td>162.87</td>\n",
       "      <td>B</td>\n",
       "      <td>B2</td>\n",
       "      <td>...</td>\n",
       "      <td>None</td>\n",
       "      <td>None</td>\n",
       "      <td>None</td>\n",
       "      <td>None</td>\n",
       "      <td>0.0</td>\n",
       "      <td>0.0</td>\n",
       "      <td>None</td>\n",
       "      <td>None</td>\n",
       "      <td>None</td>\n",
       "      <td>None</td>\n",
       "    </tr>\n",
       "    <tr>\n",
       "      <th>1</th>\n",
       "      <td>None</td>\n",
       "      <td>None</td>\n",
       "      <td>2500.0</td>\n",
       "      <td>2500.0</td>\n",
       "      <td>2500.0</td>\n",
       "      <td>60 months</td>\n",
       "      <td>15.27%</td>\n",
       "      <td>59.83</td>\n",
       "      <td>C</td>\n",
       "      <td>C4</td>\n",
       "      <td>...</td>\n",
       "      <td>None</td>\n",
       "      <td>None</td>\n",
       "      <td>None</td>\n",
       "      <td>None</td>\n",
       "      <td>0.0</td>\n",
       "      <td>0.0</td>\n",
       "      <td>None</td>\n",
       "      <td>None</td>\n",
       "      <td>None</td>\n",
       "      <td>None</td>\n",
       "    </tr>\n",
       "    <tr>\n",
       "      <th>2</th>\n",
       "      <td>None</td>\n",
       "      <td>None</td>\n",
       "      <td>2400.0</td>\n",
       "      <td>2400.0</td>\n",
       "      <td>2400.0</td>\n",
       "      <td>36 months</td>\n",
       "      <td>15.96%</td>\n",
       "      <td>84.33</td>\n",
       "      <td>C</td>\n",
       "      <td>C5</td>\n",
       "      <td>...</td>\n",
       "      <td>None</td>\n",
       "      <td>None</td>\n",
       "      <td>None</td>\n",
       "      <td>None</td>\n",
       "      <td>0.0</td>\n",
       "      <td>0.0</td>\n",
       "      <td>None</td>\n",
       "      <td>None</td>\n",
       "      <td>None</td>\n",
       "      <td>None</td>\n",
       "    </tr>\n",
       "    <tr>\n",
       "      <th>3</th>\n",
       "      <td>None</td>\n",
       "      <td>None</td>\n",
       "      <td>10000.0</td>\n",
       "      <td>10000.0</td>\n",
       "      <td>10000.0</td>\n",
       "      <td>36 months</td>\n",
       "      <td>13.49%</td>\n",
       "      <td>339.31</td>\n",
       "      <td>C</td>\n",
       "      <td>C1</td>\n",
       "      <td>...</td>\n",
       "      <td>None</td>\n",
       "      <td>None</td>\n",
       "      <td>None</td>\n",
       "      <td>None</td>\n",
       "      <td>0.0</td>\n",
       "      <td>0.0</td>\n",
       "      <td>None</td>\n",
       "      <td>None</td>\n",
       "      <td>None</td>\n",
       "      <td>None</td>\n",
       "    </tr>\n",
       "    <tr>\n",
       "      <th>4</th>\n",
       "      <td>None</td>\n",
       "      <td>None</td>\n",
       "      <td>3000.0</td>\n",
       "      <td>3000.0</td>\n",
       "      <td>3000.0</td>\n",
       "      <td>60 months</td>\n",
       "      <td>12.69%</td>\n",
       "      <td>67.79</td>\n",
       "      <td>B</td>\n",
       "      <td>B5</td>\n",
       "      <td>...</td>\n",
       "      <td>None</td>\n",
       "      <td>None</td>\n",
       "      <td>None</td>\n",
       "      <td>None</td>\n",
       "      <td>0.0</td>\n",
       "      <td>0.0</td>\n",
       "      <td>None</td>\n",
       "      <td>None</td>\n",
       "      <td>None</td>\n",
       "      <td>None</td>\n",
       "    </tr>\n",
       "  </tbody>\n",
       "</table>\n",
       "<p>5 rows × 111 columns</p>\n",
       "</div>"
      ],
      "text/plain": [
       "     id member_id  loan_amnt  funded_amnt  funded_amnt_inv        term  \\\n",
       "0  None      None     5000.0       5000.0           4975.0   36 months   \n",
       "1  None      None     2500.0       2500.0           2500.0   60 months   \n",
       "2  None      None     2400.0       2400.0           2400.0   36 months   \n",
       "3  None      None    10000.0      10000.0          10000.0   36 months   \n",
       "4  None      None     3000.0       3000.0           3000.0   60 months   \n",
       "\n",
       "  int_rate  installment grade sub_grade            ...              \\\n",
       "0   10.65%       162.87     B        B2            ...               \n",
       "1   15.27%        59.83     C        C4            ...               \n",
       "2   15.96%        84.33     C        C5            ...               \n",
       "3   13.49%       339.31     C        C1            ...               \n",
       "4   12.69%        67.79     B        B5            ...               \n",
       "\n",
       "  num_tl_90g_dpd_24m num_tl_op_past_12m pct_tl_nvr_dlq  percent_bc_gt_75  \\\n",
       "0               None               None           None              None   \n",
       "1               None               None           None              None   \n",
       "2               None               None           None              None   \n",
       "3               None               None           None              None   \n",
       "4               None               None           None              None   \n",
       "\n",
       "  pub_rec_bankruptcies tax_liens tot_hi_cred_lim total_bal_ex_mort  \\\n",
       "0                  0.0       0.0            None              None   \n",
       "1                  0.0       0.0            None              None   \n",
       "2                  0.0       0.0            None              None   \n",
       "3                  0.0       0.0            None              None   \n",
       "4                  0.0       0.0            None              None   \n",
       "\n",
       "  total_bc_limit total_il_high_credit_limit  \n",
       "0           None                       None  \n",
       "1           None                       None  \n",
       "2           None                       None  \n",
       "3           None                       None  \n",
       "4           None                       None  \n",
       "\n",
       "[5 rows x 111 columns]"
      ]
     },
     "execution_count": 49,
     "metadata": {},
     "output_type": "execute_result"
    }
   ],
   "source": [
    "sql.read_sql(\"select * from loan_data limit 5\", con=conn)"
   ]
  },
  {
   "cell_type": "markdown",
   "metadata": {},
   "source": [
    "## Rejections"
   ]
  },
  {
   "cell_type": "code",
   "execution_count": 57,
   "metadata": {
    "ExecuteTime": {
     "end_time": "2017-04-27T19:41:32.170908Z",
     "start_time": "2017-04-27T19:41:32.165449"
    },
    "collapsed": false
   },
   "outputs": [
    {
     "data": {
      "text/plain": [
       "7"
      ]
     },
     "execution_count": 57,
     "metadata": {},
     "output_type": "execute_result"
    }
   ],
   "source": [
    "len(reject_files)"
   ]
  },
  {
   "cell_type": "code",
   "execution_count": 60,
   "metadata": {
    "ExecuteTime": {
     "end_time": "2017-04-27T19:43:22.089174Z",
     "start_time": "2017-04-27T19:43:11.753912"
    },
    "collapsed": true
   },
   "outputs": [],
   "source": [
    "r1 = read_file(\"rejects/\", reject_files, 0)\n",
    "r2 = read_file(\"rejects/\", reject_files, 1)\n",
    "r3 = read_file(\"rejects/\", reject_files, 2)\n",
    "r4 = read_file(\"rejects/\", reject_files, 3)\n",
    "r5 = read_file(\"rejects/\", reject_files, 4)\n",
    "r6 = read_file(\"rejects/\", reject_files, 5)\n",
    "r7 = read_file(\"rejects/\", reject_files, 6)"
   ]
  },
  {
   "cell_type": "code",
   "execution_count": 62,
   "metadata": {
    "ExecuteTime": {
     "end_time": "2017-04-27T19:44:09.540611Z",
     "start_time": "2017-04-27T19:44:09.530784"
    },
    "collapsed": false
   },
   "outputs": [
    {
     "data": {
      "text/plain": [
       "True"
      ]
     },
     "execution_count": 62,
     "metadata": {},
     "output_type": "execute_result"
    }
   ],
   "source": [
    "# CHECK THAT OUR COLUMNS ALL HAVE THE SAME NAME AND ARE IN THE SAME ORDER\n",
    "\n",
    "# SET REMOVES DUPLICATES\n",
    "rcols = [list(set(i)) for i in zip(r1.columns, r2.columns, r3.columns, \n",
    "                                   r4.columns, r5.columns, r6.columns, r7.columns)]\n",
    "\n",
    "# CHECK THAT EACH ELEMENT IN COLS ONLY HAS ONE ELEMENT IN IT\n",
    "all([len(i) == 1 for i in rcols])"
   ]
  },
  {
   "cell_type": "code",
   "execution_count": 61,
   "metadata": {
    "ExecuteTime": {
     "end_time": "2017-04-27T19:43:24.145826Z",
     "start_time": "2017-04-27T19:43:24.138570"
    },
    "collapsed": false
   },
   "outputs": [
    {
     "data": {
      "text/plain": [
       "7673428"
      ]
     },
     "execution_count": 61,
     "metadata": {},
     "output_type": "execute_result"
    }
   ],
   "source": [
    "r1.shape[0]+r2.shape[0]+r3.shape[0]+r4.shape[0]+r5.shape[0]+r6.shape[0]+r7.shape[0]"
   ]
  },
  {
   "cell_type": "code",
   "execution_count": 63,
   "metadata": {
    "ExecuteTime": {
     "end_time": "2017-04-27T19:44:35.202285Z",
     "start_time": "2017-04-27T19:44:33.970248"
    },
    "collapsed": true
   },
   "outputs": [],
   "source": [
    "reject_data = pd.concat([r1,r2,r3,r4,r5,r6,r7])"
   ]
  },
  {
   "cell_type": "code",
   "execution_count": 68,
   "metadata": {
    "ExecuteTime": {
     "end_time": "2017-04-27T19:47:34.497646Z",
     "start_time": "2017-04-27T19:47:34.493160"
    },
    "collapsed": true
   },
   "outputs": [],
   "source": [
    "reject_data.columns = [i.lower().replace(\" \", \"_\").replace(\"-\", \"_\") for i in reject_data.columns]"
   ]
  },
  {
   "cell_type": "code",
   "execution_count": 69,
   "metadata": {
    "ExecuteTime": {
     "end_time": "2017-04-27T19:47:35.147511Z",
     "start_time": "2017-04-27T19:47:35.125914"
    },
    "collapsed": false
   },
   "outputs": [
    {
     "data": {
      "text/html": [
       "<div>\n",
       "<table border=\"1\" class=\"dataframe\">\n",
       "  <thead>\n",
       "    <tr style=\"text-align: right;\">\n",
       "      <th></th>\n",
       "      <th>amount_requested</th>\n",
       "      <th>application_date</th>\n",
       "      <th>loan_title</th>\n",
       "      <th>risk_score</th>\n",
       "      <th>debt_to_income_ratio</th>\n",
       "      <th>zip_code</th>\n",
       "      <th>state</th>\n",
       "      <th>employment_length</th>\n",
       "      <th>policy_code</th>\n",
       "    </tr>\n",
       "  </thead>\n",
       "  <tbody>\n",
       "    <tr>\n",
       "      <th>0</th>\n",
       "      <td>35000.0</td>\n",
       "      <td>2016-01-01</td>\n",
       "      <td>credit_card</td>\n",
       "      <td>NaN</td>\n",
       "      <td>100%</td>\n",
       "      <td>708xx</td>\n",
       "      <td>LA</td>\n",
       "      <td>&lt; 1 year</td>\n",
       "      <td>0</td>\n",
       "    </tr>\n",
       "    <tr>\n",
       "      <th>1</th>\n",
       "      <td>7500.0</td>\n",
       "      <td>2016-01-01</td>\n",
       "      <td>debt_consolidation</td>\n",
       "      <td>NaN</td>\n",
       "      <td>1.52%</td>\n",
       "      <td>423xx</td>\n",
       "      <td>KY</td>\n",
       "      <td>&lt; 1 year</td>\n",
       "      <td>0</td>\n",
       "    </tr>\n",
       "    <tr>\n",
       "      <th>2</th>\n",
       "      <td>25000.0</td>\n",
       "      <td>2016-01-01</td>\n",
       "      <td>debt_consolidation</td>\n",
       "      <td>NaN</td>\n",
       "      <td>95.85%</td>\n",
       "      <td>731xx</td>\n",
       "      <td>OK</td>\n",
       "      <td>&lt; 1 year</td>\n",
       "      <td>0</td>\n",
       "    </tr>\n",
       "    <tr>\n",
       "      <th>3</th>\n",
       "      <td>3500.0</td>\n",
       "      <td>2016-01-01</td>\n",
       "      <td>moving</td>\n",
       "      <td>NaN</td>\n",
       "      <td>10.12%</td>\n",
       "      <td>068xx</td>\n",
       "      <td>CT</td>\n",
       "      <td>&lt; 1 year</td>\n",
       "      <td>0</td>\n",
       "    </tr>\n",
       "    <tr>\n",
       "      <th>4</th>\n",
       "      <td>35000.0</td>\n",
       "      <td>2016-01-01</td>\n",
       "      <td>credit_card</td>\n",
       "      <td>621.0</td>\n",
       "      <td>1867.45%</td>\n",
       "      <td>770xx</td>\n",
       "      <td>TX</td>\n",
       "      <td>&lt; 1 year</td>\n",
       "      <td>0</td>\n",
       "    </tr>\n",
       "  </tbody>\n",
       "</table>\n",
       "</div>"
      ],
      "text/plain": [
       "   amount_requested application_date          loan_title  risk_score  \\\n",
       "0           35000.0       2016-01-01         credit_card         NaN   \n",
       "1            7500.0       2016-01-01  debt_consolidation         NaN   \n",
       "2           25000.0       2016-01-01  debt_consolidation         NaN   \n",
       "3            3500.0       2016-01-01              moving         NaN   \n",
       "4           35000.0       2016-01-01         credit_card       621.0   \n",
       "\n",
       "  debt_to_income_ratio zip_code state employment_length  policy_code  \n",
       "0                 100%    708xx    LA          < 1 year            0  \n",
       "1                1.52%    423xx    KY          < 1 year            0  \n",
       "2               95.85%    731xx    OK          < 1 year            0  \n",
       "3               10.12%    068xx    CT          < 1 year            0  \n",
       "4             1867.45%    770xx    TX          < 1 year            0  "
      ]
     },
     "execution_count": 69,
     "metadata": {},
     "output_type": "execute_result"
    }
   ],
   "source": [
    "reject_data.head()"
   ]
  },
  {
   "cell_type": "code",
   "execution_count": 70,
   "metadata": {
    "ExecuteTime": {
     "end_time": "2017-04-27T19:47:51.924457Z",
     "start_time": "2017-04-27T19:47:39.820392"
    },
    "collapsed": true
   },
   "outputs": [],
   "source": [
    "with open(\"reject_data.pkl\", \"wb\") as f:\n",
    "    pickle.dump(reject_data, f)"
   ]
  },
  {
   "cell_type": "code",
   "execution_count": 71,
   "metadata": {
    "ExecuteTime": {
     "end_time": "2017-04-27T19:50:10.903033Z",
     "start_time": "2017-04-27T19:48:50.168791"
    },
    "collapsed": false
   },
   "outputs": [],
   "source": [
    "reject_data.to_sql(\"reject_data\", \n",
    "                 con=conn, \n",
    "                 if_exists=\"replace\", \n",
    "                 index=False)"
   ]
  },
  {
   "cell_type": "code",
   "execution_count": 72,
   "metadata": {
    "ExecuteTime": {
     "end_time": "2017-04-27T19:50:20.071611Z",
     "start_time": "2017-04-27T19:50:20.047230"
    },
    "collapsed": false
   },
   "outputs": [
    {
     "data": {
      "text/html": [
       "<div>\n",
       "<table border=\"1\" class=\"dataframe\">\n",
       "  <thead>\n",
       "    <tr style=\"text-align: right;\">\n",
       "      <th></th>\n",
       "      <th>amount_requested</th>\n",
       "      <th>application_date</th>\n",
       "      <th>loan_title</th>\n",
       "      <th>risk_score</th>\n",
       "      <th>debt_to_income_ratio</th>\n",
       "      <th>zip_code</th>\n",
       "      <th>state</th>\n",
       "      <th>employment_length</th>\n",
       "      <th>policy_code</th>\n",
       "    </tr>\n",
       "  </thead>\n",
       "  <tbody>\n",
       "    <tr>\n",
       "      <th>0</th>\n",
       "      <td>35000.0</td>\n",
       "      <td>2016-01-01</td>\n",
       "      <td>credit_card</td>\n",
       "      <td>NaN</td>\n",
       "      <td>100%</td>\n",
       "      <td>708xx</td>\n",
       "      <td>LA</td>\n",
       "      <td>&lt; 1 year</td>\n",
       "      <td>0</td>\n",
       "    </tr>\n",
       "    <tr>\n",
       "      <th>1</th>\n",
       "      <td>7500.0</td>\n",
       "      <td>2016-01-01</td>\n",
       "      <td>debt_consolidation</td>\n",
       "      <td>NaN</td>\n",
       "      <td>1.52%</td>\n",
       "      <td>423xx</td>\n",
       "      <td>KY</td>\n",
       "      <td>&lt; 1 year</td>\n",
       "      <td>0</td>\n",
       "    </tr>\n",
       "    <tr>\n",
       "      <th>2</th>\n",
       "      <td>25000.0</td>\n",
       "      <td>2016-01-01</td>\n",
       "      <td>debt_consolidation</td>\n",
       "      <td>NaN</td>\n",
       "      <td>95.85%</td>\n",
       "      <td>731xx</td>\n",
       "      <td>OK</td>\n",
       "      <td>&lt; 1 year</td>\n",
       "      <td>0</td>\n",
       "    </tr>\n",
       "    <tr>\n",
       "      <th>3</th>\n",
       "      <td>3500.0</td>\n",
       "      <td>2016-01-01</td>\n",
       "      <td>moving</td>\n",
       "      <td>NaN</td>\n",
       "      <td>10.12%</td>\n",
       "      <td>068xx</td>\n",
       "      <td>CT</td>\n",
       "      <td>&lt; 1 year</td>\n",
       "      <td>0</td>\n",
       "    </tr>\n",
       "    <tr>\n",
       "      <th>4</th>\n",
       "      <td>35000.0</td>\n",
       "      <td>2016-01-01</td>\n",
       "      <td>credit_card</td>\n",
       "      <td>621.0</td>\n",
       "      <td>1867.45%</td>\n",
       "      <td>770xx</td>\n",
       "      <td>TX</td>\n",
       "      <td>&lt; 1 year</td>\n",
       "      <td>0</td>\n",
       "    </tr>\n",
       "  </tbody>\n",
       "</table>\n",
       "</div>"
      ],
      "text/plain": [
       "   amount_requested application_date          loan_title  risk_score  \\\n",
       "0           35000.0       2016-01-01         credit_card         NaN   \n",
       "1            7500.0       2016-01-01  debt_consolidation         NaN   \n",
       "2           25000.0       2016-01-01  debt_consolidation         NaN   \n",
       "3            3500.0       2016-01-01              moving         NaN   \n",
       "4           35000.0       2016-01-01         credit_card       621.0   \n",
       "\n",
       "  debt_to_income_ratio zip_code state employment_length  policy_code  \n",
       "0                 100%    708xx    LA          < 1 year            0  \n",
       "1                1.52%    423xx    KY          < 1 year            0  \n",
       "2               95.85%    731xx    OK          < 1 year            0  \n",
       "3               10.12%    068xx    CT          < 1 year            0  \n",
       "4             1867.45%    770xx    TX          < 1 year            0  "
      ]
     },
     "execution_count": 72,
     "metadata": {},
     "output_type": "execute_result"
    }
   ],
   "source": [
    "sql.read_sql(\"select * from reject_data limit 5\", con=conn)"
   ]
  },
  {
   "cell_type": "code",
   "execution_count": null,
   "metadata": {
    "collapsed": true
   },
   "outputs": [],
   "source": []
  }
 ],
 "metadata": {
  "kernelspec": {
   "display_name": "Python 3",
   "language": "python",
   "name": "python3"
  },
  "language_info": {
   "codemirror_mode": {
    "name": "ipython",
    "version": 3
   },
   "file_extension": ".py",
   "mimetype": "text/x-python",
   "name": "python",
   "nbconvert_exporter": "python",
   "pygments_lexer": "ipython3",
   "version": "3.6.0"
  },
  "toc": {
   "colors": {
    "hover_highlight": "#DAA520",
    "running_highlight": "#FF0000",
    "selected_highlight": "#FFD700"
   },
   "moveMenuLeft": true,
   "nav_menu": {
    "height": "48px",
    "width": "252px"
   },
   "navigate_menu": true,
   "number_sections": true,
   "sideBar": true,
   "threshold": 4,
   "toc_cell": false,
   "toc_section_display": "block",
   "toc_window_display": false,
   "widenNotebook": false
  }
 },
 "nbformat": 4,
 "nbformat_minor": 2
}
