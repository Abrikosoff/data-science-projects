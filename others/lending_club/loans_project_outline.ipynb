{
 "cells": [
  {
   "cell_type": "code",
   "execution_count": 1,
   "metadata": {
    "ExecuteTime": {
     "end_time": "2017-05-02T06:56:12.187243Z",
     "start_time": "2017-05-02T06:56:00.857018Z"
    },
    "collapsed": true
   },
   "outputs": [],
   "source": [
    "import numpy as np\n",
    "import pandas as pd\n",
    "import matplotlib.pyplot as plt\n",
    "import seaborn as sns\n",
    "import pickle\n",
    "\n",
    "from sklearn import preprocessing, model_selection, metrics\n",
    "from sklearn import linear_model, naive_bayes, ensemble\n",
    "# from keras.models import Sequential\n",
    "# from keras.layers import Dense, Activation \n",
    "\n",
    "%matplotlib inline\n",
    "\n",
    "plt.rcParams[\"figure.figsize\"] = (10,8)\n",
    "plt.rcParams[\"axes.titlesize\"] = 15\n",
    "pd.set_option(\"max_colwidth\", 0)"
   ]
  },
  {
   "cell_type": "code",
   "execution_count": 2,
   "metadata": {
    "ExecuteTime": {
     "end_time": "2017-05-02T06:57:31.873958Z",
     "start_time": "2017-05-02T06:57:31.643186Z"
    }
   },
   "outputs": [
    {
     "name": "stdout",
     "output_type": "stream",
     "text": [
      "LCDataDictionary.xlsx \u001b[1m\u001b[34mloans\u001b[m\u001b[m                 \u001b[1m\u001b[34mrejects\u001b[m\u001b[m\r\n"
     ]
    }
   ],
   "source": [
    "! ls \"../../../datasets/lending-club/\""
   ]
  },
  {
   "cell_type": "code",
   "execution_count": 3,
   "metadata": {
    "ExecuteTime": {
     "end_time": "2017-05-02T06:57:37.668691Z",
     "start_time": "2017-05-02T06:57:37.401055Z"
    },
    "scrolled": false
   },
   "outputs": [
    {
     "data": {
      "text/html": [
       "<div>\n",
       "<table border=\"1\" class=\"dataframe\">\n",
       "  <thead>\n",
       "    <tr style=\"text-align: right;\">\n",
       "      <th></th>\n",
       "      <th>LoanStatNew</th>\n",
       "      <th>Description</th>\n",
       "    </tr>\n",
       "  </thead>\n",
       "  <tbody>\n",
       "    <tr>\n",
       "      <th>0</th>\n",
       "      <td>acc_now_delinq</td>\n",
       "      <td>The number of accounts on which the borrower is now delinquent.</td>\n",
       "    </tr>\n",
       "    <tr>\n",
       "      <th>1</th>\n",
       "      <td>acc_open_past_24mths</td>\n",
       "      <td>Number of trades opened in past 24 months.</td>\n",
       "    </tr>\n",
       "    <tr>\n",
       "      <th>2</th>\n",
       "      <td>addr_state</td>\n",
       "      <td>The state provided by the borrower in the loan application</td>\n",
       "    </tr>\n",
       "    <tr>\n",
       "      <th>3</th>\n",
       "      <td>all_util</td>\n",
       "      <td>Balance to credit limit on all trades</td>\n",
       "    </tr>\n",
       "    <tr>\n",
       "      <th>4</th>\n",
       "      <td>annual_inc</td>\n",
       "      <td>The self-reported annual income provided by the borrower during registration.</td>\n",
       "    </tr>\n",
       "    <tr>\n",
       "      <th>5</th>\n",
       "      <td>annual_inc_joint</td>\n",
       "      <td>The combined self-reported annual income provided by the co-borrowers during registration</td>\n",
       "    </tr>\n",
       "    <tr>\n",
       "      <th>6</th>\n",
       "      <td>application_type</td>\n",
       "      <td>Indicates whether the loan is an individual application or a joint application with two co-borrowers</td>\n",
       "    </tr>\n",
       "    <tr>\n",
       "      <th>7</th>\n",
       "      <td>avg_cur_bal</td>\n",
       "      <td>Average current balance of all accounts</td>\n",
       "    </tr>\n",
       "    <tr>\n",
       "      <th>8</th>\n",
       "      <td>bc_open_to_buy</td>\n",
       "      <td>Total open to buy on revolving bankcards.</td>\n",
       "    </tr>\n",
       "    <tr>\n",
       "      <th>9</th>\n",
       "      <td>bc_util</td>\n",
       "      <td>Ratio of total current balance to high credit/credit limit for all bankcard accounts.</td>\n",
       "    </tr>\n",
       "    <tr>\n",
       "      <th>10</th>\n",
       "      <td>chargeoff_within_12_mths</td>\n",
       "      <td>Number of charge-offs within 12 months</td>\n",
       "    </tr>\n",
       "    <tr>\n",
       "      <th>11</th>\n",
       "      <td>collection_recovery_fee</td>\n",
       "      <td>post charge off collection fee</td>\n",
       "    </tr>\n",
       "    <tr>\n",
       "      <th>12</th>\n",
       "      <td>collections_12_mths_ex_med</td>\n",
       "      <td>Number of collections in 12 months excluding medical collections</td>\n",
       "    </tr>\n",
       "    <tr>\n",
       "      <th>13</th>\n",
       "      <td>delinq_2yrs</td>\n",
       "      <td>The number of 30+ days past-due incidences of delinquency in the borrower's credit file for the past 2 years</td>\n",
       "    </tr>\n",
       "    <tr>\n",
       "      <th>14</th>\n",
       "      <td>delinq_amnt</td>\n",
       "      <td>The past-due amount owed for the accounts on which the borrower is now delinquent.</td>\n",
       "    </tr>\n",
       "    <tr>\n",
       "      <th>15</th>\n",
       "      <td>desc</td>\n",
       "      <td>Loan description provided by the borrower</td>\n",
       "    </tr>\n",
       "    <tr>\n",
       "      <th>16</th>\n",
       "      <td>dti</td>\n",
       "      <td>A ratio calculated using the borrower’s total monthly debt payments on the total debt obligations, excluding mortgage and the requested LC loan, divided by the borrower’s self-reported monthly income.</td>\n",
       "    </tr>\n",
       "    <tr>\n",
       "      <th>17</th>\n",
       "      <td>dti_joint</td>\n",
       "      <td>A ratio calculated using the co-borrowers' total monthly payments on the total debt obligations, excluding mortgages and the requested LC loan, divided by the co-borrowers' combined self-reported monthly income</td>\n",
       "    </tr>\n",
       "    <tr>\n",
       "      <th>18</th>\n",
       "      <td>earliest_cr_line</td>\n",
       "      <td>The month the borrower's earliest reported credit line was opened</td>\n",
       "    </tr>\n",
       "    <tr>\n",
       "      <th>19</th>\n",
       "      <td>emp_length</td>\n",
       "      <td>Employment length in years. Possible values are between 0 and 10 where 0 means less than one year and 10 means ten or more years.</td>\n",
       "    </tr>\n",
       "    <tr>\n",
       "      <th>20</th>\n",
       "      <td>emp_title</td>\n",
       "      <td>The job title supplied by the Borrower when applying for the loan.*</td>\n",
       "    </tr>\n",
       "    <tr>\n",
       "      <th>21</th>\n",
       "      <td>fico_range_high</td>\n",
       "      <td>The upper boundary range the borrower’s FICO at loan origination belongs to.</td>\n",
       "    </tr>\n",
       "    <tr>\n",
       "      <th>22</th>\n",
       "      <td>fico_range_low</td>\n",
       "      <td>The lower boundary range the borrower’s FICO at loan origination belongs to.</td>\n",
       "    </tr>\n",
       "    <tr>\n",
       "      <th>23</th>\n",
       "      <td>funded_amnt</td>\n",
       "      <td>The total amount committed to that loan at that point in time.</td>\n",
       "    </tr>\n",
       "    <tr>\n",
       "      <th>24</th>\n",
       "      <td>funded_amnt_inv</td>\n",
       "      <td>The total amount committed by investors for that loan at that point in time.</td>\n",
       "    </tr>\n",
       "    <tr>\n",
       "      <th>25</th>\n",
       "      <td>grade</td>\n",
       "      <td>LC assigned loan grade</td>\n",
       "    </tr>\n",
       "    <tr>\n",
       "      <th>26</th>\n",
       "      <td>home_ownership</td>\n",
       "      <td>The home ownership status provided by the borrower during registration. Our values are: RENT, OWN, MORTGAGE, OTHER.</td>\n",
       "    </tr>\n",
       "    <tr>\n",
       "      <th>27</th>\n",
       "      <td>id</td>\n",
       "      <td>A unique LC assigned ID for the loan listing.</td>\n",
       "    </tr>\n",
       "    <tr>\n",
       "      <th>28</th>\n",
       "      <td>il_util</td>\n",
       "      <td>Ratio of total current balance to high credit/credit limit on all install acct</td>\n",
       "    </tr>\n",
       "    <tr>\n",
       "      <th>29</th>\n",
       "      <td>initial_list_status</td>\n",
       "      <td>The initial listing status of the loan. Possible values are – W, F</td>\n",
       "    </tr>\n",
       "    <tr>\n",
       "      <th>...</th>\n",
       "      <td>...</td>\n",
       "      <td>...</td>\n",
       "    </tr>\n",
       "    <tr>\n",
       "      <th>87</th>\n",
       "      <td>purpose</td>\n",
       "      <td>A category provided by the borrower for the loan request.</td>\n",
       "    </tr>\n",
       "    <tr>\n",
       "      <th>88</th>\n",
       "      <td>pymnt_plan</td>\n",
       "      <td>Indicates if a payment plan has been put in place for the loan</td>\n",
       "    </tr>\n",
       "    <tr>\n",
       "      <th>89</th>\n",
       "      <td>recoveries</td>\n",
       "      <td>post charge off gross recovery</td>\n",
       "    </tr>\n",
       "    <tr>\n",
       "      <th>90</th>\n",
       "      <td>revol_bal</td>\n",
       "      <td>Total credit revolving balance</td>\n",
       "    </tr>\n",
       "    <tr>\n",
       "      <th>91</th>\n",
       "      <td>revol_util</td>\n",
       "      <td>Revolving line utilization rate, or the amount of credit the borrower is using relative to all available revolving credit.</td>\n",
       "    </tr>\n",
       "    <tr>\n",
       "      <th>92</th>\n",
       "      <td>sub_grade</td>\n",
       "      <td>LC assigned loan subgrade</td>\n",
       "    </tr>\n",
       "    <tr>\n",
       "      <th>93</th>\n",
       "      <td>tax_liens</td>\n",
       "      <td>Number of tax liens</td>\n",
       "    </tr>\n",
       "    <tr>\n",
       "      <th>94</th>\n",
       "      <td>term</td>\n",
       "      <td>The number of payments on the loan. Values are in months and can be either 36 or 60.</td>\n",
       "    </tr>\n",
       "    <tr>\n",
       "      <th>95</th>\n",
       "      <td>title</td>\n",
       "      <td>The loan title provided by the borrower</td>\n",
       "    </tr>\n",
       "    <tr>\n",
       "      <th>96</th>\n",
       "      <td>tot_coll_amt</td>\n",
       "      <td>Total collection amounts ever owed</td>\n",
       "    </tr>\n",
       "    <tr>\n",
       "      <th>97</th>\n",
       "      <td>tot_cur_bal</td>\n",
       "      <td>Total current balance of all accounts</td>\n",
       "    </tr>\n",
       "    <tr>\n",
       "      <th>98</th>\n",
       "      <td>tot_hi_cred_lim</td>\n",
       "      <td>Total high credit/credit limit</td>\n",
       "    </tr>\n",
       "    <tr>\n",
       "      <th>99</th>\n",
       "      <td>total_acc</td>\n",
       "      <td>The total number of credit lines currently in the borrower's credit file</td>\n",
       "    </tr>\n",
       "    <tr>\n",
       "      <th>100</th>\n",
       "      <td>total_bal_ex_mort</td>\n",
       "      <td>Total credit balance excluding mortgage</td>\n",
       "    </tr>\n",
       "    <tr>\n",
       "      <th>101</th>\n",
       "      <td>total_bal_il</td>\n",
       "      <td>Total current balance of all installment accounts</td>\n",
       "    </tr>\n",
       "    <tr>\n",
       "      <th>102</th>\n",
       "      <td>total_bc_limit</td>\n",
       "      <td>Total bankcard high credit/credit limit</td>\n",
       "    </tr>\n",
       "    <tr>\n",
       "      <th>103</th>\n",
       "      <td>total_cu_tl</td>\n",
       "      <td>Number of finance trades</td>\n",
       "    </tr>\n",
       "    <tr>\n",
       "      <th>104</th>\n",
       "      <td>total_il_high_credit_limit</td>\n",
       "      <td>Total installment high credit/credit limit</td>\n",
       "    </tr>\n",
       "    <tr>\n",
       "      <th>105</th>\n",
       "      <td>total_pymnt</td>\n",
       "      <td>Payments received to date for total amount funded</td>\n",
       "    </tr>\n",
       "    <tr>\n",
       "      <th>106</th>\n",
       "      <td>total_pymnt_inv</td>\n",
       "      <td>Payments received to date for portion of total amount funded by investors</td>\n",
       "    </tr>\n",
       "    <tr>\n",
       "      <th>107</th>\n",
       "      <td>total_rec_int</td>\n",
       "      <td>Interest received to date</td>\n",
       "    </tr>\n",
       "    <tr>\n",
       "      <th>108</th>\n",
       "      <td>total_rec_late_fee</td>\n",
       "      <td>Late fees received to date</td>\n",
       "    </tr>\n",
       "    <tr>\n",
       "      <th>109</th>\n",
       "      <td>total_rec_prncp</td>\n",
       "      <td>Principal received to date</td>\n",
       "    </tr>\n",
       "    <tr>\n",
       "      <th>110</th>\n",
       "      <td>total_rev_hi_lim</td>\n",
       "      <td>Total revolving high credit/credit limit</td>\n",
       "    </tr>\n",
       "    <tr>\n",
       "      <th>111</th>\n",
       "      <td>url</td>\n",
       "      <td>URL for the LC page with listing data.</td>\n",
       "    </tr>\n",
       "    <tr>\n",
       "      <th>112</th>\n",
       "      <td>verification_status</td>\n",
       "      <td>Indicates if income was verified by LC, not verified, or if the income source was verified</td>\n",
       "    </tr>\n",
       "    <tr>\n",
       "      <th>113</th>\n",
       "      <td>verified_status_joint</td>\n",
       "      <td>Indicates if the co-borrowers' joint income was verified by LC, not verified, or if the income source was verified</td>\n",
       "    </tr>\n",
       "    <tr>\n",
       "      <th>114</th>\n",
       "      <td>zip_code</td>\n",
       "      <td>The first 3 numbers of the zip code provided by the borrower in the loan application.</td>\n",
       "    </tr>\n",
       "    <tr>\n",
       "      <th>115</th>\n",
       "      <td>NaN</td>\n",
       "      <td>NaN</td>\n",
       "    </tr>\n",
       "    <tr>\n",
       "      <th>116</th>\n",
       "      <td>NaN</td>\n",
       "      <td>* Employer Title replaces Employer Name for all loans listed after 9/23/2013</td>\n",
       "    </tr>\n",
       "  </tbody>\n",
       "</table>\n",
       "<p>117 rows × 2 columns</p>\n",
       "</div>"
      ],
      "text/plain": [
       "                    LoanStatNew  \\\n",
       "0    acc_now_delinq               \n",
       "1    acc_open_past_24mths         \n",
       "2    addr_state                   \n",
       "3    all_util                     \n",
       "4    annual_inc                   \n",
       "5    annual_inc_joint             \n",
       "6    application_type             \n",
       "7    avg_cur_bal                  \n",
       "8    bc_open_to_buy               \n",
       "9    bc_util                      \n",
       "10   chargeoff_within_12_mths     \n",
       "11   collection_recovery_fee      \n",
       "12   collections_12_mths_ex_med   \n",
       "13   delinq_2yrs                  \n",
       "14   delinq_amnt                  \n",
       "15   desc                         \n",
       "16   dti                          \n",
       "17   dti_joint                    \n",
       "18   earliest_cr_line             \n",
       "19   emp_length                   \n",
       "20   emp_title                    \n",
       "21   fico_range_high              \n",
       "22   fico_range_low               \n",
       "23   funded_amnt                  \n",
       "24   funded_amnt_inv              \n",
       "25   grade                        \n",
       "26   home_ownership               \n",
       "27   id                           \n",
       "28   il_util                      \n",
       "29   initial_list_status          \n",
       "..                   ...          \n",
       "87   purpose                      \n",
       "88   pymnt_plan                   \n",
       "89   recoveries                   \n",
       "90   revol_bal                    \n",
       "91   revol_util                   \n",
       "92   sub_grade                    \n",
       "93   tax_liens                    \n",
       "94   term                         \n",
       "95   title                        \n",
       "96   tot_coll_amt                 \n",
       "97   tot_cur_bal                  \n",
       "98   tot_hi_cred_lim              \n",
       "99   total_acc                    \n",
       "100  total_bal_ex_mort            \n",
       "101  total_bal_il                 \n",
       "102  total_bc_limit               \n",
       "103  total_cu_tl                  \n",
       "104  total_il_high_credit_limit   \n",
       "105  total_pymnt                  \n",
       "106  total_pymnt_inv              \n",
       "107  total_rec_int                \n",
       "108  total_rec_late_fee           \n",
       "109  total_rec_prncp              \n",
       "110  total_rev_hi_lim             \n",
       "111  url                          \n",
       "112  verification_status          \n",
       "113  verified_status_joint        \n",
       "114  zip_code                     \n",
       "115  NaN                          \n",
       "116  NaN                          \n",
       "\n",
       "                                                                                                                                                                                                            Description  \n",
       "0    The number of accounts on which the borrower is now delinquent.                                                                                                                                                     \n",
       "1    Number of trades opened in past 24 months.                                                                                                                                                                          \n",
       "2    The state provided by the borrower in the loan application                                                                                                                                                          \n",
       "3    Balance to credit limit on all trades                                                                                                                                                                               \n",
       "4    The self-reported annual income provided by the borrower during registration.                                                                                                                                       \n",
       "5    The combined self-reported annual income provided by the co-borrowers during registration                                                                                                                           \n",
       "6    Indicates whether the loan is an individual application or a joint application with two co-borrowers                                                                                                                \n",
       "7    Average current balance of all accounts                                                                                                                                                                             \n",
       "8    Total open to buy on revolving bankcards.                                                                                                                                                                           \n",
       "9    Ratio of total current balance to high credit/credit limit for all bankcard accounts.                                                                                                                               \n",
       "10   Number of charge-offs within 12 months                                                                                                                                                                              \n",
       "11   post charge off collection fee                                                                                                                                                                                      \n",
       "12   Number of collections in 12 months excluding medical collections                                                                                                                                                    \n",
       "13   The number of 30+ days past-due incidences of delinquency in the borrower's credit file for the past 2 years                                                                                                        \n",
       "14   The past-due amount owed for the accounts on which the borrower is now delinquent.                                                                                                                                  \n",
       "15   Loan description provided by the borrower                                                                                                                                                                           \n",
       "16   A ratio calculated using the borrower’s total monthly debt payments on the total debt obligations, excluding mortgage and the requested LC loan, divided by the borrower’s self-reported monthly income.            \n",
       "17   A ratio calculated using the co-borrowers' total monthly payments on the total debt obligations, excluding mortgages and the requested LC loan, divided by the co-borrowers' combined self-reported monthly income  \n",
       "18   The month the borrower's earliest reported credit line was opened                                                                                                                                                   \n",
       "19   Employment length in years. Possible values are between 0 and 10 where 0 means less than one year and 10 means ten or more years.                                                                                   \n",
       "20   The job title supplied by the Borrower when applying for the loan.*                                                                                                                                                 \n",
       "21   The upper boundary range the borrower’s FICO at loan origination belongs to.                                                                                                                                        \n",
       "22   The lower boundary range the borrower’s FICO at loan origination belongs to.                                                                                                                                        \n",
       "23   The total amount committed to that loan at that point in time.                                                                                                                                                      \n",
       "24   The total amount committed by investors for that loan at that point in time.                                                                                                                                        \n",
       "25   LC assigned loan grade                                                                                                                                                                                              \n",
       "26   The home ownership status provided by the borrower during registration. Our values are: RENT, OWN, MORTGAGE, OTHER.                                                                                                 \n",
       "27   A unique LC assigned ID for the loan listing.                                                                                                                                                                       \n",
       "28   Ratio of total current balance to high credit/credit limit on all install acct                                                                                                                                      \n",
       "29   The initial listing status of the loan. Possible values are – W, F                                                                                                                                                  \n",
       "..                                                                  ...                                                                                                                                                  \n",
       "87   A category provided by the borrower for the loan request.                                                                                                                                                           \n",
       "88   Indicates if a payment plan has been put in place for the loan                                                                                                                                                      \n",
       "89   post charge off gross recovery                                                                                                                                                                                      \n",
       "90   Total credit revolving balance                                                                                                                                                                                      \n",
       "91   Revolving line utilization rate, or the amount of credit the borrower is using relative to all available revolving credit.                                                                                          \n",
       "92   LC assigned loan subgrade                                                                                                                                                                                           \n",
       "93   Number of tax liens                                                                                                                                                                                                 \n",
       "94   The number of payments on the loan. Values are in months and can be either 36 or 60.                                                                                                                                \n",
       "95   The loan title provided by the borrower                                                                                                                                                                             \n",
       "96   Total collection amounts ever owed                                                                                                                                                                                  \n",
       "97   Total current balance of all accounts                                                                                                                                                                               \n",
       "98   Total high credit/credit limit                                                                                                                                                                                      \n",
       "99   The total number of credit lines currently in the borrower's credit file                                                                                                                                            \n",
       "100  Total credit balance excluding mortgage                                                                                                                                                                             \n",
       "101  Total current balance of all installment accounts                                                                                                                                                                   \n",
       "102  Total bankcard high credit/credit limit                                                                                                                                                                             \n",
       "103  Number of finance trades                                                                                                                                                                                            \n",
       "104  Total installment high credit/credit limit                                                                                                                                                                          \n",
       "105  Payments received to date for total amount funded                                                                                                                                                                   \n",
       "106  Payments received to date for portion of total amount funded by investors                                                                                                                                           \n",
       "107  Interest received to date                                                                                                                                                                                           \n",
       "108  Late fees received to date                                                                                                                                                                                          \n",
       "109  Principal received to date                                                                                                                                                                                          \n",
       "110  Total revolving high credit/credit limit                                                                                                                                                                            \n",
       "111  URL for the LC page with listing data.                                                                                                                                                                              \n",
       "112  Indicates if income was verified by LC, not verified, or if the income source was verified                                                                                                                          \n",
       "113  Indicates if the co-borrowers' joint income was verified by LC, not verified, or if the income source was verified                                                                                                  \n",
       "114  The first 3 numbers of the zip code provided by the borrower in the loan application.                                                                                                                               \n",
       "115  NaN                                                                                                                                                                                                                 \n",
       "116  * Employer Title replaces Employer Name for all loans listed after 9/23/2013                                                                                                                                        \n",
       "\n",
       "[117 rows x 2 columns]"
      ]
     },
     "execution_count": 3,
     "metadata": {},
     "output_type": "execute_result"
    }
   ],
   "source": [
    "data_dictionary = pd.read_excel(\"../../../datasets/lending-club/LCDataDictionary.xlsx\")\n",
    "data_dictionary"
   ]
  },
  {
   "cell_type": "markdown",
   "metadata": {},
   "source": [
    "# About the data"
   ]
  },
  {
   "cell_type": "markdown",
   "metadata": {
    "collapsed": true
   },
   "source": [
    "- Source: [Lending Club](https://www.lendingclub.com/info/download-data.action)\n",
    "- Loan stats: details of loans given out, including current status of loan\n",
    "- Reject stats: details of loan applications rejected"
   ]
  },
  {
   "cell_type": "markdown",
   "metadata": {},
   "source": [
    "# Problem statement"
   ]
  },
  {
   "cell_type": "markdown",
   "metadata": {},
   "source": [
    "2 possible problem statements:\n",
    "- Can we predict whether a loan application will be accepted or rejected?\n",
    "- Can we predict whether a lender will default on his loan?"
   ]
  },
  {
   "cell_type": "markdown",
   "metadata": {},
   "source": [
    "# Data management"
   ]
  },
  {
   "cell_type": "markdown",
   "metadata": {},
   "source": [
    "- [Separate notebook]()\n",
    "- Different time periods have been saved as different files at source\n",
    "- Combine all our data into a single data source\n",
    "- The 2 problem statements will use different portions of the data\n",
    "    - Additional cleaning will be done in the respective notebooks"
   ]
  },
  {
   "cell_type": "markdown",
   "metadata": {},
   "source": [
    "# Loan application approval"
   ]
  },
  {
   "cell_type": "markdown",
   "metadata": {},
   "source": [
    "[Prediction approvals on loan applications]()"
   ]
  },
  {
   "cell_type": "markdown",
   "metadata": {},
   "source": [
    "## Data cleaning"
   ]
  },
  {
   "cell_type": "code",
   "execution_count": 149,
   "metadata": {
    "ExecuteTime": {
     "end_time": "2017-04-27T21:33:51.525909Z",
     "start_time": "2017-04-27T21:33:47.032926"
    },
    "collapsed": true
   },
   "outputs": [],
   "source": [
    "app_df.dropna(how=\"all\", inplace=True)"
   ]
  },
  {
   "cell_type": "code",
   "execution_count": 150,
   "metadata": {
    "ExecuteTime": {
     "end_time": "2017-04-27T21:33:52.777026Z",
     "start_time": "2017-04-27T21:33:52.174253"
    },
    "collapsed": true
   },
   "outputs": [],
   "source": [
    "app_df = app_df[app_df.loan_amnt > 0]"
   ]
  },
  {
   "cell_type": "code",
   "execution_count": 151,
   "metadata": {
    "ExecuteTime": {
     "end_time": "2017-04-27T21:33:53.206715Z",
     "start_time": "2017-04-27T21:33:53.198680"
    }
   },
   "outputs": [
    {
     "name": "stdout",
     "output_type": "stream",
     "text": [
      "<class 'pandas.core.frame.DataFrame'>\n",
      "Int64Index: 8013610 entries, 0 to 1096203\n",
      "Data columns (total 7 columns):\n",
      "loan_amnt      float64\n",
      "purpose        object\n",
      "dti            object\n",
      "zip_code       object\n",
      "addr_state     object\n",
      "emp_length     object\n",
      "policy_code    float64\n",
      "dtypes: float64(2), object(5)\n",
      "memory usage: 489.1+ MB\n"
     ]
    }
   ],
   "source": [
    "app_df.info()"
   ]
  },
  {
   "cell_type": "code",
   "execution_count": 152,
   "metadata": {
    "ExecuteTime": {
     "end_time": "2017-04-27T21:33:53.722570Z",
     "start_time": "2017-04-27T21:33:53.717723"
    },
    "collapsed": true
   },
   "outputs": [],
   "source": [
    "def remove_percent(x):\n",
    "    try:\n",
    "        return float(x.strip(\"%\"))\n",
    "    except:\n",
    "        return float(x)\n",
    "\n",
    "def remove_x(x):\n",
    "    try:\n",
    "        return float(x.strip(\"x\"))\n",
    "    except:\n",
    "        return float(x)"
   ]
  },
  {
   "cell_type": "code",
   "execution_count": 154,
   "metadata": {
    "ExecuteTime": {
     "end_time": "2017-04-27T21:34:02.400725Z",
     "start_time": "2017-04-27T21:33:54.837049"
    },
    "collapsed": true
   },
   "outputs": [],
   "source": [
    "app_df.loc[:,\"dti\"] = app_df.dti.apply(remove_percent)"
   ]
  },
  {
   "cell_type": "code",
   "execution_count": 155,
   "metadata": {
    "ExecuteTime": {
     "end_time": "2017-04-27T21:34:10.386417Z",
     "start_time": "2017-04-27T21:34:02.958718"
    },
    "collapsed": true
   },
   "outputs": [],
   "source": [
    "app_df.loc[:,\"zip_code\"] = app_df.zip_code.apply(remove_x)"
   ]
  },
  {
   "cell_type": "code",
   "execution_count": 156,
   "metadata": {
    "ExecuteTime": {
     "end_time": "2017-04-27T21:34:11.384883Z",
     "start_time": "2017-04-27T21:34:10.869634"
    }
   },
   "outputs": [
    {
     "data": {
      "text/plain": [
       "array(['AZ', 'GA', 'IL', 'CA', 'OR', 'NC', 'TX', 'VA', 'MO', 'CT', 'UT',\n",
       "       'FL', 'NY', 'PA', 'MN', 'NJ', 'KY', 'OH', 'SC', 'RI', 'LA', 'MA',\n",
       "       'WA', 'WI', 'AL', 'CO', 'KS', 'NV', 'AK', 'MD', 'WV', 'VT', 'MI',\n",
       "       'DC', 'SD', 'NH', 'AR', 'NM', 'MT', 'HI', 'WY', 'OK', 'DE', 'MS',\n",
       "       'TN', 'IA', 'NE', 'ID', 'IN', 'ME', 'ND'], dtype=object)"
      ]
     },
     "execution_count": 156,
     "metadata": {},
     "output_type": "execute_result"
    }
   ],
   "source": [
    "app_df.addr_state.unique()"
   ]
  },
  {
   "cell_type": "code",
   "execution_count": 157,
   "metadata": {
    "ExecuteTime": {
     "end_time": "2017-04-27T21:34:12.305920Z",
     "start_time": "2017-04-27T21:34:12.157514"
    },
    "collapsed": true
   },
   "outputs": [],
   "source": [
    "app_df[\"state\"] = app_df[\"addr_state\"]\n",
    "del app_df[\"addr_state\"]"
   ]
  },
  {
   "cell_type": "code",
   "execution_count": 158,
   "metadata": {
    "ExecuteTime": {
     "end_time": "2017-04-27T21:34:13.521412Z",
     "start_time": "2017-04-27T21:34:12.980872"
    }
   },
   "outputs": [
    {
     "data": {
      "text/plain": [
       "array(['10+ years', '< 1 year', '1 year', '3 years', '8 years', '9 years',\n",
       "       '4 years', '5 years', '6 years', '2 years', '7 years', 'n/a'], dtype=object)"
      ]
     },
     "execution_count": 158,
     "metadata": {},
     "output_type": "execute_result"
    }
   ],
   "source": [
    "app_df.emp_length.unique()\n",
    "\n",
    "# GROUP N/A WITH < 1\n",
    "app_df.loc[:, \"emp_length\"] = app_df.emp_length.replace(to_replace=[\"n/a\"], value=\"< 1 year\")"
   ]
  },
  {
   "cell_type": "code",
   "execution_count": 160,
   "metadata": {
    "ExecuteTime": {
     "end_time": "2017-04-27T21:34:16.664933Z",
     "start_time": "2017-04-27T21:34:16.061175"
    }
   },
   "outputs": [
    {
     "data": {
      "text/plain": [
       "array(['credit_card', 'car', 'small_business', 'other', 'wedding',\n",
       "       'debt_consolidation', 'home_improvement', 'major_purchase',\n",
       "       'medical', 'moving', 'vacation', 'house', 'renewable_energy',\n",
       "       'educational', 'Debt consolidation', 'Other', 'Green loan',\n",
       "       'Credit card refinancing', 'Business Loan', 'Home improvement',\n",
       "       'Business', 'Major purchase', 'Medical expenses', 'Vacation',\n",
       "       'Moving and relocation', 'Home buying', 'Car financing'], dtype=object)"
      ]
     },
     "execution_count": 160,
     "metadata": {},
     "output_type": "execute_result"
    }
   ],
   "source": [
    "app_df.purpose.unique()"
   ]
  },
  {
   "cell_type": "code",
   "execution_count": 161,
   "metadata": {
    "ExecuteTime": {
     "end_time": "2017-04-27T21:34:17.194174Z",
     "start_time": "2017-04-27T21:34:17.180472"
    },
    "collapsed": true
   },
   "outputs": [],
   "source": [
    "def sub_purpose(x):\n",
    "    if \"credit\" in x.lower():\n",
    "        return \"credit_card\"\n",
    "    elif \"moving\" in x.lower():\n",
    "        return \"moving\"\n",
    "    elif \"car\" in x.lower():\n",
    "        return \"car\"\n",
    "    elif \"debt\" in x.lower():\n",
    "        return \"debt_consolidation\"\n",
    "    elif \"improv\" in x.lower():\n",
    "        return \"home_improvement\"\n",
    "    elif \"home\" in x.lower() or \"house\" in x.lower():\n",
    "        return \"house_purchase\"\n",
    "    elif \" vacation\" in x.lower():\n",
    "        return \"vacation\"\n",
    "    elif \"medical\" in x.lower():\n",
    "        return \"medical\"\n",
    "    elif \"business\" in x.lower():\n",
    "        return \"business\"\n",
    "    elif \"major\" in x.lower():\n",
    "        return \"major_purchase\"\n",
    "    elif \"energy\" in x.lower() or \"green\" in x.lower():\n",
    "        return \"renewable_energy\"\n",
    "    else:\n",
    "        return \"other\""
   ]
  },
  {
   "cell_type": "code",
   "execution_count": 162,
   "metadata": {
    "ExecuteTime": {
     "end_time": "2017-04-27T21:34:26.652840Z",
     "start_time": "2017-04-27T21:34:17.895866"
    },
    "collapsed": true
   },
   "outputs": [],
   "source": [
    "app_df[\"purpose\"] = app_df.purpose.apply(sub_purpose)"
   ]
  },
  {
   "cell_type": "code",
   "execution_count": 163,
   "metadata": {
    "ExecuteTime": {
     "end_time": "2017-04-27T21:34:32.250756Z",
     "start_time": "2017-04-27T21:34:27.810810"
    },
    "collapsed": true
   },
   "outputs": [],
   "source": [
    "app_df = pd.get_dummies(app_df, columns=[\"state\", \"emp_length\", \"purpose\"])\n",
    "app_df.columns = [i.replace(\" \", \"_\") for i in app_df.columns]"
   ]
  },
  {
   "cell_type": "code",
   "execution_count": 164,
   "metadata": {
    "ExecuteTime": {
     "end_time": "2017-04-27T21:34:33.699604Z",
     "start_time": "2017-04-27T21:34:33.669055"
    }
   },
   "outputs": [
    {
     "data": {
      "text/html": [
       "<div>\n",
       "<table border=\"1\" class=\"dataframe\">\n",
       "  <thead>\n",
       "    <tr style=\"text-align: right;\">\n",
       "      <th></th>\n",
       "      <th>loan_amnt</th>\n",
       "      <th>dti</th>\n",
       "      <th>zip_code</th>\n",
       "      <th>policy_code</th>\n",
       "      <th>state_AK</th>\n",
       "      <th>state_AL</th>\n",
       "      <th>state_AR</th>\n",
       "      <th>state_AZ</th>\n",
       "      <th>state_CA</th>\n",
       "      <th>state_CO</th>\n",
       "      <th>...</th>\n",
       "      <th>purpose_car</th>\n",
       "      <th>purpose_credit_card</th>\n",
       "      <th>purpose_debt_consolidation</th>\n",
       "      <th>purpose_home_improvement</th>\n",
       "      <th>purpose_house_purchase</th>\n",
       "      <th>purpose_major_purchase</th>\n",
       "      <th>purpose_medical</th>\n",
       "      <th>purpose_moving</th>\n",
       "      <th>purpose_other</th>\n",
       "      <th>purpose_renewable_energy</th>\n",
       "    </tr>\n",
       "  </thead>\n",
       "  <tbody>\n",
       "    <tr>\n",
       "      <th>0</th>\n",
       "      <td>5000.0</td>\n",
       "      <td>27.65</td>\n",
       "      <td>860.0</td>\n",
       "      <td>1.0</td>\n",
       "      <td>0</td>\n",
       "      <td>0</td>\n",
       "      <td>0</td>\n",
       "      <td>1</td>\n",
       "      <td>0</td>\n",
       "      <td>0</td>\n",
       "      <td>...</td>\n",
       "      <td>0</td>\n",
       "      <td>1</td>\n",
       "      <td>0</td>\n",
       "      <td>0</td>\n",
       "      <td>0</td>\n",
       "      <td>0</td>\n",
       "      <td>0</td>\n",
       "      <td>0</td>\n",
       "      <td>0</td>\n",
       "      <td>0</td>\n",
       "    </tr>\n",
       "    <tr>\n",
       "      <th>1</th>\n",
       "      <td>2500.0</td>\n",
       "      <td>1.00</td>\n",
       "      <td>309.0</td>\n",
       "      <td>1.0</td>\n",
       "      <td>0</td>\n",
       "      <td>0</td>\n",
       "      <td>0</td>\n",
       "      <td>0</td>\n",
       "      <td>0</td>\n",
       "      <td>0</td>\n",
       "      <td>...</td>\n",
       "      <td>1</td>\n",
       "      <td>0</td>\n",
       "      <td>0</td>\n",
       "      <td>0</td>\n",
       "      <td>0</td>\n",
       "      <td>0</td>\n",
       "      <td>0</td>\n",
       "      <td>0</td>\n",
       "      <td>0</td>\n",
       "      <td>0</td>\n",
       "    </tr>\n",
       "    <tr>\n",
       "      <th>2</th>\n",
       "      <td>2400.0</td>\n",
       "      <td>8.72</td>\n",
       "      <td>606.0</td>\n",
       "      <td>1.0</td>\n",
       "      <td>0</td>\n",
       "      <td>0</td>\n",
       "      <td>0</td>\n",
       "      <td>0</td>\n",
       "      <td>0</td>\n",
       "      <td>0</td>\n",
       "      <td>...</td>\n",
       "      <td>0</td>\n",
       "      <td>0</td>\n",
       "      <td>0</td>\n",
       "      <td>0</td>\n",
       "      <td>0</td>\n",
       "      <td>0</td>\n",
       "      <td>0</td>\n",
       "      <td>0</td>\n",
       "      <td>0</td>\n",
       "      <td>0</td>\n",
       "    </tr>\n",
       "    <tr>\n",
       "      <th>3</th>\n",
       "      <td>10000.0</td>\n",
       "      <td>20.00</td>\n",
       "      <td>917.0</td>\n",
       "      <td>1.0</td>\n",
       "      <td>0</td>\n",
       "      <td>0</td>\n",
       "      <td>0</td>\n",
       "      <td>0</td>\n",
       "      <td>1</td>\n",
       "      <td>0</td>\n",
       "      <td>...</td>\n",
       "      <td>0</td>\n",
       "      <td>0</td>\n",
       "      <td>0</td>\n",
       "      <td>0</td>\n",
       "      <td>0</td>\n",
       "      <td>0</td>\n",
       "      <td>0</td>\n",
       "      <td>0</td>\n",
       "      <td>1</td>\n",
       "      <td>0</td>\n",
       "    </tr>\n",
       "    <tr>\n",
       "      <th>4</th>\n",
       "      <td>3000.0</td>\n",
       "      <td>17.94</td>\n",
       "      <td>972.0</td>\n",
       "      <td>1.0</td>\n",
       "      <td>0</td>\n",
       "      <td>0</td>\n",
       "      <td>0</td>\n",
       "      <td>0</td>\n",
       "      <td>0</td>\n",
       "      <td>0</td>\n",
       "      <td>...</td>\n",
       "      <td>0</td>\n",
       "      <td>0</td>\n",
       "      <td>0</td>\n",
       "      <td>0</td>\n",
       "      <td>0</td>\n",
       "      <td>0</td>\n",
       "      <td>0</td>\n",
       "      <td>0</td>\n",
       "      <td>1</td>\n",
       "      <td>0</td>\n",
       "    </tr>\n",
       "  </tbody>\n",
       "</table>\n",
       "<p>5 rows × 77 columns</p>\n",
       "</div>"
      ],
      "text/plain": [
       "   loan_amnt    dti  zip_code  policy_code  state_AK  state_AL  state_AR  \\\n",
       "0  5000.0     27.65  860.0     1.0          0         0         0          \n",
       "1  2500.0     1.00   309.0     1.0          0         0         0          \n",
       "2  2400.0     8.72   606.0     1.0          0         0         0          \n",
       "3  10000.0    20.00  917.0     1.0          0         0         0          \n",
       "4  3000.0     17.94  972.0     1.0          0         0         0          \n",
       "\n",
       "   state_AZ  state_CA  state_CO            ...             purpose_car  \\\n",
       "0  1         0         0                   ...             0             \n",
       "1  0         0         0                   ...             1             \n",
       "2  0         0         0                   ...             0             \n",
       "3  0         1         0                   ...             0             \n",
       "4  0         0         0                   ...             0             \n",
       "\n",
       "   purpose_credit_card  purpose_debt_consolidation  purpose_home_improvement  \\\n",
       "0  1                    0                           0                          \n",
       "1  0                    0                           0                          \n",
       "2  0                    0                           0                          \n",
       "3  0                    0                           0                          \n",
       "4  0                    0                           0                          \n",
       "\n",
       "   purpose_house_purchase  purpose_major_purchase  purpose_medical  \\\n",
       "0  0                       0                       0                 \n",
       "1  0                       0                       0                 \n",
       "2  0                       0                       0                 \n",
       "3  0                       0                       0                 \n",
       "4  0                       0                       0                 \n",
       "\n",
       "   purpose_moving  purpose_other  purpose_renewable_energy  \n",
       "0  0               0              0                         \n",
       "1  0               0              0                         \n",
       "2  0               0              0                         \n",
       "3  0               1              0                         \n",
       "4  0               1              0                         \n",
       "\n",
       "[5 rows x 77 columns]"
      ]
     },
     "execution_count": 164,
     "metadata": {},
     "output_type": "execute_result"
    }
   ],
   "source": [
    "app_df.head()"
   ]
  },
  {
   "cell_type": "code",
   "execution_count": 167,
   "metadata": {
    "ExecuteTime": {
     "end_time": "2017-04-27T21:36:26.506863Z",
     "start_time": "2017-04-27T21:36:08.710068"
    },
    "collapsed": true
   },
   "outputs": [],
   "source": [
    "with open(\"app_df_clean.pkl\", \"wb\") as f:\n",
    "    pickle.dump(app_df, f)"
   ]
  },
  {
   "cell_type": "markdown",
   "metadata": {},
   "source": [
    "## Modeling"
   ]
  },
  {
   "cell_type": "code",
   "execution_count": 2,
   "metadata": {
    "ExecuteTime": {
     "end_time": "2017-04-29T04:53:00.192448Z",
     "start_time": "2017-04-29T04:52:45.409760Z"
    },
    "collapsed": true
   },
   "outputs": [],
   "source": [
    "with open(\"app_df_clean.pkl\", \"rb\") as f:\n",
    "    app_df = pickle.load(f)"
   ]
  },
  {
   "cell_type": "code",
   "execution_count": 29,
   "metadata": {
    "ExecuteTime": {
     "end_time": "2017-04-29T05:24:01.781727Z",
     "start_time": "2017-04-29T05:23:38.466882Z"
    },
    "collapsed": true
   },
   "outputs": [],
   "source": [
    "app_df = app_df.dropna().reset_index(drop=True)"
   ]
  },
  {
   "cell_type": "code",
   "execution_count": 30,
   "metadata": {
    "ExecuteTime": {
     "end_time": "2017-04-29T05:24:03.555868Z",
     "start_time": "2017-04-29T05:24:02.559725Z"
    },
    "collapsed": true
   },
   "outputs": [],
   "source": [
    "X = app_df[[i for i in app_df.columns if i!= \"policy_code\"]]\n",
    "y = app_df[\"policy_code\"]"
   ]
  },
  {
   "cell_type": "code",
   "execution_count": 31,
   "metadata": {
    "ExecuteTime": {
     "end_time": "2017-04-29T05:24:04.067003Z",
     "start_time": "2017-04-29T05:24:03.968917Z"
    }
   },
   "outputs": [
    {
     "data": {
      "text/plain": [
       "0.0    7596274\n",
       "1.0    340280 \n",
       "2.0    76734  \n",
       "Name: policy_code, dtype: int64"
      ]
     },
     "execution_count": 31,
     "metadata": {},
     "output_type": "execute_result"
    }
   ],
   "source": [
    "y.value_counts()"
   ]
  },
  {
   "cell_type": "code",
   "execution_count": 32,
   "metadata": {
    "ExecuteTime": {
     "end_time": "2017-04-29T05:24:24.941623Z",
     "start_time": "2017-04-29T05:24:04.767638Z"
    },
    "collapsed": true
   },
   "outputs": [],
   "source": [
    "X_train, X_test, y_train, y_test = model_selection.train_test_split(X, y, stratify=y, train_size=0.9)"
   ]
  },
  {
   "cell_type": "code",
   "execution_count": 33,
   "metadata": {
    "ExecuteTime": {
     "end_time": "2017-04-29T05:24:26.231913Z",
     "start_time": "2017-04-29T05:24:26.183962Z"
    },
    "collapsed": true
   },
   "outputs": [],
   "source": [
    "X_train.reset_index(inplace=True, drop=True)"
   ]
  },
  {
   "cell_type": "code",
   "execution_count": 34,
   "metadata": {
    "ExecuteTime": {
     "end_time": "2017-04-29T05:24:26.891541Z",
     "start_time": "2017-04-29T05:24:26.887652Z"
    },
    "collapsed": true
   },
   "outputs": [],
   "source": [
    "nb = naive_bayes.GaussianNB()"
   ]
  },
  {
   "cell_type": "code",
   "execution_count": 61,
   "metadata": {
    "ExecuteTime": {
     "end_time": "2017-04-29T06:34:48.325703Z",
     "start_time": "2017-04-29T06:34:45.669381Z"
    }
   },
   "outputs": [
    {
     "data": {
      "text/plain": [
       "GaussianNB(priors=None)"
      ]
     },
     "execution_count": 61,
     "metadata": {},
     "output_type": "execute_result"
    }
   ],
   "source": [
    "nb.partial_fit(X_train.iloc[:1000000], y_train[:1000000], classes=y.unique())"
   ]
  },
  {
   "cell_type": "code",
   "execution_count": 62,
   "metadata": {
    "ExecuteTime": {
     "end_time": "2017-04-29T06:34:57.096992Z",
     "start_time": "2017-04-29T06:34:53.194385Z"
    }
   },
   "outputs": [
    {
     "data": {
      "text/plain": [
       "0.31117181582096742"
      ]
     },
     "execution_count": 62,
     "metadata": {},
     "output_type": "execute_result"
    }
   ],
   "source": [
    "nb.score(X_test, y_test)"
   ]
  },
  {
   "cell_type": "code",
   "execution_count": 78,
   "metadata": {
    "ExecuteTime": {
     "end_time": "2017-04-29T07:02:03.685961Z",
     "start_time": "2017-04-29T07:02:03.682061Z"
    },
    "collapsed": true
   },
   "outputs": [],
   "source": [
    "def train_nb(start, stop):\n",
    "    nb.partial_fit(X_train.iloc[start:stop], y_train[start:stop])"
   ]
  },
  {
   "cell_type": "code",
   "execution_count": 82,
   "metadata": {
    "ExecuteTime": {
     "end_time": "2017-04-29T08:01:52.215686Z",
     "start_time": "2017-04-29T07:56:05.020904Z"
    }
   },
   "outputs": [
    {
     "data": {
      "text/plain": [
       "0.34461500831743269"
      ]
     },
     "execution_count": 82,
     "metadata": {},
     "output_type": "execute_result"
    }
   ],
   "source": [
    "for i in range(20):\n",
    "    train_nb(None,1000000)\n",
    "    train_nb(1000000,2000000)\n",
    "    train_nb(2000000,3000000)\n",
    "    train_nb(3000000,4000000)\n",
    "    train_nb(4000000,5000000)\n",
    "    train_nb(5000000,6000000)\n",
    "    train_nb(6000000,None)\n",
    "nb.score(X_test,y_test)"
   ]
  },
  {
   "cell_type": "code",
   "execution_count": 76,
   "metadata": {
    "ExecuteTime": {
     "end_time": "2017-04-29T07:01:29.650865Z",
     "start_time": "2017-04-29T07:01:25.388749Z"
    }
   },
   "outputs": [
    {
     "data": {
      "text/plain": [
       "0.34427058049814746"
      ]
     },
     "execution_count": 76,
     "metadata": {},
     "output_type": "execute_result"
    }
   ],
   "source": []
  },
  {
   "cell_type": "code",
   "execution_count": null,
   "metadata": {
    "collapsed": true
   },
   "outputs": [],
   "source": []
  },
  {
   "cell_type": "code",
   "execution_count": null,
   "metadata": {
    "collapsed": true
   },
   "outputs": [],
   "source": []
  },
  {
   "cell_type": "code",
   "execution_count": null,
   "metadata": {
    "collapsed": true
   },
   "outputs": [],
   "source": []
  },
  {
   "cell_type": "code",
   "execution_count": null,
   "metadata": {
    "collapsed": true
   },
   "outputs": [],
   "source": []
  },
  {
   "cell_type": "code",
   "execution_count": null,
   "metadata": {
    "collapsed": true
   },
   "outputs": [],
   "source": []
  },
  {
   "cell_type": "code",
   "execution_count": null,
   "metadata": {
    "collapsed": true
   },
   "outputs": [],
   "source": []
  },
  {
   "cell_type": "raw",
   "metadata": {
    "ExecuteTime": {
     "end_time": "2017-04-28T10:53:58.903270Z",
     "start_time": "2017-04-28T10:53:57.043327"
    }
   },
   "source": [
    "one_hot = preprocessing.OneHotEncoder()\n",
    "y_train = one_hot.fit_transform(y_train.values.reshape(-1,1)).todense()\n",
    "y_test = one_hot.transform(y_test.values.reshape(-1,1)).todense()"
   ]
  },
  {
   "cell_type": "code",
   "execution_count": 7,
   "metadata": {
    "ExecuteTime": {
     "end_time": "2017-04-28T10:54:02.798098Z",
     "start_time": "2017-04-28T10:54:02.792038"
    }
   },
   "outputs": [
    {
     "data": {
      "text/plain": [
       "(801361, 76)"
      ]
     },
     "execution_count": 7,
     "metadata": {},
     "output_type": "execute_result"
    }
   ],
   "source": [
    "X_train.shape"
   ]
  },
  {
   "cell_type": "raw",
   "metadata": {
    "ExecuteTime": {
     "end_time": "2017-04-28T10:54:06.449266Z",
     "start_time": "2017-04-28T10:54:06.319196"
    }
   },
   "source": [
    "nn = Sequential()\n",
    "nn.add(Dense(30, input_dim=X.shape[1]))\n",
    "nn.add(Activation(\"relu\"))\n",
    "nn.add(Dense(y_train.shape[1], input_dim=30))\n",
    "nn.add(Activation(\"softmax\"))\n",
    "nn.compile(optimizer='rmsprop', loss='categorical_crossentropy')"
   ]
  },
  {
   "cell_type": "raw",
   "metadata": {
    "ExecuteTime": {
     "end_time": "2017-04-28T10:55:08.432557Z",
     "start_time": "2017-04-28T10:54:07.950842"
    }
   },
   "source": [
    "nn.fit(X_train.as_matrix(), y_train, epochs=10, batch_size=1000)"
   ]
  },
  {
   "cell_type": "raw",
   "metadata": {
    "ExecuteTime": {
     "end_time": "2017-04-28T11:04:44.655812Z",
     "start_time": "2017-04-28T11:04:44.263283"
    }
   },
   "source": [
    "test = X_test.copy()"
   ]
  },
  {
   "cell_type": "raw",
   "metadata": {
    "ExecuteTime": {
     "end_time": "2017-04-28T11:04:45.113194Z",
     "start_time": "2017-04-28T11:04:45.000552"
    },
    "collapsed": true
   },
   "source": [
    "test[\"target_0\"] = y_test[:,0]\n",
    "test[\"target_1\"] = y_test[:,1]\n",
    "test[\"target_2\"] = y_test[:,2]"
   ]
  },
  {
   "cell_type": "raw",
   "metadata": {
    "ExecuteTime": {
     "end_time": "2017-04-28T11:04:45.571094Z",
     "start_time": "2017-04-28T11:04:45.566874"
    },
    "collapsed": true
   },
   "source": [
    "test.reset_index(inplace=True, drop=True)"
   ]
  },
  {
   "cell_type": "raw",
   "metadata": {
    "ExecuteTime": {
     "end_time": "2017-04-28T11:04:46.689020Z",
     "start_time": "2017-04-28T11:04:46.681629"
    },
    "collapsed": true
   },
   "source": [
    "def get_test(n):\n",
    "    choices = list(test.index)\n",
    "#     return np.random.choice(choices, replace=False, size=n)\n",
    "    sub = test.ix[np.random.choice(choices, replace=False, size=n),]\n",
    "#     return sub\n",
    "    features = sub[[i for i in sub.columns if \"target\" not in i]]\n",
    "    targets = sub[[i for i in sub.columns if \"target\" in i]]\n",
    "    return features, targets"
   ]
  },
  {
   "cell_type": "raw",
   "metadata": {
    "ExecuteTime": {
     "end_time": "2017-04-28T11:04:13.598825Z",
     "start_time": "2017-04-28T11:04:10.094011"
    }
   },
   "source": [
    "get_test(10)"
   ]
  },
  {
   "cell_type": "raw",
   "metadata": {
    "ExecuteTime": {
     "end_time": "2017-04-28T11:07:43.926266Z",
     "start_time": "2017-04-28T11:07:42.290111"
    }
   },
   "source": [
    "X_test_1, y_test_1 = get_test(10000)"
   ]
  },
  {
   "cell_type": "raw",
   "metadata": {
    "ExecuteTime": {
     "end_time": "2017-04-28T11:07:44.641071Z",
     "start_time": "2017-04-28T11:07:44.483064"
    }
   },
   "source": [
    "y_prob = nn.predict(X_test_1.as_matrix())"
   ]
  },
  {
   "cell_type": "raw",
   "metadata": {
    "ExecuteTime": {
     "end_time": "2017-04-28T11:07:45.255787Z",
     "start_time": "2017-04-28T11:07:45.075347"
    }
   },
   "source": [
    "y_pred = nn.predict_classes(X_test_1.as_matrix())"
   ]
  },
  {
   "cell_type": "code",
   "execution_count": null,
   "metadata": {
    "collapsed": true
   },
   "outputs": [],
   "source": []
  }
 ],
 "metadata": {
  "kernelspec": {
   "display_name": "Python 3",
   "language": "python",
   "name": "python3"
  },
  "language_info": {
   "codemirror_mode": {
    "name": "ipython",
    "version": 3
   },
   "file_extension": ".py",
   "mimetype": "text/x-python",
   "name": "python",
   "nbconvert_exporter": "python",
   "pygments_lexer": "ipython3",
   "version": "3.6.1"
  },
  "toc": {
   "colors": {
    "hover_highlight": "#DAA520",
    "running_highlight": "#FF0000",
    "selected_highlight": "#FFD700"
   },
   "moveMenuLeft": true,
   "nav_menu": {
    "height": "30px",
    "width": "252px"
   },
   "navigate_menu": true,
   "number_sections": true,
   "sideBar": true,
   "threshold": 4,
   "toc_cell": false,
   "toc_section_display": "block",
   "toc_window_display": false,
   "widenNotebook": false
  }
 },
 "nbformat": 4,
 "nbformat_minor": 2
}
