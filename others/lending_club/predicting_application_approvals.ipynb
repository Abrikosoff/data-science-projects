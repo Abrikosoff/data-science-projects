{
 "cells": [
  {
   "cell_type": "code",
   "execution_count": 35,
   "metadata": {
    "ExecuteTime": {
     "end_time": "2017-05-08T09:10:48.097465Z",
     "start_time": "2017-05-08T09:10:47.915326Z"
    },
    "collapsed": true
   },
   "outputs": [],
   "source": [
    "import numpy as np\n",
    "import pandas as pd\n",
    "import matplotlib.pyplot as plt\n",
    "import seaborn as sns\n",
    "import pickle\n",
    "\n",
    "from sklearn import preprocessing, model_selection, metrics\n",
    "from sklearn import linear_model, naive_bayes, ensemble\n",
    "\n",
    "%matplotlib inline\n",
    "\n",
    "plt.rcParams[\"figure.figsize\"] = (10,8)\n",
    "plt.rcParams[\"axes.titlesize\"] = 15\n",
    "pd.set_option(\"max_colwidth\", 0)"
   ]
  },
  {
   "cell_type": "code",
   "execution_count": 2,
   "metadata": {
    "ExecuteTime": {
     "end_time": "2017-05-02T09:53:20.802474Z",
     "start_time": "2017-05-02T09:53:20.602104Z"
    }
   },
   "outputs": [
    {
     "name": "stdout",
     "output_type": "stream",
     "text": [
      "app_df_clean.pkl                       loan_db.sqlite\r\n",
      "application_data.pkl                   loans_project_outline.ipynb\r\n",
      "categorical_application_data.pkl       predicting_application_approvals.ipynb\r\n",
      "loan_data.pkl                          reject_data.pkl\r\n",
      "loan_data_combining.ipynb\r\n"
     ]
    }
   ],
   "source": [
    "! ls"
   ]
  },
  {
   "cell_type": "code",
   "execution_count": 6,
   "metadata": {
    "ExecuteTime": {
     "end_time": "2017-05-02T07:04:28.129342Z",
     "start_time": "2017-05-02T07:04:18.846268Z"
    },
    "collapsed": true
   },
   "outputs": [],
   "source": [
    "with open(\"reject_data.pkl\", \"rb\") as f:\n",
    "    reject_df = pickle.load(f)"
   ]
  },
  {
   "cell_type": "code",
   "execution_count": 7,
   "metadata": {
    "ExecuteTime": {
     "end_time": "2017-05-02T07:06:38.799635Z",
     "start_time": "2017-05-02T07:06:37.814282Z"
    },
    "collapsed": true
   },
   "outputs": [],
   "source": [
    "with open(\"loan_data.pkl\", \"rb\") as f:\n",
    "    approve_df = pickle.load(f)"
   ]
  },
  {
   "cell_type": "code",
   "execution_count": 8,
   "metadata": {
    "ExecuteTime": {
     "end_time": "2017-05-02T07:06:39.484277Z",
     "start_time": "2017-05-02T07:06:39.461801Z"
    }
   },
   "outputs": [
    {
     "data": {
      "text/html": [
       "<div>\n",
       "<table border=\"1\" class=\"dataframe\">\n",
       "  <thead>\n",
       "    <tr style=\"text-align: right;\">\n",
       "      <th></th>\n",
       "      <th>amount_requested</th>\n",
       "      <th>application_date</th>\n",
       "      <th>loan_title</th>\n",
       "      <th>risk_score</th>\n",
       "      <th>debt_to_income_ratio</th>\n",
       "      <th>zip_code</th>\n",
       "      <th>state</th>\n",
       "      <th>employment_length</th>\n",
       "      <th>policy_code</th>\n",
       "    </tr>\n",
       "  </thead>\n",
       "  <tbody>\n",
       "    <tr>\n",
       "      <th>0</th>\n",
       "      <td>35000.0</td>\n",
       "      <td>2016-01-01</td>\n",
       "      <td>credit_card</td>\n",
       "      <td>NaN</td>\n",
       "      <td>100%</td>\n",
       "      <td>708xx</td>\n",
       "      <td>LA</td>\n",
       "      <td>&lt; 1 year</td>\n",
       "      <td>0</td>\n",
       "    </tr>\n",
       "    <tr>\n",
       "      <th>1</th>\n",
       "      <td>7500.0</td>\n",
       "      <td>2016-01-01</td>\n",
       "      <td>debt_consolidation</td>\n",
       "      <td>NaN</td>\n",
       "      <td>1.52%</td>\n",
       "      <td>423xx</td>\n",
       "      <td>KY</td>\n",
       "      <td>&lt; 1 year</td>\n",
       "      <td>0</td>\n",
       "    </tr>\n",
       "    <tr>\n",
       "      <th>2</th>\n",
       "      <td>25000.0</td>\n",
       "      <td>2016-01-01</td>\n",
       "      <td>debt_consolidation</td>\n",
       "      <td>NaN</td>\n",
       "      <td>95.85%</td>\n",
       "      <td>731xx</td>\n",
       "      <td>OK</td>\n",
       "      <td>&lt; 1 year</td>\n",
       "      <td>0</td>\n",
       "    </tr>\n",
       "    <tr>\n",
       "      <th>3</th>\n",
       "      <td>3500.0</td>\n",
       "      <td>2016-01-01</td>\n",
       "      <td>moving</td>\n",
       "      <td>NaN</td>\n",
       "      <td>10.12%</td>\n",
       "      <td>068xx</td>\n",
       "      <td>CT</td>\n",
       "      <td>&lt; 1 year</td>\n",
       "      <td>0</td>\n",
       "    </tr>\n",
       "    <tr>\n",
       "      <th>4</th>\n",
       "      <td>35000.0</td>\n",
       "      <td>2016-01-01</td>\n",
       "      <td>credit_card</td>\n",
       "      <td>621.0</td>\n",
       "      <td>1867.45%</td>\n",
       "      <td>770xx</td>\n",
       "      <td>TX</td>\n",
       "      <td>&lt; 1 year</td>\n",
       "      <td>0</td>\n",
       "    </tr>\n",
       "  </tbody>\n",
       "</table>\n",
       "</div>"
      ],
      "text/plain": [
       "   amount_requested application_date          loan_title  risk_score  \\\n",
       "0  35000.0           2016-01-01       credit_card        NaN           \n",
       "1  7500.0            2016-01-01       debt_consolidation NaN           \n",
       "2  25000.0           2016-01-01       debt_consolidation NaN           \n",
       "3  3500.0            2016-01-01       moving             NaN           \n",
       "4  35000.0           2016-01-01       credit_card         621.0        \n",
       "\n",
       "  debt_to_income_ratio zip_code state employment_length  policy_code  \n",
       "0  100%                 708xx    LA    < 1 year          0            \n",
       "1  1.52%                423xx    KY    < 1 year          0            \n",
       "2  95.85%               731xx    OK    < 1 year          0            \n",
       "3  10.12%               068xx    CT    < 1 year          0            \n",
       "4  1867.45%             770xx    TX    < 1 year          0            "
      ]
     },
     "execution_count": 8,
     "metadata": {},
     "output_type": "execute_result"
    }
   ],
   "source": [
    "reject_df.head()"
   ]
  },
  {
   "cell_type": "code",
   "execution_count": 9,
   "metadata": {
    "ExecuteTime": {
     "end_time": "2017-05-02T07:06:40.334785Z",
     "start_time": "2017-05-02T07:06:40.287479Z"
    }
   },
   "outputs": [
    {
     "data": {
      "text/html": [
       "<div>\n",
       "<table border=\"1\" class=\"dataframe\">\n",
       "  <thead>\n",
       "    <tr style=\"text-align: right;\">\n",
       "      <th></th>\n",
       "      <th>id</th>\n",
       "      <th>member_id</th>\n",
       "      <th>loan_amnt</th>\n",
       "      <th>funded_amnt</th>\n",
       "      <th>funded_amnt_inv</th>\n",
       "      <th>term</th>\n",
       "      <th>int_rate</th>\n",
       "      <th>installment</th>\n",
       "      <th>grade</th>\n",
       "      <th>sub_grade</th>\n",
       "      <th>...</th>\n",
       "      <th>num_tl_90g_dpd_24m</th>\n",
       "      <th>num_tl_op_past_12m</th>\n",
       "      <th>pct_tl_nvr_dlq</th>\n",
       "      <th>percent_bc_gt_75</th>\n",
       "      <th>pub_rec_bankruptcies</th>\n",
       "      <th>tax_liens</th>\n",
       "      <th>tot_hi_cred_lim</th>\n",
       "      <th>total_bal_ex_mort</th>\n",
       "      <th>total_bc_limit</th>\n",
       "      <th>total_il_high_credit_limit</th>\n",
       "    </tr>\n",
       "  </thead>\n",
       "  <tbody>\n",
       "    <tr>\n",
       "      <th>0</th>\n",
       "      <td>NaN</td>\n",
       "      <td>NaN</td>\n",
       "      <td>5000.0</td>\n",
       "      <td>5000.0</td>\n",
       "      <td>4975.0</td>\n",
       "      <td>36 months</td>\n",
       "      <td>10.65%</td>\n",
       "      <td>162.87</td>\n",
       "      <td>B</td>\n",
       "      <td>B2</td>\n",
       "      <td>...</td>\n",
       "      <td>NaN</td>\n",
       "      <td>NaN</td>\n",
       "      <td>NaN</td>\n",
       "      <td>NaN</td>\n",
       "      <td>0.0</td>\n",
       "      <td>0.0</td>\n",
       "      <td>NaN</td>\n",
       "      <td>NaN</td>\n",
       "      <td>NaN</td>\n",
       "      <td>NaN</td>\n",
       "    </tr>\n",
       "    <tr>\n",
       "      <th>1</th>\n",
       "      <td>NaN</td>\n",
       "      <td>NaN</td>\n",
       "      <td>2500.0</td>\n",
       "      <td>2500.0</td>\n",
       "      <td>2500.0</td>\n",
       "      <td>60 months</td>\n",
       "      <td>15.27%</td>\n",
       "      <td>59.83</td>\n",
       "      <td>C</td>\n",
       "      <td>C4</td>\n",
       "      <td>...</td>\n",
       "      <td>NaN</td>\n",
       "      <td>NaN</td>\n",
       "      <td>NaN</td>\n",
       "      <td>NaN</td>\n",
       "      <td>0.0</td>\n",
       "      <td>0.0</td>\n",
       "      <td>NaN</td>\n",
       "      <td>NaN</td>\n",
       "      <td>NaN</td>\n",
       "      <td>NaN</td>\n",
       "    </tr>\n",
       "    <tr>\n",
       "      <th>2</th>\n",
       "      <td>NaN</td>\n",
       "      <td>NaN</td>\n",
       "      <td>2400.0</td>\n",
       "      <td>2400.0</td>\n",
       "      <td>2400.0</td>\n",
       "      <td>36 months</td>\n",
       "      <td>15.96%</td>\n",
       "      <td>84.33</td>\n",
       "      <td>C</td>\n",
       "      <td>C5</td>\n",
       "      <td>...</td>\n",
       "      <td>NaN</td>\n",
       "      <td>NaN</td>\n",
       "      <td>NaN</td>\n",
       "      <td>NaN</td>\n",
       "      <td>0.0</td>\n",
       "      <td>0.0</td>\n",
       "      <td>NaN</td>\n",
       "      <td>NaN</td>\n",
       "      <td>NaN</td>\n",
       "      <td>NaN</td>\n",
       "    </tr>\n",
       "    <tr>\n",
       "      <th>3</th>\n",
       "      <td>NaN</td>\n",
       "      <td>NaN</td>\n",
       "      <td>10000.0</td>\n",
       "      <td>10000.0</td>\n",
       "      <td>10000.0</td>\n",
       "      <td>36 months</td>\n",
       "      <td>13.49%</td>\n",
       "      <td>339.31</td>\n",
       "      <td>C</td>\n",
       "      <td>C1</td>\n",
       "      <td>...</td>\n",
       "      <td>NaN</td>\n",
       "      <td>NaN</td>\n",
       "      <td>NaN</td>\n",
       "      <td>NaN</td>\n",
       "      <td>0.0</td>\n",
       "      <td>0.0</td>\n",
       "      <td>NaN</td>\n",
       "      <td>NaN</td>\n",
       "      <td>NaN</td>\n",
       "      <td>NaN</td>\n",
       "    </tr>\n",
       "    <tr>\n",
       "      <th>4</th>\n",
       "      <td>NaN</td>\n",
       "      <td>NaN</td>\n",
       "      <td>3000.0</td>\n",
       "      <td>3000.0</td>\n",
       "      <td>3000.0</td>\n",
       "      <td>60 months</td>\n",
       "      <td>12.69%</td>\n",
       "      <td>67.79</td>\n",
       "      <td>B</td>\n",
       "      <td>B5</td>\n",
       "      <td>...</td>\n",
       "      <td>NaN</td>\n",
       "      <td>NaN</td>\n",
       "      <td>NaN</td>\n",
       "      <td>NaN</td>\n",
       "      <td>0.0</td>\n",
       "      <td>0.0</td>\n",
       "      <td>NaN</td>\n",
       "      <td>NaN</td>\n",
       "      <td>NaN</td>\n",
       "      <td>NaN</td>\n",
       "    </tr>\n",
       "  </tbody>\n",
       "</table>\n",
       "<p>5 rows × 111 columns</p>\n",
       "</div>"
      ],
      "text/plain": [
       "    id  member_id  loan_amnt  funded_amnt  funded_amnt_inv        term  \\\n",
       "0  NaN NaN         5000.0     5000.0       4975.0            36 months   \n",
       "1  NaN NaN         2500.0     2500.0       2500.0            60 months   \n",
       "2  NaN NaN         2400.0     2400.0       2400.0            36 months   \n",
       "3  NaN NaN         10000.0    10000.0      10000.0           36 months   \n",
       "4  NaN NaN         3000.0     3000.0       3000.0            60 months   \n",
       "\n",
       "  int_rate  installment grade sub_grade            ...              \\\n",
       "0   10.65%  162.87       B     B2                  ...               \n",
       "1   15.27%  59.83        C     C4                  ...               \n",
       "2   15.96%  84.33        C     C5                  ...               \n",
       "3   13.49%  339.31       C     C1                  ...               \n",
       "4   12.69%  67.79        B     B5                  ...               \n",
       "\n",
       "  num_tl_90g_dpd_24m num_tl_op_past_12m pct_tl_nvr_dlq  percent_bc_gt_75  \\\n",
       "0 NaN                NaN                NaN            NaN                 \n",
       "1 NaN                NaN                NaN            NaN                 \n",
       "2 NaN                NaN                NaN            NaN                 \n",
       "3 NaN                NaN                NaN            NaN                 \n",
       "4 NaN                NaN                NaN            NaN                 \n",
       "\n",
       "  pub_rec_bankruptcies tax_liens tot_hi_cred_lim total_bal_ex_mort  \\\n",
       "0  0.0                  0.0      NaN             NaN                 \n",
       "1  0.0                  0.0      NaN             NaN                 \n",
       "2  0.0                  0.0      NaN             NaN                 \n",
       "3  0.0                  0.0      NaN             NaN                 \n",
       "4  0.0                  0.0      NaN             NaN                 \n",
       "\n",
       "   total_bc_limit total_il_high_credit_limit  \n",
       "0 NaN             NaN                         \n",
       "1 NaN             NaN                         \n",
       "2 NaN             NaN                         \n",
       "3 NaN             NaN                         \n",
       "4 NaN             NaN                         \n",
       "\n",
       "[5 rows x 111 columns]"
      ]
     },
     "execution_count": 9,
     "metadata": {},
     "output_type": "execute_result"
    }
   ],
   "source": [
    "approve_df.head()"
   ]
  },
  {
   "cell_type": "code",
   "execution_count": 10,
   "metadata": {
    "ExecuteTime": {
     "end_time": "2017-05-02T07:06:41.934270Z",
     "start_time": "2017-05-02T07:06:41.927660Z"
    }
   },
   "outputs": [
    {
     "data": {
      "text/plain": [
       "Index(['amount_requested', 'application_date', 'loan_title', 'risk_score',\n",
       "       'debt_to_income_ratio', 'zip_code', 'state', 'employment_length',\n",
       "       'policy_code'],\n",
       "      dtype='object')"
      ]
     },
     "execution_count": 10,
     "metadata": {},
     "output_type": "execute_result"
    }
   ],
   "source": [
    "reject_df.columns"
   ]
  },
  {
   "cell_type": "code",
   "execution_count": 11,
   "metadata": {
    "ExecuteTime": {
     "end_time": "2017-05-02T07:06:42.718585Z",
     "start_time": "2017-05-02T07:06:42.694187Z"
    }
   },
   "outputs": [
    {
     "name": "stdout",
     "output_type": "stream",
     "text": [
      "id, member_id, loan_amnt, funded_amnt, funded_amnt_inv, term, int_rate, installment, grade, sub_grade, emp_title, emp_length, home_ownership, annual_inc, verification_status, issue_d, loan_status, pymnt_plan, url, desc, purpose, title, zip_code, addr_state, dti, delinq_2yrs, earliest_cr_line, inq_last_6mths, mths_since_last_delinq, mths_since_last_record, open_acc, pub_rec, revol_bal, revol_util, total_acc, initial_list_status, out_prncp, out_prncp_inv, total_pymnt, total_pymnt_inv, total_rec_prncp, total_rec_int, total_rec_late_fee, recoveries, collection_recovery_fee, last_pymnt_d, last_pymnt_amnt, next_pymnt_d, last_credit_pull_d, collections_12_mths_ex_med, mths_since_last_major_derog, policy_code, application_type, annual_inc_joint, dti_joint, verification_status_joint, acc_now_delinq, tot_coll_amt, tot_cur_bal, open_acc_6m, open_il_6m, open_il_12m, open_il_24m, mths_since_rcnt_il, total_bal_il, il_util, open_rv_12m, open_rv_24m, max_bal_bc, all_util, total_rev_hi_lim, inq_fi, total_cu_tl, inq_last_12m, acc_open_past_24mths, avg_cur_bal, bc_open_to_buy, bc_util, chargeoff_within_12_mths, delinq_amnt, mo_sin_old_il_acct, mo_sin_old_rev_tl_op, mo_sin_rcnt_rev_tl_op, mo_sin_rcnt_tl, mort_acc, mths_since_recent_bc, mths_since_recent_bc_dlq, mths_since_recent_inq, mths_since_recent_revol_delinq, num_accts_ever_120_pd, num_actv_bc_tl, num_actv_rev_tl, num_bc_sats, num_bc_tl, num_il_tl, num_op_rev_tl, num_rev_accts, num_rev_tl_bal_gt_0, num_sats, num_tl_120dpd_2m, num_tl_30dpd, num_tl_90g_dpd_24m, num_tl_op_past_12m, pct_tl_nvr_dlq, percent_bc_gt_75, pub_rec_bankruptcies, tax_liens, tot_hi_cred_lim, total_bal_ex_mort, total_bc_limit, total_il_high_credit_limit, "
     ]
    }
   ],
   "source": [
    "for i in approve_df.columns:\n",
    "    print(i, end=\", \")"
   ]
  },
  {
   "cell_type": "markdown",
   "metadata": {
    "ExecuteTime": {
     "end_time": "2017-05-02T07:06:43.333611Z",
     "start_time": "2017-05-02T07:06:43.325940Z"
    }
   },
   "source": [
    "Equivalent columns:\n",
    "- amount_requested & loan_amnt\n",
    "- application_date & NOT FOUND\n",
    "- loan_title & purpose\n",
    "    - or desc or title but purpose seems the most concise\n",
    "- risk_score & NOT FOUND\n",
    "- debt_to_income_ratio & dti\n",
    "- zip_code & zip_code\n",
    "- state & addr_state\n",
    "- employment_length & emp_length\n",
    "- policy_code & policy_code"
   ]
  },
  {
   "cell_type": "code",
   "execution_count": 13,
   "metadata": {
    "ExecuteTime": {
     "end_time": "2017-05-02T07:06:48.462264Z",
     "start_time": "2017-05-02T07:06:47.942808Z"
    },
    "collapsed": true
   },
   "outputs": [],
   "source": [
    "approve_sub = approve_df[[\"loan_amnt\", \"purpose\", \"dti\", \"zip_code\", \n",
    "                          \"addr_state\", \"emp_length\", \"policy_code\"]]"
   ]
  },
  {
   "cell_type": "code",
   "execution_count": 14,
   "metadata": {
    "ExecuteTime": {
     "end_time": "2017-05-02T07:06:50.062490Z",
     "start_time": "2017-05-02T07:06:48.861833Z"
    },
    "collapsed": true
   },
   "outputs": [],
   "source": [
    "reject_sub = reject_df[[\"amount_requested\", \"loan_title\", \"debt_to_income_ratio\", \"zip_code\", \n",
    "                        \"state\", \"employment_length\", \"policy_code\"]]"
   ]
  },
  {
   "cell_type": "code",
   "execution_count": 15,
   "metadata": {
    "ExecuteTime": {
     "end_time": "2017-05-02T07:06:50.585595Z",
     "start_time": "2017-05-02T07:06:50.581642Z"
    },
    "collapsed": true
   },
   "outputs": [],
   "source": [
    "reject_sub.columns = approve_sub.columns"
   ]
  },
  {
   "cell_type": "code",
   "execution_count": 16,
   "metadata": {
    "ExecuteTime": {
     "end_time": "2017-05-02T07:06:51.353719Z",
     "start_time": "2017-05-02T07:06:51.333502Z"
    }
   },
   "outputs": [
    {
     "data": {
      "text/html": [
       "<div>\n",
       "<table border=\"1\" class=\"dataframe\">\n",
       "  <thead>\n",
       "    <tr style=\"text-align: right;\">\n",
       "      <th></th>\n",
       "      <th>loan_amnt</th>\n",
       "      <th>purpose</th>\n",
       "      <th>dti</th>\n",
       "      <th>zip_code</th>\n",
       "      <th>addr_state</th>\n",
       "      <th>emp_length</th>\n",
       "      <th>policy_code</th>\n",
       "    </tr>\n",
       "  </thead>\n",
       "  <tbody>\n",
       "    <tr>\n",
       "      <th>0</th>\n",
       "      <td>5000.0</td>\n",
       "      <td>credit_card</td>\n",
       "      <td>27.65</td>\n",
       "      <td>860xx</td>\n",
       "      <td>AZ</td>\n",
       "      <td>10+ years</td>\n",
       "      <td>1.0</td>\n",
       "    </tr>\n",
       "    <tr>\n",
       "      <th>1</th>\n",
       "      <td>2500.0</td>\n",
       "      <td>car</td>\n",
       "      <td>1.00</td>\n",
       "      <td>309xx</td>\n",
       "      <td>GA</td>\n",
       "      <td>&lt; 1 year</td>\n",
       "      <td>1.0</td>\n",
       "    </tr>\n",
       "    <tr>\n",
       "      <th>2</th>\n",
       "      <td>2400.0</td>\n",
       "      <td>small_business</td>\n",
       "      <td>8.72</td>\n",
       "      <td>606xx</td>\n",
       "      <td>IL</td>\n",
       "      <td>10+ years</td>\n",
       "      <td>1.0</td>\n",
       "    </tr>\n",
       "    <tr>\n",
       "      <th>3</th>\n",
       "      <td>10000.0</td>\n",
       "      <td>other</td>\n",
       "      <td>20.00</td>\n",
       "      <td>917xx</td>\n",
       "      <td>CA</td>\n",
       "      <td>10+ years</td>\n",
       "      <td>1.0</td>\n",
       "    </tr>\n",
       "    <tr>\n",
       "      <th>4</th>\n",
       "      <td>3000.0</td>\n",
       "      <td>other</td>\n",
       "      <td>17.94</td>\n",
       "      <td>972xx</td>\n",
       "      <td>OR</td>\n",
       "      <td>1 year</td>\n",
       "      <td>1.0</td>\n",
       "    </tr>\n",
       "  </tbody>\n",
       "</table>\n",
       "</div>"
      ],
      "text/plain": [
       "   loan_amnt         purpose    dti zip_code addr_state emp_length  \\\n",
       "0  5000.0     credit_card     27.65  860xx    AZ         10+ years   \n",
       "1  2500.0     car             1.00   309xx    GA         < 1 year    \n",
       "2  2400.0     small_business  8.72   606xx    IL         10+ years   \n",
       "3  10000.0    other           20.00  917xx    CA         10+ years   \n",
       "4  3000.0     other           17.94  972xx    OR         1 year      \n",
       "\n",
       "   policy_code  \n",
       "0  1.0          \n",
       "1  1.0          \n",
       "2  1.0          \n",
       "3  1.0          \n",
       "4  1.0          "
      ]
     },
     "execution_count": 16,
     "metadata": {},
     "output_type": "execute_result"
    }
   ],
   "source": [
    "approve_sub.head()"
   ]
  },
  {
   "cell_type": "code",
   "execution_count": 17,
   "metadata": {
    "ExecuteTime": {
     "end_time": "2017-05-02T07:06:51.872340Z",
     "start_time": "2017-05-02T07:06:51.853706Z"
    }
   },
   "outputs": [
    {
     "data": {
      "text/html": [
       "<div>\n",
       "<table border=\"1\" class=\"dataframe\">\n",
       "  <thead>\n",
       "    <tr style=\"text-align: right;\">\n",
       "      <th></th>\n",
       "      <th>loan_amnt</th>\n",
       "      <th>purpose</th>\n",
       "      <th>dti</th>\n",
       "      <th>zip_code</th>\n",
       "      <th>addr_state</th>\n",
       "      <th>emp_length</th>\n",
       "      <th>policy_code</th>\n",
       "    </tr>\n",
       "  </thead>\n",
       "  <tbody>\n",
       "    <tr>\n",
       "      <th>0</th>\n",
       "      <td>35000.0</td>\n",
       "      <td>credit_card</td>\n",
       "      <td>100%</td>\n",
       "      <td>708xx</td>\n",
       "      <td>LA</td>\n",
       "      <td>&lt; 1 year</td>\n",
       "      <td>0</td>\n",
       "    </tr>\n",
       "    <tr>\n",
       "      <th>1</th>\n",
       "      <td>7500.0</td>\n",
       "      <td>debt_consolidation</td>\n",
       "      <td>1.52%</td>\n",
       "      <td>423xx</td>\n",
       "      <td>KY</td>\n",
       "      <td>&lt; 1 year</td>\n",
       "      <td>0</td>\n",
       "    </tr>\n",
       "    <tr>\n",
       "      <th>2</th>\n",
       "      <td>25000.0</td>\n",
       "      <td>debt_consolidation</td>\n",
       "      <td>95.85%</td>\n",
       "      <td>731xx</td>\n",
       "      <td>OK</td>\n",
       "      <td>&lt; 1 year</td>\n",
       "      <td>0</td>\n",
       "    </tr>\n",
       "    <tr>\n",
       "      <th>3</th>\n",
       "      <td>3500.0</td>\n",
       "      <td>moving</td>\n",
       "      <td>10.12%</td>\n",
       "      <td>068xx</td>\n",
       "      <td>CT</td>\n",
       "      <td>&lt; 1 year</td>\n",
       "      <td>0</td>\n",
       "    </tr>\n",
       "    <tr>\n",
       "      <th>4</th>\n",
       "      <td>35000.0</td>\n",
       "      <td>credit_card</td>\n",
       "      <td>1867.45%</td>\n",
       "      <td>770xx</td>\n",
       "      <td>TX</td>\n",
       "      <td>&lt; 1 year</td>\n",
       "      <td>0</td>\n",
       "    </tr>\n",
       "  </tbody>\n",
       "</table>\n",
       "</div>"
      ],
      "text/plain": [
       "   loan_amnt             purpose       dti zip_code addr_state emp_length  \\\n",
       "0  35000.0    credit_card         100%      708xx    LA         < 1 year    \n",
       "1  7500.0     debt_consolidation  1.52%     423xx    KY         < 1 year    \n",
       "2  25000.0    debt_consolidation  95.85%    731xx    OK         < 1 year    \n",
       "3  3500.0     moving              10.12%    068xx    CT         < 1 year    \n",
       "4  35000.0    credit_card         1867.45%  770xx    TX         < 1 year    \n",
       "\n",
       "   policy_code  \n",
       "0  0            \n",
       "1  0            \n",
       "2  0            \n",
       "3  0            \n",
       "4  0            "
      ]
     },
     "execution_count": 17,
     "metadata": {},
     "output_type": "execute_result"
    }
   ],
   "source": [
    "reject_sub.head()"
   ]
  },
  {
   "cell_type": "markdown",
   "metadata": {},
   "source": [
    "## Class labels"
   ]
  },
  {
   "cell_type": "code",
   "execution_count": 18,
   "metadata": {
    "ExecuteTime": {
     "end_time": "2017-05-02T07:06:58.171720Z",
     "start_time": "2017-05-02T07:06:58.086625Z"
    }
   },
   "outputs": [
    {
     "data": {
      "text/plain": [
       "1.0    340280\n",
       "Name: policy_code, dtype: int64"
      ]
     },
     "execution_count": 18,
     "metadata": {},
     "output_type": "execute_result"
    }
   ],
   "source": [
    "approve_sub.policy_code.value_counts()"
   ]
  },
  {
   "cell_type": "code",
   "execution_count": 19,
   "metadata": {
    "ExecuteTime": {
     "end_time": "2017-05-02T07:06:59.706253Z",
     "start_time": "2017-05-02T07:06:59.629297Z"
    }
   },
   "outputs": [
    {
     "data": {
      "text/plain": [
       "0    7596694\n",
       "2    76734  \n",
       "Name: policy_code, dtype: int64"
      ]
     },
     "execution_count": 19,
     "metadata": {},
     "output_type": "execute_result"
    }
   ],
   "source": [
    "reject_sub.policy_code.value_counts()"
   ]
  },
  {
   "cell_type": "code",
   "execution_count": 21,
   "metadata": {
    "ExecuteTime": {
     "end_time": "2017-05-02T07:07:08.937378Z",
     "start_time": "2017-05-02T07:07:08.877310Z"
    }
   },
   "outputs": [
    {
     "data": {
      "text/html": [
       "<div>\n",
       "<table border=\"1\" class=\"dataframe\">\n",
       "  <thead>\n",
       "    <tr style=\"text-align: right;\">\n",
       "      <th></th>\n",
       "      <th>loan_amnt</th>\n",
       "      <th>purpose</th>\n",
       "      <th>dti</th>\n",
       "      <th>zip_code</th>\n",
       "      <th>addr_state</th>\n",
       "      <th>emp_length</th>\n",
       "      <th>policy_code</th>\n",
       "    </tr>\n",
       "  </thead>\n",
       "  <tbody>\n",
       "    <tr>\n",
       "      <th>387</th>\n",
       "      <td>6500.0</td>\n",
       "      <td>Debt consolidation</td>\n",
       "      <td>24.99%</td>\n",
       "      <td>226xx</td>\n",
       "      <td>VA</td>\n",
       "      <td>9 years</td>\n",
       "      <td>2</td>\n",
       "    </tr>\n",
       "    <tr>\n",
       "      <th>552</th>\n",
       "      <td>2500.0</td>\n",
       "      <td>Major purchase</td>\n",
       "      <td>11.59%</td>\n",
       "      <td>741xx</td>\n",
       "      <td>OK</td>\n",
       "      <td>1 year</td>\n",
       "      <td>2</td>\n",
       "    </tr>\n",
       "    <tr>\n",
       "      <th>853</th>\n",
       "      <td>8000.0</td>\n",
       "      <td>Credit card refinancing</td>\n",
       "      <td>16.35%</td>\n",
       "      <td>336xx</td>\n",
       "      <td>FL</td>\n",
       "      <td>10+ years</td>\n",
       "      <td>2</td>\n",
       "    </tr>\n",
       "    <tr>\n",
       "      <th>1877</th>\n",
       "      <td>8500.0</td>\n",
       "      <td>Credit card refinancing</td>\n",
       "      <td>22.2%</td>\n",
       "      <td>983xx</td>\n",
       "      <td>WA</td>\n",
       "      <td>10+ years</td>\n",
       "      <td>2</td>\n",
       "    </tr>\n",
       "    <tr>\n",
       "      <th>1894</th>\n",
       "      <td>3000.0</td>\n",
       "      <td>Credit card refinancing</td>\n",
       "      <td>14.32%</td>\n",
       "      <td>460xx</td>\n",
       "      <td>IN</td>\n",
       "      <td>10+ years</td>\n",
       "      <td>2</td>\n",
       "    </tr>\n",
       "  </tbody>\n",
       "</table>\n",
       "</div>"
      ],
      "text/plain": [
       "      loan_amnt                  purpose     dti zip_code addr_state  \\\n",
       "387   6500.0     Debt consolidation       24.99%  226xx    VA          \n",
       "552   2500.0     Major purchase           11.59%  741xx    OK          \n",
       "853   8000.0     Credit card refinancing  16.35%  336xx    FL          \n",
       "1877  8500.0     Credit card refinancing  22.2%   983xx    WA          \n",
       "1894  3000.0     Credit card refinancing  14.32%  460xx    IN          \n",
       "\n",
       "     emp_length  policy_code  \n",
       "387   9 years    2            \n",
       "552   1 year     2            \n",
       "853   10+ years  2            \n",
       "1877  10+ years  2            \n",
       "1894  10+ years  2            "
      ]
     },
     "execution_count": 21,
     "metadata": {},
     "output_type": "execute_result"
    }
   ],
   "source": [
    "reject_sub[reject_sub.policy_code == 2].head()"
   ]
  },
  {
   "cell_type": "code",
   "execution_count": 22,
   "metadata": {
    "ExecuteTime": {
     "end_time": "2017-05-02T07:07:10.263447Z",
     "start_time": "2017-05-02T07:07:09.710305Z"
    }
   },
   "outputs": [
    {
     "data": {
      "text/html": [
       "<div>\n",
       "<table border=\"1\" class=\"dataframe\">\n",
       "  <thead>\n",
       "    <tr style=\"text-align: right;\">\n",
       "      <th></th>\n",
       "      <th>loan_amnt</th>\n",
       "      <th>purpose</th>\n",
       "      <th>dti</th>\n",
       "      <th>zip_code</th>\n",
       "      <th>addr_state</th>\n",
       "      <th>emp_length</th>\n",
       "      <th>policy_code</th>\n",
       "    </tr>\n",
       "  </thead>\n",
       "  <tbody>\n",
       "    <tr>\n",
       "      <th>0</th>\n",
       "      <td>35000.0</td>\n",
       "      <td>credit_card</td>\n",
       "      <td>100%</td>\n",
       "      <td>708xx</td>\n",
       "      <td>LA</td>\n",
       "      <td>&lt; 1 year</td>\n",
       "      <td>0</td>\n",
       "    </tr>\n",
       "    <tr>\n",
       "      <th>1</th>\n",
       "      <td>7500.0</td>\n",
       "      <td>debt_consolidation</td>\n",
       "      <td>1.52%</td>\n",
       "      <td>423xx</td>\n",
       "      <td>KY</td>\n",
       "      <td>&lt; 1 year</td>\n",
       "      <td>0</td>\n",
       "    </tr>\n",
       "    <tr>\n",
       "      <th>2</th>\n",
       "      <td>25000.0</td>\n",
       "      <td>debt_consolidation</td>\n",
       "      <td>95.85%</td>\n",
       "      <td>731xx</td>\n",
       "      <td>OK</td>\n",
       "      <td>&lt; 1 year</td>\n",
       "      <td>0</td>\n",
       "    </tr>\n",
       "    <tr>\n",
       "      <th>3</th>\n",
       "      <td>3500.0</td>\n",
       "      <td>moving</td>\n",
       "      <td>10.12%</td>\n",
       "      <td>068xx</td>\n",
       "      <td>CT</td>\n",
       "      <td>&lt; 1 year</td>\n",
       "      <td>0</td>\n",
       "    </tr>\n",
       "    <tr>\n",
       "      <th>4</th>\n",
       "      <td>35000.0</td>\n",
       "      <td>credit_card</td>\n",
       "      <td>1867.45%</td>\n",
       "      <td>770xx</td>\n",
       "      <td>TX</td>\n",
       "      <td>&lt; 1 year</td>\n",
       "      <td>0</td>\n",
       "    </tr>\n",
       "  </tbody>\n",
       "</table>\n",
       "</div>"
      ],
      "text/plain": [
       "   loan_amnt             purpose       dti zip_code addr_state emp_length  \\\n",
       "0  35000.0    credit_card         100%      708xx    LA         < 1 year    \n",
       "1  7500.0     debt_consolidation  1.52%     423xx    KY         < 1 year    \n",
       "2  25000.0    debt_consolidation  95.85%    731xx    OK         < 1 year    \n",
       "3  3500.0     moving              10.12%    068xx    CT         < 1 year    \n",
       "4  35000.0    credit_card         1867.45%  770xx    TX         < 1 year    \n",
       "\n",
       "   policy_code  \n",
       "0  0            \n",
       "1  0            \n",
       "2  0            \n",
       "3  0            \n",
       "4  0            "
      ]
     },
     "execution_count": 22,
     "metadata": {},
     "output_type": "execute_result"
    }
   ],
   "source": [
    "reject_sub[reject_sub.policy_code == 0].head()"
   ]
  },
  {
   "cell_type": "markdown",
   "metadata": {
    "ExecuteTime": {
     "end_time": "2017-05-02T07:07:15.924683Z",
     "start_time": "2017-05-02T07:07:15.918385Z"
    }
   },
   "source": [
    "- There are 2 ways to get rejected\n",
    "    - One is to get rejected totally\n",
    "    - Two is when they don't have a suitable product (?)"
   ]
  },
  {
   "cell_type": "code",
   "execution_count": 55,
   "metadata": {
    "ExecuteTime": {
     "end_time": "2017-05-02T07:52:21.769686Z",
     "start_time": "2017-05-02T07:52:21.355240Z"
    },
    "collapsed": true
   },
   "outputs": [],
   "source": [
    "app_df = pd.concat([approve_sub, reject_sub])"
   ]
  },
  {
   "cell_type": "code",
   "execution_count": 56,
   "metadata": {
    "ExecuteTime": {
     "end_time": "2017-05-02T07:52:22.358014Z",
     "start_time": "2017-05-02T07:52:22.337882Z"
    }
   },
   "outputs": [
    {
     "data": {
      "text/html": [
       "<div>\n",
       "<table border=\"1\" class=\"dataframe\">\n",
       "  <thead>\n",
       "    <tr style=\"text-align: right;\">\n",
       "      <th></th>\n",
       "      <th>loan_amnt</th>\n",
       "      <th>purpose</th>\n",
       "      <th>dti</th>\n",
       "      <th>zip_code</th>\n",
       "      <th>addr_state</th>\n",
       "      <th>emp_length</th>\n",
       "      <th>policy_code</th>\n",
       "    </tr>\n",
       "  </thead>\n",
       "  <tbody>\n",
       "    <tr>\n",
       "      <th>0</th>\n",
       "      <td>5000.0</td>\n",
       "      <td>credit_card</td>\n",
       "      <td>27.65</td>\n",
       "      <td>860xx</td>\n",
       "      <td>AZ</td>\n",
       "      <td>10+ years</td>\n",
       "      <td>1.0</td>\n",
       "    </tr>\n",
       "    <tr>\n",
       "      <th>1</th>\n",
       "      <td>2500.0</td>\n",
       "      <td>car</td>\n",
       "      <td>1</td>\n",
       "      <td>309xx</td>\n",
       "      <td>GA</td>\n",
       "      <td>&lt; 1 year</td>\n",
       "      <td>1.0</td>\n",
       "    </tr>\n",
       "    <tr>\n",
       "      <th>2</th>\n",
       "      <td>2400.0</td>\n",
       "      <td>small_business</td>\n",
       "      <td>8.72</td>\n",
       "      <td>606xx</td>\n",
       "      <td>IL</td>\n",
       "      <td>10+ years</td>\n",
       "      <td>1.0</td>\n",
       "    </tr>\n",
       "    <tr>\n",
       "      <th>3</th>\n",
       "      <td>10000.0</td>\n",
       "      <td>other</td>\n",
       "      <td>20</td>\n",
       "      <td>917xx</td>\n",
       "      <td>CA</td>\n",
       "      <td>10+ years</td>\n",
       "      <td>1.0</td>\n",
       "    </tr>\n",
       "    <tr>\n",
       "      <th>4</th>\n",
       "      <td>3000.0</td>\n",
       "      <td>other</td>\n",
       "      <td>17.94</td>\n",
       "      <td>972xx</td>\n",
       "      <td>OR</td>\n",
       "      <td>1 year</td>\n",
       "      <td>1.0</td>\n",
       "    </tr>\n",
       "  </tbody>\n",
       "</table>\n",
       "</div>"
      ],
      "text/plain": [
       "   loan_amnt         purpose    dti zip_code addr_state emp_length  \\\n",
       "0  5000.0     credit_card     27.65  860xx    AZ         10+ years   \n",
       "1  2500.0     car             1      309xx    GA         < 1 year    \n",
       "2  2400.0     small_business  8.72   606xx    IL         10+ years   \n",
       "3  10000.0    other           20     917xx    CA         10+ years   \n",
       "4  3000.0     other           17.94  972xx    OR         1 year      \n",
       "\n",
       "   policy_code  \n",
       "0  1.0          \n",
       "1  1.0          \n",
       "2  1.0          \n",
       "3  1.0          \n",
       "4  1.0          "
      ]
     },
     "execution_count": 56,
     "metadata": {},
     "output_type": "execute_result"
    }
   ],
   "source": [
    "app_df.head()"
   ]
  },
  {
   "cell_type": "code",
   "execution_count": 57,
   "metadata": {
    "ExecuteTime": {
     "end_time": "2017-05-02T07:52:31.253627Z",
     "start_time": "2017-05-02T07:52:22.801458Z"
    },
    "collapsed": true
   },
   "outputs": [],
   "source": [
    "with open(\"application_data.pkl\", \"wb\") as f:\n",
    "    pickle.dump(app_df, f)"
   ]
  },
  {
   "cell_type": "markdown",
   "metadata": {},
   "source": [
    "# Data cleaning"
   ]
  },
  {
   "cell_type": "code",
   "execution_count": 58,
   "metadata": {
    "ExecuteTime": {
     "end_time": "2017-05-02T07:52:33.567473Z",
     "start_time": "2017-05-02T07:52:31.801123Z"
    },
    "collapsed": true
   },
   "outputs": [],
   "source": [
    "with open(\"application_data.pkl\", \"rb\") as f:\n",
    "    app_df = pickle.load(f)"
   ]
  },
  {
   "cell_type": "code",
   "execution_count": 59,
   "metadata": {
    "ExecuteTime": {
     "end_time": "2017-05-02T07:52:33.577966Z",
     "start_time": "2017-05-02T07:52:33.569695Z"
    },
    "collapsed": true
   },
   "outputs": [],
   "source": [
    "app_df.reset_index(inplace=True, drop=True)"
   ]
  },
  {
   "cell_type": "code",
   "execution_count": 60,
   "metadata": {
    "ExecuteTime": {
     "end_time": "2017-05-02T07:52:34.917897Z",
     "start_time": "2017-05-02T07:52:34.095184Z"
    }
   },
   "outputs": [
    {
     "name": "stdout",
     "output_type": "stream",
     "text": [
      "<class 'pandas.core.frame.DataFrame'>\n",
      "RangeIndex: 8013732 entries, 0 to 8013731\n",
      "Data columns (total 7 columns):\n",
      "loan_amnt      float64\n",
      "purpose        object\n",
      "dti            object\n",
      "zip_code       object\n",
      "addr_state     object\n",
      "emp_length     object\n",
      "policy_code    float64\n",
      "dtypes: float64(2), object(5)\n",
      "memory usage: 428.0+ MB\n"
     ]
    }
   ],
   "source": [
    "app_df.info()"
   ]
  },
  {
   "cell_type": "code",
   "execution_count": 61,
   "metadata": {
    "ExecuteTime": {
     "end_time": "2017-05-02T07:52:38.791489Z",
     "start_time": "2017-05-02T07:52:35.839590Z"
    }
   },
   "outputs": [
    {
     "data": {
      "text/plain": [
       "loan_amnt      24 \n",
       "purpose        122\n",
       "dti            24 \n",
       "zip_code       346\n",
       "addr_state     24 \n",
       "emp_length     24 \n",
       "policy_code    24 \n",
       "dtype: int64"
      ]
     },
     "execution_count": 61,
     "metadata": {},
     "output_type": "execute_result"
    }
   ],
   "source": [
    "app_df.isnull().sum()"
   ]
  },
  {
   "cell_type": "code",
   "execution_count": 62,
   "metadata": {
    "ExecuteTime": {
     "end_time": "2017-05-02T07:52:42.479570Z",
     "start_time": "2017-05-02T07:52:38.794209Z"
    },
    "collapsed": true
   },
   "outputs": [],
   "source": [
    "app_df.dropna(inplace=True)"
   ]
  },
  {
   "cell_type": "code",
   "execution_count": 63,
   "metadata": {
    "ExecuteTime": {
     "end_time": "2017-05-02T07:52:45.828248Z",
     "start_time": "2017-05-02T07:52:45.821859Z"
    },
    "collapsed": true
   },
   "outputs": [],
   "source": [
    "def remove_percent(x):\n",
    "    try:\n",
    "        return float(x.strip(\"%\"))\n",
    "    except:\n",
    "        return float(x)\n",
    "\n",
    "def remove_x(x):\n",
    "    try:\n",
    "        return float(x.strip(\"x\"))\n",
    "    except:\n",
    "        return float(x)"
   ]
  },
  {
   "cell_type": "code",
   "execution_count": 64,
   "metadata": {
    "ExecuteTime": {
     "end_time": "2017-05-02T07:53:01.692466Z",
     "start_time": "2017-05-02T07:52:46.529336Z"
    },
    "collapsed": true
   },
   "outputs": [],
   "source": [
    "app_df.loc[:,\"dti\"] = app_df.dti.apply(remove_percent)\n",
    "app_df.loc[:,\"zip_code\"] = app_df.zip_code.apply(remove_x)"
   ]
  },
  {
   "cell_type": "code",
   "execution_count": 65,
   "metadata": {
    "ExecuteTime": {
     "end_time": "2017-05-02T07:53:02.953342Z",
     "start_time": "2017-05-02T07:53:02.513183Z"
    }
   },
   "outputs": [
    {
     "name": "stdout",
     "output_type": "stream",
     "text": [
      "<class 'pandas.core.frame.DataFrame'>\n",
      "Int64Index: 8013288 entries, 0 to 8013731\n",
      "Data columns (total 7 columns):\n",
      "loan_amnt      float64\n",
      "purpose        object\n",
      "dti            float64\n",
      "zip_code       float64\n",
      "addr_state     object\n",
      "emp_length     object\n",
      "policy_code    float64\n",
      "dtypes: float64(4), object(3)\n",
      "memory usage: 489.1+ MB\n"
     ]
    }
   ],
   "source": [
    "app_df.info()"
   ]
  },
  {
   "cell_type": "code",
   "execution_count": 66,
   "metadata": {
    "ExecuteTime": {
     "end_time": "2017-05-02T07:53:04.957257Z",
     "start_time": "2017-05-02T07:53:03.567289Z"
    },
    "collapsed": true
   },
   "outputs": [],
   "source": [
    "app_df.emp_length.unique()\n",
    "\n",
    "# GROUP N/A WITH < 1\n",
    "app_df.loc[:, \"emp_length\"] = app_df.emp_length.replace(to_replace=[\"n/a\"], value=\"< 1 year\")"
   ]
  },
  {
   "cell_type": "code",
   "execution_count": 67,
   "metadata": {
    "ExecuteTime": {
     "end_time": "2017-05-02T07:53:06.124449Z",
     "start_time": "2017-05-02T07:53:05.487780Z"
    }
   },
   "outputs": [
    {
     "data": {
      "text/plain": [
       "array(['credit_card', 'car', 'small_business', 'other', 'wedding',\n",
       "       'debt_consolidation', 'home_improvement', 'major_purchase',\n",
       "       'medical', 'moving', 'vacation', 'house', 'renewable_energy',\n",
       "       'educational', 'Debt consolidation', 'Other', 'Green loan',\n",
       "       'Credit card refinancing', 'Business Loan', 'Home improvement',\n",
       "       'Business', 'Major purchase', 'Medical expenses', 'Vacation',\n",
       "       'Moving and relocation', 'Home buying', 'Car financing'], dtype=object)"
      ]
     },
     "execution_count": 67,
     "metadata": {},
     "output_type": "execute_result"
    }
   ],
   "source": [
    "app_df.purpose.unique()"
   ]
  },
  {
   "cell_type": "code",
   "execution_count": 68,
   "metadata": {
    "ExecuteTime": {
     "end_time": "2017-05-02T07:53:06.733373Z",
     "start_time": "2017-05-02T07:53:06.719976Z"
    },
    "collapsed": true
   },
   "outputs": [],
   "source": [
    "def sub_purpose(x):\n",
    "    if \"credit\" in x.lower():\n",
    "        return \"credit_card\"\n",
    "    elif \"moving\" in x.lower():\n",
    "        return \"moving\"\n",
    "    elif \"car\" in x.lower():\n",
    "        return \"car\"\n",
    "    elif \"debt\" in x.lower():\n",
    "        return \"debt_consolidation\"\n",
    "    elif \"improv\" in x.lower():\n",
    "        return \"home_improvement\"\n",
    "    elif \"home\" in x.lower() or \"house\" in x.lower():\n",
    "        return \"house_purchase\"\n",
    "    elif \" vacation\" in x.lower():\n",
    "        return \"vacation\"\n",
    "    elif \"medical\" in x.lower():\n",
    "        return \"medical\"\n",
    "    elif \"business\" in x.lower():\n",
    "        return \"business\"\n",
    "    elif \"major\" in x.lower():\n",
    "        return \"major_purchase\"\n",
    "    elif \"energy\" in x.lower() or \"green\" in x.lower():\n",
    "        return \"renewable_energy\"\n",
    "    else:\n",
    "        return \"other\""
   ]
  },
  {
   "cell_type": "code",
   "execution_count": 69,
   "metadata": {
    "ExecuteTime": {
     "end_time": "2017-05-02T07:53:16.407593Z",
     "start_time": "2017-05-02T07:53:07.727734Z"
    },
    "collapsed": true
   },
   "outputs": [],
   "source": [
    "app_df[\"purpose\"] = app_df.purpose.apply(sub_purpose)"
   ]
  },
  {
   "cell_type": "code",
   "execution_count": 70,
   "metadata": {
    "ExecuteTime": {
     "end_time": "2017-05-02T07:53:18.451870Z",
     "start_time": "2017-05-02T07:53:18.434387Z"
    }
   },
   "outputs": [
    {
     "data": {
      "text/html": [
       "<div>\n",
       "<table border=\"1\" class=\"dataframe\">\n",
       "  <thead>\n",
       "    <tr style=\"text-align: right;\">\n",
       "      <th></th>\n",
       "      <th>loan_amnt</th>\n",
       "      <th>purpose</th>\n",
       "      <th>dti</th>\n",
       "      <th>zip_code</th>\n",
       "      <th>addr_state</th>\n",
       "      <th>emp_length</th>\n",
       "      <th>policy_code</th>\n",
       "    </tr>\n",
       "  </thead>\n",
       "  <tbody>\n",
       "    <tr>\n",
       "      <th>0</th>\n",
       "      <td>5000.0</td>\n",
       "      <td>credit_card</td>\n",
       "      <td>27.65</td>\n",
       "      <td>860.0</td>\n",
       "      <td>AZ</td>\n",
       "      <td>10+ years</td>\n",
       "      <td>1.0</td>\n",
       "    </tr>\n",
       "    <tr>\n",
       "      <th>1</th>\n",
       "      <td>2500.0</td>\n",
       "      <td>car</td>\n",
       "      <td>1.00</td>\n",
       "      <td>309.0</td>\n",
       "      <td>GA</td>\n",
       "      <td>&lt; 1 year</td>\n",
       "      <td>1.0</td>\n",
       "    </tr>\n",
       "    <tr>\n",
       "      <th>2</th>\n",
       "      <td>2400.0</td>\n",
       "      <td>business</td>\n",
       "      <td>8.72</td>\n",
       "      <td>606.0</td>\n",
       "      <td>IL</td>\n",
       "      <td>10+ years</td>\n",
       "      <td>1.0</td>\n",
       "    </tr>\n",
       "    <tr>\n",
       "      <th>3</th>\n",
       "      <td>10000.0</td>\n",
       "      <td>other</td>\n",
       "      <td>20.00</td>\n",
       "      <td>917.0</td>\n",
       "      <td>CA</td>\n",
       "      <td>10+ years</td>\n",
       "      <td>1.0</td>\n",
       "    </tr>\n",
       "    <tr>\n",
       "      <th>4</th>\n",
       "      <td>3000.0</td>\n",
       "      <td>other</td>\n",
       "      <td>17.94</td>\n",
       "      <td>972.0</td>\n",
       "      <td>OR</td>\n",
       "      <td>1 year</td>\n",
       "      <td>1.0</td>\n",
       "    </tr>\n",
       "  </tbody>\n",
       "</table>\n",
       "</div>"
      ],
      "text/plain": [
       "   loan_amnt      purpose    dti  zip_code addr_state emp_length  policy_code\n",
       "0  5000.0     credit_card  27.65  860.0     AZ         10+ years  1.0        \n",
       "1  2500.0     car          1.00   309.0     GA         < 1 year   1.0        \n",
       "2  2400.0     business     8.72   606.0     IL         10+ years  1.0        \n",
       "3  10000.0    other        20.00  917.0     CA         10+ years  1.0        \n",
       "4  3000.0     other        17.94  972.0     OR         1 year     1.0        "
      ]
     },
     "execution_count": 70,
     "metadata": {},
     "output_type": "execute_result"
    }
   ],
   "source": [
    "app_df.head()"
   ]
  },
  {
   "cell_type": "code",
   "execution_count": 71,
   "metadata": {
    "ExecuteTime": {
     "end_time": "2017-05-02T07:53:19.169967Z",
     "start_time": "2017-05-02T07:53:19.161773Z"
    }
   },
   "outputs": [
    {
     "name": "stdout",
     "output_type": "stream",
     "text": [
      "<class 'pandas.core.frame.DataFrame'>\n",
      "Int64Index: 8013288 entries, 0 to 8013731\n",
      "Data columns (total 7 columns):\n",
      "loan_amnt      float64\n",
      "purpose        object\n",
      "dti            float64\n",
      "zip_code       float64\n",
      "addr_state     object\n",
      "emp_length     object\n",
      "policy_code    float64\n",
      "dtypes: float64(4), object(3)\n",
      "memory usage: 489.1+ MB\n"
     ]
    }
   ],
   "source": [
    "app_df.info()"
   ]
  },
  {
   "cell_type": "code",
   "execution_count": 72,
   "metadata": {
    "ExecuteTime": {
     "end_time": "2017-05-02T07:53:27.478753Z",
     "start_time": "2017-05-02T07:53:19.849371Z"
    },
    "collapsed": true
   },
   "outputs": [],
   "source": [
    "with open(\"application_data.pkl\", \"wb\") as f:\n",
    "    pickle.dump(app_df, f)"
   ]
  },
  {
   "cell_type": "markdown",
   "metadata": {},
   "source": [
    "# Categoricals"
   ]
  },
  {
   "cell_type": "code",
   "execution_count": 73,
   "metadata": {
    "ExecuteTime": {
     "end_time": "2017-05-02T07:53:31.233631Z",
     "start_time": "2017-05-02T07:53:30.080472Z"
    },
    "collapsed": true
   },
   "outputs": [],
   "source": [
    "with open(\"application_data.pkl\", \"rb\") as f:\n",
    "    cat_df = pickle.load(f)"
   ]
  },
  {
   "cell_type": "code",
   "execution_count": 74,
   "metadata": {
    "ExecuteTime": {
     "end_time": "2017-05-02T07:53:31.733920Z",
     "start_time": "2017-05-02T07:53:31.716107Z"
    }
   },
   "outputs": [
    {
     "data": {
      "text/html": [
       "<div>\n",
       "<table border=\"1\" class=\"dataframe\">\n",
       "  <thead>\n",
       "    <tr style=\"text-align: right;\">\n",
       "      <th></th>\n",
       "      <th>loan_amnt</th>\n",
       "      <th>purpose</th>\n",
       "      <th>dti</th>\n",
       "      <th>zip_code</th>\n",
       "      <th>addr_state</th>\n",
       "      <th>emp_length</th>\n",
       "      <th>policy_code</th>\n",
       "    </tr>\n",
       "  </thead>\n",
       "  <tbody>\n",
       "    <tr>\n",
       "      <th>0</th>\n",
       "      <td>5000.0</td>\n",
       "      <td>credit_card</td>\n",
       "      <td>27.65</td>\n",
       "      <td>860.0</td>\n",
       "      <td>AZ</td>\n",
       "      <td>10+ years</td>\n",
       "      <td>1.0</td>\n",
       "    </tr>\n",
       "    <tr>\n",
       "      <th>1</th>\n",
       "      <td>2500.0</td>\n",
       "      <td>car</td>\n",
       "      <td>1.00</td>\n",
       "      <td>309.0</td>\n",
       "      <td>GA</td>\n",
       "      <td>&lt; 1 year</td>\n",
       "      <td>1.0</td>\n",
       "    </tr>\n",
       "    <tr>\n",
       "      <th>2</th>\n",
       "      <td>2400.0</td>\n",
       "      <td>business</td>\n",
       "      <td>8.72</td>\n",
       "      <td>606.0</td>\n",
       "      <td>IL</td>\n",
       "      <td>10+ years</td>\n",
       "      <td>1.0</td>\n",
       "    </tr>\n",
       "    <tr>\n",
       "      <th>3</th>\n",
       "      <td>10000.0</td>\n",
       "      <td>other</td>\n",
       "      <td>20.00</td>\n",
       "      <td>917.0</td>\n",
       "      <td>CA</td>\n",
       "      <td>10+ years</td>\n",
       "      <td>1.0</td>\n",
       "    </tr>\n",
       "    <tr>\n",
       "      <th>4</th>\n",
       "      <td>3000.0</td>\n",
       "      <td>other</td>\n",
       "      <td>17.94</td>\n",
       "      <td>972.0</td>\n",
       "      <td>OR</td>\n",
       "      <td>1 year</td>\n",
       "      <td>1.0</td>\n",
       "    </tr>\n",
       "  </tbody>\n",
       "</table>\n",
       "</div>"
      ],
      "text/plain": [
       "   loan_amnt      purpose    dti  zip_code addr_state emp_length  policy_code\n",
       "0  5000.0     credit_card  27.65  860.0     AZ         10+ years  1.0        \n",
       "1  2500.0     car          1.00   309.0     GA         < 1 year   1.0        \n",
       "2  2400.0     business     8.72   606.0     IL         10+ years  1.0        \n",
       "3  10000.0    other        20.00  917.0     CA         10+ years  1.0        \n",
       "4  3000.0     other        17.94  972.0     OR         1 year     1.0        "
      ]
     },
     "execution_count": 74,
     "metadata": {},
     "output_type": "execute_result"
    }
   ],
   "source": [
    "cat_df.head()"
   ]
  },
  {
   "cell_type": "code",
   "execution_count": 75,
   "metadata": {
    "ExecuteTime": {
     "end_time": "2017-05-02T08:05:03.294765Z",
     "start_time": "2017-05-02T08:05:03.290932Z"
    },
    "collapsed": true
   },
   "outputs": [],
   "source": [
    "purpose_encoder = preprocessing.LabelEncoder()"
   ]
  },
  {
   "cell_type": "code",
   "execution_count": 77,
   "metadata": {
    "ExecuteTime": {
     "end_time": "2017-05-02T08:06:58.845780Z",
     "start_time": "2017-05-02T08:06:50.787084Z"
    },
    "collapsed": true
   },
   "outputs": [],
   "source": [
    "cat_df[\"purpose\"] = purpose_encoder.fit_transform(cat_df.purpose)"
   ]
  },
  {
   "cell_type": "code",
   "execution_count": 78,
   "metadata": {
    "ExecuteTime": {
     "end_time": "2017-05-02T08:07:11.029916Z",
     "start_time": "2017-05-02T08:07:11.026114Z"
    },
    "collapsed": true
   },
   "outputs": [],
   "source": [
    "state_encoder = preprocessing.LabelEncoder()"
   ]
  },
  {
   "cell_type": "code",
   "execution_count": 79,
   "metadata": {
    "ExecuteTime": {
     "end_time": "2017-05-02T08:07:48.914846Z",
     "start_time": "2017-05-02T08:07:33.978234Z"
    },
    "collapsed": true
   },
   "outputs": [],
   "source": [
    "cat_df[\"state\"] = state_encoder.fit_transform(cat_df.addr_state)"
   ]
  },
  {
   "cell_type": "code",
   "execution_count": 84,
   "metadata": {
    "ExecuteTime": {
     "end_time": "2017-05-02T08:10:07.188904Z",
     "start_time": "2017-05-02T08:10:06.589759Z"
    }
   },
   "outputs": [
    {
     "data": {
      "text/plain": [
       "array(['10+ years', '< 1 year', '1 year', '3 years', '8 years', '9 years',\n",
       "       '4 years', '5 years', '6 years', '2 years', '7 years'], dtype=object)"
      ]
     },
     "execution_count": 84,
     "metadata": {},
     "output_type": "execute_result"
    }
   ],
   "source": [
    "cat_df.emp_length.unique()"
   ]
  },
  {
   "cell_type": "code",
   "execution_count": 57,
   "metadata": {
    "ExecuteTime": {
     "end_time": "2017-05-08T10:01:45.383077Z",
     "start_time": "2017-05-08T10:01:45.377519Z"
    },
    "collapsed": true
   },
   "outputs": [],
   "source": [
    "def emp_encoder(x):\n",
    "    if \"<\" in x:\n",
    "        return 0\n",
    "    elif \"10\" in x:\n",
    "        return 10\n",
    "    else:\n",
    "        return int(x[0])"
   ]
  },
  {
   "cell_type": "code",
   "execution_count": 87,
   "metadata": {
    "ExecuteTime": {
     "end_time": "2017-05-02T08:11:06.760841Z",
     "start_time": "2017-05-02T08:11:02.846597Z"
    },
    "collapsed": true
   },
   "outputs": [],
   "source": [
    "cat_df[\"emp_length\"] = cat_df.emp_length.apply(emp_encoder)"
   ]
  },
  {
   "cell_type": "code",
   "execution_count": 90,
   "metadata": {
    "ExecuteTime": {
     "end_time": "2017-05-02T08:11:49.901042Z",
     "start_time": "2017-05-02T08:11:49.896463Z"
    },
    "collapsed": true
   },
   "outputs": [],
   "source": [
    "del cat_df[\"addr_state\"]"
   ]
  },
  {
   "cell_type": "code",
   "execution_count": 91,
   "metadata": {
    "ExecuteTime": {
     "end_time": "2017-05-02T08:11:51.187229Z",
     "start_time": "2017-05-02T08:11:51.170199Z"
    }
   },
   "outputs": [
    {
     "data": {
      "text/html": [
       "<div>\n",
       "<table border=\"1\" class=\"dataframe\">\n",
       "  <thead>\n",
       "    <tr style=\"text-align: right;\">\n",
       "      <th></th>\n",
       "      <th>loan_amnt</th>\n",
       "      <th>purpose</th>\n",
       "      <th>dti</th>\n",
       "      <th>zip_code</th>\n",
       "      <th>emp_length</th>\n",
       "      <th>policy_code</th>\n",
       "      <th>state</th>\n",
       "    </tr>\n",
       "  </thead>\n",
       "  <tbody>\n",
       "    <tr>\n",
       "      <th>0</th>\n",
       "      <td>5000.0</td>\n",
       "      <td>2</td>\n",
       "      <td>27.65</td>\n",
       "      <td>860.0</td>\n",
       "      <td>10</td>\n",
       "      <td>1.0</td>\n",
       "      <td>3</td>\n",
       "    </tr>\n",
       "    <tr>\n",
       "      <th>1</th>\n",
       "      <td>2500.0</td>\n",
       "      <td>1</td>\n",
       "      <td>1.00</td>\n",
       "      <td>309.0</td>\n",
       "      <td>0</td>\n",
       "      <td>1.0</td>\n",
       "      <td>10</td>\n",
       "    </tr>\n",
       "    <tr>\n",
       "      <th>2</th>\n",
       "      <td>2400.0</td>\n",
       "      <td>0</td>\n",
       "      <td>8.72</td>\n",
       "      <td>606.0</td>\n",
       "      <td>10</td>\n",
       "      <td>1.0</td>\n",
       "      <td>14</td>\n",
       "    </tr>\n",
       "    <tr>\n",
       "      <th>3</th>\n",
       "      <td>10000.0</td>\n",
       "      <td>9</td>\n",
       "      <td>20.00</td>\n",
       "      <td>917.0</td>\n",
       "      <td>10</td>\n",
       "      <td>1.0</td>\n",
       "      <td>4</td>\n",
       "    </tr>\n",
       "    <tr>\n",
       "      <th>4</th>\n",
       "      <td>3000.0</td>\n",
       "      <td>9</td>\n",
       "      <td>17.94</td>\n",
       "      <td>972.0</td>\n",
       "      <td>1</td>\n",
       "      <td>1.0</td>\n",
       "      <td>37</td>\n",
       "    </tr>\n",
       "  </tbody>\n",
       "</table>\n",
       "</div>"
      ],
      "text/plain": [
       "   loan_amnt  purpose    dti  zip_code  emp_length  policy_code  state\n",
       "0  5000.0     2        27.65  860.0     10          1.0          3    \n",
       "1  2500.0     1        1.00   309.0     0           1.0          10   \n",
       "2  2400.0     0        8.72   606.0     10          1.0          14   \n",
       "3  10000.0    9        20.00  917.0     10          1.0          4    \n",
       "4  3000.0     9        17.94  972.0     1           1.0          37   "
      ]
     },
     "execution_count": 91,
     "metadata": {},
     "output_type": "execute_result"
    }
   ],
   "source": [
    "cat_df.head()"
   ]
  },
  {
   "cell_type": "code",
   "execution_count": 92,
   "metadata": {
    "ExecuteTime": {
     "end_time": "2017-05-02T08:12:26.849189Z",
     "start_time": "2017-05-02T08:12:18.959999Z"
    },
    "collapsed": true
   },
   "outputs": [],
   "source": [
    "with open(\"categorical_application_data.pkl\", \"wb\") as f:\n",
    "    pickle.dump(cat_df, f)"
   ]
  },
  {
   "cell_type": "markdown",
   "metadata": {},
   "source": [
    "# Visualization"
   ]
  },
  {
   "cell_type": "code",
   "execution_count": 36,
   "metadata": {
    "ExecuteTime": {
     "end_time": "2017-05-08T09:11:05.476014Z",
     "start_time": "2017-05-08T09:10:57.586875Z"
    },
    "collapsed": true
   },
   "outputs": [],
   "source": [
    "with open(\"categorical_application_data.pkl\", \"rb\") as f:\n",
    "    df = pickle.load(f)"
   ]
  },
  {
   "cell_type": "code",
   "execution_count": 4,
   "metadata": {
    "ExecuteTime": {
     "end_time": "2017-05-02T09:53:37.807141Z",
     "start_time": "2017-05-02T09:53:35.310952Z"
    }
   },
   "outputs": [
    {
     "data": {
      "image/png": "[encoded data removed]",
      "text/plain": [
       "<matplotlib.figure.Figure at 0x11144ef60>"
      ]
     },
     "metadata": {},
     "output_type": "display_data"
    }
   ],
   "source": [
    "sns.heatmap(df.corr());"
   ]
  },
  {
   "cell_type": "code",
   "execution_count": 37,
   "metadata": {
    "ExecuteTime": {
     "end_time": "2017-05-08T09:11:09.114746Z",
     "start_time": "2017-05-08T09:11:08.784639Z"
    }
   },
   "outputs": [
    {
     "data": {
      "text/html": [
       "<div>\n",
       "<table border=\"1\" class=\"dataframe\">\n",
       "  <thead>\n",
       "    <tr style=\"text-align: right;\">\n",
       "      <th></th>\n",
       "      <th>loan_amnt</th>\n",
       "      <th>purpose</th>\n",
       "      <th>dti</th>\n",
       "      <th>zip_code</th>\n",
       "      <th>emp_length</th>\n",
       "      <th>policy_code</th>\n",
       "      <th>state</th>\n",
       "    </tr>\n",
       "  </thead>\n",
       "  <tbody>\n",
       "    <tr>\n",
       "      <th>0</th>\n",
       "      <td>5000.0</td>\n",
       "      <td>2</td>\n",
       "      <td>27.65</td>\n",
       "      <td>860.0</td>\n",
       "      <td>10</td>\n",
       "      <td>1.0</td>\n",
       "      <td>3</td>\n",
       "    </tr>\n",
       "    <tr>\n",
       "      <th>1</th>\n",
       "      <td>2500.0</td>\n",
       "      <td>1</td>\n",
       "      <td>1.00</td>\n",
       "      <td>309.0</td>\n",
       "      <td>0</td>\n",
       "      <td>1.0</td>\n",
       "      <td>10</td>\n",
       "    </tr>\n",
       "    <tr>\n",
       "      <th>2</th>\n",
       "      <td>2400.0</td>\n",
       "      <td>0</td>\n",
       "      <td>8.72</td>\n",
       "      <td>606.0</td>\n",
       "      <td>10</td>\n",
       "      <td>1.0</td>\n",
       "      <td>14</td>\n",
       "    </tr>\n",
       "    <tr>\n",
       "      <th>3</th>\n",
       "      <td>10000.0</td>\n",
       "      <td>9</td>\n",
       "      <td>20.00</td>\n",
       "      <td>917.0</td>\n",
       "      <td>10</td>\n",
       "      <td>1.0</td>\n",
       "      <td>4</td>\n",
       "    </tr>\n",
       "    <tr>\n",
       "      <th>4</th>\n",
       "      <td>3000.0</td>\n",
       "      <td>9</td>\n",
       "      <td>17.94</td>\n",
       "      <td>972.0</td>\n",
       "      <td>1</td>\n",
       "      <td>1.0</td>\n",
       "      <td>37</td>\n",
       "    </tr>\n",
       "  </tbody>\n",
       "</table>\n",
       "</div>"
      ],
      "text/plain": [
       "   loan_amnt  purpose    dti  zip_code  emp_length  policy_code  state\n",
       "0  5000.0     2        27.65  860.0     10          1.0          3    \n",
       "1  2500.0     1        1.00   309.0     0           1.0          10   \n",
       "2  2400.0     0        8.72   606.0     10          1.0          14   \n",
       "3  10000.0    9        20.00  917.0     10          1.0          4    \n",
       "4  3000.0     9        17.94  972.0     1           1.0          37   "
      ]
     },
     "execution_count": 37,
     "metadata": {},
     "output_type": "execute_result"
    }
   ],
   "source": [
    "df.head()"
   ]
  },
  {
   "cell_type": "markdown",
   "metadata": {},
   "source": [
    "# Modeling"
   ]
  },
  {
   "cell_type": "code",
   "execution_count": 3,
   "metadata": {
    "ExecuteTime": {
     "end_time": "2017-05-06T04:58:22.648032Z",
     "start_time": "2017-05-06T04:58:22.095864Z"
    },
    "collapsed": true
   },
   "outputs": [],
   "source": [
    "X = df[[i for i in df.columns if \"policy\" not in i]]\n",
    "y = df[\"policy_code\"]"
   ]
  },
  {
   "cell_type": "code",
   "execution_count": 4,
   "metadata": {
    "ExecuteTime": {
     "end_time": "2017-05-06T04:58:36.266877Z",
     "start_time": "2017-05-06T04:58:23.968468Z"
    },
    "collapsed": true
   },
   "outputs": [],
   "source": [
    "X_train, X_test, y_train, y_test = model_selection.train_test_split(X, y, stratify=y, test_size= 0.3)"
   ]
  },
  {
   "cell_type": "code",
   "execution_count": 15,
   "metadata": {
    "ExecuteTime": {
     "end_time": "2017-05-02T10:05:08.015484Z",
     "start_time": "2017-05-02T10:05:08.011480Z"
    },
    "collapsed": true
   },
   "outputs": [],
   "source": [
    "logreg = linear_model.LogisticRegression()"
   ]
  },
  {
   "cell_type": "code",
   "execution_count": 16,
   "metadata": {
    "ExecuteTime": {
     "end_time": "2017-05-02T10:07:11.448865Z",
     "start_time": "2017-05-02T10:05:08.802421Z"
    }
   },
   "outputs": [
    {
     "data": {
      "text/plain": [
       "LogisticRegression(C=1.0, class_weight=None, dual=False, fit_intercept=True,\n",
       "          intercept_scaling=1, max_iter=100, multi_class='ovr', n_jobs=1,\n",
       "          penalty='l2', random_state=None, solver='liblinear', tol=0.0001,\n",
       "          verbose=0, warm_start=False)"
      ]
     },
     "execution_count": 16,
     "metadata": {},
     "output_type": "execute_result"
    }
   ],
   "source": [
    "logreg.fit(X_train, y_train)"
   ]
  },
  {
   "cell_type": "code",
   "execution_count": 17,
   "metadata": {
    "ExecuteTime": {
     "end_time": "2017-05-02T10:07:14.609502Z",
     "start_time": "2017-05-02T10:07:14.114396Z"
    }
   },
   "outputs": [
    {
     "data": {
      "text/plain": [
       "0.94687034497274736"
      ]
     },
     "execution_count": 17,
     "metadata": {},
     "output_type": "execute_result"
    }
   ],
   "source": [
    "logreg.score(X_test, y_test)"
   ]
  },
  {
   "cell_type": "code",
   "execution_count": 18,
   "metadata": {
    "ExecuteTime": {
     "end_time": "2017-05-02T10:07:43.567234Z",
     "start_time": "2017-05-02T10:07:43.407538Z"
    },
    "collapsed": true
   },
   "outputs": [],
   "source": [
    "y_pred = logreg.predict(X_test)"
   ]
  },
  {
   "cell_type": "code",
   "execution_count": 19,
   "metadata": {
    "ExecuteTime": {
     "end_time": "2017-05-02T10:07:53.803306Z",
     "start_time": "2017-05-02T10:07:52.431534Z"
    }
   },
   "outputs": [
    {
     "name": "stdout",
     "output_type": "stream",
     "text": [
      "             precision    recall  f1-score   support\n",
      "\n",
      "        0.0       0.95      1.00      0.97   2278883\n",
      "        1.0       0.39      0.07      0.13    102084\n",
      "        2.0       0.00      0.00      0.00     23020\n",
      "\n",
      "avg / total       0.92      0.95      0.93   2403987\n",
      "\n"
     ]
    },
    {
     "name": "stderr",
     "output_type": "stream",
     "text": [
      "/Users/joce/anaconda/lib/python3.6/site-packages/sklearn/metrics/classification.py:1113: UndefinedMetricWarning: Precision and F-score are ill-defined and being set to 0.0 in labels with no predicted samples.\n",
      "  'precision', 'predicted', average, warn_for)\n"
     ]
    }
   ],
   "source": [
    "print(metrics.classification_report(y_test, y_pred))"
   ]
  },
  {
   "cell_type": "code",
   "execution_count": 23,
   "metadata": {
    "ExecuteTime": {
     "end_time": "2017-05-02T10:09:00.565671Z",
     "start_time": "2017-05-02T10:08:58.109653Z"
    }
   },
   "outputs": [
    {
     "data": {
      "text/html": [
       "<div>\n",
       "<table border=\"1\" class=\"dataframe\">\n",
       "  <thead>\n",
       "    <tr style=\"text-align: right;\">\n",
       "      <th></th>\n",
       "      <th>0</th>\n",
       "      <th>1</th>\n",
       "      <th>2</th>\n",
       "    </tr>\n",
       "  </thead>\n",
       "  <tbody>\n",
       "    <tr>\n",
       "      <th>0</th>\n",
       "      <td>2268677</td>\n",
       "      <td>10206</td>\n",
       "      <td>0</td>\n",
       "    </tr>\n",
       "    <tr>\n",
       "      <th>1</th>\n",
       "      <td>94497</td>\n",
       "      <td>7587</td>\n",
       "      <td>0</td>\n",
       "    </tr>\n",
       "    <tr>\n",
       "      <th>2</th>\n",
       "      <td>21559</td>\n",
       "      <td>1461</td>\n",
       "      <td>0</td>\n",
       "    </tr>\n",
       "  </tbody>\n",
       "</table>\n",
       "</div>"
      ],
      "text/plain": [
       "         0      1  2\n",
       "0  2268677  10206  0\n",
       "1  94497    7587   0\n",
       "2  21559    1461   0"
      ]
     },
     "execution_count": 23,
     "metadata": {},
     "output_type": "execute_result"
    }
   ],
   "source": [
    "conmat = metrics.confusion_matrix(y_test, y_pred)\n",
    "conmat = pd.DataFrame(conmat)\n",
    "conmat"
   ]
  },
  {
   "cell_type": "code",
   "execution_count": 25,
   "metadata": {
    "ExecuteTime": {
     "end_time": "2017-05-02T10:09:28.076339Z",
     "start_time": "2017-05-02T10:09:28.069406Z"
    }
   },
   "outputs": [
    {
     "data": {
      "text/plain": [
       "array([[  4.00120836e-05,   2.34202601e-01,   4.57998039e-02,\n",
       "          1.32137257e-03,  -3.20551200e-01,   2.94339508e-02],\n",
       "       [ -5.01315685e-05,  -1.82823097e-01,  -4.63296706e-02,\n",
       "         -1.07456843e-03,   3.35037021e-01,  -2.45829155e-02],\n",
       "       [ -5.86415801e-06,  -3.49191790e-01,  -2.53101463e-02,\n",
       "         -1.30877672e-03,   2.08328729e-01,  -2.60533510e-02]])"
      ]
     },
     "execution_count": 25,
     "metadata": {},
     "output_type": "execute_result"
    }
   ],
   "source": [
    "logreg.coef_"
   ]
  },
  {
   "cell_type": "code",
   "execution_count": 34,
   "metadata": {
    "ExecuteTime": {
     "end_time": "2017-05-02T10:11:17.367610Z",
     "start_time": "2017-05-02T10:11:17.362590Z"
    },
    "collapsed": true
   },
   "outputs": [],
   "source": [
    "feat_imp = pd.DataFrame(logreg.coef_.T)\n",
    "feat_imp[\"features\"] = X_train.columns"
   ]
  },
  {
   "cell_type": "code",
   "execution_count": 35,
   "metadata": {
    "ExecuteTime": {
     "end_time": "2017-05-02T10:11:20.045591Z",
     "start_time": "2017-05-02T10:11:20.031980Z"
    }
   },
   "outputs": [
    {
     "data": {
      "text/html": [
       "<div>\n",
       "<table border=\"1\" class=\"dataframe\">\n",
       "  <thead>\n",
       "    <tr style=\"text-align: right;\">\n",
       "      <th></th>\n",
       "      <th>0</th>\n",
       "      <th>1</th>\n",
       "      <th>2</th>\n",
       "      <th>features</th>\n",
       "    </tr>\n",
       "  </thead>\n",
       "  <tbody>\n",
       "    <tr>\n",
       "      <th>0</th>\n",
       "      <td>0.000040</td>\n",
       "      <td>-0.000050</td>\n",
       "      <td>-0.000006</td>\n",
       "      <td>loan_amnt</td>\n",
       "    </tr>\n",
       "    <tr>\n",
       "      <th>1</th>\n",
       "      <td>0.234203</td>\n",
       "      <td>-0.182823</td>\n",
       "      <td>-0.349192</td>\n",
       "      <td>purpose</td>\n",
       "    </tr>\n",
       "    <tr>\n",
       "      <th>2</th>\n",
       "      <td>0.045800</td>\n",
       "      <td>-0.046330</td>\n",
       "      <td>-0.025310</td>\n",
       "      <td>dti</td>\n",
       "    </tr>\n",
       "    <tr>\n",
       "      <th>3</th>\n",
       "      <td>0.001321</td>\n",
       "      <td>-0.001075</td>\n",
       "      <td>-0.001309</td>\n",
       "      <td>zip_code</td>\n",
       "    </tr>\n",
       "    <tr>\n",
       "      <th>4</th>\n",
       "      <td>-0.320551</td>\n",
       "      <td>0.335037</td>\n",
       "      <td>0.208329</td>\n",
       "      <td>emp_length</td>\n",
       "    </tr>\n",
       "    <tr>\n",
       "      <th>5</th>\n",
       "      <td>0.029434</td>\n",
       "      <td>-0.024583</td>\n",
       "      <td>-0.026053</td>\n",
       "      <td>state</td>\n",
       "    </tr>\n",
       "  </tbody>\n",
       "</table>\n",
       "</div>"
      ],
      "text/plain": [
       "          0         1         2    features\n",
       "0  0.000040 -0.000050 -0.000006  loan_amnt \n",
       "1  0.234203 -0.182823 -0.349192  purpose   \n",
       "2  0.045800 -0.046330 -0.025310  dti       \n",
       "3  0.001321 -0.001075 -0.001309  zip_code  \n",
       "4 -0.320551  0.335037  0.208329  emp_length\n",
       "5  0.029434 -0.024583 -0.026053  state     "
      ]
     },
     "execution_count": 35,
     "metadata": {},
     "output_type": "execute_result"
    }
   ],
   "source": [
    "feat_imp"
   ]
  },
  {
   "cell_type": "markdown",
   "metadata": {},
   "source": [
    "- Biggest factors:\n",
    "    - Employment length\n",
    "    - Purpose"
   ]
  },
  {
   "cell_type": "code",
   "execution_count": 38,
   "metadata": {
    "ExecuteTime": {
     "end_time": "2017-05-08T09:11:16.410499Z",
     "start_time": "2017-05-08T09:11:15.911919Z"
    }
   },
   "outputs": [],
   "source": [
    "X = df[[i for i in df.columns if \"policy\" not in i and \"zip\" not in i]]\n",
    "y = df[\"policy_code\"]"
   ]
  },
  {
   "cell_type": "code",
   "execution_count": 39,
   "metadata": {
    "ExecuteTime": {
     "end_time": "2017-05-08T09:11:16.900493Z",
     "start_time": "2017-05-08T09:11:16.894140Z"
    }
   },
   "outputs": [
    {
     "data": {
      "text/plain": [
       "Index(['loan_amnt', 'purpose', 'dti', 'emp_length', 'state'], dtype='object')"
      ]
     },
     "execution_count": 39,
     "metadata": {},
     "output_type": "execute_result"
    }
   ],
   "source": [
    "X.columns"
   ]
  },
  {
   "cell_type": "code",
   "execution_count": 40,
   "metadata": {
    "ExecuteTime": {
     "end_time": "2017-05-08T09:11:28.630402Z",
     "start_time": "2017-05-08T09:11:17.404768Z"
    },
    "collapsed": true
   },
   "outputs": [],
   "source": [
    "X_train, X_test, y_train, y_test = model_selection.train_test_split(X, y, stratify=y, test_size= 0.3)"
   ]
  },
  {
   "cell_type": "code",
   "execution_count": 42,
   "metadata": {
    "ExecuteTime": {
     "end_time": "2017-05-08T09:11:47.573090Z",
     "start_time": "2017-05-08T09:11:47.569236Z"
    },
    "collapsed": true
   },
   "outputs": [],
   "source": [
    "logreg2 = linear_model.LogisticRegressionCV(cv=3)"
   ]
  },
  {
   "cell_type": "code",
   "execution_count": 43,
   "metadata": {
    "ExecuteTime": {
     "end_time": "2017-05-08T09:22:24.819627Z",
     "start_time": "2017-05-08T09:11:50.191707Z"
    }
   },
   "outputs": [
    {
     "data": {
      "text/plain": [
       "LogisticRegressionCV(Cs=10, class_weight=None, cv=3, dual=False,\n",
       "           fit_intercept=True, intercept_scaling=1.0, max_iter=100,\n",
       "           multi_class='ovr', n_jobs=1, penalty='l2', random_state=None,\n",
       "           refit=True, scoring=None, solver='lbfgs', tol=0.0001, verbose=0)"
      ]
     },
     "execution_count": 43,
     "metadata": {},
     "output_type": "execute_result"
    }
   ],
   "source": [
    "logreg2.fit(X_train, y_train)"
   ]
  },
  {
   "cell_type": "code",
   "execution_count": 44,
   "metadata": {
    "ExecuteTime": {
     "end_time": "2017-05-08T09:43:17.517590Z",
     "start_time": "2017-05-08T09:43:16.920660Z"
    }
   },
   "outputs": [
    {
     "data": {
      "text/plain": [
       "0.9476985524464151"
      ]
     },
     "execution_count": 44,
     "metadata": {},
     "output_type": "execute_result"
    }
   ],
   "source": [
    "logreg2.score(X_test, y_test)"
   ]
  },
  {
   "cell_type": "code",
   "execution_count": 45,
   "metadata": {
    "ExecuteTime": {
     "end_time": "2017-05-08T09:43:18.720834Z",
     "start_time": "2017-05-08T09:43:18.562619Z"
    },
    "collapsed": true
   },
   "outputs": [],
   "source": [
    "y_pred = logreg2.predict(X_test)"
   ]
  },
  {
   "cell_type": "code",
   "execution_count": 46,
   "metadata": {
    "ExecuteTime": {
     "end_time": "2017-05-08T09:43:21.096881Z",
     "start_time": "2017-05-08T09:43:19.801147Z"
    }
   },
   "outputs": [
    {
     "name": "stdout",
     "output_type": "stream",
     "text": [
      "             precision    recall  f1-score   support\n",
      "\n",
      "        0.0       0.95      1.00      0.97   2278883\n",
      "        1.0       0.43      0.04      0.07    102084\n",
      "        2.0       0.00      0.00      0.00     23020\n",
      "\n",
      "avg / total       0.92      0.95      0.93   2403987\n",
      "\n"
     ]
    },
    {
     "name": "stderr",
     "output_type": "stream",
     "text": [
      "/Users/joce/anaconda/lib/python3.6/site-packages/sklearn/metrics/classification.py:1113: UndefinedMetricWarning: Precision and F-score are ill-defined and being set to 0.0 in labels with no predicted samples.\n",
      "  'precision', 'predicted', average, warn_for)\n"
     ]
    }
   ],
   "source": [
    "print(metrics.classification_report(y_test, y_pred))"
   ]
  },
  {
   "cell_type": "code",
   "execution_count": 47,
   "metadata": {
    "ExecuteTime": {
     "end_time": "2017-05-08T09:43:27.385256Z",
     "start_time": "2017-05-08T09:43:24.835949Z"
    }
   },
   "outputs": [
    {
     "data": {
      "text/html": [
       "<div>\n",
       "<table border=\"1\" class=\"dataframe\">\n",
       "  <thead>\n",
       "    <tr style=\"text-align: right;\">\n",
       "      <th></th>\n",
       "      <th>0</th>\n",
       "      <th>1</th>\n",
       "      <th>2</th>\n",
       "    </tr>\n",
       "  </thead>\n",
       "  <tbody>\n",
       "    <tr>\n",
       "      <th>0</th>\n",
       "      <td>2274278</td>\n",
       "      <td>4605</td>\n",
       "      <td>0</td>\n",
       "    </tr>\n",
       "    <tr>\n",
       "      <th>1</th>\n",
       "      <td>98107</td>\n",
       "      <td>3977</td>\n",
       "      <td>0</td>\n",
       "    </tr>\n",
       "    <tr>\n",
       "      <th>2</th>\n",
       "      <td>22291</td>\n",
       "      <td>729</td>\n",
       "      <td>0</td>\n",
       "    </tr>\n",
       "  </tbody>\n",
       "</table>\n",
       "</div>"
      ],
      "text/plain": [
       "         0     1  2\n",
       "0  2274278  4605  0\n",
       "1  98107    3977  0\n",
       "2  22291    729   0"
      ]
     },
     "execution_count": 47,
     "metadata": {},
     "output_type": "execute_result"
    }
   ],
   "source": [
    "conmat = metrics.confusion_matrix(y_test, y_pred)\n",
    "conmat = pd.DataFrame(conmat)\n",
    "conmat"
   ]
  },
  {
   "cell_type": "code",
   "execution_count": 48,
   "metadata": {
    "ExecuteTime": {
     "end_time": "2017-05-08T09:43:28.666484Z",
     "start_time": "2017-05-08T09:43:28.659063Z"
    }
   },
   "outputs": [
    {
     "data": {
      "text/plain": [
       "array([[  3.77321042e-05,   2.17231953e-01,   4.66619842e-02,\n",
       "         -2.99629880e-01,   2.21342494e-02],\n",
       "       [ -2.55754181e-05,  -3.36383938e-02,  -3.35557628e-02,\n",
       "          3.44899466e-01,  -4.54207602e-03],\n",
       "       [  3.17941968e-06,  -4.07620735e-01,  -9.42211357e-03,\n",
       "          2.70641149e-01,   2.25640830e-03]])"
      ]
     },
     "execution_count": 48,
     "metadata": {},
     "output_type": "execute_result"
    }
   ],
   "source": [
    "logreg2.coef_"
   ]
  },
  {
   "cell_type": "code",
   "execution_count": 49,
   "metadata": {
    "ExecuteTime": {
     "end_time": "2017-05-08T09:43:29.766667Z",
     "start_time": "2017-05-08T09:43:29.760852Z"
    },
    "collapsed": true
   },
   "outputs": [],
   "source": [
    "feat_imp2 = pd.DataFrame(logreg2.coef_.T)\n",
    "feat_imp2[\"features\"] = X_train.columns"
   ]
  },
  {
   "cell_type": "code",
   "execution_count": 50,
   "metadata": {
    "ExecuteTime": {
     "end_time": "2017-05-08T09:43:30.846877Z",
     "start_time": "2017-05-08T09:43:30.834030Z"
    }
   },
   "outputs": [
    {
     "data": {
      "text/html": [
       "<div>\n",
       "<table border=\"1\" class=\"dataframe\">\n",
       "  <thead>\n",
       "    <tr style=\"text-align: right;\">\n",
       "      <th></th>\n",
       "      <th>0</th>\n",
       "      <th>1</th>\n",
       "      <th>2</th>\n",
       "      <th>features</th>\n",
       "    </tr>\n",
       "  </thead>\n",
       "  <tbody>\n",
       "    <tr>\n",
       "      <th>0</th>\n",
       "      <td>0.000038</td>\n",
       "      <td>-0.000026</td>\n",
       "      <td>0.000003</td>\n",
       "      <td>loan_amnt</td>\n",
       "    </tr>\n",
       "    <tr>\n",
       "      <th>1</th>\n",
       "      <td>0.217232</td>\n",
       "      <td>-0.033638</td>\n",
       "      <td>-0.407621</td>\n",
       "      <td>purpose</td>\n",
       "    </tr>\n",
       "    <tr>\n",
       "      <th>2</th>\n",
       "      <td>0.046662</td>\n",
       "      <td>-0.033556</td>\n",
       "      <td>-0.009422</td>\n",
       "      <td>dti</td>\n",
       "    </tr>\n",
       "    <tr>\n",
       "      <th>3</th>\n",
       "      <td>-0.299630</td>\n",
       "      <td>0.344899</td>\n",
       "      <td>0.270641</td>\n",
       "      <td>emp_length</td>\n",
       "    </tr>\n",
       "    <tr>\n",
       "      <th>4</th>\n",
       "      <td>0.022134</td>\n",
       "      <td>-0.004542</td>\n",
       "      <td>0.002256</td>\n",
       "      <td>state</td>\n",
       "    </tr>\n",
       "  </tbody>\n",
       "</table>\n",
       "</div>"
      ],
      "text/plain": [
       "          0         1         2    features\n",
       "0  0.000038 -0.000026  0.000003  loan_amnt \n",
       "1  0.217232 -0.033638 -0.407621  purpose   \n",
       "2  0.046662 -0.033556 -0.009422  dti       \n",
       "3 -0.299630  0.344899  0.270641  emp_length\n",
       "4  0.022134 -0.004542  0.002256  state     "
      ]
     },
     "execution_count": 50,
     "metadata": {},
     "output_type": "execute_result"
    }
   ],
   "source": [
    "feat_imp2"
   ]
  },
  {
   "cell_type": "markdown",
   "metadata": {},
   "source": [
    "## - Biggest factors:\n",
    "    - Employment length\n",
    "    - Purpose"
   ]
  },
  {
   "cell_type": "markdown",
   "metadata": {},
   "source": [
    "# Dummies "
   ]
  },
  {
   "cell_type": "code",
   "execution_count": 51,
   "metadata": {
    "ExecuteTime": {
     "end_time": "2017-05-08T10:01:16.922228Z",
     "start_time": "2017-05-08T10:01:10.654706Z"
    },
    "collapsed": true
   },
   "outputs": [],
   "source": [
    "with open(\"application_data.pkl\", \"rb\") as f:\n",
    "    purpose_df = pickle.load(f)"
   ]
  },
  {
   "cell_type": "code",
   "execution_count": 52,
   "metadata": {
    "ExecuteTime": {
     "end_time": "2017-05-08T10:01:16.942152Z",
     "start_time": "2017-05-08T10:01:16.924167Z"
    }
   },
   "outputs": [
    {
     "data": {
      "text/html": [
       "<div>\n",
       "<table border=\"1\" class=\"dataframe\">\n",
       "  <thead>\n",
       "    <tr style=\"text-align: right;\">\n",
       "      <th></th>\n",
       "      <th>loan_amnt</th>\n",
       "      <th>purpose</th>\n",
       "      <th>dti</th>\n",
       "      <th>zip_code</th>\n",
       "      <th>addr_state</th>\n",
       "      <th>emp_length</th>\n",
       "      <th>policy_code</th>\n",
       "    </tr>\n",
       "  </thead>\n",
       "  <tbody>\n",
       "    <tr>\n",
       "      <th>0</th>\n",
       "      <td>5000.0</td>\n",
       "      <td>credit_card</td>\n",
       "      <td>27.65</td>\n",
       "      <td>860.0</td>\n",
       "      <td>AZ</td>\n",
       "      <td>10+ years</td>\n",
       "      <td>1.0</td>\n",
       "    </tr>\n",
       "    <tr>\n",
       "      <th>1</th>\n",
       "      <td>2500.0</td>\n",
       "      <td>car</td>\n",
       "      <td>1.00</td>\n",
       "      <td>309.0</td>\n",
       "      <td>GA</td>\n",
       "      <td>&lt; 1 year</td>\n",
       "      <td>1.0</td>\n",
       "    </tr>\n",
       "    <tr>\n",
       "      <th>2</th>\n",
       "      <td>2400.0</td>\n",
       "      <td>business</td>\n",
       "      <td>8.72</td>\n",
       "      <td>606.0</td>\n",
       "      <td>IL</td>\n",
       "      <td>10+ years</td>\n",
       "      <td>1.0</td>\n",
       "    </tr>\n",
       "    <tr>\n",
       "      <th>3</th>\n",
       "      <td>10000.0</td>\n",
       "      <td>other</td>\n",
       "      <td>20.00</td>\n",
       "      <td>917.0</td>\n",
       "      <td>CA</td>\n",
       "      <td>10+ years</td>\n",
       "      <td>1.0</td>\n",
       "    </tr>\n",
       "    <tr>\n",
       "      <th>4</th>\n",
       "      <td>3000.0</td>\n",
       "      <td>other</td>\n",
       "      <td>17.94</td>\n",
       "      <td>972.0</td>\n",
       "      <td>OR</td>\n",
       "      <td>1 year</td>\n",
       "      <td>1.0</td>\n",
       "    </tr>\n",
       "  </tbody>\n",
       "</table>\n",
       "</div>"
      ],
      "text/plain": [
       "   loan_amnt      purpose    dti  zip_code addr_state emp_length  policy_code\n",
       "0  5000.0     credit_card  27.65  860.0     AZ         10+ years  1.0        \n",
       "1  2500.0     car          1.00   309.0     GA         < 1 year   1.0        \n",
       "2  2400.0     business     8.72   606.0     IL         10+ years  1.0        \n",
       "3  10000.0    other        20.00  917.0     CA         10+ years  1.0        \n",
       "4  3000.0     other        17.94  972.0     OR         1 year     1.0        "
      ]
     },
     "execution_count": 52,
     "metadata": {},
     "output_type": "execute_result"
    }
   ],
   "source": [
    "purpose_df.head()"
   ]
  },
  {
   "cell_type": "code",
   "execution_count": 53,
   "metadata": {
    "ExecuteTime": {
     "end_time": "2017-05-08T10:01:18.107179Z",
     "start_time": "2017-05-08T10:01:18.103479Z"
    },
    "collapsed": true
   },
   "outputs": [],
   "source": [
    "state_encoder = preprocessing.LabelEncoder()"
   ]
  },
  {
   "cell_type": "code",
   "execution_count": 54,
   "metadata": {
    "ExecuteTime": {
     "end_time": "2017-05-08T10:01:34.001058Z",
     "start_time": "2017-05-08T10:01:18.839645Z"
    },
    "collapsed": true
   },
   "outputs": [],
   "source": [
    "purpose_df[\"state\"] = state_encoder.fit_transform(purpose_df.addr_state)"
   ]
  },
  {
   "cell_type": "code",
   "execution_count": 55,
   "metadata": {
    "ExecuteTime": {
     "end_time": "2017-05-08T10:01:35.609566Z",
     "start_time": "2017-05-08T10:01:35.043726Z"
    }
   },
   "outputs": [
    {
     "data": {
      "text/plain": [
       "array(['10+ years', '< 1 year', '1 year', '3 years', '8 years', '9 years',\n",
       "       '4 years', '5 years', '6 years', '2 years', '7 years'], dtype=object)"
      ]
     },
     "execution_count": 55,
     "metadata": {},
     "output_type": "execute_result"
    }
   ],
   "source": [
    "purpose_df.emp_length.unique()"
   ]
  },
  {
   "cell_type": "code",
   "execution_count": 58,
   "metadata": {
    "ExecuteTime": {
     "end_time": "2017-05-08T10:01:53.997183Z",
     "start_time": "2017-05-08T10:01:50.089706Z"
    }
   },
   "outputs": [],
   "source": [
    "purpose_df[\"emp_length\"] = purpose_df.emp_length.apply(emp_encoder)"
   ]
  },
  {
   "cell_type": "code",
   "execution_count": 59,
   "metadata": {
    "ExecuteTime": {
     "end_time": "2017-05-08T10:01:58.956745Z",
     "start_time": "2017-05-08T10:01:58.890368Z"
    },
    "collapsed": true
   },
   "outputs": [],
   "source": [
    "del purpose_df[\"addr_state\"]"
   ]
  },
  {
   "cell_type": "code",
   "execution_count": 60,
   "metadata": {
    "ExecuteTime": {
     "end_time": "2017-05-08T10:01:59.964920Z",
     "start_time": "2017-05-08T10:01:59.946769Z"
    }
   },
   "outputs": [
    {
     "data": {
      "text/html": [
       "<div>\n",
       "<table border=\"1\" class=\"dataframe\">\n",
       "  <thead>\n",
       "    <tr style=\"text-align: right;\">\n",
       "      <th></th>\n",
       "      <th>loan_amnt</th>\n",
       "      <th>purpose</th>\n",
       "      <th>dti</th>\n",
       "      <th>zip_code</th>\n",
       "      <th>emp_length</th>\n",
       "      <th>policy_code</th>\n",
       "      <th>state</th>\n",
       "    </tr>\n",
       "  </thead>\n",
       "  <tbody>\n",
       "    <tr>\n",
       "      <th>0</th>\n",
       "      <td>5000.0</td>\n",
       "      <td>credit_card</td>\n",
       "      <td>27.65</td>\n",
       "      <td>860.0</td>\n",
       "      <td>10</td>\n",
       "      <td>1.0</td>\n",
       "      <td>3</td>\n",
       "    </tr>\n",
       "    <tr>\n",
       "      <th>1</th>\n",
       "      <td>2500.0</td>\n",
       "      <td>car</td>\n",
       "      <td>1.00</td>\n",
       "      <td>309.0</td>\n",
       "      <td>0</td>\n",
       "      <td>1.0</td>\n",
       "      <td>10</td>\n",
       "    </tr>\n",
       "    <tr>\n",
       "      <th>2</th>\n",
       "      <td>2400.0</td>\n",
       "      <td>business</td>\n",
       "      <td>8.72</td>\n",
       "      <td>606.0</td>\n",
       "      <td>10</td>\n",
       "      <td>1.0</td>\n",
       "      <td>14</td>\n",
       "    </tr>\n",
       "    <tr>\n",
       "      <th>3</th>\n",
       "      <td>10000.0</td>\n",
       "      <td>other</td>\n",
       "      <td>20.00</td>\n",
       "      <td>917.0</td>\n",
       "      <td>10</td>\n",
       "      <td>1.0</td>\n",
       "      <td>4</td>\n",
       "    </tr>\n",
       "    <tr>\n",
       "      <th>4</th>\n",
       "      <td>3000.0</td>\n",
       "      <td>other</td>\n",
       "      <td>17.94</td>\n",
       "      <td>972.0</td>\n",
       "      <td>1</td>\n",
       "      <td>1.0</td>\n",
       "      <td>37</td>\n",
       "    </tr>\n",
       "  </tbody>\n",
       "</table>\n",
       "</div>"
      ],
      "text/plain": [
       "   loan_amnt      purpose    dti  zip_code  emp_length  policy_code  state\n",
       "0  5000.0     credit_card  27.65  860.0     10          1.0          3    \n",
       "1  2500.0     car          1.00   309.0     0           1.0          10   \n",
       "2  2400.0     business     8.72   606.0     10          1.0          14   \n",
       "3  10000.0    other        20.00  917.0     10          1.0          4    \n",
       "4  3000.0     other        17.94  972.0     1           1.0          37   "
      ]
     },
     "execution_count": 60,
     "metadata": {},
     "output_type": "execute_result"
    }
   ],
   "source": [
    "purpose_df.head()"
   ]
  },
  {
   "cell_type": "code",
   "execution_count": 61,
   "metadata": {
    "ExecuteTime": {
     "end_time": "2017-05-08T10:02:02.874023Z",
     "start_time": "2017-05-08T10:02:01.664513Z"
    },
    "collapsed": true
   },
   "outputs": [],
   "source": [
    "purpose_df = pd.get_dummies(purpose_df)"
   ]
  },
  {
   "cell_type": "code",
   "execution_count": 62,
   "metadata": {
    "ExecuteTime": {
     "end_time": "2017-05-08T10:02:16.726796Z",
     "start_time": "2017-05-08T10:02:08.393565Z"
    },
    "collapsed": true
   },
   "outputs": [],
   "source": [
    "with open(\"purpose_dummies.pkl\", \"wb\") as f:\n",
    "    pickle.dump(purpose_df, f)"
   ]
  },
  {
   "cell_type": "code",
   "execution_count": 63,
   "metadata": {
    "ExecuteTime": {
     "end_time": "2017-05-08T10:02:24.205383Z",
     "start_time": "2017-05-08T10:02:23.650385Z"
    },
    "collapsed": true
   },
   "outputs": [],
   "source": [
    "with open(\"purpose_dummies.pkl\", \"rb\") as f:\n",
    "    purpose_dummies = pickle.load(f)"
   ]
  },
  {
   "cell_type": "code",
   "execution_count": 64,
   "metadata": {
    "ExecuteTime": {
     "end_time": "2017-05-08T10:02:25.022700Z",
     "start_time": "2017-05-08T10:02:24.996114Z"
    }
   },
   "outputs": [
    {
     "data": {
      "text/html": [
       "<div>\n",
       "<table border=\"1\" class=\"dataframe\">\n",
       "  <thead>\n",
       "    <tr style=\"text-align: right;\">\n",
       "      <th></th>\n",
       "      <th>loan_amnt</th>\n",
       "      <th>dti</th>\n",
       "      <th>zip_code</th>\n",
       "      <th>emp_length</th>\n",
       "      <th>policy_code</th>\n",
       "      <th>state</th>\n",
       "      <th>purpose_business</th>\n",
       "      <th>purpose_car</th>\n",
       "      <th>purpose_credit_card</th>\n",
       "      <th>purpose_debt_consolidation</th>\n",
       "      <th>purpose_home_improvement</th>\n",
       "      <th>purpose_house_purchase</th>\n",
       "      <th>purpose_major_purchase</th>\n",
       "      <th>purpose_medical</th>\n",
       "      <th>purpose_moving</th>\n",
       "      <th>purpose_other</th>\n",
       "      <th>purpose_renewable_energy</th>\n",
       "    </tr>\n",
       "  </thead>\n",
       "  <tbody>\n",
       "    <tr>\n",
       "      <th>0</th>\n",
       "      <td>5000.0</td>\n",
       "      <td>27.65</td>\n",
       "      <td>860.0</td>\n",
       "      <td>10</td>\n",
       "      <td>1.0</td>\n",
       "      <td>3</td>\n",
       "      <td>0</td>\n",
       "      <td>0</td>\n",
       "      <td>1</td>\n",
       "      <td>0</td>\n",
       "      <td>0</td>\n",
       "      <td>0</td>\n",
       "      <td>0</td>\n",
       "      <td>0</td>\n",
       "      <td>0</td>\n",
       "      <td>0</td>\n",
       "      <td>0</td>\n",
       "    </tr>\n",
       "    <tr>\n",
       "      <th>1</th>\n",
       "      <td>2500.0</td>\n",
       "      <td>1.00</td>\n",
       "      <td>309.0</td>\n",
       "      <td>0</td>\n",
       "      <td>1.0</td>\n",
       "      <td>10</td>\n",
       "      <td>0</td>\n",
       "      <td>1</td>\n",
       "      <td>0</td>\n",
       "      <td>0</td>\n",
       "      <td>0</td>\n",
       "      <td>0</td>\n",
       "      <td>0</td>\n",
       "      <td>0</td>\n",
       "      <td>0</td>\n",
       "      <td>0</td>\n",
       "      <td>0</td>\n",
       "    </tr>\n",
       "    <tr>\n",
       "      <th>2</th>\n",
       "      <td>2400.0</td>\n",
       "      <td>8.72</td>\n",
       "      <td>606.0</td>\n",
       "      <td>10</td>\n",
       "      <td>1.0</td>\n",
       "      <td>14</td>\n",
       "      <td>1</td>\n",
       "      <td>0</td>\n",
       "      <td>0</td>\n",
       "      <td>0</td>\n",
       "      <td>0</td>\n",
       "      <td>0</td>\n",
       "      <td>0</td>\n",
       "      <td>0</td>\n",
       "      <td>0</td>\n",
       "      <td>0</td>\n",
       "      <td>0</td>\n",
       "    </tr>\n",
       "    <tr>\n",
       "      <th>3</th>\n",
       "      <td>10000.0</td>\n",
       "      <td>20.00</td>\n",
       "      <td>917.0</td>\n",
       "      <td>10</td>\n",
       "      <td>1.0</td>\n",
       "      <td>4</td>\n",
       "      <td>0</td>\n",
       "      <td>0</td>\n",
       "      <td>0</td>\n",
       "      <td>0</td>\n",
       "      <td>0</td>\n",
       "      <td>0</td>\n",
       "      <td>0</td>\n",
       "      <td>0</td>\n",
       "      <td>0</td>\n",
       "      <td>1</td>\n",
       "      <td>0</td>\n",
       "    </tr>\n",
       "    <tr>\n",
       "      <th>4</th>\n",
       "      <td>3000.0</td>\n",
       "      <td>17.94</td>\n",
       "      <td>972.0</td>\n",
       "      <td>1</td>\n",
       "      <td>1.0</td>\n",
       "      <td>37</td>\n",
       "      <td>0</td>\n",
       "      <td>0</td>\n",
       "      <td>0</td>\n",
       "      <td>0</td>\n",
       "      <td>0</td>\n",
       "      <td>0</td>\n",
       "      <td>0</td>\n",
       "      <td>0</td>\n",
       "      <td>0</td>\n",
       "      <td>1</td>\n",
       "      <td>0</td>\n",
       "    </tr>\n",
       "  </tbody>\n",
       "</table>\n",
       "</div>"
      ],
      "text/plain": [
       "   loan_amnt    dti  zip_code  emp_length  policy_code  state  \\\n",
       "0  5000.0     27.65  860.0     10          1.0          3       \n",
       "1  2500.0     1.00   309.0     0           1.0          10      \n",
       "2  2400.0     8.72   606.0     10          1.0          14      \n",
       "3  10000.0    20.00  917.0     10          1.0          4       \n",
       "4  3000.0     17.94  972.0     1           1.0          37      \n",
       "\n",
       "   purpose_business  purpose_car  purpose_credit_card  \\\n",
       "0  0                 0            1                     \n",
       "1  0                 1            0                     \n",
       "2  1                 0            0                     \n",
       "3  0                 0            0                     \n",
       "4  0                 0            0                     \n",
       "\n",
       "   purpose_debt_consolidation  purpose_home_improvement  \\\n",
       "0  0                           0                          \n",
       "1  0                           0                          \n",
       "2  0                           0                          \n",
       "3  0                           0                          \n",
       "4  0                           0                          \n",
       "\n",
       "   purpose_house_purchase  purpose_major_purchase  purpose_medical  \\\n",
       "0  0                       0                       0                 \n",
       "1  0                       0                       0                 \n",
       "2  0                       0                       0                 \n",
       "3  0                       0                       0                 \n",
       "4  0                       0                       0                 \n",
       "\n",
       "   purpose_moving  purpose_other  purpose_renewable_energy  \n",
       "0  0               0              0                         \n",
       "1  0               0              0                         \n",
       "2  0               0              0                         \n",
       "3  0               1              0                         \n",
       "4  0               1              0                         "
      ]
     },
     "execution_count": 64,
     "metadata": {},
     "output_type": "execute_result"
    }
   ],
   "source": [
    "purpose_dummies.head()"
   ]
  },
  {
   "cell_type": "code",
   "execution_count": 69,
   "metadata": {
    "ExecuteTime": {
     "end_time": "2017-05-08T10:09:07.462999Z",
     "start_time": "2017-05-08T10:09:07.132770Z"
    },
    "collapsed": true
   },
   "outputs": [],
   "source": [
    "X = purpose_dummies[[i for i in purpose_dummies.columns if \"policy\" not in i]]\n",
    "y = purpose_dummies[\"policy_code\"]\n",
    "del X['purpose_other']"
   ]
  },
  {
   "cell_type": "code",
   "execution_count": 70,
   "metadata": {
    "ExecuteTime": {
     "end_time": "2017-05-08T10:09:19.692619Z",
     "start_time": "2017-05-08T10:09:08.170527Z"
    },
    "collapsed": true
   },
   "outputs": [],
   "source": [
    "X_train, X_test, y_train, y_test = model_selection.train_test_split(X, y, stratify=y, test_size=0.3)"
   ]
  },
  {
   "cell_type": "code",
   "execution_count": 71,
   "metadata": {
    "ExecuteTime": {
     "end_time": "2017-05-08T10:09:21.731938Z",
     "start_time": "2017-05-08T10:09:21.728140Z"
    },
    "collapsed": true
   },
   "outputs": [],
   "source": [
    "logreg_dummies = linear_model.LogisticRegressionCV(cv=3)"
   ]
  },
  {
   "cell_type": "code",
   "execution_count": 72,
   "metadata": {
    "ExecuteTime": {
     "end_time": "2017-05-08T10:20:18.094576Z",
     "start_time": "2017-05-08T10:09:23.729351Z"
    }
   },
   "outputs": [
    {
     "data": {
      "text/plain": [
       "LogisticRegressionCV(Cs=10, class_weight=None, cv=3, dual=False,\n",
       "           fit_intercept=True, intercept_scaling=1.0, max_iter=100,\n",
       "           multi_class='ovr', n_jobs=1, penalty='l2', random_state=None,\n",
       "           refit=True, scoring=None, solver='lbfgs', tol=0.0001, verbose=0)"
      ]
     },
     "execution_count": 72,
     "metadata": {},
     "output_type": "execute_result"
    }
   ],
   "source": [
    "logreg_dummies.fit(X_train, y_train)"
   ]
  },
  {
   "cell_type": "code",
   "execution_count": 73,
   "metadata": {
    "ExecuteTime": {
     "end_time": "2017-05-08T10:20:37.410715Z",
     "start_time": "2017-05-08T10:20:37.030872Z"
    },
    "collapsed": true
   },
   "outputs": [],
   "source": [
    "y_dummies_pred = logreg_dummies.predict(X_test)"
   ]
  },
  {
   "cell_type": "code",
   "execution_count": 74,
   "metadata": {
    "ExecuteTime": {
     "end_time": "2017-05-08T10:20:39.312261Z",
     "start_time": "2017-05-08T10:20:37.943135Z"
    }
   },
   "outputs": [
    {
     "name": "stdout",
     "output_type": "stream",
     "text": [
      "             precision    recall  f1-score   support\n",
      "\n",
      "        0.0       0.95      1.00      0.97   2278883\n",
      "        1.0       0.48      0.04      0.07    102084\n",
      "        2.0       0.00      0.00      0.00     23020\n",
      "\n",
      "avg / total       0.92      0.95      0.93   2403987\n",
      "\n"
     ]
    },
    {
     "name": "stderr",
     "output_type": "stream",
     "text": [
      "/Users/joce/anaconda/lib/python3.6/site-packages/sklearn/metrics/classification.py:1113: UndefinedMetricWarning: Precision and F-score are ill-defined and being set to 0.0 in labels with no predicted samples.\n",
      "  'precision', 'predicted', average, warn_for)\n"
     ]
    }
   ],
   "source": [
    "print(metrics.classification_report(y_test, y_dummies_pred))"
   ]
  },
  {
   "cell_type": "code",
   "execution_count": 75,
   "metadata": {
    "ExecuteTime": {
     "end_time": "2017-05-08T10:20:40.383988Z",
     "start_time": "2017-05-08T10:20:40.376324Z"
    }
   },
   "outputs": [
    {
     "data": {
      "text/plain": [
       "array([[  2.00439855e-05,   3.51768406e-02,   8.08107374e-04,\n",
       "         -3.16407306e-01,   1.91219343e-02,  -4.39892690e-02,\n",
       "          2.41503777e-01,   8.56274615e-02,   1.98149664e-01,\n",
       "          9.86936864e-02,   9.81672925e-02,   9.93888999e-02,\n",
       "          1.47412474e-01,   1.91507262e-01,   1.77839419e-02],\n",
       "       [ -3.26833751e-05,  -3.94046568e-02,  -7.06598699e-04,\n",
       "          3.17051463e-01,  -1.77975643e-02,  -2.47694963e-02,\n",
       "         -2.71163652e-01,  -1.97641993e-01,  -1.18072135e-02,\n",
       "         -6.67680295e-02,  -1.05468542e-01,  -6.21443961e-02,\n",
       "         -1.89627671e-01,  -2.38236178e-01,  -2.13709221e-02],\n",
       "       [ -1.05967929e-05,  -3.93125284e-02,  -2.98577598e-03,\n",
       "          1.58739612e-01,  -6.51009335e-02,   4.99902721e-02,\n",
       "         -1.18407966e-01,   7.06719959e-02,  -3.34513859e-01,\n",
       "         -1.08044496e-01,  -4.91742011e-02,  -1.06807582e-01,\n",
       "         -6.40657722e-02,  -7.97436229e-02,  -9.83167460e-03]])"
      ]
     },
     "execution_count": 75,
     "metadata": {},
     "output_type": "execute_result"
    }
   ],
   "source": [
    "logreg_dummies.coef_"
   ]
  },
  {
   "cell_type": "code",
   "execution_count": 76,
   "metadata": {
    "ExecuteTime": {
     "end_time": "2017-05-08T10:20:42.290023Z",
     "start_time": "2017-05-08T10:20:42.272768Z"
    },
    "scrolled": false
   },
   "outputs": [
    {
     "data": {
      "text/html": [
       "<div>\n",
       "<table border=\"1\" class=\"dataframe\">\n",
       "  <thead>\n",
       "    <tr style=\"text-align: right;\">\n",
       "      <th></th>\n",
       "      <th>0</th>\n",
       "      <th>1</th>\n",
       "      <th>2</th>\n",
       "      <th>features</th>\n",
       "    </tr>\n",
       "  </thead>\n",
       "  <tbody>\n",
       "    <tr>\n",
       "      <th>0</th>\n",
       "      <td>0.000020</td>\n",
       "      <td>-0.000033</td>\n",
       "      <td>-0.000011</td>\n",
       "      <td>loan_amnt</td>\n",
       "    </tr>\n",
       "    <tr>\n",
       "      <th>1</th>\n",
       "      <td>0.035177</td>\n",
       "      <td>-0.039405</td>\n",
       "      <td>-0.039313</td>\n",
       "      <td>dti</td>\n",
       "    </tr>\n",
       "    <tr>\n",
       "      <th>2</th>\n",
       "      <td>0.000808</td>\n",
       "      <td>-0.000707</td>\n",
       "      <td>-0.002986</td>\n",
       "      <td>zip_code</td>\n",
       "    </tr>\n",
       "    <tr>\n",
       "      <th>3</th>\n",
       "      <td>-0.316407</td>\n",
       "      <td>0.317051</td>\n",
       "      <td>0.158740</td>\n",
       "      <td>emp_length</td>\n",
       "    </tr>\n",
       "    <tr>\n",
       "      <th>4</th>\n",
       "      <td>0.019122</td>\n",
       "      <td>-0.017798</td>\n",
       "      <td>-0.065101</td>\n",
       "      <td>state</td>\n",
       "    </tr>\n",
       "    <tr>\n",
       "      <th>5</th>\n",
       "      <td>-0.043989</td>\n",
       "      <td>-0.024769</td>\n",
       "      <td>0.049990</td>\n",
       "      <td>purpose_business</td>\n",
       "    </tr>\n",
       "    <tr>\n",
       "      <th>6</th>\n",
       "      <td>0.241504</td>\n",
       "      <td>-0.271164</td>\n",
       "      <td>-0.118408</td>\n",
       "      <td>purpose_car</td>\n",
       "    </tr>\n",
       "    <tr>\n",
       "      <th>7</th>\n",
       "      <td>0.085627</td>\n",
       "      <td>-0.197642</td>\n",
       "      <td>0.070672</td>\n",
       "      <td>purpose_credit_card</td>\n",
       "    </tr>\n",
       "    <tr>\n",
       "      <th>8</th>\n",
       "      <td>0.198150</td>\n",
       "      <td>-0.011807</td>\n",
       "      <td>-0.334514</td>\n",
       "      <td>purpose_debt_consolidation</td>\n",
       "    </tr>\n",
       "    <tr>\n",
       "      <th>9</th>\n",
       "      <td>0.098694</td>\n",
       "      <td>-0.066768</td>\n",
       "      <td>-0.108044</td>\n",
       "      <td>purpose_home_improvement</td>\n",
       "    </tr>\n",
       "    <tr>\n",
       "      <th>10</th>\n",
       "      <td>0.098167</td>\n",
       "      <td>-0.105469</td>\n",
       "      <td>-0.049174</td>\n",
       "      <td>purpose_house_purchase</td>\n",
       "    </tr>\n",
       "    <tr>\n",
       "      <th>11</th>\n",
       "      <td>0.099389</td>\n",
       "      <td>-0.062144</td>\n",
       "      <td>-0.106808</td>\n",
       "      <td>purpose_major_purchase</td>\n",
       "    </tr>\n",
       "    <tr>\n",
       "      <th>12</th>\n",
       "      <td>0.147412</td>\n",
       "      <td>-0.189628</td>\n",
       "      <td>-0.064066</td>\n",
       "      <td>purpose_medical</td>\n",
       "    </tr>\n",
       "    <tr>\n",
       "      <th>13</th>\n",
       "      <td>0.191507</td>\n",
       "      <td>-0.238236</td>\n",
       "      <td>-0.079744</td>\n",
       "      <td>purpose_moving</td>\n",
       "    </tr>\n",
       "    <tr>\n",
       "      <th>14</th>\n",
       "      <td>0.017784</td>\n",
       "      <td>-0.021371</td>\n",
       "      <td>-0.009832</td>\n",
       "      <td>purpose_renewable_energy</td>\n",
       "    </tr>\n",
       "  </tbody>\n",
       "</table>\n",
       "</div>"
      ],
      "text/plain": [
       "           0         1         2                    features\n",
       "0   0.000020 -0.000033 -0.000011  loan_amnt                 \n",
       "1   0.035177 -0.039405 -0.039313  dti                       \n",
       "2   0.000808 -0.000707 -0.002986  zip_code                  \n",
       "3  -0.316407  0.317051  0.158740  emp_length                \n",
       "4   0.019122 -0.017798 -0.065101  state                     \n",
       "5  -0.043989 -0.024769  0.049990  purpose_business          \n",
       "6   0.241504 -0.271164 -0.118408  purpose_car               \n",
       "7   0.085627 -0.197642  0.070672  purpose_credit_card       \n",
       "8   0.198150 -0.011807 -0.334514  purpose_debt_consolidation\n",
       "9   0.098694 -0.066768 -0.108044  purpose_home_improvement  \n",
       "10  0.098167 -0.105469 -0.049174  purpose_house_purchase    \n",
       "11  0.099389 -0.062144 -0.106808  purpose_major_purchase    \n",
       "12  0.147412 -0.189628 -0.064066  purpose_medical           \n",
       "13  0.191507 -0.238236 -0.079744  purpose_moving            \n",
       "14  0.017784 -0.021371 -0.009832  purpose_renewable_energy  "
      ]
     },
     "execution_count": 76,
     "metadata": {},
     "output_type": "execute_result"
    }
   ],
   "source": [
    "feat_imp_d = pd.DataFrame(logreg_dummies.coef_.T)\n",
    "feat_imp_d[\"features\"] = X_train.columns\n",
    "feat_imp_d"
   ]
  },
  {
   "cell_type": "code",
   "execution_count": null,
   "metadata": {
    "collapsed": true
   },
   "outputs": [],
   "source": []
  }
 ],
 "metadata": {
  "kernelspec": {
   "display_name": "Python 3",
   "language": "python",
   "name": "python3"
  },
  "language_info": {
   "codemirror_mode": {
    "name": "ipython",
    "version": 3
   },
   "file_extension": ".py",
   "mimetype": "text/x-python",
   "name": "python",
   "nbconvert_exporter": "python",
   "pygments_lexer": "ipython3",
   "version": "3.6.1"
  },
  "toc": {
   "colors": {
    "hover_highlight": "#DAA520",
    "running_highlight": "#FF0000",
    "selected_highlight": "#FFD700"
   },
   "moveMenuLeft": true,
   "nav_menu": {
    "height": "84px",
    "width": "252px"
   },
   "navigate_menu": true,
   "number_sections": true,
   "sideBar": true,
   "threshold": 4,
   "toc_cell": false,
   "toc_section_display": "block",
   "toc_window_display": false,
   "widenNotebook": false
  }
 },
 "nbformat": 4,
 "nbformat_minor": 2
}
