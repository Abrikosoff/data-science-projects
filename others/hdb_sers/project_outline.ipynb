{
 "cells": [
  {
   "cell_type": "markdown",
   "metadata": {},
   "source": [
    "# Challenge"
   ]
  },
  {
   "cell_type": "markdown",
   "metadata": {},
   "source": [
    "The client - HDB - would like to understand sentiments around the policy announced via http://www.hdb.gov.sg/cs/infoweb/press-releases/corporate-pr-sers-03082016 from online and social media sources such as twitter, facebook, hardwarezone.com (e.g. HomeSeekers and HomeMakers). Prepare 1-2 powerpoint slides to describe the proposed approach and solution, as well as sample code (R/Python) to collect data from 1 online source and uncover sentiments"
   ]
  },
  {
   "cell_type": "markdown",
   "metadata": {},
   "source": [
    "# Work plan"
   ]
  },
  {
   "cell_type": "markdown",
   "metadata": {},
   "source": [
    "- What is the policy about?\n",
    "- Is there any social media/ forum activity on the topic?\n",
    "- How will we obtain the data from the selected social media platform?\n",
    "- What kind of data do we have available to us?\n",
    "- How will we perform sentiment analysis on our data?"
   ]
  },
  {
   "cell_type": "markdown",
   "metadata": {},
   "source": [
    "# Brief notes on the announcement"
   ]
  },
  {
   "cell_type": "code",
   "execution_count": 1,
   "metadata": {
    "ExecuteTime": {
     "end_time": "2017-06-10T01:48:43.875554Z",
     "start_time": "2017-06-10T01:48:42.394440Z"
    },
    "collapsed": true
   },
   "outputs": [],
   "source": [
    "import requests\n",
    "import urllib\n",
    "from bs4 import BeautifulSoup\n",
    "from selenium import webdriver"
   ]
  },
  {
   "cell_type": "code",
   "execution_count": 2,
   "metadata": {
    "ExecuteTime": {
     "end_time": "2017-06-10T01:48:44.393915Z",
     "start_time": "2017-06-10T01:48:43.877747Z"
    },
    "collapsed": true
   },
   "outputs": [],
   "source": [
    "r = requests.get(\"http://www.hdb.gov.sg/cs/infoweb/press-releases/corporate-pr-sers-03082016\")"
   ]
  },
  {
   "cell_type": "code",
   "execution_count": 4,
   "metadata": {
    "ExecuteTime": {
     "end_time": "2017-06-10T01:48:44.678830Z",
     "start_time": "2017-06-10T01:48:44.418130Z"
    },
    "collapsed": true
   },
   "outputs": [],
   "source": [
    "soup = BeautifulSoup(r.content, \"lxml\")"
   ]
  },
  {
   "cell_type": "markdown",
   "metadata": {},
   "source": [
    "## Article Text"
   ]
  },
  {
   "cell_type": "code",
   "execution_count": 5,
   "metadata": {
    "ExecuteTime": {
     "end_time": "2017-06-10T01:48:44.723600Z",
     "start_time": "2017-06-10T01:48:44.680764Z"
    }
   },
   "outputs": [
    {
     "data": {
      "text/plain": [
       "'New Site Identified for Selective En bloc Redevelopment Scheme'"
      ]
     },
     "execution_count": 5,
     "metadata": {},
     "output_type": "execute_result"
    }
   ],
   "source": [
    "soup.find(\"section\", class_=\"header-banner\").text.strip()"
   ]
  },
  {
   "cell_type": "code",
   "execution_count": 6,
   "metadata": {
    "ExecuteTime": {
     "end_time": "2017-06-10T01:48:44.784385Z",
     "start_time": "2017-06-10T01:48:44.726575Z"
    }
   },
   "outputs": [
    {
     "name": "stdout",
     "output_type": "stream",
     "text": [
      "           The Government has identified Blocks 513 to 520 West Coast Road for the Selective En bloc Redevelopment Scheme (SERS). This is the 80th site to benefit from SERS since its introduction in 1995. SERS is offered on a highly selective basis and only applicable to sold blocks located in sites with good redevelopment potential.\n",
      " \n",
      "2          Blocks 513 to 520 West Coast Road comprise 994 sold flats, which are about 37 years old (see Annex A for the property profile).  SERS offers the residents of these blocks a unique opportunity to move to new flats on fresh 99-year leases, sited in a location served by a comprehensive range of facilities. The implementation plan and rehousing benefits package for the flat owners are in Annex B and Annex C.\n",
      " \n",
      " \n",
      "3          HDB will build new flats – ranging from 2-room Flexi to Three-Generation (3Gen) flats – at two sites at Clementi Avenue 1 and West Coast Link, as replacement flats for the residents. These new flats are estimated to be completed in 3rd Quarter 2022.  More details on the location map, perspectives and description of the new replacement flats can be found in Annex D-D2. \n",
      " \n",
      "4          The replacement flats are conveniently located near amenities such as the Clementi MRT Station and Bus Interchange. Facilities such as the Clementi Mall, Clementi market cum food centre, West Coast Plaza, West Coast Market Square, West Coast Community Centre, as well as other shops and eateries are also available nearby.  In addition, residents can enjoy sports and recreational activities in the town, such as Clementi Sports Hall and Swimming Complex, West Coast Park and Clementi Woods Park. \n",
      " \n",
      " \n",
      "5          The SERS plan will also involve two sold shops and an eating house at Block 516, as well as 12 sold shops at Block 517. The owners of these commercial properties will be given compensation based on the market value of their units at the time of the SERS announcement. They may opt to buy a new unit on a 30-year lease or rent the new unit. The selling prices of the new units will be fixed at market value as at the time of the SERS announcement, while the rents will be based on the prevailing market rents at the time of letting. Those who choose not to take up a new unit will receive an ex-gratia payment pegged at 10 per cent of the market value of the existing unit.\n",
      " \n",
      " \n",
      "6          HDB will inform all SERS flat owners and commercial property owners individually of these plans.They will also be invited to a SERS exhibition which will be held from 6 to 11 August 2016 (closed on 9 August 2016) as follows:\n",
      " \n",
      "Void deck of Block 518\r\n",
      "\t\t\tWest Coast Road and\r\n",
      "\t\t\tadjacent hard court\n",
      "Note:   * Entry to exhibition on 6 August 2016 (Saturday) and 7 August 2016 (Sunday) is by invitation only when guided tours will be conducted.\n",
      " \n",
      "7          For further information, SERS flat owners and commercial property owners can call the following enquiry lines:\n",
      " \n",
      "1800-866 3070 (for sold flats)\n",
      "1800-866 3073 (for commercial properties)\n",
      " \n",
      " \n",
      " \n",
      " \n"
     ]
    }
   ],
   "source": [
    "for i in soup.findAll(\"section\", class_=\"listing\"):\n",
    "    for j in i.findAll(\"p\"):\n",
    "        print(j.text)"
   ]
  },
  {
   "cell_type": "markdown",
   "metadata": {},
   "source": [
    "## Main points"
   ]
  },
  {
   "cell_type": "markdown",
   "metadata": {},
   "source": [
    "- Selective En bloc Redevelopment Scheme\n",
    "- Current owners of the selected blocks will have a chance to move to replacement site(s) with fresh 99-year lease(s)\n",
    "- If they choose not to take up a new unit, they will receive an ex-gratia payment of 10% of the market value of the existing unit"
   ]
  },
  {
   "cell_type": "markdown",
   "metadata": {},
   "source": [
    "# Social media/ forum activity"
   ]
  },
  {
   "cell_type": "markdown",
   "metadata": {},
   "source": [
    "- Twitter\n",
    "- Facebook\n",
    "- HardwareZone"
   ]
  },
  {
   "cell_type": "markdown",
   "metadata": {},
   "source": [
    "# Obtaining data"
   ]
  },
  {
   "cell_type": "markdown",
   "metadata": {},
   "source": [
    "- Twitter API/ tweepy\n",
    "- Facebook Graph API\n",
    "- Web scraping"
   ]
  },
  {
   "cell_type": "markdown",
   "metadata": {},
   "source": [
    "# Data available"
   ]
  },
  {
   "cell_type": "markdown",
   "metadata": {},
   "source": [
    "- Text\n",
    "- Facebook reactions"
   ]
  },
  {
   "cell_type": "markdown",
   "metadata": {},
   "source": [
    "# Sentiment analysis"
   ]
  },
  {
   "cell_type": "markdown",
   "metadata": {},
   "source": [
    "- Do 'Like's always equate to positive sentiments?\n",
    "- Text\n",
    "    - NLTK\n",
    "    - SpaCy\n",
    "    - TextBlob"
   ]
  },
  {
   "cell_type": "markdown",
   "metadata": {},
   "source": [
    "# Risks and assumptions"
   ]
  },
  {
   "cell_type": "markdown",
   "metadata": {},
   "source": [
    "- Is data actually available?\n",
    "    - A brief search of the news article/ policy brings up minimal/ no online activity\n",
    "    - Most of the online activity relate to posting/ reposting of the news article\n",
    "- Are we looking in the right places for data?\n",
    "    - Who is affected by the policy?\n",
    "    - Is that group of people active online?\n",
    "- Is there enough data?\n",
    "    - How many people are affected by the announcement?"
   ]
  }
 ],
 "metadata": {
  "kernelspec": {
   "display_name": "Python [conda root]",
   "language": "python",
   "name": "conda-root-py"
  },
  "language_info": {
   "codemirror_mode": {
    "name": "ipython",
    "version": 3
   },
   "file_extension": ".py",
   "mimetype": "text/x-python",
   "name": "python",
   "nbconvert_exporter": "python",
   "pygments_lexer": "ipython3",
   "version": "3.6.1"
  },
  "toc": {
   "colors": {
    "hover_highlight": "#DAA520",
    "running_highlight": "#FF0000",
    "selected_highlight": "#FFD700"
   },
   "moveMenuLeft": true,
   "nav_menu": {
    "height": "174px",
    "width": "252px"
   },
   "navigate_menu": true,
   "number_sections": true,
   "sideBar": true,
   "threshold": 4,
   "toc_cell": false,
   "toc_section_display": "block",
   "toc_window_display": false,
   "widenNotebook": false
  }
 },
 "nbformat": 4,
 "nbformat_minor": 2
}
